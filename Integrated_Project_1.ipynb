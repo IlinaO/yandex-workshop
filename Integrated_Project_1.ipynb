{
  "cells": [
    {
      "cell_type": "markdown",
      "source": [
        "**Описание проекта**\n",
        "\n",
        "Вы работаете в интернет-магазине «Стримчик», который продаёт по всему миру компьютерные игры. Из открытых источников доступны исторические данные о продажах игр, оценки пользователей и экспертов, жанры и платформы (например, Xbox или PlayStation). Вам нужно выявить определяющие успешность игры закономерности. Это позволит сделать ставку на потенциально популярный продукт и спланировать рекламные кампании.\n",
        "\n",
        "Перед вами данные до 2016 года. Представим, что сейчас декабрь 2016 г., и вы планируете кампанию на 2017-й. Нужно отработать принцип работы с данными. Неважно, прогнозируете ли вы продажи на 2017 год по данным 2016-го или же 2027-й — по данным 2026 года.\n",
        "\n",
        "В наборе данных попадается аббревиатура ESRB (Entertainment Software Rating Board) — это ассоциация, определяющая возрастной рейтинг компьютерных игр. ESRB оценивает игровой контент и присваивает ему подходящую возрастную категорию, например, «Для взрослых», «Для детей младшего возраста» или «Для подростков»."
      ],
      "metadata": {
        "id": "VBLtHQER_8Ge"
      }
    },
    {
      "cell_type": "markdown",
      "source": [
        "Описание данных\n",
        "\n",
        "  * Name — название игры\n",
        "  * Platform — платформа\n",
        "  * Year_of_Release — год выпуска\n",
        "  * Genre — жанр игры\n",
        "  * NA_sales — продажи в Северной Америке (миллионы проданных копий)\n",
        "  * EU_sales — продажи в Европе (миллионы проданных копий)\n",
        "  * JP_sales — продажи в Японии (миллионы проданных копий)\n",
        "  * Other_sales — продажи в других странах (миллионы проданных копий)\n",
        "  * Critic_Score — оценка критиков (максимум 100)\n",
        "  * User_Score — оценка пользователей (максимум 10)\n",
        "  * Rating — рейтинг от организации ESRB (англ. Entertainment Software Rating Board). Эта ассоциация определяет рейтинг компьютерных игр и присваивает им подходящую возрастную категорию."
      ],
      "metadata": {
        "id": "OZHA-shb_8Tr"
      }
    },
    {
      "cell_type": "markdown",
      "metadata": {
        "id": "4qMzkrG__4t9"
      },
      "source": [
        "## Загрузим датасет и библиотеки"
      ]
    },
    {
      "cell_type": "code",
      "execution_count": null,
      "metadata": {
        "id": "nO05Cayk_4t-"
      },
      "outputs": [],
      "source": [
        "import pandas as pd\n",
        "import matplotlib.pyplot as plt\n",
        "import numpy as np\n",
        "df = pd.read_csv('/datasets/games.csv', decimal = ',')"
      ]
    },
    {
      "cell_type": "markdown",
      "metadata": {
        "id": "MhNfF4FL_4t_"
      },
      "source": [
        "## Подготовьте данные"
      ]
    },
    {
      "cell_type": "code",
      "execution_count": null,
      "metadata": {
        "id": "H3fpDneC_4t_"
      },
      "outputs": [],
      "source": [
        "# приведение к нижнему регистру названия столбцов\n",
        "# c = df.columns\n",
        "# df.columns = c.str.lower()\n",
        "\n",
        "df.columns = df.columns.str.lower()"
      ]
    },
    {
      "cell_type": "code",
      "execution_count": null,
      "metadata": {
        "id": "J7rM1HYq_4uB",
        "outputId": "47e47517-c948-445a-ad7b-aede4ec972a4"
      },
      "outputs": [
        {
          "name": "stdout",
          "output_type": "stream",
          "text": [
            "<class 'pandas.core.frame.DataFrame'>\n",
            "RangeIndex: 16715 entries, 0 to 16714\n",
            "Data columns (total 11 columns):\n",
            "name               16713 non-null object\n",
            "platform           16715 non-null object\n",
            "year_of_release    16446 non-null object\n",
            "genre              16713 non-null object\n",
            "na_sales           16715 non-null object\n",
            "eu_sales           16715 non-null object\n",
            "jp_sales           16715 non-null object\n",
            "other_sales        16715 non-null object\n",
            "critic_score       8137 non-null object\n",
            "user_score         10014 non-null object\n",
            "rating             9949 non-null object\n",
            "dtypes: object(11)\n",
            "memory usage: 1.4+ MB\n"
          ]
        }
      ],
      "source": [
        "df.info()"
      ]
    },
    {
      "cell_type": "code",
      "execution_count": null,
      "metadata": {
        "id": "hAPKFaMv_4uB"
      },
      "outputs": [],
      "source": [
        "# Преобразования в тип float позволит производить над столбцами математические операции, такие как ссумирование и сравнение \n",
        "\n",
        "df['year_of_release'] = pd.to_numeric(df.year_of_release)\n",
        "df['na_sales'] = pd.to_numeric(df.na_sales)\n",
        "df['eu_sales'] = pd.to_numeric(df.eu_sales)\n",
        "df['jp_sales'] = pd.to_numeric(df.jp_sales)\n",
        "df['other_sales'] = pd.to_numeric(df.other_sales)\n",
        "df['critic_score'] = pd.to_numeric(df.critic_score)"
      ]
    },
    {
      "cell_type": "code",
      "execution_count": null,
      "metadata": {
        "id": "lFBJEHjt_4uC",
        "outputId": "556a270a-cb92-48f1-e8e3-80c87737860e"
      },
      "outputs": [
        {
          "name": "stdout",
          "output_type": "stream",
          "text": [
            "количество \"tbd\" пользовательских оценок: 2424\n",
            "процент \"tbd\" пользовательских оценок: 14.5\n"
          ]
        }
      ],
      "source": [
        "# так как оценки пользователей и критиков зачастую похожи, можно частично заменить tbd значения (будет заполнено), \n",
        "# которые мешают преобразованию типа \n",
        "# df.loc[(df.user_score == 'tbd'), 'user_score'] = round(df.critic_score/10, 1)\n",
        "\n",
        "print('количество \"tbd\" пользовательских оценок:', len(df[df.user_score == 'tbd']))\n",
        "print('процент \"tbd\" пользовательских оценок:', round(len(df[df.user_score == 'tbd'])*100/16715, 2))\n",
        "\n"
      ]
    },
    {
      "cell_type": "code",
      "execution_count": null,
      "metadata": {
        "id": "i7xGNdgY_4uC",
        "outputId": "dfeb624c-4b8b-4ae7-d7b8-a6bd036c9ab2"
      },
      "outputs": [
        {
          "name": "stdout",
          "output_type": "stream",
          "text": [
            "p-значение:  4.5180089033678826e-11\n",
            "Отвергаем нулевую гипотезу 'Средние оценки пользователей и критиков равны'\n"
          ]
        }
      ],
      "source": [
        "df_crit_and_user = df[['user_score', 'critic_score']].dropna()\n",
        "df_crit_and_user = df_crit_and_user[df_crit_and_user.user_score != 'tbd']\n",
        "df_crit_and_user.user_score = pd.to_numeric(df_crit_and_user.user_score)\n",
        "\n",
        "# Нулевая гипотеза: Средние оценки пользователей и критиков равны\n",
        "# Альтернативная гипотеза: Средние оценки пользователей и критиков отличаются\n",
        "\n",
        "from scipy import stats as st\n",
        "sample_user = df_crit_and_user['user_score']\n",
        "sample_crit = df_crit_and_user['critic_score']/10\n",
        "results = st.ttest_ind(sample_user, sample_crit, equal_var = False)\n",
        "\n",
        "print('p-значение: ', results.pvalue)\n",
        "if results.pvalue < 0.05:\n",
        "    print(\"Отвергаем нулевую гипотезу 'Средние оценки пользователей и критиков равны'\")\n",
        "else:\n",
        "    print(\"Не получилось отвергнуть нулевую гипотезу\") "
      ]
    },
    {
      "cell_type": "markdown",
      "metadata": {
        "id": "eHC9a9Sx_4uD"
      },
      "source": [
        "\n",
        "<div class=\"alert alert-block alert-info\" style=\"border-radius: 15px; box-shadow: 4px 4px 4px; border: 1px solid \">\n",
        "    \n",
        "14.5 % достаточно много, отказываюсь от замены незаполненной оценки пользователей оценкой критиков. \n",
        "Так же проверила гипотезу о том, что оценки пользователей и критиков часто схожи. Она оказалась неверна.\n",
        "Поэтому воспользуюсь советом и заменю значения 'tbd' на пропуски\n",
        "</div>\n"
      ]
    },
    {
      "cell_type": "code",
      "execution_count": null,
      "metadata": {
        "id": "akdC5R35_4uD"
      },
      "outputs": [],
      "source": [
        "df.loc[(df.user_score == 'tbd'), 'user_score'] = np.nan"
      ]
    },
    {
      "cell_type": "code",
      "execution_count": null,
      "metadata": {
        "id": "pobzKgDD_4uE"
      },
      "outputs": [],
      "source": [
        "df['user_score'] = pd.to_numeric(df.user_score)"
      ]
    },
    {
      "cell_type": "code",
      "execution_count": null,
      "metadata": {
        "id": "Or18hXEu_4uE",
        "outputId": "7f6aa9c4-ba18-4dc8-e444-23cfcf5256ef"
      },
      "outputs": [
        {
          "data": {
            "text/plain": [
              "name                  2\n",
              "platform              0\n",
              "year_of_release     269\n",
              "genre                 2\n",
              "na_sales              0\n",
              "eu_sales              0\n",
              "jp_sales              0\n",
              "other_sales           0\n",
              "critic_score       8578\n",
              "user_score         9125\n",
              "rating             6766\n",
              "dtype: int64"
            ]
          },
          "execution_count": 9,
          "metadata": {},
          "output_type": "execute_result"
        }
      ],
      "source": [
        "df.isna().sum()\n",
        "# заменить пропуски в таких столбцах, как Year_of_Release и Genre достаточно сложно, поэтому я их удалю"
      ]
    },
    {
      "cell_type": "code",
      "execution_count": null,
      "metadata": {
        "id": "lLe8XY2t_4uE",
        "outputId": "1be48ad5-3059-4bb8-eb4e-48325c15471b"
      },
      "outputs": [
        {
          "data": {
            "text/plain": [
              "name                  0\n",
              "platform              0\n",
              "year_of_release       0\n",
              "genre                 0\n",
              "na_sales              0\n",
              "eu_sales              0\n",
              "jp_sales              0\n",
              "other_sales           0\n",
              "critic_score       8461\n",
              "user_score         8981\n",
              "rating             6676\n",
              "dtype: int64"
            ]
          },
          "execution_count": 10,
          "metadata": {},
          "output_type": "execute_result"
        }
      ],
      "source": [
        "df.dropna(subset = ['year_of_release', 'genre'], inplace = True)\n",
        "df.isna().sum() # с ними же удалились и строки с пропущеным названием"
      ]
    },
    {
      "cell_type": "code",
      "execution_count": null,
      "metadata": {
        "id": "5p1f_wIH_4uE",
        "outputId": "a544a545-01ed-46d6-e9a7-9df94c975dab"
      },
      "outputs": [
        {
          "data": {
            "text/plain": [
              "name                  0\n",
              "platform              0\n",
              "year_of_release       0\n",
              "genre                 0\n",
              "na_sales              0\n",
              "eu_sales              0\n",
              "jp_sales              0\n",
              "other_sales           0\n",
              "critic_score        183\n",
              "user_score          167\n",
              "rating             6676\n",
              "sum_sales             0\n",
              "dtype: int64"
            ]
          },
          "execution_count": 11,
          "metadata": {},
          "output_type": "execute_result"
        }
      ],
      "source": [
        "df['sum_sales'] = df['na_sales']+df['eu_sales']+df['jp_sales']+df['other_sales']\n",
        "\n",
        "# для замены пропущенных Critic_Score и User_Score возьму среднее по жанру и продажам \n",
        "\n",
        "gr_critic = df.groupby(['sum_sales'])['critic_score'].transform('median')\n",
        "gr_user = df.groupby(['sum_sales'])['user_score'].transform('median')\n",
        "\n",
        "df['critic_score'] = df['critic_score'].fillna(round(gr_critic,2))\n",
        "df['user_score'] = df['user_score'].fillna(round(gr_user,2))\n",
        "df.isna().sum()"
      ]
    },
    {
      "cell_type": "code",
      "execution_count": null,
      "metadata": {
        "id": "BysXLvO__4uG",
        "outputId": "df6c8883-03eb-432a-b18c-8643d285ac13"
      },
      "outputs": [
        {
          "data": {
            "text/plain": [
              "name                  0\n",
              "platform              0\n",
              "year_of_release       0\n",
              "genre                 0\n",
              "na_sales              0\n",
              "eu_sales              0\n",
              "jp_sales              0\n",
              "other_sales           0\n",
              "critic_score          0\n",
              "user_score            0\n",
              "rating             6676\n",
              "sum_sales             0\n",
              "sum_sales10           0\n",
              "dtype: int64"
            ]
          },
          "execution_count": 12,
          "metadata": {},
          "output_type": "execute_result"
        }
      ],
      "source": [
        "# при больших продажах возникли группы с единственной игрой без рейтинга, что бы взять рейтинг с соседних по продажам игр\n",
        "# уменьшила разброс по группам\n",
        "\n",
        "df['sum_sales10'] = round((df['na_sales']+df['eu_sales']+df['jp_sales']+df['other_sales'])/30, 0)\n",
        "\n",
        "gr_critic = df.groupby(['sum_sales10'])['critic_score'].transform('median')\n",
        "gr_user = df.groupby(['sum_sales10'])['user_score'].transform('median')\n",
        "\n",
        "df['critic_score'] = df['critic_score'].fillna(round(gr_critic,2))\n",
        "df['user_score'] = df['user_score'].fillna(round(gr_user,2))\n",
        "df.isna().sum()"
      ]
    },
    {
      "cell_type": "markdown",
      "metadata": {
        "id": "5vOxWVlX_4uG"
      },
      "source": [
        "так как поле Rating сложно заполнить без знания содержания игр, оставлю его пустым\n",
        "\n"
      ]
    },
    {
      "cell_type": "markdown",
      "metadata": {
        "id": "RsxtxNHr_4uG"
      },
      "source": [
        "## Исследовательский анализ данных\n",
        "колличество игр, выпущенных по годам"
      ]
    },
    {
      "cell_type": "code",
      "execution_count": null,
      "metadata": {
        "id": "r6Kqr3Fq_4uG",
        "outputId": "1cd26a69-2324-43bb-8890-7ee04c69f76d"
      },
      "outputs": [
        {
          "data": {
            "text/html": [
              "<div>\n",
              "<style scoped>\n",
              "    .dataframe tbody tr th:only-of-type {\n",
              "        vertical-align: middle;\n",
              "    }\n",
              "\n",
              "    .dataframe tbody tr th {\n",
              "        vertical-align: top;\n",
              "    }\n",
              "\n",
              "    .dataframe thead th {\n",
              "        text-align: right;\n",
              "    }\n",
              "</style>\n",
              "<table border=\"1\" class=\"dataframe\">\n",
              "  <thead>\n",
              "    <tr style=\"text-align: right;\">\n",
              "      <th></th>\n",
              "      <th>year_of_release</th>\n",
              "      <th>cnt</th>\n",
              "    </tr>\n",
              "    <tr>\n",
              "      <th>year_of_release</th>\n",
              "      <th></th>\n",
              "      <th></th>\n",
              "    </tr>\n",
              "  </thead>\n",
              "  <tbody>\n",
              "    <tr>\n",
              "      <td>1980.0</td>\n",
              "      <td>1980.0</td>\n",
              "      <td>9</td>\n",
              "    </tr>\n",
              "    <tr>\n",
              "      <td>1981.0</td>\n",
              "      <td>1981.0</td>\n",
              "      <td>46</td>\n",
              "    </tr>\n",
              "    <tr>\n",
              "      <td>1982.0</td>\n",
              "      <td>1982.0</td>\n",
              "      <td>36</td>\n",
              "    </tr>\n",
              "    <tr>\n",
              "      <td>1983.0</td>\n",
              "      <td>1983.0</td>\n",
              "      <td>17</td>\n",
              "    </tr>\n",
              "    <tr>\n",
              "      <td>1984.0</td>\n",
              "      <td>1984.0</td>\n",
              "      <td>14</td>\n",
              "    </tr>\n",
              "    <tr>\n",
              "      <td>1985.0</td>\n",
              "      <td>1985.0</td>\n",
              "      <td>14</td>\n",
              "    </tr>\n",
              "    <tr>\n",
              "      <td>1986.0</td>\n",
              "      <td>1986.0</td>\n",
              "      <td>21</td>\n",
              "    </tr>\n",
              "    <tr>\n",
              "      <td>1987.0</td>\n",
              "      <td>1987.0</td>\n",
              "      <td>16</td>\n",
              "    </tr>\n",
              "    <tr>\n",
              "      <td>1988.0</td>\n",
              "      <td>1988.0</td>\n",
              "      <td>15</td>\n",
              "    </tr>\n",
              "    <tr>\n",
              "      <td>1989.0</td>\n",
              "      <td>1989.0</td>\n",
              "      <td>17</td>\n",
              "    </tr>\n",
              "    <tr>\n",
              "      <td>1990.0</td>\n",
              "      <td>1990.0</td>\n",
              "      <td>16</td>\n",
              "    </tr>\n",
              "    <tr>\n",
              "      <td>1991.0</td>\n",
              "      <td>1991.0</td>\n",
              "      <td>41</td>\n",
              "    </tr>\n",
              "    <tr>\n",
              "      <td>1992.0</td>\n",
              "      <td>1992.0</td>\n",
              "      <td>43</td>\n",
              "    </tr>\n",
              "    <tr>\n",
              "      <td>1993.0</td>\n",
              "      <td>1993.0</td>\n",
              "      <td>60</td>\n",
              "    </tr>\n",
              "    <tr>\n",
              "      <td>1994.0</td>\n",
              "      <td>1994.0</td>\n",
              "      <td>121</td>\n",
              "    </tr>\n",
              "    <tr>\n",
              "      <td>1995.0</td>\n",
              "      <td>1995.0</td>\n",
              "      <td>219</td>\n",
              "    </tr>\n",
              "    <tr>\n",
              "      <td>1996.0</td>\n",
              "      <td>1996.0</td>\n",
              "      <td>263</td>\n",
              "    </tr>\n",
              "    <tr>\n",
              "      <td>1997.0</td>\n",
              "      <td>1997.0</td>\n",
              "      <td>289</td>\n",
              "    </tr>\n",
              "    <tr>\n",
              "      <td>1998.0</td>\n",
              "      <td>1998.0</td>\n",
              "      <td>379</td>\n",
              "    </tr>\n",
              "    <tr>\n",
              "      <td>1999.0</td>\n",
              "      <td>1999.0</td>\n",
              "      <td>338</td>\n",
              "    </tr>\n",
              "    <tr>\n",
              "      <td>2000.0</td>\n",
              "      <td>2000.0</td>\n",
              "      <td>350</td>\n",
              "    </tr>\n",
              "    <tr>\n",
              "      <td>2001.0</td>\n",
              "      <td>2001.0</td>\n",
              "      <td>482</td>\n",
              "    </tr>\n",
              "    <tr>\n",
              "      <td>2002.0</td>\n",
              "      <td>2002.0</td>\n",
              "      <td>829</td>\n",
              "    </tr>\n",
              "    <tr>\n",
              "      <td>2003.0</td>\n",
              "      <td>2003.0</td>\n",
              "      <td>775</td>\n",
              "    </tr>\n",
              "    <tr>\n",
              "      <td>2004.0</td>\n",
              "      <td>2004.0</td>\n",
              "      <td>762</td>\n",
              "    </tr>\n",
              "    <tr>\n",
              "      <td>2005.0</td>\n",
              "      <td>2005.0</td>\n",
              "      <td>939</td>\n",
              "    </tr>\n",
              "    <tr>\n",
              "      <td>2006.0</td>\n",
              "      <td>2006.0</td>\n",
              "      <td>1006</td>\n",
              "    </tr>\n",
              "    <tr>\n",
              "      <td>2007.0</td>\n",
              "      <td>2007.0</td>\n",
              "      <td>1197</td>\n",
              "    </tr>\n",
              "    <tr>\n",
              "      <td>2008.0</td>\n",
              "      <td>2008.0</td>\n",
              "      <td>1427</td>\n",
              "    </tr>\n",
              "    <tr>\n",
              "      <td>2009.0</td>\n",
              "      <td>2009.0</td>\n",
              "      <td>1426</td>\n",
              "    </tr>\n",
              "    <tr>\n",
              "      <td>2010.0</td>\n",
              "      <td>2010.0</td>\n",
              "      <td>1255</td>\n",
              "    </tr>\n",
              "    <tr>\n",
              "      <td>2011.0</td>\n",
              "      <td>2011.0</td>\n",
              "      <td>1136</td>\n",
              "    </tr>\n",
              "    <tr>\n",
              "      <td>2012.0</td>\n",
              "      <td>2012.0</td>\n",
              "      <td>653</td>\n",
              "    </tr>\n",
              "    <tr>\n",
              "      <td>2013.0</td>\n",
              "      <td>2013.0</td>\n",
              "      <td>544</td>\n",
              "    </tr>\n",
              "    <tr>\n",
              "      <td>2014.0</td>\n",
              "      <td>2014.0</td>\n",
              "      <td>581</td>\n",
              "    </tr>\n",
              "    <tr>\n",
              "      <td>2015.0</td>\n",
              "      <td>2015.0</td>\n",
              "      <td>606</td>\n",
              "    </tr>\n",
              "    <tr>\n",
              "      <td>2016.0</td>\n",
              "      <td>2016.0</td>\n",
              "      <td>502</td>\n",
              "    </tr>\n",
              "  </tbody>\n",
              "</table>\n",
              "</div>"
            ],
            "text/plain": [
              "                 year_of_release   cnt\n",
              "year_of_release                       \n",
              "1980.0                    1980.0     9\n",
              "1981.0                    1981.0    46\n",
              "1982.0                    1982.0    36\n",
              "1983.0                    1983.0    17\n",
              "1984.0                    1984.0    14\n",
              "1985.0                    1985.0    14\n",
              "1986.0                    1986.0    21\n",
              "1987.0                    1987.0    16\n",
              "1988.0                    1988.0    15\n",
              "1989.0                    1989.0    17\n",
              "1990.0                    1990.0    16\n",
              "1991.0                    1991.0    41\n",
              "1992.0                    1992.0    43\n",
              "1993.0                    1993.0    60\n",
              "1994.0                    1994.0   121\n",
              "1995.0                    1995.0   219\n",
              "1996.0                    1996.0   263\n",
              "1997.0                    1997.0   289\n",
              "1998.0                    1998.0   379\n",
              "1999.0                    1999.0   338\n",
              "2000.0                    2000.0   350\n",
              "2001.0                    2001.0   482\n",
              "2002.0                    2002.0   829\n",
              "2003.0                    2003.0   775\n",
              "2004.0                    2004.0   762\n",
              "2005.0                    2005.0   939\n",
              "2006.0                    2006.0  1006\n",
              "2007.0                    2007.0  1197\n",
              "2008.0                    2008.0  1427\n",
              "2009.0                    2009.0  1426\n",
              "2010.0                    2010.0  1255\n",
              "2011.0                    2011.0  1136\n",
              "2012.0                    2012.0   653\n",
              "2013.0                    2013.0   544\n",
              "2014.0                    2014.0   581\n",
              "2015.0                    2015.0   606\n",
              "2016.0                    2016.0   502"
            ]
          },
          "execution_count": 13,
          "metadata": {},
          "output_type": "execute_result"
        }
      ],
      "source": [
        "df_year = df.groupby('year_of_release').agg({'year_of_release':['mean'], 'name':['count']})\n",
        "df_year.columns = ['year_of_release', 'cnt']\n",
        "df_year\n",
        "# видно, что с течением времени колличество игр, выпускаемых в год растет до 2009 года, потом имеется спад.\n",
        "# Если рассматривать колличество игр до 1993 года, то их количество не превышает 3-4% от общей выборки (16444)"
      ]
    },
    {
      "cell_type": "code",
      "execution_count": null,
      "metadata": {
        "id": "Ate0LGCm_4uH",
        "outputId": "f8a45f23-9bd0-45cc-916e-120a082481e4"
      },
      "outputs": [
        {
          "name": "stderr",
          "output_type": "stream",
          "text": [
            "No handles with labels found to put in legend.\n"
          ]
        },
        {
          "data": {
            "image/png": "[encoded data removed]",
            "text/plain": [
              "<Figure size 1080x720 with 1 Axes>"
            ]
          },
          "metadata": {
            "needs_background": "light"
          },
          "output_type": "display_data"
        }
      ],
      "source": [
        "df.groupby('year_of_release').agg({'name':['count']})\n",
        "\n",
        "fig, ax = plt.subplots(figsize=(15, 10))\n",
        "ax.plot(df_year['year_of_release'], df_year['cnt'])\n",
        "\n",
        "plt.title('Count_games_by_years', fontsize=15)\n",
        "plt.xlabel('Year', fontsize=12, color='blue')\n",
        "plt.ylabel('Cnt_games', fontsize=12, color='blue')\n",
        "plt.legend()\n",
        "plt.grid(True)"
      ]
    },
    {
      "cell_type": "code",
      "execution_count": null,
      "metadata": {
        "id": "xg7Skxle_4uH",
        "outputId": "fc82a3a9-7a58-42c3-cfec-b199ac739660"
      },
      "outputs": [
        {
          "data": {
            "text/html": [
              "<div>\n",
              "<style scoped>\n",
              "    .dataframe tbody tr th:only-of-type {\n",
              "        vertical-align: middle;\n",
              "    }\n",
              "\n",
              "    .dataframe tbody tr th {\n",
              "        vertical-align: top;\n",
              "    }\n",
              "\n",
              "    .dataframe thead th {\n",
              "        text-align: right;\n",
              "    }\n",
              "</style>\n",
              "<table border=\"1\" class=\"dataframe\">\n",
              "  <thead>\n",
              "    <tr style=\"text-align: right;\">\n",
              "      <th></th>\n",
              "      <th>sum_sales</th>\n",
              "    </tr>\n",
              "    <tr>\n",
              "      <th>platform</th>\n",
              "      <th></th>\n",
              "    </tr>\n",
              "  </thead>\n",
              "  <tbody>\n",
              "    <tr>\n",
              "      <td>PCFX</td>\n",
              "      <td>0.03</td>\n",
              "    </tr>\n",
              "    <tr>\n",
              "      <td>GG</td>\n",
              "      <td>0.04</td>\n",
              "    </tr>\n",
              "    <tr>\n",
              "      <td>3DO</td>\n",
              "      <td>0.10</td>\n",
              "    </tr>\n",
              "    <tr>\n",
              "      <td>TG16</td>\n",
              "      <td>0.16</td>\n",
              "    </tr>\n",
              "    <tr>\n",
              "      <td>WS</td>\n",
              "      <td>1.42</td>\n",
              "    </tr>\n",
              "    <tr>\n",
              "      <td>NG</td>\n",
              "      <td>1.44</td>\n",
              "    </tr>\n",
              "    <tr>\n",
              "      <td>SCD</td>\n",
              "      <td>1.86</td>\n",
              "    </tr>\n",
              "    <tr>\n",
              "      <td>DC</td>\n",
              "      <td>15.95</td>\n",
              "    </tr>\n",
              "    <tr>\n",
              "      <td>GEN</td>\n",
              "      <td>28.35</td>\n",
              "    </tr>\n",
              "    <tr>\n",
              "      <td>SAT</td>\n",
              "      <td>33.59</td>\n",
              "    </tr>\n",
              "    <tr>\n",
              "      <td>PSV</td>\n",
              "      <td>53.81</td>\n",
              "    </tr>\n",
              "    <tr>\n",
              "      <td>WiiU</td>\n",
              "      <td>82.19</td>\n",
              "    </tr>\n",
              "    <tr>\n",
              "      <td>2600</td>\n",
              "      <td>86.48</td>\n",
              "    </tr>\n",
              "    <tr>\n",
              "      <td>XOne</td>\n",
              "      <td>159.32</td>\n",
              "    </tr>\n",
              "    <tr>\n",
              "      <td>GC</td>\n",
              "      <td>196.73</td>\n",
              "    </tr>\n",
              "    <tr>\n",
              "      <td>SNES</td>\n",
              "      <td>200.04</td>\n",
              "    </tr>\n",
              "    <tr>\n",
              "      <td>N64</td>\n",
              "      <td>218.01</td>\n",
              "    </tr>\n",
              "    <tr>\n",
              "      <td>NES</td>\n",
              "      <td>251.05</td>\n",
              "    </tr>\n",
              "    <tr>\n",
              "      <td>XB</td>\n",
              "      <td>251.57</td>\n",
              "    </tr>\n",
              "    <tr>\n",
              "      <td>GB</td>\n",
              "      <td>254.43</td>\n",
              "    </tr>\n",
              "    <tr>\n",
              "      <td>PC</td>\n",
              "      <td>255.76</td>\n",
              "    </tr>\n",
              "    <tr>\n",
              "      <td>3DS</td>\n",
              "      <td>257.81</td>\n",
              "    </tr>\n",
              "    <tr>\n",
              "      <td>PSP</td>\n",
              "      <td>289.53</td>\n",
              "    </tr>\n",
              "    <tr>\n",
              "      <td>GBA</td>\n",
              "      <td>312.88</td>\n",
              "    </tr>\n",
              "    <tr>\n",
              "      <td>PS4</td>\n",
              "      <td>314.14</td>\n",
              "    </tr>\n",
              "    <tr>\n",
              "      <td>PS</td>\n",
              "      <td>727.58</td>\n",
              "    </tr>\n",
              "    <tr>\n",
              "      <td>DS</td>\n",
              "      <td>802.78</td>\n",
              "    </tr>\n",
              "    <tr>\n",
              "      <td>Wii</td>\n",
              "      <td>891.18</td>\n",
              "    </tr>\n",
              "    <tr>\n",
              "      <td>PS3</td>\n",
              "      <td>931.34</td>\n",
              "    </tr>\n",
              "    <tr>\n",
              "      <td>X360</td>\n",
              "      <td>961.24</td>\n",
              "    </tr>\n",
              "    <tr>\n",
              "      <td>PS2</td>\n",
              "      <td>1233.56</td>\n",
              "    </tr>\n",
              "  </tbody>\n",
              "</table>\n",
              "</div>"
            ],
            "text/plain": [
              "          sum_sales\n",
              "platform           \n",
              "PCFX           0.03\n",
              "GG             0.04\n",
              "3DO            0.10\n",
              "TG16           0.16\n",
              "WS             1.42\n",
              "NG             1.44\n",
              "SCD            1.86\n",
              "DC            15.95\n",
              "GEN           28.35\n",
              "SAT           33.59\n",
              "PSV           53.81\n",
              "WiiU          82.19\n",
              "2600          86.48\n",
              "XOne         159.32\n",
              "GC           196.73\n",
              "SNES         200.04\n",
              "N64          218.01\n",
              "NES          251.05\n",
              "XB           251.57\n",
              "GB           254.43\n",
              "PC           255.76\n",
              "3DS          257.81\n",
              "PSP          289.53\n",
              "GBA          312.88\n",
              "PS4          314.14\n",
              "PS           727.58\n",
              "DS           802.78\n",
              "Wii          891.18\n",
              "PS3          931.34\n",
              "X360         961.24\n",
              "PS2         1233.56"
            ]
          },
          "execution_count": 15,
          "metadata": {},
          "output_type": "execute_result"
        }
      ],
      "source": [
        "# Посмотрите, как менялись продажи по платформам. Выберите платформы с наибольшими суммарными продажами и постройте \n",
        "# распределение по годам. За какой характерный срок появляются новые и исчезают старые платформы?\n",
        "\n",
        "df_platform = df.groupby('platform').agg({'sum_sales':['sum']})\n",
        "df_platform.columns=['sum_sales']\n",
        "df_platform.sort_values('sum_sales')"
      ]
    },
    {
      "cell_type": "code",
      "execution_count": null,
      "metadata": {
        "id": "aprUgJDN_4uI"
      },
      "outputs": [],
      "source": [
        "# взяла 6 наиболее прибыльных платформ\n",
        "\n",
        "df_ps2 = df[df['platform'] == 'PS2'].groupby('year_of_release').agg({'year_of_release':['mean'],'sum_sales':['sum']})\n",
        "df_ps2.columns = ['year_of_release', 'sum_sales']\n",
        "\n",
        "df_x360 = df[df['platform'] == 'X360'].groupby('year_of_release').agg({'year_of_release':['mean'],'sum_sales':['sum']})\n",
        "df_x360.columns = ['year_of_release', 'sum_sales']\n",
        "\n",
        "df_ps3 = df[df['platform'] == 'PS3'].groupby('year_of_release').agg({'year_of_release':['mean'],'sum_sales':['sum']})\n",
        "df_ps3.columns = ['year_of_release', 'sum_sales']\n",
        "\n",
        "df_wii = df[df['platform'] == 'Wii'].groupby('year_of_release').agg({'year_of_release':['mean'],'sum_sales':['sum']})\n",
        "df_wii.columns = ['year_of_release', 'sum_sales']\n",
        "\n",
        "df_ps = df[df['platform'] == 'PS'].groupby('year_of_release').agg({'year_of_release':['mean'],'sum_sales':['sum']})\n",
        "df_ps.columns = ['year_of_release', 'sum_sales']\n",
        "\n",
        "df_ds = df[df['platform'] == 'DS'].groupby('year_of_release').agg({'year_of_release':['mean'],'sum_sales':['sum']})\n",
        "df_ds.columns = ['year_of_release', 'sum_sales']"
      ]
    },
    {
      "cell_type": "code",
      "execution_count": null,
      "metadata": {
        "scrolled": false,
        "id": "RDfd_QAd_4uI",
        "outputId": "0e1045a0-2ba1-46d6-d015-6a6202b3e08c"
      },
      "outputs": [
        {
          "data": {
            "image/png": "[encoded data removed]",
            "text/plain": [
              "<Figure size 1080x720 with 1 Axes>"
            ]
          },
          "metadata": {
            "needs_background": "light"
          },
          "output_type": "display_data"
        }
      ],
      "source": [
        "fig, ax = plt.subplots(figsize=(15, 10))\n",
        "ax.plot(df_ps2['year_of_release'], df_ps2['sum_sales'], label='PS2')\n",
        "ax.plot(df_x360['year_of_release'], df_x360['sum_sales'], label='X360')\n",
        "ax.plot(df_ps3['year_of_release'], df_ps3['sum_sales'], label='PS3')\n",
        "ax.plot(df_wii['year_of_release'], df_wii['sum_sales'], label='Wii')\n",
        "ax.plot(df_ps['year_of_release'], df_ps['sum_sales'], label='PS')\n",
        "ax.plot(df_ds['year_of_release'], df_ds['sum_sales'], label='DS')\n",
        "\n",
        "plt.title('Sales', fontsize=15)\n",
        "plt.xlabel('Year', fontsize=12, color='blue')\n",
        "plt.ylabel('Sales', fontsize=12, color='blue')\n",
        "plt.legend()\n",
        "plt.grid(True)"
      ]
    },
    {
      "cell_type": "markdown",
      "metadata": {
        "id": "ZGyEE-XU_4uI"
      },
      "source": [
        "По графику видно, что средняя продолжительность жизни платформ около 10 лет\n",
        "\n",
        "За актуальный период определите можно взять года с 1995 по 2016, так как наиболее крупные компании осуществляли свою деятельность именно в эти годы. Второй вариант - с 2005 по 2016, когда на рынке наблюдается сразу 3-5 крупных платформ.\n",
        "\n",
        "Для того, что бы определиться окончательно стоит попосмотреть на общую картину рынка"
      ]
    },
    {
      "cell_type": "code",
      "execution_count": null,
      "metadata": {
        "id": "yNtGcsey_4uI",
        "outputId": "e57dfbe0-36e1-473c-fc49-f033cca3e300"
      },
      "outputs": [
        {
          "name": "stderr",
          "output_type": "stream",
          "text": [
            "No handles with labels found to put in legend.\n"
          ]
        },
        {
          "data": {
            "image/png": "[encoded data removed]",
            "text/plain": [
              "<Figure size 1080x720 with 1 Axes>"
            ]
          },
          "metadata": {
            "needs_background": "light"
          },
          "output_type": "display_data"
        }
      ],
      "source": [
        "df_sales = df.groupby('year_of_release').agg({'year_of_release':['mean'],'sum_sales':['sum']})\n",
        "df_sales.columns = ['year_of_release', 'sum_sales']\n",
        "\n",
        "fig, ax = plt.subplots(figsize=(15, 10))\n",
        "ax.plot(df_sales['year_of_release'], df_sales['sum_sales'])\n",
        "\n",
        "plt.title('Sales', fontsize=15)\n",
        "plt.xlabel('Year', fontsize=12, color='blue')\n",
        "plt.ylabel('Sales', fontsize=12, color='blue')\n",
        "plt.legend()\n",
        "plt.grid(True)"
      ]
    },
    {
      "cell_type": "markdown",
      "metadata": {
        "id": "G-wdW1GF_4uJ"
      },
      "source": [
        "По данному графику выделяются две даты: 1995 год, как старт резкого роста продаж и 2008 год, как начало спада объемов продаж.\n",
        "Так как на обоих графиках присутствует 1995 год, возьму отсечение по этой дате."
      ]
    },
    {
      "cell_type": "code",
      "execution_count": null,
      "metadata": {
        "id": "dV3RAaNx_4uJ"
      },
      "outputs": [],
      "source": [
        "df = df[df.year_of_release >= 2013.0]"
      ]
    },
    {
      "cell_type": "markdown",
      "metadata": {
        "id": "YkFev_ST_4uJ"
      },
      "source": [
        "\n",
        "<div class=\"alert alert-block alert-info\" style=\"border-radius: 15px; box-shadow: 4px 4px 4px; border: 1px solid \">\n",
        "    \n",
        "Возьму данные с 2013 года в связи с началом сильного роста популярности в этот год.\n",
        "</div>\n"
      ]
    },
    {
      "cell_type": "code",
      "execution_count": null,
      "metadata": {
        "id": "tR_eVyJs_4uK",
        "outputId": "88ed11e5-1bc4-4528-b41f-744909f558d5"
      },
      "outputs": [
        {
          "name": "stderr",
          "output_type": "stream",
          "text": [
            "/opt/conda/lib/python3.7/site-packages/ipykernel_launcher.py:4: SettingWithCopyWarning: \n",
            "A value is trying to be set on a copy of a slice from a DataFrame.\n",
            "Try using .loc[row_indexer,col_indexer] = value instead\n",
            "\n",
            "See the caveats in the documentation: http://pandas.pydata.org/pandas-docs/stable/user_guide/indexing.html#returning-a-view-versus-a-copy\n",
            "  after removing the cwd from sys.path.\n"
          ]
        }
      ],
      "source": [
        "# Для опредения потенциально прибыльных платформ, нужно искать, продажи которых растут\n",
        "\n",
        "df_grow = df[['platform', 'year_of_release', 'sum_sales']]\n",
        "df_grow['id'] = df_grow.platform + df_grow.year_of_release.astype(str)\n",
        "df_grow = df_grow.groupby(['id']).agg({'platform':['max'], 'year_of_release':['mean'], 'sum_sales':['sum']})\n",
        "df_grow.columns = ['platform', 'year_of_release','sum_sales']\n",
        "\n",
        "import warnings\n",
        "warnings.filterwarnings('ignore')"
      ]
    },
    {
      "cell_type": "code",
      "execution_count": null,
      "metadata": {
        "id": "W_N-3II5_4uL",
        "outputId": "82cb84e4-ac8c-44ad-9676-149d57d08455"
      },
      "outputs": [
        {
          "data": {
            "image/png": "[encoded data removed]",
            "text/plain": [
              "<Figure size 1080x720 with 1 Axes>"
            ]
          },
          "metadata": {
            "needs_background": "light"
          },
          "output_type": "display_data"
        }
      ],
      "source": [
        "fig, ax = plt.subplots(figsize=(15, 10))\n",
        "for platform in df_grow.platform.unique():\n",
        "    df_plt = df_grow[df_grow.platform == platform]\n",
        "    ax.plot(df_plt['year_of_release'], df_plt['sum_sales'], label=platform)\n",
        "\n",
        "\n",
        "plt.title('Sales', fontsize=15)\n",
        "plt.xlabel('Year', fontsize=12, color='blue')\n",
        "plt.ylabel('Sales', fontsize=12, color='blue')\n",
        "plt.legend()\n",
        "plt.grid(True)"
      ]
    },
    {
      "cell_type": "markdown",
      "metadata": {
        "id": "vbfrZ43w_4uM"
      },
      "source": [
        "В таблице всего 3 компании, растущие на 2016 год, из них у PS4 довольно высокие продажи, что может свидетельствовать о пике успеха. Остаются только Wii и WiiU."
      ]
    },
    {
      "cell_type": "code",
      "execution_count": null,
      "metadata": {
        "id": "xJ723yMw_4uN",
        "outputId": "5a85a3c8-2d80-4c23-be42-d199e9decfda"
      },
      "outputs": [
        {
          "data": {
            "image/png": "[encoded data removed]",
            "text/plain": [
              "<Figure size 432x288 with 1 Axes>"
            ]
          },
          "metadata": {
            "needs_background": "light"
          },
          "output_type": "display_data"
        }
      ],
      "source": [
        "df_platform.boxplot(column='sum_sales')\n",
        "plt.show()"
      ]
    },
    {
      "cell_type": "code",
      "execution_count": null,
      "metadata": {
        "id": "q_nYUWqC_4uN",
        "outputId": "ec40fdae-93d2-4d6f-f8d6-c7dc5deb9a89"
      },
      "outputs": [
        {
          "name": "stdout",
          "output_type": "stream",
          "text": [
            "PS3\n"
          ]
        },
        {
          "data": {
            "image/png": "[encoded data removed]",
            "text/plain": [
              "<Figure size 432x288 with 1 Axes>"
            ]
          },
          "metadata": {
            "needs_background": "light"
          },
          "output_type": "display_data"
        },
        {
          "name": "stdout",
          "output_type": "stream",
          "text": [
            "X360\n"
          ]
        },
        {
          "data": {
            "image/png": "[encoded data removed]",
            "text/plain": [
              "<Figure size 432x288 with 1 Axes>"
            ]
          },
          "metadata": {
            "needs_background": "light"
          },
          "output_type": "display_data"
        },
        {
          "name": "stdout",
          "output_type": "stream",
          "text": [
            "PS4\n"
          ]
        },
        {
          "data": {
            "image/png": "[encoded data removed]",
            "text/plain": [
              "<Figure size 432x288 with 1 Axes>"
            ]
          },
          "metadata": {
            "needs_background": "light"
          },
          "output_type": "display_data"
        },
        {
          "name": "stdout",
          "output_type": "stream",
          "text": [
            "3DS\n"
          ]
        },
        {
          "data": {
            "image/png": "[encoded data removed]",
            "text/plain": [
              "<Figure size 432x288 with 1 Axes>"
            ]
          },
          "metadata": {
            "needs_background": "light"
          },
          "output_type": "display_data"
        },
        {
          "name": "stdout",
          "output_type": "stream",
          "text": [
            "XOne\n"
          ]
        },
        {
          "data": {
            "image/png": "[encoded data removed]",
            "text/plain": [
              "<Figure size 432x288 with 1 Axes>"
            ]
          },
          "metadata": {
            "needs_background": "light"
          },
          "output_type": "display_data"
        },
        {
          "name": "stdout",
          "output_type": "stream",
          "text": [
            "WiiU\n"
          ]
        },
        {
          "data": {
            "image/png": "[encoded data removed]",
            "text/plain": [
              "<Figure size 432x288 with 1 Axes>"
            ]
          },
          "metadata": {
            "needs_background": "light"
          },
          "output_type": "display_data"
        },
        {
          "name": "stdout",
          "output_type": "stream",
          "text": [
            "Wii\n"
          ]
        },
        {
          "data": {
            "image/png": "[encoded data removed]",
            "text/plain": [
              "<Figure size 432x288 with 1 Axes>"
            ]
          },
          "metadata": {
            "needs_background": "light"
          },
          "output_type": "display_data"
        },
        {
          "name": "stdout",
          "output_type": "stream",
          "text": [
            "PC\n"
          ]
        },
        {
          "data": {
            "image/png": "[encoded data removed]",
            "text/plain": [
              "<Figure size 432x288 with 1 Axes>"
            ]
          },
          "metadata": {
            "needs_background": "light"
          },
          "output_type": "display_data"
        },
        {
          "name": "stdout",
          "output_type": "stream",
          "text": [
            "PSV\n"
          ]
        },
        {
          "data": {
            "image/png": "[encoded data removed]",
            "text/plain": [
              "<Figure size 432x288 with 1 Axes>"
            ]
          },
          "metadata": {
            "needs_background": "light"
          },
          "output_type": "display_data"
        },
        {
          "name": "stdout",
          "output_type": "stream",
          "text": [
            "DS\n"
          ]
        },
        {
          "data": {
            "image/png": "[encoded data removed]",
            "text/plain": [
              "<Figure size 432x288 with 1 Axes>"
            ]
          },
          "metadata": {
            "needs_background": "light"
          },
          "output_type": "display_data"
        },
        {
          "name": "stdout",
          "output_type": "stream",
          "text": [
            "PSP\n"
          ]
        },
        {
          "data": {
            "image/png": "[encoded data removed]",
            "text/plain": [
              "<Figure size 432x288 with 1 Axes>"
            ]
          },
          "metadata": {
            "needs_background": "light"
          },
          "output_type": "display_data"
        }
      ],
      "source": [
        "for plat in df.platform.unique():\n",
        "    print(plat)\n",
        "    df[df.platform == plat].boxplot(column='sum_sales')\n",
        "    plt.show()"
      ]
    },
    {
      "cell_type": "code",
      "execution_count": null,
      "metadata": {
        "id": "CxRdgocz_4uN"
      },
      "outputs": [],
      "source": [
        "q = []\n",
        "q3=[]\n",
        "for el in df['platform'].unique():\n",
        "    q.append(df[df.platform == el]['sum_sales'].describe()[6])\n",
        "    q3.append(3*df[df.platform == el]['sum_sales'].describe()[6])"
      ]
    },
    {
      "cell_type": "code",
      "execution_count": null,
      "metadata": {
        "id": "wDjR54wk_4uN",
        "outputId": "549448d1-c704-417d-f58a-3ff85fac04cd"
      },
      "outputs": [
        {
          "data": {
            "image/png": "[encoded data removed]",
            "text/plain": [
              "<Figure size 432x288 with 1 Axes>"
            ]
          },
          "metadata": {
            "needs_background": "light"
          },
          "output_type": "display_data"
        }
      ],
      "source": [
        "plt.errorbar(df['platform'], df['sum_sales'], fmt= '.k', label='data')\n",
        "plt.errorbar(df['platform'].unique(), df.groupby('platform').agg({'sum_sales':['median']}), fmt= '-r', label='50% of value')\n",
        "plt.errorbar(df['platform'].unique(), q, fmt= '-b', label='75% of value')\n",
        "plt.errorbar(df['platform'].unique(), q3, fmt= '-g', label='range')\n",
        "\n",
        "plt.title('Sales', fontsize=15)\n",
        "plt.xlabel('platform', fontsize=12, color='blue')\n",
        "plt.ylabel('Sales', fontsize=12, color='blue')\n",
        "plt.legend()\n",
        "plt.grid(True)"
      ]
    },
    {
      "cell_type": "markdown",
      "metadata": {
        "id": "wEijQTmR_4uO"
      },
      "source": [
        "\n",
        "<div class=\"alert alert-block alert-info\" style=\"border-radius: 15px; box-shadow: 4px 4px 4px; border: 1px solid \">\n",
        "    \n",
        "Согласно диаграммам размаха для для 75% игр, их ссумарная рыночная стоиость не превышает 1 млн проданных копий, о чем говорят границы синего прямоугольника. В размах «усов» так же попадают нормальные значения (до поперечной линии), а за пределами находятся выбросы, изображённые точками. Наибольший размах по платформам равен 2 млн копий, наименьший 0. Диаграммы построены по данным с 2013 по 2016 года.\n",
        "</div>\n"
      ]
    },
    {
      "cell_type": "code",
      "execution_count": null,
      "metadata": {
        "id": "qCwTYHig_4uO",
        "outputId": "1260fcd7-6c7f-48b3-d481-428ba11ae91b"
      },
      "outputs": [
        {
          "data": {
            "text/plain": [
              "(0, 4)"
            ]
          },
          "execution_count": 29,
          "metadata": {},
          "output_type": "execute_result"
        },
        {
          "data": {
            "image/png": "[encoded data removed]",
            "text/plain": [
              "<Figure size 864x504 with 1 Axes>"
            ]
          },
          "metadata": {
            "needs_background": "light"
          },
          "output_type": "display_data"
        }
      ],
      "source": [
        "# КОД РЕВЬЮЕРА\n",
        "\n",
        "df1 = df.copy()\n",
        "\n",
        "# Добавляю столбец без округления, чтобы не терять данные. \n",
        "df1['total_sales'] = df1[['na_sales','eu_sales','jp_sales','other_sales']].sum(axis=1)\n",
        "\n",
        "df1.boxplot('total_sales', by='platform', figsize=(12,7))\n",
        "\n",
        "plt.ylim(0,4)"
      ]
    },
    {
      "cell_type": "markdown",
      "metadata": {
        "id": "ThBouWxX_4uP"
      },
      "source": [
        "Основная часть заработка занимает лишь нижнюю треть диапазона. В то время, как выбросы довольно велики. Однако мы не можем исключить их из выборки, так как именно такие случаи обычно наиболее интересны заказчику"
      ]
    },
    {
      "cell_type": "code",
      "execution_count": null,
      "metadata": {
        "id": "-KGtxys0_4uP"
      },
      "outputs": [],
      "source": [
        "# df[df.platform == '3DS'].plot(x='sum_sales', y='critic_score', kind='scatter'), df[df.platform == '3DS'].plot(x='sum_sales', y='user_score', kind='scatter')"
      ]
    },
    {
      "cell_type": "code",
      "execution_count": null,
      "metadata": {
        "id": "bULL5gHs_4uP",
        "outputId": "e1000fd1-5c7c-4991-9a11-eaded495a7c8"
      },
      "outputs": [
        {
          "data": {
            "text/plain": [
              "Text(0, 0.5, 'score')"
            ]
          },
          "execution_count": 31,
          "metadata": {},
          "output_type": "execute_result"
        },
        {
          "data": {
            "image/png": "[encoded data removed]",
            "text/plain": [
              "<Figure size 1152x1152 with 6 Axes>"
            ]
          },
          "metadata": {
            "needs_background": "light"
          },
          "output_type": "display_data"
        }
      ],
      "source": [
        "# Исходный набор данных\n",
        "x1 = df[df.platform == '3DS']['sum_sales']\n",
        "y1 = df[df.platform == '3DS']['critic_score']\n",
        "y2 = df[df.platform == '3DS']['user_score']\n",
        "\n",
        "x3 = df[df.platform == 'PS4']['sum_sales']\n",
        "y3 = df[df.platform == 'PS4']['critic_score']\n",
        "y4 = df[df.platform == 'PS4']['user_score']\n",
        "\n",
        "x5 = df[df.platform == 'XOne']['sum_sales']\n",
        "y5 = df[df.platform == 'XOne']['critic_score']\n",
        "y6 = df[df.platform == 'XOne']['user_score']\n",
        "\n",
        "# Настройка размеров подложки\n",
        "plt.figure(figsize=(16, 16))\n",
        "\n",
        "# Вывод графиков\n",
        "plt.subplot(3, 2, 1)\n",
        "plt.plot(x1, y1, '.')\n",
        "plt.title('3DS critic_score', fontsize=15)\n",
        "plt.xlabel('Sales', fontsize=12, color='blue')\n",
        "plt.ylabel('score', fontsize=12, color='blue')\n",
        "\n",
        "plt.subplot(3, 2, 2)\n",
        "plt.plot(x1, y2, '.')\n",
        "plt.title('3DS user_score', fontsize=15)\n",
        "plt.xlabel('Sales', fontsize=12, color='blue')\n",
        "plt.ylabel('score', fontsize=12, color='blue')\n",
        "\n",
        "plt.subplot(3, 2, 3)\n",
        "plt.plot(x3, y3, '.')\n",
        "plt.title('PS4 critic_score', fontsize=15)\n",
        "plt.xlabel('Sales', fontsize=12, color='blue')\n",
        "plt.ylabel('score', fontsize=12, color='blue')\n",
        "\n",
        "plt.subplot(3, 2, 4)\n",
        "plt.plot(x3, y4, '.')\n",
        "plt.title('PS4 user_score', fontsize=15)\n",
        "plt.xlabel('Sales', fontsize=12, color='blue')\n",
        "plt.ylabel('score', fontsize=12, color='blue')\n",
        "\n",
        "plt.subplot(3, 2, 5)\n",
        "plt.plot(x5, y5, '.')\n",
        "plt.title('XOne critic_score', fontsize=15)\n",
        "plt.xlabel('Sales', fontsize=12, color='blue')\n",
        "plt.ylabel('score', fontsize=12, color='blue')\n",
        "\n",
        "plt.subplot(3, 2, 6)\n",
        "plt.plot(x5, y6, '.')\n",
        "plt.title('XOne user_score', fontsize=15)\n",
        "plt.xlabel('Sales', fontsize=12, color='blue')\n",
        "plt.ylabel('score', fontsize=12, color='blue')"
      ]
    },
    {
      "cell_type": "markdown",
      "metadata": {
        "id": "edLUKlki_4uQ"
      },
      "source": [
        "На обоих графиках видна примерно одинаковая ситуация. При невысоких продажах, оценка меняется от наименьшей до наибольшей. Чем выше продажи, тем выше оценки и пользователей и критиков. Второй график, чуть более размыт, скорее всего, потому что оценки пользователей более собирательны, чем оценки критиков"
      ]
    },
    {
      "cell_type": "code",
      "execution_count": null,
      "metadata": {
        "id": "dMduqWV5_4uQ",
        "outputId": "deb650d6-a60f-4f35-e772-7675d08408cf"
      },
      "outputs": [
        {
          "data": {
            "text/html": [
              "<div>\n",
              "<style scoped>\n",
              "    .dataframe tbody tr th:only-of-type {\n",
              "        vertical-align: middle;\n",
              "    }\n",
              "\n",
              "    .dataframe tbody tr th {\n",
              "        vertical-align: top;\n",
              "    }\n",
              "\n",
              "    .dataframe thead th {\n",
              "        text-align: right;\n",
              "    }\n",
              "</style>\n",
              "<table border=\"1\" class=\"dataframe\">\n",
              "  <thead>\n",
              "    <tr style=\"text-align: right;\">\n",
              "      <th></th>\n",
              "      <th>sum_sales</th>\n",
              "      <th>critic_score</th>\n",
              "    </tr>\n",
              "  </thead>\n",
              "  <tbody>\n",
              "    <tr>\n",
              "      <td>sum_sales</td>\n",
              "      <td>1.000000</td>\n",
              "      <td>0.193308</td>\n",
              "    </tr>\n",
              "    <tr>\n",
              "      <td>critic_score</td>\n",
              "      <td>0.193308</td>\n",
              "      <td>1.000000</td>\n",
              "    </tr>\n",
              "  </tbody>\n",
              "</table>\n",
              "</div>"
            ],
            "text/plain": [
              "              sum_sales  critic_score\n",
              "sum_sales      1.000000      0.193308\n",
              "critic_score   0.193308      1.000000"
            ]
          },
          "metadata": {},
          "output_type": "display_data"
        },
        {
          "data": {
            "text/html": [
              "<div>\n",
              "<style scoped>\n",
              "    .dataframe tbody tr th:only-of-type {\n",
              "        vertical-align: middle;\n",
              "    }\n",
              "\n",
              "    .dataframe tbody tr th {\n",
              "        vertical-align: top;\n",
              "    }\n",
              "\n",
              "    .dataframe thead th {\n",
              "        text-align: right;\n",
              "    }\n",
              "</style>\n",
              "<table border=\"1\" class=\"dataframe\">\n",
              "  <thead>\n",
              "    <tr style=\"text-align: right;\">\n",
              "      <th></th>\n",
              "      <th>sum_sales</th>\n",
              "      <th>critic_score</th>\n",
              "    </tr>\n",
              "  </thead>\n",
              "  <tbody>\n",
              "    <tr>\n",
              "      <td>sum_sales</td>\n",
              "      <td>1.000000</td>\n",
              "      <td>0.318928</td>\n",
              "    </tr>\n",
              "    <tr>\n",
              "      <td>critic_score</td>\n",
              "      <td>0.318928</td>\n",
              "      <td>1.000000</td>\n",
              "    </tr>\n",
              "  </tbody>\n",
              "</table>\n",
              "</div>"
            ],
            "text/plain": [
              "              sum_sales  critic_score\n",
              "sum_sales      1.000000      0.318928\n",
              "critic_score   0.318928      1.000000"
            ]
          },
          "metadata": {},
          "output_type": "display_data"
        }
      ],
      "source": [
        "display(df[df.platform == '3DS'][['sum_sales', 'critic_score']].corr())\n",
        "display(df[['sum_sales', 'critic_score']].corr())"
      ]
    },
    {
      "cell_type": "code",
      "execution_count": null,
      "metadata": {
        "id": "_ZDKdvcR_4uQ",
        "outputId": "8b94a267-1b0d-4bf7-861f-2d3ef5652fc6"
      },
      "outputs": [
        {
          "data": {
            "text/html": [
              "<div>\n",
              "<style scoped>\n",
              "    .dataframe tbody tr th:only-of-type {\n",
              "        vertical-align: middle;\n",
              "    }\n",
              "\n",
              "    .dataframe tbody tr th {\n",
              "        vertical-align: top;\n",
              "    }\n",
              "\n",
              "    .dataframe thead th {\n",
              "        text-align: right;\n",
              "    }\n",
              "</style>\n",
              "<table border=\"1\" class=\"dataframe\">\n",
              "  <thead>\n",
              "    <tr style=\"text-align: right;\">\n",
              "      <th></th>\n",
              "      <th>sum_sales</th>\n",
              "      <th>user_score</th>\n",
              "    </tr>\n",
              "  </thead>\n",
              "  <tbody>\n",
              "    <tr>\n",
              "      <td>sum_sales</td>\n",
              "      <td>1.000000</td>\n",
              "      <td>0.072559</td>\n",
              "    </tr>\n",
              "    <tr>\n",
              "      <td>user_score</td>\n",
              "      <td>0.072559</td>\n",
              "      <td>1.000000</td>\n",
              "    </tr>\n",
              "  </tbody>\n",
              "</table>\n",
              "</div>"
            ],
            "text/plain": [
              "            sum_sales  user_score\n",
              "sum_sales    1.000000    0.072559\n",
              "user_score   0.072559    1.000000"
            ]
          },
          "metadata": {},
          "output_type": "display_data"
        },
        {
          "data": {
            "text/html": [
              "<div>\n",
              "<style scoped>\n",
              "    .dataframe tbody tr th:only-of-type {\n",
              "        vertical-align: middle;\n",
              "    }\n",
              "\n",
              "    .dataframe tbody tr th {\n",
              "        vertical-align: top;\n",
              "    }\n",
              "\n",
              "    .dataframe thead th {\n",
              "        text-align: right;\n",
              "    }\n",
              "</style>\n",
              "<table border=\"1\" class=\"dataframe\">\n",
              "  <thead>\n",
              "    <tr style=\"text-align: right;\">\n",
              "      <th></th>\n",
              "      <th>sum_sales</th>\n",
              "      <th>user_score</th>\n",
              "    </tr>\n",
              "  </thead>\n",
              "  <tbody>\n",
              "    <tr>\n",
              "      <td>sum_sales</td>\n",
              "      <td>1.000000</td>\n",
              "      <td>-0.043453</td>\n",
              "    </tr>\n",
              "    <tr>\n",
              "      <td>user_score</td>\n",
              "      <td>-0.043453</td>\n",
              "      <td>1.000000</td>\n",
              "    </tr>\n",
              "  </tbody>\n",
              "</table>\n",
              "</div>"
            ],
            "text/plain": [
              "            sum_sales  user_score\n",
              "sum_sales    1.000000   -0.043453\n",
              "user_score  -0.043453    1.000000"
            ]
          },
          "metadata": {},
          "output_type": "display_data"
        }
      ],
      "source": [
        "display(df[df.platform == '3DS'][['sum_sales', 'user_score']].corr())\n",
        "display(df[['sum_sales', 'user_score']].corr())"
      ]
    },
    {
      "cell_type": "markdown",
      "metadata": {
        "id": "aY944GLf_4uQ"
      },
      "source": [
        "Значение корреляции далеко от 1, однако довольно неплохая связь прослеживается при рассмотрении платформы PS2. И эти значения выше средних по индустрии. Так же виден эфект размытости у оценок пользователей - их корреляция ниже, чем у оценок критиков"
      ]
    },
    {
      "cell_type": "code",
      "execution_count": null,
      "metadata": {
        "id": "Dvv7Wfy5_4uR",
        "outputId": "7616c567-697a-4bbd-f861-51f2cbadce36"
      },
      "outputs": [
        {
          "data": {
            "text/html": [
              "<div>\n",
              "<style scoped>\n",
              "    .dataframe tbody tr th:only-of-type {\n",
              "        vertical-align: middle;\n",
              "    }\n",
              "\n",
              "    .dataframe tbody tr th {\n",
              "        vertical-align: top;\n",
              "    }\n",
              "\n",
              "    .dataframe thead th {\n",
              "        text-align: right;\n",
              "    }\n",
              "</style>\n",
              "<table border=\"1\" class=\"dataframe\">\n",
              "  <thead>\n",
              "    <tr style=\"text-align: right;\">\n",
              "      <th></th>\n",
              "      <th>all_cnt</th>\n",
              "      <th>all_sum</th>\n",
              "      <th>3DS_cnt</th>\n",
              "      <th>3DS_sum</th>\n",
              "      <th>PS4_cnt</th>\n",
              "      <th>PS4_sum</th>\n",
              "      <th>XOne_cnt</th>\n",
              "      <th>XOne_sum</th>\n",
              "    </tr>\n",
              "    <tr>\n",
              "      <th>genre</th>\n",
              "      <th></th>\n",
              "      <th></th>\n",
              "      <th></th>\n",
              "      <th></th>\n",
              "      <th></th>\n",
              "      <th></th>\n",
              "      <th></th>\n",
              "      <th></th>\n",
              "    </tr>\n",
              "  </thead>\n",
              "  <tbody>\n",
              "    <tr>\n",
              "      <td>Action</td>\n",
              "      <td>766</td>\n",
              "      <td>321.87</td>\n",
              "      <td>116.0</td>\n",
              "      <td>34.04</td>\n",
              "      <td>144</td>\n",
              "      <td>96.10</td>\n",
              "      <td>85.0</td>\n",
              "      <td>37.31</td>\n",
              "    </tr>\n",
              "    <tr>\n",
              "      <td>Adventure</td>\n",
              "      <td>245</td>\n",
              "      <td>23.64</td>\n",
              "      <td>27.0</td>\n",
              "      <td>3.33</td>\n",
              "      <td>28</td>\n",
              "      <td>6.34</td>\n",
              "      <td>14.0</td>\n",
              "      <td>2.68</td>\n",
              "    </tr>\n",
              "    <tr>\n",
              "      <td>Fighting</td>\n",
              "      <td>80</td>\n",
              "      <td>35.31</td>\n",
              "      <td>7.0</td>\n",
              "      <td>8.21</td>\n",
              "      <td>18</td>\n",
              "      <td>8.65</td>\n",
              "      <td>7.0</td>\n",
              "      <td>2.45</td>\n",
              "    </tr>\n",
              "    <tr>\n",
              "      <td>Misc</td>\n",
              "      <td>155</td>\n",
              "      <td>62.82</td>\n",
              "      <td>32.0</td>\n",
              "      <td>7.10</td>\n",
              "      <td>20</td>\n",
              "      <td>8.19</td>\n",
              "      <td>19.0</td>\n",
              "      <td>7.43</td>\n",
              "    </tr>\n",
              "    <tr>\n",
              "      <td>Platform</td>\n",
              "      <td>74</td>\n",
              "      <td>42.63</td>\n",
              "      <td>15.0</td>\n",
              "      <td>8.79</td>\n",
              "      <td>12</td>\n",
              "      <td>7.69</td>\n",
              "      <td>5.0</td>\n",
              "      <td>0.93</td>\n",
              "    </tr>\n",
              "    <tr>\n",
              "      <td>Puzzle</td>\n",
              "      <td>17</td>\n",
              "      <td>3.17</td>\n",
              "      <td>9.0</td>\n",
              "      <td>1.73</td>\n",
              "      <td>1</td>\n",
              "      <td>0.02</td>\n",
              "      <td>NaN</td>\n",
              "      <td>NaN</td>\n",
              "    </tr>\n",
              "    <tr>\n",
              "      <td>Racing</td>\n",
              "      <td>85</td>\n",
              "      <td>39.89</td>\n",
              "      <td>NaN</td>\n",
              "      <td>NaN</td>\n",
              "      <td>19</td>\n",
              "      <td>12.14</td>\n",
              "      <td>20.0</td>\n",
              "      <td>9.79</td>\n",
              "    </tr>\n",
              "    <tr>\n",
              "      <td>Role-Playing</td>\n",
              "      <td>292</td>\n",
              "      <td>145.89</td>\n",
              "      <td>62.0</td>\n",
              "      <td>67.37</td>\n",
              "      <td>51</td>\n",
              "      <td>28.99</td>\n",
              "      <td>14.0</td>\n",
              "      <td>10.55</td>\n",
              "    </tr>\n",
              "    <tr>\n",
              "      <td>Shooter</td>\n",
              "      <td>187</td>\n",
              "      <td>232.98</td>\n",
              "      <td>1.0</td>\n",
              "      <td>0.06</td>\n",
              "      <td>41</td>\n",
              "      <td>88.56</td>\n",
              "      <td>38.0</td>\n",
              "      <td>60.33</td>\n",
              "    </tr>\n",
              "    <tr>\n",
              "      <td>Simulation</td>\n",
              "      <td>62</td>\n",
              "      <td>21.76</td>\n",
              "      <td>15.0</td>\n",
              "      <td>9.53</td>\n",
              "      <td>6</td>\n",
              "      <td>1.23</td>\n",
              "      <td>4.0</td>\n",
              "      <td>0.69</td>\n",
              "    </tr>\n",
              "    <tr>\n",
              "      <td>Sports</td>\n",
              "      <td>214</td>\n",
              "      <td>150.65</td>\n",
              "      <td>8.0</td>\n",
              "      <td>1.82</td>\n",
              "      <td>46</td>\n",
              "      <td>55.61</td>\n",
              "      <td>38.0</td>\n",
              "      <td>26.74</td>\n",
              "    </tr>\n",
              "    <tr>\n",
              "      <td>Strategy</td>\n",
              "      <td>56</td>\n",
              "      <td>10.08</td>\n",
              "      <td>11.0</td>\n",
              "      <td>1.27</td>\n",
              "      <td>6</td>\n",
              "      <td>0.62</td>\n",
              "      <td>3.0</td>\n",
              "      <td>0.42</td>\n",
              "    </tr>\n",
              "  </tbody>\n",
              "</table>\n",
              "</div>"
            ],
            "text/plain": [
              "              all_cnt  all_sum  3DS_cnt  3DS_sum  PS4_cnt  PS4_sum  XOne_cnt  \\\n",
              "genre                                                                          \n",
              "Action            766   321.87    116.0    34.04      144    96.10      85.0   \n",
              "Adventure         245    23.64     27.0     3.33       28     6.34      14.0   \n",
              "Fighting           80    35.31      7.0     8.21       18     8.65       7.0   \n",
              "Misc              155    62.82     32.0     7.10       20     8.19      19.0   \n",
              "Platform           74    42.63     15.0     8.79       12     7.69       5.0   \n",
              "Puzzle             17     3.17      9.0     1.73        1     0.02       NaN   \n",
              "Racing             85    39.89      NaN      NaN       19    12.14      20.0   \n",
              "Role-Playing      292   145.89     62.0    67.37       51    28.99      14.0   \n",
              "Shooter           187   232.98      1.0     0.06       41    88.56      38.0   \n",
              "Simulation         62    21.76     15.0     9.53        6     1.23       4.0   \n",
              "Sports            214   150.65      8.0     1.82       46    55.61      38.0   \n",
              "Strategy           56    10.08     11.0     1.27        6     0.62       3.0   \n",
              "\n",
              "              XOne_sum  \n",
              "genre                   \n",
              "Action           37.31  \n",
              "Adventure         2.68  \n",
              "Fighting          2.45  \n",
              "Misc              7.43  \n",
              "Platform          0.93  \n",
              "Puzzle             NaN  \n",
              "Racing            9.79  \n",
              "Role-Playing     10.55  \n",
              "Shooter          60.33  \n",
              "Simulation        0.69  \n",
              "Sports           26.74  \n",
              "Strategy          0.42  "
            ]
          },
          "execution_count": 34,
          "metadata": {},
          "output_type": "execute_result"
        }
      ],
      "source": [
        "df_distr = df.groupby('genre').agg({'name':['count'], 'sum_sales':['sum']})\n",
        "df_distr = df_distr.merge(df[df.platform == '3DS'].groupby('genre').agg({'name':['count'], 'sum_sales':['sum']}), on='genre', how='left')\n",
        "df_distr.columns = ['all_cnt', 'all_sum','3DS_cnt', '3DS_sum']\n",
        "df_distr = df_distr.merge(df[df.platform == 'PS4'].groupby('genre').agg({'name':['count'], 'sum_sales':['sum']}), on='genre', how='left')\n",
        "df_distr.columns = ['all_cnt', 'all_sum','3DS_cnt', '3DS_sum','PS4_cnt', 'PS4_sum']\n",
        "df_distr = df_distr.merge(df[df.platform == 'XOne'].groupby('genre').agg({'name':['count'], 'sum_sales':['sum']}), on='genre', how='left')\n",
        "df_distr.columns = ['all_cnt', 'all_sum','3DS_cnt', '3DS_sum','PS4_cnt', 'PS4_sum','XOne_cnt', 'XOne_sum']\n",
        "df_distr"
      ]
    },
    {
      "cell_type": "code",
      "execution_count": null,
      "metadata": {
        "id": "Cu20PP2p_4uR",
        "outputId": "7a5beaea-f378-4e99-b2b2-f0a4582f05a2"
      },
      "outputs": [
        {
          "data": {
            "text/html": [
              "<div>\n",
              "<style scoped>\n",
              "    .dataframe tbody tr th:only-of-type {\n",
              "        vertical-align: middle;\n",
              "    }\n",
              "\n",
              "    .dataframe tbody tr th {\n",
              "        vertical-align: top;\n",
              "    }\n",
              "\n",
              "    .dataframe thead th {\n",
              "        text-align: right;\n",
              "    }\n",
              "</style>\n",
              "<table border=\"1\" class=\"dataframe\">\n",
              "  <thead>\n",
              "    <tr style=\"text-align: right;\">\n",
              "      <th></th>\n",
              "      <th>all_mean</th>\n",
              "      <th>all_median</th>\n",
              "      <th>3DS_mean</th>\n",
              "      <th>3DS_median</th>\n",
              "      <th>PS4_mean</th>\n",
              "      <th>PS4_median</th>\n",
              "      <th>XOne_mean</th>\n",
              "      <th>XOne_median</th>\n",
              "    </tr>\n",
              "    <tr>\n",
              "      <th>genre</th>\n",
              "      <th></th>\n",
              "      <th></th>\n",
              "      <th></th>\n",
              "      <th></th>\n",
              "      <th></th>\n",
              "      <th></th>\n",
              "      <th></th>\n",
              "      <th></th>\n",
              "    </tr>\n",
              "  </thead>\n",
              "  <tbody>\n",
              "    <tr>\n",
              "      <td>Action</td>\n",
              "      <td>0.420196</td>\n",
              "      <td>0.110</td>\n",
              "      <td>0.293448</td>\n",
              "      <td>0.070</td>\n",
              "      <td>0.667361</td>\n",
              "      <td>0.155</td>\n",
              "      <td>0.438941</td>\n",
              "      <td>0.150</td>\n",
              "    </tr>\n",
              "    <tr>\n",
              "      <td>Adventure</td>\n",
              "      <td>0.096490</td>\n",
              "      <td>0.030</td>\n",
              "      <td>0.123333</td>\n",
              "      <td>0.060</td>\n",
              "      <td>0.226429</td>\n",
              "      <td>0.070</td>\n",
              "      <td>0.191429</td>\n",
              "      <td>0.060</td>\n",
              "    </tr>\n",
              "    <tr>\n",
              "      <td>Fighting</td>\n",
              "      <td>0.441375</td>\n",
              "      <td>0.125</td>\n",
              "      <td>1.172857</td>\n",
              "      <td>0.080</td>\n",
              "      <td>0.480556</td>\n",
              "      <td>0.170</td>\n",
              "      <td>0.350000</td>\n",
              "      <td>0.200</td>\n",
              "    </tr>\n",
              "    <tr>\n",
              "      <td>Misc</td>\n",
              "      <td>0.405290</td>\n",
              "      <td>0.100</td>\n",
              "      <td>0.221875</td>\n",
              "      <td>0.080</td>\n",
              "      <td>0.409500</td>\n",
              "      <td>0.075</td>\n",
              "      <td>0.391053</td>\n",
              "      <td>0.180</td>\n",
              "    </tr>\n",
              "    <tr>\n",
              "      <td>Platform</td>\n",
              "      <td>0.576081</td>\n",
              "      <td>0.225</td>\n",
              "      <td>0.586000</td>\n",
              "      <td>0.240</td>\n",
              "      <td>0.640833</td>\n",
              "      <td>0.300</td>\n",
              "      <td>0.186000</td>\n",
              "      <td>0.160</td>\n",
              "    </tr>\n",
              "    <tr>\n",
              "      <td>Puzzle</td>\n",
              "      <td>0.186471</td>\n",
              "      <td>0.060</td>\n",
              "      <td>0.192222</td>\n",
              "      <td>0.100</td>\n",
              "      <td>0.020000</td>\n",
              "      <td>0.020</td>\n",
              "      <td>NaN</td>\n",
              "      <td>NaN</td>\n",
              "    </tr>\n",
              "    <tr>\n",
              "      <td>Racing</td>\n",
              "      <td>0.469294</td>\n",
              "      <td>0.120</td>\n",
              "      <td>NaN</td>\n",
              "      <td>NaN</td>\n",
              "      <td>0.638947</td>\n",
              "      <td>0.230</td>\n",
              "      <td>0.489500</td>\n",
              "      <td>0.185</td>\n",
              "    </tr>\n",
              "    <tr>\n",
              "      <td>Role-Playing</td>\n",
              "      <td>0.499623</td>\n",
              "      <td>0.125</td>\n",
              "      <td>1.086613</td>\n",
              "      <td>0.175</td>\n",
              "      <td>0.568431</td>\n",
              "      <td>0.200</td>\n",
              "      <td>0.753571</td>\n",
              "      <td>0.320</td>\n",
              "    </tr>\n",
              "    <tr>\n",
              "      <td>Shooter</td>\n",
              "      <td>1.245882</td>\n",
              "      <td>0.450</td>\n",
              "      <td>0.060000</td>\n",
              "      <td>0.060</td>\n",
              "      <td>2.160000</td>\n",
              "      <td>0.970</td>\n",
              "      <td>1.587632</td>\n",
              "      <td>1.095</td>\n",
              "    </tr>\n",
              "    <tr>\n",
              "      <td>Simulation</td>\n",
              "      <td>0.350968</td>\n",
              "      <td>0.100</td>\n",
              "      <td>0.635333</td>\n",
              "      <td>0.060</td>\n",
              "      <td>0.205000</td>\n",
              "      <td>0.210</td>\n",
              "      <td>0.172500</td>\n",
              "      <td>0.160</td>\n",
              "    </tr>\n",
              "    <tr>\n",
              "      <td>Sports</td>\n",
              "      <td>0.703972</td>\n",
              "      <td>0.240</td>\n",
              "      <td>0.227500</td>\n",
              "      <td>0.185</td>\n",
              "      <td>1.208913</td>\n",
              "      <td>0.525</td>\n",
              "      <td>0.703684</td>\n",
              "      <td>0.335</td>\n",
              "    </tr>\n",
              "    <tr>\n",
              "      <td>Strategy</td>\n",
              "      <td>0.180000</td>\n",
              "      <td>0.080</td>\n",
              "      <td>0.115455</td>\n",
              "      <td>0.060</td>\n",
              "      <td>0.103333</td>\n",
              "      <td>0.080</td>\n",
              "      <td>0.140000</td>\n",
              "      <td>0.170</td>\n",
              "    </tr>\n",
              "  </tbody>\n",
              "</table>\n",
              "</div>"
            ],
            "text/plain": [
              "              all_mean  all_median  3DS_mean  3DS_median  PS4_mean  \\\n",
              "genre                                                                \n",
              "Action        0.420196       0.110  0.293448       0.070  0.667361   \n",
              "Adventure     0.096490       0.030  0.123333       0.060  0.226429   \n",
              "Fighting      0.441375       0.125  1.172857       0.080  0.480556   \n",
              "Misc          0.405290       0.100  0.221875       0.080  0.409500   \n",
              "Platform      0.576081       0.225  0.586000       0.240  0.640833   \n",
              "Puzzle        0.186471       0.060  0.192222       0.100  0.020000   \n",
              "Racing        0.469294       0.120       NaN         NaN  0.638947   \n",
              "Role-Playing  0.499623       0.125  1.086613       0.175  0.568431   \n",
              "Shooter       1.245882       0.450  0.060000       0.060  2.160000   \n",
              "Simulation    0.350968       0.100  0.635333       0.060  0.205000   \n",
              "Sports        0.703972       0.240  0.227500       0.185  1.208913   \n",
              "Strategy      0.180000       0.080  0.115455       0.060  0.103333   \n",
              "\n",
              "              PS4_median  XOne_mean  XOne_median  \n",
              "genre                                             \n",
              "Action             0.155   0.438941        0.150  \n",
              "Adventure          0.070   0.191429        0.060  \n",
              "Fighting           0.170   0.350000        0.200  \n",
              "Misc               0.075   0.391053        0.180  \n",
              "Platform           0.300   0.186000        0.160  \n",
              "Puzzle             0.020        NaN          NaN  \n",
              "Racing             0.230   0.489500        0.185  \n",
              "Role-Playing       0.200   0.753571        0.320  \n",
              "Shooter            0.970   1.587632        1.095  \n",
              "Simulation         0.210   0.172500        0.160  \n",
              "Sports             0.525   0.703684        0.335  \n",
              "Strategy           0.080   0.140000        0.170  "
            ]
          },
          "execution_count": 35,
          "metadata": {},
          "output_type": "execute_result"
        }
      ],
      "source": [
        "df_distr_m = df.groupby('genre').agg({'sum_sales':['mean','median']})\n",
        "df_distr_m = df_distr_m.merge(df[df.platform == '3DS'].groupby('genre').agg({'sum_sales':['mean','median']}), on='genre', how='left')\n",
        "df_distr_m.columns = ['all_mean', 'all_median','3DS_mean', '3DS_median']\n",
        "df_distr_m = df_distr_m.merge(df[df.platform == 'PS4'].groupby('genre').agg({'sum_sales':['mean','median']}), on='genre', how='left')\n",
        "df_distr_m.columns = ['all_mean', 'all_median','3DS_mean', '3DS_median','PS4_mean', 'PS4_median']\n",
        "df_distr_m = df_distr_m.merge(df[df.platform == 'XOne'].groupby('genre').agg({'sum_sales':['mean','median']}), on='genre', how='left')\n",
        "df_distr_m.columns = ['all_mean', 'all_median','3DS_mean', '3DS_median','PS4_mean', 'PS4_median','XOne_mean', 'XOne_median']\n",
        "df_distr_m"
      ]
    },
    {
      "cell_type": "markdown",
      "metadata": {
        "id": "PJRs4tTc_4uS"
      },
      "source": [
        "Продажи по разным жанрам могут отличаться более, чем в 10 раз. В основном это коррелирует с количеством игр в жанре, однако не всегда. Наиболее успешными жанрами по продажам можно считать Action, Sports, Shooter и Role-Playing.\n",
        "\n",
        "## Портрет пользователя каждого региона"
      ]
    },
    {
      "cell_type": "code",
      "execution_count": null,
      "metadata": {
        "id": "7Ud8I-e0_4uS",
        "outputId": "cdbe35e0-069b-4f6e-bf5e-756bcd014013"
      },
      "outputs": [
        {
          "data": {
            "text/plain": [
              "'топ платформ в Северной Америке'"
            ]
          },
          "metadata": {},
          "output_type": "display_data"
        },
        {
          "data": {
            "text/html": [
              "<div>\n",
              "<style scoped>\n",
              "    .dataframe tbody tr th:only-of-type {\n",
              "        vertical-align: middle;\n",
              "    }\n",
              "\n",
              "    .dataframe tbody tr th {\n",
              "        vertical-align: top;\n",
              "    }\n",
              "\n",
              "    .dataframe thead th {\n",
              "        text-align: right;\n",
              "    }\n",
              "</style>\n",
              "<table border=\"1\" class=\"dataframe\">\n",
              "  <thead>\n",
              "    <tr style=\"text-align: right;\">\n",
              "      <th></th>\n",
              "      <th>na_sales</th>\n",
              "      <th>eu_sales</th>\n",
              "      <th>jp_sales</th>\n",
              "    </tr>\n",
              "    <tr>\n",
              "      <th>platform</th>\n",
              "      <th></th>\n",
              "      <th></th>\n",
              "      <th></th>\n",
              "    </tr>\n",
              "  </thead>\n",
              "  <tbody>\n",
              "    <tr>\n",
              "      <td>3DS</td>\n",
              "      <td>38.20</td>\n",
              "      <td>30.96</td>\n",
              "      <td>67.81</td>\n",
              "    </tr>\n",
              "    <tr>\n",
              "      <td>PS3</td>\n",
              "      <td>63.50</td>\n",
              "      <td>67.81</td>\n",
              "      <td>23.35</td>\n",
              "    </tr>\n",
              "    <tr>\n",
              "      <td>X360</td>\n",
              "      <td>81.66</td>\n",
              "      <td>42.52</td>\n",
              "      <td>0.51</td>\n",
              "    </tr>\n",
              "    <tr>\n",
              "      <td>XOne</td>\n",
              "      <td>93.12</td>\n",
              "      <td>51.59</td>\n",
              "      <td>0.34</td>\n",
              "    </tr>\n",
              "    <tr>\n",
              "      <td>PS4</td>\n",
              "      <td>108.74</td>\n",
              "      <td>141.09</td>\n",
              "      <td>15.96</td>\n",
              "    </tr>\n",
              "  </tbody>\n",
              "</table>\n",
              "</div>"
            ],
            "text/plain": [
              "          na_sales  eu_sales  jp_sales\n",
              "platform                              \n",
              "3DS          38.20     30.96     67.81\n",
              "PS3          63.50     67.81     23.35\n",
              "X360         81.66     42.52      0.51\n",
              "XOne         93.12     51.59      0.34\n",
              "PS4         108.74    141.09     15.96"
            ]
          },
          "metadata": {},
          "output_type": "display_data"
        },
        {
          "data": {
            "text/plain": [
              "'топ платформ в Европе'"
            ]
          },
          "metadata": {},
          "output_type": "display_data"
        },
        {
          "data": {
            "text/html": [
              "<div>\n",
              "<style scoped>\n",
              "    .dataframe tbody tr th:only-of-type {\n",
              "        vertical-align: middle;\n",
              "    }\n",
              "\n",
              "    .dataframe tbody tr th {\n",
              "        vertical-align: top;\n",
              "    }\n",
              "\n",
              "    .dataframe thead th {\n",
              "        text-align: right;\n",
              "    }\n",
              "</style>\n",
              "<table border=\"1\" class=\"dataframe\">\n",
              "  <thead>\n",
              "    <tr style=\"text-align: right;\">\n",
              "      <th></th>\n",
              "      <th>na_sales</th>\n",
              "      <th>eu_sales</th>\n",
              "      <th>jp_sales</th>\n",
              "    </tr>\n",
              "    <tr>\n",
              "      <th>platform</th>\n",
              "      <th></th>\n",
              "      <th></th>\n",
              "      <th></th>\n",
              "    </tr>\n",
              "  </thead>\n",
              "  <tbody>\n",
              "    <tr>\n",
              "      <td>3DS</td>\n",
              "      <td>38.20</td>\n",
              "      <td>30.96</td>\n",
              "      <td>67.81</td>\n",
              "    </tr>\n",
              "    <tr>\n",
              "      <td>X360</td>\n",
              "      <td>81.66</td>\n",
              "      <td>42.52</td>\n",
              "      <td>0.51</td>\n",
              "    </tr>\n",
              "    <tr>\n",
              "      <td>XOne</td>\n",
              "      <td>93.12</td>\n",
              "      <td>51.59</td>\n",
              "      <td>0.34</td>\n",
              "    </tr>\n",
              "    <tr>\n",
              "      <td>PS3</td>\n",
              "      <td>63.50</td>\n",
              "      <td>67.81</td>\n",
              "      <td>23.35</td>\n",
              "    </tr>\n",
              "    <tr>\n",
              "      <td>PS4</td>\n",
              "      <td>108.74</td>\n",
              "      <td>141.09</td>\n",
              "      <td>15.96</td>\n",
              "    </tr>\n",
              "  </tbody>\n",
              "</table>\n",
              "</div>"
            ],
            "text/plain": [
              "          na_sales  eu_sales  jp_sales\n",
              "platform                              \n",
              "3DS          38.20     30.96     67.81\n",
              "X360         81.66     42.52      0.51\n",
              "XOne         93.12     51.59      0.34\n",
              "PS3          63.50     67.81     23.35\n",
              "PS4         108.74    141.09     15.96"
            ]
          },
          "metadata": {},
          "output_type": "display_data"
        },
        {
          "data": {
            "text/plain": [
              "'топ платформ в Японии'"
            ]
          },
          "metadata": {},
          "output_type": "display_data"
        },
        {
          "data": {
            "text/html": [
              "<div>\n",
              "<style scoped>\n",
              "    .dataframe tbody tr th:only-of-type {\n",
              "        vertical-align: middle;\n",
              "    }\n",
              "\n",
              "    .dataframe tbody tr th {\n",
              "        vertical-align: top;\n",
              "    }\n",
              "\n",
              "    .dataframe thead th {\n",
              "        text-align: right;\n",
              "    }\n",
              "</style>\n",
              "<table border=\"1\" class=\"dataframe\">\n",
              "  <thead>\n",
              "    <tr style=\"text-align: right;\">\n",
              "      <th></th>\n",
              "      <th>na_sales</th>\n",
              "      <th>eu_sales</th>\n",
              "      <th>jp_sales</th>\n",
              "    </tr>\n",
              "    <tr>\n",
              "      <th>platform</th>\n",
              "      <th></th>\n",
              "      <th></th>\n",
              "      <th></th>\n",
              "    </tr>\n",
              "  </thead>\n",
              "  <tbody>\n",
              "    <tr>\n",
              "      <td>WiiU</td>\n",
              "      <td>29.21</td>\n",
              "      <td>19.85</td>\n",
              "      <td>10.88</td>\n",
              "    </tr>\n",
              "    <tr>\n",
              "      <td>PS4</td>\n",
              "      <td>108.74</td>\n",
              "      <td>141.09</td>\n",
              "      <td>15.96</td>\n",
              "    </tr>\n",
              "    <tr>\n",
              "      <td>PSV</td>\n",
              "      <td>5.04</td>\n",
              "      <td>6.10</td>\n",
              "      <td>18.59</td>\n",
              "    </tr>\n",
              "    <tr>\n",
              "      <td>PS3</td>\n",
              "      <td>63.50</td>\n",
              "      <td>67.81</td>\n",
              "      <td>23.35</td>\n",
              "    </tr>\n",
              "    <tr>\n",
              "      <td>3DS</td>\n",
              "      <td>38.20</td>\n",
              "      <td>30.96</td>\n",
              "      <td>67.81</td>\n",
              "    </tr>\n",
              "  </tbody>\n",
              "</table>\n",
              "</div>"
            ],
            "text/plain": [
              "          na_sales  eu_sales  jp_sales\n",
              "platform                              \n",
              "WiiU         29.21     19.85     10.88\n",
              "PS4         108.74    141.09     15.96\n",
              "PSV           5.04      6.10     18.59\n",
              "PS3          63.50     67.81     23.35\n",
              "3DS          38.20     30.96     67.81"
            ]
          },
          "metadata": {},
          "output_type": "display_data"
        }
      ],
      "source": [
        "platform_in_region = df.groupby('platform').agg({'na_sales':['sum'], 'eu_sales':['sum'], 'jp_sales':['sum']})\n",
        "platform_in_region.columns = ['na_sales', 'eu_sales', 'jp_sales']\n",
        "\n",
        "display('топ платформ в Северной Америке')\n",
        "display(platform_in_region.sort_values('na_sales').tail())\n",
        "\n",
        "display('топ платформ в Европе')\n",
        "display(platform_in_region.sort_values('eu_sales').tail())\n",
        "\n",
        "display('топ платформ в Японии')\n",
        "display(platform_in_region.sort_values('jp_sales').tail())"
      ]
    },
    {
      "cell_type": "markdown",
      "metadata": {
        "id": "xrrF1R75_4uT"
      },
      "source": [
        "Топы платформ в разных регионах достаточно схож, однако они стоят на разных позициях. Разница кроется в регионах происхождения этих платформ. Очевидно, что люди чаще поддерживают месных производителей."
      ]
    },
    {
      "cell_type": "code",
      "execution_count": null,
      "metadata": {
        "id": "jvfAj6ov_4uT",
        "outputId": "6ba96dff-ae6e-40ff-d394-abf6286eb73c"
      },
      "outputs": [
        {
          "data": {
            "text/plain": [
              "'топ жанров в Северной Америке'"
            ]
          },
          "metadata": {},
          "output_type": "display_data"
        },
        {
          "data": {
            "text/html": [
              "<div>\n",
              "<style scoped>\n",
              "    .dataframe tbody tr th:only-of-type {\n",
              "        vertical-align: middle;\n",
              "    }\n",
              "\n",
              "    .dataframe tbody tr th {\n",
              "        vertical-align: top;\n",
              "    }\n",
              "\n",
              "    .dataframe thead th {\n",
              "        text-align: right;\n",
              "    }\n",
              "</style>\n",
              "<table border=\"1\" class=\"dataframe\">\n",
              "  <thead>\n",
              "    <tr style=\"text-align: right;\">\n",
              "      <th></th>\n",
              "      <th>na_sales</th>\n",
              "      <th>eu_sales</th>\n",
              "      <th>jp_sales</th>\n",
              "    </tr>\n",
              "    <tr>\n",
              "      <th>genre</th>\n",
              "      <th></th>\n",
              "      <th></th>\n",
              "      <th></th>\n",
              "    </tr>\n",
              "  </thead>\n",
              "  <tbody>\n",
              "    <tr>\n",
              "      <td>Misc</td>\n",
              "      <td>27.49</td>\n",
              "      <td>20.04</td>\n",
              "      <td>9.20</td>\n",
              "    </tr>\n",
              "    <tr>\n",
              "      <td>Role-Playing</td>\n",
              "      <td>46.40</td>\n",
              "      <td>36.97</td>\n",
              "      <td>51.04</td>\n",
              "    </tr>\n",
              "    <tr>\n",
              "      <td>Sports</td>\n",
              "      <td>65.27</td>\n",
              "      <td>60.52</td>\n",
              "      <td>5.41</td>\n",
              "    </tr>\n",
              "    <tr>\n",
              "      <td>Shooter</td>\n",
              "      <td>109.74</td>\n",
              "      <td>87.86</td>\n",
              "      <td>6.61</td>\n",
              "    </tr>\n",
              "    <tr>\n",
              "      <td>Action</td>\n",
              "      <td>126.05</td>\n",
              "      <td>118.13</td>\n",
              "      <td>40.49</td>\n",
              "    </tr>\n",
              "  </tbody>\n",
              "</table>\n",
              "</div>"
            ],
            "text/plain": [
              "              na_sales  eu_sales  jp_sales\n",
              "genre                                     \n",
              "Misc             27.49     20.04      9.20\n",
              "Role-Playing     46.40     36.97     51.04\n",
              "Sports           65.27     60.52      5.41\n",
              "Shooter         109.74     87.86      6.61\n",
              "Action          126.05    118.13     40.49"
            ]
          },
          "metadata": {},
          "output_type": "display_data"
        },
        {
          "data": {
            "text/plain": [
              "'топ жанров в Европе'"
            ]
          },
          "metadata": {},
          "output_type": "display_data"
        },
        {
          "data": {
            "text/html": [
              "<div>\n",
              "<style scoped>\n",
              "    .dataframe tbody tr th:only-of-type {\n",
              "        vertical-align: middle;\n",
              "    }\n",
              "\n",
              "    .dataframe tbody tr th {\n",
              "        vertical-align: top;\n",
              "    }\n",
              "\n",
              "    .dataframe thead th {\n",
              "        text-align: right;\n",
              "    }\n",
              "</style>\n",
              "<table border=\"1\" class=\"dataframe\">\n",
              "  <thead>\n",
              "    <tr style=\"text-align: right;\">\n",
              "      <th></th>\n",
              "      <th>na_sales</th>\n",
              "      <th>eu_sales</th>\n",
              "      <th>jp_sales</th>\n",
              "    </tr>\n",
              "    <tr>\n",
              "      <th>genre</th>\n",
              "      <th></th>\n",
              "      <th></th>\n",
              "      <th></th>\n",
              "    </tr>\n",
              "  </thead>\n",
              "  <tbody>\n",
              "    <tr>\n",
              "      <td>Racing</td>\n",
              "      <td>12.96</td>\n",
              "      <td>20.19</td>\n",
              "      <td>2.30</td>\n",
              "    </tr>\n",
              "    <tr>\n",
              "      <td>Role-Playing</td>\n",
              "      <td>46.40</td>\n",
              "      <td>36.97</td>\n",
              "      <td>51.04</td>\n",
              "    </tr>\n",
              "    <tr>\n",
              "      <td>Sports</td>\n",
              "      <td>65.27</td>\n",
              "      <td>60.52</td>\n",
              "      <td>5.41</td>\n",
              "    </tr>\n",
              "    <tr>\n",
              "      <td>Shooter</td>\n",
              "      <td>109.74</td>\n",
              "      <td>87.86</td>\n",
              "      <td>6.61</td>\n",
              "    </tr>\n",
              "    <tr>\n",
              "      <td>Action</td>\n",
              "      <td>126.05</td>\n",
              "      <td>118.13</td>\n",
              "      <td>40.49</td>\n",
              "    </tr>\n",
              "  </tbody>\n",
              "</table>\n",
              "</div>"
            ],
            "text/plain": [
              "              na_sales  eu_sales  jp_sales\n",
              "genre                                     \n",
              "Racing           12.96     20.19      2.30\n",
              "Role-Playing     46.40     36.97     51.04\n",
              "Sports           65.27     60.52      5.41\n",
              "Shooter         109.74     87.86      6.61\n",
              "Action          126.05    118.13     40.49"
            ]
          },
          "metadata": {},
          "output_type": "display_data"
        },
        {
          "data": {
            "text/plain": [
              "'топ жанров в Японии'"
            ]
          },
          "metadata": {},
          "output_type": "display_data"
        },
        {
          "data": {
            "text/html": [
              "<div>\n",
              "<style scoped>\n",
              "    .dataframe tbody tr th:only-of-type {\n",
              "        vertical-align: middle;\n",
              "    }\n",
              "\n",
              "    .dataframe tbody tr th {\n",
              "        vertical-align: top;\n",
              "    }\n",
              "\n",
              "    .dataframe thead th {\n",
              "        text-align: right;\n",
              "    }\n",
              "</style>\n",
              "<table border=\"1\" class=\"dataframe\">\n",
              "  <thead>\n",
              "    <tr style=\"text-align: right;\">\n",
              "      <th></th>\n",
              "      <th>na_sales</th>\n",
              "      <th>eu_sales</th>\n",
              "      <th>jp_sales</th>\n",
              "    </tr>\n",
              "    <tr>\n",
              "      <th>genre</th>\n",
              "      <th></th>\n",
              "      <th></th>\n",
              "      <th></th>\n",
              "    </tr>\n",
              "  </thead>\n",
              "  <tbody>\n",
              "    <tr>\n",
              "      <td>Shooter</td>\n",
              "      <td>109.74</td>\n",
              "      <td>87.86</td>\n",
              "      <td>6.61</td>\n",
              "    </tr>\n",
              "    <tr>\n",
              "      <td>Fighting</td>\n",
              "      <td>15.55</td>\n",
              "      <td>8.55</td>\n",
              "      <td>7.65</td>\n",
              "    </tr>\n",
              "    <tr>\n",
              "      <td>Misc</td>\n",
              "      <td>27.49</td>\n",
              "      <td>20.04</td>\n",
              "      <td>9.20</td>\n",
              "    </tr>\n",
              "    <tr>\n",
              "      <td>Action</td>\n",
              "      <td>126.05</td>\n",
              "      <td>118.13</td>\n",
              "      <td>40.49</td>\n",
              "    </tr>\n",
              "    <tr>\n",
              "      <td>Role-Playing</td>\n",
              "      <td>46.40</td>\n",
              "      <td>36.97</td>\n",
              "      <td>51.04</td>\n",
              "    </tr>\n",
              "  </tbody>\n",
              "</table>\n",
              "</div>"
            ],
            "text/plain": [
              "              na_sales  eu_sales  jp_sales\n",
              "genre                                     \n",
              "Shooter         109.74     87.86      6.61\n",
              "Fighting         15.55      8.55      7.65\n",
              "Misc             27.49     20.04      9.20\n",
              "Action          126.05    118.13     40.49\n",
              "Role-Playing     46.40     36.97     51.04"
            ]
          },
          "metadata": {},
          "output_type": "display_data"
        }
      ],
      "source": [
        "genre_in_region = df.groupby('genre').agg({'na_sales':['sum'], 'eu_sales':['sum'], 'jp_sales':['sum']})\n",
        "genre_in_region.columns = ['na_sales', 'eu_sales', 'jp_sales']\n",
        "\n",
        "display('топ жанров в Северной Америке')\n",
        "display(genre_in_region.sort_values('na_sales').tail())\n",
        "\n",
        "display('топ жанров в Европе')\n",
        "display(genre_in_region.sort_values('eu_sales').tail())\n",
        "\n",
        "display('топ жанров в Японии')\n",
        "display(genre_in_region.sort_values('jp_sales').tail())"
      ]
    },
    {
      "cell_type": "markdown",
      "metadata": {
        "id": "O5x_WN20_4uT"
      },
      "source": [
        "Разница в жанрах ниже, чем в платформах. Однако в японии игры Role-Playing оказались на первом месте, а вот жанр Shooter совсем не попал в топ 5"
      ]
    },
    {
      "cell_type": "code",
      "execution_count": null,
      "metadata": {
        "id": "UQfToJeR_4uT",
        "outputId": "c4316777-48da-4202-f51d-0175a2679ce8"
      },
      "outputs": [
        {
          "data": {
            "text/plain": [
              "'рейтинг в Северной Америке'"
            ]
          },
          "metadata": {},
          "output_type": "display_data"
        },
        {
          "data": {
            "text/html": [
              "<div>\n",
              "<style scoped>\n",
              "    .dataframe tbody tr th:only-of-type {\n",
              "        vertical-align: middle;\n",
              "    }\n",
              "\n",
              "    .dataframe tbody tr th {\n",
              "        vertical-align: top;\n",
              "    }\n",
              "\n",
              "    .dataframe thead th {\n",
              "        text-align: right;\n",
              "    }\n",
              "</style>\n",
              "<table border=\"1\" class=\"dataframe\">\n",
              "  <thead>\n",
              "    <tr style=\"text-align: right;\">\n",
              "      <th></th>\n",
              "      <th>na_sales</th>\n",
              "      <th>eu_sales</th>\n",
              "      <th>jp_sales</th>\n",
              "    </tr>\n",
              "    <tr>\n",
              "      <th>rating</th>\n",
              "      <th></th>\n",
              "      <th></th>\n",
              "      <th></th>\n",
              "    </tr>\n",
              "  </thead>\n",
              "  <tbody>\n",
              "    <tr>\n",
              "      <td>T</td>\n",
              "      <td>49.79</td>\n",
              "      <td>41.95</td>\n",
              "      <td>20.59</td>\n",
              "    </tr>\n",
              "    <tr>\n",
              "      <td>E10+</td>\n",
              "      <td>54.24</td>\n",
              "      <td>42.69</td>\n",
              "      <td>5.89</td>\n",
              "    </tr>\n",
              "    <tr>\n",
              "      <td>E</td>\n",
              "      <td>79.05</td>\n",
              "      <td>83.36</td>\n",
              "      <td>15.14</td>\n",
              "    </tr>\n",
              "    <tr>\n",
              "      <td>NaN</td>\n",
              "      <td>89.42</td>\n",
              "      <td>78.91</td>\n",
              "      <td>85.05</td>\n",
              "    </tr>\n",
              "    <tr>\n",
              "      <td>M</td>\n",
              "      <td>165.21</td>\n",
              "      <td>145.32</td>\n",
              "      <td>14.11</td>\n",
              "    </tr>\n",
              "  </tbody>\n",
              "</table>\n",
              "</div>"
            ],
            "text/plain": [
              "        na_sales  eu_sales  jp_sales\n",
              "rating                              \n",
              "T          49.79     41.95     20.59\n",
              "E10+       54.24     42.69      5.89\n",
              "E          79.05     83.36     15.14\n",
              "NaN        89.42     78.91     85.05\n",
              "M         165.21    145.32     14.11"
            ]
          },
          "metadata": {},
          "output_type": "display_data"
        },
        {
          "data": {
            "text/plain": [
              "'рейтинг в Европе'"
            ]
          },
          "metadata": {},
          "output_type": "display_data"
        },
        {
          "data": {
            "text/html": [
              "<div>\n",
              "<style scoped>\n",
              "    .dataframe tbody tr th:only-of-type {\n",
              "        vertical-align: middle;\n",
              "    }\n",
              "\n",
              "    .dataframe tbody tr th {\n",
              "        vertical-align: top;\n",
              "    }\n",
              "\n",
              "    .dataframe thead th {\n",
              "        text-align: right;\n",
              "    }\n",
              "</style>\n",
              "<table border=\"1\" class=\"dataframe\">\n",
              "  <thead>\n",
              "    <tr style=\"text-align: right;\">\n",
              "      <th></th>\n",
              "      <th>na_sales</th>\n",
              "      <th>eu_sales</th>\n",
              "      <th>jp_sales</th>\n",
              "    </tr>\n",
              "    <tr>\n",
              "      <th>rating</th>\n",
              "      <th></th>\n",
              "      <th></th>\n",
              "      <th></th>\n",
              "    </tr>\n",
              "  </thead>\n",
              "  <tbody>\n",
              "    <tr>\n",
              "      <td>T</td>\n",
              "      <td>49.79</td>\n",
              "      <td>41.95</td>\n",
              "      <td>20.59</td>\n",
              "    </tr>\n",
              "    <tr>\n",
              "      <td>E10+</td>\n",
              "      <td>54.24</td>\n",
              "      <td>42.69</td>\n",
              "      <td>5.89</td>\n",
              "    </tr>\n",
              "    <tr>\n",
              "      <td>NaN</td>\n",
              "      <td>89.42</td>\n",
              "      <td>78.91</td>\n",
              "      <td>85.05</td>\n",
              "    </tr>\n",
              "    <tr>\n",
              "      <td>E</td>\n",
              "      <td>79.05</td>\n",
              "      <td>83.36</td>\n",
              "      <td>15.14</td>\n",
              "    </tr>\n",
              "    <tr>\n",
              "      <td>M</td>\n",
              "      <td>165.21</td>\n",
              "      <td>145.32</td>\n",
              "      <td>14.11</td>\n",
              "    </tr>\n",
              "  </tbody>\n",
              "</table>\n",
              "</div>"
            ],
            "text/plain": [
              "        na_sales  eu_sales  jp_sales\n",
              "rating                              \n",
              "T          49.79     41.95     20.59\n",
              "E10+       54.24     42.69      5.89\n",
              "NaN        89.42     78.91     85.05\n",
              "E          79.05     83.36     15.14\n",
              "M         165.21    145.32     14.11"
            ]
          },
          "metadata": {},
          "output_type": "display_data"
        },
        {
          "data": {
            "text/plain": [
              "'рейтинг в Японии'"
            ]
          },
          "metadata": {},
          "output_type": "display_data"
        },
        {
          "data": {
            "text/html": [
              "<div>\n",
              "<style scoped>\n",
              "    .dataframe tbody tr th:only-of-type {\n",
              "        vertical-align: middle;\n",
              "    }\n",
              "\n",
              "    .dataframe tbody tr th {\n",
              "        vertical-align: top;\n",
              "    }\n",
              "\n",
              "    .dataframe thead th {\n",
              "        text-align: right;\n",
              "    }\n",
              "</style>\n",
              "<table border=\"1\" class=\"dataframe\">\n",
              "  <thead>\n",
              "    <tr style=\"text-align: right;\">\n",
              "      <th></th>\n",
              "      <th>na_sales</th>\n",
              "      <th>eu_sales</th>\n",
              "      <th>jp_sales</th>\n",
              "    </tr>\n",
              "    <tr>\n",
              "      <th>rating</th>\n",
              "      <th></th>\n",
              "      <th></th>\n",
              "      <th></th>\n",
              "    </tr>\n",
              "  </thead>\n",
              "  <tbody>\n",
              "    <tr>\n",
              "      <td>E10+</td>\n",
              "      <td>54.24</td>\n",
              "      <td>42.69</td>\n",
              "      <td>5.89</td>\n",
              "    </tr>\n",
              "    <tr>\n",
              "      <td>M</td>\n",
              "      <td>165.21</td>\n",
              "      <td>145.32</td>\n",
              "      <td>14.11</td>\n",
              "    </tr>\n",
              "    <tr>\n",
              "      <td>E</td>\n",
              "      <td>79.05</td>\n",
              "      <td>83.36</td>\n",
              "      <td>15.14</td>\n",
              "    </tr>\n",
              "    <tr>\n",
              "      <td>T</td>\n",
              "      <td>49.79</td>\n",
              "      <td>41.95</td>\n",
              "      <td>20.59</td>\n",
              "    </tr>\n",
              "    <tr>\n",
              "      <td>NaN</td>\n",
              "      <td>89.42</td>\n",
              "      <td>78.91</td>\n",
              "      <td>85.05</td>\n",
              "    </tr>\n",
              "  </tbody>\n",
              "</table>\n",
              "</div>"
            ],
            "text/plain": [
              "        na_sales  eu_sales  jp_sales\n",
              "rating                              \n",
              "E10+       54.24     42.69      5.89\n",
              "M         165.21    145.32     14.11\n",
              "E          79.05     83.36     15.14\n",
              "T          49.79     41.95     20.59\n",
              "NaN        89.42     78.91     85.05"
            ]
          },
          "metadata": {},
          "output_type": "display_data"
        }
      ],
      "source": [
        "df.rating = df.rating.fillna('NaN')\n",
        "\n",
        "rating_in_region = df.groupby('rating').agg({'na_sales':['sum'], 'eu_sales':['sum'], 'jp_sales':['sum']})\n",
        "rating_in_region.columns = ['na_sales', 'eu_sales', 'jp_sales']\n",
        "\n",
        "display('рейтинг в Северной Америке')\n",
        "display(rating_in_region.sort_values('na_sales'))\n",
        "\n",
        "display('рейтинг в Европе')\n",
        "display(rating_in_region.sort_values('eu_sales'))\n",
        "\n",
        "display('рейтинг в Японии')\n",
        "display(rating_in_region.sort_values('jp_sales'))"
      ]
    },
    {
      "cell_type": "markdown",
      "metadata": {
        "id": "xODz12qH_4uU"
      },
      "source": [
        "\n",
        "<div class=\"alert alert-block alert-info\" style=\"border-radius: 15px; box-shadow: 4px 4px 4px; border: 1px solid \">\n",
        "    \n",
        "Игры с пропущенным рейтингом оказались достаточно популярны, они стоят на 2-3 месте в Европе и Америке, и аж на первом в Японии. Интересно, что это единственная строка в списке, где продажи примерно равны от региона к региону. Установка этого параметра часто вызывает трудности, при насыщеном содержании, которое может содержать контент для разных групп населения. Такая гибкость к пользователю привлекает больше внимания и делает игры интереснее для большего круга людей.\n",
        "</div>\n"
      ]
    },
    {
      "cell_type": "code",
      "execution_count": null,
      "metadata": {
        "id": "CODgug00_4uU",
        "outputId": "8b92c6b9-9f8f-42b4-83d3-b43dda5c079a"
      },
      "outputs": [
        {
          "data": {
            "text/plain": [
              "NaN     199\n",
              "E10+     41\n",
              "E        39\n",
              "T        18\n",
              "M         6\n",
              "Name: rating, dtype: int64"
            ]
          },
          "execution_count": 39,
          "metadata": {},
          "output_type": "execute_result"
        }
      ],
      "source": [
        "df[df.platform == '3DS']['rating'].value_counts()"
      ]
    },
    {
      "cell_type": "markdown",
      "metadata": {
        "id": "Dpk1_EWy_4uV"
      },
      "source": [
        "В Японии оказались невостребованными такие рейтинги, как adults only, early childhood и rating pending. По первым двум в других регионах продажи есть\n",
        "\n",
        "\n",
        "## Проверьте гипотезы\n",
        "\n",
        "\n",
        "Гипотезы буду выстраивать исходя от знака \"=\", который обычно применяется в нулевой гипотизе."
      ]
    },
    {
      "cell_type": "code",
      "execution_count": null,
      "metadata": {
        "id": "sRyhVS65_4uV",
        "outputId": "5cf1a22d-aa2e-461e-85ed-769873350474"
      },
      "outputs": [
        {
          "name": "stdout",
          "output_type": "stream",
          "text": [
            "p-значение:  0.056840318955344235\n",
            "Не получилось отвергнуть нулевую гипотезу\n"
          ]
        }
      ],
      "source": [
        "# Нулевая гипотеза: Средние пользовательские рейтинги платформ Xbox One и PC равны\n",
        "# Альтернативная гипотеза: Средние пользовательские рейтинги платформ Xbox One и PC различается\n",
        "\n",
        "from scipy import stats as st\n",
        "sample_xone = df[df['platform'] == 'XOne']['user_score']\n",
        "sample_ps = df[df['platform'] == 'PC']['user_score']\n",
        "results = st.ttest_ind(sample_xone, sample_ps, equal_var = False)\n",
        "\n",
        "print('p-значение: ', results.pvalue)\n",
        "\n",
        "if results.pvalue < 0.05:\n",
        "    print(\"Отвергаем нулевую гипотезу 'Средние пользовательские рейтинги платформ Xbox One и PC равны'\")\n",
        "else:\n",
        "    print(\"Не получилось отвергнуть нулевую гипотезу\") "
      ]
    },
    {
      "cell_type": "markdown",
      "metadata": {
        "id": "gRVarS6Z_4uV"
      },
      "source": [
        "\n",
        "<div class=\"alert alert-block alert-info\" style=\"border-radius: 15px; box-shadow: 4px 4px 4px; border: 1px solid \">\n",
        "    \n",
        "Не получается проверить гипотизу, так как платформа PC существовала с 1994 по 2003, а за актуальный период были взяты даты с 2005 года и по условию задачи, все, что было до этого мы не учитываем.\n",
        "</div>\n"
      ]
    },
    {
      "cell_type": "code",
      "execution_count": null,
      "metadata": {
        "id": "wGJeynKa_4uW",
        "outputId": "bf7b73e6-24a5-4f7d-c448-04ae504121a7"
      },
      "outputs": [
        {
          "name": "stdout",
          "output_type": "stream",
          "text": [
            "p-значение:  4.609081770365552e-21\n",
            "Отвергаем нулевую гипотезу 'Средние пользовательские рейтинги жанров Action и Sports равны'\n"
          ]
        }
      ],
      "source": [
        "# Нулевая гипотеза: Средние пользовательские рейтинги жанров Action и Sports равны.\n",
        "# Альтернативная гипотеза: Средние пользовательские рейтинги жанров Action и Sports разные.\n",
        "\n",
        "from scipy import stats as st\n",
        "sample_action = df[df['genre'] == 'Action']['user_score']\n",
        "sample_sports = df[df['genre'] == 'Sports']['user_score']\n",
        "results = st.ttest_ind(sample_action, sample_sports, equal_var = False)\n",
        "\n",
        "print('p-значение: ', results.pvalue)\n",
        "if results.pvalue < 0.05:\n",
        "    print(\"Отвергаем нулевую гипотезу 'Средние пользовательские рейтинги жанров Action и Sports равны'\")\n",
        "else:\n",
        "    print(\"Не получилось отвергнуть нулевую гипотезу\") "
      ]
    },
    {
      "cell_type": "markdown",
      "metadata": {
        "id": "eFy7HNgV_4uW"
      },
      "source": [
        "Для проверки гипотиз взяла за alpha 5%, как стандартное значение. Однако стоит заметить, что даже значительные сдвиги  порогового значения (к 1%) не привели бы к другим выводам."
      ]
    },
    {
      "cell_type": "markdown",
      "metadata": {
        "id": "CrlA_Y2r_4uW"
      },
      "source": [
        "## Вывод\n",
        "\n",
        "По итогу проекта можно сказать, что начиная с 2008 года продажи игр сильно падают и сейчас не самое подходящее время для запуска чего-то стандартного и уже известного. Возможно стоит заняться разработками в смежных областях или новыми продуктами. Думаю, что стоит ориентироваться на такие жанры, как Action, Sports, Shooter и Role-Playing в совокупности с рынком, на который идет ориентация. Серьезную конкурению в этой области может составить платформа PS4, которая имеет богатый опыт в этой сфере.\n",
        "\n",
        "Исследование показало, что \n",
        "\n",
        "    * пользователям Америки больше всего нравятся консоли PS4, XOne и жанр Action \n",
        "    * пользователям Европы нравятся платформа PS4 и жанр Action \n",
        "    * пользователи Японии предпочитают отечественную 3DS и жанр Role-Playing\n",
        "\n",
        "Интересным открытием стало то, что высокая оценка пользователей или критиков не гарантирует высоких продаж. Эта зависимость работает только в обратную сторону, но тоже не всегда.\n",
        "\n",
        "Так же согласно проверенным гипотезам, пользовательские рейтинги платформ Xbox One и PC различаются, как и средние пользовательские рейтинги жанров Action и Sports."
      ]
    }
  ],
  "metadata": {
    "ExecuteTimeLog": [
      {
        "duration": 3063,
        "start_time": "2022-02-08T17:04:44.431Z"
      },
      {
        "duration": 38,
        "start_time": "2022-02-08T17:05:04.439Z"
      },
      {
        "duration": 16,
        "start_time": "2022-02-08T17:05:11.953Z"
      },
      {
        "duration": 12,
        "start_time": "2022-02-08T17:10:58.348Z"
      },
      {
        "duration": 7,
        "start_time": "2022-02-08T17:19:20.706Z"
      },
      {
        "duration": 16,
        "start_time": "2022-02-08T17:19:24.336Z"
      },
      {
        "duration": 11,
        "start_time": "2022-02-08T17:19:31.837Z"
      },
      {
        "duration": 388,
        "start_time": "2022-02-08T17:19:45.349Z"
      },
      {
        "duration": 3,
        "start_time": "2022-02-08T17:19:55.088Z"
      },
      {
        "duration": 3165,
        "start_time": "2022-02-08T17:24:02.972Z"
      },
      {
        "duration": 105,
        "start_time": "2022-02-08T17:28:45.152Z"
      },
      {
        "duration": 18,
        "start_time": "2022-02-08T17:28:49.092Z"
      },
      {
        "duration": 5,
        "start_time": "2022-02-08T17:33:52.988Z"
      },
      {
        "duration": 27,
        "start_time": "2022-02-08T17:33:54.525Z"
      },
      {
        "duration": 2570,
        "start_time": "2022-02-08T17:34:01.829Z"
      },
      {
        "duration": 10,
        "start_time": "2022-02-08T17:35:52.348Z"
      },
      {
        "duration": 17,
        "start_time": "2022-02-08T17:35:53.577Z"
      },
      {
        "duration": 7,
        "start_time": "2022-02-08T17:36:17.287Z"
      },
      {
        "duration": 16,
        "start_time": "2022-02-08T17:36:18.630Z"
      },
      {
        "duration": 2577,
        "start_time": "2022-02-08T17:36:20.796Z"
      },
      {
        "duration": 38,
        "start_time": "2022-02-08T17:36:31.251Z"
      },
      {
        "duration": 398,
        "start_time": "2022-02-08T17:36:36.907Z"
      },
      {
        "duration": 2552,
        "start_time": "2022-02-08T17:36:45.165Z"
      },
      {
        "duration": 11,
        "start_time": "2022-02-08T17:36:49.760Z"
      },
      {
        "duration": 18,
        "start_time": "2022-02-08T17:36:51.091Z"
      },
      {
        "duration": 6,
        "start_time": "2022-02-08T17:36:58.507Z"
      },
      {
        "duration": 5,
        "start_time": "2022-02-08T17:37:02.140Z"
      },
      {
        "duration": 9,
        "start_time": "2022-02-08T17:37:11.036Z"
      },
      {
        "duration": 8,
        "start_time": "2022-02-08T17:43:27.771Z"
      },
      {
        "duration": 318,
        "start_time": "2022-02-08T17:46:13.851Z"
      },
      {
        "duration": 369,
        "start_time": "2022-02-08T17:46:26.928Z"
      },
      {
        "duration": 321,
        "start_time": "2022-02-08T17:46:34.249Z"
      },
      {
        "duration": 6,
        "start_time": "2022-02-08T17:47:21.683Z"
      },
      {
        "duration": 318,
        "start_time": "2022-02-08T17:47:57.783Z"
      },
      {
        "duration": 330,
        "start_time": "2022-02-08T17:48:08.991Z"
      },
      {
        "duration": 321,
        "start_time": "2022-02-08T17:48:14.217Z"
      },
      {
        "duration": 8,
        "start_time": "2022-02-08T17:49:45.015Z"
      },
      {
        "duration": 7,
        "start_time": "2022-02-08T17:49:52.195Z"
      },
      {
        "duration": 289,
        "start_time": "2022-02-10T19:23:14.077Z"
      },
      {
        "duration": 755,
        "start_time": "2022-02-10T19:23:20.580Z"
      },
      {
        "duration": 30,
        "start_time": "2022-02-10T19:23:23.325Z"
      },
      {
        "duration": 18,
        "start_time": "2022-02-10T19:23:29.545Z"
      },
      {
        "duration": 7,
        "start_time": "2022-02-10T19:23:30.654Z"
      },
      {
        "duration": 14,
        "start_time": "2022-02-10T19:23:32.812Z"
      },
      {
        "duration": 10,
        "start_time": "2022-02-10T19:23:34.507Z"
      },
      {
        "duration": 12,
        "start_time": "2022-02-10T19:23:55.528Z"
      },
      {
        "duration": 8,
        "start_time": "2022-02-10T19:23:57.561Z"
      },
      {
        "duration": 13,
        "start_time": "2022-02-10T19:24:04.460Z"
      },
      {
        "duration": 7,
        "start_time": "2022-02-10T19:39:14.175Z"
      },
      {
        "duration": 291,
        "start_time": "2022-02-10T19:45:52.289Z"
      },
      {
        "duration": 16,
        "start_time": "2022-02-10T19:46:01.368Z"
      },
      {
        "duration": 13,
        "start_time": "2022-02-10T19:56:01.348Z"
      },
      {
        "duration": 9,
        "start_time": "2022-02-10T19:56:25.596Z"
      },
      {
        "duration": 7,
        "start_time": "2022-02-10T19:57:52.276Z"
      },
      {
        "duration": 13,
        "start_time": "2022-02-10T19:58:56.240Z"
      },
      {
        "duration": 6,
        "start_time": "2022-02-10T19:59:03.519Z"
      },
      {
        "duration": 17,
        "start_time": "2022-02-10T19:59:22.884Z"
      },
      {
        "duration": 35,
        "start_time": "2022-02-10T19:59:48.668Z"
      },
      {
        "duration": 15,
        "start_time": "2022-02-10T19:59:52.647Z"
      },
      {
        "duration": 32,
        "start_time": "2022-02-10T19:59:53.896Z"
      },
      {
        "duration": 8,
        "start_time": "2022-02-10T19:59:55.884Z"
      },
      {
        "duration": 7,
        "start_time": "2022-02-10T19:59:56.371Z"
      },
      {
        "duration": 8,
        "start_time": "2022-02-10T19:59:57.096Z"
      },
      {
        "duration": 10,
        "start_time": "2022-02-10T20:00:00.728Z"
      },
      {
        "duration": 12,
        "start_time": "2022-02-10T20:00:01.332Z"
      },
      {
        "duration": 20,
        "start_time": "2022-02-10T20:00:02.040Z"
      },
      {
        "duration": 15,
        "start_time": "2022-02-10T20:00:03.088Z"
      },
      {
        "duration": 10,
        "start_time": "2022-02-10T20:00:05.396Z"
      },
      {
        "duration": 19,
        "start_time": "2022-02-10T20:00:09.136Z"
      },
      {
        "duration": 34,
        "start_time": "2022-02-10T20:00:44.728Z"
      },
      {
        "duration": 14,
        "start_time": "2022-02-10T20:00:48.024Z"
      },
      {
        "duration": 32,
        "start_time": "2022-02-10T20:00:49.596Z"
      },
      {
        "duration": 9,
        "start_time": "2022-02-10T20:00:52.507Z"
      },
      {
        "duration": 7,
        "start_time": "2022-02-10T20:00:53.491Z"
      },
      {
        "duration": 13,
        "start_time": "2022-02-10T20:00:53.876Z"
      },
      {
        "duration": 10,
        "start_time": "2022-02-10T20:00:54.516Z"
      },
      {
        "duration": 13,
        "start_time": "2022-02-10T20:00:56.128Z"
      },
      {
        "duration": 18,
        "start_time": "2022-02-10T20:01:15.116Z"
      },
      {
        "duration": 12,
        "start_time": "2022-02-10T20:01:49.864Z"
      },
      {
        "duration": 26,
        "start_time": "2022-02-10T20:01:54.444Z"
      },
      {
        "duration": 15,
        "start_time": "2022-02-10T20:02:01.580Z"
      },
      {
        "duration": 19,
        "start_time": "2022-02-10T20:02:04.848Z"
      },
      {
        "duration": 11,
        "start_time": "2022-02-10T20:09:26.307Z"
      },
      {
        "duration": 11,
        "start_time": "2022-02-10T20:09:50.263Z"
      },
      {
        "duration": 20,
        "start_time": "2022-02-10T20:10:22.879Z"
      },
      {
        "duration": 11,
        "start_time": "2022-02-10T20:10:24.483Z"
      },
      {
        "duration": 23,
        "start_time": "2022-02-10T20:10:28.119Z"
      },
      {
        "duration": 13,
        "start_time": "2022-02-10T20:11:20.940Z"
      },
      {
        "duration": 9,
        "start_time": "2022-02-10T20:11:22.428Z"
      },
      {
        "duration": 6,
        "start_time": "2022-02-10T20:11:25.757Z"
      },
      {
        "duration": 21,
        "start_time": "2022-02-10T20:11:26.615Z"
      },
      {
        "duration": 12,
        "start_time": "2022-02-10T20:12:48.799Z"
      },
      {
        "duration": 856,
        "start_time": "2022-02-10T20:17:29.963Z"
      },
      {
        "duration": 6,
        "start_time": "2022-02-10T20:17:56.682Z"
      },
      {
        "duration": 5,
        "start_time": "2022-02-10T20:18:06.379Z"
      },
      {
        "duration": 8,
        "start_time": "2022-02-10T20:18:15.687Z"
      },
      {
        "duration": 9,
        "start_time": "2022-02-10T20:18:32.479Z"
      },
      {
        "duration": 5,
        "start_time": "2022-02-10T20:18:39.095Z"
      },
      {
        "duration": 18,
        "start_time": "2022-02-10T20:27:09.593Z"
      },
      {
        "duration": 9,
        "start_time": "2022-02-10T20:27:11.783Z"
      },
      {
        "duration": 14,
        "start_time": "2022-02-10T20:27:43.335Z"
      },
      {
        "duration": 9,
        "start_time": "2022-02-10T20:27:52.190Z"
      },
      {
        "duration": 23,
        "start_time": "2022-02-10T20:28:02.607Z"
      },
      {
        "duration": 21,
        "start_time": "2022-02-10T20:28:09.383Z"
      },
      {
        "duration": 21,
        "start_time": "2022-02-10T20:29:11.133Z"
      },
      {
        "duration": 22,
        "start_time": "2022-02-10T20:29:12.687Z"
      },
      {
        "duration": 20,
        "start_time": "2022-02-10T20:29:26.155Z"
      },
      {
        "duration": 20,
        "start_time": "2022-02-10T20:29:26.903Z"
      },
      {
        "duration": 4,
        "start_time": "2022-02-10T20:34:05.047Z"
      },
      {
        "duration": 255,
        "start_time": "2022-02-10T20:35:29.482Z"
      },
      {
        "duration": 5,
        "start_time": "2022-02-10T20:37:02.644Z"
      },
      {
        "duration": 3,
        "start_time": "2022-02-10T20:37:16.655Z"
      },
      {
        "duration": 22,
        "start_time": "2022-02-10T20:37:23.024Z"
      },
      {
        "duration": 264,
        "start_time": "2022-02-10T20:47:07.522Z"
      },
      {
        "duration": 14,
        "start_time": "2022-02-10T20:47:13.442Z"
      },
      {
        "duration": 14,
        "start_time": "2022-02-10T20:48:00.098Z"
      },
      {
        "duration": 23,
        "start_time": "2022-02-10T20:48:24.834Z"
      },
      {
        "duration": 13,
        "start_time": "2022-02-10T20:54:49.098Z"
      },
      {
        "duration": 257,
        "start_time": "2022-02-10T20:55:59.334Z"
      },
      {
        "duration": 293,
        "start_time": "2022-02-10T20:56:04.368Z"
      },
      {
        "duration": 275,
        "start_time": "2022-02-10T20:57:39.738Z"
      },
      {
        "duration": 273,
        "start_time": "2022-02-10T20:57:50.780Z"
      },
      {
        "duration": 16,
        "start_time": "2022-02-10T20:57:59.061Z"
      },
      {
        "duration": 1145,
        "start_time": "2022-02-10T20:59:36.490Z"
      },
      {
        "duration": 13,
        "start_time": "2022-02-10T20:59:46.887Z"
      },
      {
        "duration": 21,
        "start_time": "2022-02-10T21:01:34.204Z"
      },
      {
        "duration": 261,
        "start_time": "2022-02-10T21:01:39.314Z"
      },
      {
        "duration": 118,
        "start_time": "2022-02-10T21:02:31.639Z"
      },
      {
        "duration": 251,
        "start_time": "2022-02-10T21:02:35.589Z"
      },
      {
        "duration": 258,
        "start_time": "2022-02-10T21:03:06.543Z"
      },
      {
        "duration": 257,
        "start_time": "2022-02-10T21:03:20.686Z"
      },
      {
        "duration": 14,
        "start_time": "2022-02-10T21:03:29.921Z"
      },
      {
        "duration": 15,
        "start_time": "2022-02-10T21:03:43.280Z"
      },
      {
        "duration": 281,
        "start_time": "2022-02-10T21:04:26.595Z"
      },
      {
        "duration": 553,
        "start_time": "2022-02-10T21:04:55.034Z"
      },
      {
        "duration": 21,
        "start_time": "2022-02-10T21:07:24.561Z"
      },
      {
        "duration": 9,
        "start_time": "2022-02-10T21:07:37.802Z"
      },
      {
        "duration": 6,
        "start_time": "2022-02-10T21:07:51.176Z"
      },
      {
        "duration": 87,
        "start_time": "2022-02-10T21:09:55.507Z"
      },
      {
        "duration": 3,
        "start_time": "2022-02-10T21:10:48.161Z"
      },
      {
        "duration": 263,
        "start_time": "2022-02-10T21:10:52.480Z"
      },
      {
        "duration": 4,
        "start_time": "2022-02-10T21:10:59.271Z"
      },
      {
        "duration": 333,
        "start_time": "2022-02-10T21:13:42.542Z"
      },
      {
        "duration": 291,
        "start_time": "2022-02-10T21:14:00.073Z"
      },
      {
        "duration": 4,
        "start_time": "2022-02-10T21:15:33.949Z"
      },
      {
        "duration": 462,
        "start_time": "2022-02-10T21:15:35.377Z"
      },
      {
        "duration": 270,
        "start_time": "2022-02-10T21:16:26.721Z"
      },
      {
        "duration": 274,
        "start_time": "2022-02-10T21:18:29.416Z"
      },
      {
        "duration": 425,
        "start_time": "2022-02-10T21:18:43.328Z"
      },
      {
        "duration": 4,
        "start_time": "2022-02-10T21:18:55.005Z"
      },
      {
        "duration": 1216,
        "start_time": "2022-02-13T18:35:39.566Z"
      },
      {
        "duration": 4,
        "start_time": "2022-02-13T18:35:48.102Z"
      },
      {
        "duration": 19,
        "start_time": "2022-02-13T18:35:49.426Z"
      },
      {
        "duration": 1457,
        "start_time": "2022-02-13T18:35:51.962Z"
      },
      {
        "duration": 789,
        "start_time": "2022-02-13T18:35:53.630Z"
      },
      {
        "duration": 14,
        "start_time": "2022-02-13T18:36:09.098Z"
      },
      {
        "duration": 904,
        "start_time": "2022-02-13T18:36:10.535Z"
      },
      {
        "duration": 16,
        "start_time": "2022-02-13T18:36:19.563Z"
      },
      {
        "duration": 10,
        "start_time": "2022-02-13T18:36:22.578Z"
      },
      {
        "duration": 14,
        "start_time": "2022-02-13T18:36:24.022Z"
      },
      {
        "duration": 19,
        "start_time": "2022-02-13T18:36:26.886Z"
      },
      {
        "duration": 32,
        "start_time": "2022-02-13T18:36:30.610Z"
      },
      {
        "duration": 31,
        "start_time": "2022-02-13T18:36:32.130Z"
      },
      {
        "duration": 20,
        "start_time": "2022-02-13T18:36:38.752Z"
      },
      {
        "duration": 18,
        "start_time": "2022-02-13T18:36:44.446Z"
      },
      {
        "duration": 66,
        "start_time": "2022-02-13T18:36:51.071Z"
      },
      {
        "duration": 5,
        "start_time": "2022-02-13T18:39:39.104Z"
      },
      {
        "duration": 11,
        "start_time": "2022-02-13T18:39:44.619Z"
      },
      {
        "duration": 5,
        "start_time": "2022-02-13T18:41:10.506Z"
      },
      {
        "duration": 11,
        "start_time": "2022-02-13T18:41:21.694Z"
      },
      {
        "duration": 5,
        "start_time": "2022-02-13T18:41:30.303Z"
      },
      {
        "duration": 10,
        "start_time": "2022-02-13T18:41:31.526Z"
      },
      {
        "duration": 8,
        "start_time": "2022-02-13T18:42:18.451Z"
      },
      {
        "duration": 366,
        "start_time": "2022-02-13T18:43:30.579Z"
      },
      {
        "duration": 12,
        "start_time": "2022-02-13T18:43:40.794Z"
      },
      {
        "duration": 5,
        "start_time": "2022-02-13T18:43:59.190Z"
      },
      {
        "duration": 5,
        "start_time": "2022-02-13T18:44:00.607Z"
      },
      {
        "duration": 6,
        "start_time": "2022-02-13T18:44:27.341Z"
      },
      {
        "duration": 21,
        "start_time": "2022-02-13T18:46:33.558Z"
      },
      {
        "duration": 10,
        "start_time": "2022-02-13T18:46:44.650Z"
      },
      {
        "duration": 428,
        "start_time": "2022-02-13T18:47:03.359Z"
      },
      {
        "duration": 12,
        "start_time": "2022-02-13T18:49:33.435Z"
      },
      {
        "duration": 354,
        "start_time": "2022-02-13T18:49:45.397Z"
      },
      {
        "duration": 80,
        "start_time": "2022-02-13T19:12:20.006Z"
      },
      {
        "duration": 361,
        "start_time": "2022-02-13T19:13:31.212Z"
      },
      {
        "duration": 16,
        "start_time": "2022-02-13T19:13:46.056Z"
      },
      {
        "duration": 13,
        "start_time": "2022-02-13T19:14:55.289Z"
      },
      {
        "duration": 378,
        "start_time": "2022-02-13T19:14:57.449Z"
      },
      {
        "duration": 11,
        "start_time": "2022-02-13T19:15:06.885Z"
      },
      {
        "duration": 403,
        "start_time": "2022-02-13T19:15:14.324Z"
      },
      {
        "duration": 345,
        "start_time": "2022-02-13T19:15:58.656Z"
      },
      {
        "duration": 63,
        "start_time": "2022-02-13T19:24:07.141Z"
      },
      {
        "duration": 4,
        "start_time": "2022-02-13T19:24:11.903Z"
      },
      {
        "duration": 18,
        "start_time": "2022-02-13T19:24:12.668Z"
      },
      {
        "duration": 60,
        "start_time": "2022-02-13T19:24:14.250Z"
      },
      {
        "duration": 11,
        "start_time": "2022-02-13T19:24:14.627Z"
      },
      {
        "duration": 10,
        "start_time": "2022-02-13T19:24:14.987Z"
      },
      {
        "duration": 17,
        "start_time": "2022-02-13T19:24:15.460Z"
      },
      {
        "duration": 18,
        "start_time": "2022-02-13T19:24:16.017Z"
      },
      {
        "duration": 31,
        "start_time": "2022-02-13T19:24:16.703Z"
      },
      {
        "duration": 32,
        "start_time": "2022-02-13T19:24:17.214Z"
      },
      {
        "duration": 19,
        "start_time": "2022-02-13T19:24:22.139Z"
      },
      {
        "duration": 18,
        "start_time": "2022-02-13T19:24:24.119Z"
      },
      {
        "duration": 69,
        "start_time": "2022-02-13T19:24:24.377Z"
      },
      {
        "duration": 316,
        "start_time": "2022-02-13T19:27:24.075Z"
      },
      {
        "duration": 415,
        "start_time": "2022-02-13T19:27:33.813Z"
      },
      {
        "duration": 75,
        "start_time": "2022-02-13T19:29:13.583Z"
      },
      {
        "duration": 1794,
        "start_time": "2022-02-13T19:30:35.883Z"
      },
      {
        "duration": 130,
        "start_time": "2022-02-13T19:32:28.643Z"
      },
      {
        "duration": 126,
        "start_time": "2022-02-13T19:33:23.883Z"
      },
      {
        "duration": 117,
        "start_time": "2022-02-13T19:33:42.152Z"
      },
      {
        "duration": 132,
        "start_time": "2022-02-13T19:33:52.097Z"
      },
      {
        "duration": 146,
        "start_time": "2022-02-13T19:33:56.144Z"
      },
      {
        "duration": 1196,
        "start_time": "2022-02-13T19:34:22.843Z"
      },
      {
        "duration": 984,
        "start_time": "2022-02-13T19:34:32.919Z"
      },
      {
        "duration": 1950,
        "start_time": "2022-02-13T19:35:42.943Z"
      },
      {
        "duration": 2054,
        "start_time": "2022-02-13T19:38:20.379Z"
      },
      {
        "duration": 282,
        "start_time": "2022-02-13T19:40:20.503Z"
      },
      {
        "duration": 401,
        "start_time": "2022-02-13T19:40:39.727Z"
      },
      {
        "duration": 344,
        "start_time": "2022-02-13T19:41:09.288Z"
      },
      {
        "duration": 382,
        "start_time": "2022-02-13T19:42:05.330Z"
      },
      {
        "duration": 1210,
        "start_time": "2022-02-13T19:42:38.478Z"
      },
      {
        "duration": 521,
        "start_time": "2022-02-13T19:42:46.490Z"
      },
      {
        "duration": 619,
        "start_time": "2022-02-13T19:42:58.286Z"
      },
      {
        "duration": 291,
        "start_time": "2022-02-13T20:02:17.577Z"
      },
      {
        "duration": 11,
        "start_time": "2022-02-13T20:02:27.813Z"
      },
      {
        "duration": 623,
        "start_time": "2022-02-13T20:04:20.884Z"
      },
      {
        "duration": 37,
        "start_time": "2022-02-13T20:10:20.097Z"
      },
      {
        "duration": 11,
        "start_time": "2022-02-13T20:12:29.875Z"
      },
      {
        "duration": 21,
        "start_time": "2022-02-13T20:12:35.028Z"
      },
      {
        "duration": 1471,
        "start_time": "2022-02-13T20:13:22.184Z"
      },
      {
        "duration": 139,
        "start_time": "2022-02-13T20:13:45.644Z"
      },
      {
        "duration": 11,
        "start_time": "2022-02-13T20:13:52.272Z"
      },
      {
        "duration": 4,
        "start_time": "2022-02-13T20:14:03.494Z"
      },
      {
        "duration": 28,
        "start_time": "2022-02-13T20:14:05.880Z"
      },
      {
        "duration": 1536,
        "start_time": "2022-02-13T20:16:33.931Z"
      },
      {
        "duration": 168,
        "start_time": "2022-02-14T17:39:23.601Z"
      },
      {
        "duration": 348,
        "start_time": "2022-02-14T17:39:26.913Z"
      },
      {
        "duration": 55,
        "start_time": "2022-02-14T17:39:41.493Z"
      },
      {
        "duration": 377,
        "start_time": "2022-02-14T17:39:55.557Z"
      },
      {
        "duration": 55,
        "start_time": "2022-02-14T17:40:06.442Z"
      },
      {
        "duration": 4,
        "start_time": "2022-02-14T17:40:07.305Z"
      },
      {
        "duration": 22,
        "start_time": "2022-02-14T17:40:07.953Z"
      },
      {
        "duration": 46,
        "start_time": "2022-02-14T17:40:08.816Z"
      },
      {
        "duration": 11,
        "start_time": "2022-02-14T17:40:09.485Z"
      },
      {
        "duration": 9,
        "start_time": "2022-02-14T17:40:10.089Z"
      },
      {
        "duration": 13,
        "start_time": "2022-02-14T17:40:10.821Z"
      },
      {
        "duration": 19,
        "start_time": "2022-02-14T17:40:11.693Z"
      },
      {
        "duration": 32,
        "start_time": "2022-02-14T17:40:12.521Z"
      },
      {
        "duration": 31,
        "start_time": "2022-02-14T17:40:13.393Z"
      },
      {
        "duration": 19,
        "start_time": "2022-02-14T17:40:14.977Z"
      },
      {
        "duration": 18,
        "start_time": "2022-02-14T17:40:15.181Z"
      },
      {
        "duration": 68,
        "start_time": "2022-02-14T17:40:15.365Z"
      },
      {
        "duration": 644,
        "start_time": "2022-02-14T17:40:15.529Z"
      },
      {
        "duration": 588,
        "start_time": "2022-02-14T17:40:16.176Z"
      },
      {
        "duration": 16,
        "start_time": "2022-02-14T17:40:16.767Z"
      },
      {
        "duration": 4670,
        "start_time": "2022-02-14T17:40:16.785Z"
      },
      {
        "duration": 1277,
        "start_time": "2022-02-14T17:40:26.965Z"
      },
      {
        "duration": 6,
        "start_time": "2022-02-14T17:43:28.349Z"
      },
      {
        "duration": 11,
        "start_time": "2022-02-14T17:43:45.177Z"
      },
      {
        "duration": 21,
        "start_time": "2022-02-14T17:43:51.837Z"
      },
      {
        "duration": 7,
        "start_time": "2022-02-14T17:44:01.580Z"
      },
      {
        "duration": 19,
        "start_time": "2022-02-14T17:44:04.490Z"
      },
      {
        "duration": 19,
        "start_time": "2022-02-14T17:49:20.613Z"
      },
      {
        "duration": 19,
        "start_time": "2022-02-14T17:49:23.009Z"
      },
      {
        "duration": 60,
        "start_time": "2022-02-14T17:51:26.637Z"
      },
      {
        "duration": 17,
        "start_time": "2022-02-14T17:51:28.465Z"
      },
      {
        "duration": 4,
        "start_time": "2022-02-14T17:51:59.845Z"
      },
      {
        "duration": 16,
        "start_time": "2022-02-14T17:52:02.785Z"
      },
      {
        "duration": 200,
        "start_time": "2022-02-14T18:09:19.820Z"
      },
      {
        "duration": 132,
        "start_time": "2022-02-14T18:09:29.856Z"
      },
      {
        "duration": 114,
        "start_time": "2022-02-14T18:10:05.056Z"
      },
      {
        "duration": 360,
        "start_time": "2022-02-14T18:10:14.119Z"
      },
      {
        "duration": 50,
        "start_time": "2022-02-14T18:10:31.088Z"
      },
      {
        "duration": 4,
        "start_time": "2022-02-14T18:10:51.456Z"
      },
      {
        "duration": 17,
        "start_time": "2022-02-14T18:10:56.488Z"
      },
      {
        "duration": 1395,
        "start_time": "2022-02-14T18:12:27.576Z"
      },
      {
        "duration": 13,
        "start_time": "2022-02-14T18:12:36.436Z"
      },
      {
        "duration": 213,
        "start_time": "2022-02-14T18:20:06.540Z"
      },
      {
        "duration": 33,
        "start_time": "2022-02-14T18:23:31.587Z"
      },
      {
        "duration": 290,
        "start_time": "2022-02-14T18:23:49.703Z"
      },
      {
        "duration": 463,
        "start_time": "2022-02-14T18:24:12.124Z"
      },
      {
        "duration": 473,
        "start_time": "2022-02-14T18:24:25.468Z"
      },
      {
        "duration": 454,
        "start_time": "2022-02-14T18:25:07.323Z"
      },
      {
        "duration": 18,
        "start_time": "2022-02-14T18:26:13.375Z"
      },
      {
        "duration": 16,
        "start_time": "2022-02-14T18:26:20.716Z"
      },
      {
        "duration": 14,
        "start_time": "2022-02-14T18:26:32.279Z"
      },
      {
        "duration": 11,
        "start_time": "2022-02-14T18:26:57.277Z"
      },
      {
        "duration": 11,
        "start_time": "2022-02-14T18:27:08.835Z"
      },
      {
        "duration": 16,
        "start_time": "2022-02-14T18:27:24.869Z"
      },
      {
        "duration": 21,
        "start_time": "2022-02-14T18:28:13.483Z"
      },
      {
        "duration": 22,
        "start_time": "2022-02-14T18:28:41.169Z"
      },
      {
        "duration": 38,
        "start_time": "2022-02-14T18:29:42.495Z"
      },
      {
        "duration": 22,
        "start_time": "2022-02-14T18:30:32.623Z"
      },
      {
        "duration": 845,
        "start_time": "2022-02-15T18:55:06.359Z"
      },
      {
        "duration": 4,
        "start_time": "2022-02-15T18:55:08.359Z"
      },
      {
        "duration": 18,
        "start_time": "2022-02-15T18:55:08.808Z"
      },
      {
        "duration": 62,
        "start_time": "2022-02-15T18:55:09.418Z"
      },
      {
        "duration": 17,
        "start_time": "2022-02-15T18:55:09.887Z"
      },
      {
        "duration": 10,
        "start_time": "2022-02-15T18:55:10.275Z"
      },
      {
        "duration": 16,
        "start_time": "2022-02-15T18:55:10.647Z"
      },
      {
        "duration": 18,
        "start_time": "2022-02-15T18:55:10.967Z"
      },
      {
        "duration": 32,
        "start_time": "2022-02-15T18:55:11.259Z"
      },
      {
        "duration": 30,
        "start_time": "2022-02-15T18:55:11.556Z"
      },
      {
        "duration": 20,
        "start_time": "2022-02-15T18:55:12.391Z"
      },
      {
        "duration": 20,
        "start_time": "2022-02-15T18:55:13.260Z"
      },
      {
        "duration": 66,
        "start_time": "2022-02-15T18:55:13.694Z"
      },
      {
        "duration": 588,
        "start_time": "2022-02-15T18:55:14.179Z"
      },
      {
        "duration": 497,
        "start_time": "2022-02-15T18:55:15.409Z"
      },
      {
        "duration": 76,
        "start_time": "2022-02-15T18:55:16.127Z"
      },
      {
        "duration": 48,
        "start_time": "2022-02-15T18:55:16.867Z"
      },
      {
        "duration": 15,
        "start_time": "2022-02-15T18:55:17.395Z"
      },
      {
        "duration": 286,
        "start_time": "2022-02-15T18:55:18.151Z"
      },
      {
        "duration": 465,
        "start_time": "2022-02-15T18:55:19.003Z"
      },
      {
        "duration": 451,
        "start_time": "2022-02-15T18:55:21.672Z"
      },
      {
        "duration": 23,
        "start_time": "2022-02-15T18:55:23.511Z"
      },
      {
        "duration": 22,
        "start_time": "2022-02-15T18:55:24.080Z"
      },
      {
        "duration": 21,
        "start_time": "2022-02-15T18:55:27.255Z"
      },
      {
        "duration": 38,
        "start_time": "2022-02-15T18:56:44.823Z"
      },
      {
        "duration": 16,
        "start_time": "2022-02-15T18:59:07.649Z"
      },
      {
        "duration": 383,
        "start_time": "2022-02-15T18:59:46.548Z"
      },
      {
        "duration": 14,
        "start_time": "2022-02-15T19:00:21.021Z"
      },
      {
        "duration": 5,
        "start_time": "2022-02-15T19:00:56.425Z"
      },
      {
        "duration": 15,
        "start_time": "2022-02-15T19:01:06.466Z"
      },
      {
        "duration": 13,
        "start_time": "2022-02-15T19:05:23.890Z"
      },
      {
        "duration": 12,
        "start_time": "2022-02-15T19:05:39.367Z"
      },
      {
        "duration": 45,
        "start_time": "2022-02-15T19:07:42.651Z"
      },
      {
        "duration": 296,
        "start_time": "2022-02-15T19:08:27.307Z"
      },
      {
        "duration": 46,
        "start_time": "2022-02-15T19:08:36.057Z"
      },
      {
        "duration": 44,
        "start_time": "2022-02-15T19:08:52.855Z"
      },
      {
        "duration": 1163,
        "start_time": "2022-02-15T19:09:03.759Z"
      },
      {
        "duration": 52,
        "start_time": "2022-02-15T19:09:10.175Z"
      },
      {
        "duration": 43,
        "start_time": "2022-02-15T19:10:31.651Z"
      },
      {
        "duration": 41,
        "start_time": "2022-02-15T19:11:30.623Z"
      },
      {
        "duration": 43,
        "start_time": "2022-02-15T19:11:34.254Z"
      },
      {
        "duration": 276,
        "start_time": "2022-02-15T19:12:46.650Z"
      },
      {
        "duration": 46,
        "start_time": "2022-02-15T19:16:31.126Z"
      },
      {
        "duration": 45,
        "start_time": "2022-02-15T19:17:52.046Z"
      },
      {
        "duration": 8781,
        "start_time": "2022-02-15T19:23:59.218Z"
      },
      {
        "duration": 13,
        "start_time": "2022-02-15T19:24:37.326Z"
      },
      {
        "duration": 14,
        "start_time": "2022-02-15T19:27:06.309Z"
      },
      {
        "duration": 13,
        "start_time": "2022-02-15T19:32:30.563Z"
      },
      {
        "duration": 8,
        "start_time": "2022-02-15T19:40:32.609Z"
      },
      {
        "duration": 75,
        "start_time": "2022-02-15T19:40:35.305Z"
      },
      {
        "duration": 41,
        "start_time": "2022-02-15T19:40:36.897Z"
      },
      {
        "duration": 14,
        "start_time": "2022-02-15T19:40:37.729Z"
      },
      {
        "duration": 211,
        "start_time": "2022-02-15T19:40:41.995Z"
      },
      {
        "duration": 436,
        "start_time": "2022-02-15T19:40:43.375Z"
      },
      {
        "duration": 459,
        "start_time": "2022-02-15T19:40:44.789Z"
      },
      {
        "duration": 21,
        "start_time": "2022-02-15T19:40:46.704Z"
      },
      {
        "duration": 23,
        "start_time": "2022-02-15T19:40:47.732Z"
      },
      {
        "duration": 24,
        "start_time": "2022-02-15T19:40:50.273Z"
      },
      {
        "duration": 26,
        "start_time": "2022-02-15T19:40:51.477Z"
      },
      {
        "duration": 126,
        "start_time": "2022-02-15T19:40:51.505Z"
      },
      {
        "duration": 50,
        "start_time": "2022-02-15T19:40:52.673Z"
      },
      {
        "duration": 275,
        "start_time": "2022-02-15T19:40:53.945Z"
      },
      {
        "duration": 51,
        "start_time": "2022-02-15T19:41:02.858Z"
      },
      {
        "duration": 13,
        "start_time": "2022-02-15T19:41:05.374Z"
      },
      {
        "duration": 15,
        "start_time": "2022-02-15T19:41:07.461Z"
      },
      {
        "duration": 83,
        "start_time": "2022-02-15T20:00:42.921Z"
      },
      {
        "duration": 49,
        "start_time": "2022-02-15T20:14:00.559Z"
      },
      {
        "duration": 746,
        "start_time": "2022-02-23T12:38:39.995Z"
      },
      {
        "duration": 3,
        "start_time": "2022-02-23T12:38:40.743Z"
      },
      {
        "duration": 17,
        "start_time": "2022-02-23T12:38:40.748Z"
      },
      {
        "duration": 36,
        "start_time": "2022-02-23T12:38:40.767Z"
      },
      {
        "duration": 12,
        "start_time": "2022-02-23T12:38:40.805Z"
      },
      {
        "duration": 9,
        "start_time": "2022-02-23T12:38:40.818Z"
      },
      {
        "duration": 13,
        "start_time": "2022-02-23T12:38:40.829Z"
      },
      {
        "duration": 37,
        "start_time": "2022-02-23T12:38:40.844Z"
      },
      {
        "duration": 25,
        "start_time": "2022-02-23T12:38:40.884Z"
      },
      {
        "duration": 24,
        "start_time": "2022-02-23T12:38:40.911Z"
      },
      {
        "duration": 45,
        "start_time": "2022-02-23T12:38:40.937Z"
      },
      {
        "duration": 13,
        "start_time": "2022-02-23T12:38:40.984Z"
      },
      {
        "duration": 75,
        "start_time": "2022-02-23T12:38:40.999Z"
      },
      {
        "duration": 443,
        "start_time": "2022-02-23T12:38:41.076Z"
      },
      {
        "duration": 381,
        "start_time": "2022-02-23T12:38:41.521Z"
      },
      {
        "duration": 4,
        "start_time": "2022-02-23T12:38:41.904Z"
      },
      {
        "duration": 46,
        "start_time": "2022-02-23T12:38:41.910Z"
      },
      {
        "duration": 33,
        "start_time": "2022-02-23T12:38:41.958Z"
      },
      {
        "duration": 13,
        "start_time": "2022-02-23T12:38:41.993Z"
      },
      {
        "duration": 183,
        "start_time": "2022-02-23T12:38:42.007Z"
      },
      {
        "duration": 415,
        "start_time": "2022-02-23T12:38:42.192Z"
      },
      {
        "duration": 324,
        "start_time": "2022-02-23T12:38:42.609Z"
      },
      {
        "duration": 16,
        "start_time": "2022-02-23T12:38:42.935Z"
      },
      {
        "duration": 22,
        "start_time": "2022-02-23T12:38:42.953Z"
      },
      {
        "duration": 15,
        "start_time": "2022-02-23T12:38:42.977Z"
      },
      {
        "duration": 76,
        "start_time": "2022-02-23T12:38:42.994Z"
      },
      {
        "duration": 33,
        "start_time": "2022-02-23T12:38:43.074Z"
      },
      {
        "duration": 69,
        "start_time": "2022-02-23T12:38:43.109Z"
      },
      {
        "duration": 421,
        "start_time": "2022-02-23T12:38:43.179Z"
      },
      {
        "duration": 11,
        "start_time": "2022-02-23T12:38:43.602Z"
      },
      {
        "duration": 46,
        "start_time": "2022-02-23T12:40:11.915Z"
      },
      {
        "duration": 3,
        "start_time": "2022-02-23T12:40:11.963Z"
      },
      {
        "duration": 22,
        "start_time": "2022-02-23T12:40:11.969Z"
      },
      {
        "duration": 38,
        "start_time": "2022-02-23T12:40:11.993Z"
      },
      {
        "duration": 7,
        "start_time": "2022-02-23T12:40:20.789Z"
      },
      {
        "duration": 330,
        "start_time": "2022-02-23T12:50:57.799Z"
      },
      {
        "duration": 23,
        "start_time": "2022-02-23T12:51:07.698Z"
      },
      {
        "duration": 43,
        "start_time": "2022-02-23T12:51:32.369Z"
      },
      {
        "duration": 3,
        "start_time": "2022-02-23T12:51:32.413Z"
      },
      {
        "duration": 23,
        "start_time": "2022-02-23T12:51:32.418Z"
      },
      {
        "duration": 45,
        "start_time": "2022-02-23T12:51:32.444Z"
      },
      {
        "duration": 9,
        "start_time": "2022-02-23T12:51:32.490Z"
      },
      {
        "duration": 9,
        "start_time": "2022-02-23T12:51:32.500Z"
      },
      {
        "duration": 14,
        "start_time": "2022-02-23T12:51:32.511Z"
      },
      {
        "duration": 13,
        "start_time": "2022-02-23T12:51:32.529Z"
      },
      {
        "duration": 46,
        "start_time": "2022-02-23T12:51:32.544Z"
      },
      {
        "duration": 24,
        "start_time": "2022-02-23T12:51:32.591Z"
      },
      {
        "duration": 13,
        "start_time": "2022-02-23T12:51:32.617Z"
      },
      {
        "duration": 44,
        "start_time": "2022-02-23T12:51:32.632Z"
      },
      {
        "duration": 51,
        "start_time": "2022-02-23T12:51:32.678Z"
      },
      {
        "duration": 466,
        "start_time": "2022-02-23T12:51:32.731Z"
      },
      {
        "duration": 385,
        "start_time": "2022-02-23T12:51:33.198Z"
      },
      {
        "duration": 6,
        "start_time": "2022-02-23T12:51:33.585Z"
      },
      {
        "duration": 49,
        "start_time": "2022-02-23T12:51:33.592Z"
      },
      {
        "duration": 49,
        "start_time": "2022-02-23T12:51:33.644Z"
      },
      {
        "duration": 11,
        "start_time": "2022-02-23T12:51:33.694Z"
      },
      {
        "duration": 39,
        "start_time": "2022-02-23T12:51:33.706Z"
      },
      {
        "duration": 362,
        "start_time": "2022-02-23T12:53:52.027Z"
      },
      {
        "duration": 1056,
        "start_time": "2022-02-23T20:33:08.778Z"
      },
      {
        "duration": 4,
        "start_time": "2022-02-23T20:33:11.376Z"
      },
      {
        "duration": 32,
        "start_time": "2022-02-23T20:33:15.300Z"
      },
      {
        "duration": 49,
        "start_time": "2022-02-23T20:33:37.146Z"
      },
      {
        "duration": 13,
        "start_time": "2022-02-23T20:34:29.268Z"
      },
      {
        "duration": 4851,
        "start_time": "2022-02-23T20:35:56.828Z"
      },
      {
        "duration": 10,
        "start_time": "2022-02-23T20:36:28.361Z"
      },
      {
        "duration": 5,
        "start_time": "2022-02-23T20:36:56.809Z"
      },
      {
        "duration": 11,
        "start_time": "2022-02-23T20:38:46.966Z"
      },
      {
        "duration": 12,
        "start_time": "2022-02-23T20:39:22.155Z"
      },
      {
        "duration": 1201,
        "start_time": "2022-02-23T20:46:41.499Z"
      },
      {
        "duration": 19,
        "start_time": "2022-02-23T20:49:09.766Z"
      },
      {
        "duration": 8,
        "start_time": "2022-02-23T20:50:11.487Z"
      },
      {
        "duration": 7,
        "start_time": "2022-02-23T20:50:17.899Z"
      },
      {
        "duration": 28,
        "start_time": "2022-02-23T20:50:29.585Z"
      },
      {
        "duration": 22,
        "start_time": "2022-02-23T20:54:37.043Z"
      },
      {
        "duration": 451,
        "start_time": "2022-02-23T20:55:59.548Z"
      },
      {
        "duration": 182,
        "start_time": "2022-02-23T20:56:11.649Z"
      },
      {
        "duration": 57,
        "start_time": "2022-02-23T20:56:41.754Z"
      },
      {
        "duration": 4,
        "start_time": "2022-02-23T20:56:44.503Z"
      },
      {
        "duration": 49,
        "start_time": "2022-02-23T20:56:47.630Z"
      },
      {
        "duration": 144,
        "start_time": "2022-02-23T20:56:48.341Z"
      },
      {
        "duration": 15,
        "start_time": "2022-02-23T20:57:09.348Z"
      },
      {
        "duration": 10,
        "start_time": "2022-02-23T21:00:30.419Z"
      },
      {
        "duration": 9,
        "start_time": "2022-02-23T21:00:49.091Z"
      },
      {
        "duration": 12,
        "start_time": "2022-02-23T21:00:51.207Z"
      },
      {
        "duration": 17,
        "start_time": "2022-02-23T21:00:58.526Z"
      },
      {
        "duration": 34,
        "start_time": "2022-02-23T21:00:59.386Z"
      },
      {
        "duration": 28,
        "start_time": "2022-02-23T21:04:25.914Z"
      },
      {
        "duration": 29,
        "start_time": "2022-02-23T21:05:18.039Z"
      },
      {
        "duration": 22,
        "start_time": "2022-02-23T21:08:02.689Z"
      },
      {
        "duration": 26,
        "start_time": "2022-02-23T21:18:43.300Z"
      },
      {
        "duration": 16,
        "start_time": "2022-02-23T21:19:16.436Z"
      },
      {
        "duration": 24,
        "start_time": "2022-02-23T21:19:23.538Z"
      },
      {
        "duration": 841,
        "start_time": "2022-02-23T21:21:31.998Z"
      },
      {
        "duration": 535,
        "start_time": "2022-02-23T21:21:40.766Z"
      },
      {
        "duration": 543,
        "start_time": "2022-02-23T21:22:25.738Z"
      },
      {
        "duration": 20,
        "start_time": "2022-02-23T21:23:05.715Z"
      },
      {
        "duration": 74,
        "start_time": "2022-02-23T21:23:07.267Z"
      },
      {
        "duration": 609,
        "start_time": "2022-02-23T21:23:08.345Z"
      },
      {
        "duration": 526,
        "start_time": "2022-02-23T21:23:24.748Z"
      },
      {
        "duration": 8,
        "start_time": "2022-02-23T21:42:52.153Z"
      },
      {
        "duration": 32,
        "start_time": "2022-02-23T21:43:03.904Z"
      },
      {
        "duration": 20,
        "start_time": "2022-02-23T21:43:14.454Z"
      },
      {
        "duration": 14,
        "start_time": "2022-02-23T21:43:16.532Z"
      },
      {
        "duration": 18,
        "start_time": "2022-02-23T21:44:31.222Z"
      },
      {
        "duration": 32,
        "start_time": "2022-02-23T21:47:52.580Z"
      },
      {
        "duration": 17,
        "start_time": "2022-02-23T21:47:56.149Z"
      },
      {
        "duration": 7,
        "start_time": "2022-02-23T21:48:20.738Z"
      },
      {
        "duration": 6,
        "start_time": "2022-02-23T21:48:55.076Z"
      },
      {
        "duration": 407,
        "start_time": "2022-02-23T21:48:59.752Z"
      },
      {
        "duration": 12,
        "start_time": "2022-02-23T21:49:04.213Z"
      },
      {
        "duration": 6,
        "start_time": "2022-02-23T21:51:23.244Z"
      },
      {
        "duration": 6,
        "start_time": "2022-02-23T21:51:37.984Z"
      },
      {
        "duration": 5,
        "start_time": "2022-02-23T21:52:18.212Z"
      },
      {
        "duration": 402,
        "start_time": "2022-02-23T21:52:54.742Z"
      },
      {
        "duration": 401,
        "start_time": "2022-02-23T21:53:02.748Z"
      },
      {
        "duration": 21,
        "start_time": "2022-02-23T21:53:18.376Z"
      },
      {
        "duration": 15,
        "start_time": "2022-02-23T21:53:21.708Z"
      },
      {
        "duration": 9653,
        "start_time": "2022-02-23T21:53:55.497Z"
      },
      {
        "duration": 20,
        "start_time": "2022-02-23T21:54:14.052Z"
      },
      {
        "duration": 9629,
        "start_time": "2022-02-23T21:54:19.760Z"
      },
      {
        "duration": 12,
        "start_time": "2022-02-23T21:54:31.864Z"
      },
      {
        "duration": 9390,
        "start_time": "2022-02-23T21:54:51.243Z"
      },
      {
        "duration": 6,
        "start_time": "2022-02-23T21:55:14.584Z"
      },
      {
        "duration": 13,
        "start_time": "2022-02-23T21:55:26.336Z"
      },
      {
        "duration": 5,
        "start_time": "2022-02-23T21:55:40.508Z"
      },
      {
        "duration": 826,
        "start_time": "2022-02-23T22:00:34.412Z"
      },
      {
        "duration": 17,
        "start_time": "2022-02-23T22:04:25.852Z"
      },
      {
        "duration": 11,
        "start_time": "2022-02-23T22:04:46.150Z"
      },
      {
        "duration": 9,
        "start_time": "2022-02-23T22:04:50.365Z"
      },
      {
        "duration": 31,
        "start_time": "2022-02-23T22:05:04.270Z"
      },
      {
        "duration": 14,
        "start_time": "2022-02-23T22:05:09.018Z"
      },
      {
        "duration": 8,
        "start_time": "2022-02-23T22:05:09.742Z"
      },
      {
        "duration": 10,
        "start_time": "2022-02-23T22:05:18.024Z"
      },
      {
        "duration": 33,
        "start_time": "2022-02-23T22:05:27.603Z"
      },
      {
        "duration": 10,
        "start_time": "2022-02-23T22:05:31.716Z"
      },
      {
        "duration": 17,
        "start_time": "2022-02-23T22:05:36.118Z"
      },
      {
        "duration": 13,
        "start_time": "2022-02-23T22:05:51.671Z"
      },
      {
        "duration": 11,
        "start_time": "2022-02-23T22:06:07.301Z"
      },
      {
        "duration": 14,
        "start_time": "2022-02-23T22:06:10.274Z"
      },
      {
        "duration": 14,
        "start_time": "2022-02-23T22:06:13.927Z"
      },
      {
        "duration": 12,
        "start_time": "2022-02-23T22:07:13.542Z"
      },
      {
        "duration": 14,
        "start_time": "2022-02-23T22:07:22.303Z"
      },
      {
        "duration": 22,
        "start_time": "2022-02-23T22:08:43.491Z"
      },
      {
        "duration": 12,
        "start_time": "2022-02-23T22:08:44.569Z"
      },
      {
        "duration": 8,
        "start_time": "2022-02-23T22:10:44.007Z"
      },
      {
        "duration": 201,
        "start_time": "2022-02-23T22:12:17.143Z"
      },
      {
        "duration": 200,
        "start_time": "2022-02-23T22:12:46.839Z"
      },
      {
        "duration": 291,
        "start_time": "2022-02-23T22:12:59.871Z"
      },
      {
        "duration": 134,
        "start_time": "2022-02-23T22:19:23.415Z"
      },
      {
        "duration": 2429,
        "start_time": "2022-02-23T22:19:28.168Z"
      },
      {
        "duration": 417,
        "start_time": "2022-02-23T22:31:50.075Z"
      },
      {
        "duration": 10,
        "start_time": "2022-02-23T22:32:27.824Z"
      },
      {
        "duration": 64,
        "start_time": "2022-02-23T22:34:03.631Z"
      },
      {
        "duration": 4,
        "start_time": "2022-02-23T22:34:06.693Z"
      },
      {
        "duration": 49,
        "start_time": "2022-02-23T22:34:10.784Z"
      },
      {
        "duration": 13,
        "start_time": "2022-02-23T22:34:11.881Z"
      },
      {
        "duration": 101,
        "start_time": "2022-02-23T22:34:12.691Z"
      },
      {
        "duration": 9,
        "start_time": "2022-02-23T22:34:15.323Z"
      },
      {
        "duration": 10,
        "start_time": "2022-02-23T22:34:16.699Z"
      },
      {
        "duration": 19,
        "start_time": "2022-02-23T22:34:19.231Z"
      },
      {
        "duration": 28,
        "start_time": "2022-02-23T22:34:21.613Z"
      },
      {
        "duration": 27,
        "start_time": "2022-02-23T22:34:24.527Z"
      },
      {
        "duration": 24,
        "start_time": "2022-02-23T22:34:27.572Z"
      },
      {
        "duration": 529,
        "start_time": "2022-02-23T22:34:29.499Z"
      },
      {
        "duration": 19,
        "start_time": "2022-02-23T22:34:32.865Z"
      },
      {
        "duration": 65,
        "start_time": "2022-02-23T22:34:34.457Z"
      },
      {
        "duration": 587,
        "start_time": "2022-02-23T22:34:40.057Z"
      },
      {
        "duration": 513,
        "start_time": "2022-02-23T22:34:43.827Z"
      },
      {
        "duration": 7,
        "start_time": "2022-02-23T22:34:50.955Z"
      },
      {
        "duration": 32,
        "start_time": "2022-02-23T22:34:54.637Z"
      },
      {
        "duration": 30,
        "start_time": "2022-02-23T22:34:58.115Z"
      },
      {
        "duration": 9,
        "start_time": "2022-02-23T22:35:02.957Z"
      },
      {
        "duration": 1609,
        "start_time": "2022-02-23T22:35:10.282Z"
      },
      {
        "duration": 10,
        "start_time": "2022-02-23T22:35:16.783Z"
      },
      {
        "duration": 6,
        "start_time": "2022-02-23T22:39:07.643Z"
      },
      {
        "duration": 370,
        "start_time": "2022-02-23T22:39:24.150Z"
      },
      {
        "duration": 404,
        "start_time": "2022-02-23T22:39:37.078Z"
      },
      {
        "duration": 376,
        "start_time": "2022-02-23T22:41:50.137Z"
      },
      {
        "duration": 565,
        "start_time": "2022-02-23T22:41:56.696Z"
      },
      {
        "duration": 752,
        "start_time": "2022-02-23T22:42:22.719Z"
      },
      {
        "duration": 1096,
        "start_time": "2022-02-23T22:44:33.994Z"
      },
      {
        "duration": 1133,
        "start_time": "2022-02-23T22:45:02.672Z"
      },
      {
        "duration": 744,
        "start_time": "2022-02-23T22:45:42.238Z"
      },
      {
        "duration": 745,
        "start_time": "2022-02-23T22:47:21.505Z"
      },
      {
        "duration": 830,
        "start_time": "2022-02-23T22:47:46.368Z"
      },
      {
        "duration": 674,
        "start_time": "2022-02-23T22:49:40.524Z"
      },
      {
        "duration": 1406,
        "start_time": "2022-02-23T22:50:13.964Z"
      },
      {
        "duration": 947,
        "start_time": "2022-02-23T22:50:33.918Z"
      },
      {
        "duration": 1051,
        "start_time": "2022-02-23T22:50:45.006Z"
      },
      {
        "duration": 924,
        "start_time": "2022-02-23T22:51:09.350Z"
      },
      {
        "duration": 980,
        "start_time": "2022-02-23T22:52:20.133Z"
      },
      {
        "duration": 940,
        "start_time": "2022-02-23T22:52:41.445Z"
      },
      {
        "duration": 958,
        "start_time": "2022-02-23T22:52:54.985Z"
      },
      {
        "duration": 984,
        "start_time": "2022-02-23T22:53:20.220Z"
      },
      {
        "duration": 1117,
        "start_time": "2022-02-23T22:53:36.715Z"
      },
      {
        "duration": 1037,
        "start_time": "2022-02-23T22:54:15.987Z"
      },
      {
        "duration": 1035,
        "start_time": "2022-02-23T22:54:31.068Z"
      },
      {
        "duration": 1034,
        "start_time": "2022-02-23T22:55:24.846Z"
      },
      {
        "duration": 965,
        "start_time": "2022-02-23T22:56:23.877Z"
      },
      {
        "duration": 1134,
        "start_time": "2022-02-23T22:57:34.558Z"
      },
      {
        "duration": 1503,
        "start_time": "2022-02-23T22:58:20.482Z"
      },
      {
        "duration": 1314,
        "start_time": "2022-02-23T22:58:32.616Z"
      },
      {
        "duration": 1336,
        "start_time": "2022-02-23T22:59:13.102Z"
      },
      {
        "duration": 1665,
        "start_time": "2022-02-23T23:00:25.113Z"
      },
      {
        "duration": 1660,
        "start_time": "2022-02-23T23:00:36.479Z"
      },
      {
        "duration": 23,
        "start_time": "2022-02-23T23:05:59.757Z"
      },
      {
        "duration": 24,
        "start_time": "2022-02-23T23:06:19.118Z"
      },
      {
        "duration": 21,
        "start_time": "2022-02-23T23:07:08.845Z"
      },
      {
        "duration": 13,
        "start_time": "2022-02-23T23:09:21.712Z"
      },
      {
        "duration": 41,
        "start_time": "2022-02-23T23:09:59.589Z"
      },
      {
        "duration": 520,
        "start_time": "2022-02-23T23:12:22.293Z"
      },
      {
        "duration": 71,
        "start_time": "2022-02-23T23:13:01.778Z"
      },
      {
        "duration": 19,
        "start_time": "2022-02-23T23:13:07.829Z"
      },
      {
        "duration": 83,
        "start_time": "2022-02-23T23:14:32.347Z"
      },
      {
        "duration": 1893,
        "start_time": "2022-02-23T23:16:58.953Z"
      },
      {
        "duration": 1578,
        "start_time": "2022-02-23T23:17:25.746Z"
      },
      {
        "duration": 25,
        "start_time": "2022-02-23T23:18:09.320Z"
      },
      {
        "duration": 20,
        "start_time": "2022-02-23T23:18:27.912Z"
      },
      {
        "duration": 1764,
        "start_time": "2022-02-23T23:18:38.528Z"
      },
      {
        "duration": 69,
        "start_time": "2022-02-23T23:19:11.364Z"
      },
      {
        "duration": 46,
        "start_time": "2022-02-23T23:21:02.017Z"
      },
      {
        "duration": 44,
        "start_time": "2022-02-23T23:21:23.972Z"
      },
      {
        "duration": 47,
        "start_time": "2022-02-23T23:21:43.049Z"
      },
      {
        "duration": 50,
        "start_time": "2022-02-23T23:23:30.395Z"
      },
      {
        "duration": 10,
        "start_time": "2022-02-23T23:30:12.001Z"
      },
      {
        "duration": 11,
        "start_time": "2022-02-23T23:30:16.453Z"
      },
      {
        "duration": 5,
        "start_time": "2022-02-23T23:31:52.192Z"
      },
      {
        "duration": 5,
        "start_time": "2022-02-23T23:32:37.309Z"
      },
      {
        "duration": 67,
        "start_time": "2022-02-23T23:32:56.356Z"
      },
      {
        "duration": 4,
        "start_time": "2022-02-23T23:32:59.201Z"
      },
      {
        "duration": 50,
        "start_time": "2022-02-23T23:33:05.188Z"
      },
      {
        "duration": 14,
        "start_time": "2022-02-23T23:33:09.391Z"
      },
      {
        "duration": 19,
        "start_time": "2022-02-23T23:33:10.504Z"
      },
      {
        "duration": 8,
        "start_time": "2022-02-23T23:33:12.803Z"
      },
      {
        "duration": 9,
        "start_time": "2022-02-23T23:33:14.951Z"
      },
      {
        "duration": 19,
        "start_time": "2022-02-23T23:33:18.373Z"
      },
      {
        "duration": 30,
        "start_time": "2022-02-23T23:33:24.651Z"
      },
      {
        "duration": 28,
        "start_time": "2022-02-23T23:33:27.265Z"
      },
      {
        "duration": 25,
        "start_time": "2022-02-23T23:33:30.478Z"
      },
      {
        "duration": 528,
        "start_time": "2022-02-23T23:33:32.057Z"
      },
      {
        "duration": 21,
        "start_time": "2022-02-23T23:33:35.729Z"
      },
      {
        "duration": 74,
        "start_time": "2022-02-23T23:33:37.195Z"
      },
      {
        "duration": 599,
        "start_time": "2022-02-23T23:33:38.178Z"
      },
      {
        "duration": 520,
        "start_time": "2022-02-23T23:33:41.002Z"
      },
      {
        "duration": 8,
        "start_time": "2022-02-23T23:33:45.337Z"
      },
      {
        "duration": 56,
        "start_time": "2022-02-23T23:33:47.703Z"
      },
      {
        "duration": 22,
        "start_time": "2022-02-23T23:33:52.669Z"
      },
      {
        "duration": 9,
        "start_time": "2022-02-23T23:33:57.537Z"
      },
      {
        "duration": 200,
        "start_time": "2022-02-23T23:34:00.345Z"
      },
      {
        "duration": 3405,
        "start_time": "2022-02-23T23:34:02.513Z"
      },
      {
        "duration": 1806,
        "start_time": "2022-02-23T23:34:26.143Z"
      },
      {
        "duration": 25,
        "start_time": "2022-02-23T23:34:34.861Z"
      },
      {
        "duration": 22,
        "start_time": "2022-02-23T23:34:36.505Z"
      },
      {
        "duration": 88,
        "start_time": "2022-02-23T23:34:39.335Z"
      },
      {
        "duration": 70,
        "start_time": "2022-02-23T23:34:41.359Z"
      },
      {
        "duration": 44,
        "start_time": "2022-02-23T23:34:48.449Z"
      },
      {
        "duration": 46,
        "start_time": "2022-02-23T23:34:52.502Z"
      },
      {
        "duration": 50,
        "start_time": "2022-02-23T23:34:56.533Z"
      },
      {
        "duration": 12,
        "start_time": "2022-02-23T23:35:01.062Z"
      },
      {
        "duration": 13,
        "start_time": "2022-02-23T23:35:04.363Z"
      },
      {
        "duration": 14,
        "start_time": "2022-02-23T23:35:06.873Z"
      },
      {
        "duration": 7,
        "start_time": "2022-02-23T23:36:15.053Z"
      },
      {
        "duration": 14,
        "start_time": "2022-02-23T23:36:24.921Z"
      },
      {
        "duration": 34,
        "start_time": "2022-02-23T23:36:32.825Z"
      },
      {
        "duration": 55,
        "start_time": "2022-02-23T23:37:52.869Z"
      },
      {
        "duration": 4,
        "start_time": "2022-02-23T23:37:56.373Z"
      },
      {
        "duration": 28,
        "start_time": "2022-02-23T23:38:01.081Z"
      },
      {
        "duration": 50,
        "start_time": "2022-02-23T23:38:06.829Z"
      },
      {
        "duration": 14,
        "start_time": "2022-02-23T23:38:07.605Z"
      },
      {
        "duration": 23,
        "start_time": "2022-02-23T23:38:08.690Z"
      },
      {
        "duration": 9,
        "start_time": "2022-02-23T23:38:11.486Z"
      },
      {
        "duration": 10,
        "start_time": "2022-02-23T23:38:13.561Z"
      },
      {
        "duration": 33,
        "start_time": "2022-02-23T23:38:17.481Z"
      },
      {
        "duration": 23,
        "start_time": "2022-02-23T23:38:22.555Z"
      },
      {
        "duration": 29,
        "start_time": "2022-02-23T23:38:23.441Z"
      },
      {
        "duration": 37,
        "start_time": "2022-02-23T23:38:29.441Z"
      },
      {
        "duration": 29,
        "start_time": "2022-02-23T23:38:36.223Z"
      },
      {
        "duration": 25,
        "start_time": "2022-02-23T23:38:38.571Z"
      },
      {
        "duration": 527,
        "start_time": "2022-02-23T23:38:40.675Z"
      },
      {
        "duration": 542,
        "start_time": "2022-02-23T23:38:43.633Z"
      },
      {
        "duration": 18,
        "start_time": "2022-02-23T23:38:45.651Z"
      },
      {
        "duration": 40,
        "start_time": "2022-02-23T23:38:50.917Z"
      },
      {
        "duration": 70,
        "start_time": "2022-02-23T23:38:55.317Z"
      },
      {
        "duration": 591,
        "start_time": "2022-02-23T23:38:55.519Z"
      },
      {
        "duration": 37,
        "start_time": "2022-02-23T23:38:57.901Z"
      },
      {
        "duration": 508,
        "start_time": "2022-02-23T23:39:03.537Z"
      },
      {
        "duration": 8,
        "start_time": "2022-02-23T23:39:06.225Z"
      },
      {
        "duration": 13,
        "start_time": "2022-02-23T23:39:10.689Z"
      },
      {
        "duration": 35,
        "start_time": "2022-02-23T23:46:37.297Z"
      },
      {
        "duration": 262,
        "start_time": "2022-02-24T19:10:16.796Z"
      },
      {
        "duration": 726,
        "start_time": "2022-02-24T19:10:19.782Z"
      },
      {
        "duration": 3,
        "start_time": "2022-02-24T19:10:20.510Z"
      },
      {
        "duration": 24,
        "start_time": "2022-02-24T19:10:20.515Z"
      },
      {
        "duration": 37,
        "start_time": "2022-02-24T19:10:20.541Z"
      },
      {
        "duration": 9,
        "start_time": "2022-02-24T19:10:20.580Z"
      },
      {
        "duration": 451,
        "start_time": "2022-02-24T19:10:20.590Z"
      },
      {
        "duration": 7,
        "start_time": "2022-02-24T19:10:21.042Z"
      },
      {
        "duration": 12,
        "start_time": "2022-02-24T19:10:21.052Z"
      },
      {
        "duration": 17,
        "start_time": "2022-02-24T19:10:21.066Z"
      },
      {
        "duration": 13,
        "start_time": "2022-02-24T19:10:21.085Z"
      },
      {
        "duration": 21,
        "start_time": "2022-02-24T19:10:21.100Z"
      },
      {
        "duration": 44,
        "start_time": "2022-02-24T19:10:21.122Z"
      },
      {
        "duration": 19,
        "start_time": "2022-02-24T19:10:21.168Z"
      },
      {
        "duration": 358,
        "start_time": "2022-02-24T19:10:21.188Z"
      },
      {
        "duration": 17,
        "start_time": "2022-02-24T19:10:21.548Z"
      },
      {
        "duration": 45,
        "start_time": "2022-02-24T19:10:21.566Z"
      },
      {
        "duration": 400,
        "start_time": "2022-02-24T19:10:21.612Z"
      },
      {
        "duration": 341,
        "start_time": "2022-02-24T19:10:22.013Z"
      },
      {
        "duration": 5,
        "start_time": "2022-02-24T19:10:22.356Z"
      },
      {
        "duration": 15,
        "start_time": "2022-02-24T19:10:22.363Z"
      },
      {
        "duration": 43,
        "start_time": "2022-02-24T19:10:22.381Z"
      },
      {
        "duration": 3,
        "start_time": "2022-02-24T19:10:22.426Z"
      },
      {
        "duration": 45,
        "start_time": "2022-02-24T19:10:22.432Z"
      },
      {
        "duration": 15,
        "start_time": "2022-02-24T19:10:22.479Z"
      },
      {
        "duration": 150,
        "start_time": "2022-02-24T19:10:22.496Z"
      },
      {
        "duration": 2400,
        "start_time": "2022-02-24T19:10:22.648Z"
      },
      {
        "duration": 10,
        "start_time": "2022-02-24T19:10:25.050Z"
      },
      {
        "duration": 1116,
        "start_time": "2022-02-24T19:10:25.062Z"
      },
      {
        "duration": 315,
        "start_time": "2022-02-24T19:10:26.181Z"
      },
      {
        "duration": 948,
        "start_time": "2022-02-25T16:15:02.671Z"
      },
      {
        "duration": 4,
        "start_time": "2022-02-25T16:15:04.719Z"
      },
      {
        "duration": 52,
        "start_time": "2022-02-25T16:15:08.323Z"
      },
      {
        "duration": 517,
        "start_time": "2022-02-25T16:15:12.871Z"
      },
      {
        "duration": 10,
        "start_time": "2022-02-25T16:15:16.936Z"
      },
      {
        "duration": 11,
        "start_time": "2022-02-25T16:15:20.835Z"
      },
      {
        "duration": 22,
        "start_time": "2022-02-25T16:15:23.260Z"
      },
      {
        "duration": 31,
        "start_time": "2022-02-25T16:15:25.117Z"
      },
      {
        "duration": 28,
        "start_time": "2022-02-25T16:15:28.956Z"
      },
      {
        "duration": 29,
        "start_time": "2022-02-25T16:15:32.093Z"
      },
      {
        "duration": 20,
        "start_time": "2022-02-25T16:15:55.771Z"
      },
      {
        "duration": 72,
        "start_time": "2022-02-25T16:15:59.160Z"
      },
      {
        "duration": 644,
        "start_time": "2022-02-25T16:16:00.403Z"
      },
      {
        "duration": 540,
        "start_time": "2022-02-25T16:16:04.456Z"
      },
      {
        "duration": 7,
        "start_time": "2022-02-25T16:17:36.452Z"
      },
      {
        "duration": 13,
        "start_time": "2022-02-25T16:17:50.329Z"
      },
      {
        "duration": 6,
        "start_time": "2022-02-25T16:19:41.860Z"
      },
      {
        "duration": 32,
        "start_time": "2022-02-25T16:19:49.087Z"
      },
      {
        "duration": 32,
        "start_time": "2022-02-25T16:20:01.953Z"
      },
      {
        "duration": 21,
        "start_time": "2022-02-25T16:20:08.920Z"
      },
      {
        "duration": 9,
        "start_time": "2022-02-25T16:20:38.213Z"
      },
      {
        "duration": 16,
        "start_time": "2022-02-25T16:22:12.305Z"
      },
      {
        "duration": 640,
        "start_time": "2022-02-25T16:25:33.810Z"
      },
      {
        "duration": 646,
        "start_time": "2022-02-25T16:26:23.980Z"
      },
      {
        "duration": 236,
        "start_time": "2022-02-25T17:15:51.735Z"
      },
      {
        "duration": 233,
        "start_time": "2022-02-25T17:16:16.408Z"
      },
      {
        "duration": 360,
        "start_time": "2022-02-25T17:16:50.768Z"
      },
      {
        "duration": 409,
        "start_time": "2022-02-25T17:20:08.594Z"
      },
      {
        "duration": 726,
        "start_time": "2022-02-25T17:20:15.890Z"
      },
      {
        "duration": 91,
        "start_time": "2022-02-25T17:25:34.498Z"
      },
      {
        "duration": 308,
        "start_time": "2022-02-25T17:27:04.724Z"
      },
      {
        "duration": 730,
        "start_time": "2022-02-25T17:27:19.986Z"
      },
      {
        "duration": 101,
        "start_time": "2022-02-25T17:27:30.492Z"
      },
      {
        "duration": 327,
        "start_time": "2022-02-25T17:27:35.221Z"
      },
      {
        "duration": 16,
        "start_time": "2022-02-25T17:28:19.283Z"
      },
      {
        "duration": 243,
        "start_time": "2022-02-25T17:28:42.508Z"
      },
      {
        "duration": 251,
        "start_time": "2022-02-25T17:28:50.756Z"
      },
      {
        "duration": 315,
        "start_time": "2022-02-25T17:32:46.226Z"
      },
      {
        "duration": 14,
        "start_time": "2022-02-25T17:34:08.643Z"
      },
      {
        "duration": 11,
        "start_time": "2022-02-25T17:34:24.352Z"
      },
      {
        "duration": 56,
        "start_time": "2022-02-25T17:35:56.752Z"
      },
      {
        "duration": 247,
        "start_time": "2022-02-25T17:36:05.746Z"
      },
      {
        "duration": 230,
        "start_time": "2022-02-25T17:36:14.297Z"
      },
      {
        "duration": 253,
        "start_time": "2022-02-25T17:36:23.271Z"
      },
      {
        "duration": 252,
        "start_time": "2022-02-25T17:37:55.835Z"
      },
      {
        "duration": 294,
        "start_time": "2022-02-25T17:38:51.944Z"
      },
      {
        "duration": 754,
        "start_time": "2022-02-25T17:45:42.150Z"
      },
      {
        "duration": 814,
        "start_time": "2022-02-25T17:46:08.775Z"
      },
      {
        "duration": 732,
        "start_time": "2022-02-25T17:46:12.506Z"
      },
      {
        "duration": 744,
        "start_time": "2022-02-25T17:47:14.450Z"
      },
      {
        "duration": 103,
        "start_time": "2022-02-25T17:47:56.126Z"
      },
      {
        "duration": 420,
        "start_time": "2022-02-25T17:48:05.033Z"
      },
      {
        "duration": 318,
        "start_time": "2022-02-25T17:48:17.046Z"
      },
      {
        "duration": 1620,
        "start_time": "2022-02-25T17:55:33.434Z"
      },
      {
        "duration": 1618,
        "start_time": "2022-02-25T18:18:57.111Z"
      },
      {
        "duration": 1717,
        "start_time": "2022-02-25T18:19:26.860Z"
      },
      {
        "duration": 1658,
        "start_time": "2022-02-25T18:19:53.281Z"
      },
      {
        "duration": 75,
        "start_time": "2022-02-25T18:21:15.405Z"
      },
      {
        "duration": 72,
        "start_time": "2022-02-25T18:22:33.494Z"
      },
      {
        "duration": 25,
        "start_time": "2022-02-25T18:23:10.227Z"
      },
      {
        "duration": 71,
        "start_time": "2022-02-25T18:23:27.719Z"
      },
      {
        "duration": 10,
        "start_time": "2022-02-25T18:24:27.930Z"
      },
      {
        "duration": 68,
        "start_time": "2022-02-25T18:24:55.996Z"
      },
      {
        "duration": 4,
        "start_time": "2022-02-25T18:25:22.728Z"
      },
      {
        "duration": 8,
        "start_time": "2022-02-25T18:25:30.788Z"
      },
      {
        "duration": 3114,
        "start_time": "2022-02-25T18:27:43.936Z"
      },
      {
        "duration": 22,
        "start_time": "2022-02-25T18:27:56.227Z"
      },
      {
        "duration": 43,
        "start_time": "2022-02-25T18:43:26.260Z"
      },
      {
        "duration": 45,
        "start_time": "2022-02-25T18:43:31.596Z"
      },
      {
        "duration": 47,
        "start_time": "2022-02-25T18:43:35.763Z"
      },
      {
        "duration": 11,
        "start_time": "2022-02-25T18:44:22.951Z"
      },
      {
        "duration": 22,
        "start_time": "2022-02-25T19:21:25.062Z"
      },
      {
        "duration": 36,
        "start_time": "2022-02-25T19:23:40.038Z"
      },
      {
        "duration": 9,
        "start_time": "2022-02-25T19:26:32.901Z"
      },
      {
        "duration": 10,
        "start_time": "2022-02-25T19:28:45.593Z"
      },
      {
        "duration": 14,
        "start_time": "2022-02-25T19:29:28.349Z"
      },
      {
        "duration": 38,
        "start_time": "2022-02-25T19:30:17.227Z"
      },
      {
        "duration": 11,
        "start_time": "2022-02-25T19:30:26.524Z"
      },
      {
        "duration": 11,
        "start_time": "2022-02-25T19:30:34.122Z"
      },
      {
        "duration": 1147,
        "start_time": "2022-02-25T19:33:30.843Z"
      },
      {
        "duration": 5,
        "start_time": "2022-02-25T19:33:33.110Z"
      },
      {
        "duration": 19,
        "start_time": "2022-02-25T19:33:35.886Z"
      },
      {
        "duration": 48,
        "start_time": "2022-02-25T19:33:38.962Z"
      },
      {
        "duration": 13,
        "start_time": "2022-02-25T19:33:40.045Z"
      },
      {
        "duration": 549,
        "start_time": "2022-02-25T19:33:40.578Z"
      },
      {
        "duration": 11,
        "start_time": "2022-02-25T19:33:43.750Z"
      },
      {
        "duration": 11,
        "start_time": "2022-02-25T19:33:45.266Z"
      },
      {
        "duration": 22,
        "start_time": "2022-02-25T19:33:45.707Z"
      },
      {
        "duration": 18,
        "start_time": "2022-02-25T19:33:46.238Z"
      },
      {
        "duration": 30,
        "start_time": "2022-02-25T19:33:47.003Z"
      },
      {
        "duration": 31,
        "start_time": "2022-02-25T19:33:49.823Z"
      },
      {
        "duration": 39,
        "start_time": "2022-02-25T19:33:57.657Z"
      },
      {
        "duration": 604,
        "start_time": "2022-02-25T19:34:00.266Z"
      },
      {
        "duration": 21,
        "start_time": "2022-02-25T19:34:02.282Z"
      },
      {
        "duration": 74,
        "start_time": "2022-02-25T19:34:03.816Z"
      },
      {
        "duration": 605,
        "start_time": "2022-02-25T19:34:05.038Z"
      },
      {
        "duration": 657,
        "start_time": "2022-02-25T19:34:06.707Z"
      },
      {
        "duration": 7,
        "start_time": "2022-02-25T19:34:11.758Z"
      },
      {
        "duration": 32,
        "start_time": "2022-02-25T19:34:18.606Z"
      },
      {
        "duration": 819,
        "start_time": "2022-02-25T19:34:26.106Z"
      },
      {
        "duration": 225,
        "start_time": "2022-02-25T19:34:39.775Z"
      },
      {
        "duration": 3038,
        "start_time": "2022-02-25T19:34:41.314Z"
      },
      {
        "duration": 99,
        "start_time": "2022-02-25T19:34:46.611Z"
      },
      {
        "duration": 321,
        "start_time": "2022-02-25T19:34:47.453Z"
      },
      {
        "duration": 1842,
        "start_time": "2022-02-25T19:34:57.406Z"
      },
      {
        "duration": 21,
        "start_time": "2022-02-25T19:35:08.463Z"
      },
      {
        "duration": 21,
        "start_time": "2022-02-25T19:35:17.369Z"
      },
      {
        "duration": 22,
        "start_time": "2022-02-25T19:38:16.552Z"
      },
      {
        "duration": 20,
        "start_time": "2022-02-25T19:38:18.778Z"
      },
      {
        "duration": 84,
        "start_time": "2022-02-25T19:38:36.684Z"
      },
      {
        "duration": 71,
        "start_time": "2022-02-25T19:38:41.206Z"
      },
      {
        "duration": 44,
        "start_time": "2022-02-25T19:39:05.001Z"
      },
      {
        "duration": 45,
        "start_time": "2022-02-25T19:39:21.034Z"
      },
      {
        "duration": 50,
        "start_time": "2022-02-25T19:39:37.590Z"
      },
      {
        "duration": 10,
        "start_time": "2022-02-25T19:40:21.716Z"
      },
      {
        "duration": 12,
        "start_time": "2022-02-25T19:41:14.167Z"
      },
      {
        "duration": 12,
        "start_time": "2022-02-25T19:41:25.361Z"
      },
      {
        "duration": 35,
        "start_time": "2022-02-25T19:42:59.190Z"
      },
      {
        "duration": 6,
        "start_time": "2022-02-25T19:43:37.082Z"
      },
      {
        "duration": 878,
        "start_time": "2022-02-26T17:54:10.791Z"
      },
      {
        "duration": 4,
        "start_time": "2022-02-26T17:54:11.672Z"
      },
      {
        "duration": 22,
        "start_time": "2022-02-26T17:54:11.678Z"
      },
      {
        "duration": 46,
        "start_time": "2022-02-26T17:54:11.703Z"
      },
      {
        "duration": 28,
        "start_time": "2022-02-26T17:54:11.752Z"
      },
      {
        "duration": 533,
        "start_time": "2022-02-26T17:54:11.783Z"
      },
      {
        "duration": 10,
        "start_time": "2022-02-26T17:54:12.318Z"
      },
      {
        "duration": 9,
        "start_time": "2022-02-26T17:54:12.332Z"
      },
      {
        "duration": 37,
        "start_time": "2022-02-26T17:54:12.344Z"
      },
      {
        "duration": 18,
        "start_time": "2022-02-26T17:54:12.383Z"
      },
      {
        "duration": 28,
        "start_time": "2022-02-26T17:54:12.404Z"
      },
      {
        "duration": 58,
        "start_time": "2022-02-26T17:54:12.434Z"
      },
      {
        "duration": 26,
        "start_time": "2022-02-26T17:54:12.495Z"
      },
      {
        "duration": 584,
        "start_time": "2022-02-26T17:54:12.523Z"
      },
      {
        "duration": 18,
        "start_time": "2022-02-26T17:54:13.109Z"
      },
      {
        "duration": 98,
        "start_time": "2022-02-26T17:54:13.129Z"
      },
      {
        "duration": 633,
        "start_time": "2022-02-26T17:54:13.229Z"
      },
      {
        "duration": 542,
        "start_time": "2022-02-26T17:54:13.865Z"
      },
      {
        "duration": 7,
        "start_time": "2022-02-26T17:54:14.409Z"
      },
      {
        "duration": 30,
        "start_time": "2022-02-26T17:54:14.418Z"
      },
      {
        "duration": 3,
        "start_time": "2022-02-26T17:54:14.473Z"
      },
      {
        "duration": 8,
        "start_time": "2022-02-26T17:54:14.478Z"
      },
      {
        "duration": 6,
        "start_time": "2022-02-26T17:54:14.490Z"
      },
      {
        "duration": 674,
        "start_time": "2022-02-26T17:54:14.499Z"
      },
      {
        "duration": 225,
        "start_time": "2022-02-26T17:54:15.175Z"
      },
      {
        "duration": 2462,
        "start_time": "2022-02-26T17:54:15.402Z"
      },
      {
        "duration": 112,
        "start_time": "2022-02-26T17:54:17.866Z"
      },
      {
        "duration": 315,
        "start_time": "2022-02-26T17:54:17.980Z"
      },
      {
        "duration": 34,
        "start_time": "2022-02-26T17:54:30.377Z"
      },
      {
        "duration": 739,
        "start_time": "2022-02-26T17:54:40.109Z"
      },
      {
        "duration": 606,
        "start_time": "2022-02-26T17:54:49.362Z"
      },
      {
        "duration": 770,
        "start_time": "2022-02-26T17:55:27.140Z"
      },
      {
        "duration": 35,
        "start_time": "2022-02-26T17:55:36.871Z"
      },
      {
        "duration": 48,
        "start_time": "2022-02-26T17:56:43.552Z"
      },
      {
        "duration": 3,
        "start_time": "2022-02-26T17:56:43.603Z"
      },
      {
        "duration": 23,
        "start_time": "2022-02-26T17:56:43.609Z"
      },
      {
        "duration": 97,
        "start_time": "2022-02-26T17:56:43.635Z"
      },
      {
        "duration": 17,
        "start_time": "2022-02-26T17:56:43.735Z"
      },
      {
        "duration": 41,
        "start_time": "2022-02-26T17:56:43.755Z"
      },
      {
        "duration": 11,
        "start_time": "2022-02-26T17:56:43.799Z"
      },
      {
        "duration": 18,
        "start_time": "2022-02-26T17:56:43.813Z"
      },
      {
        "duration": 45,
        "start_time": "2022-02-26T17:56:43.834Z"
      },
      {
        "duration": 19,
        "start_time": "2022-02-26T17:56:43.882Z"
      },
      {
        "duration": 29,
        "start_time": "2022-02-26T17:56:46.881Z"
      },
      {
        "duration": 5,
        "start_time": "2022-02-26T17:57:03.414Z"
      },
      {
        "duration": 5,
        "start_time": "2022-02-26T17:57:09.774Z"
      },
      {
        "duration": 5,
        "start_time": "2022-02-26T17:57:12.155Z"
      },
      {
        "duration": 47,
        "start_time": "2022-02-26T17:58:57.581Z"
      },
      {
        "duration": 3,
        "start_time": "2022-02-26T17:58:57.631Z"
      },
      {
        "duration": 48,
        "start_time": "2022-02-26T17:58:57.637Z"
      },
      {
        "duration": 47,
        "start_time": "2022-02-26T17:58:57.687Z"
      },
      {
        "duration": 41,
        "start_time": "2022-02-26T17:58:57.737Z"
      },
      {
        "duration": 20,
        "start_time": "2022-02-26T17:58:57.781Z"
      },
      {
        "duration": 8,
        "start_time": "2022-02-26T17:58:57.803Z"
      },
      {
        "duration": 9,
        "start_time": "2022-02-26T17:58:57.816Z"
      },
      {
        "duration": 51,
        "start_time": "2022-02-26T17:58:57.828Z"
      },
      {
        "duration": 21,
        "start_time": "2022-02-26T17:58:57.882Z"
      },
      {
        "duration": 71,
        "start_time": "2022-02-26T17:58:57.907Z"
      },
      {
        "duration": 43,
        "start_time": "2022-02-26T17:58:57.982Z"
      },
      {
        "duration": 53,
        "start_time": "2022-02-26T17:58:58.028Z"
      },
      {
        "duration": 552,
        "start_time": "2022-02-26T17:58:58.084Z"
      },
      {
        "duration": 18,
        "start_time": "2022-02-26T17:58:58.639Z"
      },
      {
        "duration": 83,
        "start_time": "2022-02-26T17:58:58.659Z"
      },
      {
        "duration": 611,
        "start_time": "2022-02-26T17:58:58.745Z"
      },
      {
        "duration": 533,
        "start_time": "2022-02-26T17:58:59.359Z"
      },
      {
        "duration": 6,
        "start_time": "2022-02-26T17:58:59.894Z"
      },
      {
        "duration": 37,
        "start_time": "2022-02-26T17:58:59.903Z"
      },
      {
        "duration": 4,
        "start_time": "2022-02-26T17:58:59.943Z"
      },
      {
        "duration": 3,
        "start_time": "2022-02-26T17:58:59.974Z"
      },
      {
        "duration": 7,
        "start_time": "2022-02-26T17:58:59.983Z"
      },
      {
        "duration": 1400,
        "start_time": "2022-02-26T17:58:59.993Z"
      },
      {
        "duration": 236,
        "start_time": "2022-02-26T17:59:01.396Z"
      },
      {
        "duration": 3434,
        "start_time": "2022-02-26T17:59:01.635Z"
      },
      {
        "duration": 120,
        "start_time": "2022-02-26T17:59:05.074Z"
      },
      {
        "duration": 329,
        "start_time": "2022-02-26T17:59:05.199Z"
      },
      {
        "duration": 616,
        "start_time": "2022-02-26T17:59:05.573Z"
      },
      {
        "duration": 714,
        "start_time": "2022-02-26T17:59:13.278Z"
      },
      {
        "duration": 625,
        "start_time": "2022-02-26T17:59:34.477Z"
      },
      {
        "duration": 51,
        "start_time": "2022-02-26T18:04:22.057Z"
      },
      {
        "duration": 4,
        "start_time": "2022-02-26T18:04:22.111Z"
      },
      {
        "duration": 20,
        "start_time": "2022-02-26T18:04:22.118Z"
      },
      {
        "duration": 54,
        "start_time": "2022-02-26T18:04:22.173Z"
      },
      {
        "duration": 12,
        "start_time": "2022-02-26T18:04:22.230Z"
      },
      {
        "duration": 40,
        "start_time": "2022-02-26T18:04:22.245Z"
      },
      {
        "duration": 9,
        "start_time": "2022-02-26T18:04:22.288Z"
      },
      {
        "duration": 12,
        "start_time": "2022-02-26T18:04:22.300Z"
      },
      {
        "duration": 12,
        "start_time": "2022-02-26T18:04:22.318Z"
      },
      {
        "duration": 19,
        "start_time": "2022-02-26T18:04:22.373Z"
      },
      {
        "duration": 28,
        "start_time": "2022-02-26T18:04:22.394Z"
      },
      {
        "duration": 59,
        "start_time": "2022-02-26T18:04:22.424Z"
      },
      {
        "duration": 25,
        "start_time": "2022-02-26T18:04:22.485Z"
      },
      {
        "duration": 567,
        "start_time": "2022-02-26T18:04:22.512Z"
      },
      {
        "duration": 19,
        "start_time": "2022-02-26T18:04:23.081Z"
      },
      {
        "duration": 101,
        "start_time": "2022-02-26T18:04:23.102Z"
      },
      {
        "duration": 960,
        "start_time": "2022-02-26T18:04:23.205Z"
      },
      {
        "duration": 550,
        "start_time": "2022-02-26T18:04:24.168Z"
      },
      {
        "duration": 7,
        "start_time": "2022-02-26T18:04:24.721Z"
      },
      {
        "duration": 54,
        "start_time": "2022-02-26T18:04:24.730Z"
      },
      {
        "duration": 3,
        "start_time": "2022-02-26T18:04:24.787Z"
      },
      {
        "duration": 7,
        "start_time": "2022-02-26T18:04:24.792Z"
      },
      {
        "duration": 10,
        "start_time": "2022-02-26T18:04:24.801Z"
      },
      {
        "duration": 664,
        "start_time": "2022-02-26T18:04:24.813Z"
      },
      {
        "duration": 332,
        "start_time": "2022-02-26T18:04:25.480Z"
      },
      {
        "duration": 2571,
        "start_time": "2022-02-26T18:04:25.815Z"
      },
      {
        "duration": 118,
        "start_time": "2022-02-26T18:04:28.393Z"
      },
      {
        "duration": 335,
        "start_time": "2022-02-26T18:04:28.515Z"
      },
      {
        "duration": 639,
        "start_time": "2022-02-26T18:04:28.853Z"
      },
      {
        "duration": 3,
        "start_time": "2022-02-26T18:04:29.494Z"
      },
      {
        "duration": 1865,
        "start_time": "2022-02-26T18:04:29.500Z"
      },
      {
        "duration": 25,
        "start_time": "2022-02-26T18:04:31.368Z"
      },
      {
        "duration": 23,
        "start_time": "2022-02-26T18:04:31.396Z"
      },
      {
        "duration": 123,
        "start_time": "2022-02-26T18:04:31.421Z"
      },
      {
        "duration": 83,
        "start_time": "2022-02-26T18:04:31.547Z"
      },
      {
        "duration": 66,
        "start_time": "2022-02-26T18:04:31.632Z"
      },
      {
        "duration": 80,
        "start_time": "2022-02-26T18:04:31.701Z"
      },
      {
        "duration": 46,
        "start_time": "2022-02-26T18:04:31.783Z"
      },
      {
        "duration": 47,
        "start_time": "2022-02-26T18:04:31.831Z"
      },
      {
        "duration": 20,
        "start_time": "2022-02-26T18:04:31.881Z"
      },
      {
        "duration": 17,
        "start_time": "2022-02-26T18:04:31.903Z"
      },
      {
        "duration": 7,
        "start_time": "2022-02-26T18:04:31.923Z"
      },
      {
        "duration": 24,
        "start_time": "2022-02-26T18:04:53.491Z"
      },
      {
        "duration": 9,
        "start_time": "2022-02-26T18:06:30.781Z"
      },
      {
        "duration": 36,
        "start_time": "2022-02-26T18:06:34.756Z"
      },
      {
        "duration": 677,
        "start_time": "2022-02-27T10:40:03.987Z"
      },
      {
        "duration": 3,
        "start_time": "2022-02-27T10:40:05.808Z"
      },
      {
        "duration": 27,
        "start_time": "2022-02-27T10:40:09.360Z"
      },
      {
        "duration": 391,
        "start_time": "2022-02-27T10:40:14.868Z"
      },
      {
        "duration": 6,
        "start_time": "2022-02-27T10:40:17.896Z"
      },
      {
        "duration": 6,
        "start_time": "2022-02-27T10:40:19.880Z"
      },
      {
        "duration": 14,
        "start_time": "2022-02-27T10:40:23.460Z"
      },
      {
        "duration": 19,
        "start_time": "2022-02-27T10:40:28.848Z"
      },
      {
        "duration": 18,
        "start_time": "2022-02-27T10:40:50.652Z"
      },
      {
        "duration": 16,
        "start_time": "2022-02-27T10:40:52.916Z"
      },
      {
        "duration": 303,
        "start_time": "2022-02-27T10:40:55.088Z"
      },
      {
        "duration": 13,
        "start_time": "2022-02-27T10:41:01.280Z"
      },
      {
        "duration": 41,
        "start_time": "2022-02-27T10:41:09.700Z"
      },
      {
        "duration": 419,
        "start_time": "2022-02-27T10:41:11.500Z"
      },
      {
        "duration": 294,
        "start_time": "2022-02-27T10:41:15.894Z"
      },
      {
        "duration": 5,
        "start_time": "2022-02-27T10:41:24.144Z"
      },
      {
        "duration": 19,
        "start_time": "2022-02-27T10:41:27.438Z"
      },
      {
        "duration": 348,
        "start_time": "2022-02-27T10:41:34.219Z"
      },
      {
        "duration": 117,
        "start_time": "2022-02-27T10:42:17.608Z"
      },
      {
        "duration": 1366,
        "start_time": "2022-02-27T10:42:19.426Z"
      },
      {
        "duration": 55,
        "start_time": "2022-02-27T10:42:24.400Z"
      },
      {
        "duration": 186,
        "start_time": "2022-02-27T10:42:26.412Z"
      },
      {
        "duration": 336,
        "start_time": "2022-02-27T10:43:10.480Z"
      },
      {
        "duration": 995,
        "start_time": "2022-02-27T10:44:09.108Z"
      },
      {
        "duration": 15,
        "start_time": "2022-02-27T10:44:40.772Z"
      },
      {
        "duration": 12,
        "start_time": "2022-02-27T10:44:43.275Z"
      },
      {
        "duration": 50,
        "start_time": "2022-02-27T10:44:52.239Z"
      },
      {
        "duration": 40,
        "start_time": "2022-02-27T10:44:53.504Z"
      },
      {
        "duration": 27,
        "start_time": "2022-02-27T10:46:49.139Z"
      },
      {
        "duration": 28,
        "start_time": "2022-02-27T10:46:53.703Z"
      },
      {
        "duration": 31,
        "start_time": "2022-02-27T10:46:58.328Z"
      },
      {
        "duration": 7,
        "start_time": "2022-02-27T10:49:05.924Z"
      },
      {
        "duration": 7,
        "start_time": "2022-02-27T10:49:16.044Z"
      },
      {
        "duration": 7,
        "start_time": "2022-02-27T10:49:33.316Z"
      },
      {
        "duration": 897,
        "start_time": "2022-02-27T11:14:46.164Z"
      },
      {
        "duration": 3,
        "start_time": "2022-02-27T11:14:47.064Z"
      },
      {
        "duration": 30,
        "start_time": "2022-02-27T11:14:47.070Z"
      },
      {
        "duration": 53,
        "start_time": "2022-02-27T11:14:47.103Z"
      },
      {
        "duration": 29,
        "start_time": "2022-02-27T11:14:47.159Z"
      },
      {
        "duration": 916,
        "start_time": "2022-02-27T11:14:47.191Z"
      },
      {
        "duration": 12,
        "start_time": "2022-02-27T11:14:48.110Z"
      },
      {
        "duration": 62,
        "start_time": "2022-02-27T11:14:48.128Z"
      },
      {
        "duration": 19,
        "start_time": "2022-02-27T11:14:48.194Z"
      },
      {
        "duration": 73,
        "start_time": "2022-02-27T11:14:48.216Z"
      },
      {
        "duration": 31,
        "start_time": "2022-02-27T11:14:48.291Z"
      },
      {
        "duration": 25,
        "start_time": "2022-02-27T11:14:48.324Z"
      },
      {
        "duration": 64,
        "start_time": "2022-02-27T11:14:48.351Z"
      },
      {
        "duration": 796,
        "start_time": "2022-02-27T11:14:48.418Z"
      },
      {
        "duration": 74,
        "start_time": "2022-02-27T11:14:49.217Z"
      },
      {
        "duration": 202,
        "start_time": "2022-02-27T11:14:49.294Z"
      },
      {
        "duration": 901,
        "start_time": "2022-02-27T11:14:49.499Z"
      },
      {
        "duration": 566,
        "start_time": "2022-02-27T11:14:50.403Z"
      },
      {
        "duration": 19,
        "start_time": "2022-02-27T11:14:50.972Z"
      },
      {
        "duration": 40,
        "start_time": "2022-02-27T11:14:50.994Z"
      },
      {
        "duration": 3,
        "start_time": "2022-02-27T11:14:51.036Z"
      },
      {
        "duration": 6,
        "start_time": "2022-02-27T11:14:51.042Z"
      },
      {
        "duration": 12,
        "start_time": "2022-02-27T11:14:51.053Z"
      },
      {
        "duration": 692,
        "start_time": "2022-02-27T11:14:51.068Z"
      },
      {
        "duration": 239,
        "start_time": "2022-02-27T11:14:51.762Z"
      },
      {
        "duration": 3069,
        "start_time": "2022-02-27T11:14:52.004Z"
      },
      {
        "duration": 100,
        "start_time": "2022-02-27T11:14:55.075Z"
      },
      {
        "duration": 349,
        "start_time": "2022-02-27T11:14:55.177Z"
      },
      {
        "duration": 651,
        "start_time": "2022-02-27T11:14:55.530Z"
      },
      {
        "duration": 4,
        "start_time": "2022-02-27T11:14:56.186Z"
      },
      {
        "duration": 1983,
        "start_time": "2022-02-27T11:14:56.193Z"
      },
      {
        "duration": 34,
        "start_time": "2022-02-27T11:14:58.178Z"
      },
      {
        "duration": 19,
        "start_time": "2022-02-27T11:14:58.215Z"
      },
      {
        "duration": 115,
        "start_time": "2022-02-27T11:14:58.236Z"
      },
      {
        "duration": 89,
        "start_time": "2022-02-27T11:14:58.353Z"
      },
      {
        "duration": 69,
        "start_time": "2022-02-27T11:14:58.445Z"
      },
      {
        "duration": 84,
        "start_time": "2022-02-27T11:14:58.517Z"
      },
      {
        "duration": 82,
        "start_time": "2022-02-27T11:14:58.605Z"
      },
      {
        "duration": 12,
        "start_time": "2022-02-27T11:14:58.689Z"
      },
      {
        "duration": 14,
        "start_time": "2022-02-27T11:14:58.704Z"
      },
      {
        "duration": 17,
        "start_time": "2022-02-27T11:14:58.721Z"
      }
    ],
    "kernelspec": {
      "display_name": "Python 3 (ipykernel)",
      "language": "python",
      "name": "python3"
    },
    "language_info": {
      "codemirror_mode": {
        "name": "ipython",
        "version": 3
      },
      "file_extension": ".py",
      "mimetype": "text/x-python",
      "name": "python",
      "nbconvert_exporter": "python",
      "pygments_lexer": "ipython3",
      "version": "3.9.5"
    },
    "toc": {
      "base_numbering": 1,
      "nav_menu": {},
      "number_sections": true,
      "sideBar": true,
      "skip_h1_title": true,
      "title_cell": "Table of Contents",
      "title_sidebar": "Contents",
      "toc_cell": false,
      "toc_position": {
        "height": "calc(100% - 180px)",
        "left": "10px",
        "top": "150px",
        "width": "292px"
      },
      "toc_section_display": true,
      "toc_window_display": true
    },
    "colab": {
      "provenance": [],
      "collapsed_sections": []
    }
  },
  "nbformat": 4,
  "nbformat_minor": 0
}