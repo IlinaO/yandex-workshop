{
  "cells": [
    {
      "cell_type": "markdown",
      "metadata": {
        "id": "1LFu5N2XJ_yP"
      },
      "source": [
        "**Описание проекта**\n",
        "\n",
        "Вам нужно защитить данные клиентов страховой компании «Хоть потоп». Разработайте такой метод преобразования данных, чтобы по ним было сложно восстановить персональную информацию. Обоснуйте корректность его работы.\n",
        "Нужно защитить данные, чтобы при преобразовании качество моделей машинного обучения не ухудшилось. Подбирать наилучшую модель не требуется.\n",
        "\n",
        "Описание данных\n",
        "\n",
        "Признаки: пол, возраст и зарплата застрахованного, количество членов его семьи.\n",
        "\n",
        "Целевой признак: количество страховых выплат клиенту за последние 5 лет."
      ]
    },
    {
      "cell_type": "markdown",
      "metadata": {
        "toc": true,
        "id": "m7WJDU3XJ_yX"
      },
      "source": [
        "<h1>Содержание<span class=\"tocSkip\"></span></h1>\n",
        "<div class=\"toc\"><ul class=\"toc-item\"><li><span><a href=\"#Загрузка-данных\" data-toc-modified-id=\"Загрузка-данных-1\"><span class=\"toc-item-num\">1&nbsp;&nbsp;</span>Загрузка данных</a></span></li><li><span><a href=\"#Умножение-матриц\" data-toc-modified-id=\"Умножение-матриц-2\"><span class=\"toc-item-num\">2&nbsp;&nbsp;</span>Умножение матриц</a></span></li><li><span><a href=\"#Алгоритм-преобразования\" data-toc-modified-id=\"Алгоритм-преобразования-3\"><span class=\"toc-item-num\">3&nbsp;&nbsp;</span>Алгоритм преобразования</a></span></li><li><span><a href=\"#Проверка-алгоритма\" data-toc-modified-id=\"Проверка-алгоритма-4\"><span class=\"toc-item-num\">4&nbsp;&nbsp;</span>Проверка алгоритма</a></span></li><li><span><a href=\"#Чек-лист-проверки\" data-toc-modified-id=\"Чек-лист-проверки-5\"><span class=\"toc-item-num\">5&nbsp;&nbsp;</span>Чек-лист проверки</a></span></li></ul></div>"
      ]
    },
    {
      "cell_type": "markdown",
      "metadata": {
        "id": "cQhcNLAfJ_yb"
      },
      "source": [
        "## Загрузка данных"
      ]
    },
    {
      "cell_type": "code",
      "execution_count": null,
      "metadata": {
        "id": "nZc-Jy57J_yc"
      },
      "outputs": [],
      "source": [
        "import pandas as pd\n",
        "import numpy as np\n",
        "import matplotlib.pyplot as plt\n",
        "from sklearn.metrics import r2_score"
      ]
    },
    {
      "cell_type": "code",
      "execution_count": null,
      "metadata": {
        "id": "ch_uJKmRJ_ye"
      },
      "outputs": [],
      "source": [
        "df = pd.read_csv('/datasets/insurance.csv', decimal = ',')"
      ]
    },
    {
      "cell_type": "code",
      "execution_count": null,
      "metadata": {
        "id": "HecS-WNhJ_yf",
        "outputId": "10ac01e6-762e-48a4-c9c9-daed2845c3d9"
      },
      "outputs": [
        {
          "data": {
            "text/html": [
              "<div>\n",
              "<style scoped>\n",
              "    .dataframe tbody tr th:only-of-type {\n",
              "        vertical-align: middle;\n",
              "    }\n",
              "\n",
              "    .dataframe tbody tr th {\n",
              "        vertical-align: top;\n",
              "    }\n",
              "\n",
              "    .dataframe thead th {\n",
              "        text-align: right;\n",
              "    }\n",
              "</style>\n",
              "<table border=\"1\" class=\"dataframe\">\n",
              "  <thead>\n",
              "    <tr style=\"text-align: right;\">\n",
              "      <th></th>\n",
              "      <th>Пол</th>\n",
              "      <th>Возраст</th>\n",
              "      <th>Зарплата</th>\n",
              "      <th>Члены семьи</th>\n",
              "      <th>Страховые выплаты</th>\n",
              "    </tr>\n",
              "  </thead>\n",
              "  <tbody>\n",
              "    <tr>\n",
              "      <th>0</th>\n",
              "      <td>1</td>\n",
              "      <td>41.0</td>\n",
              "      <td>49600.0</td>\n",
              "      <td>1</td>\n",
              "      <td>0</td>\n",
              "    </tr>\n",
              "    <tr>\n",
              "      <th>1</th>\n",
              "      <td>0</td>\n",
              "      <td>46.0</td>\n",
              "      <td>38000.0</td>\n",
              "      <td>1</td>\n",
              "      <td>1</td>\n",
              "    </tr>\n",
              "    <tr>\n",
              "      <th>2</th>\n",
              "      <td>0</td>\n",
              "      <td>29.0</td>\n",
              "      <td>21000.0</td>\n",
              "      <td>0</td>\n",
              "      <td>0</td>\n",
              "    </tr>\n",
              "    <tr>\n",
              "      <th>3</th>\n",
              "      <td>0</td>\n",
              "      <td>21.0</td>\n",
              "      <td>41700.0</td>\n",
              "      <td>2</td>\n",
              "      <td>0</td>\n",
              "    </tr>\n",
              "    <tr>\n",
              "      <th>4</th>\n",
              "      <td>1</td>\n",
              "      <td>28.0</td>\n",
              "      <td>26100.0</td>\n",
              "      <td>0</td>\n",
              "      <td>0</td>\n",
              "    </tr>\n",
              "  </tbody>\n",
              "</table>\n",
              "</div>"
            ],
            "text/plain": [
              "   Пол Возраст Зарплата  Члены семьи  Страховые выплаты\n",
              "0    1    41.0  49600.0            1                  0\n",
              "1    0    46.0  38000.0            1                  1\n",
              "2    0    29.0  21000.0            0                  0\n",
              "3    0    21.0  41700.0            2                  0\n",
              "4    1    28.0  26100.0            0                  0"
            ]
          },
          "execution_count": 3,
          "metadata": {},
          "output_type": "execute_result"
        }
      ],
      "source": [
        "df.head()"
      ]
    },
    {
      "cell_type": "code",
      "execution_count": null,
      "metadata": {
        "scrolled": true,
        "id": "xkGUUgKEJ_yg",
        "outputId": "bb9f4e65-718b-43ea-f38a-e8c2671a9aad"
      },
      "outputs": [
        {
          "name": "stdout",
          "output_type": "stream",
          "text": [
            "<class 'pandas.core.frame.DataFrame'>\n",
            "RangeIndex: 5000 entries, 0 to 4999\n",
            "Data columns (total 5 columns):\n",
            " #   Column             Non-Null Count  Dtype \n",
            "---  ------             --------------  ----- \n",
            " 0   Пол                5000 non-null   int64 \n",
            " 1   Возраст            5000 non-null   object\n",
            " 2   Зарплата           5000 non-null   object\n",
            " 3   Члены семьи        5000 non-null   int64 \n",
            " 4   Страховые выплаты  5000 non-null   int64 \n",
            "dtypes: int64(3), object(2)\n",
            "memory usage: 195.4+ KB\n"
          ]
        }
      ],
      "source": [
        "df.info()"
      ]
    },
    {
      "cell_type": "code",
      "execution_count": null,
      "metadata": {
        "id": "iCdBEYiBJ_yh"
      },
      "outputs": [],
      "source": [
        "df['Возраст'] = pd.to_numeric(df['Возраст'])\n",
        "df['Зарплата'] = pd.to_numeric(df['Зарплата'])"
      ]
    },
    {
      "cell_type": "code",
      "execution_count": null,
      "metadata": {
        "scrolled": true,
        "id": "nOANQQPhJ_yh",
        "outputId": "9e66dad1-8aae-4216-d0cf-c6ba674dc29f"
      },
      "outputs": [
        {
          "data": {
            "text/plain": [
              "<matplotlib.legend.Legend at 0x7fda77cafe80>"
            ]
          },
          "execution_count": 6,
          "metadata": {},
          "output_type": "execute_result"
        },
        {
          "data": {
            "image/png": "[encoded data removed]",
            "text/plain": [
              "<Figure size 1152x1152 with 3 Axes>"
            ]
          },
          "metadata": {
            "needs_background": "light"
          },
          "output_type": "display_data"
        }
      ],
      "source": [
        "# Настройка размеров подложки\n",
        "plt.figure(figsize=(16, 16))\n",
        "\n",
        "# Вывод графиков\n",
        "plt.subplot(3, 2, 1)\n",
        "df['Возраст'].hist(bins=100)\n",
        "plt.title('Возраст', fontsize=15)\n",
        "\n",
        "plt.subplot(3, 2, 2)\n",
        "df['Зарплата'].hist(bins=100)\n",
        "plt.title('Зарплата', fontsize=15)\n",
        "\n",
        "plt.subplot(3, 2, 3)\n",
        "df['Пол'].hist(bins=100, alpha=0.5, label='Пол')\n",
        "df['Члены семьи'].hist(bins=100, alpha=0.5, label='Члены семьи')\n",
        "df['Страховые выплаты'].hist(bins=100, alpha=0.5, label='Страховые выплаты')\n",
        "plt.title('Остальное', fontsize=15)\n",
        "plt.legend()"
      ]
    },
    {
      "cell_type": "markdown",
      "metadata": {
        "id": "hNRx-N9qJ_yi"
      },
      "source": [
        "## Умножение матриц"
      ]
    },
    {
      "cell_type": "markdown",
      "metadata": {
        "id": "Rat-QTzsJ_yi"
      },
      "source": [
        "В этом задании вы можете записывать формулы в *Jupyter Notebook.*\n",
        "\n",
        "Чтобы записать формулу внутри текста, окружите её символами доллара \\\\$; если снаружи —  двойными символами \\\\$\\\\$. Эти формулы записываются на языке вёрстки *LaTeX.* \n",
        "\n",
        "Для примера мы записали формулы линейной регрессии. Можете их скопировать и отредактировать, чтобы решить задачу.\n",
        "\n",
        "Работать в *LaTeX* необязательно."
      ]
    },
    {
      "cell_type": "markdown",
      "metadata": {
        "id": "rlBzCHQPJ_yj"
      },
      "source": [
        "Обозначения:\n",
        "\n",
        "- $X$ — матрица признаков (нулевой столбец состоит из единиц)\n",
        "\n",
        "- $y$ — вектор целевого признака\n",
        "\n",
        "- $P$ — матрица, на которую умножаются признаки\n",
        "\n",
        "- $w$ — вектор весов линейной регрессии (нулевой элемент равен сдвигу)"
      ]
    },
    {
      "cell_type": "markdown",
      "metadata": {
        "id": "hd3IAuWhJ_yj"
      },
      "source": [
        "Предсказания:\n",
        "\n",
        "$$\n",
        "a = Xw\n",
        "$$\n",
        "\n",
        "Задача обучения:\n",
        "\n",
        "$$\n",
        "w = \\arg\\min_w MSE(Xw, y)\n",
        "$$\n",
        "\n",
        "Формула обучения:\n",
        "\n",
        "$$\n",
        "w = (X^T X)^{-1} X^T y\n",
        "$$"
      ]
    },
    {
      "cell_type": "markdown",
      "metadata": {
        "id": "0N-n52JYJ_yk"
      },
      "source": [
        "Доказательство: \n",
        "Начну доказательство с допущени, что:  \n",
        "$$ a_1 = a$$\n",
        "    ,    где  $ a_1 = X_1 w_1 $ и $ a = X w $,   тогда  \n",
        "$$ X_1 w_1 = X w $$\n",
        "    . Вспомним, что $X_1 = XP$: \n",
        "$$ X P w_1 = X w $$\n",
        "    . Мы знаем, что $ w_1 = (X_1^T X_1)^{-1} X_1^T y = ((XP)^T XP)^{-1} (XP)^T y $, а $ w = (X^T X)^{-1} X^T y $. Тогда уравнение приобретает вид:\n",
        "$$ X P ((XP)^T XP)^{-1} (XP)^T y = X (X^T X)^{-1} X^T y $$. \n",
        "    \n",
        "Раскрою $ (XP)^T $:    \n",
        "$$ X P (P^T X^T XP)^{-1} (XP)^T y = X (X^T X)^{-1} X^T y $$\n",
        "Раскрываю $ (P^T X^T XP)^{-1} $ на $ P^{-1} $ и $ (P^T X^T X)^{-1}$ , а так же раскрываю $ (XP)^T $\n",
        "$$ X P P^{-1} (P^T X^T X)^{-1} P^T X^T y = X (X^T X)^{-1} X^T y $$\n",
        "Заметим, что $ P P^{-1} = I = 1 $ и разложу оставшуюся скобку $ (P^T X^T X)^{-1} $ на $ (X^T X)^{-1} $ и $ (P^T)^{-1} $\n",
        "$$ X (X^T X)^{-1} (P^T)^{-1} P^T X^T y = X (X^T X)^{-1} X^T y $$\n",
        "Так же замечу, что $ (P^T)^{-1} P^T = I = 1 $. Тогда получаем правую часть равную левой:\n",
        "$$ X (X^T X)^{-1} X^T y = X (X^T X)^{-1} X^T y $$. \n",
        "чтд\n",
        "\n"
      ]
    },
    {
      "cell_type": "code",
      "execution_count": null,
      "metadata": {
        "id": "OXxCcCtBJ_ym"
      },
      "outputs": [],
      "source": [
        "features = df.drop('Страховые выплаты', axis=1)\n",
        "target = df['Страховые выплаты']\n",
        "\n",
        "class LinearRegression:\n",
        "    def fit(self, train_features, train_target):\n",
        "        X = np.concatenate((np.ones((train_features.shape[0], 1)), train_features), axis=1)\n",
        "        y = train_target\n",
        "        w = (np.linalg.inv(((X.T) @ X)) @ (X.T)) @ y\n",
        "        self.w = w[1:]\n",
        "        self.w0 = w[0]\n",
        "\n",
        "    def predict(self, test_features):\n",
        "        return test_features.dot(self.w) + self.w0"
      ]
    },
    {
      "cell_type": "code",
      "execution_count": null,
      "metadata": {
        "id": "wLZSVKCUJ_ym",
        "outputId": "6e2a0954-a4b7-4f43-aba7-82f7dd33bde6"
      },
      "outputs": [
        {
          "name": "stdout",
          "output_type": "stream",
          "text": [
            "0.42494550286668\n"
          ]
        }
      ],
      "source": [
        "model = LinearRegression()\n",
        "model.fit(features, target)\n",
        "predictions = model.predict(features)\n",
        "print(r2_score(target, predictions))"
      ]
    },
    {
      "cell_type": "code",
      "execution_count": null,
      "metadata": {
        "id": "7D4ds-jGJ_yn",
        "outputId": "24a8e5ee-d3ee-4db0-a1b1-72b428c2216e"
      },
      "outputs": [
        {
          "data": {
            "text/plain": [
              "array([[  1.21319662,  -0.13556401,  -1.24636897,   0.80836653],\n",
              "       [ -1.0950115 ,   0.06492103,   0.25794617,   1.42429275],\n",
              "       [ -2.4823803 ,  -0.70374669,  18.03881493,  -9.36038449],\n",
              "       [  2.30311741,   1.74616385, -14.14104413,   5.76450067]])"
            ]
          },
          "execution_count": 29,
          "metadata": {},
          "output_type": "execute_result"
        }
      ],
      "source": [
        "encoder = np.random.rand(4,4)\n",
        "np.linalg.inv(encoder)"
      ]
    },
    {
      "cell_type": "code",
      "execution_count": null,
      "metadata": {
        "id": "Lkmd5sOSJ_yo",
        "outputId": "3e894f8f-e3a1-4bb4-a75b-6dc2c095c3c9"
      },
      "outputs": [
        {
          "name": "stdout",
          "output_type": "stream",
          "text": [
            "0.4249455028242676\n"
          ]
        }
      ],
      "source": [
        "model = LinearRegression()\n",
        "model.fit(features @ encoder, target)\n",
        "predictions = model.predict(features @ encoder)\n",
        "print(r2_score(target, predictions))"
      ]
    },
    {
      "cell_type": "markdown",
      "metadata": {
        "id": "wO3ebM1OJ_yo"
      },
      "source": [
        "**Ответ:** \n",
        "\n",
        "Качество работы модели после домножения на обратимую матрицу не изменилось\n",
        "\n",
        "**Обоснование:** \n",
        "\n",
        "Для шифрования информации могут использоваться аналитические преобразования. Наибольшее распространение получили методы шифрования, основанные на использовании матричной алгебры. Зашифрование k-го блока исходной информации, представленного в виде вектора Bk = ||bj||, осуществляется путем перемножения матрицы-ключа А = ||aij|| и вектора Bk. В результате перемножения получается блок шифртекста в виде вектора Ck = ||ci|| , где элементы вектора Ck определяются по формуле:\n",
        "\n",
        "Предсказания:\n",
        "\n",
        "$$\n",
        "Ci = \\sum(aij*bj)\n",
        "$$\n",
        "\n",
        "Расшифрование информации осуществляется путем последовательного перемножения векторов Ck и матрицы A-1, обратной матрице A.\n",
        "\n"
      ]
    },
    {
      "cell_type": "markdown",
      "metadata": {
        "id": "YZgxShhwJ_yo"
      },
      "source": [
        "## Алгоритм преобразования"
      ]
    },
    {
      "cell_type": "markdown",
      "metadata": {
        "id": "V1nnF4xXJ_yp"
      },
      "source": [
        "**Алгоритм**\n",
        "\n",
        "Шифрование:\n",
        "1. Придумаем квадратную матрицу-шифр А, размер стороны которой равен количеству признаков.\n",
        "2. Проверяем наличие обратной матрицы А_1.\n",
        "3. Шифруем данные путем перемножения матрицы признаков с матрицей-шифром.\n",
        "\n",
        "Дешифрование:\n",
        "1. Умножаем матрицу зашифрованных данных на обратную матрицу-шифр А_1.\n",
        "\n",
        "\n",
        "\n",
        "**Обоснование**\n",
        "\n",
        "Обратная матрица задается как:\n",
        "\n",
        "$$\n",
        "А*А^{-1} = I\n",
        "$$\n",
        "\n",
        "Тогда закодированные признаки Х по формуле:\n",
        "$$\n",
        "А*Х = У, \n",
        "$$\n",
        "можно найти с помощью обратной матрицы:\n",
        "$$\n",
        "У*А^{-1} = Х\n",
        "$$"
      ]
    },
    {
      "cell_type": "markdown",
      "metadata": {
        "id": "dK1CBMDFJ_yp"
      },
      "source": [
        "## Проверка алгоритма"
      ]
    },
    {
      "cell_type": "code",
      "execution_count": null,
      "metadata": {
        "id": "qbxw6fFXJ_yp",
        "outputId": "c923d9f1-3f4c-418d-d82e-4b0af780ec9e"
      },
      "outputs": [
        {
          "data": {
            "text/plain": [
              "array([[-0.078125,  0.109375, -0.140625,  0.171875],\n",
              "       [-0.140625, -0.078125,  0.171875,  0.109375],\n",
              "       [ 0.109375,  0.171875, -0.078125, -0.140625],\n",
              "       [ 0.171875, -0.140625,  0.109375, -0.078125]])"
            ]
          },
          "execution_count": 24,
          "metadata": {},
          "output_type": "execute_result"
        }
      ],
      "source": [
        "A = np.array([\n",
        "    [5,1,3,7], \n",
        "    [3,5,7,1],\n",
        "    [1,7,5,3],  \n",
        "    [7,3,1,5]])\n",
        "\n",
        "A_1 = np.linalg.inv(A)\n",
        "A_1"
      ]
    },
    {
      "cell_type": "code",
      "execution_count": null,
      "metadata": {
        "id": "FCYzsJk1J_yq",
        "outputId": "73c835db-14a4-4b80-81a3-62153d4d6077"
      },
      "outputs": [
        {
          "name": "stdout",
          "output_type": "stream",
          "text": [
            "0.42494550286668\n"
          ]
        }
      ],
      "source": [
        "# Модель до преобразования\n",
        "model = LinearRegression()\n",
        "model.fit(features, target)\n",
        "predictions = model.predict(features)\n",
        "print(r2_score(target, predictions))"
      ]
    },
    {
      "cell_type": "code",
      "execution_count": null,
      "metadata": {
        "id": "ffvpEhU2J_yq",
        "outputId": "d52dff4b-7fb0-4e7c-e4dd-f73b8b2abb65"
      },
      "outputs": [
        {
          "name": "stdout",
          "output_type": "stream",
          "text": [
            "0.424945502866686\n"
          ]
        }
      ],
      "source": [
        "# Модель после преобразования\n",
        "model_1 = LinearRegression()\n",
        "model_1.fit(features @ A, target)\n",
        "predictions_1 = model_1.predict(features @ A)\n",
        "print(r2_score(target, predictions_1))"
      ]
    },
    {
      "cell_type": "markdown",
      "metadata": {
        "id": "9nV73xnvJ_yq"
      },
      "source": [
        "Модели показали одинаковое качество на шифрованных и не шифрованных данных, значит алгоритм справляется со своей задачей. Хочется его усложнить, но я не придумала как это сделать. Простые линейные операции или повторное умножение на матрицу приведут лишь к измению изначального множетеля, но мы можем взять его случайным, соответственно усложнение алгоритма не происходит."
      ]
    }
  ],
  "metadata": {
    "ExecuteTimeLog": [
      {
        "duration": 47,
        "start_time": "2022-07-16T12:02:48.447Z"
      },
      {
        "duration": 369,
        "start_time": "2022-07-16T12:03:00.805Z"
      },
      {
        "duration": 81,
        "start_time": "2022-07-16T12:03:01.283Z"
      },
      {
        "duration": 17,
        "start_time": "2022-07-16T12:03:07.190Z"
      },
      {
        "duration": 7,
        "start_time": "2022-07-16T12:06:23.170Z"
      },
      {
        "duration": 12,
        "start_time": "2022-07-16T12:06:28.560Z"
      },
      {
        "duration": 7,
        "start_time": "2022-07-16T12:09:43.229Z"
      },
      {
        "duration": 31,
        "start_time": "2022-07-16T12:13:03.472Z"
      },
      {
        "duration": 385,
        "start_time": "2022-07-16T12:13:15.869Z"
      },
      {
        "duration": 1445,
        "start_time": "2022-07-16T12:13:19.081Z"
      },
      {
        "duration": 1107,
        "start_time": "2022-07-16T12:13:48.629Z"
      },
      {
        "duration": 1252,
        "start_time": "2022-07-16T12:16:01.969Z"
      },
      {
        "duration": 19,
        "start_time": "2022-07-16T12:54:39.757Z"
      },
      {
        "duration": 94,
        "start_time": "2022-07-16T12:54:59.574Z"
      },
      {
        "duration": 19,
        "start_time": "2022-07-16T12:55:41.712Z"
      },
      {
        "duration": 695,
        "start_time": "2022-07-16T12:55:52.182Z"
      },
      {
        "duration": 10,
        "start_time": "2022-07-16T12:55:56.844Z"
      },
      {
        "duration": 46,
        "start_time": "2022-07-16T13:03:43.368Z"
      },
      {
        "duration": 15,
        "start_time": "2022-07-16T13:06:09.980Z"
      },
      {
        "duration": 72,
        "start_time": "2022-07-16T13:06:49.540Z"
      },
      {
        "duration": 10,
        "start_time": "2022-07-16T13:07:03.870Z"
      },
      {
        "duration": 69,
        "start_time": "2022-07-16T13:08:15.277Z"
      },
      {
        "duration": 9,
        "start_time": "2022-07-16T13:08:54.218Z"
      },
      {
        "duration": 5,
        "start_time": "2022-07-16T13:09:02.581Z"
      },
      {
        "duration": 77,
        "start_time": "2022-07-16T13:09:17.701Z"
      },
      {
        "duration": 5,
        "start_time": "2022-07-16T13:09:22.058Z"
      },
      {
        "duration": 64,
        "start_time": "2022-07-16T13:09:36.614Z"
      },
      {
        "duration": 4,
        "start_time": "2022-07-16T13:09:40.392Z"
      },
      {
        "duration": 72,
        "start_time": "2022-07-16T13:10:02.060Z"
      },
      {
        "duration": 61,
        "start_time": "2022-07-16T13:10:17.664Z"
      },
      {
        "duration": 77,
        "start_time": "2022-07-16T13:10:23.682Z"
      },
      {
        "duration": 7,
        "start_time": "2022-07-16T13:10:29.080Z"
      },
      {
        "duration": 4,
        "start_time": "2022-07-16T13:10:34.379Z"
      },
      {
        "duration": 15,
        "start_time": "2022-07-16T13:10:50.032Z"
      },
      {
        "duration": 5,
        "start_time": "2022-07-16T13:10:53.672Z"
      },
      {
        "duration": 8,
        "start_time": "2022-07-16T13:12:43.816Z"
      },
      {
        "duration": 9,
        "start_time": "2022-07-16T13:12:52.172Z"
      },
      {
        "duration": 11,
        "start_time": "2022-07-16T13:12:59.167Z"
      },
      {
        "duration": 6,
        "start_time": "2022-07-16T13:13:12.596Z"
      },
      {
        "duration": 5,
        "start_time": "2022-07-16T13:13:16.520Z"
      },
      {
        "duration": 8,
        "start_time": "2022-07-16T14:40:27.684Z"
      },
      {
        "duration": 10,
        "start_time": "2022-07-16T14:40:51.101Z"
      },
      {
        "duration": 14,
        "start_time": "2022-07-16T14:43:17.625Z"
      },
      {
        "duration": 75,
        "start_time": "2022-07-16T14:43:53.810Z"
      },
      {
        "duration": 58,
        "start_time": "2022-07-16T14:43:58.662Z"
      },
      {
        "duration": 98,
        "start_time": "2022-07-16T14:44:03.171Z"
      },
      {
        "duration": 78,
        "start_time": "2022-07-16T14:44:08.379Z"
      },
      {
        "duration": 153,
        "start_time": "2022-07-16T14:44:15.406Z"
      },
      {
        "duration": 7,
        "start_time": "2022-07-16T14:44:26.402Z"
      },
      {
        "duration": 16,
        "start_time": "2022-07-16T14:44:31.786Z"
      },
      {
        "duration": 12,
        "start_time": "2022-07-16T14:46:32.394Z"
      },
      {
        "duration": 8,
        "start_time": "2022-07-16T14:47:22.678Z"
      },
      {
        "duration": 2436,
        "start_time": "2022-07-21T12:22:36.098Z"
      },
      {
        "duration": 114,
        "start_time": "2022-07-21T12:22:38.536Z"
      },
      {
        "duration": 19,
        "start_time": "2022-07-21T12:22:45.658Z"
      },
      {
        "duration": 20,
        "start_time": "2022-07-21T12:22:57.948Z"
      },
      {
        "duration": 8175,
        "start_time": "2022-07-21T12:23:03.418Z"
      },
      {
        "duration": 6,
        "start_time": "2022-07-21T12:23:26.347Z"
      },
      {
        "duration": 1192,
        "start_time": "2022-07-21T12:23:27.409Z"
      },
      {
        "duration": 15,
        "start_time": "2022-07-21T12:23:33.885Z"
      },
      {
        "duration": 7,
        "start_time": "2022-07-21T12:23:34.683Z"
      },
      {
        "duration": 9,
        "start_time": "2022-07-21T12:23:36.515Z"
      },
      {
        "duration": 1551,
        "start_time": "2022-07-26T10:04:08.351Z"
      },
      {
        "duration": 102,
        "start_time": "2022-07-26T10:04:09.904Z"
      },
      {
        "duration": 6,
        "start_time": "2022-07-26T10:04:14.095Z"
      },
      {
        "duration": 14,
        "start_time": "2022-07-26T10:04:23.233Z"
      },
      {
        "duration": 7,
        "start_time": "2022-07-26T10:04:23.809Z"
      },
      {
        "duration": 12,
        "start_time": "2022-07-26T10:04:24.573Z"
      },
      {
        "duration": 1858,
        "start_time": "2022-07-26T19:37:46.934Z"
      },
      {
        "duration": 92,
        "start_time": "2022-07-26T19:37:48.793Z"
      },
      {
        "duration": 15,
        "start_time": "2022-07-26T19:37:49.943Z"
      },
      {
        "duration": 15,
        "start_time": "2022-07-26T19:37:52.529Z"
      },
      {
        "duration": 8,
        "start_time": "2022-07-26T19:37:53.022Z"
      },
      {
        "duration": 7,
        "start_time": "2022-07-26T19:48:20.424Z"
      },
      {
        "duration": 12,
        "start_time": "2022-07-26T19:48:51.199Z"
      },
      {
        "duration": 19,
        "start_time": "2022-07-26T19:50:39.511Z"
      },
      {
        "duration": 6,
        "start_time": "2022-07-26T19:52:24.732Z"
      },
      {
        "duration": 9,
        "start_time": "2022-07-26T19:52:25.655Z"
      },
      {
        "duration": 15,
        "start_time": "2022-07-26T19:52:26.529Z"
      },
      {
        "duration": 8,
        "start_time": "2022-07-26T19:52:56.842Z"
      },
      {
        "duration": 28,
        "start_time": "2022-07-26T19:52:57.796Z"
      },
      {
        "duration": 1704,
        "start_time": "2022-07-26T20:17:46.654Z"
      },
      {
        "duration": 30,
        "start_time": "2022-07-26T20:17:48.360Z"
      },
      {
        "duration": 12,
        "start_time": "2022-07-26T20:17:48.391Z"
      },
      {
        "duration": 10,
        "start_time": "2022-07-26T20:17:48.405Z"
      },
      {
        "duration": 8,
        "start_time": "2022-07-26T20:17:48.416Z"
      },
      {
        "duration": 1081,
        "start_time": "2022-07-26T20:17:48.426Z"
      },
      {
        "duration": 27,
        "start_time": "2022-07-26T20:17:49.508Z"
      },
      {
        "duration": 194,
        "start_time": "2022-07-26T20:17:49.537Z"
      },
      {
        "duration": 10,
        "start_time": "2022-07-26T20:17:49.733Z"
      },
      {
        "duration": 94,
        "start_time": "2022-07-26T20:17:49.846Z"
      },
      {
        "duration": 11,
        "start_time": "2022-07-26T20:17:49.942Z"
      },
      {
        "duration": 79,
        "start_time": "2022-07-26T20:17:49.955Z"
      },
      {
        "duration": 199,
        "start_time": "2022-07-26T20:17:50.036Z"
      },
      {
        "duration": 18,
        "start_time": "2022-07-26T20:38:46.139Z"
      },
      {
        "duration": 1489,
        "start_time": "2022-07-27T13:38:19.110Z"
      },
      {
        "duration": 81,
        "start_time": "2022-07-27T13:38:20.972Z"
      },
      {
        "duration": 7,
        "start_time": "2022-07-27T13:38:23.489Z"
      },
      {
        "duration": 13,
        "start_time": "2022-07-27T13:39:55.648Z"
      },
      {
        "duration": 6,
        "start_time": "2022-07-27T13:40:16.396Z"
      },
      {
        "duration": 240,
        "start_time": "2022-07-27T13:40:21.447Z"
      },
      {
        "duration": 13,
        "start_time": "2022-07-27T13:40:26.197Z"
      },
      {
        "duration": 7,
        "start_time": "2022-07-27T13:40:34.241Z"
      },
      {
        "duration": 6,
        "start_time": "2022-07-27T13:40:41.842Z"
      },
      {
        "duration": 5,
        "start_time": "2022-07-27T13:40:56.246Z"
      },
      {
        "duration": 6,
        "start_time": "2022-07-27T13:43:35.046Z"
      },
      {
        "duration": 97,
        "start_time": "2022-07-27T13:43:35.872Z"
      },
      {
        "duration": 6,
        "start_time": "2022-07-27T13:44:10.798Z"
      },
      {
        "duration": 89,
        "start_time": "2022-07-27T13:44:12.063Z"
      },
      {
        "duration": 5,
        "start_time": "2022-07-27T13:45:03.700Z"
      },
      {
        "duration": 96,
        "start_time": "2022-07-27T13:45:04.570Z"
      },
      {
        "duration": 8,
        "start_time": "2022-07-27T13:45:17.843Z"
      },
      {
        "duration": 93,
        "start_time": "2022-07-27T13:45:19.212Z"
      },
      {
        "duration": 5,
        "start_time": "2022-07-27T13:46:25.772Z"
      },
      {
        "duration": 12,
        "start_time": "2022-07-27T13:46:27.152Z"
      },
      {
        "duration": 7,
        "start_time": "2022-07-27T13:47:07.071Z"
      },
      {
        "duration": 8,
        "start_time": "2022-07-27T13:47:17.032Z"
      },
      {
        "duration": 10,
        "start_time": "2022-07-27T13:47:17.747Z"
      },
      {
        "duration": 6,
        "start_time": "2022-07-27T13:48:19.249Z"
      },
      {
        "duration": 7,
        "start_time": "2022-07-27T13:48:23.049Z"
      },
      {
        "duration": 7,
        "start_time": "2022-07-27T13:48:39.379Z"
      },
      {
        "duration": 8,
        "start_time": "2022-07-27T13:48:57.553Z"
      },
      {
        "duration": 7,
        "start_time": "2022-07-27T13:51:38.278Z"
      },
      {
        "duration": 5,
        "start_time": "2022-07-27T13:51:49.002Z"
      }
    ],
    "kernelspec": {
      "display_name": "Python 3 (ipykernel)",
      "language": "python",
      "name": "python3"
    },
    "language_info": {
      "codemirror_mode": {
        "name": "ipython",
        "version": 3
      },
      "file_extension": ".py",
      "mimetype": "text/x-python",
      "name": "python",
      "nbconvert_exporter": "python",
      "pygments_lexer": "ipython3",
      "version": "3.9.5"
    },
    "toc": {
      "base_numbering": 1,
      "nav_menu": {},
      "number_sections": true,
      "sideBar": true,
      "skip_h1_title": true,
      "title_cell": "Содержание",
      "title_sidebar": "Contents",
      "toc_cell": true,
      "toc_position": {
        "height": "calc(100% - 180px)",
        "left": "10px",
        "top": "150px",
        "width": "164.988px"
      },
      "toc_section_display": true,
      "toc_window_display": true
    },
    "colab": {
      "provenance": [],
      "collapsed_sections": []
    }
  },
  "nbformat": 4,
  "nbformat_minor": 0
}