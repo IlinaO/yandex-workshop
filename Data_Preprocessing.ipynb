{
  "cells": [
    {
      "cell_type": "markdown",
      "metadata": {
        "id": "czC-x2B63Kui"
      },
      "source": [
        "Описание данных\n",
        "   * children — количество детей в семье\n",
        "   * days_employed — общий трудовой стаж в днях\n",
        "   * dob_years — возраст клиента в годах\n",
        "   * education — уровень образования клиента\n",
        "   * education_id — идентификатор уровня образования\n",
        "   * family_status — семейное положение\n",
        "   * family_status_id — идентификатор семейного положения\n",
        "   * gender — пол клиента\n",
        "   * income_type — тип занятости\n",
        "   * debt — имел ли задолженность по возврату кредитов\n",
        "   * total_income — ежемесячный доход\n",
        "   * purpose — цель получения кредита"
      ]
    },
    {
      "cell_type": "markdown",
      "metadata": {
        "id": "1lEPqe5r3Kuj"
      },
      "source": [
        "# Исследование надёжности заёмщиков\n",
        "\n",
        "Заказчик — кредитный отдел банка. Нужно разобраться, влияет ли семейное положение и количество детей клиента на факт погашения кредита в срок. Входные данные от банка — статистика о платёжеспособности клиентов.\n",
        "\n",
        "Результаты исследования будут учтены при построении модели **кредитного скоринга** — специальной системы, которая оценивает способность потенциального заёмщика вернуть кредит банку."
      ]
    },
    {
      "cell_type": "markdown",
      "metadata": {
        "id": "mhAvWojS3Kuk"
      },
      "source": [
        "<div class=\"alert alert-success\">\n",
        "<b>Комментарий ревьюера:</b>\n",
        "\n",
        "Здорово, когда есть вступление в сам проект, каждый сможет быстрее разобраться в концепции / деталях работы. \n",
        "\n",
        "</div>"
      ]
    },
    {
      "cell_type": "markdown",
      "metadata": {
        "id": "NvjVYmxq3Kuk"
      },
      "source": [
        "## Шаг 1. Откройте файл с данными и изучите общую информацию"
      ]
    },
    {
      "cell_type": "code",
      "execution_count": null,
      "metadata": {
        "id": "vgpYcTJ73Kul",
        "outputId": "897ecf2f-7c3b-489b-b272-42d64cd8217f"
      },
      "outputs": [
        {
          "name": "stdout",
          "output_type": "stream",
          "text": [
            "<class 'pandas.core.frame.DataFrame'>\n",
            "RangeIndex: 21525 entries, 0 to 21524\n",
            "Data columns (total 12 columns):\n",
            "children            21525 non-null int64\n",
            "days_employed       19351 non-null float64\n",
            "dob_years           21525 non-null int64\n",
            "education           21525 non-null object\n",
            "education_id        21525 non-null int64\n",
            "family_status       21525 non-null object\n",
            "family_status_id    21525 non-null int64\n",
            "gender              21525 non-null object\n",
            "income_type         21525 non-null object\n",
            "debt                21525 non-null int64\n",
            "total_income        19351 non-null float64\n",
            "purpose             21525 non-null object\n",
            "dtypes: float64(2), int64(5), object(5)\n",
            "memory usage: 2.0+ MB\n"
          ]
        }
      ],
      "source": [
        "import pandas as pd\n",
        "try:\n",
        "    df = pd.read_csv('/datasets/data.csv')\n",
        "    df.info()\n",
        "except:\n",
        "    print('ошибка')"
      ]
    },
    {
      "cell_type": "markdown",
      "metadata": {
        "id": "dj2yGuD13Kun"
      },
      "source": [
        "**Вывод**"
      ]
    },
    {
      "cell_type": "markdown",
      "metadata": {
        "id": "I_DEbAsg3Kuo"
      },
      "source": [
        "Таблица состоит из 12 колонок с данными трех типов: float64(2), int64(5), object(5).\n",
        "\n",
        "Колличество строк(19351 или 21525) в колонках не совпадает, значит есть пропущенные значения или ошибки"
      ]
    },
    {
      "cell_type": "markdown",
      "metadata": {
        "id": "r9JKWUgT3Kuo"
      },
      "source": [
        "Так же перед любой обработкой кода считаю важным взглянуть на вид данных:"
      ]
    },
    {
      "cell_type": "code",
      "execution_count": null,
      "metadata": {
        "scrolled": true,
        "id": "qtEmQHe_3Kup",
        "outputId": "23c611ba-7068-4235-c6f5-d9003220d20f"
      },
      "outputs": [
        {
          "data": {
            "text/html": [
              "<div>\n",
              "<style scoped>\n",
              "    .dataframe tbody tr th:only-of-type {\n",
              "        vertical-align: middle;\n",
              "    }\n",
              "\n",
              "    .dataframe tbody tr th {\n",
              "        vertical-align: top;\n",
              "    }\n",
              "\n",
              "    .dataframe thead th {\n",
              "        text-align: right;\n",
              "    }\n",
              "</style>\n",
              "<table border=\"1\" class=\"dataframe\">\n",
              "  <thead>\n",
              "    <tr style=\"text-align: right;\">\n",
              "      <th></th>\n",
              "      <th>children</th>\n",
              "      <th>days_employed</th>\n",
              "      <th>dob_years</th>\n",
              "      <th>education</th>\n",
              "      <th>education_id</th>\n",
              "      <th>family_status</th>\n",
              "      <th>family_status_id</th>\n",
              "      <th>gender</th>\n",
              "      <th>income_type</th>\n",
              "      <th>debt</th>\n",
              "      <th>total_income</th>\n",
              "      <th>purpose</th>\n",
              "    </tr>\n",
              "  </thead>\n",
              "  <tbody>\n",
              "    <tr>\n",
              "      <td>0</td>\n",
              "      <td>1</td>\n",
              "      <td>-8437.673028</td>\n",
              "      <td>42</td>\n",
              "      <td>высшее</td>\n",
              "      <td>0</td>\n",
              "      <td>женат / замужем</td>\n",
              "      <td>0</td>\n",
              "      <td>F</td>\n",
              "      <td>сотрудник</td>\n",
              "      <td>0</td>\n",
              "      <td>253875.639453</td>\n",
              "      <td>покупка жилья</td>\n",
              "    </tr>\n",
              "    <tr>\n",
              "      <td>1</td>\n",
              "      <td>1</td>\n",
              "      <td>-4024.803754</td>\n",
              "      <td>36</td>\n",
              "      <td>среднее</td>\n",
              "      <td>1</td>\n",
              "      <td>женат / замужем</td>\n",
              "      <td>0</td>\n",
              "      <td>F</td>\n",
              "      <td>сотрудник</td>\n",
              "      <td>0</td>\n",
              "      <td>112080.014102</td>\n",
              "      <td>приобретение автомобиля</td>\n",
              "    </tr>\n",
              "    <tr>\n",
              "      <td>2</td>\n",
              "      <td>0</td>\n",
              "      <td>-5623.422610</td>\n",
              "      <td>33</td>\n",
              "      <td>Среднее</td>\n",
              "      <td>1</td>\n",
              "      <td>женат / замужем</td>\n",
              "      <td>0</td>\n",
              "      <td>M</td>\n",
              "      <td>сотрудник</td>\n",
              "      <td>0</td>\n",
              "      <td>145885.952297</td>\n",
              "      <td>покупка жилья</td>\n",
              "    </tr>\n",
              "    <tr>\n",
              "      <td>3</td>\n",
              "      <td>3</td>\n",
              "      <td>-4124.747207</td>\n",
              "      <td>32</td>\n",
              "      <td>среднее</td>\n",
              "      <td>1</td>\n",
              "      <td>женат / замужем</td>\n",
              "      <td>0</td>\n",
              "      <td>M</td>\n",
              "      <td>сотрудник</td>\n",
              "      <td>0</td>\n",
              "      <td>267628.550329</td>\n",
              "      <td>дополнительное образование</td>\n",
              "    </tr>\n",
              "    <tr>\n",
              "      <td>4</td>\n",
              "      <td>0</td>\n",
              "      <td>340266.072047</td>\n",
              "      <td>53</td>\n",
              "      <td>среднее</td>\n",
              "      <td>1</td>\n",
              "      <td>гражданский брак</td>\n",
              "      <td>1</td>\n",
              "      <td>F</td>\n",
              "      <td>пенсионер</td>\n",
              "      <td>0</td>\n",
              "      <td>158616.077870</td>\n",
              "      <td>сыграть свадьбу</td>\n",
              "    </tr>\n",
              "    <tr>\n",
              "      <td>5</td>\n",
              "      <td>0</td>\n",
              "      <td>-926.185831</td>\n",
              "      <td>27</td>\n",
              "      <td>высшее</td>\n",
              "      <td>0</td>\n",
              "      <td>гражданский брак</td>\n",
              "      <td>1</td>\n",
              "      <td>M</td>\n",
              "      <td>компаньон</td>\n",
              "      <td>0</td>\n",
              "      <td>255763.565419</td>\n",
              "      <td>покупка жилья</td>\n",
              "    </tr>\n",
              "    <tr>\n",
              "      <td>6</td>\n",
              "      <td>0</td>\n",
              "      <td>-2879.202052</td>\n",
              "      <td>43</td>\n",
              "      <td>высшее</td>\n",
              "      <td>0</td>\n",
              "      <td>женат / замужем</td>\n",
              "      <td>0</td>\n",
              "      <td>F</td>\n",
              "      <td>компаньон</td>\n",
              "      <td>0</td>\n",
              "      <td>240525.971920</td>\n",
              "      <td>операции с жильем</td>\n",
              "    </tr>\n",
              "    <tr>\n",
              "      <td>7</td>\n",
              "      <td>0</td>\n",
              "      <td>-152.779569</td>\n",
              "      <td>50</td>\n",
              "      <td>СРЕДНЕЕ</td>\n",
              "      <td>1</td>\n",
              "      <td>женат / замужем</td>\n",
              "      <td>0</td>\n",
              "      <td>M</td>\n",
              "      <td>сотрудник</td>\n",
              "      <td>0</td>\n",
              "      <td>135823.934197</td>\n",
              "      <td>образование</td>\n",
              "    </tr>\n",
              "    <tr>\n",
              "      <td>8</td>\n",
              "      <td>2</td>\n",
              "      <td>-6929.865299</td>\n",
              "      <td>35</td>\n",
              "      <td>ВЫСШЕЕ</td>\n",
              "      <td>0</td>\n",
              "      <td>гражданский брак</td>\n",
              "      <td>1</td>\n",
              "      <td>F</td>\n",
              "      <td>сотрудник</td>\n",
              "      <td>0</td>\n",
              "      <td>95856.832424</td>\n",
              "      <td>на проведение свадьбы</td>\n",
              "    </tr>\n",
              "    <tr>\n",
              "      <td>9</td>\n",
              "      <td>0</td>\n",
              "      <td>-2188.756445</td>\n",
              "      <td>41</td>\n",
              "      <td>среднее</td>\n",
              "      <td>1</td>\n",
              "      <td>женат / замужем</td>\n",
              "      <td>0</td>\n",
              "      <td>M</td>\n",
              "      <td>сотрудник</td>\n",
              "      <td>0</td>\n",
              "      <td>144425.938277</td>\n",
              "      <td>покупка жилья для семьи</td>\n",
              "    </tr>\n",
              "    <tr>\n",
              "      <td>10</td>\n",
              "      <td>2</td>\n",
              "      <td>-4171.483647</td>\n",
              "      <td>36</td>\n",
              "      <td>высшее</td>\n",
              "      <td>0</td>\n",
              "      <td>женат / замужем</td>\n",
              "      <td>0</td>\n",
              "      <td>M</td>\n",
              "      <td>компаньон</td>\n",
              "      <td>0</td>\n",
              "      <td>113943.491460</td>\n",
              "      <td>покупка недвижимости</td>\n",
              "    </tr>\n",
              "    <tr>\n",
              "      <td>11</td>\n",
              "      <td>0</td>\n",
              "      <td>-792.701887</td>\n",
              "      <td>40</td>\n",
              "      <td>среднее</td>\n",
              "      <td>1</td>\n",
              "      <td>женат / замужем</td>\n",
              "      <td>0</td>\n",
              "      <td>F</td>\n",
              "      <td>сотрудник</td>\n",
              "      <td>0</td>\n",
              "      <td>77069.234271</td>\n",
              "      <td>покупка коммерческой недвижимости</td>\n",
              "    </tr>\n",
              "    <tr>\n",
              "      <td>12</td>\n",
              "      <td>0</td>\n",
              "      <td>NaN</td>\n",
              "      <td>65</td>\n",
              "      <td>среднее</td>\n",
              "      <td>1</td>\n",
              "      <td>гражданский брак</td>\n",
              "      <td>1</td>\n",
              "      <td>M</td>\n",
              "      <td>пенсионер</td>\n",
              "      <td>0</td>\n",
              "      <td>NaN</td>\n",
              "      <td>сыграть свадьбу</td>\n",
              "    </tr>\n",
              "    <tr>\n",
              "      <td>13</td>\n",
              "      <td>0</td>\n",
              "      <td>-1846.641941</td>\n",
              "      <td>54</td>\n",
              "      <td>неоконченное высшее</td>\n",
              "      <td>2</td>\n",
              "      <td>женат / замужем</td>\n",
              "      <td>0</td>\n",
              "      <td>F</td>\n",
              "      <td>сотрудник</td>\n",
              "      <td>0</td>\n",
              "      <td>130458.228857</td>\n",
              "      <td>приобретение автомобиля</td>\n",
              "    </tr>\n",
              "    <tr>\n",
              "      <td>14</td>\n",
              "      <td>0</td>\n",
              "      <td>-1844.956182</td>\n",
              "      <td>56</td>\n",
              "      <td>высшее</td>\n",
              "      <td>0</td>\n",
              "      <td>гражданский брак</td>\n",
              "      <td>1</td>\n",
              "      <td>F</td>\n",
              "      <td>компаньон</td>\n",
              "      <td>1</td>\n",
              "      <td>165127.911772</td>\n",
              "      <td>покупка жилой недвижимости</td>\n",
              "    </tr>\n",
              "  </tbody>\n",
              "</table>\n",
              "</div>"
            ],
            "text/plain": [
              "    children  days_employed  dob_years            education  education_id  \\\n",
              "0          1   -8437.673028         42               высшее             0   \n",
              "1          1   -4024.803754         36              среднее             1   \n",
              "2          0   -5623.422610         33              Среднее             1   \n",
              "3          3   -4124.747207         32              среднее             1   \n",
              "4          0  340266.072047         53              среднее             1   \n",
              "5          0    -926.185831         27               высшее             0   \n",
              "6          0   -2879.202052         43               высшее             0   \n",
              "7          0    -152.779569         50              СРЕДНЕЕ             1   \n",
              "8          2   -6929.865299         35               ВЫСШЕЕ             0   \n",
              "9          0   -2188.756445         41              среднее             1   \n",
              "10         2   -4171.483647         36               высшее             0   \n",
              "11         0    -792.701887         40              среднее             1   \n",
              "12         0            NaN         65              среднее             1   \n",
              "13         0   -1846.641941         54  неоконченное высшее             2   \n",
              "14         0   -1844.956182         56               высшее             0   \n",
              "\n",
              "       family_status  family_status_id gender income_type  debt  \\\n",
              "0    женат / замужем                 0      F   сотрудник     0   \n",
              "1    женат / замужем                 0      F   сотрудник     0   \n",
              "2    женат / замужем                 0      M   сотрудник     0   \n",
              "3    женат / замужем                 0      M   сотрудник     0   \n",
              "4   гражданский брак                 1      F   пенсионер     0   \n",
              "5   гражданский брак                 1      M   компаньон     0   \n",
              "6    женат / замужем                 0      F   компаньон     0   \n",
              "7    женат / замужем                 0      M   сотрудник     0   \n",
              "8   гражданский брак                 1      F   сотрудник     0   \n",
              "9    женат / замужем                 0      M   сотрудник     0   \n",
              "10   женат / замужем                 0      M   компаньон     0   \n",
              "11   женат / замужем                 0      F   сотрудник     0   \n",
              "12  гражданский брак                 1      M   пенсионер     0   \n",
              "13   женат / замужем                 0      F   сотрудник     0   \n",
              "14  гражданский брак                 1      F   компаньон     1   \n",
              "\n",
              "     total_income                            purpose  \n",
              "0   253875.639453                      покупка жилья  \n",
              "1   112080.014102            приобретение автомобиля  \n",
              "2   145885.952297                      покупка жилья  \n",
              "3   267628.550329         дополнительное образование  \n",
              "4   158616.077870                    сыграть свадьбу  \n",
              "5   255763.565419                      покупка жилья  \n",
              "6   240525.971920                  операции с жильем  \n",
              "7   135823.934197                        образование  \n",
              "8    95856.832424              на проведение свадьбы  \n",
              "9   144425.938277            покупка жилья для семьи  \n",
              "10  113943.491460               покупка недвижимости  \n",
              "11   77069.234271  покупка коммерческой недвижимости  \n",
              "12            NaN                    сыграть свадьбу  \n",
              "13  130458.228857            приобретение автомобиля  \n",
              "14  165127.911772         покупка жилой недвижимости  "
            ]
          },
          "execution_count": 2,
          "metadata": {},
          "output_type": "execute_result"
        }
      ],
      "source": [
        "df.head(15)"
      ]
    },
    {
      "cell_type": "markdown",
      "metadata": {
        "id": "HNeKTHg-3Kup"
      },
      "source": [
        "**Из таблицы можно сразу заметить следующие моменты:**\n",
        "\n",
        "   * отсутствующее значение в строке 12 столбцах days_employed и total_income;\n",
        "   * отрицательный трудовой стаж в столбце days_employed;\n",
        "   * беспорядок, связанный с регистром в столбце education;\n",
        "   * столбец purpose с большим колличеством произвольны символов, где можно найти множестово опечаток;\n",
        "   * не совсем понятный столбец income_type (выглядит обрезанным, однако предполагаю, что это не так важно для данной задачи). \n",
        "    \n",
        "**Рассмотрим столбцы подробнее:** (оставила только интересные случаи)"
      ]
    },
    {
      "cell_type": "code",
      "execution_count": null,
      "metadata": {
        "id": "uQ08wPdn3Kup",
        "outputId": "c0da5fe8-960c-4de5-a1d1-d5364f043965"
      },
      "outputs": [
        {
          "name": "stdout",
          "output_type": "stream",
          "text": [
            " 0     14149\n",
            " 1      4818\n",
            " 2      2055\n",
            " 3       330\n",
            " 20       76\n",
            "-1        47\n",
            " 4        41\n",
            " 5         9\n",
            "Name: children, dtype: int64\n"
          ]
        }
      ],
      "source": [
        "print(df['children'].value_counts())\n",
        "\n",
        "# в столбце children есть две ошибочные позиции:\n",
        "#    20 - очевидно, что значение должно = 2, а 0 лишь опечатка(или наобоот - опечаткой является 2)\n",
        "#    -1 - скорее всего \"-\" тоже опечатка, а значение = 1"
      ]
    },
    {
      "cell_type": "code",
      "execution_count": null,
      "metadata": {
        "scrolled": true,
        "id": "L_htRy6y3Kur",
        "outputId": "811912f9-c43c-46d6-e606-7f7d8c5c3725"
      },
      "outputs": [
        {
          "name": "stdout",
          "output_type": "stream",
          "text": [
            "35    617\n",
            "40    609\n",
            "41    607\n",
            "34    603\n",
            "38    598\n",
            "42    597\n",
            "33    581\n",
            "39    573\n",
            "31    560\n",
            "36    555\n",
            "44    547\n",
            "29    545\n",
            "30    540\n",
            "48    538\n",
            "37    537\n",
            "50    514\n",
            "43    513\n",
            "32    510\n",
            "49    508\n",
            "28    503\n",
            "45    497\n",
            "27    493\n",
            "56    487\n",
            "52    484\n",
            "47    480\n",
            "54    479\n",
            "46    475\n",
            "58    461\n",
            "57    460\n",
            "53    459\n",
            "51    448\n",
            "59    444\n",
            "55    443\n",
            "26    408\n",
            "60    377\n",
            "25    357\n",
            "61    355\n",
            "62    352\n",
            "63    269\n",
            "64    265\n",
            "24    264\n",
            "23    254\n",
            "65    194\n",
            "66    183\n",
            "22    183\n",
            "67    167\n",
            "21    111\n",
            "0     101\n",
            "68     99\n",
            "69     85\n",
            "70     65\n",
            "71     58\n",
            "20     51\n",
            "72     33\n",
            "19     14\n",
            "73      8\n",
            "74      6\n",
            "75      1\n",
            "Name: dob_years, dtype: int64\n"
          ]
        }
      ],
      "source": [
        "print(df['dob_years'].value_counts())\n",
        "# есть 101 значение \"0\", явно не соответствующих реальному возрасту"
      ]
    },
    {
      "cell_type": "code",
      "execution_count": null,
      "metadata": {
        "id": "W8Y5AhOE3Kur",
        "outputId": "3e59cfb3-41d6-4d3c-ed7f-91cd12e4d282"
      },
      "outputs": [
        {
          "name": "stdout",
          "output_type": "stream",
          "text": [
            "среднее                13750\n",
            "высшее                  4718\n",
            "СРЕДНЕЕ                  772\n",
            "Среднее                  711\n",
            "неоконченное высшее      668\n",
            "ВЫСШЕЕ                   274\n",
            "Высшее                   268\n",
            "начальное                250\n",
            "Неоконченное высшее       47\n",
            "НЕОКОНЧЕННОЕ ВЫСШЕЕ       29\n",
            "НАЧАЛЬНОЕ                 17\n",
            "Начальное                 15\n",
            "ученая степень             4\n",
            "УЧЕНАЯ СТЕПЕНЬ             1\n",
            "Ученая степень             1\n",
            "Name: education, dtype: int64\n"
          ]
        }
      ],
      "source": [
        "print(df['education'].value_counts())\n",
        "# много дублей"
      ]
    },
    {
      "cell_type": "code",
      "execution_count": null,
      "metadata": {
        "id": "4_LZwObr3Kus",
        "outputId": "d9dd27d3-6b61-4f3e-fcc7-2bf4b567f3bd"
      },
      "outputs": [
        {
          "name": "stdout",
          "output_type": "stream",
          "text": [
            "F      14236\n",
            "M       7288\n",
            "XNA        1\n",
            "Name: gender, dtype: int64\n"
          ]
        }
      ],
      "source": [
        "print(df['gender'].value_counts())\n",
        "# Отсутствующих значений не обноружено, но есть значение XNA"
      ]
    },
    {
      "cell_type": "code",
      "execution_count": null,
      "metadata": {
        "id": "oJn38N3G3Kus",
        "outputId": "68f29e49-ee10-4dc6-bbc0-aaccd01edd5b"
      },
      "outputs": [
        {
          "name": "stdout",
          "output_type": "stream",
          "text": [
            "сотрудник          11119\n",
            "компаньон           5085\n",
            "пенсионер           3856\n",
            "госслужащий         1459\n",
            "предприниматель        2\n",
            "безработный            2\n",
            "студент                1\n",
            "в декрете              1\n",
            "Name: income_type, dtype: int64\n"
          ]
        }
      ],
      "source": [
        "print(df['income_type'].value_counts())\n",
        "# Отсутствующих значений не обноружено"
      ]
    },
    {
      "cell_type": "code",
      "execution_count": null,
      "metadata": {
        "id": "XniviHyB3Kus",
        "outputId": "dbf83e89-f942-4cfb-9cf7-7f59cbe2e4a2"
      },
      "outputs": [
        {
          "name": "stdout",
          "output_type": "stream",
          "text": [
            "свадьба                                   797\n",
            "на проведение свадьбы                     777\n",
            "сыграть свадьбу                           774\n",
            "операции с недвижимостью                  676\n",
            "покупка коммерческой недвижимости         664\n",
            "покупка жилья для сдачи                   653\n",
            "операции с жильем                         653\n",
            "операции с коммерческой недвижимостью     651\n",
            "покупка жилья                             647\n",
            "жилье                                     647\n",
            "покупка жилья для семьи                   641\n",
            "строительство собственной недвижимости    635\n",
            "недвижимость                              634\n",
            "операции со своей недвижимостью           630\n",
            "строительство жилой недвижимости          626\n",
            "покупка недвижимости                      624\n",
            "покупка своего жилья                      620\n",
            "строительство недвижимости                620\n",
            "ремонт жилью                              612\n",
            "покупка жилой недвижимости                607\n",
            "на покупку своего автомобиля              505\n",
            "заняться высшим образованием              496\n",
            "автомобиль                                495\n",
            "сделка с подержанным автомобилем          489\n",
            "свой автомобиль                           480\n",
            "на покупку подержанного автомобиля        479\n",
            "автомобили                                478\n",
            "на покупку автомобиля                     472\n",
            "приобретение автомобиля                   462\n",
            "дополнительное образование                462\n",
            "сделка с автомобилем                      455\n",
            "высшее образование                        453\n",
            "получение дополнительного образования     447\n",
            "образование                               447\n",
            "получение образования                     443\n",
            "профильное образование                    436\n",
            "получение высшего образования             426\n",
            "заняться образованием                     412\n",
            "Name: purpose, dtype: int64\n"
          ]
        }
      ],
      "source": [
        "print(df['purpose'].value_counts())\n",
        "# есть сложные дубли, такие как \"свадьба\" и \"сыграть свадьбу\""
      ]
    },
    {
      "cell_type": "markdown",
      "metadata": {
        "id": "wHwqK3wd3Kut"
      },
      "source": [
        "## Шаг 2. Предобработка данных"
      ]
    },
    {
      "cell_type": "markdown",
      "metadata": {
        "id": "z9qFwisQ3Kut"
      },
      "source": [
        "### Обработка пропусков"
      ]
    },
    {
      "cell_type": "markdown",
      "metadata": {
        "id": "K0yDGdye3Kut"
      },
      "source": [
        "Заменять NaN на 0 или на среднее нельзя, так как это сильно изменит картину.\n",
        "Предлагаю заменить пропущенные значения в столбце total_income на медиану, а в столбце days_employed на среднее значение.\n",
        "Заменять такие значения разумно в рамках среднего или медиального значений по группе income_type "
      ]
    },
    {
      "cell_type": "code",
      "execution_count": null,
      "metadata": {
        "id": "S6j-3sYr3Kut",
        "outputId": "f84b12cc-e3ae-410f-8b85-e3a40edaa5fa"
      },
      "outputs": [
        {
          "name": "stdout",
          "output_type": "stream",
          "text": [
            "children               0\n",
            "days_employed       2174\n",
            "dob_years              0\n",
            "education              0\n",
            "education_id           0\n",
            "family_status          0\n",
            "family_status_id       0\n",
            "gender                 0\n",
            "income_type            0\n",
            "debt                   0\n",
            "total_income        2174\n",
            "purpose                0\n",
            "dtype: int64\n"
          ]
        }
      ],
      "source": [
        "print(df.isna().sum()) \n",
        "# Hезультат показывает, что в таблице есть два значения с пропущенными значениями - days_employed и total_income.\n",
        "# Так же понятно, что таких строк в таблице 2174."
      ]
    },
    {
      "cell_type": "code",
      "execution_count": null,
      "metadata": {
        "id": "AJNbzxpk3Kuu",
        "outputId": "e7ba47a6-1b6b-4dba-fe3c-3ef311cbb119"
      },
      "outputs": [
        {
          "name": "stdout",
          "output_type": "stream",
          "text": [
            "0\n"
          ]
        }
      ],
      "source": [
        "# Проверим, что все значения NaN  в стобце days_employed соответствуют значению NaN в столбце total_income\n",
        "list_of_nan = df[df['days_employed'] == 0]\n",
        "print(len(list_of_nan[list_of_nan['total_income'] != 0]))"
      ]
    },
    {
      "cell_type": "code",
      "execution_count": null,
      "metadata": {
        "id": "J8WC1lai3Kuu"
      },
      "outputs": [],
      "source": [
        "#  Расчет медианы для столбца total_income, усетом группировки по столбцу income_type\n",
        "total_income_median = df.groupby('income_type')['total_income'].median() \n",
        "df['total_income'] = df['total_income'].fillna(0)\n",
        "\n",
        "#  Расчет медианы для столбца total_income, усетом группировки по столбцу income_type\n",
        "df['days_employed'] = abs(df['days_employed'])                           # тк стаж не может быть отрицательным\n",
        "days_employed_count = df.groupby('income_type')['days_employed'].count() \n",
        "days_employed_sum = df.groupby('income_type')['days_employed'].sum()\n",
        "days_employed_mean = days_employed_sum / days_employed_count\n",
        "df['days_employed'] = df['days_employed'].fillna(0)"
      ]
    },
    {
      "cell_type": "code",
      "execution_count": null,
      "metadata": {
        "id": "u7U9Y0uC3Kuv"
      },
      "outputs": [],
      "source": [
        "# Заменяем нулевые значения в столбцах days_employed и total_income. Очень хотела написать цикл, но попытки ни к чему не \n",
        "# привели (кажется датафрейм не дружит с циклами). Ниже представлены только те категории income_type, в которых есть пропуски.\n",
        "list_of_nan.loc[list_of_nan['income_type'] == 'сотрудник', 'total_income'] = total_income_median['сотрудник']\n",
        "list_of_nan.loc[list_of_nan['income_type'] == 'сотрудник', 'days_employed'] = days_employed_mean['сотрудник']\n",
        "\n",
        "list_of_nan.loc[list_of_nan['income_type'] == 'компаньон', 'total_income'] = total_income_median['компаньон']\n",
        "list_of_nan.loc[list_of_nan['income_type'] == 'компаньон', 'days_employed'] = days_employed_mean['компаньон']\n",
        "\n",
        "list_of_nan.loc[list_of_nan['income_type'] == 'пенсионер', 'total_income'] = total_income_median['пенсионер']\n",
        "list_of_nan.loc[list_of_nan['income_type'] == 'пенсионер', 'days_employed'] = days_employed_mean['пенсионер']\n",
        "\n",
        "list_of_nan.loc[list_of_nan['income_type'] == 'госслужащий', 'total_income'] = total_income_median['госслужащий']\n",
        "list_of_nan.loc[list_of_nan['income_type'] == 'госслужащий', 'days_employed'] = days_employed_mean['госслужащий']\n",
        "\n",
        "list_of_nan.loc[list_of_nan['income_type'] == 'предприниматель', 'total_income'] = total_income_median['предприниматель']\n",
        "list_of_nan.loc[list_of_nan['income_type'] == 'предприниматель', 'days_employed'] = days_employed_mean['предприниматель']"
      ]
    },
    {
      "cell_type": "code",
      "execution_count": null,
      "metadata": {
        "id": "INEwRriM3Kuv",
        "outputId": "af95cad5-1c0c-47c5-f7e2-dc45b060059c"
      },
      "outputs": [
        {
          "name": "stdout",
          "output_type": "stream",
          "text": [
            "0 0\n"
          ]
        }
      ],
      "source": [
        "# проверка\n",
        "print(len(list_of_nan[list_of_nan['days_employed'] == 0]), len(list_of_nan[list_of_nan['total_income'] == 0]))"
      ]
    },
    {
      "cell_type": "markdown",
      "metadata": {
        "id": "zEa1AkR53Kuv"
      },
      "source": [
        "**Вывод**"
      ]
    },
    {
      "cell_type": "markdown",
      "metadata": {
        "id": "xCzYIszy3Kuw"
      },
      "source": [
        "Отсутствующие значения успешно заменены на наиболее подходящие с учетом группы занятости.\n",
        "\n",
        "Так же смущает величина стажа (люди столько не живут): рассмотрим пример из строки 4, где стаж составляет 340266 дней, с учетом работы без выходных мы получаем 932 года, многовато...\n",
        "\n",
        "Как пересчитать такие данные не знаю, но есть варианты: взять среднее во каким-нибудь группам (возраст, семейное положение или должность) или удалить строки, если таких значений немного.\n",
        "\n",
        "И в идеале стоит заменить нулевые значения возраста в колонке dob_years (однако таких значений совсем немного - 0,5%)"
      ]
    },
    {
      "cell_type": "markdown",
      "metadata": {
        "id": "B57ZRg7F3Kuw"
      },
      "source": [
        "### Замена типа данных"
      ]
    },
    {
      "cell_type": "code",
      "execution_count": null,
      "metadata": {
        "id": "xHdgtxkf3Kuw"
      },
      "outputs": [],
      "source": [
        "df['days_employed'] = df['days_employed'].astype('int')\n",
        "df['total_income'] = df['total_income'].astype('int')"
      ]
    },
    {
      "cell_type": "markdown",
      "metadata": {
        "id": "vNfqqhpy3Kuw"
      },
      "source": [
        "**Вывод**"
      ]
    },
    {
      "cell_type": "markdown",
      "metadata": {
        "id": "lcqaUIN_3Kux"
      },
      "source": [
        "Из изученных методов на курсе, astype подходит лучше всего, так как преобразует значения столбца в нудный мне тип данных - int\n",
        "В таблицезамена типа данных была произведена только в двух столбцах: total_income и days_employed; так как их формат был неудобенранее ( нецелочисленные значения с 6 числами после запятой)"
      ]
    },
    {
      "cell_type": "markdown",
      "metadata": {
        "id": "Eagy4i4V3Kux"
      },
      "source": [
        "### Обработка дубликатов"
      ]
    },
    {
      "cell_type": "markdown",
      "metadata": {
        "id": "Tje8Nz8f3Kux"
      },
      "source": [
        "Ранее выяснилось, что дубли встречаются в двух столбцах: education и purpose. \n",
        "Обработать столбец education проще всего ручным удалением дублей, изменив регистр на однотипный. \n",
        "А вот для обработки второго столбца лучше всего подойдет леммитизаяция, так как дублирование там связано с описанием одной \n",
        "тематики разными выражениями."
      ]
    },
    {
      "cell_type": "code",
      "execution_count": null,
      "metadata": {
        "id": "PFcz3Hqj3Kux",
        "outputId": "121a9a7e-4462-40a3-cd05-e1dd716c106f"
      },
      "outputs": [
        {
          "name": "stdout",
          "output_type": "stream",
          "text": [
            "['высшее' 'среднее' 'неоконченное высшее' 'начальное' 'ученая степень']\n"
          ]
        }
      ],
      "source": [
        "df['education'] = df['education'].str.lower()\n",
        "# проверка: выведем все уникальные значения\n",
        "print(df['education'].unique())"
      ]
    },
    {
      "cell_type": "markdown",
      "metadata": {
        "id": "cri1ffEh3Kuy"
      },
      "source": [
        "**Вывод**"
      ]
    },
    {
      "cell_type": "markdown",
      "metadata": {
        "id": "nbc4XLqL3Kuy"
      },
      "source": [
        "Объединение столбцов по категориям не имеет смысла, так как мы рассматриваем конкретных индивидумов.\n",
        "Проверка показала, что понижение регистра достаточно, для корректтной разбивки по категориям."
      ]
    },
    {
      "cell_type": "markdown",
      "metadata": {
        "id": "A08UUAlw3Kuy"
      },
      "source": [
        "### Лемматизация"
      ]
    },
    {
      "cell_type": "code",
      "execution_count": null,
      "metadata": {
        "id": "YGOV64nC3Kuy"
      },
      "outputs": [],
      "source": [
        "from pymystem3 import Mystem\n",
        "m = Mystem() \n",
        "\n",
        "immovables = m.lemmatize(df['purpose'][10])[2]\n",
        "education = m.lemmatize(df['purpose'][3])[2]\n",
        "wedding = m.lemmatize(df['purpose'][4])[2]\n",
        "car = m.lemmatize(df['purpose'][1])[2]"
      ]
    },
    {
      "cell_type": "code",
      "execution_count": null,
      "metadata": {
        "id": "wsM_AX_y3Kuy",
        "outputId": "e0f55f03-fe81-45ad-e4ae-43f994ef7623"
      },
      "outputs": [
        {
          "name": "stderr",
          "output_type": "stream",
          "text": [
            "/opt/conda/lib/python3.7/site-packages/ipykernel_launcher.py:21: SettingWithCopyWarning: \n",
            "A value is trying to be set on a copy of a slice from a DataFrame\n",
            "\n",
            "See the caveats in the documentation: http://pandas.pydata.org/pandas-docs/stable/user_guide/indexing.html#returning-a-view-versus-a-copy\n",
            "/opt/conda/lib/python3.7/site-packages/ipykernel_launcher.py:11: SettingWithCopyWarning: \n",
            "A value is trying to be set on a copy of a slice from a DataFrame\n",
            "\n",
            "See the caveats in the documentation: http://pandas.pydata.org/pandas-docs/stable/user_guide/indexing.html#returning-a-view-versus-a-copy\n",
            "  # This is added back by InteractiveShellApp.init_path()\n",
            "/opt/conda/lib/python3.7/site-packages/ipykernel_launcher.py:18: SettingWithCopyWarning: \n",
            "A value is trying to be set on a copy of a slice from a DataFrame\n",
            "\n",
            "See the caveats in the documentation: http://pandas.pydata.org/pandas-docs/stable/user_guide/indexing.html#returning-a-view-versus-a-copy\n",
            "/opt/conda/lib/python3.7/site-packages/ipykernel_launcher.py:4: SettingWithCopyWarning: \n",
            "A value is trying to be set on a copy of a slice from a DataFrame\n",
            "\n",
            "See the caveats in the documentation: http://pandas.pydata.org/pandas-docs/stable/user_guide/indexing.html#returning-a-view-versus-a-copy\n",
            "  after removing the cwd from sys.path.\n"
          ]
        }
      ],
      "source": [
        "for el in range(0, len(df)):\n",
        "    if (df['purpose'][el] == 'свадьба' or df['purpose'][el] == 'на проведение свадьбы ' or\n",
        "        df['purpose'][el] == 'сыграть свадьбу'):\n",
        "            df['purpose'][el] = wedding\n",
        "            \n",
        "    elif (df['purpose'][el] == 'на покупку своего автомобиля' or df['purpose'][el] == 'автомобиль' or\n",
        "        df['purpose'][el] == 'сделка с подержанным автомобилем' or df['purpose'][el] == 'свой автомобиль' or\n",
        "        df['purpose'][el] == 'на покупку подержанного автомобиля' or df['purpose'][el] == 'автомобили' or\n",
        "        df['purpose'][el] == 'на покупку автомобиля' or df['purpose'][el] == 'приобретение автомобиля' or\n",
        "        df['purpose'][el] == 'сделка с автомобилем'):      \n",
        "            df['purpose'][el] = car\n",
        "            \n",
        "    elif (df['purpose'][el] == 'заняться высшим образованием' or df['purpose'][el] == 'дополнительное образование' or\n",
        "        df['purpose'][el] == 'высшее образование' or df['purpose'][el] == 'получение образования' or\n",
        "        df['purpose'][el] == 'получение дополнительного образования' or df['purpose'][el] == 'образование' or    \n",
        "        df['purpose'][el] == 'профильное образование' or df['purpose'][el] == 'получение высшего образования' or\n",
        "        df['purpose'][el] == 'заняться образованием'):\n",
        "            df['purpose'][el] = education\n",
        "    \n",
        "    else:\n",
        "        df['purpose'][el] = immovables"
      ]
    },
    {
      "cell_type": "code",
      "execution_count": null,
      "metadata": {
        "id": "XhSDvDJ83Kuz",
        "outputId": "4f448f53-2036-4faf-9d7e-64dc84ca4e9f"
      },
      "outputs": [
        {
          "data": {
            "text/plain": [
              "недвижимость    11617\n",
              "автомобиль       4315\n",
              "образование      4022\n",
              "свадьба          1571\n",
              "Name: purpose, dtype: int64"
            ]
          },
          "execution_count": 18,
          "metadata": {},
          "output_type": "execute_result"
        }
      ],
      "source": [
        "# проверка\n",
        "df['purpose'].value_counts()"
      ]
    },
    {
      "cell_type": "markdown",
      "metadata": {
        "id": "paMM5cAd3Kuz"
      },
      "source": [
        "**Вывод**"
      ]
    },
    {
      "cell_type": "markdown",
      "metadata": {
        "id": "9syYikL53Kuz"
      },
      "source": [
        "Понимаю, что алгоритм совсем не оптимален, однако способа лучше реализовать у меня не вышло. \n",
        "Выбрала метод lemmatize, так как он позволяет разделять датасет по отдельным словам.\n",
        "Как показала проверка, данные успешно разделены на 4 запланированные группы.\n",
        "Алгоритм леммитизации прост: визуально просматриваем группы, полученные на первом шаге и разделяем их на 4 группы:\n",
        "недвижимостьб автомобиль, образование и свадьба. Далее присваеваем каждой группе необходимые значения. \n",
        "Я не стала делить частную недвижимость с комерческой, так как не совсем понятна грань между ними."
      ]
    },
    {
      "cell_type": "markdown",
      "metadata": {
        "id": "1B03Gq063Kuz"
      },
      "source": [
        "### Категоризация данных"
      ]
    },
    {
      "cell_type": "code",
      "execution_count": null,
      "metadata": {
        "id": "3N26-zxH3Ku0",
        "outputId": "266fe79e-6479-45f5-a61b-db494e4b7d06"
      },
      "outputs": [
        {
          "data": {
            "text/html": [
              "<div>\n",
              "<style scoped>\n",
              "    .dataframe tbody tr th:only-of-type {\n",
              "        vertical-align: middle;\n",
              "    }\n",
              "\n",
              "    .dataframe tbody tr th {\n",
              "        vertical-align: top;\n",
              "    }\n",
              "\n",
              "    .dataframe thead th {\n",
              "        text-align: right;\n",
              "    }\n",
              "</style>\n",
              "<table border=\"1\" class=\"dataframe\">\n",
              "  <thead>\n",
              "    <tr style=\"text-align: right;\">\n",
              "      <th></th>\n",
              "      <th>children</th>\n",
              "      <th>debt</th>\n",
              "    </tr>\n",
              "  </thead>\n",
              "  <tbody>\n",
              "    <tr>\n",
              "      <td>0</td>\n",
              "      <td>1</td>\n",
              "      <td>0</td>\n",
              "    </tr>\n",
              "    <tr>\n",
              "      <td>1</td>\n",
              "      <td>1</td>\n",
              "      <td>0</td>\n",
              "    </tr>\n",
              "    <tr>\n",
              "      <td>2</td>\n",
              "      <td>0</td>\n",
              "      <td>0</td>\n",
              "    </tr>\n",
              "    <tr>\n",
              "      <td>3</td>\n",
              "      <td>3</td>\n",
              "      <td>0</td>\n",
              "    </tr>\n",
              "    <tr>\n",
              "      <td>4</td>\n",
              "      <td>0</td>\n",
              "      <td>0</td>\n",
              "    </tr>\n",
              "    <tr>\n",
              "      <td>...</td>\n",
              "      <td>...</td>\n",
              "      <td>...</td>\n",
              "    </tr>\n",
              "    <tr>\n",
              "      <td>21520</td>\n",
              "      <td>1</td>\n",
              "      <td>0</td>\n",
              "    </tr>\n",
              "    <tr>\n",
              "      <td>21521</td>\n",
              "      <td>0</td>\n",
              "      <td>0</td>\n",
              "    </tr>\n",
              "    <tr>\n",
              "      <td>21522</td>\n",
              "      <td>1</td>\n",
              "      <td>1</td>\n",
              "    </tr>\n",
              "    <tr>\n",
              "      <td>21523</td>\n",
              "      <td>3</td>\n",
              "      <td>1</td>\n",
              "    </tr>\n",
              "    <tr>\n",
              "      <td>21524</td>\n",
              "      <td>2</td>\n",
              "      <td>0</td>\n",
              "    </tr>\n",
              "  </tbody>\n",
              "</table>\n",
              "<p>21525 rows × 2 columns</p>\n",
              "</div>"
            ],
            "text/plain": [
              "       children  debt\n",
              "0             1     0\n",
              "1             1     0\n",
              "2             0     0\n",
              "3             3     0\n",
              "4             0     0\n",
              "...         ...   ...\n",
              "21520         1     0\n",
              "21521         0     0\n",
              "21522         1     1\n",
              "21523         3     1\n",
              "21524         2     0\n",
              "\n",
              "[21525 rows x 2 columns]"
            ]
          },
          "execution_count": 19,
          "metadata": {},
          "output_type": "execute_result"
        }
      ],
      "source": [
        "# создадим таблицу для удобства ответа на первый вопрос\n",
        "first_question=df[['children','debt']]\n",
        "first_question"
      ]
    },
    {
      "cell_type": "code",
      "execution_count": null,
      "metadata": {
        "id": "yYS1QYaz3Ku0",
        "outputId": "5e4f4f51-3466-489c-cb4d-07e3e56d3c2b"
      },
      "outputs": [
        {
          "data": {
            "text/html": [
              "<div>\n",
              "<style scoped>\n",
              "    .dataframe tbody tr th:only-of-type {\n",
              "        vertical-align: middle;\n",
              "    }\n",
              "\n",
              "    .dataframe tbody tr th {\n",
              "        vertical-align: top;\n",
              "    }\n",
              "\n",
              "    .dataframe thead th {\n",
              "        text-align: right;\n",
              "    }\n",
              "</style>\n",
              "<table border=\"1\" class=\"dataframe\">\n",
              "  <thead>\n",
              "    <tr style=\"text-align: right;\">\n",
              "      <th></th>\n",
              "      <th>family_status_id</th>\n",
              "      <th>debt</th>\n",
              "    </tr>\n",
              "  </thead>\n",
              "  <tbody>\n",
              "    <tr>\n",
              "      <td>0</td>\n",
              "      <td>0</td>\n",
              "      <td>0</td>\n",
              "    </tr>\n",
              "    <tr>\n",
              "      <td>1</td>\n",
              "      <td>0</td>\n",
              "      <td>0</td>\n",
              "    </tr>\n",
              "    <tr>\n",
              "      <td>2</td>\n",
              "      <td>0</td>\n",
              "      <td>0</td>\n",
              "    </tr>\n",
              "    <tr>\n",
              "      <td>3</td>\n",
              "      <td>0</td>\n",
              "      <td>0</td>\n",
              "    </tr>\n",
              "    <tr>\n",
              "      <td>4</td>\n",
              "      <td>1</td>\n",
              "      <td>0</td>\n",
              "    </tr>\n",
              "    <tr>\n",
              "      <td>...</td>\n",
              "      <td>...</td>\n",
              "      <td>...</td>\n",
              "    </tr>\n",
              "    <tr>\n",
              "      <td>21520</td>\n",
              "      <td>1</td>\n",
              "      <td>0</td>\n",
              "    </tr>\n",
              "    <tr>\n",
              "      <td>21521</td>\n",
              "      <td>0</td>\n",
              "      <td>0</td>\n",
              "    </tr>\n",
              "    <tr>\n",
              "      <td>21522</td>\n",
              "      <td>1</td>\n",
              "      <td>1</td>\n",
              "    </tr>\n",
              "    <tr>\n",
              "      <td>21523</td>\n",
              "      <td>0</td>\n",
              "      <td>1</td>\n",
              "    </tr>\n",
              "    <tr>\n",
              "      <td>21524</td>\n",
              "      <td>0</td>\n",
              "      <td>0</td>\n",
              "    </tr>\n",
              "  </tbody>\n",
              "</table>\n",
              "<p>21525 rows × 2 columns</p>\n",
              "</div>"
            ],
            "text/plain": [
              "       family_status_id  debt\n",
              "0                     0     0\n",
              "1                     0     0\n",
              "2                     0     0\n",
              "3                     0     0\n",
              "4                     1     0\n",
              "...                 ...   ...\n",
              "21520                 1     0\n",
              "21521                 0     0\n",
              "21522                 1     1\n",
              "21523                 0     1\n",
              "21524                 0     0\n",
              "\n",
              "[21525 rows x 2 columns]"
            ]
          },
          "execution_count": 20,
          "metadata": {},
          "output_type": "execute_result"
        }
      ],
      "source": [
        "# создадим таблицу для удобства ответа на второй вопрос\n",
        "second_question=df[['family_status_id','debt']]\n",
        "second_question"
      ]
    },
    {
      "cell_type": "code",
      "execution_count": null,
      "metadata": {
        "id": "5_wK4vzk3Ku0",
        "outputId": "8ede003f-47d5-4405-8dfe-fb94a27cd21c"
      },
      "outputs": [
        {
          "data": {
            "text/html": [
              "<div>\n",
              "<style scoped>\n",
              "    .dataframe tbody tr th:only-of-type {\n",
              "        vertical-align: middle;\n",
              "    }\n",
              "\n",
              "    .dataframe tbody tr th {\n",
              "        vertical-align: top;\n",
              "    }\n",
              "\n",
              "    .dataframe thead th {\n",
              "        text-align: right;\n",
              "    }\n",
              "</style>\n",
              "<table border=\"1\" class=\"dataframe\">\n",
              "  <thead>\n",
              "    <tr style=\"text-align: right;\">\n",
              "      <th></th>\n",
              "      <th>total_income</th>\n",
              "      <th>debt</th>\n",
              "    </tr>\n",
              "  </thead>\n",
              "  <tbody>\n",
              "    <tr>\n",
              "      <td>0</td>\n",
              "      <td>253875</td>\n",
              "      <td>0</td>\n",
              "    </tr>\n",
              "    <tr>\n",
              "      <td>1</td>\n",
              "      <td>112080</td>\n",
              "      <td>0</td>\n",
              "    </tr>\n",
              "    <tr>\n",
              "      <td>2</td>\n",
              "      <td>145885</td>\n",
              "      <td>0</td>\n",
              "    </tr>\n",
              "    <tr>\n",
              "      <td>3</td>\n",
              "      <td>267628</td>\n",
              "      <td>0</td>\n",
              "    </tr>\n",
              "    <tr>\n",
              "      <td>4</td>\n",
              "      <td>158616</td>\n",
              "      <td>0</td>\n",
              "    </tr>\n",
              "    <tr>\n",
              "      <td>...</td>\n",
              "      <td>...</td>\n",
              "      <td>...</td>\n",
              "    </tr>\n",
              "    <tr>\n",
              "      <td>21520</td>\n",
              "      <td>224791</td>\n",
              "      <td>0</td>\n",
              "    </tr>\n",
              "    <tr>\n",
              "      <td>21521</td>\n",
              "      <td>155999</td>\n",
              "      <td>0</td>\n",
              "    </tr>\n",
              "    <tr>\n",
              "      <td>21522</td>\n",
              "      <td>89672</td>\n",
              "      <td>1</td>\n",
              "    </tr>\n",
              "    <tr>\n",
              "      <td>21523</td>\n",
              "      <td>244093</td>\n",
              "      <td>1</td>\n",
              "    </tr>\n",
              "    <tr>\n",
              "      <td>21524</td>\n",
              "      <td>82047</td>\n",
              "      <td>0</td>\n",
              "    </tr>\n",
              "  </tbody>\n",
              "</table>\n",
              "<p>21525 rows × 2 columns</p>\n",
              "</div>"
            ],
            "text/plain": [
              "       total_income  debt\n",
              "0            253875     0\n",
              "1            112080     0\n",
              "2            145885     0\n",
              "3            267628     0\n",
              "4            158616     0\n",
              "...             ...   ...\n",
              "21520        224791     0\n",
              "21521        155999     0\n",
              "21522         89672     1\n",
              "21523        244093     1\n",
              "21524         82047     0\n",
              "\n",
              "[21525 rows x 2 columns]"
            ]
          },
          "execution_count": 21,
          "metadata": {},
          "output_type": "execute_result"
        }
      ],
      "source": [
        "# создадим таблицу для удобства ответа на третий вопрос\n",
        "third_question=df[['total_income','debt']]\n",
        "third_question"
      ]
    },
    {
      "cell_type": "code",
      "execution_count": null,
      "metadata": {
        "id": "67csFGmj3Ku0",
        "outputId": "d4dc10f2-5660-4c5d-fb0d-fe0924a45ed6"
      },
      "outputs": [
        {
          "data": {
            "text/html": [
              "<div>\n",
              "<style scoped>\n",
              "    .dataframe tbody tr th:only-of-type {\n",
              "        vertical-align: middle;\n",
              "    }\n",
              "\n",
              "    .dataframe tbody tr th {\n",
              "        vertical-align: top;\n",
              "    }\n",
              "\n",
              "    .dataframe thead th {\n",
              "        text-align: right;\n",
              "    }\n",
              "</style>\n",
              "<table border=\"1\" class=\"dataframe\">\n",
              "  <thead>\n",
              "    <tr style=\"text-align: right;\">\n",
              "      <th></th>\n",
              "      <th>purpose</th>\n",
              "      <th>debt</th>\n",
              "    </tr>\n",
              "  </thead>\n",
              "  <tbody>\n",
              "    <tr>\n",
              "      <td>0</td>\n",
              "      <td>недвижимость</td>\n",
              "      <td>0</td>\n",
              "    </tr>\n",
              "    <tr>\n",
              "      <td>1</td>\n",
              "      <td>автомобиль</td>\n",
              "      <td>0</td>\n",
              "    </tr>\n",
              "    <tr>\n",
              "      <td>2</td>\n",
              "      <td>недвижимость</td>\n",
              "      <td>0</td>\n",
              "    </tr>\n",
              "    <tr>\n",
              "      <td>3</td>\n",
              "      <td>образование</td>\n",
              "      <td>0</td>\n",
              "    </tr>\n",
              "    <tr>\n",
              "      <td>4</td>\n",
              "      <td>свадьба</td>\n",
              "      <td>0</td>\n",
              "    </tr>\n",
              "    <tr>\n",
              "      <td>...</td>\n",
              "      <td>...</td>\n",
              "      <td>...</td>\n",
              "    </tr>\n",
              "    <tr>\n",
              "      <td>21520</td>\n",
              "      <td>недвижимость</td>\n",
              "      <td>0</td>\n",
              "    </tr>\n",
              "    <tr>\n",
              "      <td>21521</td>\n",
              "      <td>автомобиль</td>\n",
              "      <td>0</td>\n",
              "    </tr>\n",
              "    <tr>\n",
              "      <td>21522</td>\n",
              "      <td>недвижимость</td>\n",
              "      <td>1</td>\n",
              "    </tr>\n",
              "    <tr>\n",
              "      <td>21523</td>\n",
              "      <td>автомобиль</td>\n",
              "      <td>1</td>\n",
              "    </tr>\n",
              "    <tr>\n",
              "      <td>21524</td>\n",
              "      <td>автомобиль</td>\n",
              "      <td>0</td>\n",
              "    </tr>\n",
              "  </tbody>\n",
              "</table>\n",
              "<p>21525 rows × 2 columns</p>\n",
              "</div>"
            ],
            "text/plain": [
              "            purpose  debt\n",
              "0      недвижимость     0\n",
              "1        автомобиль     0\n",
              "2      недвижимость     0\n",
              "3       образование     0\n",
              "4           свадьба     0\n",
              "...             ...   ...\n",
              "21520  недвижимость     0\n",
              "21521    автомобиль     0\n",
              "21522  недвижимость     1\n",
              "21523    автомобиль     1\n",
              "21524    автомобиль     0\n",
              "\n",
              "[21525 rows x 2 columns]"
            ]
          },
          "execution_count": 22,
          "metadata": {},
          "output_type": "execute_result"
        }
      ],
      "source": [
        "# создадим таблицу для удобства ответа на четвертый вопрос\n",
        "fourth_question=df[['purpose','debt']]\n",
        "fourth_question"
      ]
    },
    {
      "cell_type": "markdown",
      "metadata": {
        "id": "WHP8lqn83Ku1"
      },
      "source": [
        "**Вывод**"
      ]
    },
    {
      "cell_type": "markdown",
      "metadata": {
        "id": "8pAXaep83Ku1"
      },
      "source": []
    },
    {
      "cell_type": "markdown",
      "metadata": {
        "id": "TgAb-s903Ku1"
      },
      "source": [
        "## Шаг 3. Ответьте на вопросы"
      ]
    },
    {
      "cell_type": "markdown",
      "metadata": {
        "id": "q3zNQX8P3Ku1"
      },
      "source": [
        "- **Есть ли зависимость между наличием детей и возвратом кредита в срок?**"
      ]
    },
    {
      "cell_type": "code",
      "execution_count": null,
      "metadata": {
        "id": "BxMKsm363Ku1",
        "outputId": "d5d9ae27-7628-4cd8-9ad3-4cafb4b03004"
      },
      "outputs": [
        {
          "data": {
            "text/html": [
              "<div>\n",
              "<style scoped>\n",
              "    .dataframe tbody tr th:only-of-type {\n",
              "        vertical-align: middle;\n",
              "    }\n",
              "\n",
              "    .dataframe tbody tr th {\n",
              "        vertical-align: top;\n",
              "    }\n",
              "\n",
              "    .dataframe thead th {\n",
              "        text-align: right;\n",
              "    }\n",
              "</style>\n",
              "<table border=\"1\" class=\"dataframe\">\n",
              "  <thead>\n",
              "    <tr style=\"text-align: right;\">\n",
              "      <th></th>\n",
              "      <th>debt</th>\n",
              "    </tr>\n",
              "    <tr>\n",
              "      <th>children</th>\n",
              "      <th></th>\n",
              "    </tr>\n",
              "  </thead>\n",
              "  <tbody>\n",
              "    <tr>\n",
              "      <td>-1</td>\n",
              "      <td>47</td>\n",
              "    </tr>\n",
              "    <tr>\n",
              "      <td>0</td>\n",
              "      <td>14149</td>\n",
              "    </tr>\n",
              "    <tr>\n",
              "      <td>1</td>\n",
              "      <td>4818</td>\n",
              "    </tr>\n",
              "    <tr>\n",
              "      <td>2</td>\n",
              "      <td>2055</td>\n",
              "    </tr>\n",
              "    <tr>\n",
              "      <td>3</td>\n",
              "      <td>330</td>\n",
              "    </tr>\n",
              "    <tr>\n",
              "      <td>4</td>\n",
              "      <td>41</td>\n",
              "    </tr>\n",
              "    <tr>\n",
              "      <td>5</td>\n",
              "      <td>9</td>\n",
              "    </tr>\n",
              "    <tr>\n",
              "      <td>20</td>\n",
              "      <td>76</td>\n",
              "    </tr>\n",
              "  </tbody>\n",
              "</table>\n",
              "</div>"
            ],
            "text/plain": [
              "           debt\n",
              "children       \n",
              "-1           47\n",
              " 0        14149\n",
              " 1         4818\n",
              " 2         2055\n",
              " 3          330\n",
              " 4           41\n",
              " 5            9\n",
              " 20          76"
            ]
          },
          "execution_count": 23,
          "metadata": {},
          "output_type": "execute_result"
        }
      ],
      "source": [
        "# Для начала посмотрим размер выборки во каждой группе children\n",
        "first_question.groupby('children').count()"
      ]
    },
    {
      "cell_type": "code",
      "execution_count": null,
      "metadata": {
        "id": "5GTVuphp3Ku1",
        "outputId": "bc6ab43b-c2cf-4be9-9120-b6afbe2c255c"
      },
      "outputs": [
        {
          "data": {
            "text/html": [
              "<div>\n",
              "<style scoped>\n",
              "    .dataframe tbody tr th:only-of-type {\n",
              "        vertical-align: middle;\n",
              "    }\n",
              "\n",
              "    .dataframe tbody tr th {\n",
              "        vertical-align: top;\n",
              "    }\n",
              "\n",
              "    .dataframe thead th {\n",
              "        text-align: right;\n",
              "    }\n",
              "</style>\n",
              "<table border=\"1\" class=\"dataframe\">\n",
              "  <thead>\n",
              "    <tr style=\"text-align: right;\">\n",
              "      <th></th>\n",
              "      <th>debt</th>\n",
              "    </tr>\n",
              "    <tr>\n",
              "      <th>children</th>\n",
              "      <th></th>\n",
              "    </tr>\n",
              "  </thead>\n",
              "  <tbody>\n",
              "    <tr>\n",
              "      <td>-1</td>\n",
              "      <td>2.127660</td>\n",
              "    </tr>\n",
              "    <tr>\n",
              "      <td>0</td>\n",
              "      <td>7.512898</td>\n",
              "    </tr>\n",
              "    <tr>\n",
              "      <td>1</td>\n",
              "      <td>9.215442</td>\n",
              "    </tr>\n",
              "    <tr>\n",
              "      <td>2</td>\n",
              "      <td>9.440389</td>\n",
              "    </tr>\n",
              "    <tr>\n",
              "      <td>3</td>\n",
              "      <td>8.181818</td>\n",
              "    </tr>\n",
              "    <tr>\n",
              "      <td>4</td>\n",
              "      <td>9.756098</td>\n",
              "    </tr>\n",
              "    <tr>\n",
              "      <td>5</td>\n",
              "      <td>0.000000</td>\n",
              "    </tr>\n",
              "    <tr>\n",
              "      <td>20</td>\n",
              "      <td>10.526316</td>\n",
              "    </tr>\n",
              "  </tbody>\n",
              "</table>\n",
              "</div>"
            ],
            "text/plain": [
              "               debt\n",
              "children           \n",
              "-1         2.127660\n",
              " 0         7.512898\n",
              " 1         9.215442\n",
              " 2         9.440389\n",
              " 3         8.181818\n",
              " 4         9.756098\n",
              " 5         0.000000\n",
              " 20       10.526316"
            ]
          },
          "execution_count": 24,
          "metadata": {},
          "output_type": "execute_result"
        }
      ],
      "source": [
        "# выборки явно отличаются по размеру, поэтому найдем процент просрочек по выплотам, по отношению к общему количеству кредитов\n",
        "question1 = first_question.groupby('children').sum() * 100 / first_question.groupby('children').count()\n",
        "question1"
      ]
    },
    {
      "cell_type": "markdown",
      "metadata": {
        "id": "LBO2Qemj3Ku2"
      },
      "source": [
        "**Вывод**"
      ]
    },
    {
      "cell_type": "markdown",
      "metadata": {
        "id": "AUUWGVAq3Ku2"
      },
      "source": [
        "по первому действию видно, что наиболее значимые группы - 0, 1, 2 детей. Если рассматривать только эти группы, то процент невозврата задолженности в срок увеличивается с ростом числа детей. \n",
        "\n",
        "ОДнако стоит учесть, что этот рост слишком мал, что бы делать такие серьезные выводы, тем более результаты по семьям с 3 и 4 \n",
        "детьми идеют очень сходий процент. \n",
        "\n",
        "Я считаю, что зависимости между колличеством детей и возвратом кредита в срок нет.\n",
        "\n",
        "Стоит пояснить про остальные значения:\n",
        "\n",
        "    * -1 и 20 - выборка составляет 47 и 76 человек соответственно, слишком мало, что бы учитывать эти данные\n",
        "    * 5 - выборка из 9 человек, которые вернули кредит во время. Однако выборка тоже слишком мала, что бы учитывать \n",
        "    этот результат"
      ]
    },
    {
      "cell_type": "markdown",
      "metadata": {
        "id": "qFOTT3mN3Ku3"
      },
      "source": [
        "- **Есть ли зависимость между семейным положением и возвратом кредита в срок?**"
      ]
    },
    {
      "cell_type": "code",
      "execution_count": null,
      "metadata": {
        "id": "XzQc0fy83Ku3",
        "outputId": "86d00c9f-eb9c-4342-e0a8-6e639f8263a1"
      },
      "outputs": [
        {
          "data": {
            "text/html": [
              "<div>\n",
              "<style scoped>\n",
              "    .dataframe tbody tr th:only-of-type {\n",
              "        vertical-align: middle;\n",
              "    }\n",
              "\n",
              "    .dataframe tbody tr th {\n",
              "        vertical-align: top;\n",
              "    }\n",
              "\n",
              "    .dataframe thead th {\n",
              "        text-align: right;\n",
              "    }\n",
              "</style>\n",
              "<table border=\"1\" class=\"dataframe\">\n",
              "  <thead>\n",
              "    <tr style=\"text-align: right;\">\n",
              "      <th></th>\n",
              "      <th>debt</th>\n",
              "    </tr>\n",
              "    <tr>\n",
              "      <th>family_status_id</th>\n",
              "      <th></th>\n",
              "    </tr>\n",
              "  </thead>\n",
              "  <tbody>\n",
              "    <tr>\n",
              "      <td>0</td>\n",
              "      <td>12380</td>\n",
              "    </tr>\n",
              "    <tr>\n",
              "      <td>1</td>\n",
              "      <td>4177</td>\n",
              "    </tr>\n",
              "    <tr>\n",
              "      <td>2</td>\n",
              "      <td>960</td>\n",
              "    </tr>\n",
              "    <tr>\n",
              "      <td>3</td>\n",
              "      <td>1195</td>\n",
              "    </tr>\n",
              "    <tr>\n",
              "      <td>4</td>\n",
              "      <td>2813</td>\n",
              "    </tr>\n",
              "  </tbody>\n",
              "</table>\n",
              "</div>"
            ],
            "text/plain": [
              "                   debt\n",
              "family_status_id       \n",
              "0                 12380\n",
              "1                  4177\n",
              "2                   960\n",
              "3                  1195\n",
              "4                  2813"
            ]
          },
          "execution_count": 25,
          "metadata": {},
          "output_type": "execute_result"
        }
      ],
      "source": [
        "# ситуация схожая, поэтому повторим практику с процентами\n",
        "second_question.groupby('family_status_id').count()"
      ]
    },
    {
      "cell_type": "code",
      "execution_count": null,
      "metadata": {
        "id": "BZ1QoyyK3Ku3",
        "outputId": "dc737cf2-7d7d-4f14-9d0c-e9bf8c73e988"
      },
      "outputs": [
        {
          "data": {
            "text/html": [
              "<div>\n",
              "<style scoped>\n",
              "    .dataframe tbody tr th:only-of-type {\n",
              "        vertical-align: middle;\n",
              "    }\n",
              "\n",
              "    .dataframe tbody tr th {\n",
              "        vertical-align: top;\n",
              "    }\n",
              "\n",
              "    .dataframe thead th {\n",
              "        text-align: right;\n",
              "    }\n",
              "</style>\n",
              "<table border=\"1\" class=\"dataframe\">\n",
              "  <thead>\n",
              "    <tr style=\"text-align: right;\">\n",
              "      <th></th>\n",
              "      <th>debt</th>\n",
              "    </tr>\n",
              "    <tr>\n",
              "      <th>family_status_id</th>\n",
              "      <th></th>\n",
              "    </tr>\n",
              "  </thead>\n",
              "  <tbody>\n",
              "    <tr>\n",
              "      <td>0</td>\n",
              "      <td>7.520194</td>\n",
              "    </tr>\n",
              "    <tr>\n",
              "      <td>1</td>\n",
              "      <td>9.288963</td>\n",
              "    </tr>\n",
              "    <tr>\n",
              "      <td>2</td>\n",
              "      <td>6.562500</td>\n",
              "    </tr>\n",
              "    <tr>\n",
              "      <td>3</td>\n",
              "      <td>7.112971</td>\n",
              "    </tr>\n",
              "    <tr>\n",
              "      <td>4</td>\n",
              "      <td>9.740491</td>\n",
              "    </tr>\n",
              "  </tbody>\n",
              "</table>\n",
              "</div>"
            ],
            "text/plain": [
              "                      debt\n",
              "family_status_id          \n",
              "0                 7.520194\n",
              "1                 9.288963\n",
              "2                 6.562500\n",
              "3                 7.112971\n",
              "4                 9.740491"
            ]
          },
          "execution_count": 26,
          "metadata": {},
          "output_type": "execute_result"
        }
      ],
      "source": [
        "question2 = second_question.groupby('family_status_id').sum() * 100 / second_question.groupby('family_status_id').count()\n",
        "question2"
      ]
    },
    {
      "cell_type": "markdown",
      "metadata": {
        "id": "VrAI-My03Ku3"
      },
      "source": [
        "**Вывод**"
      ]
    },
    {
      "cell_type": "markdown",
      "metadata": {
        "id": "andD4Uuq3Ku3"
      },
      "source": [
        "И снова не видно никакой четкой зависимости. Ответ: нет"
      ]
    },
    {
      "cell_type": "markdown",
      "metadata": {
        "id": "rIs4LHN73Ku4"
      },
      "source": [
        "- **Есть ли зависимость между уровнем дохода и возвратом кредита в срок?**"
      ]
    },
    {
      "cell_type": "code",
      "execution_count": null,
      "metadata": {
        "id": "7w2uXvJP3Ku4"
      },
      "outputs": [],
      "source": [
        "# Добавим флаги по доходам, что б было удобнее сортировать\n",
        "def total_income_function(income):\n",
        "    if income <= 50000:\n",
        "        return 1 \n",
        "    elif income <= 100000:\n",
        "        return 2\n",
        "    elif income <= 150000:\n",
        "        return 3\n",
        "    elif income <= 200000:\n",
        "        return 4\n",
        "    elif income > 200000:\n",
        "        return 5"
      ]
    },
    {
      "cell_type": "code",
      "execution_count": null,
      "metadata": {
        "id": "ii_nWaT43Ku4",
        "outputId": "a6b39809-8581-4a1b-e68f-81b94f0e9622"
      },
      "outputs": [
        {
          "name": "stderr",
          "output_type": "stream",
          "text": [
            "/opt/conda/lib/python3.7/site-packages/pandas/core/indexing.py:376: SettingWithCopyWarning: \n",
            "A value is trying to be set on a copy of a slice from a DataFrame.\n",
            "Try using .loc[row_indexer,col_indexer] = value instead\n",
            "\n",
            "See the caveats in the documentation: http://pandas.pydata.org/pandas-docs/stable/user_guide/indexing.html#returning-a-view-versus-a-copy\n",
            "  self.obj[key] = _infer_fill_value(value)\n",
            "/opt/conda/lib/python3.7/site-packages/pandas/core/indexing.py:494: SettingWithCopyWarning: \n",
            "A value is trying to be set on a copy of a slice from a DataFrame.\n",
            "Try using .loc[row_indexer,col_indexer] = value instead\n",
            "\n",
            "See the caveats in the documentation: http://pandas.pydata.org/pandas-docs/stable/user_guide/indexing.html#returning-a-view-versus-a-copy\n",
            "  self.obj[item] = s\n"
          ]
        },
        {
          "data": {
            "text/html": [
              "<div>\n",
              "<style scoped>\n",
              "    .dataframe tbody tr th:only-of-type {\n",
              "        vertical-align: middle;\n",
              "    }\n",
              "\n",
              "    .dataframe tbody tr th {\n",
              "        vertical-align: top;\n",
              "    }\n",
              "\n",
              "    .dataframe thead th {\n",
              "        text-align: right;\n",
              "    }\n",
              "</style>\n",
              "<table border=\"1\" class=\"dataframe\">\n",
              "  <thead>\n",
              "    <tr style=\"text-align: right;\">\n",
              "      <th></th>\n",
              "      <th>debt</th>\n",
              "    </tr>\n",
              "    <tr>\n",
              "      <th>total_income_flag</th>\n",
              "      <th></th>\n",
              "    </tr>\n",
              "  </thead>\n",
              "  <tbody>\n",
              "    <tr>\n",
              "      <td>1</td>\n",
              "      <td>2546</td>\n",
              "    </tr>\n",
              "    <tr>\n",
              "      <td>2</td>\n",
              "      <td>4091</td>\n",
              "    </tr>\n",
              "    <tr>\n",
              "      <td>3</td>\n",
              "      <td>5704</td>\n",
              "    </tr>\n",
              "    <tr>\n",
              "      <td>4</td>\n",
              "      <td>4118</td>\n",
              "    </tr>\n",
              "    <tr>\n",
              "      <td>5</td>\n",
              "      <td>5066</td>\n",
              "    </tr>\n",
              "  </tbody>\n",
              "</table>\n",
              "</div>"
            ],
            "text/plain": [
              "                   debt\n",
              "total_income_flag      \n",
              "1                  2546\n",
              "2                  4091\n",
              "3                  5704\n",
              "4                  4118\n",
              "5                  5066"
            ]
          },
          "execution_count": 28,
          "metadata": {},
          "output_type": "execute_result"
        }
      ],
      "source": [
        "# применим функцию total_income_function\n",
        "third_question.loc[:,'total_income_flag'] = third_question.loc[:, 'total_income'].apply(total_income_function)\n",
        "\n",
        "# вырежем из таблицы столбец доходов\n",
        "third_question = third_question[['total_income_flag','debt']]\n",
        "\n",
        "# и посмотрим на распреление выборки\n",
        "third_question.groupby('total_income_flag').count()"
      ]
    },
    {
      "cell_type": "code",
      "execution_count": null,
      "metadata": {
        "id": "FuAZXyKR3Ku4",
        "outputId": "2a93b665-ab78-4397-ce6a-f6addd62dfcb"
      },
      "outputs": [
        {
          "data": {
            "text/html": [
              "<div>\n",
              "<style scoped>\n",
              "    .dataframe tbody tr th:only-of-type {\n",
              "        vertical-align: middle;\n",
              "    }\n",
              "\n",
              "    .dataframe tbody tr th {\n",
              "        vertical-align: top;\n",
              "    }\n",
              "\n",
              "    .dataframe thead th {\n",
              "        text-align: right;\n",
              "    }\n",
              "</style>\n",
              "<table border=\"1\" class=\"dataframe\">\n",
              "  <thead>\n",
              "    <tr style=\"text-align: right;\">\n",
              "      <th></th>\n",
              "      <th>debt</th>\n",
              "    </tr>\n",
              "    <tr>\n",
              "      <th>total_income_flag</th>\n",
              "      <th></th>\n",
              "    </tr>\n",
              "  </thead>\n",
              "  <tbody>\n",
              "    <tr>\n",
              "      <td>1</td>\n",
              "      <td>7.580518</td>\n",
              "    </tr>\n",
              "    <tr>\n",
              "      <td>2</td>\n",
              "      <td>8.090931</td>\n",
              "    </tr>\n",
              "    <tr>\n",
              "      <td>3</td>\n",
              "      <td>8.607994</td>\n",
              "    </tr>\n",
              "    <tr>\n",
              "      <td>4</td>\n",
              "      <td>8.936377</td>\n",
              "    </tr>\n",
              "    <tr>\n",
              "      <td>5</td>\n",
              "      <td>7.066719</td>\n",
              "    </tr>\n",
              "  </tbody>\n",
              "</table>\n",
              "</div>"
            ],
            "text/plain": [
              "                       debt\n",
              "total_income_flag          \n",
              "1                  7.580518\n",
              "2                  8.090931\n",
              "3                  8.607994\n",
              "4                  8.936377\n",
              "5                  7.066719"
            ]
          },
          "execution_count": 29,
          "metadata": {},
          "output_type": "execute_result"
        }
      ],
      "source": [
        "question3 = third_question.groupby('total_income_flag').sum() * 100 / third_question.groupby('total_income_flag').count()\n",
        "question3"
      ]
    },
    {
      "cell_type": "markdown",
      "metadata": {
        "id": "2C6UmmKY3Ku5"
      },
      "source": [
        "**Вывод**"
      ]
    },
    {
      "cell_type": "markdown",
      "metadata": {
        "id": "0MEBVp0B3Ku5"
      },
      "source": [
        "Ответ: нет, это видно из результатов, процент просрочки по кредитам составляет примерно 8%"
      ]
    },
    {
      "cell_type": "markdown",
      "metadata": {
        "id": "ieamfp923Ku5"
      },
      "source": [
        "- **Как разные цели кредита влияют на его возврат в срок?**"
      ]
    },
    {
      "cell_type": "code",
      "execution_count": null,
      "metadata": {
        "id": "vbzQZqju3Ku5",
        "outputId": "3ba30121-12ba-41d7-cd99-34a47eb5bab3"
      },
      "outputs": [
        {
          "data": {
            "text/html": [
              "<div>\n",
              "<style scoped>\n",
              "    .dataframe tbody tr th:only-of-type {\n",
              "        vertical-align: middle;\n",
              "    }\n",
              "\n",
              "    .dataframe tbody tr th {\n",
              "        vertical-align: top;\n",
              "    }\n",
              "\n",
              "    .dataframe thead th {\n",
              "        text-align: right;\n",
              "    }\n",
              "</style>\n",
              "<table border=\"1\" class=\"dataframe\">\n",
              "  <thead>\n",
              "    <tr style=\"text-align: right;\">\n",
              "      <th></th>\n",
              "      <th>debt</th>\n",
              "    </tr>\n",
              "    <tr>\n",
              "      <th>purpose</th>\n",
              "      <th></th>\n",
              "    </tr>\n",
              "  </thead>\n",
              "  <tbody>\n",
              "    <tr>\n",
              "      <td>автомобиль</td>\n",
              "      <td>9.339513</td>\n",
              "    </tr>\n",
              "    <tr>\n",
              "      <td>недвижимость</td>\n",
              "      <td>7.282431</td>\n",
              "    </tr>\n",
              "    <tr>\n",
              "      <td>образование</td>\n",
              "      <td>9.199403</td>\n",
              "    </tr>\n",
              "    <tr>\n",
              "      <td>свадьба</td>\n",
              "      <td>7.765754</td>\n",
              "    </tr>\n",
              "  </tbody>\n",
              "</table>\n",
              "</div>"
            ],
            "text/plain": [
              "                  debt\n",
              "purpose               \n",
              "автомобиль    9.339513\n",
              "недвижимость  7.282431\n",
              "образование   9.199403\n",
              "свадьба       7.765754"
            ]
          },
          "execution_count": 30,
          "metadata": {},
          "output_type": "execute_result"
        }
      ],
      "source": [
        "question4 = fourth_question.groupby('purpose').sum() * 100 / fourth_question.groupby('purpose').count()\n",
        "question4"
      ]
    },
    {
      "cell_type": "markdown",
      "metadata": {
        "id": "Yed4zFBb3Ku6"
      },
      "source": [
        "**Вывод**"
      ]
    },
    {
      "cell_type": "markdown",
      "metadata": {
        "id": "yRFNH7Oc3Ku6"
      },
      "source": [
        "градация присутствует (с ростом процента просрочки) :\n",
        "    * кредит за недвижимость (т.к. она в залоге)\n",
        "    * кредит за свадьбу (т.к. он обычно не велик)\n",
        "    * кредит за образование\n",
        "    * кредит за автомобиль"
      ]
    },
    {
      "cell_type": "markdown",
      "metadata": {
        "id": "KGTtNINy3Ku6"
      },
      "source": [
        "## Шаг 4. Общий вывод"
      ]
    },
    {
      "cell_type": "markdown",
      "metadata": {
        "id": "UMvmGDqC3Ku6"
      },
      "source": [
        "Работа оказалась достаточно творческой в плане очистки данных. Вывод по задаче достаточно логичен - из всех категорий возвращаемость кредитов в срок зависит только от цели кредита."
      ]
    }
  ],
  "metadata": {
    "ExecuteTimeLog": [
      {
        "duration": 613,
        "start_time": "2021-09-19T11:39:03.252Z"
      },
      {
        "duration": 17,
        "start_time": "2021-09-19T11:45:20.638Z"
      },
      {
        "duration": 12,
        "start_time": "2021-09-19T11:47:10.069Z"
      },
      {
        "duration": -18,
        "start_time": "2021-09-19T12:48:56.116Z"
      },
      {
        "duration": 5,
        "start_time": "2021-09-19T12:49:04.589Z"
      },
      {
        "duration": 6,
        "start_time": "2021-09-19T12:53:08.676Z"
      },
      {
        "duration": 5,
        "start_time": "2021-09-19T12:53:32.180Z"
      },
      {
        "duration": 5,
        "start_time": "2021-09-19T12:54:15.156Z"
      },
      {
        "duration": 6,
        "start_time": "2021-09-19T12:56:44.374Z"
      },
      {
        "duration": 6,
        "start_time": "2021-09-19T12:58:28.262Z"
      },
      {
        "duration": 4,
        "start_time": "2021-09-19T12:58:42.624Z"
      },
      {
        "duration": 5,
        "start_time": "2021-09-19T12:58:51.206Z"
      },
      {
        "duration": 6,
        "start_time": "2021-09-19T12:59:26.462Z"
      },
      {
        "duration": 5,
        "start_time": "2021-09-19T12:59:51.708Z"
      },
      {
        "duration": 6,
        "start_time": "2021-09-19T13:00:34.461Z"
      },
      {
        "duration": 6,
        "start_time": "2021-09-19T13:00:53.644Z"
      },
      {
        "duration": 299,
        "start_time": "2021-09-19T13:01:43.256Z"
      },
      {
        "duration": 10,
        "start_time": "2021-09-19T13:03:01.186Z"
      },
      {
        "duration": 7,
        "start_time": "2021-09-19T13:03:51.421Z"
      },
      {
        "duration": 12,
        "start_time": "2021-09-19T13:04:26.074Z"
      },
      {
        "duration": 6,
        "start_time": "2021-09-19T13:04:38.564Z"
      },
      {
        "duration": 6,
        "start_time": "2021-09-19T13:11:14.403Z"
      },
      {
        "duration": 26,
        "start_time": "2021-09-19T13:11:27.259Z"
      },
      {
        "duration": 9,
        "start_time": "2021-09-19T13:11:45.335Z"
      },
      {
        "duration": 255,
        "start_time": "2021-09-19T13:11:56.871Z"
      },
      {
        "duration": 8,
        "start_time": "2021-09-19T13:12:03.075Z"
      },
      {
        "duration": 254,
        "start_time": "2021-09-19T13:15:21.464Z"
      },
      {
        "duration": 5,
        "start_time": "2021-09-19T13:15:29.188Z"
      },
      {
        "duration": 6,
        "start_time": "2021-09-19T13:15:40.824Z"
      },
      {
        "duration": 8,
        "start_time": "2021-09-19T13:15:54.736Z"
      },
      {
        "duration": 24,
        "start_time": "2021-09-19T13:16:27.749Z"
      },
      {
        "duration": 7,
        "start_time": "2021-09-19T13:17:48.034Z"
      },
      {
        "duration": 4,
        "start_time": "2021-09-20T07:55:04.281Z"
      },
      {
        "duration": 360,
        "start_time": "2021-09-20T08:04:03.924Z"
      },
      {
        "duration": 1680,
        "start_time": "2021-09-20T08:05:16.988Z"
      },
      {
        "duration": 4,
        "start_time": "2021-09-20T08:07:56.814Z"
      },
      {
        "duration": 5,
        "start_time": "2021-09-20T08:08:27.065Z"
      },
      {
        "duration": 5,
        "start_time": "2021-09-20T08:10:58.087Z"
      },
      {
        "duration": 7,
        "start_time": "2021-09-20T08:12:20.625Z"
      },
      {
        "duration": 4,
        "start_time": "2021-09-20T08:12:28.206Z"
      },
      {
        "duration": 19,
        "start_time": "2021-09-20T08:16:43.956Z"
      },
      {
        "duration": 18,
        "start_time": "2021-09-20T08:18:01.843Z"
      },
      {
        "duration": 26,
        "start_time": "2021-09-20T08:19:12.678Z"
      },
      {
        "duration": 5,
        "start_time": "2021-09-20T08:21:19.366Z"
      },
      {
        "duration": 4,
        "start_time": "2021-09-20T08:21:39.925Z"
      },
      {
        "duration": 17,
        "start_time": "2021-09-20T08:22:09.488Z"
      },
      {
        "duration": 18,
        "start_time": "2021-09-20T08:22:34.741Z"
      },
      {
        "duration": 265,
        "start_time": "2021-09-20T08:26:31.011Z"
      },
      {
        "duration": 11,
        "start_time": "2021-09-20T08:27:15.531Z"
      },
      {
        "duration": 5,
        "start_time": "2021-09-20T08:28:06.649Z"
      },
      {
        "duration": 10,
        "start_time": "2021-09-20T09:09:42.657Z"
      },
      {
        "duration": 20,
        "start_time": "2021-09-20T09:10:03.268Z"
      },
      {
        "duration": 246,
        "start_time": "2021-09-20T10:09:42.023Z"
      },
      {
        "duration": 4,
        "start_time": "2021-09-20T10:09:52.995Z"
      },
      {
        "duration": 3,
        "start_time": "2021-09-20T10:09:59.064Z"
      },
      {
        "duration": 12,
        "start_time": "2021-09-20T10:10:25.575Z"
      },
      {
        "duration": 4,
        "start_time": "2021-09-20T10:10:40.027Z"
      },
      {
        "duration": 6450,
        "start_time": "2021-09-20T10:11:08.943Z"
      },
      {
        "duration": 29,
        "start_time": "2021-09-20T10:12:30.362Z"
      },
      {
        "duration": 3,
        "start_time": "2021-09-20T10:12:50.139Z"
      },
      {
        "duration": 420,
        "start_time": "2021-09-20T10:13:40.795Z"
      },
      {
        "duration": 6678,
        "start_time": "2021-09-20T10:14:21.478Z"
      },
      {
        "duration": 19,
        "start_time": "2021-09-20T10:14:52.255Z"
      },
      {
        "duration": 265,
        "start_time": "2021-09-20T10:15:23.390Z"
      },
      {
        "duration": 19,
        "start_time": "2021-09-20T10:15:53.863Z"
      },
      {
        "duration": 260,
        "start_time": "2021-09-20T10:15:57.382Z"
      },
      {
        "duration": 7,
        "start_time": "2021-09-20T10:16:04.859Z"
      },
      {
        "duration": 8,
        "start_time": "2021-09-20T10:16:38.272Z"
      },
      {
        "duration": 20,
        "start_time": "2021-09-20T10:18:58.592Z"
      },
      {
        "duration": 8197,
        "start_time": "2021-09-20T10:20:02.599Z"
      },
      {
        "duration": 7227,
        "start_time": "2021-09-20T10:20:21.294Z"
      },
      {
        "duration": 355,
        "start_time": "2021-09-20T10:20:51.813Z"
      },
      {
        "duration": 4,
        "start_time": "2021-09-20T10:27:59.214Z"
      },
      {
        "duration": 3,
        "start_time": "2021-09-20T10:28:23.485Z"
      },
      {
        "duration": 4,
        "start_time": "2021-09-20T10:28:29.526Z"
      },
      {
        "duration": 5,
        "start_time": "2021-09-20T10:28:37.322Z"
      },
      {
        "duration": 442,
        "start_time": "2021-09-20T10:29:15.138Z"
      },
      {
        "duration": 254,
        "start_time": "2021-09-20T10:30:12.761Z"
      },
      {
        "duration": 114,
        "start_time": "2021-09-20T10:30:36.847Z"
      },
      {
        "duration": 256,
        "start_time": "2021-09-20T10:30:48.082Z"
      },
      {
        "duration": 256,
        "start_time": "2021-09-20T10:30:56.538Z"
      },
      {
        "duration": 387,
        "start_time": "2021-09-20T10:31:13.931Z"
      },
      {
        "duration": 271,
        "start_time": "2021-09-20T10:31:39.550Z"
      },
      {
        "duration": 285,
        "start_time": "2021-09-20T10:31:50.558Z"
      },
      {
        "duration": 22,
        "start_time": "2021-09-20T10:32:25.094Z"
      },
      {
        "duration": 457,
        "start_time": "2021-09-20T10:32:31.151Z"
      },
      {
        "duration": 5,
        "start_time": "2021-09-20T10:32:44.994Z"
      },
      {
        "duration": 357,
        "start_time": "2021-09-20T10:34:28.429Z"
      },
      {
        "duration": 20,
        "start_time": "2021-09-21T06:50:30.980Z"
      },
      {
        "duration": 18,
        "start_time": "2021-09-21T07:00:02.666Z"
      },
      {
        "duration": 4,
        "start_time": "2021-09-21T07:00:26.810Z"
      },
      {
        "duration": 248,
        "start_time": "2021-09-21T07:02:15.797Z"
      },
      {
        "duration": 5304,
        "start_time": "2021-09-21T07:04:05.914Z"
      },
      {
        "duration": 5,
        "start_time": "2021-09-21T07:04:21.112Z"
      },
      {
        "duration": 4470,
        "start_time": "2021-09-21T07:04:53.141Z"
      },
      {
        "duration": 19,
        "start_time": "2021-09-21T07:06:02.469Z"
      },
      {
        "duration": 7,
        "start_time": "2021-09-21T07:06:55.369Z"
      },
      {
        "duration": 19,
        "start_time": "2021-09-21T07:07:03.483Z"
      },
      {
        "duration": 7,
        "start_time": "2021-09-21T07:07:20.863Z"
      },
      {
        "duration": 8,
        "start_time": "2021-09-21T07:07:34.400Z"
      },
      {
        "duration": 9,
        "start_time": "2021-09-21T07:07:46.587Z"
      },
      {
        "duration": 10,
        "start_time": "2021-09-21T07:07:58.511Z"
      },
      {
        "duration": 246,
        "start_time": "2021-09-21T07:10:47.576Z"
      },
      {
        "duration": 244,
        "start_time": "2021-09-21T07:11:09.583Z"
      },
      {
        "duration": 247,
        "start_time": "2021-09-21T07:12:36.149Z"
      },
      {
        "duration": 54,
        "start_time": "2021-09-21T07:13:50.222Z"
      },
      {
        "duration": 7,
        "start_time": "2021-09-21T07:14:07.077Z"
      },
      {
        "duration": 8,
        "start_time": "2021-09-21T07:17:15.953Z"
      },
      {
        "duration": 4,
        "start_time": "2021-09-21T07:18:37.074Z"
      },
      {
        "duration": 17,
        "start_time": "2021-09-21T07:21:24.230Z"
      },
      {
        "duration": 6,
        "start_time": "2021-09-21T07:23:32.177Z"
      },
      {
        "duration": 19,
        "start_time": "2021-09-21T07:27:15.644Z"
      },
      {
        "duration": 19,
        "start_time": "2021-09-21T07:29:59.189Z"
      },
      {
        "duration": 5,
        "start_time": "2021-09-21T07:30:44.723Z"
      },
      {
        "duration": 5,
        "start_time": "2021-09-21T07:31:13.453Z"
      },
      {
        "duration": 7,
        "start_time": "2021-09-21T07:34:01.101Z"
      },
      {
        "duration": 6,
        "start_time": "2021-09-21T07:34:27.321Z"
      },
      {
        "duration": 7,
        "start_time": "2021-09-21T07:34:51.014Z"
      },
      {
        "duration": 5,
        "start_time": "2021-09-21T07:35:01.409Z"
      },
      {
        "duration": 7,
        "start_time": "2021-09-21T07:35:05.701Z"
      },
      {
        "duration": 7,
        "start_time": "2021-09-21T07:36:55.937Z"
      },
      {
        "duration": 21,
        "start_time": "2021-09-21T07:38:12.193Z"
      },
      {
        "duration": 19,
        "start_time": "2021-09-21T08:11:55.412Z"
      },
      {
        "duration": 8,
        "start_time": "2021-09-21T08:13:04.786Z"
      },
      {
        "duration": 5,
        "start_time": "2021-09-21T08:13:23.696Z"
      },
      {
        "duration": 6,
        "start_time": "2021-09-21T08:13:50.320Z"
      },
      {
        "duration": 4,
        "start_time": "2021-09-21T08:26:07.203Z"
      },
      {
        "duration": 22,
        "start_time": "2021-09-21T08:26:15.982Z"
      },
      {
        "duration": 83,
        "start_time": "2021-09-21T08:26:37.216Z"
      },
      {
        "duration": 20,
        "start_time": "2021-09-21T08:28:24.792Z"
      },
      {
        "duration": 26,
        "start_time": "2021-09-21T08:28:26.516Z"
      },
      {
        "duration": 5,
        "start_time": "2021-09-21T08:28:28.612Z"
      },
      {
        "duration": 6,
        "start_time": "2021-09-21T08:45:54.075Z"
      },
      {
        "duration": 21,
        "start_time": "2021-09-21T08:46:02.979Z"
      },
      {
        "duration": 4,
        "start_time": "2021-09-21T08:47:29.965Z"
      },
      {
        "duration": 26,
        "start_time": "2021-09-21T08:47:40.216Z"
      },
      {
        "duration": 17,
        "start_time": "2021-09-21T08:47:47.076Z"
      },
      {
        "duration": 271,
        "start_time": "2021-09-21T17:19:55.828Z"
      },
      {
        "duration": 14,
        "start_time": "2021-09-21T17:20:12.400Z"
      },
      {
        "duration": 13,
        "start_time": "2021-09-21T17:20:24.916Z"
      },
      {
        "duration": 68,
        "start_time": "2021-09-21T17:20:38.448Z"
      },
      {
        "duration": 16,
        "start_time": "2021-09-21T17:21:16.661Z"
      },
      {
        "duration": 80,
        "start_time": "2021-09-21T17:28:36.713Z"
      },
      {
        "duration": 8,
        "start_time": "2021-09-21T17:28:38.917Z"
      },
      {
        "duration": 8165,
        "start_time": "2021-09-21T17:30:00.014Z"
      },
      {
        "duration": 272,
        "start_time": "2021-09-21T17:30:28.087Z"
      },
      {
        "duration": 895,
        "start_time": "2021-09-21T17:30:35.315Z"
      },
      {
        "duration": 4,
        "start_time": "2021-09-21T17:30:56.416Z"
      },
      {
        "duration": 4,
        "start_time": "2021-09-21T17:34:27.950Z"
      },
      {
        "duration": 7,
        "start_time": "2021-09-21T17:39:31.416Z"
      },
      {
        "duration": 8,
        "start_time": "2021-09-21T17:39:49.349Z"
      },
      {
        "duration": 6,
        "start_time": "2021-09-21T17:39:58.273Z"
      },
      {
        "duration": 285,
        "start_time": "2021-09-21T17:51:57.714Z"
      },
      {
        "duration": 254,
        "start_time": "2021-09-21T18:22:17.412Z"
      },
      {
        "duration": 21,
        "start_time": "2021-09-21T18:22:25.620Z"
      },
      {
        "duration": 331,
        "start_time": "2021-09-21T18:24:58.788Z"
      },
      {
        "duration": 20,
        "start_time": "2021-09-21T18:25:06.332Z"
      },
      {
        "duration": 255,
        "start_time": "2021-09-21T18:30:24.512Z"
      },
      {
        "duration": 261,
        "start_time": "2021-09-21T18:34:01.407Z"
      },
      {
        "duration": 5,
        "start_time": "2021-09-21T18:36:00.407Z"
      },
      {
        "duration": 4,
        "start_time": "2021-09-21T18:36:12.182Z"
      },
      {
        "duration": 4,
        "start_time": "2021-09-21T18:37:31.298Z"
      },
      {
        "duration": 55,
        "start_time": "2021-09-21T18:37:37.987Z"
      },
      {
        "duration": 4,
        "start_time": "2021-09-21T18:37:50.831Z"
      },
      {
        "duration": 4,
        "start_time": "2021-09-21T18:37:59.934Z"
      },
      {
        "duration": 270,
        "start_time": "2021-09-21T18:38:10.818Z"
      },
      {
        "duration": 15,
        "start_time": "2021-09-21T18:40:47.946Z"
      },
      {
        "duration": 66,
        "start_time": "2021-09-21T18:40:54.726Z"
      },
      {
        "duration": 5,
        "start_time": "2021-09-21T19:11:17.340Z"
      },
      {
        "duration": 94,
        "start_time": "2021-09-21T19:14:16.016Z"
      },
      {
        "duration": 1580,
        "start_time": "2021-09-21T19:14:50.106Z"
      },
      {
        "duration": 104,
        "start_time": "2021-09-21T19:15:00.847Z"
      },
      {
        "duration": 203,
        "start_time": "2021-09-21T19:15:10.497Z"
      },
      {
        "duration": 274,
        "start_time": "2021-09-21T19:15:19.503Z"
      },
      {
        "duration": 6,
        "start_time": "2021-09-21T19:15:31.753Z"
      },
      {
        "duration": 7629,
        "start_time": "2021-09-21T19:15:33.794Z"
      },
      {
        "duration": 22,
        "start_time": "2021-09-21T19:15:45.061Z"
      },
      {
        "duration": 60,
        "start_time": "2021-09-21T19:16:50.941Z"
      },
      {
        "duration": 13,
        "start_time": "2021-09-21T19:17:00.141Z"
      },
      {
        "duration": 25,
        "start_time": "2021-09-21T19:17:00.735Z"
      },
      {
        "duration": 6,
        "start_time": "2021-09-21T19:17:03.012Z"
      },
      {
        "duration": 15,
        "start_time": "2021-09-21T19:17:08.129Z"
      },
      {
        "duration": 5,
        "start_time": "2021-09-21T19:17:16.021Z"
      },
      {
        "duration": 6204,
        "start_time": "2021-09-21T19:17:18.645Z"
      },
      {
        "duration": 6471,
        "start_time": "2021-09-21T19:18:26.395Z"
      },
      {
        "duration": 9,
        "start_time": "2021-09-21T19:19:33.573Z"
      },
      {
        "duration": 10,
        "start_time": "2021-09-21T19:42:44.691Z"
      },
      {
        "duration": 8,
        "start_time": "2021-09-21T19:45:17.473Z"
      },
      {
        "duration": 4,
        "start_time": "2021-09-21T19:45:58.088Z"
      },
      {
        "duration": 4,
        "start_time": "2021-09-21T19:46:03.887Z"
      },
      {
        "duration": 7,
        "start_time": "2021-09-21T19:46:12.168Z"
      },
      {
        "duration": 10,
        "start_time": "2021-09-21T19:46:21.673Z"
      },
      {
        "duration": 7,
        "start_time": "2021-09-21T19:46:33.719Z"
      },
      {
        "duration": 12,
        "start_time": "2021-09-21T19:47:15.749Z"
      },
      {
        "duration": 13,
        "start_time": "2021-09-21T19:47:26.844Z"
      },
      {
        "duration": 9,
        "start_time": "2021-09-21T19:49:26.513Z"
      },
      {
        "duration": 15,
        "start_time": "2021-09-21T19:49:33.451Z"
      },
      {
        "duration": 9,
        "start_time": "2021-09-21T20:03:51.379Z"
      },
      {
        "duration": 8,
        "start_time": "2021-09-21T20:05:12.910Z"
      },
      {
        "duration": 8,
        "start_time": "2021-09-21T20:05:15.087Z"
      },
      {
        "duration": 13,
        "start_time": "2021-09-21T20:07:41.458Z"
      },
      {
        "duration": 11,
        "start_time": "2021-09-21T20:11:00.462Z"
      },
      {
        "duration": 12,
        "start_time": "2021-09-21T20:11:06.330Z"
      },
      {
        "duration": 8,
        "start_time": "2021-09-21T20:12:26.182Z"
      },
      {
        "duration": 7,
        "start_time": "2021-09-21T20:13:22.146Z"
      },
      {
        "duration": 5,
        "start_time": "2021-09-21T20:13:37.831Z"
      },
      {
        "duration": 5,
        "start_time": "2021-09-21T20:13:57.087Z"
      },
      {
        "duration": 3,
        "start_time": "2021-09-21T20:18:39.978Z"
      },
      {
        "duration": 828,
        "start_time": "2021-09-21T20:20:16.422Z"
      },
      {
        "duration": 13,
        "start_time": "2021-09-21T20:21:13.418Z"
      },
      {
        "duration": 5,
        "start_time": "2021-09-21T20:21:26.000Z"
      },
      {
        "duration": 14,
        "start_time": "2021-09-21T20:21:55.958Z"
      },
      {
        "duration": 12,
        "start_time": "2021-09-21T20:22:13.090Z"
      },
      {
        "duration": 5,
        "start_time": "2021-09-21T20:22:15.954Z"
      },
      {
        "duration": 12,
        "start_time": "2021-09-21T20:23:22.191Z"
      },
      {
        "duration": 6,
        "start_time": "2021-09-21T20:23:24.618Z"
      },
      {
        "duration": 4,
        "start_time": "2021-09-21T20:23:25.656Z"
      },
      {
        "duration": 12,
        "start_time": "2021-09-21T20:24:19.596Z"
      },
      {
        "duration": 6,
        "start_time": "2021-09-21T20:24:23.721Z"
      },
      {
        "duration": 3,
        "start_time": "2021-09-21T20:24:24.842Z"
      },
      {
        "duration": 7,
        "start_time": "2021-09-21T20:24:27.497Z"
      },
      {
        "duration": 12,
        "start_time": "2021-09-21T20:24:33.070Z"
      },
      {
        "duration": 585,
        "start_time": "2021-09-21T20:25:35.214Z"
      },
      {
        "duration": 5,
        "start_time": "2021-09-21T20:26:11.182Z"
      },
      {
        "duration": 23,
        "start_time": "2021-09-21T20:26:30.206Z"
      },
      {
        "duration": 304,
        "start_time": "2021-09-21T20:26:38.665Z"
      },
      {
        "duration": 14,
        "start_time": "2021-09-21T20:26:53.270Z"
      },
      {
        "duration": 11,
        "start_time": "2021-09-21T20:27:27.232Z"
      },
      {
        "duration": 25,
        "start_time": "2021-09-21T20:28:01.012Z"
      },
      {
        "duration": 15,
        "start_time": "2021-09-21T20:28:08.698Z"
      },
      {
        "duration": 5,
        "start_time": "2021-09-21T20:28:53.007Z"
      },
      {
        "duration": 8,
        "start_time": "2021-09-21T20:29:54.928Z"
      },
      {
        "duration": 8,
        "start_time": "2021-09-21T20:30:33.747Z"
      },
      {
        "duration": 11275,
        "start_time": "2021-09-21T20:30:35.882Z"
      },
      {
        "duration": 9,
        "start_time": "2021-09-21T20:30:55.027Z"
      },
      {
        "duration": 14,
        "start_time": "2021-09-21T20:31:03.969Z"
      },
      {
        "duration": 5,
        "start_time": "2021-09-21T20:31:06.536Z"
      },
      {
        "duration": 7,
        "start_time": "2021-09-21T20:31:07.948Z"
      },
      {
        "duration": 3,
        "start_time": "2021-09-21T20:31:55.393Z"
      },
      {
        "duration": 9,
        "start_time": "2021-09-21T20:31:58.471Z"
      },
      {
        "duration": 13,
        "start_time": "2021-09-21T20:32:02.981Z"
      },
      {
        "duration": 4,
        "start_time": "2021-09-21T20:32:03.828Z"
      },
      {
        "duration": 8,
        "start_time": "2021-09-21T20:32:04.696Z"
      },
      {
        "duration": 4,
        "start_time": "2021-09-21T20:32:38.107Z"
      },
      {
        "duration": 10,
        "start_time": "2021-09-21T20:32:42.841Z"
      },
      {
        "duration": 19,
        "start_time": "2021-09-21T20:32:58.798Z"
      },
      {
        "duration": 3,
        "start_time": "2021-09-21T20:33:41.508Z"
      },
      {
        "duration": 9,
        "start_time": "2021-09-21T20:33:44.392Z"
      },
      {
        "duration": 18,
        "start_time": "2021-09-21T20:33:48.432Z"
      },
      {
        "duration": 3,
        "start_time": "2021-09-21T20:34:00.260Z"
      },
      {
        "duration": 9,
        "start_time": "2021-09-21T20:34:02.543Z"
      },
      {
        "duration": 19,
        "start_time": "2021-09-21T20:34:04.563Z"
      },
      {
        "duration": 2,
        "start_time": "2021-09-21T20:34:23.555Z"
      },
      {
        "duration": 18,
        "start_time": "2021-09-21T20:34:26.775Z"
      },
      {
        "duration": 12,
        "start_time": "2021-09-21T20:34:32.850Z"
      },
      {
        "duration": 23,
        "start_time": "2021-09-21T20:34:35.883Z"
      },
      {
        "duration": 3,
        "start_time": "2021-09-21T20:34:47.477Z"
      },
      {
        "duration": 8,
        "start_time": "2021-09-21T20:34:53.877Z"
      },
      {
        "duration": 20,
        "start_time": "2021-09-21T20:34:56.045Z"
      },
      {
        "duration": 3,
        "start_time": "2021-09-21T20:35:21.707Z"
      },
      {
        "duration": 9,
        "start_time": "2021-09-21T20:35:26.888Z"
      },
      {
        "duration": 19,
        "start_time": "2021-09-21T20:35:29.400Z"
      },
      {
        "duration": 4,
        "start_time": "2021-09-21T20:36:03.589Z"
      },
      {
        "duration": 9,
        "start_time": "2021-09-21T20:36:07.991Z"
      },
      {
        "duration": 19,
        "start_time": "2021-09-21T20:36:10.812Z"
      },
      {
        "duration": 3,
        "start_time": "2021-09-21T20:37:00.587Z"
      },
      {
        "duration": 8,
        "start_time": "2021-09-21T20:37:06.070Z"
      },
      {
        "duration": 19,
        "start_time": "2021-09-21T20:37:12.905Z"
      },
      {
        "duration": 3,
        "start_time": "2021-09-21T20:37:38.964Z"
      },
      {
        "duration": 9,
        "start_time": "2021-09-21T20:37:42.208Z"
      },
      {
        "duration": 29,
        "start_time": "2021-09-21T20:37:45.239Z"
      },
      {
        "duration": 10,
        "start_time": "2021-09-21T20:38:19.315Z"
      },
      {
        "duration": 13,
        "start_time": "2021-09-21T20:38:56.483Z"
      },
      {
        "duration": 12,
        "start_time": "2021-09-21T20:44:45.405Z"
      },
      {
        "duration": 9,
        "start_time": "2021-09-21T20:44:59.972Z"
      },
      {
        "duration": 16,
        "start_time": "2021-09-21T20:45:47.191Z"
      },
      {
        "duration": 824,
        "start_time": "2021-09-22T08:10:35.100Z"
      },
      {
        "duration": 32,
        "start_time": "2021-09-22T08:10:35.927Z"
      },
      {
        "duration": 28,
        "start_time": "2021-09-22T08:10:35.962Z"
      },
      {
        "duration": 19,
        "start_time": "2021-09-22T08:10:35.992Z"
      },
      {
        "duration": 26,
        "start_time": "2021-09-22T08:10:36.013Z"
      },
      {
        "duration": 24,
        "start_time": "2021-09-22T08:10:36.042Z"
      },
      {
        "duration": 26,
        "start_time": "2021-09-22T08:10:36.068Z"
      },
      {
        "duration": 20,
        "start_time": "2021-09-22T08:10:36.098Z"
      },
      {
        "duration": 41,
        "start_time": "2021-09-22T08:10:36.121Z"
      },
      {
        "duration": 24,
        "start_time": "2021-09-22T08:10:36.164Z"
      },
      {
        "duration": 24,
        "start_time": "2021-09-22T08:10:36.191Z"
      },
      {
        "duration": 29,
        "start_time": "2021-09-22T08:10:36.218Z"
      },
      {
        "duration": 53,
        "start_time": "2021-09-22T08:10:36.249Z"
      },
      {
        "duration": 65,
        "start_time": "2021-09-22T08:10:36.304Z"
      },
      {
        "duration": 24,
        "start_time": "2021-09-22T08:10:36.371Z"
      },
      {
        "duration": 917,
        "start_time": "2021-09-22T08:10:36.397Z"
      },
      {
        "duration": 9976,
        "start_time": "2021-09-22T08:10:37.317Z"
      },
      {
        "duration": 11,
        "start_time": "2021-09-22T08:10:47.295Z"
      },
      {
        "duration": 51,
        "start_time": "2021-09-22T08:10:47.308Z"
      },
      {
        "duration": 15,
        "start_time": "2021-09-22T08:10:47.362Z"
      },
      {
        "duration": 25,
        "start_time": "2021-09-22T08:10:47.379Z"
      },
      {
        "duration": 19,
        "start_time": "2021-09-22T08:10:47.407Z"
      },
      {
        "duration": 11,
        "start_time": "2021-09-22T08:10:47.430Z"
      },
      {
        "duration": 25,
        "start_time": "2021-09-22T08:10:47.444Z"
      },
      {
        "duration": 11,
        "start_time": "2021-09-22T08:10:47.483Z"
      },
      {
        "duration": 31,
        "start_time": "2021-09-22T08:10:47.496Z"
      },
      {
        "duration": 4,
        "start_time": "2021-09-22T08:10:47.529Z"
      },
      {
        "duration": 55,
        "start_time": "2021-09-22T08:10:47.535Z"
      },
      {
        "duration": 17,
        "start_time": "2021-09-22T08:10:47.592Z"
      },
      {
        "duration": 39,
        "start_time": "2021-09-22T08:10:47.612Z"
      },
      {
        "duration": 8,
        "start_time": "2021-09-22T08:11:53.415Z"
      }
    ],
    "kernelspec": {
      "display_name": "Python 3 (ipykernel)",
      "language": "python",
      "name": "python3"
    },
    "language_info": {
      "codemirror_mode": {
        "name": "ipython",
        "version": 3
      },
      "file_extension": ".py",
      "mimetype": "text/x-python",
      "name": "python",
      "nbconvert_exporter": "python",
      "pygments_lexer": "ipython3",
      "version": "3.9.5"
    },
    "toc": {
      "base_numbering": 1,
      "nav_menu": {},
      "number_sections": true,
      "sideBar": true,
      "skip_h1_title": true,
      "title_cell": "Table of Contents",
      "title_sidebar": "Contents",
      "toc_cell": false,
      "toc_position": {},
      "toc_section_display": true,
      "toc_window_display": false
    },
    "colab": {
      "provenance": [],
      "collapsed_sections": []
    }
  },
  "nbformat": 4,
  "nbformat_minor": 0
}