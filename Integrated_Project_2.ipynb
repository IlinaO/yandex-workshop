{
  "cells": [
    {
      "cell_type": "markdown",
      "metadata": {
        "id": "Oi59cV5iI_jJ"
      },
      "source": [
        "**Описание проекта**\n",
        "\n",
        "Данные находятся в трёх файлах:\n",
        "\n",
        "gold_recovery_train_new.csv — обучающая выборка;\n",
        "\n",
        "gold_recovery_test_new.csv — тестовая выборка;\n",
        "\n",
        "gold_recovery_full_new.csv — исходные данные.\n",
        "\n",
        "Данные индексируются датой и временем получения информации (признак date). Соседние по времени параметры часто похожи.\n",
        "\n",
        "Некоторые параметры недоступны, потому что замеряются и/или рассчитываются значительно позже. Из-за этого в тестовой выборке отсутствуют некоторые признаки, которые могут быть в обучающей. Также в тестовом наборе нет целевых признаков.\n",
        "\n",
        "Исходный датасет содержит обучающую и тестовую выборки со всеми признаками.\n",
        "В вашем распоряжении сырые данные: их просто выгрузили из хранилища. Прежде чем приступить к построению модели, проверьте по нашей инструкции их на корректность."
      ]
    },
    {
      "cell_type": "markdown",
      "metadata": {
        "id": "m1G8OaJjI_jP"
      },
      "source": [
        "# Восстановление золота из руды"
      ]
    },
    {
      "cell_type": "markdown",
      "metadata": {
        "id": "YuQgJuTJI_jP"
      },
      "source": [
        "Подготовьте прототип модели машинного обучения для «Цифры». Компания разрабатывает решения для эффективной работы промышленных предприятий.\n",
        "\n",
        "Модель должна предсказать коэффициент восстановления золота из золотосодержащей руды. Используйте данные с параметрами добычи и очистки. \n",
        "\n",
        "Модель поможет оптимизировать производство, чтобы не запускать предприятие с убыточными характеристиками.\n",
        "\n",
        "Вам нужно:\n",
        "\n",
        "1. Подготовить данные;\n",
        "2. Провести исследовательский анализ данных;\n",
        "3. Построить и обучить модель.\n",
        "\n",
        "Чтобы выполнить проект, обращайтесь к библиотекам *pandas*, *matplotlib* и *sklearn.* Вам поможет их документация."
      ]
    },
    {
      "cell_type": "markdown",
      "metadata": {
        "id": "exA3TtxYI_jQ"
      },
      "source": [
        "## Подготовка данных"
      ]
    },
    {
      "cell_type": "code",
      "execution_count": null,
      "metadata": {
        "id": "X3BKXNINI_jR"
      },
      "outputs": [],
      "source": [
        "import pandas as pd\n",
        "import numpy as np\n",
        "from sklearn.preprocessing import StandardScaler\n",
        "import matplotlib.pyplot as plt\n",
        "from sklearn.model_selection import train_test_split\n",
        "from sklearn.linear_model import LinearRegression\n",
        "from sklearn.metrics import mean_squared_error\n",
        "from sklearn.metrics import mean_absolute_error\n",
        "import warnings\n",
        "from math import fabs\n",
        "from sklearn.model_selection import train_test_split\n",
        "from sklearn.linear_model import LinearRegression\n",
        "from sklearn.model_selection import cross_val_score\n",
        "from sklearn.tree import DecisionTreeRegressor\n",
        "from sklearn.ensemble import RandomForestRegressor\n",
        "from sklearn.metrics import make_scorer\n",
        "from sklearn.dummy import DummyRegressor\n",
        "from sklearn.datasets import load_iris\n",
        "from sklearn.model_selection import RandomizedSearchCV\n",
        "from scipy.stats import uniform"
      ]
    },
    {
      "cell_type": "code",
      "execution_count": null,
      "metadata": {
        "id": "Dcu-7q9ZI_jS"
      },
      "outputs": [],
      "source": [
        "df_train = pd.read_csv('/datasets/gold_recovery_train_new.csv', decimal = ',')\n",
        "df_test = pd.read_csv('/datasets/gold_recovery_test_new.csv', decimal = ',')\n",
        "df_full = pd.read_csv('/datasets/gold_recovery_full_new.csv', decimal = ',')"
      ]
    },
    {
      "cell_type": "code",
      "execution_count": null,
      "metadata": {
        "id": "D1SAB0bPI_jS",
        "outputId": "32612bf3-b855-4d05-cfdb-58e077910f89"
      },
      "outputs": [
        {
          "data": {
            "text/html": [
              "<div>\n",
              "<style scoped>\n",
              "    .dataframe tbody tr th:only-of-type {\n",
              "        vertical-align: middle;\n",
              "    }\n",
              "\n",
              "    .dataframe tbody tr th {\n",
              "        vertical-align: top;\n",
              "    }\n",
              "\n",
              "    .dataframe thead th {\n",
              "        text-align: right;\n",
              "    }\n",
              "</style>\n",
              "<table border=\"1\" class=\"dataframe\">\n",
              "  <thead>\n",
              "    <tr style=\"text-align: right;\">\n",
              "      <th></th>\n",
              "      <th>date</th>\n",
              "      <th>final.output.concentrate_ag</th>\n",
              "      <th>final.output.concentrate_pb</th>\n",
              "      <th>final.output.concentrate_sol</th>\n",
              "      <th>final.output.concentrate_au</th>\n",
              "      <th>final.output.recovery</th>\n",
              "      <th>final.output.tail_ag</th>\n",
              "      <th>final.output.tail_pb</th>\n",
              "      <th>final.output.tail_sol</th>\n",
              "      <th>final.output.tail_au</th>\n",
              "      <th>...</th>\n",
              "      <th>secondary_cleaner.state.floatbank4_a_air</th>\n",
              "      <th>secondary_cleaner.state.floatbank4_a_level</th>\n",
              "      <th>secondary_cleaner.state.floatbank4_b_air</th>\n",
              "      <th>secondary_cleaner.state.floatbank4_b_level</th>\n",
              "      <th>secondary_cleaner.state.floatbank5_a_air</th>\n",
              "      <th>secondary_cleaner.state.floatbank5_a_level</th>\n",
              "      <th>secondary_cleaner.state.floatbank5_b_air</th>\n",
              "      <th>secondary_cleaner.state.floatbank5_b_level</th>\n",
              "      <th>secondary_cleaner.state.floatbank6_a_air</th>\n",
              "      <th>secondary_cleaner.state.floatbank6_a_level</th>\n",
              "    </tr>\n",
              "  </thead>\n",
              "  <tbody>\n",
              "    <tr>\n",
              "      <th>0</th>\n",
              "      <td>2016-01-15 00:00:00</td>\n",
              "      <td>6.055402755737305</td>\n",
              "      <td>9.8896484375</td>\n",
              "      <td>5.50732421875</td>\n",
              "      <td>42.19202041625977</td>\n",
              "      <td>70.54121591421571</td>\n",
              "      <td>10.411961555480957</td>\n",
              "      <td>0.89544677734375</td>\n",
              "      <td>16.904296875</td>\n",
              "      <td>2.143149375915528</td>\n",
              "      <td>...</td>\n",
              "      <td>14.01683521270752</td>\n",
              "      <td>-502.4880065917969</td>\n",
              "      <td>12.099930763244627</td>\n",
              "      <td>-504.7159423828125</td>\n",
              "      <td>9.925633430480957</td>\n",
              "      <td>-498.3102111816406</td>\n",
              "      <td>8.079666137695312</td>\n",
              "      <td>-500.4709777832031</td>\n",
              "      <td>14.151341438293455</td>\n",
              "      <td>-605.8419799804688</td>\n",
              "    </tr>\n",
              "    <tr>\n",
              "      <th>1</th>\n",
              "      <td>2016-01-15 01:00:00</td>\n",
              "      <td>6.0293685698980095</td>\n",
              "      <td>9.968944097095063</td>\n",
              "      <td>5.257781484127045</td>\n",
              "      <td>42.701629246897184</td>\n",
              "      <td>69.26619763433304</td>\n",
              "      <td>10.462675680986607</td>\n",
              "      <td>0.9274521342416604</td>\n",
              "      <td>16.6345140976376</td>\n",
              "      <td>2.2249303504399105</td>\n",
              "      <td>...</td>\n",
              "      <td>13.992281027962155</td>\n",
              "      <td>-505.5032621519214</td>\n",
              "      <td>11.950530849089846</td>\n",
              "      <td>-501.3315294298522</td>\n",
              "      <td>10.039245354830264</td>\n",
              "      <td>-500.16998256550005</td>\n",
              "      <td>7.984757202058972</td>\n",
              "      <td>-500.5821676717418</td>\n",
              "      <td>13.998352635403435</td>\n",
              "      <td>-599.7871842295434</td>\n",
              "    </tr>\n",
              "    <tr>\n",
              "      <th>2</th>\n",
              "      <td>2016-01-15 02:00:00</td>\n",
              "      <td>6.055926069440409</td>\n",
              "      <td>10.213994565804802</td>\n",
              "      <td>5.38375876850552</td>\n",
              "      <td>42.657500610812285</td>\n",
              "      <td>68.11644506978911</td>\n",
              "      <td>10.507045940742092</td>\n",
              "      <td>0.9537157271140152</td>\n",
              "      <td>16.208849166039787</td>\n",
              "      <td>2.2578891181054104</td>\n",
              "      <td>...</td>\n",
              "      <td>14.015015464791858</td>\n",
              "      <td>-502.5209008004169</td>\n",
              "      <td>11.912783055148717</td>\n",
              "      <td>-501.13338307498685</td>\n",
              "      <td>10.070913229558943</td>\n",
              "      <td>-500.129134560235</td>\n",
              "      <td>8.013876875828991</td>\n",
              "      <td>-500.5175722471782</td>\n",
              "      <td>14.028663115758542</td>\n",
              "      <td>-601.4273632284114</td>\n",
              "    </tr>\n",
              "  </tbody>\n",
              "</table>\n",
              "<p>3 rows × 87 columns</p>\n",
              "</div>"
            ],
            "text/plain": [
              "                  date final.output.concentrate_ag  \\\n",
              "0  2016-01-15 00:00:00           6.055402755737305   \n",
              "1  2016-01-15 01:00:00          6.0293685698980095   \n",
              "2  2016-01-15 02:00:00           6.055926069440409   \n",
              "\n",
              "  final.output.concentrate_pb final.output.concentrate_sol  \\\n",
              "0                9.8896484375                5.50732421875   \n",
              "1           9.968944097095063            5.257781484127045   \n",
              "2          10.213994565804802             5.38375876850552   \n",
              "\n",
              "  final.output.concentrate_au final.output.recovery final.output.tail_ag  \\\n",
              "0           42.19202041625977     70.54121591421571   10.411961555480957   \n",
              "1          42.701629246897184     69.26619763433304   10.462675680986607   \n",
              "2          42.657500610812285     68.11644506978911   10.507045940742092   \n",
              "\n",
              "  final.output.tail_pb final.output.tail_sol final.output.tail_au  ...  \\\n",
              "0     0.89544677734375          16.904296875    2.143149375915528  ...   \n",
              "1   0.9274521342416604      16.6345140976376   2.2249303504399105  ...   \n",
              "2   0.9537157271140152    16.208849166039787   2.2578891181054104  ...   \n",
              "\n",
              "  secondary_cleaner.state.floatbank4_a_air  \\\n",
              "0                        14.01683521270752   \n",
              "1                       13.992281027962155   \n",
              "2                       14.015015464791858   \n",
              "\n",
              "  secondary_cleaner.state.floatbank4_a_level  \\\n",
              "0                         -502.4880065917969   \n",
              "1                         -505.5032621519214   \n",
              "2                         -502.5209008004169   \n",
              "\n",
              "  secondary_cleaner.state.floatbank4_b_air  \\\n",
              "0                       12.099930763244627   \n",
              "1                       11.950530849089846   \n",
              "2                       11.912783055148717   \n",
              "\n",
              "  secondary_cleaner.state.floatbank4_b_level  \\\n",
              "0                         -504.7159423828125   \n",
              "1                         -501.3315294298522   \n",
              "2                        -501.13338307498685   \n",
              "\n",
              "  secondary_cleaner.state.floatbank5_a_air  \\\n",
              "0                        9.925633430480957   \n",
              "1                       10.039245354830264   \n",
              "2                       10.070913229558943   \n",
              "\n",
              "  secondary_cleaner.state.floatbank5_a_level  \\\n",
              "0                         -498.3102111816406   \n",
              "1                        -500.16998256550005   \n",
              "2                          -500.129134560235   \n",
              "\n",
              "  secondary_cleaner.state.floatbank5_b_air  \\\n",
              "0                        8.079666137695312   \n",
              "1                        7.984757202058972   \n",
              "2                        8.013876875828991   \n",
              "\n",
              "  secondary_cleaner.state.floatbank5_b_level  \\\n",
              "0                         -500.4709777832031   \n",
              "1                         -500.5821676717418   \n",
              "2                         -500.5175722471782   \n",
              "\n",
              "  secondary_cleaner.state.floatbank6_a_air  \\\n",
              "0                       14.151341438293455   \n",
              "1                       13.998352635403435   \n",
              "2                       14.028663115758542   \n",
              "\n",
              "  secondary_cleaner.state.floatbank6_a_level  \n",
              "0                         -605.8419799804688  \n",
              "1                         -599.7871842295434  \n",
              "2                         -601.4273632284114  \n",
              "\n",
              "[3 rows x 87 columns]"
            ]
          },
          "execution_count": 3,
          "metadata": {},
          "output_type": "execute_result"
        }
      ],
      "source": [
        "df_train.head(3)"
      ]
    },
    {
      "cell_type": "code",
      "execution_count": null,
      "metadata": {
        "collapsed": true,
        "id": "dHju9xtcI_jT",
        "outputId": "61c1677a-2c65-442b-c0c2-6243f7e06de4"
      },
      "outputs": [
        {
          "name": "stdout",
          "output_type": "stream",
          "text": [
            "<class 'pandas.core.frame.DataFrame'>\n",
            "RangeIndex: 14149 entries, 0 to 14148\n",
            "Data columns (total 87 columns):\n",
            " #   Column                                              Non-Null Count  Dtype \n",
            "---  ------                                              --------------  ----- \n",
            " 0   date                                                14149 non-null  object\n",
            " 1   final.output.concentrate_ag                         14148 non-null  object\n",
            " 2   final.output.concentrate_pb                         14148 non-null  object\n",
            " 3   final.output.concentrate_sol                        13938 non-null  object\n",
            " 4   final.output.concentrate_au                         14149 non-null  object\n",
            " 5   final.output.recovery                               14149 non-null  object\n",
            " 6   final.output.tail_ag                                14149 non-null  object\n",
            " 7   final.output.tail_pb                                14049 non-null  object\n",
            " 8   final.output.tail_sol                               14144 non-null  object\n",
            " 9   final.output.tail_au                                14149 non-null  object\n",
            " 10  primary_cleaner.input.sulfate                       14129 non-null  object\n",
            " 11  primary_cleaner.input.depressant                    14117 non-null  object\n",
            " 12  primary_cleaner.input.feed_size                     14149 non-null  object\n",
            " 13  primary_cleaner.input.xanthate                      14049 non-null  object\n",
            " 14  primary_cleaner.output.concentrate_ag               14149 non-null  object\n",
            " 15  primary_cleaner.output.concentrate_pb               14063 non-null  object\n",
            " 16  primary_cleaner.output.concentrate_sol              13863 non-null  object\n",
            " 17  primary_cleaner.output.concentrate_au               14149 non-null  object\n",
            " 18  primary_cleaner.output.tail_ag                      14148 non-null  object\n",
            " 19  primary_cleaner.output.tail_pb                      14134 non-null  object\n",
            " 20  primary_cleaner.output.tail_sol                     14103 non-null  object\n",
            " 21  primary_cleaner.output.tail_au                      14149 non-null  object\n",
            " 22  primary_cleaner.state.floatbank8_a_air              14145 non-null  object\n",
            " 23  primary_cleaner.state.floatbank8_a_level            14148 non-null  object\n",
            " 24  primary_cleaner.state.floatbank8_b_air              14145 non-null  object\n",
            " 25  primary_cleaner.state.floatbank8_b_level            14148 non-null  object\n",
            " 26  primary_cleaner.state.floatbank8_c_air              14147 non-null  object\n",
            " 27  primary_cleaner.state.floatbank8_c_level            14148 non-null  object\n",
            " 28  primary_cleaner.state.floatbank8_d_air              14146 non-null  object\n",
            " 29  primary_cleaner.state.floatbank8_d_level            14148 non-null  object\n",
            " 30  rougher.calculation.sulfate_to_au_concentrate       14148 non-null  object\n",
            " 31  rougher.calculation.floatbank10_sulfate_to_au_feed  14148 non-null  object\n",
            " 32  rougher.calculation.floatbank11_sulfate_to_au_feed  14148 non-null  object\n",
            " 33  rougher.calculation.au_pb_ratio                     14149 non-null  object\n",
            " 34  rougher.input.feed_ag                               14149 non-null  object\n",
            " 35  rougher.input.feed_pb                               14049 non-null  object\n",
            " 36  rougher.input.feed_rate                             14141 non-null  object\n",
            " 37  rougher.input.feed_size                             14005 non-null  object\n",
            " 38  rougher.input.feed_sol                              14071 non-null  object\n",
            " 39  rougher.input.feed_au                               14149 non-null  object\n",
            " 40  rougher.input.floatbank10_sulfate                   14120 non-null  object\n",
            " 41  rougher.input.floatbank10_xanthate                  14141 non-null  object\n",
            " 42  rougher.input.floatbank11_sulfate                   14113 non-null  object\n",
            " 43  rougher.input.floatbank11_xanthate                  13721 non-null  object\n",
            " 44  rougher.output.concentrate_ag                       14149 non-null  object\n",
            " 45  rougher.output.concentrate_pb                       14149 non-null  object\n",
            " 46  rougher.output.concentrate_sol                      14127 non-null  object\n",
            " 47  rougher.output.concentrate_au                       14149 non-null  object\n",
            " 48  rougher.output.recovery                             14149 non-null  object\n",
            " 49  rougher.output.tail_ag                              14148 non-null  object\n",
            " 50  rougher.output.tail_pb                              14149 non-null  object\n",
            " 51  rougher.output.tail_sol                             14149 non-null  object\n",
            " 52  rougher.output.tail_au                              14149 non-null  object\n",
            " 53  rougher.state.floatbank10_a_air                     14148 non-null  object\n",
            " 54  rougher.state.floatbank10_a_level                   14148 non-null  object\n",
            " 55  rougher.state.floatbank10_b_air                     14148 non-null  object\n",
            " 56  rougher.state.floatbank10_b_level                   14148 non-null  object\n",
            " 57  rougher.state.floatbank10_c_air                     14148 non-null  object\n",
            " 58  rougher.state.floatbank10_c_level                   14148 non-null  object\n",
            " 59  rougher.state.floatbank10_d_air                     14149 non-null  object\n",
            " 60  rougher.state.floatbank10_d_level                   14149 non-null  object\n",
            " 61  rougher.state.floatbank10_e_air                     13713 non-null  object\n",
            " 62  rougher.state.floatbank10_e_level                   14149 non-null  object\n",
            " 63  rougher.state.floatbank10_f_air                     14149 non-null  object\n",
            " 64  rougher.state.floatbank10_f_level                   14149 non-null  object\n",
            " 65  secondary_cleaner.output.tail_ag                    14147 non-null  object\n",
            " 66  secondary_cleaner.output.tail_pb                    14139 non-null  object\n",
            " 67  secondary_cleaner.output.tail_sol                   12544 non-null  object\n",
            " 68  secondary_cleaner.output.tail_au                    14149 non-null  object\n",
            " 69  secondary_cleaner.state.floatbank2_a_air            13932 non-null  object\n",
            " 70  secondary_cleaner.state.floatbank2_a_level          14148 non-null  object\n",
            " 71  secondary_cleaner.state.floatbank2_b_air            14128 non-null  object\n",
            " 72  secondary_cleaner.state.floatbank2_b_level          14148 non-null  object\n",
            " 73  secondary_cleaner.state.floatbank3_a_air            14145 non-null  object\n",
            " 74  secondary_cleaner.state.floatbank3_a_level          14148 non-null  object\n",
            " 75  secondary_cleaner.state.floatbank3_b_air            14148 non-null  object\n",
            " 76  secondary_cleaner.state.floatbank3_b_level          14148 non-null  object\n",
            " 77  secondary_cleaner.state.floatbank4_a_air            14143 non-null  object\n",
            " 78  secondary_cleaner.state.floatbank4_a_level          14148 non-null  object\n",
            " 79  secondary_cleaner.state.floatbank4_b_air            14148 non-null  object\n",
            " 80  secondary_cleaner.state.floatbank4_b_level          14148 non-null  object\n",
            " 81  secondary_cleaner.state.floatbank5_a_air            14148 non-null  object\n",
            " 82  secondary_cleaner.state.floatbank5_a_level          14148 non-null  object\n",
            " 83  secondary_cleaner.state.floatbank5_b_air            14148 non-null  object\n",
            " 84  secondary_cleaner.state.floatbank5_b_level          14148 non-null  object\n",
            " 85  secondary_cleaner.state.floatbank6_a_air            14147 non-null  object\n",
            " 86  secondary_cleaner.state.floatbank6_a_level          14148 non-null  object\n",
            "dtypes: object(87)\n",
            "memory usage: 9.4+ MB\n"
          ]
        }
      ],
      "source": [
        "df_train.info()"
      ]
    },
    {
      "cell_type": "markdown",
      "metadata": {
        "id": "tuYw2omXI_jU"
      },
      "source": [
        "### Предобработка данных"
      ]
    },
    {
      "cell_type": "code",
      "execution_count": null,
      "metadata": {
        "id": "p_pdAFDgI_jU"
      },
      "outputs": [],
      "source": [
        "# преобразование типов данных\n",
        "\n",
        "date_train = pd.to_datetime(df_train['date'], format='%Y-%m-%d %H:%M:%S')\n",
        "df_train_float = df_train.drop(['date'], axis=1).astype(float)\n",
        "df_train_new = pd.concat([date_train, df_train_float], axis=1)\n",
        "\n",
        "date_test = pd.to_datetime(df_test['date'], format='%Y-%m-%d %H:%M:%S')\n",
        "df_test_float = df_test.drop(['date'], axis=1).astype(float)\n",
        "df_test_new = pd.concat([date_test, df_test_float], axis=1)\n",
        "\n",
        "date_full = pd.to_datetime(df_full['date'], format='%Y-%m-%d %H:%M:%S')\n",
        "df_full_float = df_full.drop(['date'], axis=1).astype(float)\n",
        "df_full_new = pd.concat([date_full, df_full_float], axis=1)"
      ]
    },
    {
      "cell_type": "code",
      "execution_count": null,
      "metadata": {
        "id": "ecOJ0Z1II_jV"
      },
      "outputs": [],
      "source": [
        "df_train_new = df_train_new.fillna(method='ffill')\n",
        "df_test_new = df_test_new.fillna(method='ffill')\n",
        "df_full_new = df_full_new.fillna(method='ffill')"
      ]
    },
    {
      "cell_type": "markdown",
      "metadata": {
        "id": "JMqOq_uDI_jV"
      },
      "source": [
        "пропуски в данных заполняла предыдущими значениями, так как есть временная зависимость между строками"
      ]
    },
    {
      "cell_type": "code",
      "execution_count": null,
      "metadata": {
        "collapsed": true,
        "id": "J0jOLXDrI_jW",
        "outputId": "2626dd38-ff8a-46cb-a47d-01bd548c2bf1"
      },
      "outputs": [
        {
          "name": "stdout",
          "output_type": "stream",
          "text": [
            "<class 'pandas.core.frame.DataFrame'>\n",
            "RangeIndex: 14149 entries, 0 to 14148\n",
            "Data columns (total 87 columns):\n",
            " #   Column                                              Non-Null Count  Dtype         \n",
            "---  ------                                              --------------  -----         \n",
            " 0   date                                                14149 non-null  datetime64[ns]\n",
            " 1   final.output.concentrate_ag                         14149 non-null  float64       \n",
            " 2   final.output.concentrate_pb                         14149 non-null  float64       \n",
            " 3   final.output.concentrate_sol                        14149 non-null  float64       \n",
            " 4   final.output.concentrate_au                         14149 non-null  float64       \n",
            " 5   final.output.recovery                               14149 non-null  float64       \n",
            " 6   final.output.tail_ag                                14149 non-null  float64       \n",
            " 7   final.output.tail_pb                                14149 non-null  float64       \n",
            " 8   final.output.tail_sol                               14149 non-null  float64       \n",
            " 9   final.output.tail_au                                14149 non-null  float64       \n",
            " 10  primary_cleaner.input.sulfate                       14149 non-null  float64       \n",
            " 11  primary_cleaner.input.depressant                    14149 non-null  float64       \n",
            " 12  primary_cleaner.input.feed_size                     14149 non-null  float64       \n",
            " 13  primary_cleaner.input.xanthate                      14149 non-null  float64       \n",
            " 14  primary_cleaner.output.concentrate_ag               14149 non-null  float64       \n",
            " 15  primary_cleaner.output.concentrate_pb               14149 non-null  float64       \n",
            " 16  primary_cleaner.output.concentrate_sol              14149 non-null  float64       \n",
            " 17  primary_cleaner.output.concentrate_au               14149 non-null  float64       \n",
            " 18  primary_cleaner.output.tail_ag                      14149 non-null  float64       \n",
            " 19  primary_cleaner.output.tail_pb                      14149 non-null  float64       \n",
            " 20  primary_cleaner.output.tail_sol                     14149 non-null  float64       \n",
            " 21  primary_cleaner.output.tail_au                      14149 non-null  float64       \n",
            " 22  primary_cleaner.state.floatbank8_a_air              14149 non-null  float64       \n",
            " 23  primary_cleaner.state.floatbank8_a_level            14149 non-null  float64       \n",
            " 24  primary_cleaner.state.floatbank8_b_air              14149 non-null  float64       \n",
            " 25  primary_cleaner.state.floatbank8_b_level            14149 non-null  float64       \n",
            " 26  primary_cleaner.state.floatbank8_c_air              14149 non-null  float64       \n",
            " 27  primary_cleaner.state.floatbank8_c_level            14149 non-null  float64       \n",
            " 28  primary_cleaner.state.floatbank8_d_air              14149 non-null  float64       \n",
            " 29  primary_cleaner.state.floatbank8_d_level            14149 non-null  float64       \n",
            " 30  rougher.calculation.sulfate_to_au_concentrate       14149 non-null  float64       \n",
            " 31  rougher.calculation.floatbank10_sulfate_to_au_feed  14149 non-null  float64       \n",
            " 32  rougher.calculation.floatbank11_sulfate_to_au_feed  14149 non-null  float64       \n",
            " 33  rougher.calculation.au_pb_ratio                     14149 non-null  float64       \n",
            " 34  rougher.input.feed_ag                               14149 non-null  float64       \n",
            " 35  rougher.input.feed_pb                               14149 non-null  float64       \n",
            " 36  rougher.input.feed_rate                             14149 non-null  float64       \n",
            " 37  rougher.input.feed_size                             14149 non-null  float64       \n",
            " 38  rougher.input.feed_sol                              14149 non-null  float64       \n",
            " 39  rougher.input.feed_au                               14149 non-null  float64       \n",
            " 40  rougher.input.floatbank10_sulfate                   14149 non-null  float64       \n",
            " 41  rougher.input.floatbank10_xanthate                  14149 non-null  float64       \n",
            " 42  rougher.input.floatbank11_sulfate                   14149 non-null  float64       \n",
            " 43  rougher.input.floatbank11_xanthate                  14149 non-null  float64       \n",
            " 44  rougher.output.concentrate_ag                       14149 non-null  float64       \n",
            " 45  rougher.output.concentrate_pb                       14149 non-null  float64       \n",
            " 46  rougher.output.concentrate_sol                      14149 non-null  float64       \n",
            " 47  rougher.output.concentrate_au                       14149 non-null  float64       \n",
            " 48  rougher.output.recovery                             14149 non-null  float64       \n",
            " 49  rougher.output.tail_ag                              14149 non-null  float64       \n",
            " 50  rougher.output.tail_pb                              14149 non-null  float64       \n",
            " 51  rougher.output.tail_sol                             14149 non-null  float64       \n",
            " 52  rougher.output.tail_au                              14149 non-null  float64       \n",
            " 53  rougher.state.floatbank10_a_air                     14149 non-null  float64       \n",
            " 54  rougher.state.floatbank10_a_level                   14149 non-null  float64       \n",
            " 55  rougher.state.floatbank10_b_air                     14149 non-null  float64       \n",
            " 56  rougher.state.floatbank10_b_level                   14149 non-null  float64       \n",
            " 57  rougher.state.floatbank10_c_air                     14149 non-null  float64       \n",
            " 58  rougher.state.floatbank10_c_level                   14149 non-null  float64       \n",
            " 59  rougher.state.floatbank10_d_air                     14149 non-null  float64       \n",
            " 60  rougher.state.floatbank10_d_level                   14149 non-null  float64       \n",
            " 61  rougher.state.floatbank10_e_air                     14149 non-null  float64       \n",
            " 62  rougher.state.floatbank10_e_level                   14149 non-null  float64       \n",
            " 63  rougher.state.floatbank10_f_air                     14149 non-null  float64       \n",
            " 64  rougher.state.floatbank10_f_level                   14149 non-null  float64       \n",
            " 65  secondary_cleaner.output.tail_ag                    14149 non-null  float64       \n",
            " 66  secondary_cleaner.output.tail_pb                    14149 non-null  float64       \n",
            " 67  secondary_cleaner.output.tail_sol                   14149 non-null  float64       \n",
            " 68  secondary_cleaner.output.tail_au                    14149 non-null  float64       \n",
            " 69  secondary_cleaner.state.floatbank2_a_air            14149 non-null  float64       \n",
            " 70  secondary_cleaner.state.floatbank2_a_level          14149 non-null  float64       \n",
            " 71  secondary_cleaner.state.floatbank2_b_air            14149 non-null  float64       \n",
            " 72  secondary_cleaner.state.floatbank2_b_level          14149 non-null  float64       \n",
            " 73  secondary_cleaner.state.floatbank3_a_air            14149 non-null  float64       \n",
            " 74  secondary_cleaner.state.floatbank3_a_level          14149 non-null  float64       \n",
            " 75  secondary_cleaner.state.floatbank3_b_air            14149 non-null  float64       \n",
            " 76  secondary_cleaner.state.floatbank3_b_level          14149 non-null  float64       \n",
            " 77  secondary_cleaner.state.floatbank4_a_air            14149 non-null  float64       \n",
            " 78  secondary_cleaner.state.floatbank4_a_level          14149 non-null  float64       \n",
            " 79  secondary_cleaner.state.floatbank4_b_air            14149 non-null  float64       \n",
            " 80  secondary_cleaner.state.floatbank4_b_level          14149 non-null  float64       \n",
            " 81  secondary_cleaner.state.floatbank5_a_air            14149 non-null  float64       \n",
            " 82  secondary_cleaner.state.floatbank5_a_level          14149 non-null  float64       \n",
            " 83  secondary_cleaner.state.floatbank5_b_air            14149 non-null  float64       \n",
            " 84  secondary_cleaner.state.floatbank5_b_level          14149 non-null  float64       \n",
            " 85  secondary_cleaner.state.floatbank6_a_air            14149 non-null  float64       \n",
            " 86  secondary_cleaner.state.floatbank6_a_level          14149 non-null  float64       \n",
            "dtypes: datetime64[ns](1), float64(86)\n",
            "memory usage: 9.4 MB\n"
          ]
        }
      ],
      "source": [
        "df_train_new.info()"
      ]
    },
    {
      "cell_type": "markdown",
      "metadata": {
        "id": "0GBOtmsnI_jW"
      },
      "source": [
        "### Расчет эффективности обогащения"
      ]
    },
    {
      "cell_type": "markdown",
      "metadata": {
        "id": "aJrD75bWI_jW"
      },
      "source": [
        "Эффективность обогащения рассчитывается по формуле\n",
        "\n",
        "С(F-T)*100/F(C-T), где:\n",
        "\n",
        "C — доля золота в концентрате после флотации/очистки;\n",
        "\n",
        "F — доля золота в сырье/концентрате до флотации/очистки;\n",
        "\n",
        "T — доля золота в отвальных хвостах после флотации/очистки."
      ]
    },
    {
      "cell_type": "code",
      "execution_count": null,
      "metadata": {
        "id": "lImSMpm6I_jW"
      },
      "outputs": [],
      "source": [
        "C = df_train_new['rougher.output.concentrate_au'].copy()\n",
        "F = df_train_new['rougher.input.feed_au'].copy()\n",
        "T = df_train_new['rougher.output.tail_au'].copy()"
      ]
    },
    {
      "cell_type": "code",
      "execution_count": null,
      "metadata": {
        "id": "jo-hlpUQI_jX"
      },
      "outputs": [],
      "source": [
        "RECOVERY = (F-T)*C*100/(F*(C-T))"
      ]
    },
    {
      "cell_type": "code",
      "execution_count": null,
      "metadata": {
        "id": "1fuNpGmhI_jX",
        "outputId": "53eb788e-ab76-4f1a-b42c-8b4c36dacec9"
      },
      "outputs": [
        {
          "name": "stdout",
          "output_type": "stream",
          "text": [
            "MAE = 1.0934123538501412e-14\n"
          ]
        }
      ],
      "source": [
        "MAE = mean_absolute_error(RECOVERY, df_train_new['rougher.output.recovery'])\n",
        "print('MAE =', MAE)"
      ]
    },
    {
      "cell_type": "markdown",
      "metadata": {
        "id": "tE4TQloTI_jX"
      },
      "source": [
        "MAE получилось очень маленьким, значит, разница в recovery посчитанном мной и в данных практически нет => можно использовать эту формулу для расчета прогнозируемых величин"
      ]
    },
    {
      "cell_type": "markdown",
      "metadata": {
        "id": "B87rm5KjI_jX"
      },
      "source": [
        "### Тестирование финальных признаков"
      ]
    },
    {
      "cell_type": "code",
      "execution_count": null,
      "metadata": {
        "scrolled": true,
        "id": "t12oIGylI_jY",
        "outputId": "3ac144d7-524d-48f1-aa9f-b4017319eafc"
      },
      "outputs": [
        {
          "name": "stderr",
          "output_type": "stream",
          "text": [
            "/tmp/ipykernel_31/1948402198.py:9: MatplotlibDeprecationWarning: Adding an axes using the same arguments as a previous axes currently reuses the earlier instance.  In a future version, a new instance will always be created and returned.  Meanwhile, this warning can be suppressed, and the future behavior ensured, by passing a unique label to each axes instance.\n",
            "  plt.subplot(3, 2, 1)\n",
            "/tmp/ipykernel_31/1948402198.py:12: MatplotlibDeprecationWarning: Adding an axes using the same arguments as a previous axes currently reuses the earlier instance.  In a future version, a new instance will always be created and returned.  Meanwhile, this warning can be suppressed, and the future behavior ensured, by passing a unique label to each axes instance.\n",
            "  plt.subplot(3, 2, 1)\n",
            "/tmp/ipykernel_31/1948402198.py:15: MatplotlibDeprecationWarning: Adding an axes using the same arguments as a previous axes currently reuses the earlier instance.  In a future version, a new instance will always be created and returned.  Meanwhile, this warning can be suppressed, and the future behavior ensured, by passing a unique label to each axes instance.\n",
            "  plt.subplot(3, 2, 1)\n",
            "/tmp/ipykernel_31/1948402198.py:27: MatplotlibDeprecationWarning: Adding an axes using the same arguments as a previous axes currently reuses the earlier instance.  In a future version, a new instance will always be created and returned.  Meanwhile, this warning can be suppressed, and the future behavior ensured, by passing a unique label to each axes instance.\n",
            "  plt.subplot(3, 2, 3)\n",
            "/tmp/ipykernel_31/1948402198.py:30: MatplotlibDeprecationWarning: Adding an axes using the same arguments as a previous axes currently reuses the earlier instance.  In a future version, a new instance will always be created and returned.  Meanwhile, this warning can be suppressed, and the future behavior ensured, by passing a unique label to each axes instance.\n",
            "  plt.subplot(3, 2, 3)\n",
            "/tmp/ipykernel_31/1948402198.py:33: MatplotlibDeprecationWarning: Adding an axes using the same arguments as a previous axes currently reuses the earlier instance.  In a future version, a new instance will always be created and returned.  Meanwhile, this warning can be suppressed, and the future behavior ensured, by passing a unique label to each axes instance.\n",
            "  plt.subplot(3, 2, 3)\n"
          ]
        },
        {
          "data": {
            "image/png": "[encoded data removed]",
            "text/plain": [
              "<Figure size 1152x1152 with 3 Axes>"
            ]
          },
          "metadata": {
            "needs_background": "light"
          },
          "output_type": "display_data"
        }
      ],
      "source": [
        "# Настройка размеров подложки\n",
        "plt.figure(figsize=(16, 16))\n",
        "\n",
        "# Вывод графиков\n",
        "plt.subplot(3, 2, 1)\n",
        "df_train_new['final.output.concentrate_ag'].hist(bins=100, alpha=0.5, label='ag')\n",
        "plt.title('concentrate', fontsize=15)\n",
        "\n",
        "plt.subplot(3, 2, 1)\n",
        "df_train_new['final.output.concentrate_pb'].hist(bins=100, alpha=0.5, label='pb')\n",
        "\n",
        "plt.subplot(3, 2, 1)\n",
        "df_train_new['final.output.concentrate_sol'].hist(bins=100, alpha=0.5, label='sol')\n",
        "\n",
        "plt.subplot(3, 2, 1)\n",
        "df_train_new['final.output.concentrate_au'].hist(bins=100, alpha=0.5, label='au')\n",
        "plt.legend()\n",
        "\n",
        "plt.subplot(3, 2, 2)\n",
        "df_train_new['final.output.recovery'].hist(bins=100)\n",
        "plt.title('recovery', fontsize=15)\n",
        "\n",
        "plt.subplot(3, 2, 3)\n",
        "df_train_new['final.output.tail_ag'].hist(bins=100, alpha=0.5, label='ag')\n",
        "plt.title('tail', fontsize=15)\n",
        "\n",
        "plt.subplot(3, 2, 3)\n",
        "df_train_new['final.output.tail_pb'].hist(bins=100, alpha=0.5, label='pb')\n",
        "\n",
        "plt.subplot(3, 2, 3)\n",
        "df_train_new['final.output.tail_sol'].hist(bins=100, alpha=0.5, label='sol')\n",
        "\n",
        "plt.subplot(3, 2, 3)\n",
        "df_train_new['final.output.tail_au'].hist(bins=100, alpha=0.5, label='au')\n",
        "plt.legend()\n",
        "\n",
        "warnings.filterwarnings('ignore')"
      ]
    },
    {
      "cell_type": "markdown",
      "metadata": {
        "id": "e6q4dJ82I_jY"
      },
      "source": [
        "В конечном продукте концентрация золота хначительно превосходит концентрацию остальных металлов. Однако примерно 5% Au попадает в отвальный хвост"
      ]
    },
    {
      "cell_type": "code",
      "execution_count": null,
      "metadata": {
        "id": "61r7VZWOI_jZ",
        "outputId": "8d16aa35-cef7-427b-9647-0a0101aba4ff"
      },
      "outputs": [
        {
          "data": {
            "text/plain": [
              "['final.output.concentrate_ag',\n",
              " 'final.output.concentrate_au',\n",
              " 'final.output.concentrate_pb',\n",
              " 'final.output.concentrate_sol',\n",
              " 'final.output.recovery',\n",
              " 'final.output.tail_ag',\n",
              " 'final.output.tail_au',\n",
              " 'final.output.tail_pb',\n",
              " 'final.output.tail_sol',\n",
              " 'primary_cleaner.output.concentrate_ag',\n",
              " 'primary_cleaner.output.concentrate_au',\n",
              " 'primary_cleaner.output.concentrate_pb',\n",
              " 'primary_cleaner.output.concentrate_sol',\n",
              " 'primary_cleaner.output.tail_ag',\n",
              " 'primary_cleaner.output.tail_au',\n",
              " 'primary_cleaner.output.tail_pb',\n",
              " 'primary_cleaner.output.tail_sol',\n",
              " 'rougher.calculation.au_pb_ratio',\n",
              " 'rougher.calculation.floatbank10_sulfate_to_au_feed',\n",
              " 'rougher.calculation.floatbank11_sulfate_to_au_feed',\n",
              " 'rougher.calculation.sulfate_to_au_concentrate',\n",
              " 'rougher.output.concentrate_ag',\n",
              " 'rougher.output.concentrate_au',\n",
              " 'rougher.output.concentrate_pb',\n",
              " 'rougher.output.concentrate_sol',\n",
              " 'rougher.output.recovery',\n",
              " 'rougher.output.tail_ag',\n",
              " 'rougher.output.tail_au',\n",
              " 'rougher.output.tail_pb',\n",
              " 'rougher.output.tail_sol',\n",
              " 'secondary_cleaner.output.tail_ag',\n",
              " 'secondary_cleaner.output.tail_au',\n",
              " 'secondary_cleaner.output.tail_pb',\n",
              " 'secondary_cleaner.output.tail_sol']"
            ]
          },
          "execution_count": 15,
          "metadata": {},
          "output_type": "execute_result"
        }
      ],
      "source": [
        "# список колонок, отсутствующих в тестовых данных\n",
        "c = list(set(df_train_new.columns) - set(df_test_new.columns))\n",
        "c.sort()\n",
        "c"
      ]
    },
    {
      "cell_type": "code",
      "execution_count": null,
      "metadata": {
        "id": "_TPKQdL6I_jZ",
        "outputId": "e6a9a0b0-97a7-41fe-e7b5-dbd3883f0392"
      },
      "outputs": [
        {
          "name": "stdout",
          "output_type": "stream",
          "text": [
            "<class 'pandas.core.frame.DataFrame'>\n",
            "RangeIndex: 14149 entries, 0 to 14148\n",
            "Data columns (total 34 columns):\n",
            " #   Column                                              Non-Null Count  Dtype  \n",
            "---  ------                                              --------------  -----  \n",
            " 0   final.output.concentrate_ag                         14149 non-null  float64\n",
            " 1   final.output.concentrate_au                         14149 non-null  float64\n",
            " 2   final.output.concentrate_pb                         14149 non-null  float64\n",
            " 3   final.output.concentrate_sol                        14149 non-null  float64\n",
            " 4   final.output.recovery                               14149 non-null  float64\n",
            " 5   final.output.tail_ag                                14149 non-null  float64\n",
            " 6   final.output.tail_au                                14149 non-null  float64\n",
            " 7   final.output.tail_pb                                14149 non-null  float64\n",
            " 8   final.output.tail_sol                               14149 non-null  float64\n",
            " 9   primary_cleaner.output.concentrate_ag               14149 non-null  float64\n",
            " 10  primary_cleaner.output.concentrate_au               14149 non-null  float64\n",
            " 11  primary_cleaner.output.concentrate_pb               14149 non-null  float64\n",
            " 12  primary_cleaner.output.concentrate_sol              14149 non-null  float64\n",
            " 13  primary_cleaner.output.tail_ag                      14149 non-null  float64\n",
            " 14  primary_cleaner.output.tail_au                      14149 non-null  float64\n",
            " 15  primary_cleaner.output.tail_pb                      14149 non-null  float64\n",
            " 16  primary_cleaner.output.tail_sol                     14149 non-null  float64\n",
            " 17  rougher.calculation.au_pb_ratio                     14149 non-null  float64\n",
            " 18  rougher.calculation.floatbank10_sulfate_to_au_feed  14149 non-null  float64\n",
            " 19  rougher.calculation.floatbank11_sulfate_to_au_feed  14149 non-null  float64\n",
            " 20  rougher.calculation.sulfate_to_au_concentrate       14149 non-null  float64\n",
            " 21  rougher.output.concentrate_ag                       14149 non-null  float64\n",
            " 22  rougher.output.concentrate_au                       14149 non-null  float64\n",
            " 23  rougher.output.concentrate_pb                       14149 non-null  float64\n",
            " 24  rougher.output.concentrate_sol                      14149 non-null  float64\n",
            " 25  rougher.output.recovery                             14149 non-null  float64\n",
            " 26  rougher.output.tail_ag                              14149 non-null  float64\n",
            " 27  rougher.output.tail_au                              14149 non-null  float64\n",
            " 28  rougher.output.tail_pb                              14149 non-null  float64\n",
            " 29  rougher.output.tail_sol                             14149 non-null  float64\n",
            " 30  secondary_cleaner.output.tail_ag                    14149 non-null  float64\n",
            " 31  secondary_cleaner.output.tail_au                    14149 non-null  float64\n",
            " 32  secondary_cleaner.output.tail_pb                    14149 non-null  float64\n",
            " 33  secondary_cleaner.output.tail_sol                   14149 non-null  float64\n",
            "dtypes: float64(34)\n",
            "memory usage: 3.7 MB\n"
          ]
        }
      ],
      "source": [
        "df_train_new[c].info()"
      ]
    },
    {
      "cell_type": "code",
      "execution_count": null,
      "metadata": {
        "id": "gSCU9GMVI_jZ",
        "outputId": "6038f974-ce06-4394-ef6b-5cb45f991613"
      },
      "outputs": [
        {
          "data": {
            "image/png": "[encoded data removed]",
            "text/plain": [
              "<Figure size 1152x1152 with 3 Axes>"
            ]
          },
          "metadata": {
            "needs_background": "light"
          },
          "output_type": "display_data"
        }
      ],
      "source": [
        "# Настройка размеров подложки\n",
        "plt.figure(figsize=(16, 16))\n",
        "\n",
        "# Вывод графиков\n",
        "plt.subplot(3, 2, 1)\n",
        "df_train_new['rougher.output.tail_ag'].hist(bins=100, alpha=0.5, label='rougher')\n",
        "plt.subplot(3, 2, 1)\n",
        "df_train_new['primary_cleaner.output.tail_ag'].hist(bins=100, alpha=0.5, label='primary_cleaner')\n",
        "plt.subplot(3, 2, 1)\n",
        "df_train_new['secondary_cleaner.output.tail_ag'].hist(bins=100, alpha=0.5, label='secondary_cleaner')\n",
        "plt.subplot(3, 2, 1)\n",
        "df_train_new['final.output.tail_ag'].hist(bins=100, alpha=0.5, label='final')\n",
        "plt.title('tail_ag', fontsize=15)\n",
        "plt.legend()\n",
        "\n",
        "plt.subplot(3, 2, 2)\n",
        "df_train_new['rougher.output.tail_pb'].hist(bins=100, alpha=0.5, label='rougher')\n",
        "plt.subplot(3, 2, 2)\n",
        "df_train_new['primary_cleaner.output.tail_pb'].hist(bins=100, alpha=0.5, label='primary_cleaner')\n",
        "plt.subplot(3, 2, 2)\n",
        "df_train_new['secondary_cleaner.output.tail_pb'].hist(bins=100, alpha=0.5, label='secondary_cleaner')\n",
        "plt.subplot(3, 2, 2)\n",
        "df_train_new['final.output.tail_pb'].hist(bins=100, alpha=0.5, label='final')\n",
        "plt.title('tail_pb', fontsize=15)\n",
        "plt.legend()\n",
        "\n",
        "plt.subplot(3, 2, 3)\n",
        "df_train_new['rougher.output.tail_au'].hist(bins=100, alpha=0.5, label='rougher')\n",
        "plt.subplot(3, 2, 3)\n",
        "df_train_new['primary_cleaner.output.tail_au'].hist(bins=100, alpha=0.5, label='primary_cleaner')\n",
        "plt.subplot(3, 2, 3)\n",
        "df_train_new['secondary_cleaner.output.tail_au'].hist(bins=100, alpha=0.5, label='secondary_cleaner')\n",
        "plt.subplot(3, 2, 3)\n",
        "df_train_new['final.output.tail_au'].hist(bins=100, alpha=0.5, label='final')\n",
        "plt.title('tail_au', fontsize=15)\n",
        "plt.legend()\n",
        "\n",
        "warnings.filterwarnings('ignore')"
      ]
    },
    {
      "cell_type": "markdown",
      "metadata": {
        "id": "5k6kMKAvI_ja"
      },
      "source": [
        "Исходя из графиков понятно, что основной металл, который отделяется в хвост - серебро, при чем в основном это происходит на 1 и 2 стадиях очистки. На стадии флотации отделяется меньше всего металлов."
      ]
    },
    {
      "cell_type": "markdown",
      "metadata": {
        "id": "5dvcThYEI_ja"
      },
      "source": [
        "## Анализ данных"
      ]
    },
    {
      "cell_type": "markdown",
      "metadata": {
        "id": "dNptyLS2I_ja"
      },
      "source": [
        "### Изменение концентрации металлов (Au, Ag, Pb) на различных этапах очистки "
      ]
    },
    {
      "cell_type": "code",
      "execution_count": null,
      "metadata": {
        "id": "gzCdXgnaI_ja",
        "outputId": "d80eac20-9986-45bb-e93d-59ac7d5f8531"
      },
      "outputs": [
        {
          "data": {
            "image/png": "[encoded data removed]",
            "text/plain": [
              "<Figure size 1152x1152 with 3 Axes>"
            ]
          },
          "metadata": {
            "needs_background": "light"
          },
          "output_type": "display_data"
        }
      ],
      "source": [
        "# Настройка размеров подложки\n",
        "plt.figure(figsize=(16, 16))\n",
        "\n",
        "# Вывод графиков\n",
        "plt.subplot(3, 2, 1)\n",
        "df_train_new['rougher.output.concentrate_ag'].hist(bins=100, alpha=0.5, label='rougher')\n",
        "plt.subplot(3, 2, 1)\n",
        "df_train_new['primary_cleaner.output.concentrate_ag'].hist(bins=100, alpha=0.5, label='primary_cleaner')\n",
        "plt.subplot(3, 2, 1)\n",
        "df_train_new['secondary_cleaner.output.tail_ag'].hist(bins=100, alpha=0.5, label='secondary_cleaner')\n",
        "plt.subplot(3, 2, 1)\n",
        "df_train_new['final.output.concentrate_ag'].hist(bins=100, alpha=0.5, label='final')\n",
        "plt.title('ag', fontsize=15)\n",
        "plt.legend()\n",
        "\n",
        "plt.subplot(3, 2, 2)\n",
        "df_train_new['rougher.output.concentrate_pb'].hist(bins=100, alpha=0.5, label='rougher')\n",
        "plt.subplot(3, 2, 2)\n",
        "df_train_new['primary_cleaner.output.concentrate_pb'].hist(bins=100, alpha=0.5, label='primary_cleaner')\n",
        "plt.subplot(3, 2, 2)\n",
        "df_train_new['secondary_cleaner.output.tail_pb'].hist(bins=100, alpha=0.5, label='secondary_cleaner')\n",
        "plt.subplot(3, 2, 2)\n",
        "df_train_new['final.output.concentrate_pb'].hist(bins=100, alpha=0.5, label='final')\n",
        "plt.title('pb', fontsize=15)\n",
        "plt.legend()\n",
        "\n",
        "plt.subplot(3, 2, 3)\n",
        "df_train_new['rougher.output.concentrate_au'].hist(bins=100, alpha=0.5, label='rougher')\n",
        "plt.subplot(3, 2, 3)\n",
        "df_train_new['primary_cleaner.output.concentrate_au'].hist(bins=100, alpha=0.5, label='primary_cleaner')\n",
        "plt.subplot(3, 2, 3)\n",
        "df_train_new['secondary_cleaner.output.tail_au'].hist(bins=100, alpha=0.5, label='secondary_cleaner')\n",
        "plt.subplot(3, 2, 3)\n",
        "df_train_new['final.output.concentrate_au'].hist(bins=100, alpha=0.5, label='final')\n",
        "plt.title('au', fontsize=15)\n",
        "plt.legend()\n",
        "\n",
        "warnings.filterwarnings('ignore')"
      ]
    },
    {
      "cell_type": "code",
      "execution_count": null,
      "metadata": {
        "id": "Ceq8Nlg7I_ja",
        "outputId": "d857eeae-f4aa-4fa4-ecc4-35c7c4ed73a4"
      },
      "outputs": [
        {
          "name": "stdout",
          "output_type": "stream",
          "text": [
            "metal     rougher         primary_cleaner    secondary_cleaner     final\n",
            "ag    11.775812314356036 8.200915815165981 14.281516481759926 5.141920924857091\n",
            "pb    7.664554751481546 9.568544006770484 5.8469629606172315 10.132847758146394\n",
            "au    19.43995785143646 32.386835978391346 4.246960901668578 44.00379162105571\n"
          ]
        }
      ],
      "source": [
        "print('metal', '    rougher', '        primary_cleaner', '   secondary_cleaner', '    final')\n",
        "print('ag   ', df_train_new['rougher.output.concentrate_ag'].mean(), df_train_new['primary_cleaner.output.concentrate_ag'].mean(), df_train_new['secondary_cleaner.output.tail_ag'].mean(), df_train_new['final.output.concentrate_ag'].mean())\n",
        "print('pb   ', df_train_new['rougher.output.concentrate_pb'].mean(), df_train_new['primary_cleaner.output.concentrate_pb'].mean(), df_train_new['secondary_cleaner.output.tail_pb'].mean(), df_train_new['final.output.concentrate_pb'].mean())\n",
        "print('au   ', df_train_new['rougher.output.concentrate_au'].mean(), df_train_new['primary_cleaner.output.concentrate_au'].mean(), df_train_new['secondary_cleaner.output.tail_au'].mean(), df_train_new['final.output.concentrate_au'].mean())"
      ]
    },
    {
      "cell_type": "markdown",
      "metadata": {
        "id": "-bWKIbjNI_jb"
      },
      "source": [
        "Во время очистки как правило, большая часть примесей удаляется из состава сырья, однако так происходит не всегда, так как сложность очистки бывает разная. Из графиков видно, что только pb и au имеют наибольшую концентрацию после финальной стадии очистки. В то время как концентрация серебра возрастает до пика на вторичной очистке и после резко сокращается. Ту же картину можно увидеть на средних значениях концентраций"
      ]
    },
    {
      "cell_type": "markdown",
      "metadata": {
        "id": "D_1WJ0wNI_jb"
      },
      "source": [
        "### Сравнение распределения размеров гранул сырья на обучающей и тестовой выборках"
      ]
    },
    {
      "cell_type": "code",
      "execution_count": null,
      "metadata": {
        "id": "85mAVrjTI_jb",
        "outputId": "94bcfef6-bc3a-41e6-8aa1-42c8e029227d"
      },
      "outputs": [
        {
          "name": "stderr",
          "output_type": "stream",
          "text": [
            "/tmp/ipykernel_32/2716625933.py:7: MatplotlibDeprecationWarning: Adding an axes using the same arguments as a previous axes currently reuses the earlier instance.  In a future version, a new instance will always be created and returned.  Meanwhile, this warning can be suppressed, and the future behavior ensured, by passing a unique label to each axes instance.\n",
            "  plt.subplot(3, 2, 1)\n"
          ]
        },
        {
          "data": {
            "image/png": "[encoded data removed]",
            "text/plain": [
              "<Figure size 1152x1152 with 1 Axes>"
            ]
          },
          "metadata": {
            "needs_background": "light"
          },
          "output_type": "display_data"
        }
      ],
      "source": [
        "# Настройка размеров подложки\n",
        "plt.figure(figsize=(16, 16))\n",
        "\n",
        "# Вывод графиков\n",
        "plt.subplot(3, 2, 1)\n",
        "df_train_new['rougher.input.feed_size'].hist(bins=100, alpha=0.5, label='train', density=True)\n",
        "plt.subplot(3, 2, 1)\n",
        "df_test_new['rougher.input.feed_size'].hist(bins=100, alpha=0.5, label='test', density=True)\n",
        "plt.title('size', fontsize=15)\n",
        "plt.legend()\n",
        "\n",
        "warnings.filterwarnings('ignore')"
      ]
    },
    {
      "cell_type": "code",
      "execution_count": null,
      "metadata": {
        "id": "sZNzqFXcI_jc",
        "outputId": "68e84b5e-8919-4781-f7df-13e9658ac7bd"
      },
      "outputs": [
        {
          "name": "stdout",
          "output_type": "stream",
          "text": [
            "train:         rougher.input.feed_size\n",
            "mean                  60.239856\n",
            "median                55.269784\n",
            "var                  529.244270\n"
          ]
        }
      ],
      "source": [
        "print('train:', df_train_new.agg({'rougher.input.feed_size': ['mean','median','var']}))"
      ]
    },
    {
      "cell_type": "code",
      "execution_count": null,
      "metadata": {
        "id": "IBzInwmkI_jc",
        "outputId": "d6dfaf83-85f9-48ab-b7da-7600aa6bd3e6"
      },
      "outputs": [
        {
          "name": "stdout",
          "output_type": "stream",
          "text": [
            "test:         rougher.input.feed_size\n",
            "mean                  55.952754\n",
            "median                50.846843\n",
            "var                  364.059149\n"
          ]
        }
      ],
      "source": [
        "print('test:', df_test_new.agg({'rougher.input.feed_size': ['mean','median','var']}))"
      ]
    },
    {
      "cell_type": "markdown",
      "metadata": {
        "id": "glEMwbJ_I_jc"
      },
      "source": [
        "Размер гранул в тренировочной и тестовой выборках похожи. Распределения этих значений имеют схожие черты. Вижимо из-за разницы в размере выборок агрегированные показатели по тестовой выборке немного меньше показателей на тренировочной выборке"
      ]
    },
    {
      "cell_type": "markdown",
      "metadata": {
        "id": "sECdVVsHI_jd"
      },
      "source": [
        "### Исследование суммарной концентрации всех веществ на разных стадиях: в сырье, в черновом и финальном концентратах"
      ]
    },
    {
      "cell_type": "code",
      "execution_count": null,
      "metadata": {
        "id": "cCMM8QQ1I_jd"
      },
      "outputs": [],
      "source": [
        "sum_concentration = pd.DataFrame()\n",
        "sum_concentration['rougher_input'] = df_train_new['rougher.input.feed_ag'] +\\\n",
        "    df_train_new['rougher.input.feed_pb'] + df_train_new['rougher.input.feed_au']      \n",
        "sum_concentration['rougher_output'] = df_train_new['rougher.output.concentrate_ag'] +\\\n",
        "    df_train_new['rougher.output.concentrate_pb'] + df_train_new['rougher.output.concentrate_au']\n",
        "sum_concentration['final'] = df_train_new['final.output.concentrate_ag'] +\\\n",
        "    df_train_new['final.output.concentrate_pb'] + df_train_new['final.output.concentrate_au']"
      ]
    },
    {
      "cell_type": "code",
      "execution_count": null,
      "metadata": {
        "id": "mXlfgee6I_jd",
        "outputId": "835cf17c-41af-47ca-b1ef-a6060863133b"
      },
      "outputs": [
        {
          "data": {
            "text/plain": [
              "rougher_input       0\n",
              "rougher_output    297\n",
              "final              58\n",
              "dtype: int64"
            ]
          },
          "execution_count": 23,
          "metadata": {},
          "output_type": "execute_result"
        }
      ],
      "source": [
        "sum_concentration[sum_concentration == 0].count()"
      ]
    },
    {
      "cell_type": "code",
      "execution_count": null,
      "metadata": {
        "id": "QLE9pS9WI_jd"
      },
      "outputs": [],
      "source": [
        "list_of_0 = set(sum_concentration[sum_concentration.rougher_output == 0].index) ^\\\n",
        "            set(sum_concentration[sum_concentration.final == 0].index)\n",
        "list_of_not_0 = set(df_train_new.index) - list_of_0\n",
        "\n",
        "df_train_new = df_train_new.iloc[list(list_of_not_0)]"
      ]
    },
    {
      "cell_type": "code",
      "execution_count": null,
      "metadata": {
        "id": "QqfXA6cFI_je"
      },
      "outputs": [],
      "source": [
        "sum_concentration = pd.DataFrame()\n",
        "sum_concentration['rougher_input'] = df_train_new['rougher.input.feed_ag'] +\\\n",
        "    df_train_new['rougher.input.feed_pb'] + df_train_new['rougher.input.feed_au']      \n",
        "sum_concentration['rougher_output'] = df_train_new['rougher.output.concentrate_ag'] +\\\n",
        "    df_train_new['rougher.output.concentrate_pb'] + df_train_new['rougher.output.concentrate_au']\n",
        "sum_concentration['final'] = df_train_new['final.output.concentrate_ag'] +\\\n",
        "    df_train_new['final.output.concentrate_pb'] + df_train_new['final.output.concentrate_au']"
      ]
    },
    {
      "cell_type": "code",
      "execution_count": null,
      "metadata": {
        "id": "vbNTmc_bI_je",
        "outputId": "585b4c2c-6177-4b0a-d4ad-0ceed8cbab0d"
      },
      "outputs": [
        {
          "data": {
            "image/png": "[encoded data removed]",
            "text/plain": [
              "<Figure size 1152x1152 with 1 Axes>"
            ]
          },
          "metadata": {
            "needs_background": "light"
          },
          "output_type": "display_data"
        }
      ],
      "source": [
        "# Настройка размеров подложки\n",
        "plt.figure(figsize=(16, 16))\n",
        "\n",
        "# Вывод графиков\n",
        "plt.subplot(3, 2, 1)\n",
        "sum_concentration['rougher_input'].hist(bins=100, alpha=0.5, label='rougher_input')\n",
        "plt.subplot(3, 2, 1)\n",
        "sum_concentration['rougher_output'].hist(bins=100, alpha=0.5, label='rougher_output')\n",
        "plt.subplot(3, 2, 1)\n",
        "sum_concentration['final'].hist(bins=100, alpha=0.5, label='final')\n",
        "plt.title('sum_concentration_of_metal', fontsize=15)\n",
        "plt.legend()\n",
        "\n",
        "warnings.filterwarnings('ignore')"
      ]
    },
    {
      "cell_type": "code",
      "execution_count": null,
      "metadata": {
        "id": "5YdejNKII_je",
        "outputId": "87978e8d-eaa9-4818-a337-f039b227c2b8"
      },
      "outputs": [
        {
          "name": "stdout",
          "output_type": "stream",
          "text": [
            "ag_function   rougher_input     rougher_output     final\n",
            "mean        19.92163325343002 39.711688510282706 59.50963782433263\n",
            "median      19.155503539005956 39.92264543200895 60.247172755429844\n",
            "var         19.545353964189378 15.846704971385407 17.859667066106446\n"
          ]
        }
      ],
      "source": [
        "print('ag_function','  rougher_input', '    rougher_output', '    final')\n",
        "print('mean       ', sum_concentration['rougher_input'].mean(), sum_concentration['rougher_output'].mean(), sum_concentration['final'].mean())\n",
        "print('median     ', sum_concentration['rougher_input'].median(), sum_concentration['rougher_output'].median(), sum_concentration['final'].median())\n",
        "print('var        ', sum_concentration['rougher_input'].var(), sum_concentration['rougher_output'].var(), sum_concentration['final'].var())"
      ]
    },
    {
      "cell_type": "markdown",
      "metadata": {
        "id": "otvvU3W-I_jf"
      },
      "source": [
        "Ссумарная концентрация веществ с каждым этапом очистки имеет убывающую среднюю стандартную величину отклонения распределения значений, как видно из графиков. При этом дисперсия этих величин достигает максимума после этапа флотации"
      ]
    },
    {
      "cell_type": "markdown",
      "metadata": {
        "id": "bdOkvpd9I_jf"
      },
      "source": [
        "## Модель"
      ]
    },
    {
      "cell_type": "markdown",
      "metadata": {
        "id": "wjhe18wbI_jf"
      },
      "source": [
        "### Функция вычисления итогового sMAPE"
      ]
    },
    {
      "cell_type": "code",
      "execution_count": null,
      "metadata": {
        "id": "kAoYx-HTI_jg"
      },
      "outputs": [],
      "source": [
        "def sMAPE(y, y_hat):\n",
        "    return (2/len(y)) * sum(abs(y - y_hat)/(abs(y) + abs(y_hat) + 0.001))\n",
        "# добавила 0,001 в знаменатель, так как в некоторых случаях встречаются 0-ый концентрации\n",
        "\n",
        "def sMAPE_final(target_rougher, prediction_rougher, target_final, prediction_final):\n",
        "    sMAPE_r = sMAPE(target_rougher, prediction_rougher)\n",
        "    sMAPE_f = sMAPE(target_final, prediction_final)\n",
        "    sMAPE_final = sMAPE_r * 0.25 + sMAPE_f * 0.75\n",
        "    return sMAPE_final"
      ]
    },
    {
      "cell_type": "markdown",
      "metadata": {
        "id": "lOdML9QUI_jh"
      },
      "source": [
        "### Обучение моделей и оценка их качества кросс-валидацией"
      ]
    },
    {
      "cell_type": "code",
      "execution_count": null,
      "metadata": {
        "id": "Xg2Y4u1wI_jh"
      },
      "outputs": [],
      "source": [
        "# список колонок, отсутствующих в тестовых данных\n",
        "c = list(set(df_train_new.columns) - set(df_test_new.columns))"
      ]
    },
    {
      "cell_type": "code",
      "execution_count": null,
      "metadata": {
        "id": "LRuG-Iz2I_jh"
      },
      "outputs": [],
      "source": [
        "# подготовка параметров\n",
        "\n",
        "features_train = df_train_new.drop(c, axis=1)\n",
        "features_train = features_train.drop(['date'], axis=1)\n",
        "target_train_rougher = df_train_new['rougher.output.recovery']\n",
        "target_train_final = df_train_new['final.output.recovery']\n",
        "   \n",
        "features_test = df_test_new.drop(['date'], axis=1)\n",
        "\n",
        "features_full = df_full_new.drop(c, axis=1)\n",
        "features_full = features_full.drop(['date'], axis=1)\n",
        "target_full_rougher = df_full_new['rougher.output.recovery']\n",
        "target_full_final = df_full_new['final.output.recovery']"
      ]
    },
    {
      "cell_type": "code",
      "execution_count": null,
      "metadata": {
        "id": "7mQ5wBXLI_ji"
      },
      "outputs": [],
      "source": [
        "# нормализация\n",
        "\n",
        "numeric = list(features_train.columns)\n",
        "\n",
        "scaler = StandardScaler()\n",
        "scaler.fit(features_train[numeric])\n",
        "features_train_norm = scaler.transform(features_train[numeric])\n",
        "\n",
        "scaler = StandardScaler()\n",
        "scaler.fit(features_test[numeric])\n",
        "features_test_norm = scaler.transform(features_test[numeric])\n",
        "\n",
        "scaler = StandardScaler()\n",
        "scaler.fit(features_full[numeric])\n",
        "features_full_norm = scaler.transform(features_full[numeric])"
      ]
    },
    {
      "cell_type": "markdown",
      "metadata": {
        "id": "mnQb-4HlI_ji"
      },
      "source": [
        "#### линейная регрессия"
      ]
    },
    {
      "cell_type": "code",
      "execution_count": null,
      "metadata": {
        "id": "LiNPfHS4I_ji",
        "outputId": "dc72bdc0-3636-404b-ba4e-363a26fb6ba3"
      },
      "outputs": [
        {
          "name": "stdout",
          "output_type": "stream",
          "text": [
            "кросс-валидация после флотации -117.82693197991436\n",
            "кросс-валидация после очистки -125.01698948399302\n"
          ]
        }
      ],
      "source": [
        "lmodel_rougher = LinearRegression()\n",
        "lmodel_rougher.fit(features_train_norm, target_train_rougher) \n",
        "print('кросс-валидация после флотации', cross_val_score(lmodel_rougher, features_train_norm, target_train_rougher, \n",
        "                                                        scoring='neg_mean_squared_error', cv=3).mean())\n",
        "\n",
        "lmodel_final = LinearRegression()\n",
        "lmodel_final.fit(features_train_norm, target_train_final) \n",
        "print('кросс-валидация после очистки', cross_val_score(lmodel_final, features_train_norm, target_train_final, \n",
        "                                                       scoring='neg_mean_squared_error', cv=3).mean())"
      ]
    },
    {
      "cell_type": "code",
      "execution_count": null,
      "metadata": {
        "id": "t6Tyc3urI_jj",
        "outputId": "69657f14-e8c1-4145-f736-f385adb27df8"
      },
      "outputs": [
        {
          "data": {
            "text/plain": [
              "0.07258316170148509"
            ]
          },
          "execution_count": 52,
          "metadata": {},
          "output_type": "execute_result"
        }
      ],
      "source": [
        "sMAPE_final_linear = sMAPE_final(target_train_rougher, lmodel_rougher.predict(features_train_norm), \n",
        "                                 target_train_final, lmodel_final.predict(features_train_norm))\n",
        "sMAPE_final_linear"
      ]
    },
    {
      "cell_type": "markdown",
      "metadata": {
        "id": "xhjqHqIuI_jj"
      },
      "source": [
        "#### решающее дерево"
      ]
    },
    {
      "cell_type": "code",
      "execution_count": null,
      "metadata": {
        "id": "GxUgg2pfI_jj",
        "outputId": "357e8921-aac9-430b-972e-700f2f18ac42"
      },
      "outputs": [
        {
          "name": "stdout",
          "output_type": "stream",
          "text": [
            "кросс-валидация после флотации -104.95880977497914\n",
            "кросс-валидация после очистки -204.82988375765873\n"
          ]
        }
      ],
      "source": [
        "tmodel_rougher = DecisionTreeRegressor(random_state=12345, max_depth=55)\n",
        "tmodel_rougher.fit(features_train_norm, target_train_rougher)\n",
        "print('кросс-валидация после флотации', cross_val_score(tmodel_rougher, features_train_norm, target_train_rougher, \n",
        "                                                        scoring='neg_mean_squared_error', cv=3).mean())\n",
        "\n",
        "tmodel_final = DecisionTreeRegressor(random_state=12345, max_depth=55)\n",
        "tmodel_final.fit(features_train_norm, target_train_final)\n",
        "print('кросс-валидация после очистки', cross_val_score(tmodel_final, features_train_norm, target_train_final, \n",
        "                                                        scoring='neg_mean_squared_error', cv=3).mean())\n",
        "sMAPE_final_linear = sMAPE_final(target_train_rougher, lmodel_rougher.predict(features_train_norm), \n",
        "                                 target_train_final, lmodel_final.predict(features_train_norm))\n"
      ]
    },
    {
      "cell_type": "code",
      "execution_count": null,
      "metadata": {
        "id": "GKiDUIVpI_jk",
        "outputId": "390b9ca2-cd35-415c-db85-1b213a0f1011"
      },
      "outputs": [
        {
          "data": {
            "text/plain": [
              "9.032088561193939e-21"
            ]
          },
          "execution_count": 54,
          "metadata": {},
          "output_type": "execute_result"
        }
      ],
      "source": [
        "sMAPE_final_linear = sMAPE_final(target_train_rougher, tmodel_rougher.predict(features_train_norm), \n",
        "                                 target_train_final, tmodel_final.predict(features_train_norm))\n",
        "sMAPE_final_linear"
      ]
    },
    {
      "cell_type": "markdown",
      "metadata": {
        "id": "h9URNCf7I_jk"
      },
      "source": [
        "#### случайный лес"
      ]
    },
    {
      "cell_type": "code",
      "execution_count": null,
      "metadata": {
        "id": "WrXbmUD4I_jl",
        "outputId": "c16c5f6b-45f2-4ae5-98d4-628aa173f4a7"
      },
      "outputs": [
        {
          "data": {
            "text/plain": [
              "{'n_estimators': 30, 'max_depth': 70}"
            ]
          },
          "execution_count": 86,
          "metadata": {},
          "output_type": "execute_result"
        }
      ],
      "source": [
        "rmodel_rougher = RandomForestRegressor(random_state=12345, n_estimators=20, max_depth=55)\n",
        "distributions = {'n_estimators': [15, 20, 25, 30], 'max_depth': [50, 55, 60, 65, 70]}\n",
        "clf = RandomizedSearchCV(rmodel_rougher, distributions, random_state=0)\n",
        "search = clf.fit(features_train_norm, target_train_rougher)\n",
        "search.best_params_"
      ]
    },
    {
      "cell_type": "code",
      "execution_count": null,
      "metadata": {
        "id": "glaxu_r6I_jl",
        "outputId": "c888f17f-9fc7-429a-995f-89bae4088afa"
      },
      "outputs": [
        {
          "name": "stdout",
          "output_type": "stream",
          "text": [
            "кросс-валидация после флотации -79.80647468281988\n"
          ]
        }
      ],
      "source": [
        "rmodel_rougher_ = RandomForestRegressor(random_state=12345, n_estimators=30, max_depth=70)\n",
        "rmodel_rougher_.fit(features_train_norm, target_train_rougher)\n",
        "print('кросс-валидация после флотации', cross_val_score(rmodel_rougher_, features_train_norm, target_train_rougher, \n",
        "                                                        scoring='neg_mean_squared_error', cv=3).mean())"
      ]
    },
    {
      "cell_type": "code",
      "execution_count": null,
      "metadata": {
        "id": "De1_JWe3I_jl",
        "outputId": "1fc94933-2d95-45b6-ab7a-6db295b4d6e5"
      },
      "outputs": [
        {
          "data": {
            "text/plain": [
              "0.18522696890068338"
            ]
          },
          "execution_count": 89,
          "metadata": {},
          "output_type": "execute_result"
        }
      ],
      "source": [
        "sMAPE_final_linear = sMAPE_final(target_train_rougher, rmodel_rougher_.predict(features_train_norm), \n",
        "                                 target_train_final, rmodel_rougher_.predict(features_train_norm))\n",
        "sMAPE_final_linear"
      ]
    },
    {
      "cell_type": "code",
      "execution_count": null,
      "metadata": {
        "id": "Jm88-iaBI_jm",
        "outputId": "282b6a3f-0168-41a4-9b79-5d0cfa4c4b06"
      },
      "outputs": [
        {
          "data": {
            "text/plain": [
              "{'n_estimators': 20, 'max_depth': 70}"
            ]
          },
          "execution_count": 90,
          "metadata": {},
          "output_type": "execute_result"
        }
      ],
      "source": [
        "rmodel_final = RandomForestRegressor(random_state=12345, n_estimators=20, max_depth=55)\n",
        "clf_final = RandomizedSearchCV(rmodel_final, distributions, random_state=0)\n",
        "search_final = clf_final.fit(features_train_norm, target_train_final)\n",
        "search_final.best_params_"
      ]
    },
    {
      "cell_type": "code",
      "execution_count": null,
      "metadata": {
        "id": "fRfAu8SkI_jm",
        "outputId": "dbe008a1-2894-49a9-cb85-e31ebac2ece3"
      },
      "outputs": [
        {
          "name": "stdout",
          "output_type": "stream",
          "text": [
            "кросс-валидация после очистки -95.08527429299725\n"
          ]
        }
      ],
      "source": [
        "rmodel_final_ = RandomForestRegressor(random_state=12345, n_estimators=20, max_depth=70)\n",
        "rmodel_final_.fit(features_train_norm, target_train_final)\n",
        "print('кросс-валидация после очистки', cross_val_score(rmodel_final_, features_train_norm, target_train_final, \n",
        "                                                       scoring='neg_mean_squared_error', cv=3).mean())"
      ]
    },
    {
      "cell_type": "code",
      "execution_count": null,
      "metadata": {
        "id": "YFyuuRKrI_jm",
        "outputId": "9fa8d2cf-4f18-4cc9-ecb4-677647555aed"
      },
      "outputs": [
        {
          "data": {
            "text/plain": [
              "0.07778191803279386"
            ]
          },
          "execution_count": 93,
          "metadata": {},
          "output_type": "execute_result"
        }
      ],
      "source": [
        "sMAPE_final_linear = sMAPE_final(target_train_rougher, search_final.predict(features_train_norm), \n",
        "                                 target_train_final, search_final.predict(features_train_norm))\n",
        "sMAPE_final_linear"
      ]
    },
    {
      "cell_type": "markdown",
      "metadata": {
        "id": "r-XvFJvYI_jm"
      },
      "source": [
        "Среди трех моделей лучше всего, по метрике средней квадратичной ошибки, себя показала модель случайного леса. Наименьшее sMAPE_final у модели решающего дерева. Однако этот результат выглядит не правдоподобно. Модель явно переобучилась"
      ]
    },
    {
      "cell_type": "markdown",
      "metadata": {
        "id": "dF6p3Fl-I_jn"
      },
      "source": [
        "### Проверка модели на тестовой выборке"
      ]
    },
    {
      "cell_type": "code",
      "execution_count": null,
      "metadata": {
        "id": "ne64URwjI_jo"
      },
      "outputs": [],
      "source": [
        "rmodel_rougher_prediction_test = rmodel_rougher.predict(features_test_norm)\n",
        "rmodel_final_prediction_test = rmodel_final.predict(features_test_norm)"
      ]
    },
    {
      "cell_type": "markdown",
      "metadata": {
        "id": "_KRcOMVBI_jo"
      },
      "source": [
        "я не поняла, как можно проверить работу моделей на тестовой выборке, ведь там нет целевых признаков. И если rougher.output.recovery (но все rougher.output нужно чем то тоже заменить) еще можно посчитать, то final.output.recovery уже явно не получится. Поэтому я посчитала sMAPE_final по полной выборке."
      ]
    },
    {
      "cell_type": "code",
      "execution_count": null,
      "metadata": {
        "id": "JiC7wsDAI_jo",
        "outputId": "85cd2df8-c868-431e-d804-3882cf11a5e5"
      },
      "outputs": [
        {
          "data": {
            "text/plain": [
              "0.12491398234048452"
            ]
          },
          "execution_count": 107,
          "metadata": {},
          "output_type": "execute_result"
        }
      ],
      "source": [
        "sMAPE_final_full = sMAPE_final(target_full_rougher, tmodel_rougher.predict(features_full_norm), \n",
        "                                 target_full_final, tmodel_final.predict(features_full_norm))\n",
        "sMAPE_final_full"
      ]
    },
    {
      "cell_type": "code",
      "execution_count": null,
      "metadata": {
        "id": "utW3zjGDI_jo",
        "outputId": "ffb9675b-db52-4bd0-9896-545aba04e739"
      },
      "outputs": [
        {
          "data": {
            "text/plain": [
              "0.08150071858300699"
            ]
          },
          "execution_count": 109,
          "metadata": {},
          "output_type": "execute_result"
        }
      ],
      "source": [
        "sMAPE_final_full = sMAPE_final(target_full_rougher, rmodel_rougher_.predict(features_full_norm), \n",
        "                                 target_full_final, search_final.predict(features_full_norm))\n",
        "sMAPE_final_full"
      ]
    },
    {
      "cell_type": "code",
      "execution_count": null,
      "metadata": {
        "id": "ETgICJzVI_jp",
        "outputId": "64e85612-5e2a-4687-d7bb-f6ae93643ec5"
      },
      "outputs": [
        {
          "name": "stdout",
          "output_type": "stream",
          "text": [
            "кросс-валидация после очистки -86.91218068934047\n"
          ]
        }
      ],
      "source": [
        "dummy_regr = DummyRegressor(strategy=\"mean\")\n",
        "dummy_regr.fit(features_train_norm, target_train_rougher)\n",
        "print('кросс-валидация после очистки', cross_val_score(dummy_regr, features_train_norm, target_train_rougher, \n",
        "                                                       scoring='neg_mean_squared_error', cv=3).mean())"
      ]
    },
    {
      "cell_type": "code",
      "execution_count": null,
      "metadata": {
        "id": "kepzDpjZI_jp",
        "outputId": "7d97119e-9e68-4257-d1f2-a3e052449840"
      },
      "outputs": [
        {
          "data": {
            "text/plain": [
              "0.21107475731000594"
            ]
          },
          "execution_count": 104,
          "metadata": {},
          "output_type": "execute_result"
        }
      ],
      "source": [
        "sMAPE_final_full = sMAPE_final(target_full_rougher, dummy_regr.predict(features_full_norm), \n",
        "                                 target_full_final, dummy_regr.predict(features_full_norm))\n",
        "sMAPE_final_full"
      ]
    },
    {
      "cell_type": "code",
      "execution_count": null,
      "metadata": {
        "id": "uGzeWN3zI_jq",
        "outputId": "0ba7ce3d-91c7-410a-afed-8f2d73def981"
      },
      "outputs": [
        {
          "name": "stdout",
          "output_type": "stream",
          "text": [
            "кросс-валидация после очистки -96.32362949009269\n"
          ]
        }
      ],
      "source": [
        "dummy_regr_final = DummyRegressor(strategy=\"mean\")\n",
        "dummy_regr_final.fit(features_train_norm, target_train_final)\n",
        "print('кросс-валидация после очистки', cross_val_score(dummy_regr_final, features_train_norm, target_train_final, \n",
        "                                                       scoring='neg_mean_squared_error', cv=3).mean())"
      ]
    },
    {
      "cell_type": "code",
      "execution_count": null,
      "metadata": {
        "id": "zx43tiH-I_jq",
        "outputId": "90baa7b0-12cb-41fc-f7ae-0f732fbb59db"
      },
      "outputs": [
        {
          "data": {
            "text/plain": [
              "0.15056836845240104"
            ]
          },
          "execution_count": 106,
          "metadata": {},
          "output_type": "execute_result"
        }
      ],
      "source": [
        "sMAPE_final_full = sMAPE_final(target_full_rougher, dummy_regr_final.predict(features_full_norm), \n",
        "                                 target_full_final, dummy_regr_final.predict(features_full_norm))\n",
        "sMAPE_final_full"
      ]
    },
    {
      "cell_type": "markdown",
      "metadata": {
        "id": "LSHZhvp3I_jq"
      },
      "source": [
        "Как и предполагалось, модель решающего дерева переобучилась, и значение sMAPE_final на полной выборке получилось 3,56%, при том, что большую часть датасета модель знаест на 100%. А вот модель случайного леса показала неплохой результат - 2,8% (при 2,36 на тренировочной выборке). Значит что на тестовой выборке она справилась не сильно хуже, чем на тренировочной. \n",
        "\n",
        "Спасибо за работу)\n",
        "Хорошего дня! "
      ]
    }
  ],
  "metadata": {
    "ExecuteTimeLog": [
      {
        "duration": 1479,
        "start_time": "2022-06-19T21:21:09.470Z"
      },
      {
        "duration": 1337,
        "start_time": "2022-06-19T21:21:12.410Z"
      },
      {
        "duration": 698,
        "start_time": "2022-06-19T21:21:35.083Z"
      },
      {
        "duration": 14,
        "start_time": "2022-06-19T21:21:49.296Z"
      },
      {
        "duration": 3070,
        "start_time": "2022-06-19T21:22:06.044Z"
      },
      {
        "duration": 42,
        "start_time": "2022-06-19T21:22:35.243Z"
      },
      {
        "duration": 19,
        "start_time": "2022-06-19T21:23:01.303Z"
      },
      {
        "duration": 76,
        "start_time": "2022-06-19T21:23:15.088Z"
      },
      {
        "duration": 1592,
        "start_time": "2022-06-20T11:57:57.018Z"
      },
      {
        "duration": 4075,
        "start_time": "2022-06-20T11:58:05.744Z"
      },
      {
        "duration": 27,
        "start_time": "2022-06-20T11:58:10.700Z"
      },
      {
        "duration": 71,
        "start_time": "2022-06-20T11:58:11.092Z"
      },
      {
        "duration": 49,
        "start_time": "2022-06-20T11:58:20.447Z"
      },
      {
        "duration": 11,
        "start_time": "2022-06-20T11:58:40.065Z"
      },
      {
        "duration": 73,
        "start_time": "2022-06-20T11:58:57.697Z"
      },
      {
        "duration": 327,
        "start_time": "2022-06-20T11:59:03.313Z"
      },
      {
        "duration": 22,
        "start_time": "2022-06-20T11:59:15.448Z"
      },
      {
        "duration": 22,
        "start_time": "2022-06-20T11:59:31.818Z"
      },
      {
        "duration": 17,
        "start_time": "2022-06-20T12:05:04.535Z"
      },
      {
        "duration": 51,
        "start_time": "2022-06-20T12:11:07.205Z"
      },
      {
        "duration": 76,
        "start_time": "2022-06-20T12:11:17.215Z"
      },
      {
        "duration": 709,
        "start_time": "2022-06-20T12:11:23.137Z"
      },
      {
        "duration": 6,
        "start_time": "2022-06-20T12:11:36.037Z"
      },
      {
        "duration": 9,
        "start_time": "2022-06-20T12:11:45.106Z"
      },
      {
        "duration": 9,
        "start_time": "2022-06-20T12:14:21.363Z"
      },
      {
        "duration": 51,
        "start_time": "2022-06-20T12:14:33.842Z"
      },
      {
        "duration": 383,
        "start_time": "2022-06-20T12:14:59.123Z"
      },
      {
        "duration": 369,
        "start_time": "2022-06-20T12:18:13.447Z"
      },
      {
        "duration": 29,
        "start_time": "2022-06-20T12:18:18.583Z"
      },
      {
        "duration": 21,
        "start_time": "2022-06-20T12:18:31.279Z"
      },
      {
        "duration": 675,
        "start_time": "2022-06-20T12:18:54.701Z"
      },
      {
        "duration": 1583,
        "start_time": "2022-06-20T12:19:06.356Z"
      },
      {
        "duration": 2031,
        "start_time": "2022-06-20T12:19:32.213Z"
      },
      {
        "duration": 28,
        "start_time": "2022-06-20T12:19:58.382Z"
      },
      {
        "duration": 43,
        "start_time": "2022-06-20T12:20:05.905Z"
      },
      {
        "duration": 603,
        "start_time": "2022-06-20T12:21:40.222Z"
      },
      {
        "duration": 17,
        "start_time": "2022-06-20T12:25:12.611Z"
      },
      {
        "duration": 20,
        "start_time": "2022-06-20T12:29:14.498Z"
      },
      {
        "duration": 7,
        "start_time": "2022-06-20T12:32:17.546Z"
      },
      {
        "duration": 6,
        "start_time": "2022-06-20T12:32:35.393Z"
      },
      {
        "duration": 943,
        "start_time": "2022-06-20T12:35:54.488Z"
      },
      {
        "duration": 16,
        "start_time": "2022-06-20T12:36:15.307Z"
      },
      {
        "duration": 66,
        "start_time": "2022-06-20T12:39:04.393Z"
      },
      {
        "duration": 18,
        "start_time": "2022-06-20T12:39:14.031Z"
      },
      {
        "duration": 42,
        "start_time": "2022-06-20T12:39:19.809Z"
      },
      {
        "duration": 123,
        "start_time": "2022-06-20T12:39:56.558Z"
      },
      {
        "duration": 9,
        "start_time": "2022-06-20T12:40:12.036Z"
      },
      {
        "duration": 7,
        "start_time": "2022-06-20T12:41:45.557Z"
      },
      {
        "duration": 7,
        "start_time": "2022-06-20T12:42:34.580Z"
      },
      {
        "duration": 12,
        "start_time": "2022-06-20T12:42:59.158Z"
      },
      {
        "duration": 26,
        "start_time": "2022-06-20T12:43:10.982Z"
      },
      {
        "duration": 19,
        "start_time": "2022-06-20T12:44:05.019Z"
      },
      {
        "duration": 11,
        "start_time": "2022-06-20T12:45:46.116Z"
      },
      {
        "duration": 14,
        "start_time": "2022-06-20T12:47:26.578Z"
      },
      {
        "duration": 40,
        "start_time": "2022-06-20T12:47:52.735Z"
      },
      {
        "duration": 14,
        "start_time": "2022-06-20T12:47:57.039Z"
      },
      {
        "duration": 15,
        "start_time": "2022-06-20T12:51:48.580Z"
      },
      {
        "duration": 1580,
        "start_time": "2022-06-20T12:54:37.394Z"
      },
      {
        "duration": 1575,
        "start_time": "2022-06-20T12:55:39.040Z"
      },
      {
        "duration": 1692,
        "start_time": "2022-06-20T12:56:21.531Z"
      },
      {
        "duration": 1658,
        "start_time": "2022-06-20T12:58:03.976Z"
      },
      {
        "duration": 1612,
        "start_time": "2022-06-20T12:58:38.553Z"
      },
      {
        "duration": 1683,
        "start_time": "2022-06-20T13:05:29.937Z"
      },
      {
        "duration": 2077,
        "start_time": "2022-06-20T13:06:03.649Z"
      },
      {
        "duration": 48,
        "start_time": "2022-06-21T11:25:29.643Z"
      },
      {
        "duration": 1485,
        "start_time": "2022-06-21T11:25:39.489Z"
      },
      {
        "duration": 3902,
        "start_time": "2022-06-21T11:25:42.627Z"
      },
      {
        "duration": 66,
        "start_time": "2022-06-21T11:25:47.512Z"
      },
      {
        "duration": 12,
        "start_time": "2022-06-21T11:26:03.886Z"
      },
      {
        "duration": 14,
        "start_time": "2022-06-21T11:26:14.605Z"
      },
      {
        "duration": 7,
        "start_time": "2022-06-21T11:26:40.924Z"
      },
      {
        "duration": 23,
        "start_time": "2022-06-21T11:26:48.254Z"
      },
      {
        "duration": 989,
        "start_time": "2022-06-21T11:26:57.116Z"
      },
      {
        "duration": 10,
        "start_time": "2022-06-21T11:27:00.690Z"
      },
      {
        "duration": 10,
        "start_time": "2022-06-21T11:27:36.363Z"
      },
      {
        "duration": 7,
        "start_time": "2022-06-21T11:27:41.094Z"
      },
      {
        "duration": 8,
        "start_time": "2022-06-21T11:27:50.662Z"
      },
      {
        "duration": 6,
        "start_time": "2022-06-21T11:27:59.688Z"
      },
      {
        "duration": 7,
        "start_time": "2022-06-21T11:28:09.758Z"
      },
      {
        "duration": 8,
        "start_time": "2022-06-21T11:28:22.854Z"
      },
      {
        "duration": 5,
        "start_time": "2022-06-21T11:28:31.827Z"
      },
      {
        "duration": 4,
        "start_time": "2022-06-21T11:28:37.091Z"
      },
      {
        "duration": 4,
        "start_time": "2022-06-21T11:38:02.901Z"
      },
      {
        "duration": 5,
        "start_time": "2022-06-21T11:39:17.506Z"
      },
      {
        "duration": 6,
        "start_time": "2022-06-21T11:40:42.977Z"
      },
      {
        "duration": 6,
        "start_time": "2022-06-21T11:40:55.910Z"
      },
      {
        "duration": 4,
        "start_time": "2022-06-21T11:42:55.183Z"
      },
      {
        "duration": 5,
        "start_time": "2022-06-21T11:42:57.125Z"
      },
      {
        "duration": 6,
        "start_time": "2022-06-21T11:42:59.322Z"
      },
      {
        "duration": 89,
        "start_time": "2022-06-21T11:46:34.629Z"
      },
      {
        "duration": 232,
        "start_time": "2022-06-21T11:47:11.925Z"
      },
      {
        "duration": 75,
        "start_time": "2022-06-21T11:47:15.572Z"
      },
      {
        "duration": 2039137,
        "start_time": "2022-06-21T11:50:36.555Z"
      },
      {
        "duration": 85,
        "start_time": "2022-06-21T12:24:35.694Z"
      },
      {
        "duration": 1394,
        "start_time": "2022-06-21T14:11:39.125Z"
      },
      {
        "duration": 3,
        "start_time": "2022-06-21T14:12:01.909Z"
      },
      {
        "duration": 4069,
        "start_time": "2022-06-21T14:12:02.923Z"
      },
      {
        "duration": 990,
        "start_time": "2022-06-21T14:12:12.321Z"
      },
      {
        "duration": 247,
        "start_time": "2022-06-21T14:12:13.507Z"
      },
      {
        "duration": 429222,
        "start_time": "2022-06-21T14:12:27.178Z"
      },
      {
        "duration": 4,
        "start_time": "2022-06-21T14:19:36.401Z"
      },
      {
        "duration": 4,
        "start_time": "2022-06-21T14:19:47.228Z"
      },
      {
        "duration": 1531,
        "start_time": "2022-06-22T09:14:56.311Z"
      },
      {
        "duration": 3,
        "start_time": "2022-06-22T09:15:34.813Z"
      },
      {
        "duration": 2947,
        "start_time": "2022-06-22T09:15:36.845Z"
      },
      {
        "duration": 934,
        "start_time": "2022-06-22T09:15:43.539Z"
      },
      {
        "duration": 193,
        "start_time": "2022-06-22T09:15:46.558Z"
      },
      {
        "duration": 5,
        "start_time": "2022-06-22T09:15:50.962Z"
      },
      {
        "duration": 107,
        "start_time": "2022-06-22T09:15:53.818Z"
      },
      {
        "duration": 9,
        "start_time": "2022-06-22T09:15:54.176Z"
      },
      {
        "duration": 332,
        "start_time": "2022-06-22T09:16:11.521Z"
      },
      {
        "duration": 6,
        "start_time": "2022-06-22T09:16:15.505Z"
      },
      {
        "duration": 19,
        "start_time": "2022-06-22T09:16:16.630Z"
      },
      {
        "duration": 10,
        "start_time": "2022-06-22T09:16:18.011Z"
      },
      {
        "duration": 70,
        "start_time": "2022-06-22T09:16:32.422Z"
      },
      {
        "duration": 1077,
        "start_time": "2022-06-22T09:16:39.517Z"
      },
      {
        "duration": 16,
        "start_time": "2022-06-22T09:16:40.597Z"
      },
      {
        "duration": 18,
        "start_time": "2022-06-22T09:16:41.787Z"
      },
      {
        "duration": 4,
        "start_time": "2022-06-22T09:16:46.067Z"
      },
      {
        "duration": 6,
        "start_time": "2022-06-22T09:16:46.763Z"
      },
      {
        "duration": 4,
        "start_time": "2022-06-22T09:16:47.509Z"
      },
      {
        "duration": 3,
        "start_time": "2022-06-22T10:07:33.628Z"
      },
      {
        "duration": 1806,
        "start_time": "2022-06-22T10:07:35.708Z"
      },
      {
        "duration": 937,
        "start_time": "2022-06-22T10:07:39.918Z"
      },
      {
        "duration": 16,
        "start_time": "2022-06-22T10:07:41.209Z"
      },
      {
        "duration": 5,
        "start_time": "2022-06-22T10:07:45.614Z"
      },
      {
        "duration": 5,
        "start_time": "2022-06-22T10:07:46.396Z"
      },
      {
        "duration": 5,
        "start_time": "2022-06-22T10:07:47.169Z"
      },
      {
        "duration": 1823,
        "start_time": "2022-06-22T10:07:50.115Z"
      },
      {
        "duration": 2422,
        "start_time": "2022-06-22T10:07:59.947Z"
      },
      {
        "duration": 2649,
        "start_time": "2022-06-22T10:08:26.680Z"
      },
      {
        "duration": 1211,
        "start_time": "2022-06-22T10:48:41.596Z"
      },
      {
        "duration": 15,
        "start_time": "2022-06-22T10:49:18.088Z"
      },
      {
        "duration": 16,
        "start_time": "2022-06-22T10:49:26.510Z"
      },
      {
        "duration": 14,
        "start_time": "2022-06-22T10:49:49.504Z"
      },
      {
        "duration": 5,
        "start_time": "2022-06-22T10:50:14.000Z"
      },
      {
        "duration": 10,
        "start_time": "2022-06-22T10:52:58.232Z"
      },
      {
        "duration": 8,
        "start_time": "2022-06-22T10:53:37.101Z"
      },
      {
        "duration": 9,
        "start_time": "2022-06-22T10:53:48.926Z"
      },
      {
        "duration": 10,
        "start_time": "2022-06-22T10:54:00.718Z"
      },
      {
        "duration": 10,
        "start_time": "2022-06-22T10:54:06.277Z"
      },
      {
        "duration": 9,
        "start_time": "2022-06-22T10:54:10.917Z"
      },
      {
        "duration": 10,
        "start_time": "2022-06-22T10:54:30.601Z"
      },
      {
        "duration": 468,
        "start_time": "2022-06-22T10:56:27.000Z"
      },
      {
        "duration": 15,
        "start_time": "2022-06-22T10:57:35.954Z"
      },
      {
        "duration": 11,
        "start_time": "2022-06-22T10:57:57.104Z"
      },
      {
        "duration": 10,
        "start_time": "2022-06-22T10:58:25.022Z"
      },
      {
        "duration": 1550,
        "start_time": "2022-06-22T11:09:22.618Z"
      },
      {
        "duration": 9,
        "start_time": "2022-06-22T11:10:13.705Z"
      },
      {
        "duration": 677,
        "start_time": "2022-06-22T11:11:45.705Z"
      },
      {
        "duration": 10,
        "start_time": "2022-06-22T11:11:55.660Z"
      },
      {
        "duration": 12,
        "start_time": "2022-06-22T11:12:30.626Z"
      },
      {
        "duration": 683,
        "start_time": "2022-06-22T11:12:32.989Z"
      },
      {
        "duration": 13,
        "start_time": "2022-06-22T11:12:37.280Z"
      },
      {
        "duration": 5,
        "start_time": "2022-06-22T11:14:32.749Z"
      },
      {
        "duration": 5,
        "start_time": "2022-06-22T11:14:39.297Z"
      },
      {
        "duration": 5,
        "start_time": "2022-06-22T11:14:52.140Z"
      },
      {
        "duration": 6,
        "start_time": "2022-06-22T11:15:56.021Z"
      },
      {
        "duration": 6,
        "start_time": "2022-06-22T11:16:04.009Z"
      },
      {
        "duration": 12,
        "start_time": "2022-06-22T11:16:46.201Z"
      },
      {
        "duration": 3,
        "start_time": "2022-06-22T11:38:45.725Z"
      },
      {
        "duration": 5,
        "start_time": "2022-06-22T11:43:55.007Z"
      },
      {
        "duration": 6,
        "start_time": "2022-06-22T12:32:50.817Z"
      },
      {
        "duration": 5,
        "start_time": "2022-06-22T12:37:59.613Z"
      },
      {
        "duration": 9,
        "start_time": "2022-06-22T12:38:22.934Z"
      },
      {
        "duration": 12,
        "start_time": "2022-06-22T12:42:16.678Z"
      },
      {
        "duration": 5,
        "start_time": "2022-06-22T12:42:18.165Z"
      },
      {
        "duration": 15,
        "start_time": "2022-06-22T12:42:19.481Z"
      },
      {
        "duration": 7,
        "start_time": "2022-06-22T12:42:30.856Z"
      },
      {
        "duration": 6,
        "start_time": "2022-06-22T12:42:34.934Z"
      },
      {
        "duration": 5,
        "start_time": "2022-06-22T12:45:37.332Z"
      },
      {
        "duration": 6,
        "start_time": "2022-06-22T12:45:38.117Z"
      },
      {
        "duration": 5,
        "start_time": "2022-06-22T12:45:39.295Z"
      },
      {
        "duration": 4,
        "start_time": "2022-06-22T12:53:17.907Z"
      },
      {
        "duration": 14,
        "start_time": "2022-06-22T12:53:54.868Z"
      },
      {
        "duration": 4,
        "start_time": "2022-06-22T13:01:54.796Z"
      },
      {
        "duration": 10,
        "start_time": "2022-06-22T13:02:17.797Z"
      },
      {
        "duration": 15,
        "start_time": "2022-06-22T13:02:21.892Z"
      },
      {
        "duration": 8,
        "start_time": "2022-06-22T13:02:49.726Z"
      },
      {
        "duration": 97,
        "start_time": "2022-06-22T13:02:54.496Z"
      },
      {
        "duration": 35,
        "start_time": "2022-06-22T13:03:33.525Z"
      },
      {
        "duration": 6,
        "start_time": "2022-06-22T13:03:50.857Z"
      },
      {
        "duration": 850,
        "start_time": "2022-06-22T13:03:51.692Z"
      },
      {
        "duration": 2848,
        "start_time": "2022-06-22T13:04:21.924Z"
      },
      {
        "duration": 7123,
        "start_time": "2022-06-22T13:09:14.826Z"
      },
      {
        "duration": 6628,
        "start_time": "2022-06-22T13:09:35.123Z"
      },
      {
        "duration": 29,
        "start_time": "2022-06-22T13:31:39.934Z"
      },
      {
        "duration": 17715,
        "start_time": "2022-06-22T13:35:39.215Z"
      },
      {
        "duration": 17955,
        "start_time": "2022-06-22T13:36:12.160Z"
      },
      {
        "duration": 8437,
        "start_time": "2022-06-22T13:44:39.057Z"
      },
      {
        "duration": 22,
        "start_time": "2022-06-22T13:49:05.338Z"
      },
      {
        "duration": 13,
        "start_time": "2022-06-22T13:49:14.450Z"
      },
      {
        "duration": 1083958,
        "start_time": "2022-06-22T13:49:19.035Z"
      },
      {
        "duration": 24,
        "start_time": "2022-06-22T14:09:29.582Z"
      },
      {
        "duration": 13,
        "start_time": "2022-06-22T14:09:44.603Z"
      },
      {
        "duration": 72907,
        "start_time": "2022-06-22T14:10:07.808Z"
      },
      {
        "duration": 102347,
        "start_time": "2022-06-22T14:11:34.055Z"
      },
      {
        "duration": 6097,
        "start_time": "2022-06-22T14:29:37.255Z"
      },
      {
        "duration": 8659,
        "start_time": "2022-06-22T14:30:13.081Z"
      },
      {
        "duration": 98629,
        "start_time": "2022-06-22T14:30:22.727Z"
      },
      {
        "duration": 15,
        "start_time": "2022-06-22T14:59:34.735Z"
      },
      {
        "duration": 8,
        "start_time": "2022-06-22T15:00:53.313Z"
      },
      {
        "duration": 16,
        "start_time": "2022-06-22T15:01:03.284Z"
      },
      {
        "duration": 16,
        "start_time": "2022-06-22T15:01:28.712Z"
      },
      {
        "duration": 9,
        "start_time": "2022-06-22T15:04:26.391Z"
      },
      {
        "duration": 4343,
        "start_time": "2022-06-22T15:04:28.510Z"
      },
      {
        "duration": 8417,
        "start_time": "2022-06-22T15:04:34.873Z"
      },
      {
        "duration": 95776,
        "start_time": "2022-06-22T15:04:43.292Z"
      },
      {
        "duration": 8423,
        "start_time": "2022-06-22T15:06:41.755Z"
      },
      {
        "duration": 95305,
        "start_time": "2022-06-22T15:06:52.771Z"
      },
      {
        "duration": 2953,
        "start_time": "2022-06-22T15:09:51.609Z"
      },
      {
        "duration": 5625,
        "start_time": "2022-06-22T15:10:04.554Z"
      },
      {
        "duration": 5520,
        "start_time": "2022-06-22T15:10:19.349Z"
      },
      {
        "duration": 3342,
        "start_time": "2022-06-22T15:10:29.113Z"
      },
      {
        "duration": 5906,
        "start_time": "2022-06-22T15:10:46.931Z"
      },
      {
        "duration": 67984,
        "start_time": "2022-06-22T15:11:23.010Z"
      },
      {
        "duration": 16,
        "start_time": "2022-06-22T15:18:25.504Z"
      },
      {
        "duration": 4,
        "start_time": "2022-06-22T15:19:19.930Z"
      },
      {
        "duration": 4,
        "start_time": "2022-06-22T15:21:08.406Z"
      },
      {
        "duration": 17,
        "start_time": "2022-06-22T15:22:08.554Z"
      },
      {
        "duration": 3,
        "start_time": "2022-06-22T15:25:48.425Z"
      },
      {
        "duration": 22,
        "start_time": "2022-06-22T15:26:06.855Z"
      },
      {
        "duration": 3,
        "start_time": "2022-06-22T15:26:23.634Z"
      },
      {
        "duration": 662,
        "start_time": "2022-06-22T15:26:25.612Z"
      },
      {
        "duration": 3,
        "start_time": "2022-06-22T15:26:39.068Z"
      },
      {
        "duration": 4,
        "start_time": "2022-06-22T15:26:44.667Z"
      },
      {
        "duration": 11,
        "start_time": "2022-06-22T15:28:38.339Z"
      },
      {
        "duration": 4,
        "start_time": "2022-06-22T15:28:38.472Z"
      },
      {
        "duration": 3,
        "start_time": "2022-06-22T15:28:54.059Z"
      },
      {
        "duration": 5,
        "start_time": "2022-06-22T15:28:55.272Z"
      },
      {
        "duration": 3,
        "start_time": "2022-06-22T15:29:21.426Z"
      },
      {
        "duration": 4,
        "start_time": "2022-06-22T15:29:23.389Z"
      },
      {
        "duration": 8,
        "start_time": "2022-06-22T15:29:56.806Z"
      },
      {
        "duration": 39,
        "start_time": "2022-06-22T15:30:06.024Z"
      },
      {
        "duration": 14,
        "start_time": "2022-06-22T15:30:28.901Z"
      },
      {
        "duration": 7,
        "start_time": "2022-06-22T15:30:41.487Z"
      },
      {
        "duration": 12,
        "start_time": "2022-06-22T15:32:02.055Z"
      },
      {
        "duration": 33,
        "start_time": "2022-06-22T15:32:05.221Z"
      },
      {
        "duration": 4,
        "start_time": "2022-06-22T15:33:21.959Z"
      },
      {
        "duration": 10,
        "start_time": "2022-06-22T15:33:23.888Z"
      },
      {
        "duration": 30,
        "start_time": "2022-06-22T15:33:26.354Z"
      },
      {
        "duration": 7,
        "start_time": "2022-06-22T15:33:34.785Z"
      },
      {
        "duration": 30,
        "start_time": "2022-06-22T15:33:39.592Z"
      },
      {
        "duration": 13,
        "start_time": "2022-06-22T15:33:51.703Z"
      },
      {
        "duration": 24,
        "start_time": "2022-06-22T15:34:08.403Z"
      },
      {
        "duration": 4452,
        "start_time": "2022-06-22T15:34:33.205Z"
      },
      {
        "duration": 4356,
        "start_time": "2022-06-22T15:34:44.045Z"
      },
      {
        "duration": 7266,
        "start_time": "2022-06-22T15:34:55.789Z"
      },
      {
        "duration": 85224,
        "start_time": "2022-06-22T15:35:14.240Z"
      },
      {
        "duration": 11,
        "start_time": "2022-06-22T15:44:02.482Z"
      },
      {
        "duration": 5,
        "start_time": "2022-06-22T15:44:06.683Z"
      },
      {
        "duration": 12,
        "start_time": "2022-06-22T15:44:10.887Z"
      },
      {
        "duration": 31,
        "start_time": "2022-06-22T15:44:20.654Z"
      },
      {
        "duration": 6,
        "start_time": "2022-06-22T15:44:25.586Z"
      },
      {
        "duration": 35,
        "start_time": "2022-06-22T15:45:33.655Z"
      },
      {
        "duration": 202,
        "start_time": "2022-06-22T15:46:17.970Z"
      },
      {
        "duration": 6,
        "start_time": "2022-06-22T15:46:19.632Z"
      },
      {
        "duration": 11,
        "start_time": "2022-06-22T15:48:01.503Z"
      },
      {
        "duration": 51,
        "start_time": "2022-06-22T15:48:25.181Z"
      },
      {
        "duration": 49,
        "start_time": "2022-06-22T15:50:35.402Z"
      },
      {
        "duration": 94,
        "start_time": "2022-06-22T15:51:14.670Z"
      },
      {
        "duration": 59,
        "start_time": "2022-06-22T15:51:34.270Z"
      },
      {
        "duration": 42,
        "start_time": "2022-06-22T15:55:31.423Z"
      },
      {
        "duration": 5,
        "start_time": "2022-06-22T15:55:41.321Z"
      },
      {
        "duration": 21,
        "start_time": "2022-06-22T15:56:12.483Z"
      },
      {
        "duration": 6,
        "start_time": "2022-06-22T15:59:19.829Z"
      },
      {
        "duration": 6,
        "start_time": "2022-06-22T15:59:40.710Z"
      },
      {
        "duration": 51,
        "start_time": "2022-06-22T16:00:07.361Z"
      },
      {
        "duration": 46,
        "start_time": "2022-06-22T16:00:33.316Z"
      },
      {
        "duration": 5,
        "start_time": "2022-06-22T16:00:40.676Z"
      },
      {
        "duration": 4,
        "start_time": "2022-06-22T16:01:21.019Z"
      },
      {
        "duration": 7,
        "start_time": "2022-06-22T16:11:41.659Z"
      },
      {
        "duration": 6,
        "start_time": "2022-06-22T16:12:29.924Z"
      },
      {
        "duration": 5,
        "start_time": "2022-06-22T16:12:31.170Z"
      },
      {
        "duration": 6,
        "start_time": "2022-06-22T16:12:32.816Z"
      },
      {
        "duration": 6,
        "start_time": "2022-06-22T16:12:34.797Z"
      },
      {
        "duration": 34,
        "start_time": "2022-06-22T16:18:59.167Z"
      },
      {
        "duration": 10,
        "start_time": "2022-06-22T16:19:41.760Z"
      },
      {
        "duration": 7370,
        "start_time": "2022-06-22T16:20:02.191Z"
      },
      {
        "duration": 24,
        "start_time": "2022-06-22T16:20:31.842Z"
      },
      {
        "duration": 19,
        "start_time": "2022-06-22T16:21:29.456Z"
      },
      {
        "duration": 5,
        "start_time": "2022-06-22T16:21:55.277Z"
      },
      {
        "duration": 1837,
        "start_time": "2022-06-22T16:21:57.767Z"
      },
      {
        "duration": 1064,
        "start_time": "2022-06-22T16:22:00.896Z"
      },
      {
        "duration": 20,
        "start_time": "2022-06-22T16:22:01.973Z"
      },
      {
        "duration": 3,
        "start_time": "2022-06-22T16:22:35.775Z"
      },
      {
        "duration": 10,
        "start_time": "2022-06-22T16:22:37.820Z"
      },
      {
        "duration": 20,
        "start_time": "2022-06-22T16:22:43.699Z"
      },
      {
        "duration": 5,
        "start_time": "2022-06-22T16:24:06.001Z"
      },
      {
        "duration": 1923,
        "start_time": "2022-06-22T16:24:07.429Z"
      },
      {
        "duration": 1054,
        "start_time": "2022-06-22T16:24:14.973Z"
      },
      {
        "duration": 24,
        "start_time": "2022-06-22T16:24:18.179Z"
      },
      {
        "duration": 23,
        "start_time": "2022-06-22T16:24:20.171Z"
      },
      {
        "duration": 3,
        "start_time": "2022-06-22T16:24:48.421Z"
      },
      {
        "duration": 12,
        "start_time": "2022-06-22T16:24:49.751Z"
      },
      {
        "duration": 4315,
        "start_time": "2022-06-22T16:25:21.229Z"
      },
      {
        "duration": 3749,
        "start_time": "2022-06-22T16:25:35.809Z"
      },
      {
        "duration": 8,
        "start_time": "2022-06-22T16:28:11.006Z"
      },
      {
        "duration": 210,
        "start_time": "2022-06-22T16:28:41.742Z"
      },
      {
        "duration": 274,
        "start_time": "2022-06-22T16:29:32.587Z"
      },
      {
        "duration": 9,
        "start_time": "2022-06-22T16:30:03.366Z"
      },
      {
        "duration": 6,
        "start_time": "2022-06-22T16:30:22.036Z"
      },
      {
        "duration": 3298,
        "start_time": "2022-06-22T16:31:50.147Z"
      },
      {
        "duration": 12,
        "start_time": "2022-06-22T16:36:27.708Z"
      },
      {
        "duration": 4,
        "start_time": "2022-06-22T16:36:47.874Z"
      },
      {
        "duration": 7009,
        "start_time": "2022-06-22T16:38:07.500Z"
      },
      {
        "duration": 86609,
        "start_time": "2022-06-22T16:38:43.608Z"
      },
      {
        "duration": 7299,
        "start_time": "2022-06-22T16:40:10.219Z"
      },
      {
        "duration": 25,
        "start_time": "2022-06-22T16:45:05.606Z"
      },
      {
        "duration": 6,
        "start_time": "2022-06-22T16:45:14.588Z"
      },
      {
        "duration": 5550,
        "start_time": "2022-06-22T16:45:38.216Z"
      },
      {
        "duration": 7517,
        "start_time": "2022-06-22T16:46:01.176Z"
      },
      {
        "duration": 89758,
        "start_time": "2022-06-22T16:46:15.592Z"
      },
      {
        "duration": 4,
        "start_time": "2022-06-22T17:22:06.176Z"
      },
      {
        "duration": 1398,
        "start_time": "2022-06-22T17:22:43.310Z"
      },
      {
        "duration": 1918,
        "start_time": "2022-06-22T17:22:44.954Z"
      },
      {
        "duration": 1138,
        "start_time": "2022-06-22T17:22:48.354Z"
      },
      {
        "duration": 27,
        "start_time": "2022-06-22T17:22:49.932Z"
      },
      {
        "duration": 8,
        "start_time": "2022-06-22T17:22:55.542Z"
      },
      {
        "duration": 7,
        "start_time": "2022-06-22T17:22:56.382Z"
      },
      {
        "duration": 6,
        "start_time": "2022-06-22T17:22:57.271Z"
      },
      {
        "duration": 4,
        "start_time": "2022-06-22T17:23:12.601Z"
      },
      {
        "duration": 8,
        "start_time": "2022-06-22T17:23:14.848Z"
      },
      {
        "duration": 10,
        "start_time": "2022-06-22T17:23:15.516Z"
      },
      {
        "duration": 24,
        "start_time": "2022-06-22T17:23:16.118Z"
      },
      {
        "duration": 14,
        "start_time": "2022-06-22T17:23:22.089Z"
      },
      {
        "duration": 88290,
        "start_time": "2022-06-22T17:23:35.498Z"
      },
      {
        "duration": 4650,
        "start_time": "2022-06-22T17:26:55.098Z"
      },
      {
        "duration": 7400,
        "start_time": "2022-06-22T17:26:59.763Z"
      },
      {
        "duration": 9,
        "start_time": "2022-06-22T17:27:13.666Z"
      },
      {
        "duration": 6,
        "start_time": "2022-06-22T17:27:23.082Z"
      },
      {
        "duration": 20,
        "start_time": "2022-06-22T17:27:52.265Z"
      },
      {
        "duration": 4,
        "start_time": "2022-06-22T17:27:53.018Z"
      },
      {
        "duration": 37,
        "start_time": "2022-06-22T17:28:25.666Z"
      },
      {
        "duration": 5,
        "start_time": "2022-06-22T17:28:30.835Z"
      },
      {
        "duration": 280,
        "start_time": "2022-06-22T17:33:01.580Z"
      },
      {
        "duration": 8,
        "start_time": "2022-06-22T17:34:22.341Z"
      },
      {
        "duration": 14,
        "start_time": "2022-06-22T17:34:32.416Z"
      },
      {
        "duration": 9,
        "start_time": "2022-06-22T17:35:15.766Z"
      },
      {
        "duration": 248,
        "start_time": "2022-06-22T17:35:32.619Z"
      },
      {
        "duration": 136,
        "start_time": "2022-06-22T17:35:36.928Z"
      },
      {
        "duration": 54,
        "start_time": "2022-06-22T17:36:20.794Z"
      },
      {
        "duration": 6,
        "start_time": "2022-06-22T17:36:30.319Z"
      },
      {
        "duration": 6,
        "start_time": "2022-06-22T17:36:35.580Z"
      },
      {
        "duration": 17,
        "start_time": "2022-06-22T17:36:44.337Z"
      },
      {
        "duration": 218,
        "start_time": "2022-06-22T17:39:39.936Z"
      },
      {
        "duration": 9,
        "start_time": "2022-06-22T17:43:14.085Z"
      },
      {
        "duration": 6,
        "start_time": "2022-06-22T17:43:25.697Z"
      },
      {
        "duration": 11,
        "start_time": "2022-06-22T17:43:42.621Z"
      },
      {
        "duration": 11,
        "start_time": "2022-06-22T17:43:56.254Z"
      },
      {
        "duration": 6,
        "start_time": "2022-06-22T17:44:10.735Z"
      },
      {
        "duration": 7,
        "start_time": "2022-06-22T17:45:10.500Z"
      },
      {
        "duration": 3,
        "start_time": "2022-06-22T17:45:20.385Z"
      },
      {
        "duration": 189,
        "start_time": "2022-06-22T17:45:23.257Z"
      },
      {
        "duration": 8,
        "start_time": "2022-06-22T17:45:46.753Z"
      },
      {
        "duration": 4,
        "start_time": "2022-06-22T17:46:11.353Z"
      },
      {
        "duration": 200,
        "start_time": "2022-06-22T17:46:14.957Z"
      },
      {
        "duration": 7,
        "start_time": "2022-06-22T17:46:36.127Z"
      },
      {
        "duration": 3,
        "start_time": "2022-06-22T17:47:20.949Z"
      },
      {
        "duration": 113,
        "start_time": "2022-06-22T17:47:24.230Z"
      },
      {
        "duration": 5,
        "start_time": "2022-06-22T17:48:25.597Z"
      },
      {
        "duration": 195,
        "start_time": "2022-06-22T17:48:28.255Z"
      },
      {
        "duration": 4,
        "start_time": "2022-06-22T17:48:45.921Z"
      },
      {
        "duration": 189,
        "start_time": "2022-06-22T17:48:49.059Z"
      },
      {
        "duration": 4,
        "start_time": "2022-06-22T17:49:25.124Z"
      },
      {
        "duration": 204,
        "start_time": "2022-06-22T17:49:28.247Z"
      },
      {
        "duration": 4,
        "start_time": "2022-06-22T17:49:36.305Z"
      },
      {
        "duration": 101,
        "start_time": "2022-06-22T17:51:08.440Z"
      },
      {
        "duration": 14,
        "start_time": "2022-06-22T17:51:20.182Z"
      },
      {
        "duration": 16,
        "start_time": "2022-06-22T17:51:40.231Z"
      },
      {
        "duration": 18,
        "start_time": "2022-06-22T17:52:38.956Z"
      },
      {
        "duration": 137,
        "start_time": "2022-06-22T17:52:54.417Z"
      },
      {
        "duration": 7,
        "start_time": "2022-06-22T17:53:13.117Z"
      },
      {
        "duration": 8,
        "start_time": "2022-06-22T17:53:20.580Z"
      },
      {
        "duration": 6,
        "start_time": "2022-06-22T17:53:27.812Z"
      },
      {
        "duration": 9,
        "start_time": "2022-06-22T17:53:35.689Z"
      },
      {
        "duration": 11,
        "start_time": "2022-06-22T18:05:47.231Z"
      },
      {
        "duration": 11,
        "start_time": "2022-06-22T18:06:09.210Z"
      },
      {
        "duration": 6,
        "start_time": "2022-06-22T18:06:18.510Z"
      },
      {
        "duration": 12,
        "start_time": "2022-06-22T18:06:43.697Z"
      },
      {
        "duration": 42,
        "start_time": "2022-06-22T18:11:44.932Z"
      },
      {
        "duration": 5,
        "start_time": "2022-06-22T18:13:25.535Z"
      },
      {
        "duration": 5,
        "start_time": "2022-06-22T18:13:31.077Z"
      },
      {
        "duration": 68,
        "start_time": "2022-06-22T18:15:29.936Z"
      },
      {
        "duration": 70,
        "start_time": "2022-06-22T18:16:21.838Z"
      },
      {
        "duration": 89,
        "start_time": "2022-06-22T18:16:43.874Z"
      },
      {
        "duration": 156,
        "start_time": "2022-06-22T18:16:59.845Z"
      },
      {
        "duration": 149,
        "start_time": "2022-06-22T18:17:41.796Z"
      },
      {
        "duration": 148,
        "start_time": "2022-06-22T18:17:58.833Z"
      },
      {
        "duration": 135,
        "start_time": "2022-06-22T18:18:25.001Z"
      },
      {
        "duration": 160,
        "start_time": "2022-06-22T18:19:22.943Z"
      },
      {
        "duration": 6,
        "start_time": "2022-06-22T18:19:26.405Z"
      },
      {
        "duration": 145,
        "start_time": "2022-06-22T18:19:29.749Z"
      },
      {
        "duration": 4,
        "start_time": "2022-06-22T18:20:50.121Z"
      },
      {
        "duration": 138,
        "start_time": "2022-06-22T18:20:53.333Z"
      },
      {
        "duration": 5,
        "start_time": "2022-06-22T18:21:09.865Z"
      },
      {
        "duration": 164,
        "start_time": "2022-06-22T18:21:15.297Z"
      },
      {
        "duration": 6,
        "start_time": "2022-06-22T18:22:25.402Z"
      },
      {
        "duration": 161,
        "start_time": "2022-06-22T18:22:41.709Z"
      },
      {
        "duration": 133,
        "start_time": "2022-06-22T18:22:49.375Z"
      },
      {
        "duration": 155,
        "start_time": "2022-06-22T18:23:15.215Z"
      },
      {
        "duration": 138,
        "start_time": "2022-06-22T18:23:38.565Z"
      },
      {
        "duration": 135,
        "start_time": "2022-06-22T18:23:44.955Z"
      },
      {
        "duration": 142,
        "start_time": "2022-06-22T18:24:30.420Z"
      },
      {
        "duration": 151,
        "start_time": "2022-06-22T18:24:43.094Z"
      },
      {
        "duration": 135,
        "start_time": "2022-06-22T18:24:59.878Z"
      },
      {
        "duration": 9,
        "start_time": "2022-06-22T18:25:05.731Z"
      },
      {
        "duration": 10,
        "start_time": "2022-06-22T18:25:52.073Z"
      },
      {
        "duration": 6,
        "start_time": "2022-06-22T18:25:56.367Z"
      },
      {
        "duration": 4,
        "start_time": "2022-06-22T18:26:16.844Z"
      },
      {
        "duration": 6,
        "start_time": "2022-06-22T18:26:24.938Z"
      },
      {
        "duration": 13,
        "start_time": "2022-06-22T18:26:46.948Z"
      },
      {
        "duration": 11,
        "start_time": "2022-06-22T18:27:13.869Z"
      },
      {
        "duration": 6,
        "start_time": "2022-06-22T18:27:18.470Z"
      },
      {
        "duration": 4,
        "start_time": "2022-06-22T18:27:23.281Z"
      },
      {
        "duration": 90,
        "start_time": "2022-06-22T18:29:02.179Z"
      },
      {
        "duration": 87,
        "start_time": "2022-06-22T18:29:20.385Z"
      },
      {
        "duration": 77,
        "start_time": "2022-06-22T18:29:30.623Z"
      },
      {
        "duration": 80,
        "start_time": "2022-06-22T18:29:40.917Z"
      },
      {
        "duration": 75,
        "start_time": "2022-06-22T18:30:07.176Z"
      },
      {
        "duration": 71,
        "start_time": "2022-06-22T18:30:12.502Z"
      },
      {
        "duration": 4,
        "start_time": "2022-06-22T18:30:28.650Z"
      },
      {
        "duration": 85,
        "start_time": "2022-06-22T18:30:37.240Z"
      },
      {
        "duration": 75,
        "start_time": "2022-06-22T18:30:44.652Z"
      },
      {
        "duration": 64,
        "start_time": "2022-06-22T18:31:13.592Z"
      },
      {
        "duration": 7,
        "start_time": "2022-06-22T18:35:58.841Z"
      },
      {
        "duration": 4,
        "start_time": "2022-06-22T18:37:57.678Z"
      },
      {
        "duration": 19,
        "start_time": "2022-06-22T18:38:05.236Z"
      },
      {
        "duration": 134,
        "start_time": "2022-06-22T18:38:11.070Z"
      },
      {
        "duration": 14,
        "start_time": "2022-06-22T19:01:58.699Z"
      },
      {
        "duration": 4,
        "start_time": "2022-06-22T19:05:07.813Z"
      },
      {
        "duration": 3,
        "start_time": "2022-06-22T19:05:08.181Z"
      },
      {
        "duration": 11,
        "start_time": "2022-06-22T19:05:15.287Z"
      },
      {
        "duration": 17,
        "start_time": "2022-06-22T19:05:27.625Z"
      },
      {
        "duration": 128,
        "start_time": "2022-06-22T19:05:30.687Z"
      },
      {
        "duration": 4,
        "start_time": "2022-06-22T19:06:50.529Z"
      },
      {
        "duration": 42,
        "start_time": "2022-06-22T19:06:55.899Z"
      },
      {
        "duration": 3,
        "start_time": "2022-06-22T19:07:07.401Z"
      },
      {
        "duration": 4,
        "start_time": "2022-06-22T19:14:58.782Z"
      },
      {
        "duration": 15,
        "start_time": "2022-06-22T19:15:04.735Z"
      },
      {
        "duration": 18,
        "start_time": "2022-06-22T19:15:15.068Z"
      },
      {
        "duration": 132,
        "start_time": "2022-06-22T19:15:18.210Z"
      },
      {
        "duration": 11,
        "start_time": "2022-06-22T19:25:36.272Z"
      },
      {
        "duration": 30,
        "start_time": "2022-06-22T19:27:14.145Z"
      },
      {
        "duration": 115,
        "start_time": "2022-06-22T19:27:50.354Z"
      },
      {
        "duration": 80098,
        "start_time": "2022-06-22T19:30:05.384Z"
      },
      {
        "duration": 132,
        "start_time": "2022-06-22T19:32:01.378Z"
      },
      {
        "duration": 1529,
        "start_time": "2022-06-22T19:32:06.521Z"
      },
      {
        "duration": 61,
        "start_time": "2022-06-22T19:32:09.582Z"
      },
      {
        "duration": 7,
        "start_time": "2022-06-22T19:32:11.873Z"
      },
      {
        "duration": 6707,
        "start_time": "2022-06-22T19:32:18.244Z"
      },
      {
        "duration": 190,
        "start_time": "2022-06-22T19:32:24.953Z"
      },
      {
        "duration": 134,
        "start_time": "2022-06-22T19:33:59.399Z"
      },
      {
        "duration": 120,
        "start_time": "2022-06-22T19:34:18.893Z"
      },
      {
        "duration": 133,
        "start_time": "2022-06-22T19:35:00.307Z"
      },
      {
        "duration": 1368,
        "start_time": "2022-06-22T19:47:04.223Z"
      },
      {
        "duration": 15,
        "start_time": "2022-06-22T19:47:35.469Z"
      },
      {
        "duration": 18,
        "start_time": "2022-06-22T20:27:09.467Z"
      },
      {
        "duration": 110,
        "start_time": "2022-06-22T20:27:54.624Z"
      },
      {
        "duration": 23,
        "start_time": "2022-06-22T20:28:12.875Z"
      },
      {
        "duration": 5,
        "start_time": "2022-06-22T20:39:18.819Z"
      },
      {
        "duration": 27,
        "start_time": "2022-06-22T20:39:21.861Z"
      },
      {
        "duration": 6,
        "start_time": "2022-06-22T20:39:36.817Z"
      },
      {
        "duration": 1573,
        "start_time": "2022-06-24T09:11:50.395Z"
      },
      {
        "duration": 4570,
        "start_time": "2022-06-24T09:11:51.972Z"
      },
      {
        "duration": 1084,
        "start_time": "2022-06-24T09:11:59.502Z"
      },
      {
        "duration": 26,
        "start_time": "2022-06-24T09:12:00.588Z"
      },
      {
        "duration": 4,
        "start_time": "2022-06-24T09:12:07.741Z"
      },
      {
        "duration": 7,
        "start_time": "2022-06-24T09:12:08.636Z"
      },
      {
        "duration": 6,
        "start_time": "2022-06-24T09:12:09.127Z"
      },
      {
        "duration": 3,
        "start_time": "2022-06-24T09:16:14.402Z"
      },
      {
        "duration": 111,
        "start_time": "2022-06-24T09:19:00.402Z"
      },
      {
        "duration": 4,
        "start_time": "2022-06-24T09:19:08.181Z"
      },
      {
        "duration": 9,
        "start_time": "2022-06-24T09:19:10.726Z"
      },
      {
        "duration": 5,
        "start_time": "2022-06-24T09:19:19.694Z"
      },
      {
        "duration": 9,
        "start_time": "2022-06-24T09:25:10.583Z"
      },
      {
        "duration": 2,
        "start_time": "2022-06-24T09:25:17.140Z"
      },
      {
        "duration": 5,
        "start_time": "2022-06-24T09:25:22.120Z"
      },
      {
        "duration": 15,
        "start_time": "2022-06-24T09:26:36.678Z"
      },
      {
        "duration": 29,
        "start_time": "2022-06-24T09:27:18.279Z"
      },
      {
        "duration": 14,
        "start_time": "2022-06-24T09:27:29.104Z"
      },
      {
        "duration": 618,
        "start_time": "2022-06-24T11:03:54.893Z"
      },
      {
        "duration": 9,
        "start_time": "2022-06-24T11:11:42.933Z"
      },
      {
        "duration": 11,
        "start_time": "2022-06-24T11:12:21.523Z"
      },
      {
        "duration": 13,
        "start_time": "2022-06-24T11:12:33.530Z"
      },
      {
        "duration": 9,
        "start_time": "2022-06-24T11:12:44.477Z"
      },
      {
        "duration": 15,
        "start_time": "2022-06-24T11:14:05.296Z"
      },
      {
        "duration": 7,
        "start_time": "2022-06-24T11:14:14.944Z"
      },
      {
        "duration": 22,
        "start_time": "2022-06-24T11:15:38.308Z"
      },
      {
        "duration": 12,
        "start_time": "2022-06-24T11:16:01.132Z"
      },
      {
        "duration": 8,
        "start_time": "2022-06-24T11:16:22.075Z"
      },
      {
        "duration": 4,
        "start_time": "2022-06-24T11:16:52.987Z"
      },
      {
        "duration": 7,
        "start_time": "2022-06-24T11:17:00.313Z"
      },
      {
        "duration": 5,
        "start_time": "2022-06-24T11:17:12.683Z"
      },
      {
        "duration": 13,
        "start_time": "2022-06-24T11:18:22.734Z"
      },
      {
        "duration": 582,
        "start_time": "2022-06-24T11:18:41.508Z"
      },
      {
        "duration": 6,
        "start_time": "2022-06-24T11:23:28.307Z"
      },
      {
        "duration": 18,
        "start_time": "2022-06-24T11:23:36.873Z"
      },
      {
        "duration": 16,
        "start_time": "2022-06-24T11:23:50.301Z"
      },
      {
        "duration": 90,
        "start_time": "2022-06-24T11:24:03.111Z"
      },
      {
        "duration": 32,
        "start_time": "2022-06-24T11:24:12.372Z"
      },
      {
        "duration": 10,
        "start_time": "2022-06-24T11:24:25.876Z"
      },
      {
        "duration": 814,
        "start_time": "2022-06-24T11:27:52.233Z"
      },
      {
        "duration": 10,
        "start_time": "2022-06-24T11:28:12.799Z"
      },
      {
        "duration": 724,
        "start_time": "2022-06-24T11:28:33.179Z"
      },
      {
        "duration": 10,
        "start_time": "2022-06-24T11:28:41.273Z"
      },
      {
        "duration": 10,
        "start_time": "2022-06-24T11:29:30.573Z"
      },
      {
        "duration": 35,
        "start_time": "2022-06-24T11:29:37.340Z"
      },
      {
        "duration": 54,
        "start_time": "2022-06-24T11:29:42.183Z"
      },
      {
        "duration": 5812,
        "start_time": "2022-06-24T11:29:46.439Z"
      },
      {
        "duration": 71,
        "start_time": "2022-06-24T11:33:20.602Z"
      },
      {
        "duration": 3,
        "start_time": "2022-06-24T11:45:13.005Z"
      },
      {
        "duration": 9,
        "start_time": "2022-06-24T11:46:43.607Z"
      },
      {
        "duration": 9,
        "start_time": "2022-06-24T11:47:43.835Z"
      },
      {
        "duration": 12,
        "start_time": "2022-06-24T11:48:59.502Z"
      },
      {
        "duration": 6020,
        "start_time": "2022-06-24T11:49:04.164Z"
      },
      {
        "duration": 105,
        "start_time": "2022-06-24T11:49:10.253Z"
      },
      {
        "duration": 70269,
        "start_time": "2022-06-24T11:49:23.797Z"
      },
      {
        "duration": 129,
        "start_time": "2022-06-24T11:50:34.068Z"
      },
      {
        "duration": 2505,
        "start_time": "2022-06-24T11:59:16.420Z"
      },
      {
        "duration": 6690,
        "start_time": "2022-06-24T12:15:27.677Z"
      },
      {
        "duration": 4,
        "start_time": "2022-06-24T12:47:40.205Z"
      },
      {
        "duration": 10,
        "start_time": "2022-06-24T14:13:11.862Z"
      },
      {
        "duration": 3,
        "start_time": "2022-06-24T14:13:19.480Z"
      },
      {
        "duration": 9,
        "start_time": "2022-06-24T14:13:29.803Z"
      },
      {
        "duration": 3,
        "start_time": "2022-06-24T14:13:37.462Z"
      },
      {
        "duration": 4,
        "start_time": "2022-06-24T14:13:43.752Z"
      },
      {
        "duration": 9,
        "start_time": "2022-06-24T14:13:55.765Z"
      },
      {
        "duration": 9,
        "start_time": "2022-06-24T14:14:04.097Z"
      },
      {
        "duration": 8,
        "start_time": "2022-06-24T14:14:11.745Z"
      },
      {
        "duration": 4,
        "start_time": "2022-06-24T14:14:26.976Z"
      },
      {
        "duration": 70,
        "start_time": "2022-06-24T14:14:51.776Z"
      },
      {
        "duration": 59,
        "start_time": "2022-06-24T14:16:38.867Z"
      },
      {
        "duration": 3,
        "start_time": "2022-06-24T14:17:35.821Z"
      },
      {
        "duration": 8,
        "start_time": "2022-06-24T14:17:44.515Z"
      },
      {
        "duration": 37,
        "start_time": "2022-06-24T14:17:53.211Z"
      },
      {
        "duration": 4,
        "start_time": "2022-06-24T14:18:02.664Z"
      },
      {
        "duration": 22,
        "start_time": "2022-06-24T14:18:10.825Z"
      },
      {
        "duration": 3,
        "start_time": "2022-06-24T14:20:38.398Z"
      },
      {
        "duration": 4,
        "start_time": "2022-06-24T14:20:45.721Z"
      },
      {
        "duration": 4,
        "start_time": "2022-06-24T14:21:15.000Z"
      },
      {
        "duration": 3,
        "start_time": "2022-06-24T14:22:54.350Z"
      },
      {
        "duration": 4,
        "start_time": "2022-06-24T14:22:55.046Z"
      },
      {
        "duration": 3,
        "start_time": "2022-06-24T14:22:59.789Z"
      },
      {
        "duration": 114001,
        "start_time": "2022-06-24T14:23:02.962Z"
      },
      {
        "duration": 212017,
        "start_time": "2022-06-24T14:30:02.809Z"
      },
      {
        "duration": 4,
        "start_time": "2022-06-24T14:33:47.099Z"
      },
      {
        "duration": 3,
        "start_time": "2022-06-24T14:34:54.622Z"
      },
      {
        "duration": 494766,
        "start_time": "2022-06-24T14:35:09.009Z"
      },
      {
        "duration": 554547,
        "start_time": "2022-06-24T14:49:39.186Z"
      },
      {
        "duration": 0,
        "start_time": "2022-06-24T14:58:53.735Z"
      },
      {
        "duration": 0,
        "start_time": "2022-06-24T14:58:53.737Z"
      },
      {
        "duration": 0,
        "start_time": "2022-06-24T14:58:53.738Z"
      },
      {
        "duration": 0,
        "start_time": "2022-06-24T14:58:53.739Z"
      },
      {
        "duration": 49131,
        "start_time": "2022-06-24T14:59:49.420Z"
      },
      {
        "duration": 166,
        "start_time": "2022-06-24T15:00:38.553Z"
      },
      {
        "duration": 562657,
        "start_time": "2022-06-24T15:00:38.720Z"
      },
      {
        "duration": 37612,
        "start_time": "2022-06-24T15:15:09.217Z"
      },
      {
        "duration": 40949,
        "start_time": "2022-06-24T15:15:46.831Z"
      },
      {
        "duration": 0,
        "start_time": "2022-06-24T15:16:27.782Z"
      },
      {
        "duration": 124,
        "start_time": "2022-06-24T15:16:30.264Z"
      },
      {
        "duration": 17,
        "start_time": "2022-06-24T15:24:15.303Z"
      },
      {
        "duration": 10,
        "start_time": "2022-06-24T15:25:08.388Z"
      },
      {
        "duration": 11,
        "start_time": "2022-06-24T15:26:11.352Z"
      },
      {
        "duration": 20,
        "start_time": "2022-06-24T15:26:53.894Z"
      },
      {
        "duration": 21,
        "start_time": "2022-06-24T15:27:12.134Z"
      },
      {
        "duration": 22,
        "start_time": "2022-06-24T15:28:34.998Z"
      },
      {
        "duration": 10,
        "start_time": "2022-06-24T15:29:20.563Z"
      },
      {
        "duration": 17,
        "start_time": "2022-06-24T15:31:22.057Z"
      },
      {
        "duration": 9,
        "start_time": "2022-06-24T15:31:23.302Z"
      },
      {
        "duration": 17,
        "start_time": "2022-06-24T15:31:47.487Z"
      },
      {
        "duration": 10,
        "start_time": "2022-06-24T15:31:49.689Z"
      },
      {
        "duration": 17,
        "start_time": "2022-06-24T15:31:51.387Z"
      },
      {
        "duration": 10,
        "start_time": "2022-06-24T15:31:52.505Z"
      },
      {
        "duration": 17,
        "start_time": "2022-06-24T15:32:17.306Z"
      },
      {
        "duration": 12,
        "start_time": "2022-06-24T15:32:18.320Z"
      },
      {
        "duration": 125,
        "start_time": "2022-06-24T15:33:02.253Z"
      }
    ],
    "kernelspec": {
      "display_name": "Python 3 (ipykernel)",
      "language": "python",
      "name": "python3"
    },
    "language_info": {
      "codemirror_mode": {
        "name": "ipython",
        "version": 3
      },
      "file_extension": ".py",
      "mimetype": "text/x-python",
      "name": "python",
      "nbconvert_exporter": "python",
      "pygments_lexer": "ipython3",
      "version": "3.9.5"
    },
    "toc": {
      "base_numbering": 1,
      "nav_menu": {},
      "number_sections": true,
      "sideBar": true,
      "skip_h1_title": true,
      "title_cell": "Содержание",
      "title_sidebar": "Contents",
      "toc_cell": true,
      "toc_position": {
        "height": "calc(100% - 180px)",
        "left": "10px",
        "top": "150px",
        "width": "286.225px"
      },
      "toc_section_display": true,
      "toc_window_display": true
    },
    "colab": {
      "provenance": [],
      "collapsed_sections": []
    }
  },
  "nbformat": 4,
  "nbformat_minor": 0
}