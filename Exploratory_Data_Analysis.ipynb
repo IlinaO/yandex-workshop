{
  "cells": [
    {
      "cell_type": "markdown",
      "source": [
        "**Описание проекта**\n",
        "\n",
        "\n",
        "В вашем распоряжении данные сервиса Яндекс Недвижимость — архив объявлений о продаже квартир в Санкт-Петербурге и соседних населённых пунктах за несколько лет. Нужно научиться определять рыночную стоимость объектов недвижимости. Ваша задача — установить параметры. Это позволит построить автоматизированную систему: она отследит аномалии и мошенническую деятельность.\n",
        "По каждой квартире на продажу доступны два вида данных. Первые вписаны пользователем, вторые — получены автоматически на основе картографических данных. Например, расстояние до центра, аэропорта, ближайшего парка и водоёма."
      ],
      "metadata": {
        "id": "iY-eiHeJ6gcH"
      }
    },
    {
      "cell_type": "code",
      "execution_count": null,
      "metadata": {
        "id": "UTqmQddV52ZA"
      },
      "outputs": [],
      "source": [
        "Описание данных\n",
        "  * airports_nearest — расстояние до ближайшего аэропорта в метрах (м)\n",
        "  * balcony — число балконов\n",
        "  * ceiling_height — высота потолков (м)\n",
        "  * cityCenters_nearest — расстояние до центра города (м)\n",
        "  * days_exposition — сколько дней было размещено объявление (от публикации до снятия)\n",
        "  * first_day_exposition — дата публикации\n",
        "  * floor — этаж\n",
        "  * floors_total — всего этажей в доме\n",
        "  * is_apartment — апартаменты (булев тип)\n",
        "  * kitchen_area — площадь кухни в квадратных метрах (м²)\n",
        "  * last_price — цена на момент снятия с публикации\n",
        "  * living_area — жилая площадь в квадратных метрах (м²)\n",
        "  * locality_name — название населённого пункта\n",
        "  * open_plan — свободная планировка (булев тип)\n",
        "  * parks_around3000 — число парков в радиусе 3 км\n",
        "  * parks_nearest — расстояние до ближайшего парка (м)\n",
        "  * ponds_around3000 — число водоёмов в радиусе 3 км\n",
        "  * ponds_nearest — расстояние до ближайшего водоёма (м)\n",
        "  * rooms — число комнат\n",
        "  * studio — квартира-студия (булев тип)\n",
        "  * total_area — площадь квартиры в квадратных метрах (м²)\n",
        "  * total_images — число фотографий квартиры в объявлении"
      ]
    },
    {
      "cell_type": "markdown",
      "metadata": {
        "id": "EwOFegze52ZF"
      },
      "source": [
        "# Исследование объявлений о продаже квартир\n",
        "\n",
        "В вашем распоряжении данные сервиса Яндекс.Недвижимость — архив объявлений о продаже квартир в Санкт-Петербурге и соседних населённых пунктах за несколько лет. Нужно научиться определять рыночную стоимость объектов недвижимости. Ваша задача — установить параметры. Это позволит построить автоматизированную систему: она отследит аномалии и мошенническую деятельность. \n",
        "\n",
        "По каждой квартире на продажу доступны два вида данных. Первые вписаны пользователем, вторые получены автоматически на основе картографических данных. Например, расстояние до центра, аэропорта, ближайшего парка и водоёма. "
      ]
    },
    {
      "cell_type": "markdown",
      "metadata": {
        "id": "TNPOGekb52ZF"
      },
      "source": [
        "## Изучение данных из файла"
      ]
    },
    {
      "cell_type": "code",
      "execution_count": null,
      "metadata": {
        "id": "3lW6X0Ja52ZG",
        "outputId": "d3ab4ae4-add3-4319-d36d-58caa4973096"
      },
      "outputs": [
        {
          "data": {
            "text/html": [
              "<div>\n",
              "<style scoped>\n",
              "    .dataframe tbody tr th:only-of-type {\n",
              "        vertical-align: middle;\n",
              "    }\n",
              "\n",
              "    .dataframe tbody tr th {\n",
              "        vertical-align: top;\n",
              "    }\n",
              "\n",
              "    .dataframe thead th {\n",
              "        text-align: right;\n",
              "    }\n",
              "</style>\n",
              "<table border=\"1\" class=\"dataframe\">\n",
              "  <thead>\n",
              "    <tr style=\"text-align: right;\">\n",
              "      <th></th>\n",
              "      <th>total_images</th>\n",
              "      <th>last_price</th>\n",
              "      <th>total_area</th>\n",
              "      <th>first_day_exposition</th>\n",
              "      <th>rooms</th>\n",
              "      <th>ceiling_height</th>\n",
              "      <th>floors_total</th>\n",
              "      <th>living_area</th>\n",
              "      <th>floor</th>\n",
              "      <th>is_apartment</th>\n",
              "      <th>...</th>\n",
              "      <th>kitchen_area</th>\n",
              "      <th>balcony</th>\n",
              "      <th>locality_name</th>\n",
              "      <th>airports_nearest</th>\n",
              "      <th>cityCenters_nearest</th>\n",
              "      <th>parks_around3000</th>\n",
              "      <th>parks_nearest</th>\n",
              "      <th>ponds_around3000</th>\n",
              "      <th>ponds_nearest</th>\n",
              "      <th>days_exposition</th>\n",
              "    </tr>\n",
              "  </thead>\n",
              "  <tbody>\n",
              "    <tr>\n",
              "      <td>0</td>\n",
              "      <td>20</td>\n",
              "      <td>13000000.0</td>\n",
              "      <td>108.0</td>\n",
              "      <td>2019-03-07T00:00:00</td>\n",
              "      <td>3</td>\n",
              "      <td>2.7</td>\n",
              "      <td>16.0</td>\n",
              "      <td>51.0</td>\n",
              "      <td>8</td>\n",
              "      <td>NaN</td>\n",
              "      <td>...</td>\n",
              "      <td>25.0</td>\n",
              "      <td>NaN</td>\n",
              "      <td>Санкт-Петербург</td>\n",
              "      <td>18863.0</td>\n",
              "      <td>16028.0</td>\n",
              "      <td>1.0</td>\n",
              "      <td>482.0</td>\n",
              "      <td>2.0</td>\n",
              "      <td>755.0</td>\n",
              "      <td>NaN</td>\n",
              "    </tr>\n",
              "    <tr>\n",
              "      <td>1</td>\n",
              "      <td>7</td>\n",
              "      <td>3350000.0</td>\n",
              "      <td>40.4</td>\n",
              "      <td>2018-12-04T00:00:00</td>\n",
              "      <td>1</td>\n",
              "      <td>NaN</td>\n",
              "      <td>11.0</td>\n",
              "      <td>18.6</td>\n",
              "      <td>1</td>\n",
              "      <td>NaN</td>\n",
              "      <td>...</td>\n",
              "      <td>11.0</td>\n",
              "      <td>2.0</td>\n",
              "      <td>посёлок Шушары</td>\n",
              "      <td>12817.0</td>\n",
              "      <td>18603.0</td>\n",
              "      <td>0.0</td>\n",
              "      <td>NaN</td>\n",
              "      <td>0.0</td>\n",
              "      <td>NaN</td>\n",
              "      <td>81.0</td>\n",
              "    </tr>\n",
              "    <tr>\n",
              "      <td>2</td>\n",
              "      <td>10</td>\n",
              "      <td>5196000.0</td>\n",
              "      <td>56.0</td>\n",
              "      <td>2015-08-20T00:00:00</td>\n",
              "      <td>2</td>\n",
              "      <td>NaN</td>\n",
              "      <td>5.0</td>\n",
              "      <td>34.3</td>\n",
              "      <td>4</td>\n",
              "      <td>NaN</td>\n",
              "      <td>...</td>\n",
              "      <td>8.3</td>\n",
              "      <td>0.0</td>\n",
              "      <td>Санкт-Петербург</td>\n",
              "      <td>21741.0</td>\n",
              "      <td>13933.0</td>\n",
              "      <td>1.0</td>\n",
              "      <td>90.0</td>\n",
              "      <td>2.0</td>\n",
              "      <td>574.0</td>\n",
              "      <td>558.0</td>\n",
              "    </tr>\n",
              "    <tr>\n",
              "      <td>3</td>\n",
              "      <td>0</td>\n",
              "      <td>64900000.0</td>\n",
              "      <td>159.0</td>\n",
              "      <td>2015-07-24T00:00:00</td>\n",
              "      <td>3</td>\n",
              "      <td>NaN</td>\n",
              "      <td>14.0</td>\n",
              "      <td>NaN</td>\n",
              "      <td>9</td>\n",
              "      <td>NaN</td>\n",
              "      <td>...</td>\n",
              "      <td>NaN</td>\n",
              "      <td>0.0</td>\n",
              "      <td>Санкт-Петербург</td>\n",
              "      <td>28098.0</td>\n",
              "      <td>6800.0</td>\n",
              "      <td>2.0</td>\n",
              "      <td>84.0</td>\n",
              "      <td>3.0</td>\n",
              "      <td>234.0</td>\n",
              "      <td>424.0</td>\n",
              "    </tr>\n",
              "    <tr>\n",
              "      <td>4</td>\n",
              "      <td>2</td>\n",
              "      <td>10000000.0</td>\n",
              "      <td>100.0</td>\n",
              "      <td>2018-06-19T00:00:00</td>\n",
              "      <td>2</td>\n",
              "      <td>3.03</td>\n",
              "      <td>14.0</td>\n",
              "      <td>32.0</td>\n",
              "      <td>13</td>\n",
              "      <td>NaN</td>\n",
              "      <td>...</td>\n",
              "      <td>41.0</td>\n",
              "      <td>NaN</td>\n",
              "      <td>Санкт-Петербург</td>\n",
              "      <td>31856.0</td>\n",
              "      <td>8098.0</td>\n",
              "      <td>2.0</td>\n",
              "      <td>112.0</td>\n",
              "      <td>1.0</td>\n",
              "      <td>48.0</td>\n",
              "      <td>121.0</td>\n",
              "    </tr>\n",
              "    <tr>\n",
              "      <td>5</td>\n",
              "      <td>10</td>\n",
              "      <td>2890000.0</td>\n",
              "      <td>30.4</td>\n",
              "      <td>2018-09-10T00:00:00</td>\n",
              "      <td>1</td>\n",
              "      <td>NaN</td>\n",
              "      <td>12.0</td>\n",
              "      <td>14.4</td>\n",
              "      <td>5</td>\n",
              "      <td>NaN</td>\n",
              "      <td>...</td>\n",
              "      <td>9.1</td>\n",
              "      <td>NaN</td>\n",
              "      <td>городской посёлок Янино-1</td>\n",
              "      <td>NaN</td>\n",
              "      <td>NaN</td>\n",
              "      <td>NaN</td>\n",
              "      <td>NaN</td>\n",
              "      <td>NaN</td>\n",
              "      <td>NaN</td>\n",
              "      <td>55.0</td>\n",
              "    </tr>\n",
              "    <tr>\n",
              "      <td>6</td>\n",
              "      <td>6</td>\n",
              "      <td>3700000.0</td>\n",
              "      <td>37.3</td>\n",
              "      <td>2017-11-02T00:00:00</td>\n",
              "      <td>1</td>\n",
              "      <td>NaN</td>\n",
              "      <td>26.0</td>\n",
              "      <td>10.6</td>\n",
              "      <td>6</td>\n",
              "      <td>NaN</td>\n",
              "      <td>...</td>\n",
              "      <td>14.4</td>\n",
              "      <td>1.0</td>\n",
              "      <td>посёлок Парголово</td>\n",
              "      <td>52996.0</td>\n",
              "      <td>19143.0</td>\n",
              "      <td>0.0</td>\n",
              "      <td>NaN</td>\n",
              "      <td>0.0</td>\n",
              "      <td>NaN</td>\n",
              "      <td>155.0</td>\n",
              "    </tr>\n",
              "    <tr>\n",
              "      <td>7</td>\n",
              "      <td>5</td>\n",
              "      <td>7915000.0</td>\n",
              "      <td>71.6</td>\n",
              "      <td>2019-04-18T00:00:00</td>\n",
              "      <td>2</td>\n",
              "      <td>NaN</td>\n",
              "      <td>24.0</td>\n",
              "      <td>NaN</td>\n",
              "      <td>22</td>\n",
              "      <td>NaN</td>\n",
              "      <td>...</td>\n",
              "      <td>18.9</td>\n",
              "      <td>2.0</td>\n",
              "      <td>Санкт-Петербург</td>\n",
              "      <td>23982.0</td>\n",
              "      <td>11634.0</td>\n",
              "      <td>0.0</td>\n",
              "      <td>NaN</td>\n",
              "      <td>0.0</td>\n",
              "      <td>NaN</td>\n",
              "      <td>NaN</td>\n",
              "    </tr>\n",
              "    <tr>\n",
              "      <td>8</td>\n",
              "      <td>20</td>\n",
              "      <td>2900000.0</td>\n",
              "      <td>33.16</td>\n",
              "      <td>2018-05-23T00:00:00</td>\n",
              "      <td>1</td>\n",
              "      <td>NaN</td>\n",
              "      <td>27.0</td>\n",
              "      <td>15.43</td>\n",
              "      <td>26</td>\n",
              "      <td>NaN</td>\n",
              "      <td>...</td>\n",
              "      <td>8.81</td>\n",
              "      <td>NaN</td>\n",
              "      <td>посёлок Мурино</td>\n",
              "      <td>NaN</td>\n",
              "      <td>NaN</td>\n",
              "      <td>NaN</td>\n",
              "      <td>NaN</td>\n",
              "      <td>NaN</td>\n",
              "      <td>NaN</td>\n",
              "      <td>189.00000000000003</td>\n",
              "    </tr>\n",
              "    <tr>\n",
              "      <td>9</td>\n",
              "      <td>18</td>\n",
              "      <td>5400000.0</td>\n",
              "      <td>61.0</td>\n",
              "      <td>2017-02-26T00:00:00</td>\n",
              "      <td>3</td>\n",
              "      <td>2.5</td>\n",
              "      <td>9.0</td>\n",
              "      <td>43.6</td>\n",
              "      <td>7</td>\n",
              "      <td>NaN</td>\n",
              "      <td>...</td>\n",
              "      <td>6.5</td>\n",
              "      <td>2.0</td>\n",
              "      <td>Санкт-Петербург</td>\n",
              "      <td>50898.0</td>\n",
              "      <td>15008.0</td>\n",
              "      <td>0.0</td>\n",
              "      <td>NaN</td>\n",
              "      <td>0.0</td>\n",
              "      <td>NaN</td>\n",
              "      <td>289.0</td>\n",
              "    </tr>\n",
              "    <tr>\n",
              "      <td>10</td>\n",
              "      <td>5</td>\n",
              "      <td>5050000.0</td>\n",
              "      <td>39.6</td>\n",
              "      <td>2017-11-16T00:00:00</td>\n",
              "      <td>1</td>\n",
              "      <td>2.67</td>\n",
              "      <td>12.0</td>\n",
              "      <td>20.3</td>\n",
              "      <td>3</td>\n",
              "      <td>NaN</td>\n",
              "      <td>...</td>\n",
              "      <td>8.5</td>\n",
              "      <td>NaN</td>\n",
              "      <td>Санкт-Петербург</td>\n",
              "      <td>38357.0</td>\n",
              "      <td>13878.0</td>\n",
              "      <td>1.0</td>\n",
              "      <td>310.0</td>\n",
              "      <td>2.0</td>\n",
              "      <td>553.0</td>\n",
              "      <td>137.0</td>\n",
              "    </tr>\n",
              "    <tr>\n",
              "      <td>11</td>\n",
              "      <td>9</td>\n",
              "      <td>3300000.0</td>\n",
              "      <td>44.0</td>\n",
              "      <td>2018-08-27T00:00:00</td>\n",
              "      <td>2</td>\n",
              "      <td>NaN</td>\n",
              "      <td>5.0</td>\n",
              "      <td>31.0</td>\n",
              "      <td>4</td>\n",
              "      <td>False</td>\n",
              "      <td>...</td>\n",
              "      <td>6.0</td>\n",
              "      <td>1.0</td>\n",
              "      <td>Ломоносов</td>\n",
              "      <td>48252.0</td>\n",
              "      <td>51677.0</td>\n",
              "      <td>0.0</td>\n",
              "      <td>NaN</td>\n",
              "      <td>0.0</td>\n",
              "      <td>NaN</td>\n",
              "      <td>7.0</td>\n",
              "    </tr>\n",
              "    <tr>\n",
              "      <td>12</td>\n",
              "      <td>10</td>\n",
              "      <td>3890000.0</td>\n",
              "      <td>54.0</td>\n",
              "      <td>2016-06-30T00:00:00</td>\n",
              "      <td>2</td>\n",
              "      <td>NaN</td>\n",
              "      <td>5.0</td>\n",
              "      <td>30.0</td>\n",
              "      <td>5</td>\n",
              "      <td>NaN</td>\n",
              "      <td>...</td>\n",
              "      <td>9.0</td>\n",
              "      <td>0.0</td>\n",
              "      <td>Сертолово</td>\n",
              "      <td>NaN</td>\n",
              "      <td>NaN</td>\n",
              "      <td>NaN</td>\n",
              "      <td>NaN</td>\n",
              "      <td>NaN</td>\n",
              "      <td>NaN</td>\n",
              "      <td>90.00000000000001</td>\n",
              "    </tr>\n",
              "    <tr>\n",
              "      <td>13</td>\n",
              "      <td>20</td>\n",
              "      <td>3550000.0</td>\n",
              "      <td>42.8</td>\n",
              "      <td>2017-07-01T00:00:00</td>\n",
              "      <td>2</td>\n",
              "      <td>2.56</td>\n",
              "      <td>5.0</td>\n",
              "      <td>27.0</td>\n",
              "      <td>5</td>\n",
              "      <td>NaN</td>\n",
              "      <td>...</td>\n",
              "      <td>5.2</td>\n",
              "      <td>1.0</td>\n",
              "      <td>Петергоф</td>\n",
              "      <td>37868.0</td>\n",
              "      <td>33058.0</td>\n",
              "      <td>1.0</td>\n",
              "      <td>294.0</td>\n",
              "      <td>3.0</td>\n",
              "      <td>298.0</td>\n",
              "      <td>366.00000000000006</td>\n",
              "    </tr>\n",
              "    <tr>\n",
              "      <td>14</td>\n",
              "      <td>1</td>\n",
              "      <td>4400000.0</td>\n",
              "      <td>36.0</td>\n",
              "      <td>2016-06-23T00:00:00</td>\n",
              "      <td>1</td>\n",
              "      <td>NaN</td>\n",
              "      <td>6.0</td>\n",
              "      <td>17.0</td>\n",
              "      <td>1</td>\n",
              "      <td>NaN</td>\n",
              "      <td>...</td>\n",
              "      <td>8.0</td>\n",
              "      <td>0.0</td>\n",
              "      <td>Пушкин</td>\n",
              "      <td>20782.0</td>\n",
              "      <td>30759.0</td>\n",
              "      <td>0.0</td>\n",
              "      <td>NaN</td>\n",
              "      <td>1.0</td>\n",
              "      <td>96.0</td>\n",
              "      <td>203.0</td>\n",
              "    </tr>\n",
              "  </tbody>\n",
              "</table>\n",
              "<p>15 rows × 22 columns</p>\n",
              "</div>"
            ],
            "text/plain": [
              "    total_images  last_price total_area first_day_exposition  rooms  \\\n",
              "0             20  13000000.0      108.0  2019-03-07T00:00:00      3   \n",
              "1              7   3350000.0       40.4  2018-12-04T00:00:00      1   \n",
              "2             10   5196000.0       56.0  2015-08-20T00:00:00      2   \n",
              "3              0  64900000.0      159.0  2015-07-24T00:00:00      3   \n",
              "4              2  10000000.0      100.0  2018-06-19T00:00:00      2   \n",
              "5             10   2890000.0       30.4  2018-09-10T00:00:00      1   \n",
              "6              6   3700000.0       37.3  2017-11-02T00:00:00      1   \n",
              "7              5   7915000.0       71.6  2019-04-18T00:00:00      2   \n",
              "8             20   2900000.0      33.16  2018-05-23T00:00:00      1   \n",
              "9             18   5400000.0       61.0  2017-02-26T00:00:00      3   \n",
              "10             5   5050000.0       39.6  2017-11-16T00:00:00      1   \n",
              "11             9   3300000.0       44.0  2018-08-27T00:00:00      2   \n",
              "12            10   3890000.0       54.0  2016-06-30T00:00:00      2   \n",
              "13            20   3550000.0       42.8  2017-07-01T00:00:00      2   \n",
              "14             1   4400000.0       36.0  2016-06-23T00:00:00      1   \n",
              "\n",
              "   ceiling_height floors_total living_area  floor is_apartment  ...  \\\n",
              "0             2.7         16.0        51.0      8          NaN  ...   \n",
              "1             NaN         11.0        18.6      1          NaN  ...   \n",
              "2             NaN          5.0        34.3      4          NaN  ...   \n",
              "3             NaN         14.0         NaN      9          NaN  ...   \n",
              "4            3.03         14.0        32.0     13          NaN  ...   \n",
              "5             NaN         12.0        14.4      5          NaN  ...   \n",
              "6             NaN         26.0        10.6      6          NaN  ...   \n",
              "7             NaN         24.0         NaN     22          NaN  ...   \n",
              "8             NaN         27.0       15.43     26          NaN  ...   \n",
              "9             2.5          9.0        43.6      7          NaN  ...   \n",
              "10           2.67         12.0        20.3      3          NaN  ...   \n",
              "11            NaN          5.0        31.0      4        False  ...   \n",
              "12            NaN          5.0        30.0      5          NaN  ...   \n",
              "13           2.56          5.0        27.0      5          NaN  ...   \n",
              "14            NaN          6.0        17.0      1          NaN  ...   \n",
              "\n",
              "    kitchen_area  balcony              locality_name airports_nearest  \\\n",
              "0           25.0      NaN            Санкт-Петербург          18863.0   \n",
              "1           11.0      2.0             посёлок Шушары          12817.0   \n",
              "2            8.3      0.0            Санкт-Петербург          21741.0   \n",
              "3            NaN      0.0            Санкт-Петербург          28098.0   \n",
              "4           41.0      NaN            Санкт-Петербург          31856.0   \n",
              "5            9.1      NaN  городской посёлок Янино-1              NaN   \n",
              "6           14.4      1.0          посёлок Парголово          52996.0   \n",
              "7           18.9      2.0            Санкт-Петербург          23982.0   \n",
              "8           8.81      NaN             посёлок Мурино              NaN   \n",
              "9            6.5      2.0            Санкт-Петербург          50898.0   \n",
              "10           8.5      NaN            Санкт-Петербург          38357.0   \n",
              "11           6.0      1.0                  Ломоносов          48252.0   \n",
              "12           9.0      0.0                  Сертолово              NaN   \n",
              "13           5.2      1.0                   Петергоф          37868.0   \n",
              "14           8.0      0.0                     Пушкин          20782.0   \n",
              "\n",
              "   cityCenters_nearest parks_around3000 parks_nearest ponds_around3000  \\\n",
              "0              16028.0              1.0         482.0              2.0   \n",
              "1              18603.0              0.0           NaN              0.0   \n",
              "2              13933.0              1.0          90.0              2.0   \n",
              "3               6800.0              2.0          84.0              3.0   \n",
              "4               8098.0              2.0         112.0              1.0   \n",
              "5                  NaN              NaN           NaN              NaN   \n",
              "6              19143.0              0.0           NaN              0.0   \n",
              "7              11634.0              0.0           NaN              0.0   \n",
              "8                  NaN              NaN           NaN              NaN   \n",
              "9              15008.0              0.0           NaN              0.0   \n",
              "10             13878.0              1.0         310.0              2.0   \n",
              "11             51677.0              0.0           NaN              0.0   \n",
              "12                 NaN              NaN           NaN              NaN   \n",
              "13             33058.0              1.0         294.0              3.0   \n",
              "14             30759.0              0.0           NaN              1.0   \n",
              "\n",
              "   ponds_nearest     days_exposition  \n",
              "0          755.0                 NaN  \n",
              "1            NaN                81.0  \n",
              "2          574.0               558.0  \n",
              "3          234.0               424.0  \n",
              "4           48.0               121.0  \n",
              "5            NaN                55.0  \n",
              "6            NaN               155.0  \n",
              "7            NaN                 NaN  \n",
              "8            NaN  189.00000000000003  \n",
              "9            NaN               289.0  \n",
              "10         553.0               137.0  \n",
              "11           NaN                 7.0  \n",
              "12           NaN   90.00000000000001  \n",
              "13         298.0  366.00000000000006  \n",
              "14          96.0               203.0  \n",
              "\n",
              "[15 rows x 22 columns]"
            ]
          },
          "execution_count": 1,
          "metadata": {},
          "output_type": "execute_result"
        }
      ],
      "source": [
        "import pandas as pd\n",
        "import matplotlib.pyplot as plt\n",
        "df = pd.read_csv('/datasets/real_estate_data.csv', sep = '\\t', decimal = ',')\n",
        "df.head(15)"
      ]
    },
    {
      "cell_type": "code",
      "execution_count": null,
      "metadata": {
        "id": "CqLTxOWs52ZH",
        "outputId": "028463bb-3481-46e9-c5bd-40e1eda08eef"
      },
      "outputs": [
        {
          "name": "stdout",
          "output_type": "stream",
          "text": [
            "<class 'pandas.core.frame.DataFrame'>\n",
            "RangeIndex: 23699 entries, 0 to 23698\n",
            "Data columns (total 22 columns):\n",
            "total_images            23699 non-null int64\n",
            "last_price              23699 non-null object\n",
            "total_area              23699 non-null object\n",
            "first_day_exposition    23699 non-null object\n",
            "rooms                   23699 non-null int64\n",
            "ceiling_height          14504 non-null object\n",
            "floors_total            23613 non-null object\n",
            "living_area             21796 non-null object\n",
            "floor                   23699 non-null int64\n",
            "is_apartment            2775 non-null object\n",
            "studio                  23699 non-null bool\n",
            "open_plan               23699 non-null bool\n",
            "kitchen_area            21421 non-null object\n",
            "balcony                 12180 non-null object\n",
            "locality_name           23650 non-null object\n",
            "airports_nearest        18157 non-null object\n",
            "cityCenters_nearest     18180 non-null object\n",
            "parks_around3000        18181 non-null object\n",
            "parks_nearest           8079 non-null object\n",
            "ponds_around3000        18181 non-null object\n",
            "ponds_nearest           9110 non-null object\n",
            "days_exposition         20518 non-null object\n",
            "dtypes: bool(2), int64(3), object(17)\n",
            "memory usage: 3.7+ MB\n"
          ]
        }
      ],
      "source": [
        "df.info() # смотрим на общую информацию о таблице"
      ]
    },
    {
      "cell_type": "code",
      "execution_count": null,
      "metadata": {
        "id": "lXjONJuj52ZI",
        "outputId": "9716bdcb-777c-4916-f9e5-920964b9ba97"
      },
      "outputs": [
        {
          "name": "stdout",
          "output_type": "stream",
          "text": [
            "ceiling_height  :  9195\n",
            "floors_total  :  86\n",
            "living_area  :  1903\n",
            "is_apartment  :  20924\n",
            "kitchen_area  :  2278\n",
            "balcony  :  11519\n",
            "locality_name  :  49\n",
            "airports_nearest  :  5542\n",
            "cityCenters_nearest  :  5519\n",
            "parks_around3000  :  5518\n",
            "parks_nearest  :  15620\n",
            "ponds_around3000  :  5518\n",
            "ponds_nearest  :  14589\n",
            "days_exposition  :  3181\n"
          ]
        }
      ],
      "source": [
        "# цикл для расчета колличества значений NaN в талице с ориентацией на колонки\n",
        "num_of_nan = 0\n",
        "list_of_nan = []\n",
        "for i in range(0, len(df.columns)):\n",
        "    num_of_nan = df[df.columns[i]].isnull().sum()\n",
        "    if num_of_nan > 0:\n",
        "        print(df.columns[i], ' : ', num_of_nan)\n",
        "        list_of_nan.append(df.columns[i])"
      ]
    },
    {
      "cell_type": "code",
      "execution_count": null,
      "metadata": {
        "id": "EPrrhXxN52ZI",
        "outputId": "a1489fd5-f934-4962-bbb1-705a3ca634be"
      },
      "outputs": [
        {
          "data": {
            "text/plain": [
              "ceiling_height          9195\n",
              "floors_total              86\n",
              "living_area             1903\n",
              "is_apartment           20924\n",
              "kitchen_area            2278\n",
              "balcony                11519\n",
              "locality_name             49\n",
              "airports_nearest        5542\n",
              "cityCenters_nearest     5519\n",
              "parks_around3000        5518\n",
              "parks_nearest          15620\n",
              "ponds_around3000        5518\n",
              "ponds_nearest          14589\n",
              "days_exposition         3181\n",
              "dtype: int64"
            ]
          },
          "execution_count": 17,
          "metadata": {},
          "output_type": "execute_result"
        }
      ],
      "source": [
        "# Код ревьюера\n",
        "df.isna().sum().where(lambda x : x > 0).dropna().astype('int')"
      ]
    },
    {
      "cell_type": "markdown",
      "metadata": {
        "id": "0rycggaw52ZJ"
      },
      "source": [
        "### Вывод"
      ]
    },
    {
      "cell_type": "markdown",
      "metadata": {
        "id": "ZyVaFpLt52ZJ"
      },
      "source": [
        "Таблица состоит из 22 колонок с данными трех типов: bool(2), int64(3), object(17).\n",
        "\n",
        "Колличество строк в колонках не совпадает, значит есть пропущенные значения или ошибки. \n",
        "С помощью цикла были найдены все столбцы, содержащие значения NaN, а так же посчитано колличество таких значений, что менее важно на данном этапе\n"
      ]
    },
    {
      "cell_type": "markdown",
      "metadata": {
        "id": "bNZ4F8iX52ZJ"
      },
      "source": [
        "## Предобработка данных"
      ]
    },
    {
      "cell_type": "markdown",
      "metadata": {
        "id": "imHirGkh52ZJ"
      },
      "source": [
        "### Преобразование типов данных"
      ]
    },
    {
      "cell_type": "markdown",
      "metadata": {
        "id": "gl0c5jG-52ZJ"
      },
      "source": [
        "Для начала переведем численные значения из типа object в float с сохранением значений NaN. Так мы получаем возможность производить арифметические действия над этими столбцами. Можно преобразовать столбцы значения float в int, но я не вижу в этом особого смысла."
      ]
    },
    {
      "cell_type": "code",
      "execution_count": null,
      "metadata": {
        "id": "Fba7l1_y52ZK",
        "outputId": "273dee69-5c65-419b-b997-44dde189547d"
      },
      "outputs": [
        {
          "name": "stdout",
          "output_type": "stream",
          "text": [
            "<class 'pandas.core.frame.DataFrame'>\n",
            "RangeIndex: 23699 entries, 0 to 23698\n",
            "Data columns (total 22 columns):\n",
            "total_images            23699 non-null int64\n",
            "last_price              23699 non-null float64\n",
            "total_area              23699 non-null float64\n",
            "first_day_exposition    23699 non-null object\n",
            "rooms                   23699 non-null int64\n",
            "ceiling_height          14504 non-null float64\n",
            "floors_total            23613 non-null float64\n",
            "living_area             21796 non-null float64\n",
            "floor                   23699 non-null int64\n",
            "is_apartment            2775 non-null object\n",
            "studio                  23699 non-null bool\n",
            "open_plan               23699 non-null bool\n",
            "kitchen_area            21421 non-null float64\n",
            "balcony                 12180 non-null float64\n",
            "locality_name           23650 non-null object\n",
            "airports_nearest        18157 non-null float64\n",
            "cityCenters_nearest     18180 non-null float64\n",
            "parks_around3000        18181 non-null float64\n",
            "parks_nearest           8079 non-null float64\n",
            "ponds_around3000        18181 non-null float64\n",
            "ponds_nearest           9110 non-null float64\n",
            "days_exposition         20518 non-null float64\n",
            "dtypes: bool(2), float64(14), int64(3), object(3)\n",
            "memory usage: 3.7+ MB\n"
          ]
        }
      ],
      "source": [
        "list_to_numeric = ['last_price', 'total_area', 'ceiling_height', 'floors_total', 'living_area', 'kitchen_area', 'balcony',\n",
        " 'airports_nearest', 'cityCenters_nearest', 'parks_around3000', 'parks_nearest', 'ponds_around3000', 'ponds_nearest',\n",
        " 'days_exposition']\n",
        "for column in list_to_numeric:\n",
        "    df[column] = pd.to_numeric(df[column], errors='ignore')\n",
        "df.info()"
      ]
    },
    {
      "cell_type": "markdown",
      "metadata": {
        "id": "wAEUDdve52ZK"
      },
      "source": [
        "### Обработка значений NaN"
      ]
    },
    {
      "cell_type": "markdown",
      "metadata": {
        "id": "fF2vOBGl52ZK"
      },
      "source": [
        "Вернемся к списку столбцов с значениями nan и посмотрим, что можно с ними сделать."
      ]
    },
    {
      "cell_type": "code",
      "execution_count": null,
      "metadata": {
        "id": "Fy-HKou452ZK",
        "outputId": "d850ec23-384e-42b7-8612-7d64e156e07b"
      },
      "outputs": [
        {
          "data": {
            "text/plain": [
              "['ceiling_height',\n",
              " 'floors_total',\n",
              " 'living_area',\n",
              " 'is_apartment',\n",
              " 'kitchen_area',\n",
              " 'balcony',\n",
              " 'locality_name',\n",
              " 'airports_nearest',\n",
              " 'cityCenters_nearest',\n",
              " 'parks_around3000',\n",
              " 'parks_nearest',\n",
              " 'ponds_around3000',\n",
              " 'ponds_nearest',\n",
              " 'days_exposition']"
            ]
          },
          "execution_count": 19,
          "metadata": {},
          "output_type": "execute_result"
        }
      ],
      "source": [
        "list_of_nan"
      ]
    },
    {
      "cell_type": "markdown",
      "metadata": {
        "id": "ngVgaX1n52ZL"
      },
      "source": [
        "Для начала из списка list_of_nan выберем столбцы с численным типом и посмотрин на их распределения"
      ]
    },
    {
      "cell_type": "code",
      "execution_count": null,
      "metadata": {
        "id": "xno6h75252ZL",
        "outputId": "af699f89-8b40-4c2f-921f-7c2f79ed9ba2"
      },
      "outputs": [
        {
          "data": {
            "image/png": "[encoded data removed]",
            "text/plain": [
              "<Figure size 432x288 with 1 Axes>"
            ]
          },
          "metadata": {
            "needs_background": "light"
          },
          "output_type": "display_data"
        },
        {
          "data": {
            "image/png": "[encoded data removed]",
            "text/plain": [
              "<Figure size 432x288 with 1 Axes>"
            ]
          },
          "metadata": {
            "needs_background": "light"
          },
          "output_type": "display_data"
        },
        {
          "data": {
            "image/png": "[encoded data removed]",
            "text/plain": [
              "<Figure size 432x288 with 1 Axes>"
            ]
          },
          "metadata": {
            "needs_background": "light"
          },
          "output_type": "display_data"
        },
        {
          "data": {
            "image/png": "[encoded data removed]",
            "text/plain": [
              "<Figure size 432x288 with 1 Axes>"
            ]
          },
          "metadata": {
            "needs_background": "light"
          },
          "output_type": "display_data"
        },
        {
          "data": {
            "image/png": "[encoded data removed]",
            "text/plain": [
              "<Figure size 432x288 with 1 Axes>"
            ]
          },
          "metadata": {
            "needs_background": "light"
          },
          "output_type": "display_data"
        },
        {
          "data": {
            "image/png": "[encoded data removed]",
            "text/plain": [
              "<Figure size 432x288 with 1 Axes>"
            ]
          },
          "metadata": {
            "needs_background": "light"
          },
          "output_type": "display_data"
        },
        {
          "data": {
            "image/png": "[encoded data removed]",
            "text/plain": [
              "<Figure size 432x288 with 1 Axes>"
            ]
          },
          "metadata": {
            "needs_background": "light"
          },
          "output_type": "display_data"
        },
        {
          "data": {
            "image/png": "[encoded data removed]",
            "text/plain": [
              "<Figure size 432x288 with 1 Axes>"
            ]
          },
          "metadata": {
            "needs_background": "light"
          },
          "output_type": "display_data"
        },
        {
          "data": {
            "image/png": "[encoded data removed]",
            "text/plain": [
              "<Figure size 432x288 with 1 Axes>"
            ]
          },
          "metadata": {
            "needs_background": "light"
          },
          "output_type": "display_data"
        },
        {
          "data": {
            "image/png": "[encoded data removed]",
            "text/plain": [
              "<Figure size 432x288 with 1 Axes>"
            ]
          },
          "metadata": {
            "needs_background": "light"
          },
          "output_type": "display_data"
        },
        {
          "data": {
            "image/png": "[encoded data removed]",
            "text/plain": [
              "<Figure size 432x288 with 1 Axes>"
            ]
          },
          "metadata": {
            "needs_background": "light"
          },
          "output_type": "display_data"
        }
      ],
      "source": [
        "list_of_nan_numeric = ['ceiling_height',  'floors_total',  'living_area',  'kitchen_area', 'airports_nearest',\n",
        " 'cityCenters_nearest', 'parks_around3000', 'parks_nearest', 'ponds_around3000', 'ponds_nearest', 'days_exposition']\n",
        "for column in list_of_nan_numeric:\n",
        "    df[column].hist(bins = 100)\n",
        "    plt.title(column)                                                                                                   # fixed\n",
        "    plt.show()"
      ]
    },
    {
      "cell_type": "markdown",
      "metadata": {
        "id": "AqovYO7652ZL"
      },
      "source": [
        "Все графики в той или иной мере похожи на распределение Пуассона, поэтому оптимальный вариант замены пропущенных значений будет медианами по каждому соответствующему столбцу. Стоит заметить, что в выборке встречаются довольно любопытные, а иногда даже абсурдные выброы. Например, максимальное значение высоты потолков составляет 100м, а минимальное 1м. Оба значения весьма не правдоподобны и вероятно являются бональной ошибкой при создании заявки. "
      ]
    },
    {
      "cell_type": "code",
      "execution_count": null,
      "metadata": {
        "id": "dJ4_YAAb52ZM",
        "outputId": "dfa5f873-d484-4424-9ea6-d62c257455dd"
      },
      "outputs": [
        {
          "data": {
            "image/png": "[encoded data removed]",
            "text/plain": [
              "<Figure size 432x288 with 1 Axes>"
            ]
          },
          "metadata": {
            "needs_background": "light"
          },
          "output_type": "display_data"
        },
        {
          "data": {
            "image/png": "[encoded data removed]",
            "text/plain": [
              "<Figure size 432x288 with 1 Axes>"
            ]
          },
          "metadata": {
            "needs_background": "light"
          },
          "output_type": "display_data"
        }
      ],
      "source": [
        "df['days_exposition'].hist(bins = 100)\n",
        "plt.show()\n",
        "\n",
        "df['days_exposition'] = df['days_exposition'].fillna(df[column].median())\n",
        "df['days_exposition'].hist(bins = 100)\n",
        "plt.show()"
      ]
    },
    {
      "cell_type": "code",
      "execution_count": null,
      "metadata": {
        "id": "Wab_7Ia_52ZN"
      },
      "outputs": [],
      "source": [
        "df['cityCenters_nearest_km'] = round(df['cityCenters_nearest']/1000, 0)"
      ]
    },
    {
      "cell_type": "code",
      "execution_count": null,
      "metadata": {
        "scrolled": true,
        "id": "xPJaOZ1D52ZN",
        "outputId": "b9a0dbbd-4d77-4a8b-9d3b-d6cb1d632a78"
      },
      "outputs": [
        {
          "data": {
            "image/png": "[encoded data removed]",
            "text/plain": [
              "<Figure size 432x288 with 1 Axes>"
            ]
          },
          "metadata": {
            "needs_background": "light"
          },
          "output_type": "display_data"
        },
        {
          "data": {
            "image/png": "[encoded data removed]",
            "text/plain": [
              "<Figure size 432x288 with 1 Axes>"
            ]
          },
          "metadata": {
            "needs_background": "light"
          },
          "output_type": "display_data"
        }
      ],
      "source": [
        "df.groupby('cityCenters_nearest_km').agg({'ceiling_height': ['median']}).hist(bins = 50)\n",
        "plt.title('медиана по высоте потолков в зависимости от удаленности от центра')    \n",
        "plt.show()\n",
        "df.groupby('cityCenters_nearest_km').agg({'ceiling_height': ['mean']}).hist(bins = 50)\n",
        "plt.title('среднее по высоте потолков в зависимости от удаленности от центра') \n",
        "plt.show()"
      ]
    },
    {
      "cell_type": "markdown",
      "metadata": {
        "id": "f7JXZL8N52ZN"
      },
      "source": [
        "\n",
        "Глядя на графики распределения медиан и средних значений высоты потолков, видно, что второе подходит зля замены NaNов больше, так как распределение более размыто между значениями. Например пиковое значение на первом зрафике по оси ординат равно 15, а на втором 8.\n"
      ]
    },
    {
      "cell_type": "code",
      "execution_count": null,
      "metadata": {
        "id": "cxmJbGXq52ZQ"
      },
      "outputs": [],
      "source": [
        "gb = df.groupby(['total_area','rooms'])\n",
        "df['living_area'] = df['living_area'].fillna(gb['living_area'].transform(lambda group: group.mean() / (group.name[0])) * df['total_area'])\n",
        "df['kitchen_area'] = df['kitchen_area'].fillna(gb['kitchen_area'].transform(lambda group: group.mean() / (group.name[0])) * df['total_area'])"
      ]
    },
    {
      "cell_type": "code",
      "execution_count": null,
      "metadata": {
        "id": "ahzVbt8w52ZQ"
      },
      "outputs": [],
      "source": [
        "list_of_nan_numeric = ['living_area',  'kitchen_area', 'airports_nearest', 'days_exposition']\n",
        "\n",
        "for column in list_of_nan_numeric:\n",
        "    mean_value = df[column].mean()\n",
        "    df[column] = df[column].fillna(mean_value)"
      ]
    },
    {
      "cell_type": "markdown",
      "metadata": {
        "id": "Yu11RViE52ZR"
      },
      "source": [
        "О значениях столбца is_apartment трудно много сказать. Данных совсем не много. Можно было бы попробовать найти соотношение между значениями True и False (50 : 2725 = 1,83%). Это соотношение можно экстраполировать на всю выборку. Однако я считаю такие меры неоправданными, так как объем изветных данных слишком мал, и к тому же повседневный опыт подсказывает нам, что сегодня продается много больше квартир, чем 2 процента от объема оборота жилой недвижимости. В связи с этим оставляю пропущенные значения нетронутыми. Так как объем данных столбца is_apartment составляет всего 11% значений, его можно не рассматривать (делать по нему заключения не разумно)"
      ]
    },
    {
      "cell_type": "code",
      "execution_count": null,
      "metadata": {
        "id": "_H8hOd-Y52ZR",
        "outputId": "95b6a4b2-3564-42e7-89d2-6ec8d4b80148"
      },
      "outputs": [
        {
          "data": {
            "text/plain": [
              "False    2725\n",
              "True       50\n",
              "Name: is_apartment, dtype: int64"
            ]
          },
          "execution_count": 32,
          "metadata": {},
          "output_type": "execute_result"
        }
      ],
      "source": [
        "df['is_apartment'].value_counts()"
      ]
    },
    {
      "cell_type": "markdown",
      "metadata": {
        "id": "NzKL3CB952ZR"
      },
      "source": [
        "Если не указано колличество балконов, скорее всего их нет "
      ]
    },
    {
      "cell_type": "code",
      "execution_count": null,
      "metadata": {
        "id": "yaLCVKeI52ZR"
      },
      "outputs": [],
      "source": [
        "df['balcony'] = df['balcony'].fillna(0)"
      ]
    },
    {
      "cell_type": "code",
      "execution_count": null,
      "metadata": {
        "id": "8LYdSwNi52ZS",
        "outputId": "be9c0f47-0098-4074-f321-16f92bbae5d8"
      },
      "outputs": [
        {
          "data": {
            "text/plain": [
              "Санкт-Петербург               15721\n",
              "посёлок Мурино                  522\n",
              "посёлок Шушары                  440\n",
              "Всеволожск                      398\n",
              "Пушкин                          369\n",
              "                              ...  \n",
              "посёлок Форт Красная Горка        1\n",
              "деревня Малая Романовка           1\n",
              "поселок Цвылёво                   1\n",
              "деревня Терпилицы                 1\n",
              "деревня Щеглово                   1\n",
              "Name: locality_name, Length: 364, dtype: int64"
            ]
          },
          "execution_count": 34,
          "metadata": {},
          "output_type": "execute_result"
        }
      ],
      "source": [
        "df['locality_name'].value_counts()"
      ]
    },
    {
      "cell_type": "markdown",
      "metadata": {
        "id": "4TLmtD8y52ZS"
      },
      "source": [
        "Сказать что-то конкретное о пропущенных значениях в колонке locality_name так же сложно, как и со значениями в is_apartment. Однако в данном случае их всего 50, что не сильно меняет ситуацию в любом варианте замены. Есть два варианта развития событий: присоеденить эти значения к анкт-Петербургу или согдать отдельную группу \"Неизвестный\". Я предпочту второй вариант, так как это позволит остаться чуть более объективнее. К тому же такие значения пропущены скорее всего из-за нестандартных ситуаций, когда дома находятся на стыке нескольких населенных пунктов или вообще за их пределами."
      ]
    },
    {
      "cell_type": "code",
      "execution_count": null,
      "metadata": {
        "id": "JxPg4dks52ZS"
      },
      "outputs": [],
      "source": [
        "df['locality_name'] = df['locality_name'].fillna('Неизвестный')"
      ]
    },
    {
      "cell_type": "code",
      "execution_count": null,
      "metadata": {
        "id": "9adrzsWY52ZT",
        "outputId": "ef29b023-1b6b-4194-9b9a-10df0b37a0fb"
      },
      "outputs": [
        {
          "name": "stdout",
          "output_type": "stream",
          "text": [
            "ceiling_height  :  5484\n",
            "floors_total  :  86\n",
            "is_apartment  :  20924\n",
            "cityCenters_nearest  :  5519\n",
            "parks_around3000  :  5518\n",
            "parks_nearest  :  15620\n",
            "ponds_around3000  :  5518\n",
            "ponds_nearest  :  14589\n"
          ]
        }
      ],
      "source": [
        "# проверка\n",
        "num_of_nan = 0\n",
        "list_of_nan_2 = []\n",
        "for i in range(0, len(df.columns)):\n",
        "    num_of_nan = df[df.columns[i]].isnull().sum()\n",
        "    if num_of_nan > 0:\n",
        "        print(df.columns[i], ' : ', num_of_nan)\n",
        "        list_of_nan_2.append(df.columns[i])"
      ]
    },
    {
      "cell_type": "markdown",
      "metadata": {
        "id": "Uu4RMSOj52ZT"
      },
      "source": [
        "## Расчёты и добавление результатов в таблицу"
      ]
    },
    {
      "cell_type": "markdown",
      "metadata": {
        "id": "ZiDySD9752ZU"
      },
      "source": [
        "### Цена квадратного метра"
      ]
    },
    {
      "cell_type": "code",
      "execution_count": null,
      "metadata": {
        "id": "ATo7kLoN52ZU",
        "outputId": "5caf3c3a-48e1-4539-95e2-f100839796c2"
      },
      "outputs": [
        {
          "data": {
            "text/html": [
              "<div>\n",
              "<style scoped>\n",
              "    .dataframe tbody tr th:only-of-type {\n",
              "        vertical-align: middle;\n",
              "    }\n",
              "\n",
              "    .dataframe tbody tr th {\n",
              "        vertical-align: top;\n",
              "    }\n",
              "\n",
              "    .dataframe thead th {\n",
              "        text-align: right;\n",
              "    }\n",
              "</style>\n",
              "<table border=\"1\" class=\"dataframe\">\n",
              "  <thead>\n",
              "    <tr style=\"text-align: right;\">\n",
              "      <th></th>\n",
              "      <th>total_images</th>\n",
              "      <th>last_price</th>\n",
              "      <th>total_area</th>\n",
              "      <th>first_day_exposition</th>\n",
              "      <th>rooms</th>\n",
              "      <th>ceiling_height</th>\n",
              "      <th>floors_total</th>\n",
              "      <th>living_area</th>\n",
              "      <th>floor</th>\n",
              "      <th>is_apartment</th>\n",
              "      <th>...</th>\n",
              "      <th>balcony</th>\n",
              "      <th>locality_name</th>\n",
              "      <th>airports_nearest</th>\n",
              "      <th>cityCenters_nearest</th>\n",
              "      <th>parks_around3000</th>\n",
              "      <th>parks_nearest</th>\n",
              "      <th>ponds_around3000</th>\n",
              "      <th>ponds_nearest</th>\n",
              "      <th>days_exposition</th>\n",
              "      <th>price_squere_meter</th>\n",
              "    </tr>\n",
              "  </thead>\n",
              "  <tbody>\n",
              "    <tr>\n",
              "      <td>0</td>\n",
              "      <td>20</td>\n",
              "      <td>13000000.0</td>\n",
              "      <td>108.0</td>\n",
              "      <td>2019-03-07T00:00:00</td>\n",
              "      <td>3</td>\n",
              "      <td>2.70</td>\n",
              "      <td>16.0</td>\n",
              "      <td>51.0</td>\n",
              "      <td>8</td>\n",
              "      <td>NaN</td>\n",
              "      <td>...</td>\n",
              "      <td>0.0</td>\n",
              "      <td>Санкт-Петербург</td>\n",
              "      <td>18863.0</td>\n",
              "      <td>16028.0</td>\n",
              "      <td>1.0</td>\n",
              "      <td>482.0</td>\n",
              "      <td>2.0</td>\n",
              "      <td>755.0</td>\n",
              "      <td>180.888634</td>\n",
              "      <td>120370.0</td>\n",
              "    </tr>\n",
              "    <tr>\n",
              "      <td>1</td>\n",
              "      <td>7</td>\n",
              "      <td>3350000.0</td>\n",
              "      <td>40.4</td>\n",
              "      <td>2018-12-04T00:00:00</td>\n",
              "      <td>1</td>\n",
              "      <td>NaN</td>\n",
              "      <td>11.0</td>\n",
              "      <td>18.6</td>\n",
              "      <td>1</td>\n",
              "      <td>NaN</td>\n",
              "      <td>...</td>\n",
              "      <td>2.0</td>\n",
              "      <td>посёлок Шушары</td>\n",
              "      <td>12817.0</td>\n",
              "      <td>18603.0</td>\n",
              "      <td>0.0</td>\n",
              "      <td>NaN</td>\n",
              "      <td>0.0</td>\n",
              "      <td>NaN</td>\n",
              "      <td>81.000000</td>\n",
              "      <td>82921.0</td>\n",
              "    </tr>\n",
              "    <tr>\n",
              "      <td>2</td>\n",
              "      <td>10</td>\n",
              "      <td>5196000.0</td>\n",
              "      <td>56.0</td>\n",
              "      <td>2015-08-20T00:00:00</td>\n",
              "      <td>2</td>\n",
              "      <td>NaN</td>\n",
              "      <td>5.0</td>\n",
              "      <td>34.3</td>\n",
              "      <td>4</td>\n",
              "      <td>NaN</td>\n",
              "      <td>...</td>\n",
              "      <td>0.0</td>\n",
              "      <td>Санкт-Петербург</td>\n",
              "      <td>21741.0</td>\n",
              "      <td>13933.0</td>\n",
              "      <td>1.0</td>\n",
              "      <td>90.0</td>\n",
              "      <td>2.0</td>\n",
              "      <td>574.0</td>\n",
              "      <td>558.000000</td>\n",
              "      <td>92786.0</td>\n",
              "    </tr>\n",
              "    <tr>\n",
              "      <td>3</td>\n",
              "      <td>0</td>\n",
              "      <td>64900000.0</td>\n",
              "      <td>159.0</td>\n",
              "      <td>2015-07-24T00:00:00</td>\n",
              "      <td>3</td>\n",
              "      <td>3.00</td>\n",
              "      <td>14.0</td>\n",
              "      <td>54.0</td>\n",
              "      <td>9</td>\n",
              "      <td>NaN</td>\n",
              "      <td>...</td>\n",
              "      <td>0.0</td>\n",
              "      <td>Санкт-Петербург</td>\n",
              "      <td>28098.0</td>\n",
              "      <td>6800.0</td>\n",
              "      <td>2.0</td>\n",
              "      <td>84.0</td>\n",
              "      <td>3.0</td>\n",
              "      <td>234.0</td>\n",
              "      <td>424.000000</td>\n",
              "      <td>408176.0</td>\n",
              "    </tr>\n",
              "    <tr>\n",
              "      <td>4</td>\n",
              "      <td>2</td>\n",
              "      <td>10000000.0</td>\n",
              "      <td>100.0</td>\n",
              "      <td>2018-06-19T00:00:00</td>\n",
              "      <td>2</td>\n",
              "      <td>3.03</td>\n",
              "      <td>14.0</td>\n",
              "      <td>32.0</td>\n",
              "      <td>13</td>\n",
              "      <td>NaN</td>\n",
              "      <td>...</td>\n",
              "      <td>0.0</td>\n",
              "      <td>Санкт-Петербург</td>\n",
              "      <td>31856.0</td>\n",
              "      <td>8098.0</td>\n",
              "      <td>2.0</td>\n",
              "      <td>112.0</td>\n",
              "      <td>1.0</td>\n",
              "      <td>48.0</td>\n",
              "      <td>121.000000</td>\n",
              "      <td>100000.0</td>\n",
              "    </tr>\n",
              "  </tbody>\n",
              "</table>\n",
              "<p>5 rows × 23 columns</p>\n",
              "</div>"
            ],
            "text/plain": [
              "   total_images  last_price  total_area first_day_exposition  rooms  \\\n",
              "0            20  13000000.0       108.0  2019-03-07T00:00:00      3   \n",
              "1             7   3350000.0        40.4  2018-12-04T00:00:00      1   \n",
              "2            10   5196000.0        56.0  2015-08-20T00:00:00      2   \n",
              "3             0  64900000.0       159.0  2015-07-24T00:00:00      3   \n",
              "4             2  10000000.0       100.0  2018-06-19T00:00:00      2   \n",
              "\n",
              "   ceiling_height  floors_total  living_area  floor is_apartment  ...  \\\n",
              "0            2.70          16.0         51.0      8          NaN  ...   \n",
              "1             NaN          11.0         18.6      1          NaN  ...   \n",
              "2             NaN           5.0         34.3      4          NaN  ...   \n",
              "3            3.00          14.0         54.0      9          NaN  ...   \n",
              "4            3.03          14.0         32.0     13          NaN  ...   \n",
              "\n",
              "   balcony    locality_name  airports_nearest  cityCenters_nearest  \\\n",
              "0      0.0  Санкт-Петербург           18863.0              16028.0   \n",
              "1      2.0   посёлок Шушары           12817.0              18603.0   \n",
              "2      0.0  Санкт-Петербург           21741.0              13933.0   \n",
              "3      0.0  Санкт-Петербург           28098.0               6800.0   \n",
              "4      0.0  Санкт-Петербург           31856.0               8098.0   \n",
              "\n",
              "  parks_around3000  parks_nearest  ponds_around3000  ponds_nearest  \\\n",
              "0              1.0          482.0               2.0          755.0   \n",
              "1              0.0            NaN               0.0            NaN   \n",
              "2              1.0           90.0               2.0          574.0   \n",
              "3              2.0           84.0               3.0          234.0   \n",
              "4              2.0          112.0               1.0           48.0   \n",
              "\n",
              "   days_exposition  price_squere_meter  \n",
              "0       180.888634            120370.0  \n",
              "1        81.000000             82921.0  \n",
              "2       558.000000             92786.0  \n",
              "3       424.000000            408176.0  \n",
              "4       121.000000            100000.0  \n",
              "\n",
              "[5 rows x 23 columns]"
            ]
          },
          "execution_count": 22,
          "metadata": {},
          "output_type": "execute_result"
        }
      ],
      "source": [
        "df['price_squere_meter'] = round(df['last_price'] / df['total_area'], 0)\n",
        "df.head()"
      ]
    },
    {
      "cell_type": "markdown",
      "metadata": {
        "id": "QsRIxzbw52ZU"
      },
      "source": [
        "### День недели, месяц и год публикации объявления"
      ]
    },
    {
      "cell_type": "code",
      "execution_count": null,
      "metadata": {
        "id": "T1CLUdL452ZU",
        "outputId": "2734da61-0643-4f8a-ef9e-b1cf1c952e34"
      },
      "outputs": [
        {
          "data": {
            "text/html": [
              "<div>\n",
              "<style scoped>\n",
              "    .dataframe tbody tr th:only-of-type {\n",
              "        vertical-align: middle;\n",
              "    }\n",
              "\n",
              "    .dataframe tbody tr th {\n",
              "        vertical-align: top;\n",
              "    }\n",
              "\n",
              "    .dataframe thead th {\n",
              "        text-align: right;\n",
              "    }\n",
              "</style>\n",
              "<table border=\"1\" class=\"dataframe\">\n",
              "  <thead>\n",
              "    <tr style=\"text-align: right;\">\n",
              "      <th></th>\n",
              "      <th>total_images</th>\n",
              "      <th>last_price</th>\n",
              "      <th>total_area</th>\n",
              "      <th>first_day_exposition</th>\n",
              "      <th>rooms</th>\n",
              "      <th>ceiling_height</th>\n",
              "      <th>floors_total</th>\n",
              "      <th>living_area</th>\n",
              "      <th>floor</th>\n",
              "      <th>is_apartment</th>\n",
              "      <th>...</th>\n",
              "      <th>cityCenters_nearest</th>\n",
              "      <th>parks_around3000</th>\n",
              "      <th>parks_nearest</th>\n",
              "      <th>ponds_around3000</th>\n",
              "      <th>ponds_nearest</th>\n",
              "      <th>days_exposition</th>\n",
              "      <th>price_squere_meter</th>\n",
              "      <th>date_year</th>\n",
              "      <th>date_month</th>\n",
              "      <th>date_weekday</th>\n",
              "    </tr>\n",
              "  </thead>\n",
              "  <tbody>\n",
              "    <tr>\n",
              "      <td>0</td>\n",
              "      <td>20</td>\n",
              "      <td>13000000.0</td>\n",
              "      <td>108.0</td>\n",
              "      <td>2019-03-07T00:00:00</td>\n",
              "      <td>3</td>\n",
              "      <td>2.70</td>\n",
              "      <td>16.0</td>\n",
              "      <td>51.0</td>\n",
              "      <td>8</td>\n",
              "      <td>NaN</td>\n",
              "      <td>...</td>\n",
              "      <td>16028.0</td>\n",
              "      <td>1.0</td>\n",
              "      <td>482.0</td>\n",
              "      <td>2.0</td>\n",
              "      <td>755.0</td>\n",
              "      <td>180.888634</td>\n",
              "      <td>120370.0</td>\n",
              "      <td>2019</td>\n",
              "      <td>3</td>\n",
              "      <td>3</td>\n",
              "    </tr>\n",
              "    <tr>\n",
              "      <td>1</td>\n",
              "      <td>7</td>\n",
              "      <td>3350000.0</td>\n",
              "      <td>40.4</td>\n",
              "      <td>2018-12-04T00:00:00</td>\n",
              "      <td>1</td>\n",
              "      <td>NaN</td>\n",
              "      <td>11.0</td>\n",
              "      <td>18.6</td>\n",
              "      <td>1</td>\n",
              "      <td>NaN</td>\n",
              "      <td>...</td>\n",
              "      <td>18603.0</td>\n",
              "      <td>0.0</td>\n",
              "      <td>NaN</td>\n",
              "      <td>0.0</td>\n",
              "      <td>NaN</td>\n",
              "      <td>81.000000</td>\n",
              "      <td>82921.0</td>\n",
              "      <td>2018</td>\n",
              "      <td>12</td>\n",
              "      <td>1</td>\n",
              "    </tr>\n",
              "    <tr>\n",
              "      <td>2</td>\n",
              "      <td>10</td>\n",
              "      <td>5196000.0</td>\n",
              "      <td>56.0</td>\n",
              "      <td>2015-08-20T00:00:00</td>\n",
              "      <td>2</td>\n",
              "      <td>NaN</td>\n",
              "      <td>5.0</td>\n",
              "      <td>34.3</td>\n",
              "      <td>4</td>\n",
              "      <td>NaN</td>\n",
              "      <td>...</td>\n",
              "      <td>13933.0</td>\n",
              "      <td>1.0</td>\n",
              "      <td>90.0</td>\n",
              "      <td>2.0</td>\n",
              "      <td>574.0</td>\n",
              "      <td>558.000000</td>\n",
              "      <td>92786.0</td>\n",
              "      <td>2015</td>\n",
              "      <td>8</td>\n",
              "      <td>3</td>\n",
              "    </tr>\n",
              "    <tr>\n",
              "      <td>3</td>\n",
              "      <td>0</td>\n",
              "      <td>64900000.0</td>\n",
              "      <td>159.0</td>\n",
              "      <td>2015-07-24T00:00:00</td>\n",
              "      <td>3</td>\n",
              "      <td>3.00</td>\n",
              "      <td>14.0</td>\n",
              "      <td>54.0</td>\n",
              "      <td>9</td>\n",
              "      <td>NaN</td>\n",
              "      <td>...</td>\n",
              "      <td>6800.0</td>\n",
              "      <td>2.0</td>\n",
              "      <td>84.0</td>\n",
              "      <td>3.0</td>\n",
              "      <td>234.0</td>\n",
              "      <td>424.000000</td>\n",
              "      <td>408176.0</td>\n",
              "      <td>2015</td>\n",
              "      <td>7</td>\n",
              "      <td>4</td>\n",
              "    </tr>\n",
              "    <tr>\n",
              "      <td>4</td>\n",
              "      <td>2</td>\n",
              "      <td>10000000.0</td>\n",
              "      <td>100.0</td>\n",
              "      <td>2018-06-19T00:00:00</td>\n",
              "      <td>2</td>\n",
              "      <td>3.03</td>\n",
              "      <td>14.0</td>\n",
              "      <td>32.0</td>\n",
              "      <td>13</td>\n",
              "      <td>NaN</td>\n",
              "      <td>...</td>\n",
              "      <td>8098.0</td>\n",
              "      <td>2.0</td>\n",
              "      <td>112.0</td>\n",
              "      <td>1.0</td>\n",
              "      <td>48.0</td>\n",
              "      <td>121.000000</td>\n",
              "      <td>100000.0</td>\n",
              "      <td>2018</td>\n",
              "      <td>6</td>\n",
              "      <td>1</td>\n",
              "    </tr>\n",
              "  </tbody>\n",
              "</table>\n",
              "<p>5 rows × 26 columns</p>\n",
              "</div>"
            ],
            "text/plain": [
              "   total_images  last_price  total_area first_day_exposition  rooms  \\\n",
              "0            20  13000000.0       108.0  2019-03-07T00:00:00      3   \n",
              "1             7   3350000.0        40.4  2018-12-04T00:00:00      1   \n",
              "2            10   5196000.0        56.0  2015-08-20T00:00:00      2   \n",
              "3             0  64900000.0       159.0  2015-07-24T00:00:00      3   \n",
              "4             2  10000000.0       100.0  2018-06-19T00:00:00      2   \n",
              "\n",
              "   ceiling_height  floors_total  living_area  floor is_apartment  ...  \\\n",
              "0            2.70          16.0         51.0      8          NaN  ...   \n",
              "1             NaN          11.0         18.6      1          NaN  ...   \n",
              "2             NaN           5.0         34.3      4          NaN  ...   \n",
              "3            3.00          14.0         54.0      9          NaN  ...   \n",
              "4            3.03          14.0         32.0     13          NaN  ...   \n",
              "\n",
              "   cityCenters_nearest  parks_around3000  parks_nearest  ponds_around3000  \\\n",
              "0              16028.0               1.0          482.0               2.0   \n",
              "1              18603.0               0.0            NaN               0.0   \n",
              "2              13933.0               1.0           90.0               2.0   \n",
              "3               6800.0               2.0           84.0               3.0   \n",
              "4               8098.0               2.0          112.0               1.0   \n",
              "\n",
              "  ponds_nearest  days_exposition  price_squere_meter  date_year  date_month  \\\n",
              "0         755.0       180.888634            120370.0       2019           3   \n",
              "1           NaN        81.000000             82921.0       2018          12   \n",
              "2         574.0       558.000000             92786.0       2015           8   \n",
              "3         234.0       424.000000            408176.0       2015           7   \n",
              "4          48.0       121.000000            100000.0       2018           6   \n",
              "\n",
              "   date_weekday  \n",
              "0             3  \n",
              "1             1  \n",
              "2             3  \n",
              "3             4  \n",
              "4             1  \n",
              "\n",
              "[5 rows x 26 columns]"
            ]
          },
          "execution_count": 23,
          "metadata": {},
          "output_type": "execute_result"
        }
      ],
      "source": [
        "df['date_year'] = pd.DatetimeIndex(df['first_day_exposition']).year\n",
        "df['date_month'] = pd.DatetimeIndex(df['first_day_exposition']).month\n",
        "df['date_weekday'] = pd.DatetimeIndex(df['first_day_exposition']).weekday\n",
        "df.head() # поленилаcь прописать месеца и дни недели (0 = Monday) словами"
      ]
    },
    {
      "cell_type": "markdown",
      "metadata": {
        "id": "qxhJHLH_52ZV"
      },
      "source": [
        "### Этаж квартиры; варианты — первый, последний, другой"
      ]
    },
    {
      "cell_type": "code",
      "execution_count": null,
      "metadata": {
        "id": "ok_KoVi252ZV"
      },
      "outputs": [],
      "source": [
        "# функция не сработала, так как работает с переменными, а на вход планировалось подавать столбцы\n",
        "\n",
        "def floor_location(now_floor, last_floor):\n",
        "    if now_floor == 1: \n",
        "        return 'первый'\n",
        "    if now_floor == last_floor:\n",
        "        return 'последний'\n",
        "    if now_floor < last_floor: \n",
        "        return 'другой'"
      ]
    },
    {
      "cell_type": "code",
      "execution_count": null,
      "metadata": {
        "id": "127a9VdZ52ZV"
      },
      "outputs": [],
      "source": [
        "#df['floor_location'] = df['is_apartment']  # создаем новый столбец строкового типа\n",
        "#for i in range(0, len(df)):\n",
        "#    if df['floor'][i] == 1: \n",
        "#        df['floor_location'][i] = '1' # первый\n",
        "#    elif df['floor'][i] == df['floors_total'][i]: \n",
        "#        df['floor_location'][i] = '3' # последний\n",
        "#    elif df['floor'][i] < df['floors_total'][i]: \n",
        "#        df['floor_location'][i] = '2' # другой\n",
        "#df['floor_location'] = pd.to_numeric(df['floor_location'], errors='ignore')\n",
        "#df.head()"
      ]
    },
    {
      "cell_type": "code",
      "execution_count": null,
      "metadata": {
        "id": "uiPZ7kuX52ZW",
        "outputId": "8056891b-8b88-47ab-a576-63e2f5c077cc"
      },
      "outputs": [
        {
          "data": {
            "text/html": [
              "<div>\n",
              "<style scoped>\n",
              "    .dataframe tbody tr th:only-of-type {\n",
              "        vertical-align: middle;\n",
              "    }\n",
              "\n",
              "    .dataframe tbody tr th {\n",
              "        vertical-align: top;\n",
              "    }\n",
              "\n",
              "    .dataframe thead th {\n",
              "        text-align: right;\n",
              "    }\n",
              "</style>\n",
              "<table border=\"1\" class=\"dataframe\">\n",
              "  <thead>\n",
              "    <tr style=\"text-align: right;\">\n",
              "      <th></th>\n",
              "      <th>total_images</th>\n",
              "      <th>last_price</th>\n",
              "      <th>total_area</th>\n",
              "      <th>first_day_exposition</th>\n",
              "      <th>rooms</th>\n",
              "      <th>ceiling_height</th>\n",
              "      <th>floors_total</th>\n",
              "      <th>living_area</th>\n",
              "      <th>floor</th>\n",
              "      <th>is_apartment</th>\n",
              "      <th>...</th>\n",
              "      <th>parks_around3000</th>\n",
              "      <th>parks_nearest</th>\n",
              "      <th>ponds_around3000</th>\n",
              "      <th>ponds_nearest</th>\n",
              "      <th>days_exposition</th>\n",
              "      <th>price_squere_meter</th>\n",
              "      <th>date_year</th>\n",
              "      <th>date_month</th>\n",
              "      <th>date_weekday</th>\n",
              "      <th>floor_location</th>\n",
              "    </tr>\n",
              "  </thead>\n",
              "  <tbody>\n",
              "    <tr>\n",
              "      <td>0</td>\n",
              "      <td>20</td>\n",
              "      <td>13000000.0</td>\n",
              "      <td>108.0</td>\n",
              "      <td>2019-03-07T00:00:00</td>\n",
              "      <td>3</td>\n",
              "      <td>2.70</td>\n",
              "      <td>16.0</td>\n",
              "      <td>51.0</td>\n",
              "      <td>8</td>\n",
              "      <td>NaN</td>\n",
              "      <td>...</td>\n",
              "      <td>1.0</td>\n",
              "      <td>482.0</td>\n",
              "      <td>2.0</td>\n",
              "      <td>755.0</td>\n",
              "      <td>180.888634</td>\n",
              "      <td>120370.0</td>\n",
              "      <td>2019</td>\n",
              "      <td>3</td>\n",
              "      <td>3</td>\n",
              "      <td>другой</td>\n",
              "    </tr>\n",
              "    <tr>\n",
              "      <td>1</td>\n",
              "      <td>7</td>\n",
              "      <td>3350000.0</td>\n",
              "      <td>40.4</td>\n",
              "      <td>2018-12-04T00:00:00</td>\n",
              "      <td>1</td>\n",
              "      <td>NaN</td>\n",
              "      <td>11.0</td>\n",
              "      <td>18.6</td>\n",
              "      <td>1</td>\n",
              "      <td>NaN</td>\n",
              "      <td>...</td>\n",
              "      <td>0.0</td>\n",
              "      <td>NaN</td>\n",
              "      <td>0.0</td>\n",
              "      <td>NaN</td>\n",
              "      <td>81.000000</td>\n",
              "      <td>82921.0</td>\n",
              "      <td>2018</td>\n",
              "      <td>12</td>\n",
              "      <td>1</td>\n",
              "      <td>первый</td>\n",
              "    </tr>\n",
              "    <tr>\n",
              "      <td>2</td>\n",
              "      <td>10</td>\n",
              "      <td>5196000.0</td>\n",
              "      <td>56.0</td>\n",
              "      <td>2015-08-20T00:00:00</td>\n",
              "      <td>2</td>\n",
              "      <td>NaN</td>\n",
              "      <td>5.0</td>\n",
              "      <td>34.3</td>\n",
              "      <td>4</td>\n",
              "      <td>NaN</td>\n",
              "      <td>...</td>\n",
              "      <td>1.0</td>\n",
              "      <td>90.0</td>\n",
              "      <td>2.0</td>\n",
              "      <td>574.0</td>\n",
              "      <td>558.000000</td>\n",
              "      <td>92786.0</td>\n",
              "      <td>2015</td>\n",
              "      <td>8</td>\n",
              "      <td>3</td>\n",
              "      <td>другой</td>\n",
              "    </tr>\n",
              "    <tr>\n",
              "      <td>3</td>\n",
              "      <td>0</td>\n",
              "      <td>64900000.0</td>\n",
              "      <td>159.0</td>\n",
              "      <td>2015-07-24T00:00:00</td>\n",
              "      <td>3</td>\n",
              "      <td>3.00</td>\n",
              "      <td>14.0</td>\n",
              "      <td>54.0</td>\n",
              "      <td>9</td>\n",
              "      <td>NaN</td>\n",
              "      <td>...</td>\n",
              "      <td>2.0</td>\n",
              "      <td>84.0</td>\n",
              "      <td>3.0</td>\n",
              "      <td>234.0</td>\n",
              "      <td>424.000000</td>\n",
              "      <td>408176.0</td>\n",
              "      <td>2015</td>\n",
              "      <td>7</td>\n",
              "      <td>4</td>\n",
              "      <td>другой</td>\n",
              "    </tr>\n",
              "    <tr>\n",
              "      <td>4</td>\n",
              "      <td>2</td>\n",
              "      <td>10000000.0</td>\n",
              "      <td>100.0</td>\n",
              "      <td>2018-06-19T00:00:00</td>\n",
              "      <td>2</td>\n",
              "      <td>3.03</td>\n",
              "      <td>14.0</td>\n",
              "      <td>32.0</td>\n",
              "      <td>13</td>\n",
              "      <td>NaN</td>\n",
              "      <td>...</td>\n",
              "      <td>2.0</td>\n",
              "      <td>112.0</td>\n",
              "      <td>1.0</td>\n",
              "      <td>48.0</td>\n",
              "      <td>121.000000</td>\n",
              "      <td>100000.0</td>\n",
              "      <td>2018</td>\n",
              "      <td>6</td>\n",
              "      <td>1</td>\n",
              "      <td>другой</td>\n",
              "    </tr>\n",
              "  </tbody>\n",
              "</table>\n",
              "<p>5 rows × 27 columns</p>\n",
              "</div>"
            ],
            "text/plain": [
              "   total_images  last_price  total_area first_day_exposition  rooms  \\\n",
              "0            20  13000000.0       108.0  2019-03-07T00:00:00      3   \n",
              "1             7   3350000.0        40.4  2018-12-04T00:00:00      1   \n",
              "2            10   5196000.0        56.0  2015-08-20T00:00:00      2   \n",
              "3             0  64900000.0       159.0  2015-07-24T00:00:00      3   \n",
              "4             2  10000000.0       100.0  2018-06-19T00:00:00      2   \n",
              "\n",
              "   ceiling_height  floors_total  living_area  floor is_apartment  ...  \\\n",
              "0            2.70          16.0         51.0      8          NaN  ...   \n",
              "1             NaN          11.0         18.6      1          NaN  ...   \n",
              "2             NaN           5.0         34.3      4          NaN  ...   \n",
              "3            3.00          14.0         54.0      9          NaN  ...   \n",
              "4            3.03          14.0         32.0     13          NaN  ...   \n",
              "\n",
              "   parks_around3000  parks_nearest  ponds_around3000  ponds_nearest  \\\n",
              "0               1.0          482.0               2.0          755.0   \n",
              "1               0.0            NaN               0.0            NaN   \n",
              "2               1.0           90.0               2.0          574.0   \n",
              "3               2.0           84.0               3.0          234.0   \n",
              "4               2.0          112.0               1.0           48.0   \n",
              "\n",
              "  days_exposition  price_squere_meter  date_year  date_month  date_weekday  \\\n",
              "0      180.888634            120370.0       2019           3             3   \n",
              "1       81.000000             82921.0       2018          12             1   \n",
              "2      558.000000             92786.0       2015           8             3   \n",
              "3      424.000000            408176.0       2015           7             4   \n",
              "4      121.000000            100000.0       2018           6             1   \n",
              "\n",
              "   floor_location  \n",
              "0          другой  \n",
              "1          первый  \n",
              "2          другой  \n",
              "3          другой  \n",
              "4          другой  \n",
              "\n",
              "[5 rows x 27 columns]"
            ]
          },
          "execution_count": 25,
          "metadata": {},
          "output_type": "execute_result"
        }
      ],
      "source": [
        "df['floor_location'] = df['is_apartment']  # создаем новый столбец строкового типа\n",
        "\n",
        "df['floor_location'] = df.apply(lambda x: floor_location(x['floor'], x['floors_total']), axis = 1)\n",
        "df.head()"
      ]
    },
    {
      "cell_type": "markdown",
      "metadata": {
        "id": "zi2ELpqX52ZW"
      },
      "source": [
        "### соотношение жилой и общей площади, а также отношение площади кухни к общей"
      ]
    },
    {
      "cell_type": "code",
      "execution_count": null,
      "metadata": {
        "id": "N0kFLKUD52ZW",
        "outputId": "a32263f0-15ad-4693-bf6d-5b325492b308"
      },
      "outputs": [
        {
          "data": {
            "text/html": [
              "<div>\n",
              "<style scoped>\n",
              "    .dataframe tbody tr th:only-of-type {\n",
              "        vertical-align: middle;\n",
              "    }\n",
              "\n",
              "    .dataframe tbody tr th {\n",
              "        vertical-align: top;\n",
              "    }\n",
              "\n",
              "    .dataframe thead th {\n",
              "        text-align: right;\n",
              "    }\n",
              "</style>\n",
              "<table border=\"1\" class=\"dataframe\">\n",
              "  <thead>\n",
              "    <tr style=\"text-align: right;\">\n",
              "      <th></th>\n",
              "      <th>total_images</th>\n",
              "      <th>last_price</th>\n",
              "      <th>total_area</th>\n",
              "      <th>first_day_exposition</th>\n",
              "      <th>rooms</th>\n",
              "      <th>ceiling_height</th>\n",
              "      <th>floors_total</th>\n",
              "      <th>living_area</th>\n",
              "      <th>floor</th>\n",
              "      <th>is_apartment</th>\n",
              "      <th>...</th>\n",
              "      <th>ponds_around3000</th>\n",
              "      <th>ponds_nearest</th>\n",
              "      <th>days_exposition</th>\n",
              "      <th>price_squere_meter</th>\n",
              "      <th>date_year</th>\n",
              "      <th>date_month</th>\n",
              "      <th>date_weekday</th>\n",
              "      <th>floor_location</th>\n",
              "      <th>living_per_total</th>\n",
              "      <th>kitchen_per_total</th>\n",
              "    </tr>\n",
              "  </thead>\n",
              "  <tbody>\n",
              "    <tr>\n",
              "      <td>0</td>\n",
              "      <td>20</td>\n",
              "      <td>13000000.0</td>\n",
              "      <td>108.0</td>\n",
              "      <td>2019-03-07T00:00:00</td>\n",
              "      <td>3</td>\n",
              "      <td>2.70</td>\n",
              "      <td>16.0</td>\n",
              "      <td>51.0</td>\n",
              "      <td>8</td>\n",
              "      <td>NaN</td>\n",
              "      <td>...</td>\n",
              "      <td>2.0</td>\n",
              "      <td>755.0</td>\n",
              "      <td>180.888634</td>\n",
              "      <td>120370.0</td>\n",
              "      <td>2019</td>\n",
              "      <td>3</td>\n",
              "      <td>3</td>\n",
              "      <td>другой</td>\n",
              "      <td>0.47</td>\n",
              "      <td>0.23</td>\n",
              "    </tr>\n",
              "    <tr>\n",
              "      <td>1</td>\n",
              "      <td>7</td>\n",
              "      <td>3350000.0</td>\n",
              "      <td>40.4</td>\n",
              "      <td>2018-12-04T00:00:00</td>\n",
              "      <td>1</td>\n",
              "      <td>NaN</td>\n",
              "      <td>11.0</td>\n",
              "      <td>18.6</td>\n",
              "      <td>1</td>\n",
              "      <td>NaN</td>\n",
              "      <td>...</td>\n",
              "      <td>0.0</td>\n",
              "      <td>NaN</td>\n",
              "      <td>81.000000</td>\n",
              "      <td>82921.0</td>\n",
              "      <td>2018</td>\n",
              "      <td>12</td>\n",
              "      <td>1</td>\n",
              "      <td>первый</td>\n",
              "      <td>0.46</td>\n",
              "      <td>0.27</td>\n",
              "    </tr>\n",
              "    <tr>\n",
              "      <td>2</td>\n",
              "      <td>10</td>\n",
              "      <td>5196000.0</td>\n",
              "      <td>56.0</td>\n",
              "      <td>2015-08-20T00:00:00</td>\n",
              "      <td>2</td>\n",
              "      <td>NaN</td>\n",
              "      <td>5.0</td>\n",
              "      <td>34.3</td>\n",
              "      <td>4</td>\n",
              "      <td>NaN</td>\n",
              "      <td>...</td>\n",
              "      <td>2.0</td>\n",
              "      <td>574.0</td>\n",
              "      <td>558.000000</td>\n",
              "      <td>92786.0</td>\n",
              "      <td>2015</td>\n",
              "      <td>8</td>\n",
              "      <td>3</td>\n",
              "      <td>другой</td>\n",
              "      <td>0.61</td>\n",
              "      <td>0.15</td>\n",
              "    </tr>\n",
              "    <tr>\n",
              "      <td>3</td>\n",
              "      <td>0</td>\n",
              "      <td>64900000.0</td>\n",
              "      <td>159.0</td>\n",
              "      <td>2015-07-24T00:00:00</td>\n",
              "      <td>3</td>\n",
              "      <td>3.00</td>\n",
              "      <td>14.0</td>\n",
              "      <td>54.0</td>\n",
              "      <td>9</td>\n",
              "      <td>NaN</td>\n",
              "      <td>...</td>\n",
              "      <td>3.0</td>\n",
              "      <td>234.0</td>\n",
              "      <td>424.000000</td>\n",
              "      <td>408176.0</td>\n",
              "      <td>2015</td>\n",
              "      <td>7</td>\n",
              "      <td>4</td>\n",
              "      <td>другой</td>\n",
              "      <td>0.34</td>\n",
              "      <td>0.09</td>\n",
              "    </tr>\n",
              "    <tr>\n",
              "      <td>4</td>\n",
              "      <td>2</td>\n",
              "      <td>10000000.0</td>\n",
              "      <td>100.0</td>\n",
              "      <td>2018-06-19T00:00:00</td>\n",
              "      <td>2</td>\n",
              "      <td>3.03</td>\n",
              "      <td>14.0</td>\n",
              "      <td>32.0</td>\n",
              "      <td>13</td>\n",
              "      <td>NaN</td>\n",
              "      <td>...</td>\n",
              "      <td>1.0</td>\n",
              "      <td>48.0</td>\n",
              "      <td>121.000000</td>\n",
              "      <td>100000.0</td>\n",
              "      <td>2018</td>\n",
              "      <td>6</td>\n",
              "      <td>1</td>\n",
              "      <td>другой</td>\n",
              "      <td>0.32</td>\n",
              "      <td>0.41</td>\n",
              "    </tr>\n",
              "  </tbody>\n",
              "</table>\n",
              "<p>5 rows × 29 columns</p>\n",
              "</div>"
            ],
            "text/plain": [
              "   total_images  last_price  total_area first_day_exposition  rooms  \\\n",
              "0            20  13000000.0       108.0  2019-03-07T00:00:00      3   \n",
              "1             7   3350000.0        40.4  2018-12-04T00:00:00      1   \n",
              "2            10   5196000.0        56.0  2015-08-20T00:00:00      2   \n",
              "3             0  64900000.0       159.0  2015-07-24T00:00:00      3   \n",
              "4             2  10000000.0       100.0  2018-06-19T00:00:00      2   \n",
              "\n",
              "   ceiling_height  floors_total  living_area  floor is_apartment  ...  \\\n",
              "0            2.70          16.0         51.0      8          NaN  ...   \n",
              "1             NaN          11.0         18.6      1          NaN  ...   \n",
              "2             NaN           5.0         34.3      4          NaN  ...   \n",
              "3            3.00          14.0         54.0      9          NaN  ...   \n",
              "4            3.03          14.0         32.0     13          NaN  ...   \n",
              "\n",
              "   ponds_around3000  ponds_nearest  days_exposition  price_squere_meter  \\\n",
              "0               2.0          755.0       180.888634            120370.0   \n",
              "1               0.0            NaN        81.000000             82921.0   \n",
              "2               2.0          574.0       558.000000             92786.0   \n",
              "3               3.0          234.0       424.000000            408176.0   \n",
              "4               1.0           48.0       121.000000            100000.0   \n",
              "\n",
              "  date_year  date_month  date_weekday  floor_location  living_per_total  \\\n",
              "0      2019           3             3          другой              0.47   \n",
              "1      2018          12             1          первый              0.46   \n",
              "2      2015           8             3          другой              0.61   \n",
              "3      2015           7             4          другой              0.34   \n",
              "4      2018           6             1          другой              0.32   \n",
              "\n",
              "   kitchen_per_total  \n",
              "0               0.23  \n",
              "1               0.27  \n",
              "2               0.15  \n",
              "3               0.09  \n",
              "4               0.41  \n",
              "\n",
              "[5 rows x 29 columns]"
            ]
          },
          "execution_count": 26,
          "metadata": {},
          "output_type": "execute_result"
        }
      ],
      "source": [
        "df['living_per_total'] = round(df['living_area'] / df['total_area'], 2)\n",
        "df['kitchen_per_total'] = round(df['kitchen_area'] / df['total_area'], 2)\n",
        "df.head()"
      ]
    },
    {
      "cell_type": "markdown",
      "metadata": {
        "id": "oFxqmgKK52ZW"
      },
      "source": [
        "## Исследовательский анализ данных"
      ]
    },
    {
      "cell_type": "markdown",
      "metadata": {
        "id": "D7DLA6QR52ZX"
      },
      "source": [
        "### Гистограммы по параметрам: площадь, цена, число комнат, высота потолков"
      ]
    },
    {
      "cell_type": "code",
      "execution_count": null,
      "metadata": {
        "scrolled": true,
        "id": "5tKd7sTX52ZX",
        "outputId": "ed884652-184b-42ac-c8d5-bca3eeec0a08"
      },
      "outputs": [
        {
          "name": "stdout",
          "output_type": "stream",
          "text": [
            "гистограмма параметра total_area\n"
          ]
        },
        {
          "data": {
            "image/png": "[encoded data removed]",
            "text/plain": [
              "<Figure size 432x288 with 1 Axes>"
            ]
          },
          "metadata": {
            "needs_background": "light"
          },
          "output_type": "display_data"
        },
        {
          "name": "stdout",
          "output_type": "stream",
          "text": [
            "гистограмма параметра last_price\n"
          ]
        },
        {
          "data": {
            "image/png": "[encoded data removed]",
            "text/plain": [
              "<Figure size 432x288 with 1 Axes>"
            ]
          },
          "metadata": {
            "needs_background": "light"
          },
          "output_type": "display_data"
        },
        {
          "name": "stdout",
          "output_type": "stream",
          "text": [
            "гистограмма параметра rooms\n"
          ]
        },
        {
          "data": {
            "image/png": "[encoded data removed]",
            "text/plain": [
              "<Figure size 432x288 with 1 Axes>"
            ]
          },
          "metadata": {
            "needs_background": "light"
          },
          "output_type": "display_data"
        },
        {
          "name": "stdout",
          "output_type": "stream",
          "text": [
            "гистограмма параметра ceiling_height\n"
          ]
        },
        {
          "data": {
            "image/png": "[encoded data removed]",
            "text/plain": [
              "<Figure size 432x288 with 1 Axes>"
            ]
          },
          "metadata": {
            "needs_background": "light"
          },
          "output_type": "display_data"
        }
      ],
      "source": [
        "print('гистограмма параметра {}'.format('total_area'))  \n",
        "df['total_area'].hist(bins = 100, range = (0, 400))\n",
        "plt.show()\n",
        "print('гистограмма параметра {}'.format('last_price'))  \n",
        "df['last_price'].hist(bins = 100, range = (df['last_price'].min(), df['last_price'].max()/10)) # делю на 2, для увеличения графика в ущерб единичным выбросам\n",
        "plt.show()\n",
        "print('гистограмма параметра {}'.format('rooms'))  \n",
        "df['rooms'].hist(bins = 100, range = (0, 10)) \n",
        "plt.show()\n",
        "print('гистограмма параметра {}'.format('ceiling_height'))  \n",
        "df['ceiling_height'].hist(bins = 100, range = (2, 5)) \n",
        "plt.show()"
      ]
    },
    {
      "cell_type": "markdown",
      "metadata": {
        "id": "Nkn7d4HO52ZX"
      },
      "source": [
        "Как было описано ранее, гистограммы обладают выраженным содством с распределением Пуассона"
      ]
    },
    {
      "cell_type": "markdown",
      "metadata": {
        "id": "wByDEkwU52ZY"
      },
      "source": [
        "### Изучение времени продажи квартиры"
      ]
    },
    {
      "cell_type": "code",
      "execution_count": null,
      "metadata": {
        "id": "DKSU7WH652ZY",
        "outputId": "3d3ac437-6713-4e2e-e86e-cc57a7f477a3"
      },
      "outputs": [
        {
          "name": "stdout",
          "output_type": "stream",
          "text": [
            "count    23699.0\n",
            "mean       169.0\n",
            "std        207.0\n",
            "min          1.0\n",
            "25%         45.0\n",
            "50%         95.0\n",
            "75%        199.0\n",
            "max       1580.0\n",
            "Name: days_exposition, dtype: float64\n"
          ]
        },
        {
          "data": {
            "text/plain": [
              "<matplotlib.axes._subplots.AxesSubplot at 0x7f6245d09710>"
            ]
          },
          "execution_count": 44,
          "metadata": {},
          "output_type": "execute_result"
        },
        {
          "data": {
            "image/png": "[encoded data removed]",
            "text/plain": [
              "<Figure size 432x288 with 1 Axes>"
            ]
          },
          "metadata": {
            "needs_background": "light"
          },
          "output_type": "display_data"
        }
      ],
      "source": [
        "print(round(df['days_exposition'].describe(), 0))\n",
        "df['days_exposition'].hist(bins = 100, range = (df['days_exposition'].min(), df['days_exposition'].max()))"
      ]
    },
    {
      "cell_type": "markdown",
      "metadata": {
        "id": "Yb-yMVk652ZY"
      },
      "source": [
        "Данные о времени продажи квартир весьма разнообразны и колеблятся в диапозоне от 1 до 1580 дней. Среднее значение составляе 169 дней, а медиальное 95, что говорит о сильной неравномерности в данных. Гистограмма визуализирует это утверждение (она далека от нормального распределения, где медиана и среднее значение совпадают). Есть сходство с распределением Пуассона, однако наблюдаются и некоторые выбросы. \n",
        "\n",
        "Определить обычные сроки продажи поможет диграмма размаха. Хотя ее можно не строить, так как метод describe уже посчитал все три квартиля. Таким образом можно сказать, диапозон от 45 до 199 дней является типичным для срока продажи. Однако, если посмотреть на график еще раз, то можно понять, что диапозон от 1 до 45 дней имеет доже большую интенсивность, чем промежуток от 45 до 199 дней. увеличим график, для ясности картины"
      ]
    },
    {
      "cell_type": "code",
      "execution_count": null,
      "metadata": {
        "scrolled": true,
        "id": "s_pvKDkJ52ZZ",
        "outputId": "fcb56d9b-c450-4409-e98e-ea85b3bb8850"
      },
      "outputs": [
        {
          "name": "stdout",
          "output_type": "stream",
          "text": [
            "диапазон от 1 до 200 дней\n"
          ]
        },
        {
          "data": {
            "image/png": "[encoded data removed]",
            "text/plain": [
              "<Figure size 432x288 with 1 Axes>"
            ]
          },
          "metadata": {
            "needs_background": "light"
          },
          "output_type": "display_data"
        },
        {
          "name": "stdout",
          "output_type": "stream",
          "text": [
            "диапазон от 1 до 100 дней\n"
          ]
        },
        {
          "data": {
            "image/png": "[encoded data removed]",
            "text/plain": [
              "<Figure size 432x288 with 1 Axes>"
            ]
          },
          "metadata": {
            "needs_background": "light"
          },
          "output_type": "display_data"
        },
        {
          "name": "stdout",
          "output_type": "stream",
          "text": [
            "диапазон от 1 до 50 дней\n"
          ]
        },
        {
          "data": {
            "image/png": "[encoded data removed]",
            "text/plain": [
              "<Figure size 432x288 with 1 Axes>"
            ]
          },
          "metadata": {
            "needs_background": "light"
          },
          "output_type": "display_data"
        },
        {
          "name": "stdout",
          "output_type": "stream",
          "text": [
            "диапазон от 1 до 20 дней\n"
          ]
        },
        {
          "data": {
            "image/png": "[encoded data removed]",
            "text/plain": [
              "<Figure size 432x288 with 1 Axes>"
            ]
          },
          "metadata": {
            "needs_background": "light"
          },
          "output_type": "display_data"
        }
      ],
      "source": [
        "print('диапазон от 1 до 200 дней')\n",
        "df['days_exposition'].hist(bins = 100, range = (1, 200))\n",
        "plt.show()\n",
        "print('диапазон от 1 до 100 дней')\n",
        "df['days_exposition'].hist(bins = 100, range = (1, 100))\n",
        "plt.show()\n",
        "print('диапазон от 1 до 50 дней')\n",
        "df['days_exposition'].hist(bins = 100, range = (1, 50))\n",
        "plt.show()\n",
        "print('диапазон от 1 до 20 дней')\n",
        "df['days_exposition'].hist(bins = 100, range = (1, 20))\n",
        "plt.show()"
      ]
    },
    {
      "cell_type": "markdown",
      "metadata": {
        "id": "a4RP2uRQ52ZZ"
      },
      "source": [
        "Первое, что бросается в глаза - смещение пика и его частичное распределние (из-за увеличения числа корзин на единицу площади). И самое главние, последние два графика иллюстрируют резкий скачок колличества продаж за 3 дня публикации. Этот скачок сохраняется (без учета колебаний и пиков) до диапазона продажи в 200 дней. Таким образом можно считать обычным сроком продажи период от 3 до 200 дней. Остальные значения будут считаться очень малыми или необычно большими."
      ]
    },
    {
      "cell_type": "markdown",
      "metadata": {
        "id": "5q6xrtNk52ZZ"
      },
      "source": [
        "### Уберите редкие и выбивающиеся значения"
      ]
    },
    {
      "cell_type": "code",
      "execution_count": null,
      "metadata": {
        "collapsed": true,
        "id": "MIv3HlKR52ZZ",
        "outputId": "a9b77fed-025d-42e9-d617-b655e8b9b8b7"
      },
      "outputs": [
        {
          "data": {
            "image/png": "[encoded data removed]",
            "text/plain": [
              "<Figure size 432x288 with 1 Axes>"
            ]
          },
          "metadata": {
            "needs_background": "light"
          },
          "output_type": "display_data"
        },
        {
          "data": {
            "image/png": "[encoded data removed]",
            "text/plain": [
              "<Figure size 432x288 with 1 Axes>"
            ]
          },
          "metadata": {
            "needs_background": "light"
          },
          "output_type": "display_data"
        }
      ],
      "source": [
        "df['total_area'].hist(bins = 50)\n",
        "plt.show()\n",
        "df['rooms'].hist(bins = 50)\n",
        "plt.show()"
      ]
    },
    {
      "cell_type": "code",
      "execution_count": null,
      "metadata": {
        "id": "6lTrr-9o52Za"
      },
      "outputs": [],
      "source": [
        "df = df[df['ceiling_height'] > 2.5]\n",
        "df = df[df['ceiling_height'] < 5]\n",
        "df = df[df['days_exposition'] < 1400] # почти 4 года\n",
        "df = df[df['total_area'] < 200] # согласно гистограмме\n",
        "df = df[df['rooms'] < 6] # согласно гистограмме\n",
        "df = df[df['cityCenters_nearest'] < 30000] # согласно исследования ниже за пределами 18 км от центра начинается пригород, а за пределами 30 км выбросы"
      ]
    },
    {
      "cell_type": "markdown",
      "metadata": {
        "id": "G45cf5xU52Za"
      },
      "source": [
        "### Факторы, влияющие на стоимость квартиры"
      ]
    },
    {
      "cell_type": "code",
      "execution_count": null,
      "metadata": {
        "id": "CUUfD9s252Za",
        "outputId": "326cf387-52dd-4856-c61b-c13d3266c9ae"
      },
      "outputs": [
        {
          "name": "stdout",
          "output_type": "stream",
          "text": [
            "Зависимость стоимости квартиры от total_area 0.6412\n",
            "Зависимость стоимости квартиры от rooms 0.3877\n",
            "Зависимость стоимости квартиры от cityCenters_nearest -0.317\n",
            "Зависимость стоимости квартиры от date_weekday -0.011\n",
            "Зависимость стоимости квартиры от date_month 0.0016\n",
            "Зависимость стоимости квартиры от date_year -0.0374\n"
          ]
        }
      ],
      "source": [
        "price_dependence = ['total_area', 'rooms', 'cityCenters_nearest', 'date_weekday', 'date_month', 'date_year']\n",
        "for column in price_dependence:\n",
        "    print('Зависимость стоимости квартиры от {}'.format(column), round(df['last_price'].corr(df[column]),4))"
      ]
    },
    {
      "cell_type": "markdown",
      "metadata": {
        "id": "qTtxwz9952Zb"
      },
      "source": [
        "Сильными связями считаются величины, корреляция между которыми близка к 1 или -1. Как видно из расчетов, наиболее близкая к еденице величина у связи стоимости квартиры с общей площадью, но и она достаточно нелинейна. Таким образом можно предположить, что на стоимость квартиры влият наиболее эффективным образом набор группы характеристик. "
      ]
    },
    {
      "cell_type": "markdown",
      "metadata": {
        "id": "RtiOHpMI52Zb"
      },
      "source": [
        "### Населённые пункты с самой высокой и низкой стоимостью жилья"
      ]
    },
    {
      "cell_type": "markdown",
      "metadata": {
        "id": "XNeg-qRZ52Zb"
      },
      "source": [
        "Выберите 10 населённых пунктов с наибольшим числом объявлений. Посчитайте среднюю цену квадратного метра в этих населённых пунктах. Выделите среди них населённые пункты с самой высокой и низкой стоимостью жилья. Эти данные можно найти по имени в столбце 'locality_name'."
      ]
    },
    {
      "cell_type": "code",
      "execution_count": null,
      "metadata": {
        "id": "4fbnWU_B52Zb",
        "outputId": "b6b9044f-63ce-4bbb-a576-3cb6882e8ad5"
      },
      "outputs": [
        {
          "data": {
            "text/plain": [
              "locality_name\n",
              "Санкт-Петербург         117714.413054\n",
              "посёлок Парголово        90834.391941\n",
              "посёлок Шушары           79888.937759\n",
              "Пушкин                  112074.938776\n",
              "Красное Село             72903.483333\n",
              "посёлок Металлострой     72737.642857\n",
              "Неизвестный             103693.384615\n",
              "посёлок Стрельна         87951.760000\n",
              "Колпино                  68659.000000\n",
              "Петергоф                100142.500000\n",
              "Name: price_squere_meter, dtype: float64"
            ]
          },
          "execution_count": 49,
          "metadata": {},
          "output_type": "execute_result"
        }
      ],
      "source": [
        "# группировка по населенному пункту\n",
        "expensive_locality_name = df.groupby('locality_name').count() \n",
        "# расчет средней цены квадратного метра для каждого населенного пункта\n",
        "expensive_locality_name['price_squere_meter'] = df.groupby('locality_name').sum()['price_squere_meter'] / df.groupby('locality_name').count()['price_squere_meter']\n",
        "# сортировка населенных пунктов по колличеству объявлений\n",
        "expensive_locality_name = expensive_locality_name.sort_values(by = 'total_images',ascending = False).head(10)\n",
        "expensive_locality_name['price_squere_meter']"
      ]
    },
    {
      "cell_type": "markdown",
      "metadata": {
        "id": "hrJpMiEm52Zc"
      },
      "source": [
        "Из 10 представленных населенных пунктов, самая высокая стоимость жилья в Санкт-Петербурге, а самая низкая в Выборге."
      ]
    },
    {
      "cell_type": "markdown",
      "metadata": {
        "id": "fk34ZnK_52Zc"
      },
      "source": [
        "### Зависимоть стоимости жилья от удаленности от центра Санкт-Петербурга"
      ]
    },
    {
      "cell_type": "code",
      "execution_count": null,
      "metadata": {
        "id": "g7YqumkH52Zc"
      },
      "outputs": [],
      "source": [
        "df['cityCenters_nearest_km'] = round(df['cityCenters_nearest']/1000, 0)\n",
        "piter_flat = df.query('locality_name == \"Санкт-Петербург\"')"
      ]
    },
    {
      "cell_type": "code",
      "execution_count": null,
      "metadata": {
        "scrolled": true,
        "id": "pEls-fIX52Zc",
        "outputId": "6c64e351-25c6-4d9f-f8ec-e8115c5acaf5"
      },
      "outputs": [
        {
          "data": {
            "image/png": "[encoded data removed]",
            "text/plain": [
              "<Figure size 432x288 with 1 Axes>"
            ]
          },
          "metadata": {
            "needs_background": "light"
          },
          "output_type": "display_data"
        },
        {
          "data": {
            "text/plain": [
              "<matplotlib.axes._subplots.AxesSubplot at 0x7f624e231dd0>"
            ]
          },
          "execution_count": 51,
          "metadata": {},
          "output_type": "execute_result"
        },
        {
          "data": {
            "image/png": "[encoded data removed]",
            "text/plain": [
              "<Figure size 432x288 with 1 Axes>"
            ]
          },
          "metadata": {
            "needs_background": "light"
          },
          "output_type": "display_data"
        }
      ],
      "source": [
        "piter_flat.plot(x='cityCenters_nearest_km', y='last_price', kind='scatter', style='o', grid=True)\n",
        "plt.show()\n",
        "piter_flat.sort_values('cityCenters_nearest_km').plot(x='cityCenters_nearest_km', y='last_price', grid=True)"
      ]
    },
    {
      "cell_type": "markdown",
      "metadata": {
        "id": "wvnERarI52Zd"
      },
      "source": [
        "Из диаграмм видно, что в центре стоимость жилья в несколько раз выше, чем на окраине. Есть два характерных скачка: на удаленности в 7 и 18 км. До этих значений гистограмма имеет \"плато\" с некоторым колличеством выбросов. За пределами радиуса в 18 км от центра стоимость квартир достаточно равномерно снижается. Таким образом можно выделить две значимые величины: в радиусе 7 км от центра располагается центр города, а в радиусе 18 км располагается сам город, далешльше следует окраина."
      ]
    },
    {
      "cell_type": "markdown",
      "metadata": {
        "id": "rRudnRln52Zd"
      },
      "source": [
        "### Отличаются ли статистика по квартирам в центре от статистики по городу"
      ]
    },
    {
      "cell_type": "code",
      "execution_count": null,
      "metadata": {
        "id": "vrC-kSpS52Zd",
        "outputId": "ce85d2f0-7f4e-40bd-8daf-74a5b3556f58"
      },
      "outputs": [
        {
          "name": "stdout",
          "output_type": "stream",
          "text": [
            "Зависимость стоимости квартир в центре от total_area 0.5438\n",
            "Зависимость стоимости квартир по городу от total_area 0.639\n",
            "Квантили : 0.85\n",
            "Зависимость стоимости квартир в центре от rooms 0.2376\n",
            "Зависимость стоимости квартир по городу от rooms 0.3825\n",
            "Квантили : 0.62\n",
            "Зависимость стоимости квартир в центре от cityCenters_nearest -0.0158\n",
            "Зависимость стоимости квартир по городу от cityCenters_nearest -0.3186\n",
            "Квантили : 0.05\n"
          ]
        }
      ],
      "source": [
        "piter_centre = df.query('cityCenters_nearest_km < 8')\n",
        "price_dependence = ['total_area', 'rooms', 'cityCenters_nearest']\n",
        "cost_centre = 0\n",
        "cost_city = 0\n",
        "for column in price_dependence:\n",
        "    cost_centre = round(piter_centre['last_price'].corr(piter_centre[column]),4)\n",
        "    cost_city = round(piter_flat['last_price'].corr(piter_flat[column]),4)\n",
        "    print('Зависимость стоимости квартир в центре от {}'.format(column), cost_centre)\n",
        "    print('Зависимость стоимости квартир по городу от {}'.format(column), cost_city)\n",
        "    print('Квантили : {}'.format(round(cost_centre/cost_city, 2)))"
      ]
    },
    {
      "cell_type": "code",
      "execution_count": null,
      "metadata": {
        "id": "s79enrR552Zd"
      },
      "outputs": [],
      "source": [
        "def mean_val(column):\n",
        "    a = df.groupby(column)['last_price'].mean()\n",
        "    return a"
      ]
    },
    {
      "cell_type": "code",
      "execution_count": null,
      "metadata": {
        "scrolled": true,
        "id": "q_wu5Ci352Ze",
        "outputId": "4f5306df-c78c-4a90-be0d-cdc4f0e94c8b"
      },
      "outputs": [
        {
          "name": "stdout",
          "output_type": "stream",
          "text": [
            "floor_location\n",
            "другой       7.774556e+06\n",
            "первый       6.340184e+06\n",
            "последний    8.508365e+06\n",
            "Name: last_price, dtype: float64\n",
            "date_weekday\n",
            "0    7.777710e+06\n",
            "1    7.765916e+06\n",
            "2    7.674524e+06\n",
            "3    8.054251e+06\n",
            "4    7.467021e+06\n",
            "5    7.526514e+06\n",
            "6    7.511509e+06\n",
            "Name: last_price, dtype: float64\n",
            "date_month\n",
            "1     7.900107e+06\n",
            "2     7.704255e+06\n",
            "3     7.688325e+06\n",
            "4     7.777113e+06\n",
            "5     7.563354e+06\n",
            "6     7.716254e+06\n",
            "7     7.689379e+06\n",
            "8     7.537347e+06\n",
            "9     7.830125e+06\n",
            "10    7.389018e+06\n",
            "11    7.718546e+06\n",
            "12    8.242869e+06\n",
            "Name: last_price, dtype: float64\n",
            "date_year\n",
            "2014    1.379687e+07\n",
            "2015    9.252420e+06\n",
            "2016    7.773119e+06\n",
            "2017    7.507494e+06\n",
            "2018    7.347458e+06\n",
            "2019    8.255032e+06\n",
            "Name: last_price, dtype: float64\n"
          ]
        }
      ],
      "source": [
        "for el in ['floor_location', 'date_weekday', 'date_month', 'date_year']:\n",
        "    print(mean_val(el))"
      ]
    },
    {
      "cell_type": "markdown",
      "metadata": {
        "id": "-i-nx-ZI52Ze"
      },
      "source": [
        "\n",
        "выводы:\n",
        "\n",
        "1. На первом этаже квартиры дешевле прмерно на 20%. \n",
        "2. Стоимость квартир не зависит от месяца и дня недели продажи.\n",
        "3. Стоимость квартир зависит от года продажи. Самая низкая средня по году стоимость зафиксирована в 2014 году, а самая высокая в 2015. Далее стоимость постепенно снижается\n"
      ]
    },
    {
      "cell_type": "code",
      "execution_count": null,
      "metadata": {
        "collapsed": true,
        "id": "2Gb5PdWU52Zf",
        "outputId": "bb798a76-f552-4018-bdf2-23ce5f68a4fe"
      },
      "outputs": [
        {
          "data": {
            "text/plain": [
              "[<matplotlib.lines.Line2D at 0x7f6245a66b10>]"
            ]
          },
          "execution_count": 56,
          "metadata": {},
          "output_type": "execute_result"
        },
        {
          "data": {
            "image/png": "[encoded data removed]",
            "text/plain": [
              "<Figure size 432x288 with 2 Axes>"
            ]
          },
          "metadata": {
            "needs_background": "light"
          },
          "output_type": "display_data"
        }
      ],
      "source": [
        "x = piter_centre['total_area']\n",
        "y = piter_centre['last_price']\n",
        "z = piter_flat['total_area']\n",
        "w = piter_flat['last_price']\n",
        "fig, (ax1, ax2) = plt.subplots(1, 2)\n",
        "fig.suptitle('Horizontally stacked subplots')\n",
        "ax1.plot(x, y)\n",
        "ax2.plot(z, w)"
      ]
    },
    {
      "cell_type": "code",
      "execution_count": null,
      "metadata": {
        "collapsed": true,
        "id": "th1nUQ2k52Zf",
        "outputId": "13500d40-6676-460d-efe3-74cea345786e"
      },
      "outputs": [
        {
          "data": {
            "text/plain": [
              "[<matplotlib.lines.Line2D at 0x7f624e48ab50>]"
            ]
          },
          "execution_count": 57,
          "metadata": {},
          "output_type": "execute_result"
        },
        {
          "data": {
            "image/png": "[encoded data removed]",
            "text/plain": [
              "<Figure size 432x288 with 2 Axes>"
            ]
          },
          "metadata": {
            "needs_background": "light"
          },
          "output_type": "display_data"
        }
      ],
      "source": [
        "x = piter_centre['rooms']\n",
        "y = piter_centre['last_price']\n",
        "z = piter_flat['rooms']\n",
        "w = piter_flat['last_price']\n",
        "fig, (ax1, ax2) = plt.subplots(1, 2)\n",
        "fig.suptitle('Horizontally stacked subplots')\n",
        "ax1.plot(x, y)\n",
        "ax2.plot(z, w)"
      ]
    },
    {
      "cell_type": "code",
      "execution_count": null,
      "metadata": {
        "collapsed": true,
        "id": "k7sEA4qL52Zf",
        "outputId": "2fff2b4a-7d8f-4f67-8db0-b37e186c04d2"
      },
      "outputs": [
        {
          "data": {
            "text/plain": [
              "[<matplotlib.lines.Line2D at 0x7f6245879650>]"
            ]
          },
          "execution_count": 58,
          "metadata": {},
          "output_type": "execute_result"
        },
        {
          "data": {
            "image/png": "[encoded data removed]",
            "text/plain": [
              "<Figure size 432x288 with 2 Axes>"
            ]
          },
          "metadata": {
            "needs_background": "light"
          },
          "output_type": "display_data"
        }
      ],
      "source": [
        "x = piter_centre['ceiling_height']\n",
        "y = piter_centre['last_price']\n",
        "z = piter_flat['ceiling_height']\n",
        "w = piter_flat['last_price']\n",
        "fig, (ax1, ax2) = plt.subplots(1, 2)\n",
        "fig.suptitle('Horizontally stacked subplots')\n",
        "ax1.plot(x, y)\n",
        "ax2.plot(z, w)"
      ]
    },
    {
      "cell_type": "code",
      "execution_count": null,
      "metadata": {
        "id": "HMJwK0Dv52Zg"
      },
      "outputs": [],
      "source": []
    },
    {
      "cell_type": "code",
      "execution_count": null,
      "metadata": {
        "collapsed": true,
        "id": "kSwYCHDN52Zg",
        "outputId": "b494baee-43d8-4329-bbc8-a758adcb406f"
      },
      "outputs": [
        {
          "data": {
            "text/plain": [
              "<matplotlib.axes._subplots.AxesSubplot at 0x7f6245819790>"
            ]
          },
          "execution_count": 59,
          "metadata": {},
          "output_type": "execute_result"
        },
        {
          "data": {
            "image/png": "[encoded data removed]",
            "text/plain": [
              "<Figure size 864x360 with 1 Axes>"
            ]
          },
          "metadata": {
            "needs_background": "light"
          },
          "output_type": "display_data"
        },
        {
          "data": {
            "image/png": "[encoded data removed]",
            "text/plain": [
              "<Figure size 864x360 with 1 Axes>"
            ]
          },
          "metadata": {
            "needs_background": "light"
          },
          "output_type": "display_data"
        }
      ],
      "source": [
        "piter_centre.pivot_table(index='last_price', values='ceiling_height').plot(grid=True, figsize=(12, 5))\n",
        "piter_flat.pivot_table(index='last_price', values='ceiling_height').plot(grid=True, figsize=(12, 5))"
      ]
    },
    {
      "cell_type": "code",
      "execution_count": null,
      "metadata": {
        "scrolled": true,
        "id": "Tc43aVWp52Zg",
        "outputId": "86cbf4f9-4aae-4492-c0e3-d2ac9a9d2426"
      },
      "outputs": [
        {
          "data": {
            "text/plain": [
              "<matplotlib.axes._subplots.AxesSubplot at 0x7f62457d9c90>"
            ]
          },
          "execution_count": 60,
          "metadata": {},
          "output_type": "execute_result"
        },
        {
          "data": {
            "image/png": "[encoded data removed]",
            "text/plain": [
              "<Figure size 432x288 with 1 Axes>"
            ]
          },
          "metadata": {
            "needs_background": "light"
          },
          "output_type": "display_data"
        },
        {
          "data": {
            "image/png": "[encoded data removed]",
            "text/plain": [
              "<Figure size 432x288 with 1 Axes>"
            ]
          },
          "metadata": {
            "needs_background": "light"
          },
          "output_type": "display_data"
        }
      ],
      "source": [
        "piter_centre.plot(x = 'total_area', y = 'last_price', style='o', alpha = 0.2)\n",
        "piter_flat.plot(x = 'total_area', y = 'last_price', style='o', alpha = 0.2)"
      ]
    },
    {
      "cell_type": "markdown",
      "metadata": {
        "id": "KhsMNwBn52Zg"
      },
      "source": [
        "\n",
        "Значения общей площади квартир в городе превносят основное количество нестандартных значений.\n"
      ]
    },
    {
      "cell_type": "code",
      "execution_count": null,
      "metadata": {
        "collapsed": true,
        "id": "e4VMu4n-52Zg",
        "outputId": "54be6f9c-d314-4d82-c646-8ebe1292216d"
      },
      "outputs": [
        {
          "data": {
            "text/plain": [
              "<matplotlib.axes._subplots.AxesSubplot at 0x7f624e938190>"
            ]
          },
          "execution_count": 61,
          "metadata": {},
          "output_type": "execute_result"
        },
        {
          "data": {
            "image/png": "[encoded data removed]",
            "text/plain": [
              "<Figure size 432x288 with 1 Axes>"
            ]
          },
          "metadata": {
            "needs_background": "light"
          },
          "output_type": "display_data"
        },
        {
          "data": {
            "image/png": "[encoded data removed]",
            "text/plain": [
              "<Figure size 432x288 with 1 Axes>"
            ]
          },
          "metadata": {
            "needs_background": "light"
          },
          "output_type": "display_data"
        }
      ],
      "source": [
        "piter_centre.plot(x = 'rooms', y = 'last_price', style='o', alpha = 0.2)\n",
        "piter_flat.plot(x = 'rooms', y = 'last_price', style='o', alpha = 0.2)"
      ]
    },
    {
      "cell_type": "code",
      "execution_count": null,
      "metadata": {
        "collapsed": true,
        "id": "b1E6XVGa52Zh",
        "outputId": "57415196-6711-4f98-ba21-79aa85b40f3b"
      },
      "outputs": [
        {
          "data": {
            "text/plain": [
              "<matplotlib.axes._subplots.AxesSubplot at 0x7f624e8df750>"
            ]
          },
          "execution_count": 62,
          "metadata": {},
          "output_type": "execute_result"
        },
        {
          "data": {
            "image/png": "[encoded data removed]",
            "text/plain": [
              "<Figure size 432x288 with 1 Axes>"
            ]
          },
          "metadata": {
            "needs_background": "light"
          },
          "output_type": "display_data"
        },
        {
          "data": {
            "image/png": "[encoded data removed]",
            "text/plain": [
              "<Figure size 432x288 with 1 Axes>"
            ]
          },
          "metadata": {
            "needs_background": "light"
          },
          "output_type": "display_data"
        }
      ],
      "source": [
        "piter_centre.plot(x = 'ceiling_height', y = 'last_price', style='o', alpha = 0.2)\n",
        "piter_flat.plot(x = 'ceiling_height', y = 'last_price', style='o', alpha = 0.2)"
      ]
    },
    {
      "cell_type": "code",
      "execution_count": null,
      "metadata": {
        "collapsed": true,
        "id": "qXVJZ63A52Zh",
        "outputId": "ca7b84c8-56e0-460d-9373-e785ce36535d"
      },
      "outputs": [
        {
          "data": {
            "image/png": "[encoded data removed]",
            "text/plain": [
              "<Figure size 432x288 with 1 Axes>"
            ]
          },
          "metadata": {
            "needs_background": "light"
          },
          "output_type": "display_data"
        },
        {
          "data": {
            "image/png": "[encoded data removed]",
            "text/plain": [
              "<Figure size 432x288 with 1 Axes>"
            ]
          },
          "metadata": {
            "needs_background": "light"
          },
          "output_type": "display_data"
        }
      ],
      "source": [
        "piter_centre['total_area'].hist()     \n",
        "plt.xlim(0, 200)\n",
        "plt.ylim(0, 5000)\n",
        "plt.show()\n",
        "piter_flat['total_area'].hist()      \n",
        "plt.xlim(0, 200)\n",
        "plt.ylim(0, 5000)\n",
        "plt.show()"
      ]
    },
    {
      "cell_type": "code",
      "execution_count": null,
      "metadata": {
        "collapsed": true,
        "id": "axmu0SPR52Zh",
        "outputId": "180444f7-c6fb-4152-fb93-e90f92d39a90"
      },
      "outputs": [
        {
          "data": {
            "image/png": "[encoded data removed]",
            "text/plain": [
              "<Figure size 432x288 with 1 Axes>"
            ]
          },
          "metadata": {
            "needs_background": "light"
          },
          "output_type": "display_data"
        },
        {
          "data": {
            "image/png": "[encoded data removed]",
            "text/plain": [
              "<Figure size 432x288 with 1 Axes>"
            ]
          },
          "metadata": {
            "needs_background": "light"
          },
          "output_type": "display_data"
        }
      ],
      "source": [
        "a = piter_centre['last_price']/1000000\n",
        "b = piter_flat['last_price']/1000000\n",
        "a.hist(bins = 200)  \n",
        "plt.xlim(0, 60)\n",
        "plt.ylim(0, 4000)\n",
        "plt.show()\n",
        "b.hist(bins = 200)  \n",
        "plt.xlim(0, 60)\n",
        "plt.ylim(0, 4000)\n",
        "plt.show()"
      ]
    },
    {
      "cell_type": "code",
      "execution_count": null,
      "metadata": {
        "collapsed": true,
        "id": "rO9hmVBc52Zh",
        "outputId": "25697c18-4509-467a-ae1c-167a4479f05c"
      },
      "outputs": [
        {
          "data": {
            "image/png": "[encoded data removed]",
            "text/plain": [
              "<Figure size 432x288 with 1 Axes>"
            ]
          },
          "metadata": {
            "needs_background": "light"
          },
          "output_type": "display_data"
        },
        {
          "data": {
            "image/png": "[encoded data removed]",
            "text/plain": [
              "<Figure size 432x288 with 1 Axes>"
            ]
          },
          "metadata": {
            "needs_background": "light"
          },
          "output_type": "display_data"
        }
      ],
      "source": [
        "piter_centre['rooms'].hist()                                                                                   \n",
        "plt.xlim(0, 6)\n",
        "plt.ylim(0, 4000)\n",
        "plt.show()\n",
        "piter_flat['rooms'].hist()             \n",
        "plt.xlim(0, 6)\n",
        "plt.ylim(0, 4000)\n",
        "plt.show()"
      ]
    },
    {
      "cell_type": "code",
      "execution_count": null,
      "metadata": {
        "collapsed": true,
        "id": "A37KaMqN52Zh",
        "outputId": "45759a05-0c48-4c17-c3d4-734cafca93f9"
      },
      "outputs": [
        {
          "data": {
            "image/png": "[encoded data removed]",
            "text/plain": [
              "<Figure size 432x288 with 1 Axes>"
            ]
          },
          "metadata": {
            "needs_background": "light"
          },
          "output_type": "display_data"
        },
        {
          "data": {
            "image/png": "[encoded data removed]",
            "text/plain": [
              "<Figure size 432x288 with 1 Axes>"
            ]
          },
          "metadata": {
            "needs_background": "light"
          },
          "output_type": "display_data"
        }
      ],
      "source": [
        "piter_centre['ceiling_height'].hist() \n",
        "plt.xlim(2, 4.5)\n",
        "plt.ylim(0, 7000)\n",
        "plt.show()\n",
        "piter_flat['ceiling_height'].hist()      \n",
        "plt.xlim(2, 4.5)\n",
        "plt.ylim(0, 7000)\n",
        "plt.show()"
      ]
    },
    {
      "cell_type": "markdown",
      "metadata": {
        "id": "y0V6d5e152Zi"
      },
      "source": [
        "\n",
        "\n",
        "1. общая площадь. Пик первого графика смещен в право на 75 м^2. Тогда как по городу он находится на 40 м^2. Это связано с тем, что застройка последних лет подразумевает небольшие квартиры.\n",
        "    \n",
        "2. Цена. Цена по городу и в центре имеют очень схожий характер распределения с пиками примерно в одном месте.\n",
        "    \n",
        "3. Колличество комнат. Колличество комнат подтверждает результаты с площадями. В центре больше квартир с большими площадями, соответственно в них и комнат больше. стоит отметить, что почти все 5ти комнатные квартиры находятся в центре\n",
        "    \n",
        "4. Высота потолков. Высота потолков потолков имеет ту же тенденцию, что и площади и колличество комнат.\n"
      ]
    },
    {
      "cell_type": "markdown",
      "metadata": {
        "id": "3IIFcqoY52Zi"
      },
      "source": [
        "Рассматривая выводы, можно сказать, что различия есть (иногда значения отличаютс в несколько десятков раз), однако они не существенны в масштабе сравнения с 1 или -1. Поэтому можно сказать что зависимость стоимости жилья в ценитре от разных параметров не сильно отличается от стоимости жилья по городу от тех же параметров."
      ]
    },
    {
      "cell_type": "markdown",
      "metadata": {
        "id": "pHSaOj4o52Zi"
      },
      "source": [
        "### Эксперимент"
      ]
    },
    {
      "cell_type": "code",
      "execution_count": null,
      "metadata": {
        "id": "pvUTxeZh52Zi",
        "outputId": "46768f36-5a90-4ac5-ee95-5201e8dcd664"
      },
      "outputs": [
        {
          "name": "stdout",
          "output_type": "stream",
          "text": [
            "Зависимость времени продажи квартир в центре от last_price 0.0368\n",
            "Зависимость времени продажи квартир по городу от last_price 0.0768\n",
            "Квантили : 0.48\n",
            "Зависимость времени продажи квартир в центре от total_area 0.1249\n",
            "Зависимость времени продажи квартир по городу от total_area 0.1404\n",
            "Квантили : 0.89\n",
            "Зависимость времени продажи квартир в центре от rooms 0.0995\n",
            "Зависимость времени продажи квартир по городу от rooms 0.1077\n",
            "Квантили : 0.92\n",
            "Зависимость времени продажи квартир в центре от cityCenters_nearest -0.0349\n",
            "Зависимость времени продажи квартир по городу от cityCenters_nearest -0.1117\n",
            "Квантили : 0.31\n",
            "Зависимость времени продажи квартир в центре от cityCenters_nearest_km -0.0385\n",
            "Зависимость времени продажи квартир по городу от cityCenters_nearest_km -0.1116\n",
            "Квантили : 0.34\n"
          ]
        }
      ],
      "source": [
        "# мне стало интересно проверить наличие зависимостей по времени продажи квартиры.\n",
        "exposition_dependence = ['last_price', 'total_area', 'rooms', 'cityCenters_nearest', 'cityCenters_nearest_km']\n",
        "cost_centre_dob = 0\n",
        "cost_city_dob = 0\n",
        "for column in exposition_dependence:\n",
        "    cost_centre_dob = round(piter_centre['days_exposition'].corr(piter_centre[column]),4)\n",
        "    cost_city_dob = round(piter_flat['days_exposition'].corr(piter_flat[column]),4)\n",
        "    print('Зависимость времени продажи квартир в центре от {}'.format(column), cost_centre_dob)\n",
        "    print('Зависимость времени продажи квартир по городу от {}'.format(column), cost_city_dob)\n",
        "    print('Квантили : {}'.format(round(cost_centre_dob/cost_city_dob, 2)))"
      ]
    },
    {
      "cell_type": "markdown",
      "metadata": {
        "id": "w9u7qcrn52Zj"
      },
      "source": [
        "Однако эксперемент принес не много пользы. Наиболее сильная связь оказалась между сроком продажи и годом продажи. Довольно любопытный момент, который может быть связан с экономической ситуацией"
      ]
    },
    {
      "cell_type": "code",
      "execution_count": null,
      "metadata": {
        "id": "R_4utyJN52Zj",
        "outputId": "70bb7139-058c-46a6-d4ed-09079970d2b6"
      },
      "outputs": [
        {
          "data": {
            "text/plain": [
              "<matplotlib.axes._subplots.AxesSubplot at 0x7f62457ebd10>"
            ]
          },
          "execution_count": 68,
          "metadata": {},
          "output_type": "execute_result"
        },
        {
          "data": {
            "image/png": "[encoded data removed]",
            "text/plain": [
              "<Figure size 432x288 with 1 Axes>"
            ]
          },
          "metadata": {
            "needs_background": "light"
          },
          "output_type": "display_data"
        }
      ],
      "source": [
        "piter_flat.plot(x='date_year', y='days_exposition', kind='scatter', style='o', grid=True)"
      ]
    },
    {
      "cell_type": "markdown",
      "metadata": {
        "id": "rqUyy9iK52Zj"
      },
      "source": [
        "А вот этот график уже весьма интресен. Мы видим значительное и равномерное снижение срока продажи с каждым последующим годом. Думаю что может быть связано с уеличением доступности информации и развитием материального благосостояния. Также можно заметить, что в 2014 году точки распалагаются реже чем в остальных случаях. Это вынуждает взлянуть на колличество размещенных обьявлений по годам"
      ]
    },
    {
      "cell_type": "code",
      "execution_count": null,
      "metadata": {
        "id": "BhGlFxHu52Zj",
        "outputId": "04a8d132-205c-44ab-fb3e-aa7f63b34d6a"
      },
      "outputs": [
        {
          "data": {
            "text/plain": [
              "2017    3700\n",
              "2018    3577\n",
              "2019    1314\n",
              "2016    1233\n",
              "2015     594\n",
              "2014      77\n",
              "Name: date_year, dtype: int64"
            ]
          },
          "execution_count": 69,
          "metadata": {},
          "output_type": "execute_result"
        }
      ],
      "source": [
        "piter_flat['date_year'].value_counts()"
      ]
    },
    {
      "cell_type": "code",
      "execution_count": null,
      "metadata": {
        "id": "4bzC2sz_52Zk",
        "outputId": "b1410d66-f9c8-47be-a3c3-7314f34ad32b"
      },
      "outputs": [
        {
          "data": {
            "text/plain": [
              "-0.5891848114312531"
            ]
          },
          "execution_count": 70,
          "metadata": {},
          "output_type": "execute_result"
        }
      ],
      "source": [
        "df['date_year'].corr(df['days_exposition'])"
      ]
    },
    {
      "cell_type": "markdown",
      "metadata": {
        "id": "OtNqg8VP52Zk"
      },
      "source": [
        "видно, что пик объявлений о продаже квартир был в 2017, до этого наблюдался рост, а после падение. Возможно это зависит от стоимости жилья. \n",
        "\n",
        "корреляция не сильно высокая, но определенная зависимость присутствует"
      ]
    },
    {
      "cell_type": "code",
      "execution_count": null,
      "metadata": {
        "id": "nM4UfmrH52Zk",
        "outputId": "68bb363b-484b-4937-f80b-91e2cd6d6754"
      },
      "outputs": [
        {
          "data": {
            "text/plain": [
              "<matplotlib.axes._subplots.AxesSubplot at 0x7f6245805c50>"
            ]
          },
          "execution_count": 71,
          "metadata": {},
          "output_type": "execute_result"
        },
        {
          "data": {
            "image/png": "[encoded data removed]",
            "text/plain": [
              "<Figure size 432x288 with 1 Axes>"
            ]
          },
          "metadata": {
            "needs_background": "light"
          },
          "output_type": "display_data"
        }
      ],
      "source": [
        "df.plot(x='last_price', y='date_year', style='o', grid=True)"
      ]
    },
    {
      "cell_type": "code",
      "execution_count": null,
      "metadata": {
        "id": "oWQZL40D52Zk",
        "outputId": "50afba38-27c8-4b62-e2da-5c1f090d7427"
      },
      "outputs": [
        {
          "data": {
            "text/plain": [
              "-0.03739010309428835"
            ]
          },
          "execution_count": 72,
          "metadata": {},
          "output_type": "execute_result"
        }
      ],
      "source": [
        "df['date_year'].corr(df['last_price'])"
      ]
    },
    {
      "cell_type": "markdown",
      "metadata": {
        "id": "b2SvP6BC52Zk"
      },
      "source": [
        "И действительно, без учета выбросов, на графике наблюдается рост цен на жилье до 2017 года и последующее их снижение. А вот значение корреляции утверждает об отсутствии какой либо зависимости"
      ]
    },
    {
      "cell_type": "markdown",
      "metadata": {
        "id": "G8qebixX52Zk"
      },
      "source": [
        "## Общий вывод"
      ]
    },
    {
      "cell_type": "markdown",
      "metadata": {
        "id": "rvIbYC9a52Zl"
      },
      "source": [
        "Данные оказались достаточно чистыми. Единственное серьезное препятствие заключалось в неправильных типах данных, так как со строковыми данными невозможно производить неободимые вычисления. Однако эта неприятность легко устранима. \n",
        "\n",
        "Практически в каждом праметре были интересные, но не многочисленные выбросы. Это позволило не сильно заморачиваться с их устранением.\n",
        "\n",
        "Получила любопытный опыт с масштабами гистограмм (их определенно неудобно применять в цикле).\n",
        "\n",
        "И самое интересное: \n",
        "* цена квартиры зависит от ее прощади\n",
        "* цена квартиры зависит от ее расположения\n",
        "* цена квартиры зависит от ее расположения\n",
        "* срок продажи зависит от года продажи\n",
        "* Цена продажи зависит от года продажи"
      ]
    }
  ],
  "metadata": {
    "ExecuteTimeLog": [
      {
        "duration": 851,
        "start_time": "2021-10-05T10:56:21.385Z"
      },
      {
        "duration": 108,
        "start_time": "2021-10-05T10:56:32.429Z"
      },
      {
        "duration": 143,
        "start_time": "2021-10-05T11:00:17.814Z"
      },
      {
        "duration": 29,
        "start_time": "2021-10-05T11:00:59.039Z"
      },
      {
        "duration": 4,
        "start_time": "2021-10-05T11:08:01.864Z"
      },
      {
        "duration": 8568,
        "start_time": "2021-10-05T11:53:26.681Z"
      },
      {
        "duration": 9644,
        "start_time": "2021-10-05T11:55:54.768Z"
      },
      {
        "duration": 338,
        "start_time": "2021-10-05T12:00:04.626Z"
      },
      {
        "duration": 374,
        "start_time": "2021-10-05T12:00:11.230Z"
      },
      {
        "duration": 9,
        "start_time": "2021-10-05T12:00:49.861Z"
      },
      {
        "duration": 7,
        "start_time": "2021-10-05T12:01:10.052Z"
      },
      {
        "duration": 6,
        "start_time": "2021-10-05T12:03:29.072Z"
      },
      {
        "duration": 6,
        "start_time": "2021-10-05T12:03:52.590Z"
      },
      {
        "duration": 6,
        "start_time": "2021-10-05T12:04:07.855Z"
      },
      {
        "duration": 6,
        "start_time": "2021-10-05T12:05:07.918Z"
      },
      {
        "duration": 6,
        "start_time": "2021-10-05T12:05:12.607Z"
      },
      {
        "duration": 8846,
        "start_time": "2021-10-05T12:09:03.345Z"
      },
      {
        "duration": 39,
        "start_time": "2021-10-05T12:10:47.009Z"
      },
      {
        "duration": 41,
        "start_time": "2021-10-05T12:11:13.696Z"
      },
      {
        "duration": 423,
        "start_time": "2021-10-05T18:22:11.876Z"
      },
      {
        "duration": 269,
        "start_time": "2021-10-05T18:22:21.908Z"
      },
      {
        "duration": 906,
        "start_time": "2021-10-05T18:22:31.892Z"
      },
      {
        "duration": 11,
        "start_time": "2021-10-05T18:22:36.772Z"
      },
      {
        "duration": 310,
        "start_time": "2021-10-05T18:25:48.648Z"
      },
      {
        "duration": -62,
        "start_time": "2021-10-05T18:27:17.233Z"
      },
      {
        "duration": -847,
        "start_time": "2021-10-05T18:33:45.949Z"
      },
      {
        "duration": 12,
        "start_time": "2021-10-05T18:34:04.147Z"
      },
      {
        "duration": 10,
        "start_time": "2021-10-05T18:35:13.976Z"
      },
      {
        "duration": 678,
        "start_time": "2021-10-05T18:38:37.249Z"
      },
      {
        "duration": 932,
        "start_time": "2021-10-05T18:38:46.006Z"
      },
      {
        "duration": 293,
        "start_time": "2021-10-05T18:52:44.383Z"
      },
      {
        "duration": 865,
        "start_time": "2021-10-05T18:52:49.336Z"
      },
      {
        "duration": 318,
        "start_time": "2021-10-05T18:52:56.391Z"
      },
      {
        "duration": 8,
        "start_time": "2021-10-05T18:55:50.003Z"
      },
      {
        "duration": 1012,
        "start_time": "2021-10-05T19:00:38.396Z"
      },
      {
        "duration": 986,
        "start_time": "2021-10-05T19:02:50.043Z"
      },
      {
        "duration": 1852,
        "start_time": "2021-10-05T19:03:13.765Z"
      },
      {
        "duration": 1049,
        "start_time": "2021-10-05T19:03:54.387Z"
      },
      {
        "duration": 270,
        "start_time": "2021-10-05T19:04:12.520Z"
      },
      {
        "duration": 86,
        "start_time": "2021-10-05T19:04:32.415Z"
      },
      {
        "duration": 273,
        "start_time": "2021-10-05T19:04:59.999Z"
      },
      {
        "duration": 856,
        "start_time": "2021-10-07T18:17:50.923Z"
      },
      {
        "duration": 1265,
        "start_time": "2021-10-07T18:18:35.739Z"
      },
      {
        "duration": 1190,
        "start_time": "2021-10-07T18:48:52.303Z"
      },
      {
        "duration": 14,
        "start_time": "2021-10-07T18:51:36.335Z"
      },
      {
        "duration": 6,
        "start_time": "2021-10-07T18:52:09.583Z"
      },
      {
        "duration": 5,
        "start_time": "2021-10-07T18:57:32.445Z"
      },
      {
        "duration": 5,
        "start_time": "2021-10-07T18:58:41.397Z"
      },
      {
        "duration": 6,
        "start_time": "2021-10-07T18:58:44.365Z"
      },
      {
        "duration": 155,
        "start_time": "2021-10-07T18:58:50.486Z"
      },
      {
        "duration": 19,
        "start_time": "2021-10-07T18:58:55.185Z"
      },
      {
        "duration": 6,
        "start_time": "2021-10-07T18:58:57.750Z"
      },
      {
        "duration": 40,
        "start_time": "2021-10-07T18:59:37.526Z"
      },
      {
        "duration": 347,
        "start_time": "2021-10-07T19:00:33.442Z"
      },
      {
        "duration": 15,
        "start_time": "2021-10-07T19:00:58.506Z"
      },
      {
        "duration": 8,
        "start_time": "2021-10-07T19:01:01.183Z"
      },
      {
        "duration": 5,
        "start_time": "2021-10-07T19:01:21.505Z"
      },
      {
        "duration": 9,
        "start_time": "2021-10-07T19:03:59.773Z"
      },
      {
        "duration": 108,
        "start_time": "2021-10-07T19:06:52.353Z"
      },
      {
        "duration": 17,
        "start_time": "2021-10-07T19:07:07.038Z"
      },
      {
        "duration": 5,
        "start_time": "2021-10-07T19:08:44.542Z"
      },
      {
        "duration": 12,
        "start_time": "2021-10-07T20:39:59.642Z"
      },
      {
        "duration": 17,
        "start_time": "2021-10-07T20:40:06.173Z"
      },
      {
        "duration": 10,
        "start_time": "2021-10-07T20:40:18.806Z"
      },
      {
        "duration": 15,
        "start_time": "2021-10-07T20:40:21.315Z"
      },
      {
        "duration": 18,
        "start_time": "2021-10-07T20:41:14.845Z"
      },
      {
        "duration": 22,
        "start_time": "2021-10-07T20:43:36.789Z"
      },
      {
        "duration": 42,
        "start_time": "2021-10-07T20:44:47.481Z"
      },
      {
        "duration": 800,
        "start_time": "2021-10-07T20:47:06.553Z"
      },
      {
        "duration": 297,
        "start_time": "2021-10-07T20:48:00.689Z"
      },
      {
        "duration": 403,
        "start_time": "2021-10-07T20:48:15.117Z"
      },
      {
        "duration": 29,
        "start_time": "2021-10-07T20:50:04.136Z"
      },
      {
        "duration": 6,
        "start_time": "2021-10-07T20:50:13.548Z"
      },
      {
        "duration": 7,
        "start_time": "2021-10-07T20:52:52.132Z"
      },
      {
        "duration": 6,
        "start_time": "2021-10-07T20:53:02.644Z"
      },
      {
        "duration": 458,
        "start_time": "2021-10-07T20:53:52.948Z"
      },
      {
        "duration": 393,
        "start_time": "2021-10-07T20:54:44.864Z"
      },
      {
        "duration": 397,
        "start_time": "2021-10-07T20:55:29.580Z"
      },
      {
        "duration": 329,
        "start_time": "2021-10-07T21:00:11.811Z"
      },
      {
        "duration": 384,
        "start_time": "2021-10-07T21:00:43.867Z"
      },
      {
        "duration": 388,
        "start_time": "2021-10-07T21:01:05.631Z"
      },
      {
        "duration": 319,
        "start_time": "2021-10-07T21:08:51.831Z"
      },
      {
        "duration": 10,
        "start_time": "2021-10-07T21:09:21.955Z"
      },
      {
        "duration": 388,
        "start_time": "2021-10-07T21:10:16.063Z"
      },
      {
        "duration": 402,
        "start_time": "2021-10-07T21:10:30.250Z"
      },
      {
        "duration": 121,
        "start_time": "2021-10-07T21:12:38.843Z"
      },
      {
        "duration": 2060,
        "start_time": "2021-10-07T21:16:30.590Z"
      },
      {
        "duration": 662,
        "start_time": "2021-10-07T21:17:06.210Z"
      },
      {
        "duration": 140,
        "start_time": "2021-10-07T21:18:02.274Z"
      },
      {
        "duration": 360,
        "start_time": "2021-10-07T21:18:17.014Z"
      },
      {
        "duration": 308,
        "start_time": "2021-10-07T21:19:45.090Z"
      },
      {
        "duration": 300,
        "start_time": "2021-10-07T21:24:09.826Z"
      },
      {
        "duration": 351,
        "start_time": "2021-10-07T21:24:23.806Z"
      },
      {
        "duration": 141,
        "start_time": "2021-10-07T21:24:42.101Z"
      },
      {
        "duration": 2070,
        "start_time": "2021-10-07T21:24:47.758Z"
      },
      {
        "duration": 2070,
        "start_time": "2021-10-07T21:25:12.489Z"
      },
      {
        "duration": 1926,
        "start_time": "2021-10-07T21:29:48.946Z"
      },
      {
        "duration": 4777,
        "start_time": "2021-10-07T21:30:10.686Z"
      },
      {
        "duration": 6601,
        "start_time": "2021-10-07T21:33:25.818Z"
      },
      {
        "duration": 38,
        "start_time": "2021-10-07T21:44:17.177Z"
      },
      {
        "duration": -56,
        "start_time": "2021-10-07T21:47:24.903Z"
      },
      {
        "duration": 305,
        "start_time": "2021-10-07T21:47:36.320Z"
      },
      {
        "duration": 12,
        "start_time": "2021-10-07T21:47:50.784Z"
      },
      {
        "duration": 463,
        "start_time": "2021-10-07T21:51:08.916Z"
      },
      {
        "duration": 15,
        "start_time": "2021-10-07T21:52:28.809Z"
      },
      {
        "duration": 11,
        "start_time": "2021-10-07T22:01:03.503Z"
      },
      {
        "duration": 22,
        "start_time": "2021-10-07T22:07:01.327Z"
      },
      {
        "duration": 10291,
        "start_time": "2021-10-07T22:07:33.391Z"
      },
      {
        "duration": 36,
        "start_time": "2021-10-07T22:07:50.147Z"
      },
      {
        "duration": 127,
        "start_time": "2021-10-07T22:07:58.111Z"
      },
      {
        "duration": 239,
        "start_time": "2021-10-07T22:08:04.659Z"
      },
      {
        "duration": 5858,
        "start_time": "2021-10-07T22:08:47.399Z"
      },
      {
        "duration": 38,
        "start_time": "2021-10-07T22:08:59.283Z"
      },
      {
        "duration": 5,
        "start_time": "2021-10-07T22:09:57.063Z"
      },
      {
        "duration": 7,
        "start_time": "2021-10-07T22:11:35.087Z"
      },
      {
        "duration": 10,
        "start_time": "2021-10-07T22:11:45.430Z"
      },
      {
        "duration": 20,
        "start_time": "2021-10-07T22:12:03.107Z"
      },
      {
        "duration": 301,
        "start_time": "2021-10-07T22:15:10.227Z"
      },
      {
        "duration": 16,
        "start_time": "2021-10-07T22:15:50.282Z"
      },
      {
        "duration": 32,
        "start_time": "2021-10-07T22:17:05.319Z"
      },
      {
        "duration": 146,
        "start_time": "2021-10-07T22:17:15.822Z"
      },
      {
        "duration": 38,
        "start_time": "2021-10-07T22:17:37.906Z"
      },
      {
        "duration": 15,
        "start_time": "2021-10-07T22:22:40.738Z"
      },
      {
        "duration": 313,
        "start_time": "2021-10-07T22:25:03.354Z"
      },
      {
        "duration": 334,
        "start_time": "2021-10-07T22:27:43.718Z"
      },
      {
        "duration": 5,
        "start_time": "2021-10-07T22:31:19.850Z"
      },
      {
        "duration": 290,
        "start_time": "2021-10-07T22:34:57.977Z"
      },
      {
        "duration": 314,
        "start_time": "2021-10-07T22:36:33.665Z"
      },
      {
        "duration": 1071,
        "start_time": "2021-10-07T22:41:14.536Z"
      },
      {
        "duration": 112,
        "start_time": "2021-10-07T22:44:57.342Z"
      },
      {
        "duration": 1598,
        "start_time": "2021-10-07T22:45:43.956Z"
      },
      {
        "duration": 325,
        "start_time": "2021-10-07T22:50:28.452Z"
      },
      {
        "duration": 325,
        "start_time": "2021-10-07T22:50:57.953Z"
      },
      {
        "duration": 284,
        "start_time": "2021-10-07T22:51:24.256Z"
      },
      {
        "duration": 16,
        "start_time": "2021-10-07T22:51:48.488Z"
      },
      {
        "duration": 320,
        "start_time": "2021-10-07T22:52:45.339Z"
      },
      {
        "duration": 315,
        "start_time": "2021-10-07T22:52:51.611Z"
      },
      {
        "duration": 15,
        "start_time": "2021-10-07T22:53:13.253Z"
      },
      {
        "duration": 61,
        "start_time": "2021-10-07T22:54:52.815Z"
      },
      {
        "duration": 107,
        "start_time": "2021-10-07T23:04:15.746Z"
      },
      {
        "duration": 130,
        "start_time": "2021-10-07T23:04:32.673Z"
      },
      {
        "duration": 105,
        "start_time": "2021-10-07T23:06:24.791Z"
      },
      {
        "duration": 96,
        "start_time": "2021-10-07T23:06:50.569Z"
      },
      {
        "duration": 108,
        "start_time": "2021-10-07T23:07:11.685Z"
      },
      {
        "duration": 586,
        "start_time": "2021-10-07T23:07:35.919Z"
      },
      {
        "duration": 5,
        "start_time": "2021-10-07T23:07:47.577Z"
      },
      {
        "duration": 557,
        "start_time": "2021-10-07T23:09:10.617Z"
      },
      {
        "duration": 1002,
        "start_time": "2021-10-08T21:52:10.655Z"
      },
      {
        "duration": 352,
        "start_time": "2021-10-08T21:52:32.815Z"
      },
      {
        "duration": 160,
        "start_time": "2021-10-08T21:52:44.191Z"
      },
      {
        "duration": 273,
        "start_time": "2021-10-08T21:52:52.800Z"
      },
      {
        "duration": 5869,
        "start_time": "2021-10-08T21:52:57.099Z"
      },
      {
        "duration": 38,
        "start_time": "2021-10-08T21:53:07.819Z"
      },
      {
        "duration": 5,
        "start_time": "2021-10-08T21:53:14.960Z"
      },
      {
        "duration": 6,
        "start_time": "2021-10-08T21:53:23.067Z"
      },
      {
        "duration": 44,
        "start_time": "2021-10-08T21:53:32.240Z"
      },
      {
        "duration": 66,
        "start_time": "2021-10-08T21:53:35.523Z"
      },
      {
        "duration": 378,
        "start_time": "2021-10-08T21:58:25.063Z"
      },
      {
        "duration": 7175,
        "start_time": "2021-10-08T21:59:00.479Z"
      },
      {
        "duration": 375,
        "start_time": "2021-10-08T22:03:47.779Z"
      },
      {
        "duration": 321,
        "start_time": "2021-10-08T22:03:57.715Z"
      },
      {
        "duration": 7751,
        "start_time": "2021-10-08T22:05:27.659Z"
      },
      {
        "duration": 7788,
        "start_time": "2021-10-08T22:05:53.351Z"
      },
      {
        "duration": 8517,
        "start_time": "2021-10-08T22:13:49.886Z"
      },
      {
        "duration": 37,
        "start_time": "2021-10-08T22:14:09.951Z"
      },
      {
        "duration": 37,
        "start_time": "2021-10-08T22:14:49.239Z"
      },
      {
        "duration": 34,
        "start_time": "2021-10-08T22:15:04.355Z"
      },
      {
        "duration": 2129,
        "start_time": "2021-10-08T22:21:08.996Z"
      },
      {
        "duration": 2136,
        "start_time": "2021-10-08T22:21:46.146Z"
      },
      {
        "duration": 7817,
        "start_time": "2021-10-08T22:26:46.798Z"
      },
      {
        "duration": 555,
        "start_time": "2021-10-08T22:27:09.571Z"
      },
      {
        "duration": 535,
        "start_time": "2021-10-08T22:27:17.374Z"
      },
      {
        "duration": 15,
        "start_time": "2021-10-08T22:38:32.857Z"
      },
      {
        "duration": 518,
        "start_time": "2021-10-08T22:39:16.240Z"
      },
      {
        "duration": 114,
        "start_time": "2021-10-08T23:00:18.835Z"
      },
      {
        "duration": 503,
        "start_time": "2021-10-08T23:00:29.017Z"
      },
      {
        "duration": 507,
        "start_time": "2021-10-08T23:00:53.099Z"
      },
      {
        "duration": 623,
        "start_time": "2021-10-08T23:01:12.485Z"
      },
      {
        "duration": 1395,
        "start_time": "2021-10-08T23:03:00.891Z"
      },
      {
        "duration": 1697,
        "start_time": "2021-10-08T23:03:19.843Z"
      },
      {
        "duration": 2114,
        "start_time": "2021-10-08T23:03:41.310Z"
      },
      {
        "duration": 293,
        "start_time": "2021-10-08T23:20:15.836Z"
      },
      {
        "duration": 2458,
        "start_time": "2021-10-08T23:20:24.994Z"
      },
      {
        "duration": 2263,
        "start_time": "2021-10-08T23:21:49.260Z"
      },
      {
        "duration": 2250,
        "start_time": "2021-10-08T23:22:28.003Z"
      },
      {
        "duration": 8340,
        "start_time": "2021-10-08T23:36:58.089Z"
      },
      {
        "duration": 1312,
        "start_time": "2021-10-08T23:37:27.670Z"
      },
      {
        "duration": 8508,
        "start_time": "2021-10-08T23:39:16.174Z"
      },
      {
        "duration": 1152,
        "start_time": "2021-10-08T23:39:42.266Z"
      },
      {
        "duration": 956,
        "start_time": "2021-10-08T23:40:22.443Z"
      },
      {
        "duration": 8428,
        "start_time": "2021-10-08T23:41:43.848Z"
      },
      {
        "duration": 8331,
        "start_time": "2021-10-08T23:44:43.069Z"
      },
      {
        "duration": 1011,
        "start_time": "2021-10-08T23:44:56.867Z"
      },
      {
        "duration": 18,
        "start_time": "2021-10-08T23:45:24.352Z"
      },
      {
        "duration": 8039,
        "start_time": "2021-10-08T23:45:49.399Z"
      },
      {
        "duration": 41,
        "start_time": "2021-10-08T23:45:57.441Z"
      },
      {
        "duration": 17,
        "start_time": "2021-10-08T23:46:04.769Z"
      },
      {
        "duration": 17,
        "start_time": "2021-10-08T23:48:13.229Z"
      },
      {
        "duration": 51,
        "start_time": "2021-10-08T23:57:30.777Z"
      },
      {
        "duration": 40,
        "start_time": "2021-10-08T23:59:58.813Z"
      },
      {
        "duration": 40,
        "start_time": "2021-10-09T00:00:27.357Z"
      },
      {
        "duration": 29,
        "start_time": "2021-10-09T00:01:13.232Z"
      },
      {
        "duration": 37,
        "start_time": "2021-10-09T00:01:28.678Z"
      },
      {
        "duration": 8936,
        "start_time": "2021-10-09T00:09:56.260Z"
      },
      {
        "duration": 37,
        "start_time": "2021-10-09T00:10:45.139Z"
      },
      {
        "duration": 299,
        "start_time": "2021-10-09T00:14:33.058Z"
      },
      {
        "duration": 46,
        "start_time": "2021-10-09T00:15:38.424Z"
      },
      {
        "duration": 647,
        "start_time": "2021-10-09T00:15:48.894Z"
      },
      {
        "duration": 49,
        "start_time": "2021-10-09T00:15:55.962Z"
      },
      {
        "duration": 20,
        "start_time": "2021-10-09T00:16:02.384Z"
      },
      {
        "duration": 21,
        "start_time": "2021-10-09T00:16:40.472Z"
      },
      {
        "duration": 18,
        "start_time": "2021-10-09T00:18:01.500Z"
      },
      {
        "duration": 19,
        "start_time": "2021-10-09T00:18:04.002Z"
      },
      {
        "duration": 23,
        "start_time": "2021-10-09T00:30:41.272Z"
      },
      {
        "duration": 8059,
        "start_time": "2021-10-09T00:30:54.545Z"
      },
      {
        "duration": 24,
        "start_time": "2021-10-09T00:31:10.535Z"
      },
      {
        "duration": 345,
        "start_time": "2021-10-09T00:33:14.420Z"
      },
      {
        "duration": 290,
        "start_time": "2021-10-09T00:33:28.505Z"
      },
      {
        "duration": 8,
        "start_time": "2021-10-09T00:33:46.924Z"
      },
      {
        "duration": 35,
        "start_time": "2021-10-09T00:34:06.208Z"
      },
      {
        "duration": 41,
        "start_time": "2021-10-09T00:34:24.167Z"
      },
      {
        "duration": 317,
        "start_time": "2021-10-09T00:38:17.249Z"
      },
      {
        "duration": 1209,
        "start_time": "2021-10-09T00:38:29.515Z"
      },
      {
        "duration": 8,
        "start_time": "2021-10-09T00:40:54.679Z"
      },
      {
        "duration": 13,
        "start_time": "2021-10-09T00:41:17.613Z"
      },
      {
        "duration": 8,
        "start_time": "2021-10-09T00:45:12.286Z"
      },
      {
        "duration": 23,
        "start_time": "2021-10-09T00:48:49.644Z"
      },
      {
        "duration": 10806,
        "start_time": "2021-10-09T00:49:04.954Z"
      },
      {
        "duration": 38,
        "start_time": "2021-10-09T00:50:42.424Z"
      },
      {
        "duration": 20,
        "start_time": "2021-10-09T00:52:21.316Z"
      },
      {
        "duration": 109,
        "start_time": "2021-10-09T00:54:09.129Z"
      },
      {
        "duration": 112,
        "start_time": "2021-10-09T00:54:45.089Z"
      },
      {
        "duration": 29,
        "start_time": "2021-10-09T00:54:54.122Z"
      },
      {
        "duration": 38,
        "start_time": "2021-10-09T00:55:09.518Z"
      },
      {
        "duration": 25,
        "start_time": "2021-10-09T00:55:53.566Z"
      },
      {
        "duration": 43,
        "start_time": "2021-10-09T00:56:28.110Z"
      },
      {
        "duration": 1007,
        "start_time": "2021-10-09T08:14:56.523Z"
      },
      {
        "duration": 384,
        "start_time": "2021-10-09T08:15:18.036Z"
      },
      {
        "duration": 103,
        "start_time": "2021-10-09T08:15:45.413Z"
      },
      {
        "duration": 7,
        "start_time": "2021-10-09T08:16:02.634Z"
      },
      {
        "duration": 7,
        "start_time": "2021-10-09T08:16:08.868Z"
      },
      {
        "duration": 333,
        "start_time": "2021-10-09T08:16:39.817Z"
      },
      {
        "duration": 169,
        "start_time": "2021-10-09T08:17:20.701Z"
      },
      {
        "duration": 39,
        "start_time": "2021-10-09T08:17:29.793Z"
      },
      {
        "duration": 64,
        "start_time": "2021-10-09T08:17:37.101Z"
      },
      {
        "duration": 8326,
        "start_time": "2021-10-09T08:17:42.121Z"
      },
      {
        "duration": 2399,
        "start_time": "2021-10-09T08:17:55.910Z"
      },
      {
        "duration": 16,
        "start_time": "2021-10-09T08:18:12.957Z"
      },
      {
        "duration": 9,
        "start_time": "2021-10-09T08:18:13.301Z"
      },
      {
        "duration": 4,
        "start_time": "2021-10-09T08:19:15.520Z"
      },
      {
        "duration": 9447,
        "start_time": "2021-10-09T08:21:54.944Z"
      },
      {
        "duration": 7,
        "start_time": "2021-10-09T08:22:22.016Z"
      },
      {
        "duration": 9,
        "start_time": "2021-10-09T08:22:54.608Z"
      },
      {
        "duration": 147,
        "start_time": "2021-10-09T08:25:16.747Z"
      },
      {
        "duration": 270,
        "start_time": "2021-10-09T08:25:26.696Z"
      },
      {
        "duration": 105,
        "start_time": "2021-10-09T08:25:55.389Z"
      },
      {
        "duration": 7,
        "start_time": "2021-10-09T08:26:08.155Z"
      },
      {
        "duration": 319,
        "start_time": "2021-10-09T08:26:30.422Z"
      },
      {
        "duration": 99,
        "start_time": "2021-10-09T08:26:53.786Z"
      },
      {
        "duration": 1333,
        "start_time": "2021-10-09T08:27:23.583Z"
      },
      {
        "duration": 153,
        "start_time": "2021-10-09T08:28:13.188Z"
      },
      {
        "duration": 33,
        "start_time": "2021-10-09T08:28:13.375Z"
      },
      {
        "duration": 42,
        "start_time": "2021-10-09T08:28:13.718Z"
      },
      {
        "duration": 150,
        "start_time": "2021-10-09T08:28:14.745Z"
      },
      {
        "duration": 6,
        "start_time": "2021-10-09T08:28:15.271Z"
      },
      {
        "duration": 6040,
        "start_time": "2021-10-09T08:28:15.641Z"
      },
      {
        "duration": 47,
        "start_time": "2021-10-09T08:28:21.683Z"
      },
      {
        "duration": 10,
        "start_time": "2021-10-09T08:28:21.733Z"
      },
      {
        "duration": 6,
        "start_time": "2021-10-09T08:28:21.745Z"
      },
      {
        "duration": 12,
        "start_time": "2021-10-09T08:28:21.753Z"
      },
      {
        "duration": 37,
        "start_time": "2021-10-09T08:28:21.767Z"
      },
      {
        "duration": 24,
        "start_time": "2021-10-09T08:28:21.806Z"
      },
      {
        "duration": 40,
        "start_time": "2021-10-09T08:28:21.833Z"
      },
      {
        "duration": 63,
        "start_time": "2021-10-09T08:28:21.899Z"
      },
      {
        "duration": 3,
        "start_time": "2021-10-09T08:28:21.964Z"
      },
      {
        "duration": 8374,
        "start_time": "2021-10-09T08:28:21.969Z"
      },
      {
        "duration": 38,
        "start_time": "2021-10-09T08:28:30.346Z"
      },
      {
        "duration": 2263,
        "start_time": "2021-10-09T08:28:30.400Z"
      },
      {
        "duration": 617,
        "start_time": "2021-10-09T08:28:32.665Z"
      },
      {
        "duration": 2159,
        "start_time": "2021-10-09T08:28:33.285Z"
      },
      {
        "duration": 22,
        "start_time": "2021-10-09T08:28:35.447Z"
      },
      {
        "duration": 7,
        "start_time": "2021-10-09T08:28:35.472Z"
      },
      {
        "duration": 16,
        "start_time": "2021-10-09T08:28:35.500Z"
      },
      {
        "duration": 47,
        "start_time": "2021-10-09T08:28:35.518Z"
      },
      {
        "duration": 34,
        "start_time": "2021-10-09T08:28:35.567Z"
      },
      {
        "duration": 85,
        "start_time": "2021-10-09T08:30:01.064Z"
      },
      {
        "duration": 11,
        "start_time": "2021-10-09T08:30:11.357Z"
      },
      {
        "duration": 504,
        "start_time": "2021-10-09T08:31:09.745Z"
      },
      {
        "duration": 765,
        "start_time": "2021-10-09T08:33:19.469Z"
      },
      {
        "duration": 101,
        "start_time": "2021-10-09T08:35:30.517Z"
      },
      {
        "duration": 300,
        "start_time": "2021-10-09T08:35:39.555Z"
      },
      {
        "duration": 380,
        "start_time": "2021-10-09T08:38:14.503Z"
      },
      {
        "duration": 839,
        "start_time": "2021-10-09T08:39:33.209Z"
      },
      {
        "duration": 798,
        "start_time": "2021-10-09T08:40:31.663Z"
      },
      {
        "duration": 622,
        "start_time": "2021-10-09T08:42:07.356Z"
      },
      {
        "duration": 318,
        "start_time": "2021-10-09T08:44:20.565Z"
      },
      {
        "duration": 938,
        "start_time": "2021-10-09T08:45:20.638Z"
      },
      {
        "duration": 226669,
        "start_time": "2021-10-09T08:47:01.307Z"
      },
      {
        "duration": 933,
        "start_time": "2021-10-09T08:53:30.877Z"
      },
      {
        "duration": 14,
        "start_time": "2021-10-09T09:05:55.215Z"
      },
      {
        "duration": 14,
        "start_time": "2021-10-09T09:06:11.697Z"
      },
      {
        "duration": 14,
        "start_time": "2021-10-09T09:09:19.928Z"
      },
      {
        "duration": 19,
        "start_time": "2021-10-09T09:09:24.615Z"
      },
      {
        "duration": 29,
        "start_time": "2021-10-09T09:15:49.285Z"
      },
      {
        "duration": 35,
        "start_time": "2021-10-09T09:18:39.925Z"
      },
      {
        "duration": 281,
        "start_time": "2021-10-09T09:20:02.854Z"
      },
      {
        "duration": 29,
        "start_time": "2021-10-09T09:20:41.670Z"
      },
      {
        "duration": 32,
        "start_time": "2021-10-09T09:21:50.775Z"
      },
      {
        "duration": 31,
        "start_time": "2021-10-09T09:22:03.102Z"
      },
      {
        "duration": 30,
        "start_time": "2021-10-09T09:22:42.303Z"
      },
      {
        "duration": 31,
        "start_time": "2021-10-09T09:27:22.621Z"
      },
      {
        "duration": 31,
        "start_time": "2021-10-09T09:29:51.593Z"
      },
      {
        "duration": 31,
        "start_time": "2021-10-09T09:30:28.786Z"
      },
      {
        "duration": 31,
        "start_time": "2021-10-09T09:31:13.885Z"
      },
      {
        "duration": 35,
        "start_time": "2021-10-09T09:33:43.216Z"
      },
      {
        "duration": 118,
        "start_time": "2021-10-09T09:35:10.124Z"
      },
      {
        "duration": 271,
        "start_time": "2021-10-09T09:40:33.631Z"
      },
      {
        "duration": 308,
        "start_time": "2021-10-09T09:42:24.261Z"
      },
      {
        "duration": -61,
        "start_time": "2021-10-09T09:43:54.021Z"
      },
      {
        "duration": 98396,
        "start_time": "2021-10-09T09:43:56.305Z"
      },
      {
        "duration": 32,
        "start_time": "2021-10-09T09:45:50.274Z"
      },
      {
        "duration": 274,
        "start_time": "2021-10-09T09:49:42.292Z"
      },
      {
        "duration": 272,
        "start_time": "2021-10-09T09:51:26.662Z"
      },
      {
        "duration": 26,
        "start_time": "2021-10-09T09:51:56.121Z"
      },
      {
        "duration": 26,
        "start_time": "2021-10-09T09:52:23.898Z"
      },
      {
        "duration": 1439,
        "start_time": "2021-10-09T09:56:43.283Z"
      },
      {
        "duration": 607,
        "start_time": "2021-10-09T09:57:00.039Z"
      },
      {
        "duration": 8,
        "start_time": "2021-10-09T10:02:34.508Z"
      },
      {
        "duration": 286,
        "start_time": "2021-10-09T10:03:54.603Z"
      },
      {
        "duration": 281,
        "start_time": "2021-10-09T10:04:30.627Z"
      },
      {
        "duration": 295,
        "start_time": "2021-10-09T10:04:41.396Z"
      },
      {
        "duration": 8,
        "start_time": "2021-10-09T10:04:51.675Z"
      },
      {
        "duration": 290,
        "start_time": "2021-10-09T10:05:55.663Z"
      },
      {
        "duration": 9,
        "start_time": "2021-10-09T10:10:34.375Z"
      },
      {
        "duration": 804,
        "start_time": "2021-10-09T10:14:11.635Z"
      },
      {
        "duration": 403,
        "start_time": "2021-10-09T10:14:40.435Z"
      },
      {
        "duration": 7,
        "start_time": "2021-10-09T10:24:25.023Z"
      },
      {
        "duration": 7,
        "start_time": "2021-10-09T10:25:50.037Z"
      },
      {
        "duration": 138,
        "start_time": "2021-10-09T10:28:19.227Z"
      },
      {
        "duration": 31,
        "start_time": "2021-10-09T10:28:19.547Z"
      },
      {
        "duration": 41,
        "start_time": "2021-10-09T10:28:19.733Z"
      },
      {
        "duration": 144,
        "start_time": "2021-10-09T10:28:21.062Z"
      },
      {
        "duration": 5,
        "start_time": "2021-10-09T10:28:21.627Z"
      },
      {
        "duration": 5983,
        "start_time": "2021-10-09T10:28:21.984Z"
      },
      {
        "duration": 50,
        "start_time": "2021-10-09T10:28:27.970Z"
      },
      {
        "duration": 9,
        "start_time": "2021-10-09T10:28:28.023Z"
      },
      {
        "duration": 6,
        "start_time": "2021-10-09T10:28:28.034Z"
      },
      {
        "duration": 11,
        "start_time": "2021-10-09T10:28:28.043Z"
      },
      {
        "duration": 7,
        "start_time": "2021-10-09T10:28:28.056Z"
      },
      {
        "duration": 53,
        "start_time": "2021-10-09T10:28:28.065Z"
      },
      {
        "duration": 37,
        "start_time": "2021-10-09T10:28:28.121Z"
      },
      {
        "duration": 91,
        "start_time": "2021-10-09T10:28:28.161Z"
      },
      {
        "duration": 3,
        "start_time": "2021-10-09T10:28:28.254Z"
      },
      {
        "duration": 8526,
        "start_time": "2021-10-09T10:28:28.259Z"
      },
      {
        "duration": 46,
        "start_time": "2021-10-09T10:28:36.787Z"
      },
      {
        "duration": 3632,
        "start_time": "2021-10-09T10:28:36.836Z"
      },
      {
        "duration": 590,
        "start_time": "2021-10-09T10:28:40.470Z"
      },
      {
        "duration": 2313,
        "start_time": "2021-10-09T10:28:41.063Z"
      },
      {
        "duration": 23,
        "start_time": "2021-10-09T10:28:43.379Z"
      },
      {
        "duration": 8,
        "start_time": "2021-10-09T10:28:43.404Z"
      },
      {
        "duration": 17,
        "start_time": "2021-10-09T10:28:43.415Z"
      },
      {
        "duration": 72,
        "start_time": "2021-10-09T10:28:43.434Z"
      },
      {
        "duration": 267,
        "start_time": "2021-10-09T10:28:43.508Z"
      },
      {
        "duration": -52,
        "start_time": "2021-10-09T10:28:43.829Z"
      },
      {
        "duration": -51,
        "start_time": "2021-10-09T10:28:43.830Z"
      },
      {
        "duration": -51,
        "start_time": "2021-10-09T10:28:43.832Z"
      },
      {
        "duration": -50,
        "start_time": "2021-10-09T10:28:43.833Z"
      },
      {
        "duration": -50,
        "start_time": "2021-10-09T10:28:43.835Z"
      },
      {
        "duration": -49,
        "start_time": "2021-10-09T10:28:43.836Z"
      },
      {
        "duration": -49,
        "start_time": "2021-10-09T10:28:43.838Z"
      },
      {
        "duration": -49,
        "start_time": "2021-10-09T10:28:43.840Z"
      },
      {
        "duration": 156,
        "start_time": "2021-10-09T10:29:42.914Z"
      },
      {
        "duration": 36,
        "start_time": "2021-10-09T10:29:43.073Z"
      },
      {
        "duration": 40,
        "start_time": "2021-10-09T10:29:43.112Z"
      },
      {
        "duration": 177,
        "start_time": "2021-10-09T10:29:43.155Z"
      },
      {
        "duration": 5,
        "start_time": "2021-10-09T10:29:43.334Z"
      },
      {
        "duration": 5921,
        "start_time": "2021-10-09T10:29:43.341Z"
      },
      {
        "duration": 59,
        "start_time": "2021-10-09T10:29:49.265Z"
      },
      {
        "duration": 10,
        "start_time": "2021-10-09T10:29:49.328Z"
      },
      {
        "duration": 5,
        "start_time": "2021-10-09T10:29:49.342Z"
      },
      {
        "duration": 16,
        "start_time": "2021-10-09T10:29:49.349Z"
      },
      {
        "duration": 35,
        "start_time": "2021-10-09T10:29:49.368Z"
      },
      {
        "duration": 20,
        "start_time": "2021-10-09T10:29:49.405Z"
      },
      {
        "duration": 40,
        "start_time": "2021-10-09T10:29:49.428Z"
      },
      {
        "duration": 65,
        "start_time": "2021-10-09T10:29:49.500Z"
      },
      {
        "duration": 3,
        "start_time": "2021-10-09T10:29:49.567Z"
      },
      {
        "duration": 8658,
        "start_time": "2021-10-09T10:29:49.572Z"
      },
      {
        "duration": 38,
        "start_time": "2021-10-09T10:29:58.232Z"
      },
      {
        "duration": 2350,
        "start_time": "2021-10-09T10:29:58.272Z"
      },
      {
        "duration": 720,
        "start_time": "2021-10-09T10:30:00.625Z"
      },
      {
        "duration": 2219,
        "start_time": "2021-10-09T10:30:01.348Z"
      },
      {
        "duration": 14,
        "start_time": "2021-10-09T10:30:03.570Z"
      },
      {
        "duration": 8,
        "start_time": "2021-10-09T10:30:03.600Z"
      },
      {
        "duration": 16,
        "start_time": "2021-10-09T10:30:03.612Z"
      },
      {
        "duration": 71,
        "start_time": "2021-10-09T10:30:03.631Z"
      },
      {
        "duration": 290,
        "start_time": "2021-10-09T10:30:03.704Z"
      },
      {
        "duration": -60,
        "start_time": "2021-10-09T10:30:04.056Z"
      },
      {
        "duration": -60,
        "start_time": "2021-10-09T10:30:04.058Z"
      },
      {
        "duration": -60,
        "start_time": "2021-10-09T10:30:04.059Z"
      },
      {
        "duration": -60,
        "start_time": "2021-10-09T10:30:04.061Z"
      },
      {
        "duration": -60,
        "start_time": "2021-10-09T10:30:04.062Z"
      },
      {
        "duration": -59,
        "start_time": "2021-10-09T10:30:04.063Z"
      },
      {
        "duration": -60,
        "start_time": "2021-10-09T10:30:04.065Z"
      },
      {
        "duration": -61,
        "start_time": "2021-10-09T10:30:04.067Z"
      },
      {
        "duration": 316,
        "start_time": "2021-10-09T10:30:47.184Z"
      },
      {
        "duration": 17,
        "start_time": "2021-10-09T10:32:09.750Z"
      },
      {
        "duration": 906,
        "start_time": "2021-10-09T10:32:16.270Z"
      },
      {
        "duration": 33,
        "start_time": "2021-10-09T10:32:20.930Z"
      },
      {
        "duration": 27,
        "start_time": "2021-10-09T10:32:23.705Z"
      },
      {
        "duration": 569,
        "start_time": "2021-10-09T10:32:25.288Z"
      },
      {
        "duration": 9,
        "start_time": "2021-10-09T10:32:26.809Z"
      },
      {
        "duration": 7,
        "start_time": "2021-10-09T10:32:27.270Z"
      },
      {
        "duration": 394,
        "start_time": "2021-10-09T10:32:28.682Z"
      },
      {
        "duration": 7,
        "start_time": "2021-10-09T10:32:29.149Z"
      },
      {
        "duration": 810,
        "start_time": "2021-10-09T19:52:21.453Z"
      },
      {
        "duration": 22,
        "start_time": "2021-10-09T19:52:22.265Z"
      },
      {
        "duration": 29,
        "start_time": "2021-10-09T19:52:22.289Z"
      },
      {
        "duration": 22,
        "start_time": "2021-10-09T19:52:22.320Z"
      },
      {
        "duration": 121,
        "start_time": "2021-10-09T19:52:22.343Z"
      },
      {
        "duration": 13,
        "start_time": "2021-10-09T19:52:22.465Z"
      },
      {
        "duration": 3615,
        "start_time": "2021-10-09T19:52:22.480Z"
      },
      {
        "duration": 26,
        "start_time": "2021-10-09T19:52:26.097Z"
      },
      {
        "duration": 18,
        "start_time": "2021-10-09T19:52:26.126Z"
      },
      {
        "duration": 20,
        "start_time": "2021-10-09T19:52:26.146Z"
      },
      {
        "duration": 16,
        "start_time": "2021-10-09T19:52:26.168Z"
      },
      {
        "duration": 4,
        "start_time": "2021-10-09T19:52:26.186Z"
      },
      {
        "duration": 14,
        "start_time": "2021-10-09T19:52:26.192Z"
      },
      {
        "duration": 22,
        "start_time": "2021-10-09T19:52:26.208Z"
      },
      {
        "duration": 61,
        "start_time": "2021-10-09T19:52:26.232Z"
      },
      {
        "duration": 2,
        "start_time": "2021-10-09T19:52:26.295Z"
      },
      {
        "duration": 4395,
        "start_time": "2021-10-09T19:52:26.299Z"
      },
      {
        "duration": 23,
        "start_time": "2021-10-09T19:52:30.696Z"
      },
      {
        "duration": 1458,
        "start_time": "2021-10-09T19:52:30.721Z"
      },
      {
        "duration": 332,
        "start_time": "2021-10-09T19:52:32.180Z"
      },
      {
        "duration": 1343,
        "start_time": "2021-10-09T19:52:32.514Z"
      },
      {
        "duration": 22,
        "start_time": "2021-10-09T19:52:33.859Z"
      },
      {
        "duration": 6,
        "start_time": "2021-10-09T19:52:33.883Z"
      },
      {
        "duration": 12,
        "start_time": "2021-10-09T19:52:33.891Z"
      },
      {
        "duration": 30,
        "start_time": "2021-10-09T19:52:33.904Z"
      },
      {
        "duration": 45,
        "start_time": "2021-10-09T19:52:33.936Z"
      },
      {
        "duration": 593,
        "start_time": "2021-10-09T19:52:33.984Z"
      },
      {
        "duration": 21,
        "start_time": "2021-10-09T19:52:34.579Z"
      },
      {
        "duration": 17,
        "start_time": "2021-10-09T19:52:34.601Z"
      },
      {
        "duration": 454,
        "start_time": "2021-10-09T19:52:34.620Z"
      },
      {
        "duration": 6,
        "start_time": "2021-10-09T19:52:35.075Z"
      },
      {
        "duration": 6,
        "start_time": "2021-10-09T19:52:35.083Z"
      },
      {
        "duration": 272,
        "start_time": "2021-10-09T19:52:35.090Z"
      },
      {
        "duration": 14,
        "start_time": "2021-10-09T19:52:35.364Z"
      },
      {
        "duration": 10,
        "start_time": "2021-10-09T19:52:45.699Z"
      },
      {
        "duration": 114,
        "start_time": "2021-10-09T19:52:50.177Z"
      },
      {
        "duration": 24,
        "start_time": "2021-10-09T19:52:50.293Z"
      },
      {
        "duration": 30,
        "start_time": "2021-10-09T19:52:50.319Z"
      },
      {
        "duration": 42,
        "start_time": "2021-10-09T19:52:50.351Z"
      },
      {
        "duration": 109,
        "start_time": "2021-10-09T19:52:50.395Z"
      },
      {
        "duration": 4,
        "start_time": "2021-10-09T19:52:50.506Z"
      },
      {
        "duration": 3617,
        "start_time": "2021-10-09T19:52:50.511Z"
      },
      {
        "duration": 28,
        "start_time": "2021-10-09T19:52:54.130Z"
      },
      {
        "duration": 20,
        "start_time": "2021-10-09T19:52:54.160Z"
      },
      {
        "duration": 4,
        "start_time": "2021-10-09T19:52:54.182Z"
      },
      {
        "duration": 8,
        "start_time": "2021-10-09T19:52:54.188Z"
      },
      {
        "duration": 4,
        "start_time": "2021-10-09T19:52:54.198Z"
      },
      {
        "duration": 14,
        "start_time": "2021-10-09T19:52:54.204Z"
      },
      {
        "duration": 58,
        "start_time": "2021-10-09T19:52:54.220Z"
      },
      {
        "duration": 41,
        "start_time": "2021-10-09T19:52:54.280Z"
      },
      {
        "duration": 3,
        "start_time": "2021-10-09T19:52:54.323Z"
      },
      {
        "duration": 4628,
        "start_time": "2021-10-09T19:52:54.327Z"
      },
      {
        "duration": 41,
        "start_time": "2021-10-09T19:52:58.957Z"
      },
      {
        "duration": 1420,
        "start_time": "2021-10-09T19:52:59.000Z"
      },
      {
        "duration": 343,
        "start_time": "2021-10-09T19:53:00.421Z"
      },
      {
        "duration": 1352,
        "start_time": "2021-10-09T19:53:00.766Z"
      },
      {
        "duration": 15,
        "start_time": "2021-10-09T19:53:02.120Z"
      },
      {
        "duration": 6,
        "start_time": "2021-10-09T19:53:02.138Z"
      },
      {
        "duration": 11,
        "start_time": "2021-10-09T19:53:02.146Z"
      },
      {
        "duration": 46,
        "start_time": "2021-10-09T19:53:02.159Z"
      },
      {
        "duration": 11,
        "start_time": "2021-10-09T19:53:02.207Z"
      },
      {
        "duration": 669,
        "start_time": "2021-10-09T19:53:02.220Z"
      },
      {
        "duration": 22,
        "start_time": "2021-10-09T19:53:02.890Z"
      },
      {
        "duration": 18,
        "start_time": "2021-10-09T19:53:02.914Z"
      },
      {
        "duration": 450,
        "start_time": "2021-10-09T19:53:02.933Z"
      },
      {
        "duration": 6,
        "start_time": "2021-10-09T19:53:03.384Z"
      },
      {
        "duration": 9,
        "start_time": "2021-10-09T19:53:03.392Z"
      },
      {
        "duration": 266,
        "start_time": "2021-10-09T19:53:03.403Z"
      },
      {
        "duration": 8,
        "start_time": "2021-10-09T19:53:03.671Z"
      },
      {
        "duration": 137,
        "start_time": "2021-10-09T20:13:05.753Z"
      },
      {
        "duration": 100,
        "start_time": "2021-10-09T20:16:07.353Z"
      },
      {
        "duration": 152,
        "start_time": "2021-10-09T22:28:51.355Z"
      },
      {
        "duration": 33,
        "start_time": "2021-10-09T22:28:54.795Z"
      },
      {
        "duration": 43,
        "start_time": "2021-10-09T22:28:56.599Z"
      },
      {
        "duration": 149,
        "start_time": "2021-10-09T22:29:54.867Z"
      },
      {
        "duration": 800,
        "start_time": "2021-10-09T22:31:22.127Z"
      },
      {
        "duration": 782,
        "start_time": "2021-10-09T22:32:51.871Z"
      },
      {
        "duration": 1182,
        "start_time": "2021-10-09T22:33:30.051Z"
      },
      {
        "duration": 5860,
        "start_time": "2021-10-09T22:33:35.399Z"
      },
      {
        "duration": -144,
        "start_time": "2021-10-09T22:41:36.255Z"
      },
      {
        "duration": 3744,
        "start_time": "2021-10-09T22:42:46.218Z"
      },
      {
        "duration": 785,
        "start_time": "2021-10-10T22:06:14.486Z"
      },
      {
        "duration": 21,
        "start_time": "2021-10-10T22:06:15.273Z"
      },
      {
        "duration": 29,
        "start_time": "2021-10-10T22:06:15.357Z"
      },
      {
        "duration": 24,
        "start_time": "2021-10-10T22:06:16.338Z"
      },
      {
        "duration": 97,
        "start_time": "2021-10-10T22:06:19.306Z"
      },
      {
        "duration": 4,
        "start_time": "2021-10-10T22:06:20.819Z"
      },
      {
        "duration": 3440,
        "start_time": "2021-10-10T22:06:21.870Z"
      },
      {
        "duration": 601,
        "start_time": "2021-10-10T22:06:29.477Z"
      },
      {
        "duration": 6,
        "start_time": "2021-10-10T22:24:05.319Z"
      },
      {
        "duration": 6,
        "start_time": "2021-10-10T22:24:18.141Z"
      },
      {
        "duration": 131,
        "start_time": "2021-10-10T22:35:51.353Z"
      },
      {
        "duration": 389,
        "start_time": "2021-10-10T22:35:56.045Z"
      },
      {
        "duration": 573,
        "start_time": "2021-10-10T22:36:30.725Z"
      },
      {
        "duration": 4,
        "start_time": "2021-10-10T22:36:42.233Z"
      },
      {
        "duration": 11,
        "start_time": "2021-10-10T22:36:44.725Z"
      },
      {
        "duration": 5,
        "start_time": "2021-10-10T22:36:55.357Z"
      },
      {
        "duration": 84,
        "start_time": "2021-10-10T22:36:58.768Z"
      },
      {
        "duration": 304,
        "start_time": "2021-10-10T22:37:19.558Z"
      },
      {
        "duration": 5,
        "start_time": "2021-10-10T22:47:23.838Z"
      },
      {
        "duration": 35,
        "start_time": "2021-10-10T22:47:24.493Z"
      },
      {
        "duration": 305,
        "start_time": "2021-10-10T22:50:05.685Z"
      },
      {
        "duration": 321,
        "start_time": "2021-10-10T22:51:57.824Z"
      },
      {
        "duration": 8,
        "start_time": "2021-10-10T22:54:05.220Z"
      },
      {
        "duration": 107,
        "start_time": "2021-10-10T22:54:08.936Z"
      },
      {
        "duration": 7,
        "start_time": "2021-10-10T22:54:13.364Z"
      },
      {
        "duration": 125,
        "start_time": "2021-10-10T22:59:19.315Z"
      },
      {
        "duration": 301,
        "start_time": "2021-10-10T22:59:27.529Z"
      },
      {
        "duration": 35,
        "start_time": "2021-10-10T22:59:39.792Z"
      },
      {
        "duration": 334,
        "start_time": "2021-10-10T23:02:09.581Z"
      },
      {
        "duration": 318,
        "start_time": "2021-10-10T23:02:25.527Z"
      },
      {
        "duration": 1306,
        "start_time": "2021-10-10T23:02:56.409Z"
      },
      {
        "duration": 1754,
        "start_time": "2021-10-10T23:03:11.548Z"
      },
      {
        "duration": 13,
        "start_time": "2021-10-10T23:05:44.082Z"
      },
      {
        "duration": 231,
        "start_time": "2021-10-10T23:08:01.071Z"
      },
      {
        "duration": 219,
        "start_time": "2021-10-10T23:09:12.550Z"
      },
      {
        "duration": 13,
        "start_time": "2021-10-10T23:10:17.322Z"
      },
      {
        "duration": 279,
        "start_time": "2021-10-10T23:15:40.115Z"
      },
      {
        "duration": 17,
        "start_time": "2021-10-10T23:15:57.199Z"
      },
      {
        "duration": 268,
        "start_time": "2021-10-10T23:16:03.033Z"
      },
      {
        "duration": 224,
        "start_time": "2021-10-10T23:23:03.668Z"
      },
      {
        "duration": 225,
        "start_time": "2021-10-10T23:23:08.775Z"
      },
      {
        "duration": 302,
        "start_time": "2021-10-10T23:24:49.727Z"
      },
      {
        "duration": 309,
        "start_time": "2021-10-10T23:25:02.235Z"
      },
      {
        "duration": 100,
        "start_time": "2021-10-12T18:18:08.584Z"
      },
      {
        "duration": 100,
        "start_time": "2021-10-12T18:18:23.552Z"
      },
      {
        "duration": 497,
        "start_time": "2021-10-12T18:18:38.167Z"
      },
      {
        "duration": 94,
        "start_time": "2021-10-12T18:30:22.152Z"
      },
      {
        "duration": 109,
        "start_time": "2021-10-12T18:30:41.128Z"
      },
      {
        "duration": 103,
        "start_time": "2021-10-12T18:30:53.260Z"
      },
      {
        "duration": 106,
        "start_time": "2021-10-12T18:31:06.136Z"
      },
      {
        "duration": 96,
        "start_time": "2021-10-12T18:31:16.660Z"
      },
      {
        "duration": 105,
        "start_time": "2021-10-12T18:31:30.172Z"
      },
      {
        "duration": 315,
        "start_time": "2021-10-12T18:31:43.256Z"
      },
      {
        "duration": 12,
        "start_time": "2021-10-12T18:32:30.216Z"
      },
      {
        "duration": 295,
        "start_time": "2021-10-12T18:32:56.372Z"
      },
      {
        "duration": 371,
        "start_time": "2021-10-12T18:33:14.080Z"
      },
      {
        "duration": 323,
        "start_time": "2021-10-12T18:33:24.832Z"
      },
      {
        "duration": 13,
        "start_time": "2021-10-12T18:33:34.657Z"
      },
      {
        "duration": 10182,
        "start_time": "2021-10-12T18:33:51.840Z"
      },
      {
        "duration": 10016,
        "start_time": "2021-10-12T18:34:08.064Z"
      },
      {
        "duration": 16416,
        "start_time": "2021-10-12T18:35:34.220Z"
      },
      {
        "duration": 8199,
        "start_time": "2021-10-12T18:36:19.172Z"
      },
      {
        "duration": 10,
        "start_time": "2021-10-12T18:36:42.843Z"
      },
      {
        "duration": 8580,
        "start_time": "2021-10-12T18:36:48.501Z"
      },
      {
        "duration": 7757,
        "start_time": "2021-10-12T18:37:22.029Z"
      },
      {
        "duration": 7753,
        "start_time": "2021-10-12T18:37:40.648Z"
      },
      {
        "duration": 7,
        "start_time": "2021-10-12T18:38:43.280Z"
      },
      {
        "duration": 9670,
        "start_time": "2021-10-12T18:39:28.756Z"
      },
      {
        "duration": 6,
        "start_time": "2021-10-12T18:40:55.516Z"
      },
      {
        "duration": 350,
        "start_time": "2021-10-12T18:41:09.012Z"
      },
      {
        "duration": 105,
        "start_time": "2021-10-12T18:43:14.064Z"
      },
      {
        "duration": 356,
        "start_time": "2021-10-12T18:43:23.440Z"
      },
      {
        "duration": 99,
        "start_time": "2021-10-12T18:43:44.564Z"
      },
      {
        "duration": 853,
        "start_time": "2021-10-12T18:43:54.004Z"
      },
      {
        "duration": 7456,
        "start_time": "2021-10-12T18:45:50.707Z"
      },
      {
        "duration": 502,
        "start_time": "2021-10-12T18:46:05.447Z"
      },
      {
        "duration": 813,
        "start_time": "2021-10-12T18:46:08.551Z"
      },
      {
        "duration": 7,
        "start_time": "2021-10-12T18:46:12.551Z"
      },
      {
        "duration": 7,
        "start_time": "2021-10-12T18:46:21.887Z"
      },
      {
        "duration": 823,
        "start_time": "2021-10-12T18:46:39.967Z"
      },
      {
        "duration": 14,
        "start_time": "2021-10-12T18:47:29.711Z"
      },
      {
        "duration": 8565,
        "start_time": "2021-10-12T18:47:37.499Z"
      },
      {
        "duration": 7,
        "start_time": "2021-10-12T18:47:53.079Z"
      },
      {
        "duration": 9,
        "start_time": "2021-10-12T18:48:28.161Z"
      },
      {
        "duration": 6,
        "start_time": "2021-10-12T18:48:34.595Z"
      },
      {
        "duration": 8,
        "start_time": "2021-10-12T18:48:42.059Z"
      },
      {
        "duration": 8,
        "start_time": "2021-10-12T18:48:48.555Z"
      },
      {
        "duration": 5,
        "start_time": "2021-10-12T18:49:06.756Z"
      },
      {
        "duration": 8,
        "start_time": "2021-10-12T18:49:16.808Z"
      },
      {
        "duration": 305,
        "start_time": "2021-10-12T18:51:28.323Z"
      },
      {
        "duration": 10,
        "start_time": "2021-10-12T18:51:46.263Z"
      },
      {
        "duration": 8758,
        "start_time": "2021-10-12T18:51:58.951Z"
      },
      {
        "duration": 335,
        "start_time": "2021-10-12T18:52:17.427Z"
      },
      {
        "duration": 10,
        "start_time": "2021-10-12T18:52:24.615Z"
      },
      {
        "duration": 311,
        "start_time": "2021-10-12T18:53:51.559Z"
      },
      {
        "duration": 296,
        "start_time": "2021-10-12T18:53:59.082Z"
      },
      {
        "duration": 309,
        "start_time": "2021-10-12T18:54:28.891Z"
      },
      {
        "duration": 11,
        "start_time": "2021-10-12T18:54:39.430Z"
      },
      {
        "duration": 305,
        "start_time": "2021-10-12T18:57:51.714Z"
      },
      {
        "duration": 289,
        "start_time": "2021-10-12T18:57:58.455Z"
      },
      {
        "duration": 6,
        "start_time": "2021-10-12T18:58:22.938Z"
      },
      {
        "duration": 279,
        "start_time": "2021-10-12T18:58:47.571Z"
      },
      {
        "duration": 101,
        "start_time": "2021-10-12T19:09:19.394Z"
      },
      {
        "duration": 313,
        "start_time": "2021-10-12T19:09:27.378Z"
      },
      {
        "duration": 463,
        "start_time": "2021-10-12T19:09:54.573Z"
      },
      {
        "duration": 9216,
        "start_time": "2021-10-12T19:12:09.562Z"
      },
      {
        "duration": 12531,
        "start_time": "2021-10-12T19:12:50.585Z"
      },
      {
        "duration": 330,
        "start_time": "2021-10-12T19:13:15.706Z"
      },
      {
        "duration": 337,
        "start_time": "2021-10-12T19:14:05.407Z"
      },
      {
        "duration": 326,
        "start_time": "2021-10-12T19:16:58.658Z"
      },
      {
        "duration": 294,
        "start_time": "2021-10-12T19:49:20.689Z"
      },
      {
        "duration": 328,
        "start_time": "2021-10-12T19:49:28.875Z"
      },
      {
        "duration": 1290,
        "start_time": "2021-10-12T19:52:57.889Z"
      },
      {
        "duration": 699,
        "start_time": "2021-10-13T16:44:29.399Z"
      },
      {
        "duration": 95,
        "start_time": "2021-10-13T16:44:41.384Z"
      },
      {
        "duration": 201,
        "start_time": "2021-10-13T16:45:41.256Z"
      },
      {
        "duration": 205,
        "start_time": "2021-10-13T16:45:59.580Z"
      },
      {
        "duration": 5,
        "start_time": "2021-10-13T16:46:22.020Z"
      },
      {
        "duration": 164,
        "start_time": "2021-10-13T16:46:28.244Z"
      },
      {
        "duration": 12,
        "start_time": "2021-10-13T16:46:39.500Z"
      },
      {
        "duration": 12,
        "start_time": "2021-10-13T16:47:07.864Z"
      },
      {
        "duration": 142,
        "start_time": "2021-10-13T16:48:40.507Z"
      },
      {
        "duration": 7,
        "start_time": "2021-10-13T16:49:25.528Z"
      },
      {
        "duration": 133,
        "start_time": "2021-10-13T16:49:50.504Z"
      },
      {
        "duration": 137,
        "start_time": "2021-10-13T16:50:11.840Z"
      },
      {
        "duration": 4,
        "start_time": "2021-10-13T16:50:43.039Z"
      },
      {
        "duration": 3340,
        "start_time": "2021-10-13T16:51:11.224Z"
      },
      {
        "duration": 5,
        "start_time": "2021-10-13T16:51:27.492Z"
      },
      {
        "duration": 197,
        "start_time": "2021-10-13T16:51:44.397Z"
      },
      {
        "duration": 4,
        "start_time": "2021-10-13T16:51:48.996Z"
      },
      {
        "duration": 4,
        "start_time": "2021-10-13T16:51:58.120Z"
      },
      {
        "duration": 6,
        "start_time": "2021-10-13T16:53:22.303Z"
      },
      {
        "duration": 4,
        "start_time": "2021-10-13T16:53:35.560Z"
      },
      {
        "duration": 5,
        "start_time": "2021-10-13T16:53:40.159Z"
      },
      {
        "duration": 150,
        "start_time": "2021-10-13T16:54:59.351Z"
      },
      {
        "duration": 137,
        "start_time": "2021-10-13T16:55:07.332Z"
      },
      {
        "duration": 141,
        "start_time": "2021-10-13T16:55:10.776Z"
      },
      {
        "duration": 130,
        "start_time": "2021-10-13T16:56:27.115Z"
      },
      {
        "duration": 36,
        "start_time": "2021-10-13T16:56:49.395Z"
      },
      {
        "duration": 3,
        "start_time": "2021-10-13T16:58:45.640Z"
      },
      {
        "duration": 3,
        "start_time": "2021-10-13T16:58:59.795Z"
      },
      {
        "duration": 400,
        "start_time": "2021-10-13T17:08:03.731Z"
      },
      {
        "duration": 347,
        "start_time": "2021-10-13T17:18:07.747Z"
      },
      {
        "duration": 383,
        "start_time": "2021-10-13T17:19:13.267Z"
      },
      {
        "duration": 367,
        "start_time": "2021-10-13T17:21:06.091Z"
      },
      {
        "duration": 149,
        "start_time": "2021-10-13T17:22:07.582Z"
      },
      {
        "duration": 12,
        "start_time": "2021-10-13T17:22:11.983Z"
      },
      {
        "duration": 4,
        "start_time": "2021-10-13T17:36:13.470Z"
      },
      {
        "duration": 4,
        "start_time": "2021-10-13T17:36:32.858Z"
      },
      {
        "duration": 132,
        "start_time": "2021-10-13T17:36:42.106Z"
      },
      {
        "duration": 4,
        "start_time": "2021-10-13T17:36:59.034Z"
      },
      {
        "duration": 4,
        "start_time": "2021-10-13T17:37:11.306Z"
      },
      {
        "duration": 466,
        "start_time": "2021-10-13T17:38:17.645Z"
      },
      {
        "duration": 139,
        "start_time": "2021-10-13T17:38:47.038Z"
      },
      {
        "duration": 7,
        "start_time": "2021-10-13T17:38:52.212Z"
      },
      {
        "duration": 145,
        "start_time": "2021-10-13T17:39:26.162Z"
      },
      {
        "duration": 132,
        "start_time": "2021-10-13T17:41:11.370Z"
      },
      {
        "duration": 138,
        "start_time": "2021-10-13T17:41:19.847Z"
      },
      {
        "duration": 578,
        "start_time": "2021-10-13T17:41:31.254Z"
      },
      {
        "duration": 48,
        "start_time": "2021-10-13T17:41:40.590Z"
      },
      {
        "duration": 516,
        "start_time": "2021-10-13T17:41:48.586Z"
      },
      {
        "duration": 156,
        "start_time": "2021-10-13T17:43:21.014Z"
      },
      {
        "duration": 130,
        "start_time": "2021-10-13T17:44:38.553Z"
      },
      {
        "duration": 179,
        "start_time": "2021-10-13T17:46:40.789Z"
      },
      {
        "duration": 1113,
        "start_time": "2021-10-13T17:46:51.405Z"
      },
      {
        "duration": 1981,
        "start_time": "2021-10-13T17:48:37.439Z"
      },
      {
        "duration": 7,
        "start_time": "2021-10-13T17:51:58.921Z"
      },
      {
        "duration": 25,
        "start_time": "2021-10-13T17:52:11.993Z"
      },
      {
        "duration": 6,
        "start_time": "2021-10-13T17:52:33.619Z"
      },
      {
        "duration": 27,
        "start_time": "2021-10-13T17:52:36.005Z"
      },
      {
        "duration": 9,
        "start_time": "2021-10-13T17:53:11.596Z"
      },
      {
        "duration": 9,
        "start_time": "2021-10-13T17:53:29.733Z"
      },
      {
        "duration": 241,
        "start_time": "2021-10-13T17:55:39.957Z"
      },
      {
        "duration": 27,
        "start_time": "2021-10-13T17:57:35.825Z"
      },
      {
        "duration": 24,
        "start_time": "2021-10-13T17:57:45.008Z"
      },
      {
        "duration": 25,
        "start_time": "2021-10-13T17:57:50.521Z"
      },
      {
        "duration": 193,
        "start_time": "2021-10-13T17:58:13.812Z"
      },
      {
        "duration": 5,
        "start_time": "2021-10-13T17:58:27.237Z"
      },
      {
        "duration": 5,
        "start_time": "2021-10-13T17:58:42.180Z"
      },
      {
        "duration": 7,
        "start_time": "2021-10-13T17:58:55.852Z"
      },
      {
        "duration": 154,
        "start_time": "2021-10-13T17:59:17.105Z"
      },
      {
        "duration": 135,
        "start_time": "2021-10-13T17:59:19.961Z"
      },
      {
        "duration": 5,
        "start_time": "2021-10-13T17:59:22.912Z"
      },
      {
        "duration": 7,
        "start_time": "2021-10-13T18:00:37.808Z"
      },
      {
        "duration": 8,
        "start_time": "2021-10-13T18:01:08.009Z"
      },
      {
        "duration": 11,
        "start_time": "2021-10-13T18:01:59.105Z"
      },
      {
        "duration": 7,
        "start_time": "2021-10-13T18:02:19.564Z"
      },
      {
        "duration": 7,
        "start_time": "2021-10-13T18:02:55.288Z"
      },
      {
        "duration": 5,
        "start_time": "2021-10-13T18:03:21.117Z"
      },
      {
        "duration": 9,
        "start_time": "2021-10-13T18:05:09.652Z"
      },
      {
        "duration": 6,
        "start_time": "2021-10-13T18:05:30.788Z"
      },
      {
        "duration": 4,
        "start_time": "2021-10-13T18:07:43.668Z"
      },
      {
        "duration": 2,
        "start_time": "2021-10-13T18:09:09.399Z"
      },
      {
        "duration": 8,
        "start_time": "2021-10-13T18:09:13.406Z"
      },
      {
        "duration": 3172,
        "start_time": "2021-10-13T18:09:40.892Z"
      },
      {
        "duration": 3347,
        "start_time": "2021-10-13T18:10:02.664Z"
      },
      {
        "duration": 38,
        "start_time": "2021-10-13T18:10:18.986Z"
      },
      {
        "duration": 135,
        "start_time": "2021-10-13T18:10:24.165Z"
      },
      {
        "duration": 11,
        "start_time": "2021-10-13T18:10:54.467Z"
      },
      {
        "duration": 10,
        "start_time": "2021-10-13T18:11:51.563Z"
      },
      {
        "duration": 9,
        "start_time": "2021-10-13T18:12:03.307Z"
      },
      {
        "duration": 8,
        "start_time": "2021-10-13T18:13:24.293Z"
      },
      {
        "duration": 4,
        "start_time": "2021-10-13T18:13:54.516Z"
      },
      {
        "duration": 64,
        "start_time": "2021-10-13T19:01:03.147Z"
      },
      {
        "duration": 59,
        "start_time": "2021-10-13T19:01:09.782Z"
      },
      {
        "duration": 140,
        "start_time": "2021-10-13T19:01:18.122Z"
      },
      {
        "duration": 7,
        "start_time": "2021-10-13T19:02:46.534Z"
      },
      {
        "duration": 26,
        "start_time": "2021-10-13T19:03:03.228Z"
      },
      {
        "duration": 153,
        "start_time": "2021-10-13T19:03:45.838Z"
      },
      {
        "duration": 20,
        "start_time": "2021-10-13T19:04:08.422Z"
      },
      {
        "duration": 23,
        "start_time": "2021-10-13T19:05:15.042Z"
      },
      {
        "duration": 24,
        "start_time": "2021-10-13T19:05:20.378Z"
      },
      {
        "duration": 6206,
        "start_time": "2021-10-13T19:05:28.974Z"
      },
      {
        "duration": 23,
        "start_time": "2021-10-13T19:06:26.011Z"
      },
      {
        "duration": 150,
        "start_time": "2021-10-13T19:06:38.894Z"
      },
      {
        "duration": 21,
        "start_time": "2021-10-13T19:06:39.202Z"
      },
      {
        "duration": 136,
        "start_time": "2021-10-13T19:06:45.978Z"
      },
      {
        "duration": 141,
        "start_time": "2021-10-13T19:06:59.288Z"
      },
      {
        "duration": 7,
        "start_time": "2021-10-13T19:07:30.598Z"
      },
      {
        "duration": 38,
        "start_time": "2021-10-13T19:07:41.446Z"
      },
      {
        "duration": 4,
        "start_time": "2021-10-13T19:08:48.630Z"
      },
      {
        "duration": 16,
        "start_time": "2021-10-13T19:12:54.802Z"
      },
      {
        "duration": 8,
        "start_time": "2021-10-13T19:16:02.598Z"
      },
      {
        "duration": 198,
        "start_time": "2021-10-13T19:16:09.938Z"
      },
      {
        "duration": 6,
        "start_time": "2021-10-13T19:16:14.438Z"
      },
      {
        "duration": 169,
        "start_time": "2021-10-13T19:16:37.233Z"
      },
      {
        "duration": 5,
        "start_time": "2021-10-13T19:16:48.153Z"
      },
      {
        "duration": 284,
        "start_time": "2021-10-13T19:17:05.782Z"
      },
      {
        "duration": 175,
        "start_time": "2021-10-13T19:17:11.009Z"
      },
      {
        "duration": 174,
        "start_time": "2021-10-13T19:17:17.861Z"
      },
      {
        "duration": 5,
        "start_time": "2021-10-13T19:17:22.777Z"
      },
      {
        "duration": 38,
        "start_time": "2021-10-13T19:19:40.438Z"
      },
      {
        "duration": 4,
        "start_time": "2021-10-13T19:19:41.550Z"
      },
      {
        "duration": 17,
        "start_time": "2021-10-13T19:19:48.161Z"
      },
      {
        "duration": 38,
        "start_time": "2021-10-13T19:21:28.645Z"
      },
      {
        "duration": 5,
        "start_time": "2021-10-13T19:21:30.901Z"
      },
      {
        "duration": 39,
        "start_time": "2021-10-13T19:22:14.514Z"
      },
      {
        "duration": 6,
        "start_time": "2021-10-13T19:22:15.117Z"
      },
      {
        "duration": 188,
        "start_time": "2021-10-13T19:27:15.909Z"
      },
      {
        "duration": 21,
        "start_time": "2021-10-13T19:27:35.801Z"
      },
      {
        "duration": 963,
        "start_time": "2021-10-13T19:30:21.825Z"
      },
      {
        "duration": 459,
        "start_time": "2021-10-13T19:33:33.788Z"
      },
      {
        "duration": 17,
        "start_time": "2021-10-13T19:35:27.560Z"
      },
      {
        "duration": 180,
        "start_time": "2021-10-13T19:38:31.305Z"
      },
      {
        "duration": 8,
        "start_time": "2021-10-13T19:40:04.505Z"
      },
      {
        "duration": 14,
        "start_time": "2021-10-13T19:40:16.625Z"
      },
      {
        "duration": 171,
        "start_time": "2021-10-13T19:51:03.948Z"
      },
      {
        "duration": 10,
        "start_time": "2021-10-13T19:53:37.784Z"
      },
      {
        "duration": 3,
        "start_time": "2021-10-13T19:56:24.277Z"
      },
      {
        "duration": 186,
        "start_time": "2021-10-13T19:56:45.930Z"
      },
      {
        "duration": 182,
        "start_time": "2021-10-13T19:58:04.560Z"
      },
      {
        "duration": 3,
        "start_time": "2021-10-13T19:58:11.775Z"
      },
      {
        "duration": 333,
        "start_time": "2021-10-13T19:58:12.351Z"
      },
      {
        "duration": 29,
        "start_time": "2021-10-13T19:58:53.417Z"
      },
      {
        "duration": 12,
        "start_time": "2021-10-13T19:59:03.596Z"
      },
      {
        "duration": 184,
        "start_time": "2021-10-13T20:01:33.538Z"
      },
      {
        "duration": 12,
        "start_time": "2021-10-13T20:01:51.643Z"
      },
      {
        "duration": 11,
        "start_time": "2021-10-13T20:03:15.538Z"
      },
      {
        "duration": 63,
        "start_time": "2021-10-13T20:08:16.547Z"
      },
      {
        "duration": 724,
        "start_time": "2021-10-13T20:10:15.398Z"
      },
      {
        "duration": 5874,
        "start_time": "2021-10-13T20:10:43.966Z"
      },
      {
        "duration": 5399,
        "start_time": "2021-10-13T20:11:18.626Z"
      },
      {
        "duration": 30,
        "start_time": "2021-10-13T20:11:40.060Z"
      },
      {
        "duration": 4328,
        "start_time": "2021-10-13T20:11:47.279Z"
      },
      {
        "duration": 12,
        "start_time": "2021-10-13T20:12:38.012Z"
      },
      {
        "duration": 622,
        "start_time": "2021-10-13T20:17:20.868Z"
      },
      {
        "duration": 301,
        "start_time": "2021-10-13T20:20:51.046Z"
      },
      {
        "duration": 467,
        "start_time": "2021-10-13T20:23:46.856Z"
      },
      {
        "duration": 357,
        "start_time": "2021-10-13T20:27:51.689Z"
      },
      {
        "duration": 362,
        "start_time": "2021-10-13T20:28:52.581Z"
      },
      {
        "duration": 306,
        "start_time": "2021-10-13T20:30:16.430Z"
      },
      {
        "duration": 218,
        "start_time": "2021-10-13T20:32:16.219Z"
      },
      {
        "duration": 454,
        "start_time": "2021-10-13T20:33:01.377Z"
      },
      {
        "duration": 396,
        "start_time": "2021-10-13T20:38:29.363Z"
      },
      {
        "duration": 433,
        "start_time": "2021-10-13T20:38:48.469Z"
      },
      {
        "duration": 450,
        "start_time": "2021-10-13T20:42:20.715Z"
      },
      {
        "duration": 379,
        "start_time": "2021-10-13T20:42:40.049Z"
      },
      {
        "duration": 381,
        "start_time": "2021-10-13T20:47:02.121Z"
      },
      {
        "duration": 333,
        "start_time": "2021-10-13T20:47:26.769Z"
      },
      {
        "duration": 329,
        "start_time": "2021-10-13T20:48:08.312Z"
      },
      {
        "duration": 327,
        "start_time": "2021-10-13T20:48:11.985Z"
      },
      {
        "duration": 316,
        "start_time": "2021-10-13T20:50:54.092Z"
      },
      {
        "duration": 420,
        "start_time": "2021-10-13T20:51:06.515Z"
      },
      {
        "duration": 490,
        "start_time": "2021-10-13T20:51:33.004Z"
      },
      {
        "duration": 357,
        "start_time": "2021-10-13T20:51:58.931Z"
      },
      {
        "duration": 340,
        "start_time": "2021-10-13T20:52:08.626Z"
      },
      {
        "duration": 367,
        "start_time": "2021-10-13T20:52:56.160Z"
      },
      {
        "duration": 473,
        "start_time": "2021-10-13T20:53:04.951Z"
      },
      {
        "duration": 336,
        "start_time": "2021-10-13T20:53:19.500Z"
      },
      {
        "duration": 347,
        "start_time": "2021-10-13T20:54:28.936Z"
      },
      {
        "duration": 326,
        "start_time": "2021-10-13T20:54:52.464Z"
      },
      {
        "duration": 317,
        "start_time": "2021-10-13T20:55:07.632Z"
      },
      {
        "duration": 340,
        "start_time": "2021-10-13T20:55:15.291Z"
      },
      {
        "duration": 439,
        "start_time": "2021-10-13T20:56:44.168Z"
      },
      {
        "duration": 355,
        "start_time": "2021-10-13T20:57:09.708Z"
      },
      {
        "duration": 354,
        "start_time": "2021-10-13T20:57:27.048Z"
      },
      {
        "duration": 510,
        "start_time": "2021-10-13T20:57:48.690Z"
      },
      {
        "duration": 986,
        "start_time": "2021-10-13T20:58:07.784Z"
      },
      {
        "duration": 935,
        "start_time": "2021-10-13T20:58:20.711Z"
      },
      {
        "duration": 761,
        "start_time": "2021-10-14T16:48:03.421Z"
      },
      {
        "duration": 20,
        "start_time": "2021-10-14T16:48:04.184Z"
      },
      {
        "duration": 40,
        "start_time": "2021-10-14T16:48:04.206Z"
      },
      {
        "duration": 23,
        "start_time": "2021-10-14T16:48:04.248Z"
      },
      {
        "duration": 123,
        "start_time": "2021-10-14T16:48:04.272Z"
      },
      {
        "duration": 4,
        "start_time": "2021-10-14T16:48:04.397Z"
      },
      {
        "duration": 3358,
        "start_time": "2021-10-14T16:48:04.402Z"
      },
      {
        "duration": 691,
        "start_time": "2021-10-14T16:48:07.762Z"
      },
      {
        "duration": 4,
        "start_time": "2021-10-14T16:48:08.455Z"
      },
      {
        "duration": 568,
        "start_time": "2021-10-14T16:48:08.460Z"
      },
      {
        "duration": 323,
        "start_time": "2021-10-14T16:48:09.029Z"
      },
      {
        "duration": 88171,
        "start_time": "2021-10-14T16:46:41.185Z"
      },
      {
        "duration": 88169,
        "start_time": "2021-10-14T16:46:41.188Z"
      },
      {
        "duration": 88166,
        "start_time": "2021-10-14T16:46:41.192Z"
      },
      {
        "duration": 88165,
        "start_time": "2021-10-14T16:46:41.194Z"
      },
      {
        "duration": 88162,
        "start_time": "2021-10-14T16:46:41.198Z"
      },
      {
        "duration": 88159,
        "start_time": "2021-10-14T16:46:41.201Z"
      },
      {
        "duration": 88157,
        "start_time": "2021-10-14T16:46:41.204Z"
      },
      {
        "duration": 88156,
        "start_time": "2021-10-14T16:46:41.206Z"
      },
      {
        "duration": 88154,
        "start_time": "2021-10-14T16:46:41.209Z"
      },
      {
        "duration": 88152,
        "start_time": "2021-10-14T16:46:41.212Z"
      },
      {
        "duration": 88149,
        "start_time": "2021-10-14T16:46:41.216Z"
      },
      {
        "duration": 88147,
        "start_time": "2021-10-14T16:46:41.219Z"
      },
      {
        "duration": 88145,
        "start_time": "2021-10-14T16:46:41.222Z"
      },
      {
        "duration": 88143,
        "start_time": "2021-10-14T16:46:41.225Z"
      },
      {
        "duration": 88136,
        "start_time": "2021-10-14T16:46:41.233Z"
      },
      {
        "duration": 88134,
        "start_time": "2021-10-14T16:46:41.236Z"
      },
      {
        "duration": 88133,
        "start_time": "2021-10-14T16:46:41.239Z"
      },
      {
        "duration": 88132,
        "start_time": "2021-10-14T16:46:41.241Z"
      },
      {
        "duration": 88130,
        "start_time": "2021-10-14T16:46:41.244Z"
      },
      {
        "duration": 88128,
        "start_time": "2021-10-14T16:46:41.247Z"
      },
      {
        "duration": 88126,
        "start_time": "2021-10-14T16:46:41.250Z"
      },
      {
        "duration": 88125,
        "start_time": "2021-10-14T16:46:41.252Z"
      },
      {
        "duration": 88123,
        "start_time": "2021-10-14T16:46:41.255Z"
      },
      {
        "duration": 88121,
        "start_time": "2021-10-14T16:46:41.258Z"
      },
      {
        "duration": 88118,
        "start_time": "2021-10-14T16:46:41.262Z"
      },
      {
        "duration": 88111,
        "start_time": "2021-10-14T16:46:41.269Z"
      },
      {
        "duration": 88109,
        "start_time": "2021-10-14T16:46:41.272Z"
      },
      {
        "duration": 88107,
        "start_time": "2021-10-14T16:46:41.275Z"
      },
      {
        "duration": 88105,
        "start_time": "2021-10-14T16:46:41.278Z"
      },
      {
        "duration": 88104,
        "start_time": "2021-10-14T16:46:41.280Z"
      },
      {
        "duration": 88102,
        "start_time": "2021-10-14T16:46:41.283Z"
      },
      {
        "duration": 88100,
        "start_time": "2021-10-14T16:46:41.286Z"
      },
      {
        "duration": 88098,
        "start_time": "2021-10-14T16:46:41.289Z"
      },
      {
        "duration": 88096,
        "start_time": "2021-10-14T16:46:41.292Z"
      },
      {
        "duration": 88095,
        "start_time": "2021-10-14T16:46:41.294Z"
      },
      {
        "duration": 88093,
        "start_time": "2021-10-14T16:46:41.297Z"
      },
      {
        "duration": 88091,
        "start_time": "2021-10-14T16:46:41.300Z"
      },
      {
        "duration": 88088,
        "start_time": "2021-10-14T16:46:41.304Z"
      },
      {
        "duration": 88131,
        "start_time": "2021-10-14T16:46:41.313Z"
      },
      {
        "duration": 88128,
        "start_time": "2021-10-14T16:46:41.317Z"
      },
      {
        "duration": 88126,
        "start_time": "2021-10-14T16:46:41.320Z"
      },
      {
        "duration": 88125,
        "start_time": "2021-10-14T16:46:41.322Z"
      },
      {
        "duration": 88123,
        "start_time": "2021-10-14T16:46:41.325Z"
      },
      {
        "duration": 88121,
        "start_time": "2021-10-14T16:46:41.328Z"
      },
      {
        "duration": 88119,
        "start_time": "2021-10-14T16:46:41.331Z"
      },
      {
        "duration": 88117,
        "start_time": "2021-10-14T16:46:41.334Z"
      },
      {
        "duration": 88115,
        "start_time": "2021-10-14T16:46:41.337Z"
      },
      {
        "duration": 331,
        "start_time": "2021-10-14T17:00:41.582Z"
      },
      {
        "duration": 342,
        "start_time": "2021-10-14T17:01:09.205Z"
      },
      {
        "duration": 100,
        "start_time": "2021-10-14T17:01:49.914Z"
      },
      {
        "duration": 37,
        "start_time": "2021-10-14T17:01:50.016Z"
      },
      {
        "duration": 28,
        "start_time": "2021-10-14T17:01:50.055Z"
      },
      {
        "duration": 19,
        "start_time": "2021-10-14T17:01:50.084Z"
      },
      {
        "duration": 118,
        "start_time": "2021-10-14T17:01:50.104Z"
      },
      {
        "duration": 3,
        "start_time": "2021-10-14T17:01:50.223Z"
      },
      {
        "duration": 3375,
        "start_time": "2021-10-14T17:01:50.228Z"
      },
      {
        "duration": 586,
        "start_time": "2021-10-14T17:01:53.605Z"
      },
      {
        "duration": 4,
        "start_time": "2021-10-14T17:01:54.192Z"
      },
      {
        "duration": 559,
        "start_time": "2021-10-14T17:01:54.198Z"
      },
      {
        "duration": 2,
        "start_time": "2021-10-14T17:01:54.759Z"
      },
      {
        "duration": 6,
        "start_time": "2021-10-14T17:01:54.762Z"
      },
      {
        "duration": 7,
        "start_time": "2021-10-14T17:01:54.770Z"
      },
      {
        "duration": 8,
        "start_time": "2021-10-14T17:01:54.778Z"
      },
      {
        "duration": 508,
        "start_time": "2021-10-14T17:01:54.788Z"
      },
      {
        "duration": 50,
        "start_time": "2021-10-14T17:01:55.298Z"
      },
      {
        "duration": 4,
        "start_time": "2021-10-14T17:01:55.350Z"
      },
      {
        "duration": 11,
        "start_time": "2021-10-14T17:01:55.355Z"
      },
      {
        "duration": 7,
        "start_time": "2021-10-14T17:01:55.367Z"
      },
      {
        "duration": 9,
        "start_time": "2021-10-14T17:01:55.376Z"
      },
      {
        "duration": 11,
        "start_time": "2021-10-14T17:01:55.387Z"
      },
      {
        "duration": 7,
        "start_time": "2021-10-14T17:01:55.400Z"
      },
      {
        "duration": 268,
        "start_time": "2021-10-14T17:01:55.410Z"
      },
      {
        "duration": 88092,
        "start_time": "2021-10-14T17:00:27.589Z"
      },
      {
        "duration": 88084,
        "start_time": "2021-10-14T17:00:27.598Z"
      },
      {
        "duration": 88080,
        "start_time": "2021-10-14T17:00:27.603Z"
      },
      {
        "duration": 88077,
        "start_time": "2021-10-14T17:00:27.607Z"
      },
      {
        "duration": 88069,
        "start_time": "2021-10-14T17:00:27.616Z"
      },
      {
        "duration": 88066,
        "start_time": "2021-10-14T17:00:27.619Z"
      },
      {
        "duration": 88062,
        "start_time": "2021-10-14T17:00:27.624Z"
      },
      {
        "duration": 88054,
        "start_time": "2021-10-14T17:00:27.633Z"
      },
      {
        "duration": 88051,
        "start_time": "2021-10-14T17:00:27.637Z"
      },
      {
        "duration": 88042,
        "start_time": "2021-10-14T17:00:27.647Z"
      },
      {
        "duration": 88039,
        "start_time": "2021-10-14T17:00:27.651Z"
      },
      {
        "duration": 88037,
        "start_time": "2021-10-14T17:00:27.654Z"
      },
      {
        "duration": 88028,
        "start_time": "2021-10-14T17:00:27.664Z"
      },
      {
        "duration": 88025,
        "start_time": "2021-10-14T17:00:27.668Z"
      },
      {
        "duration": 88019,
        "start_time": "2021-10-14T17:00:27.674Z"
      },
      {
        "duration": 88011,
        "start_time": "2021-10-14T17:00:27.683Z"
      },
      {
        "duration": 88008,
        "start_time": "2021-10-14T17:00:27.687Z"
      },
      {
        "duration": 88005,
        "start_time": "2021-10-14T17:00:27.691Z"
      },
      {
        "duration": 87996,
        "start_time": "2021-10-14T17:00:27.701Z"
      },
      {
        "duration": 87994,
        "start_time": "2021-10-14T17:00:27.704Z"
      },
      {
        "duration": 87985,
        "start_time": "2021-10-14T17:00:27.714Z"
      },
      {
        "duration": 87983,
        "start_time": "2021-10-14T17:00:27.717Z"
      },
      {
        "duration": 87981,
        "start_time": "2021-10-14T17:00:27.720Z"
      },
      {
        "duration": 87978,
        "start_time": "2021-10-14T17:00:27.724Z"
      },
      {
        "duration": 87968,
        "start_time": "2021-10-14T17:00:27.734Z"
      },
      {
        "duration": 87966,
        "start_time": "2021-10-14T17:00:27.737Z"
      },
      {
        "duration": 87956,
        "start_time": "2021-10-14T17:00:27.748Z"
      },
      {
        "duration": 87953,
        "start_time": "2021-10-14T17:00:27.752Z"
      },
      {
        "duration": 87950,
        "start_time": "2021-10-14T17:00:27.756Z"
      },
      {
        "duration": 87942,
        "start_time": "2021-10-14T17:00:27.765Z"
      },
      {
        "duration": 87938,
        "start_time": "2021-10-14T17:00:27.769Z"
      },
      {
        "duration": 87935,
        "start_time": "2021-10-14T17:00:27.773Z"
      },
      {
        "duration": 87926,
        "start_time": "2021-10-14T17:00:27.783Z"
      },
      {
        "duration": 87923,
        "start_time": "2021-10-14T17:00:27.787Z"
      },
      {
        "duration": 87914,
        "start_time": "2021-10-14T17:00:27.797Z"
      },
      {
        "duration": 87912,
        "start_time": "2021-10-14T17:00:27.800Z"
      },
      {
        "duration": 23,
        "start_time": "2021-10-14T17:16:11.092Z"
      },
      {
        "duration": 38,
        "start_time": "2021-10-14T17:16:11.116Z"
      },
      {
        "duration": 3,
        "start_time": "2021-10-14T17:16:11.156Z"
      },
      {
        "duration": 4,
        "start_time": "2021-10-14T17:16:11.161Z"
      },
      {
        "duration": 437,
        "start_time": "2021-10-14T17:16:11.167Z"
      },
      {
        "duration": 22,
        "start_time": "2021-10-14T17:16:11.605Z"
      },
      {
        "duration": 1322,
        "start_time": "2021-10-14T17:16:11.629Z"
      },
      {
        "duration": 324,
        "start_time": "2021-10-14T17:16:12.952Z"
      },
      {
        "duration": 1336,
        "start_time": "2021-10-14T17:16:13.278Z"
      },
      {
        "duration": 565,
        "start_time": "2021-10-14T17:16:14.616Z"
      },
      {
        "duration": 19,
        "start_time": "2021-10-14T17:16:15.183Z"
      },
      {
        "duration": 952,
        "start_time": "2021-10-14T17:16:15.204Z"
      },
      {
        "duration": 87994,
        "start_time": "2021-10-14T17:14:48.164Z"
      },
      {
        "duration": 87991,
        "start_time": "2021-10-14T17:14:48.168Z"
      },
      {
        "duration": 87988,
        "start_time": "2021-10-14T17:14:48.172Z"
      },
      {
        "duration": 87985,
        "start_time": "2021-10-14T17:14:48.176Z"
      },
      {
        "duration": 87983,
        "start_time": "2021-10-14T17:14:48.179Z"
      },
      {
        "duration": 87981,
        "start_time": "2021-10-14T17:14:48.182Z"
      },
      {
        "duration": 87977,
        "start_time": "2021-10-14T17:14:48.186Z"
      },
      {
        "duration": 87975,
        "start_time": "2021-10-14T17:14:48.189Z"
      },
      {
        "duration": 87972,
        "start_time": "2021-10-14T17:14:48.193Z"
      },
      {
        "duration": 87969,
        "start_time": "2021-10-14T17:14:48.197Z"
      },
      {
        "duration": 87960,
        "start_time": "2021-10-14T17:14:48.207Z"
      },
      {
        "duration": 87957,
        "start_time": "2021-10-14T17:14:48.211Z"
      },
      {
        "duration": 87954,
        "start_time": "2021-10-14T17:14:48.215Z"
      },
      {
        "duration": 87951,
        "start_time": "2021-10-14T17:14:48.219Z"
      },
      {
        "duration": 87948,
        "start_time": "2021-10-14T17:14:48.223Z"
      },
      {
        "duration": 87943,
        "start_time": "2021-10-14T17:14:48.228Z"
      },
      {
        "duration": 87942,
        "start_time": "2021-10-14T17:14:48.231Z"
      },
      {
        "duration": 87938,
        "start_time": "2021-10-14T17:14:48.236Z"
      },
      {
        "duration": 87936,
        "start_time": "2021-10-14T17:14:48.239Z"
      },
      {
        "duration": 87933,
        "start_time": "2021-10-14T17:14:48.243Z"
      },
      {
        "duration": 87929,
        "start_time": "2021-10-14T17:14:48.247Z"
      },
      {
        "duration": 87928,
        "start_time": "2021-10-14T17:14:48.250Z"
      },
      {
        "duration": 87925,
        "start_time": "2021-10-14T17:14:48.254Z"
      },
      {
        "duration": 87923,
        "start_time": "2021-10-14T17:14:48.257Z"
      },
      {
        "duration": 28,
        "start_time": "2021-10-14T17:23:13.525Z"
      },
      {
        "duration": 10,
        "start_time": "2021-10-14T17:23:13.555Z"
      },
      {
        "duration": 563,
        "start_time": "2021-10-14T17:23:13.567Z"
      },
      {
        "duration": 19,
        "start_time": "2021-10-14T17:23:14.132Z"
      },
      {
        "duration": 3,
        "start_time": "2021-10-14T17:23:14.153Z"
      },
      {
        "duration": 14,
        "start_time": "2021-10-14T17:23:14.157Z"
      },
      {
        "duration": 343,
        "start_time": "2021-10-14T17:23:14.172Z"
      },
      {
        "duration": 365,
        "start_time": "2021-10-14T17:23:14.518Z"
      },
      {
        "duration": 384,
        "start_time": "2021-10-14T17:23:14.885Z"
      },
      {
        "duration": 318,
        "start_time": "2021-10-14T17:23:15.271Z"
      },
      {
        "duration": 447,
        "start_time": "2021-10-14T17:23:15.591Z"
      },
      {
        "duration": 480,
        "start_time": "2021-10-14T17:23:16.044Z"
      },
      {
        "duration": 386,
        "start_time": "2021-10-14T17:23:16.526Z"
      },
      {
        "duration": 411,
        "start_time": "2021-10-14T17:23:16.914Z"
      },
      {
        "duration": 330,
        "start_time": "2021-10-14T17:23:17.326Z"
      },
      {
        "duration": 1020,
        "start_time": "2021-10-14T17:23:17.657Z"
      },
      {
        "duration": 383,
        "start_time": "2021-10-14T17:23:18.679Z"
      },
      {
        "duration": 362,
        "start_time": "2021-10-14T17:23:19.064Z"
      },
      {
        "duration": 21,
        "start_time": "2021-10-14T17:23:19.428Z"
      },
      {
        "duration": 391,
        "start_time": "2021-10-14T17:23:19.451Z"
      },
      {
        "duration": 7,
        "start_time": "2021-10-14T17:23:19.844Z"
      },
      {
        "duration": 6,
        "start_time": "2021-10-14T17:23:19.853Z"
      },
      {
        "duration": 242,
        "start_time": "2021-10-14T17:23:19.863Z"
      },
      {
        "duration": 5,
        "start_time": "2021-10-14T17:23:20.108Z"
      },
      {
        "duration": 1106,
        "start_time": "2021-10-14T20:02:16.874Z"
      },
      {
        "duration": 165,
        "start_time": "2021-10-14T20:02:27.445Z"
      },
      {
        "duration": 6261,
        "start_time": "2021-10-14T20:02:40.409Z"
      },
      {
        "duration": 6172,
        "start_time": "2021-10-14T20:03:46.098Z"
      },
      {
        "duration": 909,
        "start_time": "2021-10-14T20:22:09.077Z"
      },
      {
        "duration": 71,
        "start_time": "2021-10-14T20:23:27.704Z"
      },
      {
        "duration": 2079,
        "start_time": "2021-10-14T20:24:44.617Z"
      },
      {
        "duration": 39,
        "start_time": "2021-10-14T20:25:59.404Z"
      },
      {
        "duration": 9,
        "start_time": "2021-10-14T20:26:52.964Z"
      },
      {
        "duration": 8,
        "start_time": "2021-10-14T20:26:59.364Z"
      },
      {
        "duration": 362,
        "start_time": "2021-10-14T20:27:54.997Z"
      },
      {
        "duration": 215,
        "start_time": "2021-10-14T20:28:05.088Z"
      },
      {
        "duration": 7,
        "start_time": "2021-10-14T20:28:15.113Z"
      },
      {
        "duration": 7,
        "start_time": "2021-10-14T20:29:10.836Z"
      },
      {
        "duration": 2057,
        "start_time": "2021-10-14T20:31:19.529Z"
      },
      {
        "duration": 6,
        "start_time": "2021-10-14T20:31:30.032Z"
      },
      {
        "duration": 9,
        "start_time": "2021-10-14T20:34:45.475Z"
      },
      {
        "duration": 5,
        "start_time": "2021-10-14T20:34:58.028Z"
      },
      {
        "duration": 6,
        "start_time": "2021-10-14T20:35:03.560Z"
      },
      {
        "duration": 253,
        "start_time": "2021-10-14T20:35:47.756Z"
      },
      {
        "duration": 24,
        "start_time": "2021-10-14T20:36:08.052Z"
      },
      {
        "duration": 39,
        "start_time": "2021-10-14T20:37:02.221Z"
      },
      {
        "duration": 64,
        "start_time": "2021-10-14T20:37:06.581Z"
      },
      {
        "duration": 5,
        "start_time": "2021-10-14T20:37:11.848Z"
      },
      {
        "duration": 735,
        "start_time": "2021-10-14T20:37:14.880Z"
      },
      {
        "duration": 40,
        "start_time": "2021-10-14T20:37:19.460Z"
      },
      {
        "duration": 31,
        "start_time": "2021-10-14T20:37:48.188Z"
      },
      {
        "duration": 13,
        "start_time": "2021-10-14T20:37:59.636Z"
      },
      {
        "duration": 59,
        "start_time": "2021-10-15T17:27:38.871Z"
      }
    ],
    "kernelspec": {
      "display_name": "Python 3 (ipykernel)",
      "language": "python",
      "name": "python3"
    },
    "language_info": {
      "codemirror_mode": {
        "name": "ipython",
        "version": 3
      },
      "file_extension": ".py",
      "mimetype": "text/x-python",
      "name": "python",
      "nbconvert_exporter": "python",
      "pygments_lexer": "ipython3",
      "version": "3.9.5"
    },
    "toc": {
      "base_numbering": 1,
      "nav_menu": {},
      "number_sections": true,
      "sideBar": true,
      "skip_h1_title": true,
      "title_cell": "Содержание",
      "title_sidebar": "Contents",
      "toc_cell": true,
      "toc_position": {
        "height": "calc(100% - 180px)",
        "left": "10px",
        "top": "150px",
        "width": "323.9px"
      },
      "toc_section_display": true,
      "toc_window_display": true
    },
    "colab": {
      "provenance": [],
      "collapsed_sections": []
    }
  },
  "nbformat": 4,
  "nbformat_minor": 0
}