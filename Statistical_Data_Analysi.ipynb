{
  "cells": [
    {
      "cell_type": "markdown",
      "source": [
        "**Описание проекта**\n",
        "\n",
        "Вы аналитик компании «Мегалайн» — федерального оператора сотовой связи. Клиентам предлагают два тарифных плана: «Смарт» и «Ультра». Чтобы скорректировать рекламный бюджет, коммерческий департамент хочет понять, какой тариф приносит больше денег.\n",
        "Вам предстоит сделать предварительный анализ тарифов на небольшой выборке клиентов. В вашем распоряжении данные 500 пользователей «Мегалайна»: кто они, откуда, каким тарифом пользуются, сколько звонков и сообщений каждый отправил за 2018 год. Нужно проанализировать поведение клиентов и сделать вывод — какой тариф лучше.\n",
        "\n",
        "**Описание тарифов**\n",
        "\n",
        "Тариф «Смарт»\n",
        "\n",
        "Ежемесячная плата: 550 рублей\n",
        "Включено 500 минут разговора, 50 сообщений и 15 Гб интернет-трафика\n",
        "Стоимость услуг сверх тарифного пакета:\n",
        "минута разговора: 3 рубля\n",
        "сообщение: 3 рубля\n",
        "1 Гб интернет-трафика: 200 рублей\n",
        "\n",
        "\n",
        "Тариф «Ультра»\n",
        "\n",
        "Ежемесячная плата: 1950 рублей\n",
        "Включено 3000 минут разговора, 1000 сообщений и 30 Гб интернет-трафика\n",
        "Стоимость услуг сверх тарифного пакета:\n",
        "минута разговора: 1 рубль\n",
        "сообщение: 1 рубль\n",
        "1 Гб интернет-трафика: 150 рублей"
      ],
      "metadata": {
        "id": "HZ-no6cN9O5b"
      }
    },
    {
      "cell_type": "markdown",
      "source": [
        "Описание данных\n",
        "\n",
        "Таблица users (информация о пользователях):\n",
        "\n",
        "  * user_id — уникальный идентификатор пользователя\n",
        "  * first_name — имя пользователя\n",
        "  * last_name — фамилия пользователя\n",
        "  * age — возраст пользователя (годы)\n",
        "  * reg_date — дата подключения тарифа (день, месяц, год)\n",
        "  * churn_date — дата прекращения пользования тарифом (если значение пропущено, то тариф ещё действовал на момент выгрузки данных)\n",
        "  * city — город проживания пользователя\n",
        "  * tariff — название тарифного плана\n",
        "\n",
        "Таблица calls (информация о звонках):\n",
        "\n",
        "  * id — уникальный номер звонка\n",
        "  * call_date — дата звонка\n",
        "  * duration — длительность звонка в минутах\n",
        "  * user_id — идентификатор пользователя, сделавшего звонок\n",
        "\n",
        "Таблица messages (информация о сообщениях):\n",
        "\n",
        "  * id — уникальный номер сообщения\n",
        "  * message_date — дата сообщения\n",
        "  * user_id — идентификатор пользователя, отправившего сообщение\n",
        "\n",
        "Таблица internet (информация об интернет-сессиях):\n",
        "\n",
        "  * id — уникальный номер сессии\n",
        "  * mb_used — объём потраченного за сессию интернет-трафика (в мегабайтах)\n",
        "  * session_date — дата интернет-сессии\n",
        "  * user_id — идентификатор пользователя\n",
        "\n",
        "Таблица tariffs (информация о тарифах):\n",
        "\n",
        "  * tariff_name — название тарифа\n",
        "  * rub_monthly_fee — ежемесячная абонентская плата в рублях\n",
        "  * minutes_included — количество минут разговора в месяц, включённых в абонентскую плату\n",
        "  * messages_included — количество сообщений в месяц, включённых в абонентскую плату\n",
        "  * mb_per_month_included — объём интернет-трафика, включённого в абонентскую плату (в мегабайтах)\n",
        "  * rub_per_minute — стоимость минуты разговора сверх тарифного пакета (например, если в тарифе 100 минут разговора в месяц, то со 101 минуты будет взиматься плата)\n",
        "  * rub_per_message — стоимость отправки сообщения сверх тарифного пакета\n",
        "  * rub_per_gb — стоимость дополнительного гигабайта интернет-трафика сверх тарифного пакета (1 гигабайт = 1024 мегабайта)"
      ],
      "metadata": {
        "id": "enYctePd9PS5"
      }
    },
    {
      "cell_type": "markdown",
      "metadata": {
        "id": "2FwkhFq39L2j"
      },
      "source": [
        "## Загрузим датасет и библиотеки"
      ]
    },
    {
      "cell_type": "code",
      "execution_count": null,
      "metadata": {
        "id": "y86TVsxt9L2k"
      },
      "outputs": [],
      "source": [
        "import pandas as pd\n",
        "import matplotlib.pyplot as plt\n",
        "import numpy as np\n",
        "df_calls = pd.read_csv('/datasets/calls.csv', decimal = ',')\n",
        "df_internet = pd.read_csv('/datasets/internet.csv', decimal = ',')\n",
        "df_messages = pd.read_csv('/datasets/messages.csv', decimal = ',')\n",
        "df_tariffs = pd.read_csv('/datasets/tariffs.csv', decimal = ',')\n",
        "df_users = pd.read_csv('/datasets/users.csv', decimal = ',')"
      ]
    },
    {
      "cell_type": "markdown",
      "metadata": {
        "id": "k4vZ4Cr09L2l"
      },
      "source": [
        "## Приведем данные к нужным типам.\n",
        "Для этого воспользуюсь методомом info, он позволяет узнать тип данных в столбцах и количество заполненных строк в каждом из них. Сравнивая это значение с числом под таблицей можно понять есть ли пропуски. Замену типов данных буду производить только в тех столбцах, над которыми планирую производить математические операции, такие как сложение или сравнение. В эту категорию не попадают идентификаторы клиентов и операций."
      ]
    },
    {
      "cell_type": "code",
      "execution_count": null,
      "metadata": {
        "id": "uu1TKFEz9L2m",
        "outputId": "eacc936b-480e-4fa1-ff1a-5c8c531e68ae"
      },
      "outputs": [
        {
          "data": {
            "text/html": [
              "<div>\n",
              "<style scoped>\n",
              "    .dataframe tbody tr th:only-of-type {\n",
              "        vertical-align: middle;\n",
              "    }\n",
              "\n",
              "    .dataframe tbody tr th {\n",
              "        vertical-align: top;\n",
              "    }\n",
              "\n",
              "    .dataframe thead th {\n",
              "        text-align: right;\n",
              "    }\n",
              "</style>\n",
              "<table border=\"1\" class=\"dataframe\">\n",
              "  <thead>\n",
              "    <tr style=\"text-align: right;\">\n",
              "      <th></th>\n",
              "      <th>id</th>\n",
              "      <th>call_date</th>\n",
              "      <th>duration</th>\n",
              "      <th>user_id</th>\n",
              "    </tr>\n",
              "  </thead>\n",
              "  <tbody>\n",
              "    <tr>\n",
              "      <td>0</td>\n",
              "      <td>1000_0</td>\n",
              "      <td>2018-07-25</td>\n",
              "      <td>0.0</td>\n",
              "      <td>1000</td>\n",
              "    </tr>\n",
              "    <tr>\n",
              "      <td>1</td>\n",
              "      <td>1000_1</td>\n",
              "      <td>2018-08-17</td>\n",
              "      <td>0.0</td>\n",
              "      <td>1000</td>\n",
              "    </tr>\n",
              "    <tr>\n",
              "      <td>2</td>\n",
              "      <td>1000_2</td>\n",
              "      <td>2018-06-11</td>\n",
              "      <td>2.85</td>\n",
              "      <td>1000</td>\n",
              "    </tr>\n",
              "    <tr>\n",
              "      <td>3</td>\n",
              "      <td>1000_3</td>\n",
              "      <td>2018-09-21</td>\n",
              "      <td>13.8</td>\n",
              "      <td>1000</td>\n",
              "    </tr>\n",
              "    <tr>\n",
              "      <td>4</td>\n",
              "      <td>1000_4</td>\n",
              "      <td>2018-12-15</td>\n",
              "      <td>5.18</td>\n",
              "      <td>1000</td>\n",
              "    </tr>\n",
              "    <tr>\n",
              "      <td>...</td>\n",
              "      <td>...</td>\n",
              "      <td>...</td>\n",
              "      <td>...</td>\n",
              "      <td>...</td>\n",
              "    </tr>\n",
              "    <tr>\n",
              "      <td>202602</td>\n",
              "      <td>1499_215</td>\n",
              "      <td>2018-12-26</td>\n",
              "      <td>0.76</td>\n",
              "      <td>1499</td>\n",
              "    </tr>\n",
              "    <tr>\n",
              "      <td>202603</td>\n",
              "      <td>1499_216</td>\n",
              "      <td>2018-10-18</td>\n",
              "      <td>18.83</td>\n",
              "      <td>1499</td>\n",
              "    </tr>\n",
              "    <tr>\n",
              "      <td>202604</td>\n",
              "      <td>1499_217</td>\n",
              "      <td>2018-11-10</td>\n",
              "      <td>10.81</td>\n",
              "      <td>1499</td>\n",
              "    </tr>\n",
              "    <tr>\n",
              "      <td>202605</td>\n",
              "      <td>1499_218</td>\n",
              "      <td>2018-10-06</td>\n",
              "      <td>4.27</td>\n",
              "      <td>1499</td>\n",
              "    </tr>\n",
              "    <tr>\n",
              "      <td>202606</td>\n",
              "      <td>1499_219</td>\n",
              "      <td>2018-12-14</td>\n",
              "      <td>19.62</td>\n",
              "      <td>1499</td>\n",
              "    </tr>\n",
              "  </tbody>\n",
              "</table>\n",
              "<p>202607 rows × 4 columns</p>\n",
              "</div>"
            ],
            "text/plain": [
              "              id   call_date duration  user_id\n",
              "0         1000_0  2018-07-25      0.0     1000\n",
              "1         1000_1  2018-08-17      0.0     1000\n",
              "2         1000_2  2018-06-11     2.85     1000\n",
              "3         1000_3  2018-09-21     13.8     1000\n",
              "4         1000_4  2018-12-15     5.18     1000\n",
              "...          ...         ...      ...      ...\n",
              "202602  1499_215  2018-12-26     0.76     1499\n",
              "202603  1499_216  2018-10-18    18.83     1499\n",
              "202604  1499_217  2018-11-10    10.81     1499\n",
              "202605  1499_218  2018-10-06     4.27     1499\n",
              "202606  1499_219  2018-12-14    19.62     1499\n",
              "\n",
              "[202607 rows x 4 columns]"
            ]
          },
          "execution_count": 2,
          "metadata": {},
          "output_type": "execute_result"
        }
      ],
      "source": [
        "df_calls"
      ]
    },
    {
      "cell_type": "code",
      "execution_count": null,
      "metadata": {
        "id": "Whx16QQg9L2m",
        "outputId": "6b5b7132-9f17-4338-dc61-d61efb9c1a8e"
      },
      "outputs": [
        {
          "name": "stdout",
          "output_type": "stream",
          "text": [
            "<class 'pandas.core.frame.DataFrame'>\n",
            "RangeIndex: 202607 entries, 0 to 202606\n",
            "Data columns (total 4 columns):\n",
            "id           202607 non-null object\n",
            "call_date    202607 non-null object\n",
            "duration     202607 non-null object\n",
            "user_id      202607 non-null int64\n",
            "dtypes: int64(1), object(3)\n",
            "memory usage: 6.2+ MB\n"
          ]
        }
      ],
      "source": [
        "df_calls.info()"
      ]
    },
    {
      "cell_type": "code",
      "execution_count": null,
      "metadata": {
        "id": "-PWsZW6y9L2n",
        "outputId": "a451ee8a-abca-4335-cb66-9069f9339e36"
      },
      "outputs": [
        {
          "name": "stdout",
          "output_type": "stream",
          "text": [
            "<class 'pandas.core.frame.DataFrame'>\n",
            "RangeIndex: 202607 entries, 0 to 202606\n",
            "Data columns (total 4 columns):\n",
            "id           202607 non-null object\n",
            "call_date    202607 non-null datetime64[ns]\n",
            "duration     202607 non-null float64\n",
            "user_id      202607 non-null int64\n",
            "dtypes: datetime64[ns](1), float64(1), int64(1), object(1)\n",
            "memory usage: 6.2+ MB\n"
          ]
        }
      ],
      "source": [
        "df_calls['duration'] = pd.to_numeric(df_calls.duration)\n",
        "df_calls['call_date'] = pd.to_datetime(df_calls.call_date, format = '%Y-%m-%d')\n",
        "df_calls.info()"
      ]
    },
    {
      "cell_type": "code",
      "execution_count": null,
      "metadata": {
        "id": "zq2IQiJA9L2o",
        "outputId": "e7e426c9-bc4f-48dd-82e5-362cdd712e23"
      },
      "outputs": [
        {
          "name": "stdout",
          "output_type": "stream",
          "text": [
            "количество звонков с отрицательной продолжительностью:  0\n"
          ]
        },
        {
          "name": "stderr",
          "output_type": "stream",
          "text": [
            "/opt/conda/lib/python3.7/site-packages/pandas/core/ops/__init__.py:1115: FutureWarning: elementwise comparison failed; returning scalar instead, but in the future will perform elementwise comparison\n",
            "  result = method(y)\n"
          ]
        }
      ],
      "source": [
        "print('количество звонков с отрицательной продолжительностью: ', df_calls[df_calls.duration == '-%'].shape[0])\n",
        "# проверка на наличие ошибок."
      ]
    },
    {
      "cell_type": "code",
      "execution_count": null,
      "metadata": {
        "id": "M6nLWBph9L2p",
        "outputId": "c5cca937-53c7-42b1-c297-ba9196a2d9e0"
      },
      "outputs": [
        {
          "data": {
            "text/html": [
              "<div>\n",
              "<style scoped>\n",
              "    .dataframe tbody tr th:only-of-type {\n",
              "        vertical-align: middle;\n",
              "    }\n",
              "\n",
              "    .dataframe tbody tr th {\n",
              "        vertical-align: top;\n",
              "    }\n",
              "\n",
              "    .dataframe thead th {\n",
              "        text-align: right;\n",
              "    }\n",
              "</style>\n",
              "<table border=\"1\" class=\"dataframe\">\n",
              "  <thead>\n",
              "    <tr style=\"text-align: right;\">\n",
              "      <th></th>\n",
              "      <th>id</th>\n",
              "      <th>call_date</th>\n",
              "      <th>duration</th>\n",
              "      <th>user_id</th>\n",
              "    </tr>\n",
              "  </thead>\n",
              "  <tbody>\n",
              "    <tr>\n",
              "      <td>0</td>\n",
              "      <td>1000_0</td>\n",
              "      <td>2018-07-25</td>\n",
              "      <td>0.0</td>\n",
              "      <td>1000</td>\n",
              "    </tr>\n",
              "    <tr>\n",
              "      <td>1</td>\n",
              "      <td>1000_1</td>\n",
              "      <td>2018-08-17</td>\n",
              "      <td>0.0</td>\n",
              "      <td>1000</td>\n",
              "    </tr>\n",
              "    <tr>\n",
              "      <td>2</td>\n",
              "      <td>1000_2</td>\n",
              "      <td>2018-06-11</td>\n",
              "      <td>3.0</td>\n",
              "      <td>1000</td>\n",
              "    </tr>\n",
              "    <tr>\n",
              "      <td>3</td>\n",
              "      <td>1000_3</td>\n",
              "      <td>2018-09-21</td>\n",
              "      <td>14.0</td>\n",
              "      <td>1000</td>\n",
              "    </tr>\n",
              "    <tr>\n",
              "      <td>4</td>\n",
              "      <td>1000_4</td>\n",
              "      <td>2018-12-15</td>\n",
              "      <td>6.0</td>\n",
              "      <td>1000</td>\n",
              "    </tr>\n",
              "  </tbody>\n",
              "</table>\n",
              "</div>"
            ],
            "text/plain": [
              "       id  call_date  duration  user_id\n",
              "0  1000_0 2018-07-25       0.0     1000\n",
              "1  1000_1 2018-08-17       0.0     1000\n",
              "2  1000_2 2018-06-11       3.0     1000\n",
              "3  1000_3 2018-09-21      14.0     1000\n",
              "4  1000_4 2018-12-15       6.0     1000"
            ]
          },
          "execution_count": 6,
          "metadata": {},
          "output_type": "execute_result"
        }
      ],
      "source": [
        "# для укругления в большую сторону удобно испльзовать метод ceil()\n",
        "df_calls['duration'] = np.ceil(df_calls['duration'])\n",
        "df_calls.head(5)"
      ]
    },
    {
      "cell_type": "code",
      "execution_count": null,
      "metadata": {
        "id": "S4rSMNA79L2p",
        "outputId": "2f86a490-9a58-4445-d562-e6f0dd96c44b"
      },
      "outputs": [
        {
          "data": {
            "text/html": [
              "<div>\n",
              "<style scoped>\n",
              "    .dataframe tbody tr th:only-of-type {\n",
              "        vertical-align: middle;\n",
              "    }\n",
              "\n",
              "    .dataframe tbody tr th {\n",
              "        vertical-align: top;\n",
              "    }\n",
              "\n",
              "    .dataframe thead th {\n",
              "        text-align: right;\n",
              "    }\n",
              "</style>\n",
              "<table border=\"1\" class=\"dataframe\">\n",
              "  <thead>\n",
              "    <tr style=\"text-align: right;\">\n",
              "      <th></th>\n",
              "      <th>Unnamed: 0</th>\n",
              "      <th>id</th>\n",
              "      <th>mb_used</th>\n",
              "      <th>session_date</th>\n",
              "      <th>user_id</th>\n",
              "    </tr>\n",
              "  </thead>\n",
              "  <tbody>\n",
              "    <tr>\n",
              "      <td>0</td>\n",
              "      <td>0</td>\n",
              "      <td>1000_0</td>\n",
              "      <td>112.95</td>\n",
              "      <td>2018-11-25</td>\n",
              "      <td>1000</td>\n",
              "    </tr>\n",
              "    <tr>\n",
              "      <td>1</td>\n",
              "      <td>1</td>\n",
              "      <td>1000_1</td>\n",
              "      <td>1052.81</td>\n",
              "      <td>2018-09-07</td>\n",
              "      <td>1000</td>\n",
              "    </tr>\n",
              "    <tr>\n",
              "      <td>2</td>\n",
              "      <td>2</td>\n",
              "      <td>1000_2</td>\n",
              "      <td>1197.26</td>\n",
              "      <td>2018-06-25</td>\n",
              "      <td>1000</td>\n",
              "    </tr>\n",
              "    <tr>\n",
              "      <td>3</td>\n",
              "      <td>3</td>\n",
              "      <td>1000_3</td>\n",
              "      <td>550.27</td>\n",
              "      <td>2018-08-22</td>\n",
              "      <td>1000</td>\n",
              "    </tr>\n",
              "    <tr>\n",
              "      <td>4</td>\n",
              "      <td>4</td>\n",
              "      <td>1000_4</td>\n",
              "      <td>302.56</td>\n",
              "      <td>2018-09-24</td>\n",
              "      <td>1000</td>\n",
              "    </tr>\n",
              "    <tr>\n",
              "      <td>...</td>\n",
              "      <td>...</td>\n",
              "      <td>...</td>\n",
              "      <td>...</td>\n",
              "      <td>...</td>\n",
              "      <td>...</td>\n",
              "    </tr>\n",
              "    <tr>\n",
              "      <td>149391</td>\n",
              "      <td>149391</td>\n",
              "      <td>1499_152</td>\n",
              "      <td>318.9</td>\n",
              "      <td>2018-10-03</td>\n",
              "      <td>1499</td>\n",
              "    </tr>\n",
              "    <tr>\n",
              "      <td>149392</td>\n",
              "      <td>149392</td>\n",
              "      <td>1499_153</td>\n",
              "      <td>490.13</td>\n",
              "      <td>2018-12-14</td>\n",
              "      <td>1499</td>\n",
              "    </tr>\n",
              "    <tr>\n",
              "      <td>149393</td>\n",
              "      <td>149393</td>\n",
              "      <td>1499_154</td>\n",
              "      <td>0.0</td>\n",
              "      <td>2018-10-27</td>\n",
              "      <td>1499</td>\n",
              "    </tr>\n",
              "    <tr>\n",
              "      <td>149394</td>\n",
              "      <td>149394</td>\n",
              "      <td>1499_155</td>\n",
              "      <td>1246.32</td>\n",
              "      <td>2018-11-26</td>\n",
              "      <td>1499</td>\n",
              "    </tr>\n",
              "    <tr>\n",
              "      <td>149395</td>\n",
              "      <td>149395</td>\n",
              "      <td>1499_156</td>\n",
              "      <td>544.37</td>\n",
              "      <td>2018-10-26</td>\n",
              "      <td>1499</td>\n",
              "    </tr>\n",
              "  </tbody>\n",
              "</table>\n",
              "<p>149396 rows × 5 columns</p>\n",
              "</div>"
            ],
            "text/plain": [
              "        Unnamed: 0        id  mb_used session_date  user_id\n",
              "0                0    1000_0   112.95   2018-11-25     1000\n",
              "1                1    1000_1  1052.81   2018-09-07     1000\n",
              "2                2    1000_2  1197.26   2018-06-25     1000\n",
              "3                3    1000_3   550.27   2018-08-22     1000\n",
              "4                4    1000_4   302.56   2018-09-24     1000\n",
              "...            ...       ...      ...          ...      ...\n",
              "149391      149391  1499_152    318.9   2018-10-03     1499\n",
              "149392      149392  1499_153   490.13   2018-12-14     1499\n",
              "149393      149393  1499_154      0.0   2018-10-27     1499\n",
              "149394      149394  1499_155  1246.32   2018-11-26     1499\n",
              "149395      149395  1499_156   544.37   2018-10-26     1499\n",
              "\n",
              "[149396 rows x 5 columns]"
            ]
          },
          "execution_count": 7,
          "metadata": {},
          "output_type": "execute_result"
        }
      ],
      "source": [
        "df_internet"
      ]
    },
    {
      "cell_type": "code",
      "execution_count": null,
      "metadata": {
        "id": "FX-vBTKD9L2q",
        "outputId": "c39988af-5af1-4df1-ca1d-363e284088fc"
      },
      "outputs": [
        {
          "name": "stdout",
          "output_type": "stream",
          "text": [
            "<class 'pandas.core.frame.DataFrame'>\n",
            "RangeIndex: 149396 entries, 0 to 149395\n",
            "Data columns (total 5 columns):\n",
            "Unnamed: 0      149396 non-null int64\n",
            "id              149396 non-null object\n",
            "mb_used         149396 non-null object\n",
            "session_date    149396 non-null object\n",
            "user_id         149396 non-null int64\n",
            "dtypes: int64(2), object(3)\n",
            "memory usage: 5.7+ MB\n"
          ]
        }
      ],
      "source": [
        "df_internet.info()"
      ]
    },
    {
      "cell_type": "code",
      "execution_count": null,
      "metadata": {
        "id": "buzfnYAo9L2r",
        "outputId": "29f9f80d-3424-4f4e-8c34-07c1be228f40"
      },
      "outputs": [
        {
          "name": "stdout",
          "output_type": "stream",
          "text": [
            "<class 'pandas.core.frame.DataFrame'>\n",
            "RangeIndex: 149396 entries, 0 to 149395\n",
            "Data columns (total 5 columns):\n",
            "Unnamed: 0      149396 non-null int64\n",
            "id              149396 non-null object\n",
            "mb_used         149396 non-null float64\n",
            "session_date    149396 non-null datetime64[ns]\n",
            "user_id         149396 non-null int64\n",
            "dtypes: datetime64[ns](1), float64(1), int64(2), object(1)\n",
            "memory usage: 5.7+ MB\n"
          ]
        }
      ],
      "source": [
        "df_internet['mb_used'] = pd.to_numeric(df_internet.mb_used)\n",
        "df_internet['session_date'] = pd.to_datetime(df_internet.session_date, format = '%Y-%m-%d')\n",
        "df_internet.info()"
      ]
    },
    {
      "cell_type": "code",
      "execution_count": null,
      "metadata": {
        "id": "Zva7ypmH9L2r",
        "outputId": "3cad6589-e64b-4460-e403-23bff262e5c8"
      },
      "outputs": [
        {
          "data": {
            "text/html": [
              "<div>\n",
              "<style scoped>\n",
              "    .dataframe tbody tr th:only-of-type {\n",
              "        vertical-align: middle;\n",
              "    }\n",
              "\n",
              "    .dataframe tbody tr th {\n",
              "        vertical-align: top;\n",
              "    }\n",
              "\n",
              "    .dataframe thead th {\n",
              "        text-align: right;\n",
              "    }\n",
              "</style>\n",
              "<table border=\"1\" class=\"dataframe\">\n",
              "  <thead>\n",
              "    <tr style=\"text-align: right;\">\n",
              "      <th></th>\n",
              "      <th>id</th>\n",
              "      <th>message_date</th>\n",
              "      <th>user_id</th>\n",
              "    </tr>\n",
              "  </thead>\n",
              "  <tbody>\n",
              "    <tr>\n",
              "      <td>0</td>\n",
              "      <td>1000_0</td>\n",
              "      <td>2018-06-27</td>\n",
              "      <td>1000</td>\n",
              "    </tr>\n",
              "    <tr>\n",
              "      <td>1</td>\n",
              "      <td>1000_1</td>\n",
              "      <td>2018-10-08</td>\n",
              "      <td>1000</td>\n",
              "    </tr>\n",
              "    <tr>\n",
              "      <td>2</td>\n",
              "      <td>1000_2</td>\n",
              "      <td>2018-08-04</td>\n",
              "      <td>1000</td>\n",
              "    </tr>\n",
              "    <tr>\n",
              "      <td>3</td>\n",
              "      <td>1000_3</td>\n",
              "      <td>2018-06-16</td>\n",
              "      <td>1000</td>\n",
              "    </tr>\n",
              "    <tr>\n",
              "      <td>4</td>\n",
              "      <td>1000_4</td>\n",
              "      <td>2018-12-05</td>\n",
              "      <td>1000</td>\n",
              "    </tr>\n",
              "    <tr>\n",
              "      <td>...</td>\n",
              "      <td>...</td>\n",
              "      <td>...</td>\n",
              "      <td>...</td>\n",
              "    </tr>\n",
              "    <tr>\n",
              "      <td>123031</td>\n",
              "      <td>1499_179</td>\n",
              "      <td>2018-12-12</td>\n",
              "      <td>1499</td>\n",
              "    </tr>\n",
              "    <tr>\n",
              "      <td>123032</td>\n",
              "      <td>1499_180</td>\n",
              "      <td>2018-09-28</td>\n",
              "      <td>1499</td>\n",
              "    </tr>\n",
              "    <tr>\n",
              "      <td>123033</td>\n",
              "      <td>1499_181</td>\n",
              "      <td>2018-09-27</td>\n",
              "      <td>1499</td>\n",
              "    </tr>\n",
              "    <tr>\n",
              "      <td>123034</td>\n",
              "      <td>1499_182</td>\n",
              "      <td>2018-11-15</td>\n",
              "      <td>1499</td>\n",
              "    </tr>\n",
              "    <tr>\n",
              "      <td>123035</td>\n",
              "      <td>1499_183</td>\n",
              "      <td>2018-11-16</td>\n",
              "      <td>1499</td>\n",
              "    </tr>\n",
              "  </tbody>\n",
              "</table>\n",
              "<p>123036 rows × 3 columns</p>\n",
              "</div>"
            ],
            "text/plain": [
              "              id message_date  user_id\n",
              "0         1000_0   2018-06-27     1000\n",
              "1         1000_1   2018-10-08     1000\n",
              "2         1000_2   2018-08-04     1000\n",
              "3         1000_3   2018-06-16     1000\n",
              "4         1000_4   2018-12-05     1000\n",
              "...          ...          ...      ...\n",
              "123031  1499_179   2018-12-12     1499\n",
              "123032  1499_180   2018-09-28     1499\n",
              "123033  1499_181   2018-09-27     1499\n",
              "123034  1499_182   2018-11-15     1499\n",
              "123035  1499_183   2018-11-16     1499\n",
              "\n",
              "[123036 rows x 3 columns]"
            ]
          },
          "execution_count": 10,
          "metadata": {},
          "output_type": "execute_result"
        }
      ],
      "source": [
        "df_messages"
      ]
    },
    {
      "cell_type": "code",
      "execution_count": null,
      "metadata": {
        "id": "JfCU5V2s9L2r",
        "outputId": "a037991f-42df-40bf-f55c-04356856d9d8"
      },
      "outputs": [
        {
          "name": "stdout",
          "output_type": "stream",
          "text": [
            "<class 'pandas.core.frame.DataFrame'>\n",
            "RangeIndex: 123036 entries, 0 to 123035\n",
            "Data columns (total 3 columns):\n",
            "id              123036 non-null object\n",
            "message_date    123036 non-null object\n",
            "user_id         123036 non-null int64\n",
            "dtypes: int64(1), object(2)\n",
            "memory usage: 2.8+ MB\n"
          ]
        }
      ],
      "source": [
        "df_messages.info()"
      ]
    },
    {
      "cell_type": "code",
      "execution_count": null,
      "metadata": {
        "id": "yGt9_Bw59L2s",
        "outputId": "9aae321a-6bae-437b-8f32-36cd32435754"
      },
      "outputs": [
        {
          "name": "stdout",
          "output_type": "stream",
          "text": [
            "<class 'pandas.core.frame.DataFrame'>\n",
            "RangeIndex: 123036 entries, 0 to 123035\n",
            "Data columns (total 3 columns):\n",
            "id              123036 non-null object\n",
            "message_date    123036 non-null datetime64[ns]\n",
            "user_id         123036 non-null int64\n",
            "dtypes: datetime64[ns](1), int64(1), object(1)\n",
            "memory usage: 2.8+ MB\n"
          ]
        }
      ],
      "source": [
        "df_messages['message_date'] = pd.to_datetime(df_messages.message_date, format = '%Y-%m-%d')\n",
        "df_messages.info()"
      ]
    },
    {
      "cell_type": "code",
      "execution_count": null,
      "metadata": {
        "id": "18J1E0Qp9L2s",
        "outputId": "9c619616-9c00-4dec-f381-fee256a541b3"
      },
      "outputs": [
        {
          "name": "stdout",
          "output_type": "stream",
          "text": [
            "<class 'pandas.core.frame.DataFrame'>\n",
            "RangeIndex: 2 entries, 0 to 1\n",
            "Data columns (total 8 columns):\n",
            "messages_included        2 non-null int64\n",
            "mb_per_month_included    2 non-null int64\n",
            "minutes_included         2 non-null int64\n",
            "rub_monthly_fee          2 non-null int64\n",
            "rub_per_gb               2 non-null int64\n",
            "rub_per_message          2 non-null int64\n",
            "rub_per_minute           2 non-null int64\n",
            "tariff_name              2 non-null object\n",
            "dtypes: int64(7), object(1)\n",
            "memory usage: 256.0+ bytes\n"
          ]
        }
      ],
      "source": [
        "df_tariffs.info()"
      ]
    },
    {
      "cell_type": "code",
      "execution_count": null,
      "metadata": {
        "id": "u44S8Hxb9L2s",
        "outputId": "3ed61ca5-4f27-413d-c1db-d4ad34be4c82"
      },
      "outputs": [
        {
          "data": {
            "text/html": [
              "<div>\n",
              "<style scoped>\n",
              "    .dataframe tbody tr th:only-of-type {\n",
              "        vertical-align: middle;\n",
              "    }\n",
              "\n",
              "    .dataframe tbody tr th {\n",
              "        vertical-align: top;\n",
              "    }\n",
              "\n",
              "    .dataframe thead th {\n",
              "        text-align: right;\n",
              "    }\n",
              "</style>\n",
              "<table border=\"1\" class=\"dataframe\">\n",
              "  <thead>\n",
              "    <tr style=\"text-align: right;\">\n",
              "      <th></th>\n",
              "      <th>user_id</th>\n",
              "      <th>age</th>\n",
              "      <th>churn_date</th>\n",
              "      <th>city</th>\n",
              "      <th>first_name</th>\n",
              "      <th>last_name</th>\n",
              "      <th>reg_date</th>\n",
              "      <th>tariff</th>\n",
              "    </tr>\n",
              "  </thead>\n",
              "  <tbody>\n",
              "    <tr>\n",
              "      <td>0</td>\n",
              "      <td>1000</td>\n",
              "      <td>52</td>\n",
              "      <td>NaN</td>\n",
              "      <td>Краснодар</td>\n",
              "      <td>Рафаил</td>\n",
              "      <td>Верещагин</td>\n",
              "      <td>2018-05-25</td>\n",
              "      <td>ultra</td>\n",
              "    </tr>\n",
              "    <tr>\n",
              "      <td>1</td>\n",
              "      <td>1001</td>\n",
              "      <td>41</td>\n",
              "      <td>NaN</td>\n",
              "      <td>Москва</td>\n",
              "      <td>Иван</td>\n",
              "      <td>Ежов</td>\n",
              "      <td>2018-11-01</td>\n",
              "      <td>smart</td>\n",
              "    </tr>\n",
              "    <tr>\n",
              "      <td>2</td>\n",
              "      <td>1002</td>\n",
              "      <td>59</td>\n",
              "      <td>NaN</td>\n",
              "      <td>Стерлитамак</td>\n",
              "      <td>Евгений</td>\n",
              "      <td>Абрамович</td>\n",
              "      <td>2018-06-17</td>\n",
              "      <td>smart</td>\n",
              "    </tr>\n",
              "    <tr>\n",
              "      <td>3</td>\n",
              "      <td>1003</td>\n",
              "      <td>23</td>\n",
              "      <td>NaN</td>\n",
              "      <td>Москва</td>\n",
              "      <td>Белла</td>\n",
              "      <td>Белякова</td>\n",
              "      <td>2018-08-17</td>\n",
              "      <td>ultra</td>\n",
              "    </tr>\n",
              "    <tr>\n",
              "      <td>4</td>\n",
              "      <td>1004</td>\n",
              "      <td>68</td>\n",
              "      <td>NaN</td>\n",
              "      <td>Новокузнецк</td>\n",
              "      <td>Татьяна</td>\n",
              "      <td>Авдеенко</td>\n",
              "      <td>2018-05-14</td>\n",
              "      <td>ultra</td>\n",
              "    </tr>\n",
              "    <tr>\n",
              "      <td>...</td>\n",
              "      <td>...</td>\n",
              "      <td>...</td>\n",
              "      <td>...</td>\n",
              "      <td>...</td>\n",
              "      <td>...</td>\n",
              "      <td>...</td>\n",
              "      <td>...</td>\n",
              "      <td>...</td>\n",
              "    </tr>\n",
              "    <tr>\n",
              "      <td>495</td>\n",
              "      <td>1495</td>\n",
              "      <td>65</td>\n",
              "      <td>NaN</td>\n",
              "      <td>Иркутск</td>\n",
              "      <td>Авксентий</td>\n",
              "      <td>Фокин</td>\n",
              "      <td>2018-08-28</td>\n",
              "      <td>ultra</td>\n",
              "    </tr>\n",
              "    <tr>\n",
              "      <td>496</td>\n",
              "      <td>1496</td>\n",
              "      <td>36</td>\n",
              "      <td>NaN</td>\n",
              "      <td>Вологда</td>\n",
              "      <td>Трифон</td>\n",
              "      <td>Блохин</td>\n",
              "      <td>2018-01-27</td>\n",
              "      <td>smart</td>\n",
              "    </tr>\n",
              "    <tr>\n",
              "      <td>497</td>\n",
              "      <td>1497</td>\n",
              "      <td>32</td>\n",
              "      <td>NaN</td>\n",
              "      <td>Челябинск</td>\n",
              "      <td>Каролина</td>\n",
              "      <td>Агеева</td>\n",
              "      <td>2018-10-09</td>\n",
              "      <td>smart</td>\n",
              "    </tr>\n",
              "    <tr>\n",
              "      <td>498</td>\n",
              "      <td>1498</td>\n",
              "      <td>68</td>\n",
              "      <td>2018-10-25</td>\n",
              "      <td>Владикавказ</td>\n",
              "      <td>Всеволод</td>\n",
              "      <td>Акимчин</td>\n",
              "      <td>2018-07-19</td>\n",
              "      <td>smart</td>\n",
              "    </tr>\n",
              "    <tr>\n",
              "      <td>499</td>\n",
              "      <td>1499</td>\n",
              "      <td>35</td>\n",
              "      <td>NaN</td>\n",
              "      <td>Пермь</td>\n",
              "      <td>Гектор</td>\n",
              "      <td>Корнилов</td>\n",
              "      <td>2018-09-27</td>\n",
              "      <td>smart</td>\n",
              "    </tr>\n",
              "  </tbody>\n",
              "</table>\n",
              "<p>500 rows × 8 columns</p>\n",
              "</div>"
            ],
            "text/plain": [
              "     user_id  age  churn_date         city first_name  last_name    reg_date  \\\n",
              "0       1000   52         NaN    Краснодар     Рафаил  Верещагин  2018-05-25   \n",
              "1       1001   41         NaN       Москва       Иван       Ежов  2018-11-01   \n",
              "2       1002   59         NaN  Стерлитамак    Евгений  Абрамович  2018-06-17   \n",
              "3       1003   23         NaN       Москва      Белла   Белякова  2018-08-17   \n",
              "4       1004   68         NaN  Новокузнецк    Татьяна   Авдеенко  2018-05-14   \n",
              "..       ...  ...         ...          ...        ...        ...         ...   \n",
              "495     1495   65         NaN      Иркутск  Авксентий      Фокин  2018-08-28   \n",
              "496     1496   36         NaN      Вологда     Трифон     Блохин  2018-01-27   \n",
              "497     1497   32         NaN    Челябинск   Каролина     Агеева  2018-10-09   \n",
              "498     1498   68  2018-10-25  Владикавказ   Всеволод    Акимчин  2018-07-19   \n",
              "499     1499   35         NaN        Пермь     Гектор   Корнилов  2018-09-27   \n",
              "\n",
              "    tariff  \n",
              "0    ultra  \n",
              "1    smart  \n",
              "2    smart  \n",
              "3    ultra  \n",
              "4    ultra  \n",
              "..     ...  \n",
              "495  ultra  \n",
              "496  smart  \n",
              "497  smart  \n",
              "498  smart  \n",
              "499  smart  \n",
              "\n",
              "[500 rows x 8 columns]"
            ]
          },
          "execution_count": 14,
          "metadata": {},
          "output_type": "execute_result"
        }
      ],
      "source": [
        "df_users"
      ]
    },
    {
      "cell_type": "code",
      "execution_count": null,
      "metadata": {
        "id": "QszuIvF89L2t",
        "outputId": "9d0610fd-ba11-437c-9f5a-6cb4716bd5b1"
      },
      "outputs": [
        {
          "name": "stdout",
          "output_type": "stream",
          "text": [
            "<class 'pandas.core.frame.DataFrame'>\n",
            "RangeIndex: 500 entries, 0 to 499\n",
            "Data columns (total 8 columns):\n",
            "user_id       500 non-null int64\n",
            "age           500 non-null int64\n",
            "churn_date    38 non-null object\n",
            "city          500 non-null object\n",
            "first_name    500 non-null object\n",
            "last_name     500 non-null object\n",
            "reg_date      500 non-null object\n",
            "tariff        500 non-null object\n",
            "dtypes: int64(2), object(6)\n",
            "memory usage: 31.4+ KB\n"
          ]
        }
      ],
      "source": [
        "df_users.info()"
      ]
    },
    {
      "cell_type": "code",
      "execution_count": null,
      "metadata": {
        "id": "j_RIiL1-9L2t",
        "outputId": "72410ed5-828b-4d5d-c197-d4d928ff87b0"
      },
      "outputs": [
        {
          "name": "stdout",
          "output_type": "stream",
          "text": [
            "<class 'pandas.core.frame.DataFrame'>\n",
            "RangeIndex: 500 entries, 0 to 499\n",
            "Data columns (total 8 columns):\n",
            "user_id       500 non-null int64\n",
            "age           500 non-null int64\n",
            "churn_date    38 non-null datetime64[ns]\n",
            "city          500 non-null object\n",
            "first_name    500 non-null object\n",
            "last_name     500 non-null object\n",
            "reg_date      500 non-null datetime64[ns]\n",
            "tariff        500 non-null object\n",
            "dtypes: datetime64[ns](2), int64(2), object(4)\n",
            "memory usage: 31.4+ KB\n"
          ]
        }
      ],
      "source": [
        "df_users['reg_date'] = pd.to_datetime(df_users.reg_date, format = '%Y-%m-%d')\n",
        "df_users['churn_date'] = pd.to_datetime(df_users.churn_date, format = '%Y-%m-%d')\n",
        "df_users.info()"
      ]
    },
    {
      "cell_type": "markdown",
      "metadata": {
        "id": "Gt6ivUnk9L2t"
      },
      "source": [
        "по ошибкам - в данных нашла записи с 0 использованных мб интернета. Исправлять не стала, так как возможна ситуация, аналогичная звонкам, когда какие-то действия (например поиск сети) могут быть связаны с интернетом, но затрат трафика нет. \n",
        "\n",
        "## расчет израсходованных ресурсов на пользователя"
      ]
    },
    {
      "cell_type": "code",
      "execution_count": null,
      "metadata": {
        "id": "Bo28e-Jk9L2u"
      },
      "outputs": [],
      "source": [
        "# создание дополнительного идентификатора, для группировки\n",
        "# Беру только месяц из дат, так как во всем датасете только 2018 год\n",
        "\n",
        "df_calls['user_month'] = df_calls.user_id.astype(str) + pd.DatetimeIndex(df_calls.call_date).month.astype(str)\n",
        "df_internet['user_month'] = df_internet.user_id.astype(str) + pd.DatetimeIndex(df_internet.session_date).month.astype(str)\n",
        "df_messages['user_month'] = df_messages.user_id.astype(str) + pd.DatetimeIndex(df_messages.message_date).month.astype(str)"
      ]
    },
    {
      "cell_type": "code",
      "execution_count": null,
      "metadata": {
        "id": "d0XOB9z49L2u"
      },
      "outputs": [],
      "source": [
        "# создаю колонки для отслеживания активации продукта\n",
        "\n",
        "df_users['reg_mon'] = pd.DatetimeIndex(df_users.reg_date).month\n",
        "df_users['end_mon'] = pd.DatetimeIndex(df_users.churn_date).month\n",
        "df_users['end_mon'] = df_users['end_mon'].fillna(12)"
      ]
    },
    {
      "cell_type": "code",
      "execution_count": null,
      "metadata": {
        "id": "BGqJDC2d9L2u"
      },
      "outputs": [],
      "source": [
        "# так как таблицы имеют не полное количество комбинаций месяц-пользователь (500*12=6000), \n",
        "# создаю таблицу со всеми возможными ключами\n",
        "\n",
        "table_was_used = []\n",
        "t = []\n",
        "\n",
        "for user_id in df_users['user_id']:\n",
        "    for mon in range(1, 13): \n",
        "        t = user_id, mon, str(user_id)+ str(mon)\n",
        "        table_was_used.append(t)\n",
        "        \n",
        "table_was_used = pd.DataFrame(table_was_used, columns=['user_id', 'month', 'user_month'])"
      ]
    },
    {
      "cell_type": "code",
      "execution_count": null,
      "metadata": {
        "id": "bRIPyGQP9L2v",
        "outputId": "c54281cb-0ef1-413c-9ef2-d075f0555580"
      },
      "outputs": [
        {
          "name": "stdout",
          "output_type": "stream",
          "text": [
            "количество звонков с отрицательной продолжительностью:  0\n"
          ]
        }
      ],
      "source": [
        "print('количество звонков с отрицательной продолжительностью: ', df_internet[df_internet.mb_used == '-%'].shape[0])\n",
        "# проверка на наличие ошибок."
      ]
    },
    {
      "cell_type": "code",
      "execution_count": null,
      "metadata": {
        "id": "dEDHNhtx9L2v"
      },
      "outputs": [],
      "source": [
        "# # для укругления в большую сторону удобно испльзовать метод ceil()\n",
        "# df_internet['mb_used'] = np.ceil(df_internet['mb_used']/1024)\n",
        "# df_internet.head(5)"
      ]
    },
    {
      "cell_type": "code",
      "execution_count": null,
      "metadata": {
        "id": "XWkHLxbf9L2v"
      },
      "outputs": [],
      "source": [
        "# исправления V2\n",
        "\n",
        "df_internet_gb = df_internet.groupby('user_month').agg({'mb_used':['sum']})\n",
        "df_internet_gb.columns=['gb_used']\n",
        "df_internet_gb['gb_used'] = np.ceil(df_internet_gb['gb_used']/1024)\n",
        "\n",
        "# так же заменила df_internet на df_internet_gb при создании таблицы table_was_used"
      ]
    },
    {
      "cell_type": "code",
      "execution_count": null,
      "metadata": {
        "id": "C06FJjLt9L2w"
      },
      "outputs": [],
      "source": [
        "# создание дополительного столбца для расчета количества звонков\n",
        "df_calls['duration2'] = df_calls['duration'].copy()"
      ]
    },
    {
      "cell_type": "code",
      "execution_count": null,
      "metadata": {
        "id": "ChdaHJlO9L2w",
        "outputId": "f65c3ee7-f92d-440e-86d2-488997d44675"
      },
      "outputs": [
        {
          "name": "stderr",
          "output_type": "stream",
          "text": [
            "/opt/conda/lib/python3.7/site-packages/pandas/core/reshape/merge.py:617: UserWarning: merging between different levels can give an unintended result (1 levels on the left, 2 on the right)\n",
            "  warnings.warn(msg, UserWarning)\n"
          ]
        }
      ],
      "source": [
        "# Подтягиваю необходимую информацию из остальных таблиц, заменяю пропуски на 0\n",
        "\n",
        "table_was_used = table_was_used\\\n",
        "    .merge(df_users[['user_id', 'tariff', 'reg_mon', 'end_mon', 'city']], on = 'user_id', how = 'left')\n",
        "\n",
        "table_was_used = table_was_used\\\n",
        "    .merge(df_calls.groupby('user_month').agg({'duration':['sum'], 'duration2':['count']}), on = 'user_month', how = 'left')\n",
        "\n",
        "table_was_used = table_was_used\\\n",
        "    .merge(df_internet.groupby('user_month').agg({'mb_used':['sum']}), on = 'user_month', how = 'left')\n",
        "\n",
        "table_was_used = table_was_used\\\n",
        "    .merge(df_messages.groupby('user_month')['id'].count(), on = 'user_month', how = 'left')\n",
        "\n",
        "table_was_used.columns = ['user_id', 'month', 'user_month', 'tariff', 'reg_mon', 'end_mon', 'city', 'calls', 'calls_cnt', 'internet', 'messages']\n",
        "\n",
        "table_was_used = table_was_used.fillna(0)\n",
        "\n",
        "table_was_used = table_was_used\\\n",
        "    .merge(df_tariffs, left_on = 'tariff', right_on = 'tariff_name', how = 'left')\n",
        "\n",
        "table_was_used = table_was_used[table_was_used['month'] >= table_was_used['reg_mon']]\n",
        "table_was_used = table_was_used[table_was_used['month'] <= table_was_used['end_mon']]"
      ]
    },
    {
      "cell_type": "code",
      "execution_count": null,
      "metadata": {
        "id": "VpYX9WHw9L2x"
      },
      "outputs": [],
      "source": [
        "# расчет выручки с каждого пользователя\n",
        "\n",
        "table_was_used['add_calss'] = table_was_used['calls'] - table_was_used['minutes_included']\n",
        "table_was_used.loc[(table_was_used.add_calss < 0), 'add_calss'] = 0\n",
        "\n",
        "table_was_used['add_internet'] = table_was_used['internet'] - table_was_used['mb_per_month_included']\n",
        "table_was_used.loc[(table_was_used.add_internet < 0), 'add_internet'] = 0\n",
        "\n",
        "table_was_used['add_messages'] = table_was_used['messages'] - table_was_used['messages_included']\n",
        "table_was_used.loc[(table_was_used.add_messages < 0), 'add_messages'] = 0\n",
        "\n",
        "table_was_used['pay'] = table_was_used['rub_monthly_fee'] + table_was_used['add_calss']*table_was_used['rub_per_minute'] + table_was_used['add_internet']*table_was_used['rub_per_gb'] + table_was_used['add_messages']*table_was_used['rub_per_message']"
      ]
    },
    {
      "cell_type": "code",
      "execution_count": null,
      "metadata": {
        "id": "MTcl-Ekr9L2x",
        "outputId": "f4b99819-76e6-467e-8a0e-073a4143a848"
      },
      "outputs": [
        {
          "data": {
            "text/html": [
              "<div>\n",
              "<style scoped>\n",
              "    .dataframe tbody tr th:only-of-type {\n",
              "        vertical-align: middle;\n",
              "    }\n",
              "\n",
              "    .dataframe tbody tr th {\n",
              "        vertical-align: top;\n",
              "    }\n",
              "\n",
              "    .dataframe thead th {\n",
              "        text-align: right;\n",
              "    }\n",
              "</style>\n",
              "<table border=\"1\" class=\"dataframe\">\n",
              "  <thead>\n",
              "    <tr style=\"text-align: right;\">\n",
              "      <th></th>\n",
              "      <th>user_id</th>\n",
              "      <th>month</th>\n",
              "      <th>tariff</th>\n",
              "      <th>pay</th>\n",
              "    </tr>\n",
              "  </thead>\n",
              "  <tbody>\n",
              "    <tr>\n",
              "      <td>4</td>\n",
              "      <td>1000</td>\n",
              "      <td>5</td>\n",
              "      <td>ultra</td>\n",
              "      <td>1950.0</td>\n",
              "    </tr>\n",
              "    <tr>\n",
              "      <td>5</td>\n",
              "      <td>1000</td>\n",
              "      <td>6</td>\n",
              "      <td>ultra</td>\n",
              "      <td>1950.0</td>\n",
              "    </tr>\n",
              "    <tr>\n",
              "      <td>6</td>\n",
              "      <td>1000</td>\n",
              "      <td>7</td>\n",
              "      <td>ultra</td>\n",
              "      <td>1950.0</td>\n",
              "    </tr>\n",
              "    <tr>\n",
              "      <td>7</td>\n",
              "      <td>1000</td>\n",
              "      <td>8</td>\n",
              "      <td>ultra</td>\n",
              "      <td>1950.0</td>\n",
              "    </tr>\n",
              "    <tr>\n",
              "      <td>8</td>\n",
              "      <td>1000</td>\n",
              "      <td>9</td>\n",
              "      <td>ultra</td>\n",
              "      <td>1950.0</td>\n",
              "    </tr>\n",
              "    <tr>\n",
              "      <td>...</td>\n",
              "      <td>...</td>\n",
              "      <td>...</td>\n",
              "      <td>...</td>\n",
              "      <td>...</td>\n",
              "    </tr>\n",
              "    <tr>\n",
              "      <td>5985</td>\n",
              "      <td>1498</td>\n",
              "      <td>10</td>\n",
              "      <td>smart</td>\n",
              "      <td>1044422.0</td>\n",
              "    </tr>\n",
              "    <tr>\n",
              "      <td>5996</td>\n",
              "      <td>1499</td>\n",
              "      <td>9</td>\n",
              "      <td>smart</td>\n",
              "      <td>550.0</td>\n",
              "    </tr>\n",
              "    <tr>\n",
              "      <td>5997</td>\n",
              "      <td>1499</td>\n",
              "      <td>10</td>\n",
              "      <td>smart</td>\n",
              "      <td>486252.0</td>\n",
              "    </tr>\n",
              "    <tr>\n",
              "      <td>5998</td>\n",
              "      <td>1499</td>\n",
              "      <td>11</td>\n",
              "      <td>smart</td>\n",
              "      <td>521575.0</td>\n",
              "    </tr>\n",
              "    <tr>\n",
              "      <td>5999</td>\n",
              "      <td>1499</td>\n",
              "      <td>12</td>\n",
              "      <td>smart</td>\n",
              "      <td>598.0</td>\n",
              "    </tr>\n",
              "  </tbody>\n",
              "</table>\n",
              "<p>3216 rows × 4 columns</p>\n",
              "</div>"
            ],
            "text/plain": [
              "      user_id  month tariff        pay\n",
              "4        1000      5  ultra     1950.0\n",
              "5        1000      6  ultra     1950.0\n",
              "6        1000      7  ultra     1950.0\n",
              "7        1000      8  ultra     1950.0\n",
              "8        1000      9  ultra     1950.0\n",
              "...       ...    ...    ...        ...\n",
              "5985     1498     10  smart  1044422.0\n",
              "5996     1499      9  smart      550.0\n",
              "5997     1499     10  smart   486252.0\n",
              "5998     1499     11  smart   521575.0\n",
              "5999     1499     12  smart      598.0\n",
              "\n",
              "[3216 rows x 4 columns]"
            ]
          },
          "execution_count": 26,
          "metadata": {},
          "output_type": "execute_result"
        }
      ],
      "source": [
        "table_was_used[['user_id', 'month', 'tariff', 'pay']]"
      ]
    },
    {
      "cell_type": "markdown",
      "metadata": {
        "id": "4gl3JOG-9L2y"
      },
      "source": [
        "<div class=\"alert alert-block alert-info\">\n",
        "исходя из рачетов, можно понять, что оба тарифа приносят значительный доход компании, однако доход от тарифа ультра все же больше, благодаря его стоимости. Общий доход компании состовляет 3 466 201 руб. от данных услуг.\n",
        "</div>"
      ]
    },
    {
      "cell_type": "code",
      "execution_count": null,
      "metadata": {
        "id": "gawX8vky9L2y",
        "outputId": "b1c9664b-e6db-4b77-d697-c8d907fa46fd"
      },
      "outputs": [
        {
          "name": "stdout",
          "output_type": "stream",
          "text": [
            "заработок по тарифам и колличество клиентов\n",
            "                 pay user_id\n",
            "                 sum   count\n",
            "tariff                      \n",
            "smart   1.230041e+09    2230\n",
            "ultra   1.127409e+08     986\n"
          ]
        }
      ],
      "source": [
        "print('заработок по тарифам и колличество клиентов')\n",
        "print(table_was_used.groupby('tariff').agg({'pay':['sum'], 'user_id':['count']}))"
      ]
    },
    {
      "cell_type": "markdown",
      "metadata": {
        "id": "4WJ-_MTy9L2y"
      },
      "source": [
        "## Проанализируйте данные\n",
        "Опишите поведение клиентов оператора, исходя из выборки. Сколько минут разговора, сколько сообщений и какой объём интернет-трафика требуется пользователям каждого тарифа в месяц? Посчитайте среднее количество, дисперсию и стандартное отклонение. Постройте гистограммы. Опишите распределения."
      ]
    },
    {
      "cell_type": "code",
      "execution_count": null,
      "metadata": {
        "id": "u7Psv1BX9L2y"
      },
      "outputs": [],
      "source": [
        "table_was_used['tariff_month'] = table_was_used['tariff'].astype(str) + table_was_used['month'].astype(str)"
      ]
    },
    {
      "cell_type": "code",
      "execution_count": null,
      "metadata": {
        "id": "-q7ViZux9L2z"
      },
      "outputs": [],
      "source": [
        "table_was_used_tariff = []\n",
        "t = []\n",
        "\n",
        "for tariff in df_tariffs['tariff_name']:\n",
        "    for mon in range(1, 13): \n",
        "        t = tariff, mon, str(tariff)+ str(mon)\n",
        "        table_was_used_tariff.append(t)\n",
        "        \n",
        "table_was_used_tariff = pd.DataFrame(table_was_used_tariff, columns=['tariff', 'month', 'tariff_month'])"
      ]
    },
    {
      "cell_type": "code",
      "execution_count": null,
      "metadata": {
        "id": "PLECtlAv9L2z",
        "outputId": "66ca440a-6596-4204-c688-189108f1854d"
      },
      "outputs": [
        {
          "data": {
            "text/html": [
              "<div>\n",
              "<style scoped>\n",
              "    .dataframe tbody tr th:only-of-type {\n",
              "        vertical-align: middle;\n",
              "    }\n",
              "\n",
              "    .dataframe tbody tr th {\n",
              "        vertical-align: top;\n",
              "    }\n",
              "\n",
              "    .dataframe thead th {\n",
              "        text-align: right;\n",
              "    }\n",
              "</style>\n",
              "<table border=\"1\" class=\"dataframe\">\n",
              "  <thead>\n",
              "    <tr style=\"text-align: right;\">\n",
              "      <th></th>\n",
              "      <th>tariff</th>\n",
              "      <th>month</th>\n",
              "      <th>tariff_month</th>\n",
              "      <th>calls_sum</th>\n",
              "      <th>internet_sum</th>\n",
              "      <th>messages_sum</th>\n",
              "    </tr>\n",
              "  </thead>\n",
              "  <tbody>\n",
              "    <tr>\n",
              "      <td>0</td>\n",
              "      <td>smart</td>\n",
              "      <td>1</td>\n",
              "      <td>smart1</td>\n",
              "      <td>6931.0</td>\n",
              "      <td>289466.40</td>\n",
              "      <td>620.0</td>\n",
              "    </tr>\n",
              "    <tr>\n",
              "      <td>1</td>\n",
              "      <td>smart</td>\n",
              "      <td>2</td>\n",
              "      <td>smart2</td>\n",
              "      <td>17324.0</td>\n",
              "      <td>672629.15</td>\n",
              "      <td>1397.0</td>\n",
              "    </tr>\n",
              "    <tr>\n",
              "      <td>2</td>\n",
              "      <td>smart</td>\n",
              "      <td>3</td>\n",
              "      <td>smart3</td>\n",
              "      <td>30034.0</td>\n",
              "      <td>1163020.25</td>\n",
              "      <td>2453.0</td>\n",
              "    </tr>\n",
              "    <tr>\n",
              "      <td>3</td>\n",
              "      <td>smart</td>\n",
              "      <td>4</td>\n",
              "      <td>smart4</td>\n",
              "      <td>41119.0</td>\n",
              "      <td>1507764.23</td>\n",
              "      <td>3443.0</td>\n",
              "    </tr>\n",
              "    <tr>\n",
              "      <td>4</td>\n",
              "      <td>smart</td>\n",
              "      <td>5</td>\n",
              "      <td>smart5</td>\n",
              "      <td>54618.0</td>\n",
              "      <td>2228530.99</td>\n",
              "      <td>4762.0</td>\n",
              "    </tr>\n",
              "    <tr>\n",
              "      <td>5</td>\n",
              "      <td>smart</td>\n",
              "      <td>6</td>\n",
              "      <td>smart6</td>\n",
              "      <td>64885.0</td>\n",
              "      <td>2590322.27</td>\n",
              "      <td>5478.0</td>\n",
              "    </tr>\n",
              "    <tr>\n",
              "      <td>6</td>\n",
              "      <td>smart</td>\n",
              "      <td>7</td>\n",
              "      <td>smart7</td>\n",
              "      <td>82079.0</td>\n",
              "      <td>3164373.22</td>\n",
              "      <td>6784.0</td>\n",
              "    </tr>\n",
              "    <tr>\n",
              "      <td>7</td>\n",
              "      <td>smart</td>\n",
              "      <td>8</td>\n",
              "      <td>smart8</td>\n",
              "      <td>99045.0</td>\n",
              "      <td>3903519.22</td>\n",
              "      <td>7905.0</td>\n",
              "    </tr>\n",
              "    <tr>\n",
              "      <td>8</td>\n",
              "      <td>smart</td>\n",
              "      <td>9</td>\n",
              "      <td>smart9</td>\n",
              "      <td>111439.0</td>\n",
              "      <td>4238930.49</td>\n",
              "      <td>8746.0</td>\n",
              "    </tr>\n",
              "    <tr>\n",
              "      <td>9</td>\n",
              "      <td>smart</td>\n",
              "      <td>10</td>\n",
              "      <td>smart10</td>\n",
              "      <td>125284.0</td>\n",
              "      <td>4926594.13</td>\n",
              "      <td>9927.0</td>\n",
              "    </tr>\n",
              "    <tr>\n",
              "      <td>10</td>\n",
              "      <td>smart</td>\n",
              "      <td>11</td>\n",
              "      <td>smart11</td>\n",
              "      <td>137544.0</td>\n",
              "      <td>5339040.14</td>\n",
              "      <td>10768.0</td>\n",
              "    </tr>\n",
              "    <tr>\n",
              "      <td>11</td>\n",
              "      <td>smart</td>\n",
              "      <td>12</td>\n",
              "      <td>smart12</td>\n",
              "      <td>161275.0</td>\n",
              "      <td>6104304.11</td>\n",
              "      <td>12130.0</td>\n",
              "    </tr>\n",
              "    <tr>\n",
              "      <td>12</td>\n",
              "      <td>ultra</td>\n",
              "      <td>1</td>\n",
              "      <td>ultra1</td>\n",
              "      <td>3853.0</td>\n",
              "      <td>118266.13</td>\n",
              "      <td>304.0</td>\n",
              "    </tr>\n",
              "    <tr>\n",
              "      <td>13</td>\n",
              "      <td>ultra</td>\n",
              "      <td>2</td>\n",
              "      <td>ultra2</td>\n",
              "      <td>7131.0</td>\n",
              "      <td>282622.50</td>\n",
              "      <td>527.0</td>\n",
              "    </tr>\n",
              "    <tr>\n",
              "      <td>14</td>\n",
              "      <td>ultra</td>\n",
              "      <td>3</td>\n",
              "      <td>ultra3</td>\n",
              "      <td>18117.0</td>\n",
              "      <td>648815.36</td>\n",
              "      <td>1195.0</td>\n",
              "    </tr>\n",
              "    <tr>\n",
              "      <td>15</td>\n",
              "      <td>ultra</td>\n",
              "      <td>4</td>\n",
              "      <td>ultra4</td>\n",
              "      <td>25191.0</td>\n",
              "      <td>925547.39</td>\n",
              "      <td>1736.0</td>\n",
              "    </tr>\n",
              "    <tr>\n",
              "      <td>16</td>\n",
              "      <td>ultra</td>\n",
              "      <td>5</td>\n",
              "      <td>ultra5</td>\n",
              "      <td>34192.0</td>\n",
              "      <td>1297331.25</td>\n",
              "      <td>2536.0</td>\n",
              "    </tr>\n",
              "    <tr>\n",
              "      <td>17</td>\n",
              "      <td>ultra</td>\n",
              "      <td>6</td>\n",
              "      <td>ultra6</td>\n",
              "      <td>40295.0</td>\n",
              "      <td>1589694.90</td>\n",
              "      <td>3505.0</td>\n",
              "    </tr>\n",
              "    <tr>\n",
              "      <td>18</td>\n",
              "      <td>ultra</td>\n",
              "      <td>7</td>\n",
              "      <td>ultra7</td>\n",
              "      <td>49667.0</td>\n",
              "      <td>1865105.53</td>\n",
              "      <td>4536.0</td>\n",
              "    </tr>\n",
              "    <tr>\n",
              "      <td>19</td>\n",
              "      <td>ultra</td>\n",
              "      <td>8</td>\n",
              "      <td>ultra8</td>\n",
              "      <td>54653.0</td>\n",
              "      <td>2094637.85</td>\n",
              "      <td>5183.0</td>\n",
              "    </tr>\n",
              "    <tr>\n",
              "      <td>20</td>\n",
              "      <td>ultra</td>\n",
              "      <td>9</td>\n",
              "      <td>ultra9</td>\n",
              "      <td>62036.0</td>\n",
              "      <td>2208491.87</td>\n",
              "      <td>6013.0</td>\n",
              "    </tr>\n",
              "    <tr>\n",
              "      <td>21</td>\n",
              "      <td>ultra</td>\n",
              "      <td>10</td>\n",
              "      <td>ultra10</td>\n",
              "      <td>68644.0</td>\n",
              "      <td>2465576.49</td>\n",
              "      <td>7187.0</td>\n",
              "    </tr>\n",
              "    <tr>\n",
              "      <td>22</td>\n",
              "      <td>ultra</td>\n",
              "      <td>11</td>\n",
              "      <td>ultra11</td>\n",
              "      <td>72545.0</td>\n",
              "      <td>2651432.87</td>\n",
              "      <td>7476.0</td>\n",
              "    </tr>\n",
              "    <tr>\n",
              "      <td>23</td>\n",
              "      <td>ultra</td>\n",
              "      <td>12</td>\n",
              "      <td>ultra12</td>\n",
              "      <td>82400.0</td>\n",
              "      <td>3029250.99</td>\n",
              "      <td>8425.0</td>\n",
              "    </tr>\n",
              "  </tbody>\n",
              "</table>\n",
              "</div>"
            ],
            "text/plain": [
              "   tariff  month tariff_month  calls_sum  internet_sum  messages_sum\n",
              "0   smart      1       smart1     6931.0     289466.40         620.0\n",
              "1   smart      2       smart2    17324.0     672629.15        1397.0\n",
              "2   smart      3       smart3    30034.0    1163020.25        2453.0\n",
              "3   smart      4       smart4    41119.0    1507764.23        3443.0\n",
              "4   smart      5       smart5    54618.0    2228530.99        4762.0\n",
              "5   smart      6       smart6    64885.0    2590322.27        5478.0\n",
              "6   smart      7       smart7    82079.0    3164373.22        6784.0\n",
              "7   smart      8       smart8    99045.0    3903519.22        7905.0\n",
              "8   smart      9       smart9   111439.0    4238930.49        8746.0\n",
              "9   smart     10      smart10   125284.0    4926594.13        9927.0\n",
              "10  smart     11      smart11   137544.0    5339040.14       10768.0\n",
              "11  smart     12      smart12   161275.0    6104304.11       12130.0\n",
              "12  ultra      1       ultra1     3853.0     118266.13         304.0\n",
              "13  ultra      2       ultra2     7131.0     282622.50         527.0\n",
              "14  ultra      3       ultra3    18117.0     648815.36        1195.0\n",
              "15  ultra      4       ultra4    25191.0     925547.39        1736.0\n",
              "16  ultra      5       ultra5    34192.0    1297331.25        2536.0\n",
              "17  ultra      6       ultra6    40295.0    1589694.90        3505.0\n",
              "18  ultra      7       ultra7    49667.0    1865105.53        4536.0\n",
              "19  ultra      8       ultra8    54653.0    2094637.85        5183.0\n",
              "20  ultra      9       ultra9    62036.0    2208491.87        6013.0\n",
              "21  ultra     10      ultra10    68644.0    2465576.49        7187.0\n",
              "22  ultra     11      ultra11    72545.0    2651432.87        7476.0\n",
              "23  ultra     12      ultra12    82400.0    3029250.99        8425.0"
            ]
          },
          "execution_count": 30,
          "metadata": {},
          "output_type": "execute_result"
        }
      ],
      "source": [
        "# Сколько минут разговора, сколько сообщений и какой объём интернет-трафика требуется пользователям каждого тарифа в месяц\n",
        "\n",
        "table_was_used_tariff_sum = table_was_used_tariff\\\n",
        "    .merge(table_was_used.groupby('tariff_month').agg({'calls':['sum'], 'internet':['sum'], 'messages':['sum']}), on = 'tariff_month', how = 'left')\n",
        "table_was_used_tariff_sum.columns = ['tariff', 'month', 'tariff_month', 'calls_sum', 'internet_sum', 'messages_sum']\n",
        "table_was_used_tariff_sum"
      ]
    },
    {
      "cell_type": "code",
      "execution_count": null,
      "metadata": {
        "id": "HaTneWTf9L20",
        "outputId": "36dcf049-f33e-4c91-fb70-a9352db7f953"
      },
      "outputs": [
        {
          "data": {
            "text/plain": [
              "<matplotlib.legend.Legend at 0x7fdc96dfa490>"
            ]
          },
          "execution_count": 32,
          "metadata": {},
          "output_type": "execute_result"
        },
        {
          "data": {
            "image/png": "[encoded data removed]",
            "text/plain": [
              "<Figure size 432x288 with 1 Axes>"
            ]
          },
          "metadata": {
            "needs_background": "light"
          },
          "output_type": "display_data"
        }
      ],
      "source": [
        "t_calls = table_was_used[['tariff', 'calls']]\n",
        "t_calls[t_calls['tariff'] == 'smart']['calls'].hist(bins=100, alpha=0.5, label='smart')\n",
        "t_calls[t_calls['tariff'] == 'ultra']['calls'].hist(bins=100, alpha=0.5, label='ultra')\n",
        "plt.title(\"распределение объема потраченных минут\")\n",
        "plt.legend()"
      ]
    },
    {
      "cell_type": "markdown",
      "metadata": {
        "id": "CJjhL4mO9L20"
      },
      "source": [
        "<div class=\"alert alert-block alert-info\">\n",
        "пик клиентов тарифа смарт по колличеству звонков находится левее, относительно пика клиентов тарифа ультра, \n",
        "что соответствует идеологии тарифного плана. Однако можно заметить, что практически половина клиентов тарифа смарт расходуют \n",
        "выделенные минуты и докупают дополнительные. А клиенты тарифа ультра во всех случаях расходуют менее выделенного тарифом объема, \n",
        "причем около 90% не используют более 1000 минут. Разница в высоте гистограмм объясняется разной подошевой распределения и\n",
        "количеством клиентов.\n",
        "</div>"
      ]
    },
    {
      "cell_type": "code",
      "execution_count": null,
      "metadata": {
        "id": "ZiXIsZWo9L21",
        "outputId": "823995bc-131e-464e-867e-ba28a95b69d6"
      },
      "outputs": [
        {
          "data": {
            "text/plain": [
              "<matplotlib.legend.Legend at 0x7fdc8ed82310>"
            ]
          },
          "execution_count": 34,
          "metadata": {},
          "output_type": "execute_result"
        },
        {
          "data": {
            "image/png": "[encoded data removed]",
            "text/plain": [
              "<Figure size 432x288 with 1 Axes>"
            ]
          },
          "metadata": {
            "needs_background": "light"
          },
          "output_type": "display_data"
        }
      ],
      "source": [
        "t_internet = table_was_used[['tariff', 'internet']]\n",
        "t_internet[t_internet['tariff'] == 'smart']['internet'].hist(bins=100, alpha=0.5, label='smart')\n",
        "t_internet[t_internet['tariff'] == 'ultra']['internet'].hist(bins=100, alpha=0.5, label='ultra')\n",
        "plt.title(\"распределение объема потраченных гб\")\n",
        "plt.legend()"
      ]
    },
    {
      "cell_type": "markdown",
      "metadata": {
        "id": "HBfHnGJh9L21"
      },
      "source": [
        "<div class=\"alert alert-block alert-info\">\n",
        "пик клиентов тарифа смарт по колличеству звонков находится слегка правее, относительно пика клиентов тарифа ультра, \n",
        "что не соответствует идеологии тарифного плана. Клиенты обоих тарифов склонны значительно выходить за рамки выделенного трафика. \n",
        "Разница в высоте гистограмм объясняется разным количеством клиентов. Интересно, что в этом случае подошева распределения \n",
        "тарифов имеет схожий размер.\n",
        "  </div>"
      ]
    },
    {
      "cell_type": "code",
      "execution_count": null,
      "metadata": {
        "id": "utmlON6I9L22",
        "outputId": "2d800f19-e503-46e8-b2dd-5dfd9675ca51"
      },
      "outputs": [
        {
          "data": {
            "text/plain": [
              "<matplotlib.legend.Legend at 0x7fdc99be1750>"
            ]
          },
          "execution_count": 36,
          "metadata": {},
          "output_type": "execute_result"
        },
        {
          "data": {
            "image/png": "[encoded data removed]",
            "text/plain": [
              "<Figure size 432x288 with 1 Axes>"
            ]
          },
          "metadata": {
            "needs_background": "light"
          },
          "output_type": "display_data"
        }
      ],
      "source": [
        "t_messages = table_was_used[['tariff', 'messages']]\n",
        "t_messages[t_messages['tariff'] == 'smart']['messages'].hist(bins=100, alpha=0.5, label='smart')\n",
        "t_messages[t_messages['tariff'] == 'ultra']['messages'].hist(bins=100, alpha=0.5, label='ultra')\n",
        "plt.title(\"распределение объема потраченных сообщений\")\n",
        "plt.legend()"
      ]
    },
    {
      "cell_type": "code",
      "execution_count": null,
      "metadata": {
        "id": "f2bGqvYz9L22",
        "outputId": "04d5f5a7-a046-4824-d370-ab0fc8917e0d"
      },
      "outputs": [
        {
          "data": {
            "text/plain": [
              "<matplotlib.legend.Legend at 0x7fdc8ea8f410>"
            ]
          },
          "execution_count": 37,
          "metadata": {},
          "output_type": "execute_result"
        },
        {
          "data": {
            "image/png": "[encoded data removed]",
            "text/plain": [
              "<Figure size 432x288 with 1 Axes>"
            ]
          },
          "metadata": {
            "needs_background": "light"
          },
          "output_type": "display_data"
        }
      ],
      "source": [
        "# изз-за пика в 0 трудно разобрать остальную картинку, попробую его убрать\n",
        "\n",
        "t_messages = t_messages[t_messages.messages > 0]\n",
        "t_messages[t_messages['tariff'] == 'smart']['messages'].hist(bins=100, alpha=0.5, label='smart')\n",
        "t_messages[t_messages['tariff'] == 'ultra']['messages'].hist(bins=100, alpha=0.5, label='ultra')\n",
        "plt.title(\"распределение объема потраченных сообщений\")\n",
        "plt.legend()"
      ]
    },
    {
      "cell_type": "markdown",
      "metadata": {
        "id": "Ibv3HDIb9L22"
      },
      "source": [
        "<div class=\"alert alert-block alert-info\">\n",
        "Оба пика распределений оказались в нуле, что свидетельствует о непопулярности смс сообщений. Клиенты тарифа смарт склонны  выходить за рамки. В то время, как клиенты ультры не расхудуют всего объема (не более 230 из 1000).\n",
        "Разница в высоте гистограмм практически отсутствует. Эти распределения меньше всего похожи на нормальные и смещены к нулю.\n",
        "</div>"
      ]
    },
    {
      "cell_type": "code",
      "execution_count": null,
      "metadata": {
        "id": "rlTZUoiV9L23",
        "outputId": "13a617e5-ab58-4336-d868-c5e7e5addee5"
      },
      "outputs": [
        {
          "name": "stdout",
          "output_type": "stream",
          "text": [
            "             calls                           \n",
            "              mean            var         std\n",
            "tariff                                       \n",
            "smart   417.747534   36281.393836  190.476754\n",
            "ultra   526.089249  101052.493549  317.887549\n",
            "            internet                            \n",
            "                mean           var           std\n",
            "tariff                                          \n",
            "smart   16201.118655  3.456484e+07   5879.187315\n",
            "ultra   19449.059970  1.020321e+08  10101.095459\n",
            "         messages                        \n",
            "             mean          var        std\n",
            "tariff                                   \n",
            "smart   33.369058   796.955256  28.230396\n",
            "ultra   49.313387  2285.417425  47.806040\n"
          ]
        }
      ],
      "source": [
        "print(table_was_used.groupby('tariff').agg({'calls': ['mean','var','std']}))\n",
        "print(table_was_used.groupby('tariff').agg({'internet': ['mean','var','std']}))\n",
        "print(table_was_used.groupby('tariff').agg({'messages': ['mean','var','std']}))"
      ]
    },
    {
      "cell_type": "markdown",
      "source": [
        "Средние значения тарифа смарт наже средних тарифа ультра, что вполне логично. Интересно, что средние значения по тарифу ультра не далеко уходят от лимотов тарифа смарт, а значит многим пользователям чтоит рассмотреть смену тарифа, для экономии средств. Среднее значение использованного интренета пользователями немного выше, влюченого в пакет, лимита. \n",
        "Диапазон расброса значений, согласно дисперсии и стандартному отклонению по всем услугам в тарифе ильтра значительно больше, чем в тарифе смарт. Интересно, что если сложить среднее значение и стандартное отклонения, то значения по всем услугам для тарифа смарт будут выше включенного лимита, а для тарифа ультра ниже. Вывод: пользователям было бы удобнее иметь нечто среднее между двумя тарифами, что не выгодно для компании."
      ],
      "metadata": {
        "id": "6o1cdu3h_ECw"
      }
    },
    {
      "cell_type": "markdown",
      "metadata": {
        "id": "agh4O9Rb9L24"
      },
      "source": [
        "\n",
        "## Проверьте гипотезы\n",
        "\n",
        "средняя выручка пользователей тарифов «Ультра» и «Смарт» различаются;\n",
        "\n",
        "средняя выручка пользователей из Москвы отличается от выручки пользователей из других регионов.\n",
        "\n",
        "Гипотезы буду выстраивать исходя от знака \"=\", который обычно применяется в нулевой гипотизе."
      ]
    },
    {
      "cell_type": "code",
      "execution_count": null,
      "metadata": {
        "id": "w44Bz1Cs9L24",
        "outputId": "0336fd35-4308-498b-a479-795d45612358"
      },
      "outputs": [
        {
          "name": "stdout",
          "output_type": "stream",
          "text": [
            "p-значение:  2.856684190356323e-107\n",
            "Отвергаем нулевую гипотезу 'средняя выручка пользователей тарифов «Ультра» и «Смарт» равна'\n"
          ]
        }
      ],
      "source": [
        "# Нулевая гипотеза: средняя выручка пользователей тарифов «Ультра» и «Смарт» равна\n",
        "# Альтернативная гипотеза: средняя выручка пользователей тарифов «Ультра» и «Смарт» различается\n",
        "\n",
        "from scipy import stats as st\n",
        "sample_ultra = table_was_used[table_was_used['tariff'] == 'ultra']['pay']\n",
        "sample_smart = table_was_used[table_was_used['tariff'] == 'smart']['pay']\n",
        "results = st.ttest_ind(sample_ultra, sample_smart, equal_var = False)\n",
        "\n",
        "print('p-значение: ', results.pvalue)\n",
        "if results.pvalue < 0.05:\n",
        "    print(\"Отвергаем нулевую гипотезу 'средняя выручка пользователей тарифов «Ультра» и «Смарт» равна'\")\n",
        "else:\n",
        "    print(\"Не получилось отвергнуть нулевую гипотезу\") "
      ]
    },
    {
      "cell_type": "code",
      "execution_count": null,
      "metadata": {
        "id": "zDIn2hpq9L24",
        "outputId": "31e1af76-bb1b-4b3a-c71e-ea4e04745bf6"
      },
      "outputs": [
        {
          "name": "stdout",
          "output_type": "stream",
          "text": [
            "p-значение:  0.024590475061499823\n",
            "Отвергаем нулевую гипотезу 'средняя выручка пользователей из Москвы не отличается от выручки пользователей из других регионов'\n"
          ]
        }
      ],
      "source": [
        "# Нулевая гипотеза: 'средняя выручка пользователей из Москвы не отличается от выручки пользователей из других регионов\n",
        "# редняя выручка пользователей из Москвы отличается от выручки пользователей из других регионов\n",
        "\n",
        "from scipy import stats as st\n",
        "sample_ultra = table_was_used[table_was_used['city'] == 'Москва']['pay']\n",
        "sample_smart = table_was_used[table_was_used['city'] != 'Москва']['pay']\n",
        "results = st.ttest_ind(sample_ultra, sample_smart, equal_var = False)\n",
        "\n",
        "print('p-значение: ', results.pvalue)\n",
        "if results.pvalue < 0.05:\n",
        "    print(\"Отвергаем нулевую гипотезу 'средняя выручка пользователей из Москвы не отличается от выручки пользователей из других регионов'\")\n",
        "else:\n",
        "    print(\"Не получилось отвергнуть нулевую гипотезу\") "
      ]
    },
    {
      "cell_type": "markdown",
      "metadata": {
        "id": "WzhpiGsf9L25"
      },
      "source": [
        "Для проверки гипотиз взяла за alpha 5%, как стандартное значение. Однако стоит заметить, что даже значительные сдвиги порогового значения не привели бы к другим выводам."
      ]
    },
    {
      "cell_type": "markdown",
      "metadata": {
        "id": "f2cxIDV-9L25"
      },
      "source": [
        "## Вывод по работе\n",
        "\n",
        "Исследование получилось достаточно объемным, однако как по мне, не особенно информативным для фирм заказчиков. Такие фирмы чаще всего хотят знать более конкретные цифры и закономерности. Однако проделав всю работу, мне удалось в некоторой степени прочувствовать характер данных. Обнаружила некоторые интересные закономерности, как например нараслающие объемы используемых минут, сообщений и интернета. Это можно было бы связать с подключением большего колличества пользователей, однако средние значения вышеупомянутых величин тоже растут."
      ]
    },
    {
      "cell_type": "markdown",
      "metadata": {
        "id": "8MmD7zGG9L25"
      },
      "source": [
        "<div class=\"alert alert-block alert-info\">\n",
        "В заключении можно сказать , что характер поведения клиентов разных пакетов услуг часто различается (кроме ситуации с \n",
        "интернетом, к которой я вернусь в конце). Клиенты тарифа смарт склонны выходить за рамки предоставленных минут и смс. \n",
        "А клиенты тарифа ультра не в состоянии израсходовать предоставленные ресурсы. Они явно переплачивают и компания \n",
        "имеет с них большую часть дохода. В вопросе интернета все гораздо проще, что тем, что другим его сильно не хватает. \n",
        "Возможно оператору связи стоит пересмотреть твои тарифы для выпуска более оптимальных условий. С другой стороны все понимают,\n",
        "что расход трафика с каждым годом растет и предоставить нужное количество может быт проблематично, гораздо удобнее, \n",
        "когда пользователь просто доплачивают за перерасход.\n",
        "\n",
        "</div>"
      ]
    }
  ],
  "metadata": {
    "ExecuteTimeLog": [
      {
        "duration": 1193,
        "start_time": "2022-01-22T15:29:36.323Z"
      },
      {
        "duration": 298,
        "start_time": "2022-01-22T15:30:05.917Z"
      },
      {
        "duration": 777,
        "start_time": "2022-01-22T15:31:37.250Z"
      },
      {
        "duration": 14,
        "start_time": "2022-01-22T15:31:42.960Z"
      },
      {
        "duration": 22,
        "start_time": "2022-01-22T15:31:54.220Z"
      },
      {
        "duration": 13,
        "start_time": "2022-01-22T15:32:21.692Z"
      },
      {
        "duration": 12,
        "start_time": "2022-01-22T15:32:44.172Z"
      },
      {
        "duration": 19,
        "start_time": "2022-01-22T15:33:01.668Z"
      },
      {
        "duration": 11,
        "start_time": "2022-01-22T15:38:57.652Z"
      },
      {
        "duration": 10,
        "start_time": "2022-01-22T15:39:29.244Z"
      },
      {
        "duration": 17,
        "start_time": "2022-01-22T15:40:06.718Z"
      },
      {
        "duration": 15,
        "start_time": "2022-01-22T15:42:45.166Z"
      },
      {
        "duration": 18,
        "start_time": "2022-01-22T15:46:20.908Z"
      },
      {
        "duration": 9,
        "start_time": "2022-01-22T15:46:44.028Z"
      },
      {
        "duration": 7,
        "start_time": "2022-01-22T15:47:01.431Z"
      },
      {
        "duration": 5,
        "start_time": "2022-01-22T15:47:19.447Z"
      },
      {
        "duration": 9,
        "start_time": "2022-01-22T15:48:03.439Z"
      },
      {
        "duration": 10,
        "start_time": "2022-01-22T15:48:11.443Z"
      },
      {
        "duration": 19,
        "start_time": "2022-01-22T15:48:44.634Z"
      },
      {
        "duration": 10,
        "start_time": "2022-01-22T15:48:52.072Z"
      },
      {
        "duration": 1178,
        "start_time": "2022-01-22T15:48:56.575Z"
      },
      {
        "duration": 8,
        "start_time": "2022-01-22T15:48:57.756Z"
      },
      {
        "duration": 11,
        "start_time": "2022-01-22T15:49:40.671Z"
      },
      {
        "duration": 9,
        "start_time": "2022-01-22T15:49:48.142Z"
      },
      {
        "duration": 13,
        "start_time": "2022-01-22T15:50:21.739Z"
      },
      {
        "duration": 18,
        "start_time": "2022-01-22T15:50:31.516Z"
      },
      {
        "duration": 35,
        "start_time": "2022-01-22T15:52:28.875Z"
      },
      {
        "duration": 17,
        "start_time": "2022-01-22T15:53:05.142Z"
      },
      {
        "duration": 29,
        "start_time": "2022-01-22T15:53:50.915Z"
      },
      {
        "duration": 113,
        "start_time": "2022-01-22T15:55:21.213Z"
      },
      {
        "duration": 14,
        "start_time": "2022-01-22T15:55:35.351Z"
      },
      {
        "duration": 33,
        "start_time": "2022-01-22T15:55:50.498Z"
      },
      {
        "duration": 135,
        "start_time": "2022-01-22T15:56:49.691Z"
      },
      {
        "duration": 89,
        "start_time": "2022-01-22T15:59:03.728Z"
      },
      {
        "duration": 12,
        "start_time": "2022-01-22T16:03:06.833Z"
      },
      {
        "duration": 16,
        "start_time": "2022-01-22T16:03:11.045Z"
      },
      {
        "duration": 15,
        "start_time": "2022-01-22T16:07:40.672Z"
      },
      {
        "duration": 7,
        "start_time": "2022-01-22T16:08:19.278Z"
      },
      {
        "duration": 7,
        "start_time": "2022-01-22T16:08:25.674Z"
      },
      {
        "duration": 410,
        "start_time": "2022-01-22T16:09:16.866Z"
      },
      {
        "duration": 19,
        "start_time": "2022-01-22T16:09:29.092Z"
      },
      {
        "duration": 23,
        "start_time": "2022-01-22T16:10:25.430Z"
      },
      {
        "duration": 22,
        "start_time": "2022-01-22T16:10:38.268Z"
      },
      {
        "duration": 15,
        "start_time": "2022-01-22T16:17:31.043Z"
      },
      {
        "duration": 402,
        "start_time": "2022-01-22T16:21:08.268Z"
      },
      {
        "duration": 23,
        "start_time": "2022-01-22T16:21:31.617Z"
      },
      {
        "duration": 384,
        "start_time": "2022-01-22T16:21:50.416Z"
      },
      {
        "duration": 32,
        "start_time": "2022-01-22T16:25:11.008Z"
      },
      {
        "duration": 35,
        "start_time": "2022-01-22T16:25:25.211Z"
      },
      {
        "duration": 40,
        "start_time": "2022-01-22T16:25:41.493Z"
      },
      {
        "duration": 381,
        "start_time": "2022-01-22T16:28:29.832Z"
      },
      {
        "duration": 501,
        "start_time": "2022-01-22T16:28:39.532Z"
      },
      {
        "duration": 43,
        "start_time": "2022-01-22T16:28:49.052Z"
      },
      {
        "duration": 7,
        "start_time": "2022-01-22T16:28:59.060Z"
      },
      {
        "duration": 65,
        "start_time": "2022-01-22T16:29:47.444Z"
      },
      {
        "duration": 6,
        "start_time": "2022-01-22T16:29:48.952Z"
      },
      {
        "duration": 37,
        "start_time": "2022-01-22T16:30:30.825Z"
      },
      {
        "duration": 7,
        "start_time": "2022-01-22T16:30:31.730Z"
      },
      {
        "duration": 355,
        "start_time": "2022-01-22T16:30:45.191Z"
      },
      {
        "duration": 503,
        "start_time": "2022-01-22T16:32:34.356Z"
      },
      {
        "duration": 35,
        "start_time": "2022-01-22T16:32:55.963Z"
      },
      {
        "duration": 1167,
        "start_time": "2022-01-25T20:42:41.153Z"
      },
      {
        "duration": 100,
        "start_time": "2022-01-25T20:42:50.371Z"
      },
      {
        "duration": 85,
        "start_time": "2022-01-25T20:42:58.227Z"
      },
      {
        "duration": 79,
        "start_time": "2022-01-25T20:43:00.819Z"
      },
      {
        "duration": 12,
        "start_time": "2022-01-25T20:43:04.276Z"
      },
      {
        "duration": 8,
        "start_time": "2022-01-25T20:43:17.025Z"
      },
      {
        "duration": 512,
        "start_time": "2022-01-25T20:43:37.463Z"
      },
      {
        "duration": 7,
        "start_time": "2022-01-25T20:43:47.872Z"
      },
      {
        "duration": 364,
        "start_time": "2022-01-25T20:43:59.755Z"
      },
      {
        "duration": 7,
        "start_time": "2022-01-25T20:44:02.778Z"
      },
      {
        "duration": 36,
        "start_time": "2022-01-25T20:46:14.504Z"
      },
      {
        "duration": 10,
        "start_time": "2022-01-25T20:47:21.949Z"
      },
      {
        "duration": 215,
        "start_time": "2022-01-25T20:48:15.105Z"
      },
      {
        "duration": 6,
        "start_time": "2022-01-25T20:48:20.920Z"
      },
      {
        "duration": 31,
        "start_time": "2022-01-25T20:50:10.306Z"
      },
      {
        "duration": 212,
        "start_time": "2022-01-25T20:52:21.904Z"
      },
      {
        "duration": 36,
        "start_time": "2022-01-25T20:52:32.240Z"
      },
      {
        "duration": 21,
        "start_time": "2022-01-25T20:52:52.205Z"
      },
      {
        "duration": 9,
        "start_time": "2022-01-25T20:55:44.211Z"
      },
      {
        "duration": 12,
        "start_time": "2022-01-25T20:56:05.625Z"
      },
      {
        "duration": 5,
        "start_time": "2022-01-25T20:57:34.036Z"
      },
      {
        "duration": 353,
        "start_time": "2022-01-25T21:03:22.739Z"
      },
      {
        "duration": 241,
        "start_time": "2022-01-25T21:03:36.373Z"
      },
      {
        "duration": 260,
        "start_time": "2022-01-25T21:04:20.344Z"
      },
      {
        "duration": 5,
        "start_time": "2022-01-25T21:04:35.244Z"
      },
      {
        "duration": 56,
        "start_time": "2022-01-25T21:04:41.156Z"
      },
      {
        "duration": 239,
        "start_time": "2022-01-25T21:06:50.274Z"
      },
      {
        "duration": 9,
        "start_time": "2022-01-25T21:06:55.771Z"
      },
      {
        "duration": 58,
        "start_time": "2022-01-25T21:06:57.235Z"
      },
      {
        "duration": 5,
        "start_time": "2022-01-25T21:07:15.203Z"
      },
      {
        "duration": 240,
        "start_time": "2022-01-25T21:08:52.203Z"
      },
      {
        "duration": 26,
        "start_time": "2022-01-25T21:09:19.794Z"
      },
      {
        "duration": 237,
        "start_time": "2022-01-25T21:11:57.007Z"
      },
      {
        "duration": 51,
        "start_time": "2022-01-25T21:12:16.525Z"
      },
      {
        "duration": 251,
        "start_time": "2022-01-25T21:12:18.201Z"
      },
      {
        "duration": 13,
        "start_time": "2022-01-25T21:12:31.595Z"
      },
      {
        "duration": 33,
        "start_time": "2022-01-25T21:12:36.506Z"
      },
      {
        "duration": 25,
        "start_time": "2022-01-25T21:13:41.919Z"
      },
      {
        "duration": 13,
        "start_time": "2022-01-25T21:13:52.207Z"
      },
      {
        "duration": 63,
        "start_time": "2022-01-25T21:14:50.508Z"
      },
      {
        "duration": 17,
        "start_time": "2022-01-25T21:14:52.095Z"
      },
      {
        "duration": 6359,
        "start_time": "2022-01-25T21:16:26.614Z"
      },
      {
        "duration": 5,
        "start_time": "2022-01-25T21:16:39.603Z"
      },
      {
        "duration": 75,
        "start_time": "2022-01-25T21:17:02.598Z"
      },
      {
        "duration": 81,
        "start_time": "2022-01-25T21:17:14.423Z"
      },
      {
        "duration": 6478,
        "start_time": "2022-01-25T21:17:20.443Z"
      },
      {
        "duration": 15,
        "start_time": "2022-01-25T21:17:29.104Z"
      },
      {
        "duration": 1692,
        "start_time": "2022-01-25T21:17:39.899Z"
      },
      {
        "duration": 15,
        "start_time": "2022-01-25T21:19:26.456Z"
      },
      {
        "duration": 68,
        "start_time": "2022-01-25T21:21:08.028Z"
      },
      {
        "duration": 7,
        "start_time": "2022-01-25T21:21:19.231Z"
      },
      {
        "duration": 10,
        "start_time": "2022-01-25T21:21:58.370Z"
      },
      {
        "duration": 314,
        "start_time": "2022-01-25T21:22:22.738Z"
      },
      {
        "duration": 255,
        "start_time": "2022-01-25T21:23:03.073Z"
      },
      {
        "duration": 912,
        "start_time": "2022-01-25T21:23:49.054Z"
      },
      {
        "duration": 4,
        "start_time": "2022-01-25T21:25:47.796Z"
      },
      {
        "duration": 20,
        "start_time": "2022-01-25T21:25:50.119Z"
      },
      {
        "duration": 988,
        "start_time": "2022-01-25T21:26:29.223Z"
      },
      {
        "duration": 15,
        "start_time": "2022-01-25T21:27:56.563Z"
      },
      {
        "duration": 990,
        "start_time": "2022-01-25T21:28:42.563Z"
      },
      {
        "duration": 15,
        "start_time": "2022-01-25T21:28:58.108Z"
      },
      {
        "duration": 988,
        "start_time": "2022-01-25T21:28:59.542Z"
      },
      {
        "duration": 1180,
        "start_time": "2022-01-25T21:29:15.980Z"
      },
      {
        "duration": 1005,
        "start_time": "2022-01-25T21:29:37.331Z"
      },
      {
        "duration": 13,
        "start_time": "2022-01-25T21:29:47.655Z"
      },
      {
        "duration": 1024,
        "start_time": "2022-01-25T21:29:50.611Z"
      },
      {
        "duration": 1029,
        "start_time": "2022-01-25T21:30:23.448Z"
      },
      {
        "duration": 1007,
        "start_time": "2022-01-25T21:30:33.854Z"
      },
      {
        "duration": 13,
        "start_time": "2022-01-25T21:30:40.635Z"
      },
      {
        "duration": 1034,
        "start_time": "2022-01-25T21:30:41.863Z"
      },
      {
        "duration": 13,
        "start_time": "2022-01-25T21:31:00.719Z"
      },
      {
        "duration": 64,
        "start_time": "2022-01-25T21:31:01.825Z"
      },
      {
        "duration": 15,
        "start_time": "2022-01-25T21:31:07.811Z"
      },
      {
        "duration": 26,
        "start_time": "2022-01-25T21:32:01.215Z"
      },
      {
        "duration": 84,
        "start_time": "2022-01-25T21:33:13.013Z"
      },
      {
        "duration": 4214,
        "start_time": "2022-01-25T21:33:19.067Z"
      },
      {
        "duration": 4398,
        "start_time": "2022-01-25T21:33:31.599Z"
      },
      {
        "duration": 83,
        "start_time": "2022-01-25T21:33:45.528Z"
      },
      {
        "duration": 3667,
        "start_time": "2022-01-25T21:34:17.657Z"
      },
      {
        "duration": 4193,
        "start_time": "2022-01-25T21:34:28.891Z"
      },
      {
        "duration": 19,
        "start_time": "2022-01-25T21:34:34.404Z"
      },
      {
        "duration": 8,
        "start_time": "2022-01-25T21:35:18.631Z"
      },
      {
        "duration": 236,
        "start_time": "2022-01-25T21:35:27.950Z"
      },
      {
        "duration": 7,
        "start_time": "2022-01-25T21:35:34.696Z"
      },
      {
        "duration": 7,
        "start_time": "2022-01-25T21:35:43.543Z"
      },
      {
        "duration": 273,
        "start_time": "2022-01-25T21:35:48.519Z"
      },
      {
        "duration": 247,
        "start_time": "2022-01-25T21:35:51.039Z"
      },
      {
        "duration": 7,
        "start_time": "2022-01-25T21:35:56.119Z"
      },
      {
        "duration": 1014,
        "start_time": "2022-01-25T21:37:46.938Z"
      },
      {
        "duration": 1020,
        "start_time": "2022-01-25T21:38:20.479Z"
      },
      {
        "duration": 4197,
        "start_time": "2022-01-25T21:38:35.388Z"
      },
      {
        "duration": 997,
        "start_time": "2022-01-25T21:38:40.715Z"
      },
      {
        "duration": 4131,
        "start_time": "2022-01-25T21:38:54.589Z"
      },
      {
        "duration": 99,
        "start_time": "2022-01-25T21:38:58.722Z"
      },
      {
        "duration": 999,
        "start_time": "2022-01-25T21:40:28.151Z"
      },
      {
        "duration": 4305,
        "start_time": "2022-01-25T21:40:31.539Z"
      },
      {
        "duration": 99,
        "start_time": "2022-01-25T21:40:35.846Z"
      },
      {
        "duration": 1015,
        "start_time": "2022-01-25T21:41:05.975Z"
      },
      {
        "duration": 4063,
        "start_time": "2022-01-25T21:41:08.844Z"
      },
      {
        "duration": 98,
        "start_time": "2022-01-25T21:41:12.909Z"
      },
      {
        "duration": 4122,
        "start_time": "2022-01-25T21:41:39.785Z"
      },
      {
        "duration": 17,
        "start_time": "2022-01-25T21:41:47.315Z"
      },
      {
        "duration": 15,
        "start_time": "2022-01-25T21:42:19.391Z"
      },
      {
        "duration": 1093,
        "start_time": "2022-01-25T21:42:22.071Z"
      },
      {
        "duration": 13,
        "start_time": "2022-01-25T21:42:32.719Z"
      },
      {
        "duration": 321,
        "start_time": "2022-01-25T21:42:33.951Z"
      },
      {
        "duration": 13,
        "start_time": "2022-01-25T21:42:43.963Z"
      },
      {
        "duration": 77,
        "start_time": "2022-01-25T21:42:45.005Z"
      },
      {
        "duration": 14,
        "start_time": "2022-01-25T21:42:46.967Z"
      },
      {
        "duration": 8,
        "start_time": "2022-01-25T21:43:22.253Z"
      },
      {
        "duration": 87,
        "start_time": "2022-01-25T21:52:16.306Z"
      },
      {
        "duration": 9,
        "start_time": "2022-01-25T21:52:21.901Z"
      },
      {
        "duration": 6,
        "start_time": "2022-01-25T21:53:18.279Z"
      },
      {
        "duration": 16,
        "start_time": "2022-01-25T21:53:32.203Z"
      },
      {
        "duration": 8,
        "start_time": "2022-01-25T21:54:27.431Z"
      },
      {
        "duration": 11,
        "start_time": "2022-01-25T21:57:31.328Z"
      },
      {
        "duration": 241,
        "start_time": "2022-01-25T21:57:45.066Z"
      },
      {
        "duration": 236,
        "start_time": "2022-01-25T21:58:13.185Z"
      },
      {
        "duration": 234,
        "start_time": "2022-01-25T21:58:50.271Z"
      },
      {
        "duration": 237,
        "start_time": "2022-01-25T21:59:07.815Z"
      },
      {
        "duration": 656,
        "start_time": "2022-01-25T22:08:00.168Z"
      },
      {
        "duration": 230,
        "start_time": "2022-01-25T22:08:40.135Z"
      },
      {
        "duration": 248,
        "start_time": "2022-01-25T22:09:28.434Z"
      },
      {
        "duration": 234,
        "start_time": "2022-01-25T22:11:41.989Z"
      },
      {
        "duration": 233,
        "start_time": "2022-01-25T22:11:54.977Z"
      },
      {
        "duration": 4,
        "start_time": "2022-01-25T22:12:08.221Z"
      },
      {
        "duration": 13,
        "start_time": "2022-01-25T22:12:24.470Z"
      },
      {
        "duration": 70,
        "start_time": "2022-01-25T22:12:26.509Z"
      },
      {
        "duration": 11,
        "start_time": "2022-01-25T22:12:32.241Z"
      },
      {
        "duration": 9,
        "start_time": "2022-01-25T22:13:41.792Z"
      },
      {
        "duration": 18,
        "start_time": "2022-01-25T22:13:44.229Z"
      },
      {
        "duration": 83,
        "start_time": "2022-01-25T22:14:46.809Z"
      },
      {
        "duration": 10,
        "start_time": "2022-01-25T22:18:00.459Z"
      },
      {
        "duration": 28,
        "start_time": "2022-01-25T22:18:01.490Z"
      },
      {
        "duration": 1592,
        "start_time": "2022-01-25T22:18:16.306Z"
      },
      {
        "duration": 19,
        "start_time": "2022-01-25T22:18:22.689Z"
      },
      {
        "duration": 21,
        "start_time": "2022-01-25T22:18:37.746Z"
      },
      {
        "duration": 17,
        "start_time": "2022-01-25T22:18:44.252Z"
      },
      {
        "duration": 16,
        "start_time": "2022-01-25T22:19:51.204Z"
      },
      {
        "duration": 18,
        "start_time": "2022-01-25T22:19:59.982Z"
      },
      {
        "duration": 258,
        "start_time": "2022-01-25T22:20:25.969Z"
      },
      {
        "duration": 7,
        "start_time": "2022-01-25T22:20:36.185Z"
      },
      {
        "duration": 17,
        "start_time": "2022-01-25T22:20:59.034Z"
      },
      {
        "duration": 23,
        "start_time": "2022-01-25T22:21:35.106Z"
      },
      {
        "duration": 16,
        "start_time": "2022-01-25T22:22:17.913Z"
      },
      {
        "duration": 72,
        "start_time": "2022-01-25T22:22:18.737Z"
      },
      {
        "duration": 15,
        "start_time": "2022-01-25T22:22:27.689Z"
      },
      {
        "duration": 6,
        "start_time": "2022-01-25T22:22:44.661Z"
      },
      {
        "duration": 9,
        "start_time": "2022-01-25T22:23:33.491Z"
      },
      {
        "duration": 4,
        "start_time": "2022-01-25T22:23:47.609Z"
      },
      {
        "duration": 6,
        "start_time": "2022-01-25T22:23:57.770Z"
      },
      {
        "duration": 80,
        "start_time": "2022-01-25T22:25:53.835Z"
      },
      {
        "duration": 248,
        "start_time": "2022-01-25T22:26:00.942Z"
      },
      {
        "duration": 7,
        "start_time": "2022-01-25T22:26:21.685Z"
      },
      {
        "duration": 22,
        "start_time": "2022-01-25T22:26:41.448Z"
      },
      {
        "duration": 13,
        "start_time": "2022-01-25T22:28:17.288Z"
      },
      {
        "duration": 23,
        "start_time": "2022-01-25T22:28:20.742Z"
      },
      {
        "duration": 240,
        "start_time": "2022-01-25T22:30:13.397Z"
      },
      {
        "duration": 4,
        "start_time": "2022-01-25T22:30:41.308Z"
      },
      {
        "duration": 4,
        "start_time": "2022-01-25T22:31:15.761Z"
      },
      {
        "duration": 37,
        "start_time": "2022-01-25T22:31:17.128Z"
      },
      {
        "duration": 277,
        "start_time": "2022-01-25T22:31:36.298Z"
      },
      {
        "duration": 6,
        "start_time": "2022-01-25T22:37:35.460Z"
      },
      {
        "duration": 29,
        "start_time": "2022-01-25T22:37:44.187Z"
      },
      {
        "duration": 249,
        "start_time": "2022-01-25T22:41:31.064Z"
      },
      {
        "duration": 8,
        "start_time": "2022-01-25T22:41:38.223Z"
      },
      {
        "duration": 26,
        "start_time": "2022-01-25T22:41:39.899Z"
      },
      {
        "duration": 12,
        "start_time": "2022-01-25T22:42:37.348Z"
      },
      {
        "duration": 83,
        "start_time": "2022-01-25T22:42:39.349Z"
      },
      {
        "duration": 15,
        "start_time": "2022-01-25T22:42:40.239Z"
      },
      {
        "duration": 23,
        "start_time": "2022-01-25T22:42:47.524Z"
      },
      {
        "duration": 12,
        "start_time": "2022-01-25T22:43:07.632Z"
      },
      {
        "duration": 21,
        "start_time": "2022-01-25T22:43:10.412Z"
      },
      {
        "duration": 88,
        "start_time": "2022-01-25T22:46:18.048Z"
      },
      {
        "duration": 6,
        "start_time": "2022-01-25T22:46:37.819Z"
      },
      {
        "duration": 26,
        "start_time": "2022-01-25T22:46:40.143Z"
      },
      {
        "duration": 13,
        "start_time": "2022-01-25T22:48:52.021Z"
      },
      {
        "duration": 80,
        "start_time": "2022-01-25T22:48:52.827Z"
      },
      {
        "duration": 19,
        "start_time": "2022-01-25T22:48:53.599Z"
      },
      {
        "duration": 25,
        "start_time": "2022-01-25T22:48:55.423Z"
      },
      {
        "duration": 8,
        "start_time": "2022-01-25T22:52:59.435Z"
      },
      {
        "duration": 9,
        "start_time": "2022-01-25T22:54:09.223Z"
      },
      {
        "duration": 11,
        "start_time": "2022-01-25T22:54:24.095Z"
      },
      {
        "duration": 8,
        "start_time": "2022-01-25T22:54:31.999Z"
      },
      {
        "duration": 88,
        "start_time": "2022-01-25T22:54:56.383Z"
      },
      {
        "duration": 77,
        "start_time": "2022-01-25T22:55:01.536Z"
      },
      {
        "duration": 7,
        "start_time": "2022-01-25T22:55:10.191Z"
      },
      {
        "duration": 7,
        "start_time": "2022-01-25T22:55:23.359Z"
      },
      {
        "duration": 4,
        "start_time": "2022-01-25T22:59:25.861Z"
      },
      {
        "duration": 9,
        "start_time": "2022-01-25T23:00:33.699Z"
      },
      {
        "duration": 242,
        "start_time": "2022-01-25T23:01:06.463Z"
      },
      {
        "duration": 79,
        "start_time": "2022-01-25T23:02:04.691Z"
      },
      {
        "duration": 269,
        "start_time": "2022-01-25T23:02:11.523Z"
      },
      {
        "duration": 7,
        "start_time": "2022-01-25T23:03:06.027Z"
      },
      {
        "duration": 7,
        "start_time": "2022-01-25T23:03:19.788Z"
      },
      {
        "duration": 228,
        "start_time": "2022-01-25T23:03:59.353Z"
      },
      {
        "duration": 110,
        "start_time": "2022-01-25T23:04:17.926Z"
      },
      {
        "duration": 6,
        "start_time": "2022-01-25T23:04:22.555Z"
      },
      {
        "duration": 242,
        "start_time": "2022-01-25T23:04:35.648Z"
      },
      {
        "duration": 234,
        "start_time": "2022-01-25T23:04:55.521Z"
      },
      {
        "duration": 243,
        "start_time": "2022-01-25T23:05:09.507Z"
      },
      {
        "duration": 12,
        "start_time": "2022-01-25T23:06:19.074Z"
      },
      {
        "duration": 1013,
        "start_time": "2022-01-25T23:06:55.640Z"
      },
      {
        "duration": 1222,
        "start_time": "2022-01-25T23:07:30.742Z"
      },
      {
        "duration": 12,
        "start_time": "2022-01-25T23:07:34.620Z"
      },
      {
        "duration": 81,
        "start_time": "2022-01-25T23:07:39.339Z"
      },
      {
        "duration": 23,
        "start_time": "2022-01-25T23:07:48.798Z"
      },
      {
        "duration": 9,
        "start_time": "2022-01-25T23:09:01.409Z"
      },
      {
        "duration": 6,
        "start_time": "2022-01-25T23:09:13.406Z"
      },
      {
        "duration": 13,
        "start_time": "2022-01-25T23:09:15.810Z"
      },
      {
        "duration": 73,
        "start_time": "2022-01-25T23:09:16.813Z"
      },
      {
        "duration": 23,
        "start_time": "2022-01-25T23:09:20.475Z"
      },
      {
        "duration": 6,
        "start_time": "2022-01-25T23:10:51.592Z"
      },
      {
        "duration": 22,
        "start_time": "2022-01-25T23:10:52.297Z"
      },
      {
        "duration": 7,
        "start_time": "2022-01-25T23:11:11.320Z"
      },
      {
        "duration": 22,
        "start_time": "2022-01-25T23:11:12.339Z"
      },
      {
        "duration": 18,
        "start_time": "2022-01-25T23:15:05.784Z"
      },
      {
        "duration": 14,
        "start_time": "2022-01-25T23:15:07.022Z"
      },
      {
        "duration": 30,
        "start_time": "2022-01-25T23:17:55.022Z"
      },
      {
        "duration": 266,
        "start_time": "2022-01-25T23:20:02.110Z"
      },
      {
        "duration": 7,
        "start_time": "2022-01-25T23:20:12.414Z"
      },
      {
        "duration": 32,
        "start_time": "2022-01-25T23:20:17.794Z"
      },
      {
        "duration": 20,
        "start_time": "2022-01-25T23:22:35.928Z"
      },
      {
        "duration": 20,
        "start_time": "2022-01-25T23:24:28.534Z"
      },
      {
        "duration": 11,
        "start_time": "2022-01-25T23:25:32.141Z"
      },
      {
        "duration": 5,
        "start_time": "2022-01-25T23:26:18.182Z"
      },
      {
        "duration": 14,
        "start_time": "2022-01-25T23:27:50.022Z"
      },
      {
        "duration": 13,
        "start_time": "2022-01-25T23:27:55.376Z"
      },
      {
        "duration": 76,
        "start_time": "2022-01-25T23:30:10.465Z"
      },
      {
        "duration": 91,
        "start_time": "2022-01-25T23:30:33.745Z"
      },
      {
        "duration": 29,
        "start_time": "2022-01-25T23:30:51.474Z"
      },
      {
        "duration": 3,
        "start_time": "2022-01-25T23:38:39.849Z"
      },
      {
        "duration": 33,
        "start_time": "2022-01-25T23:39:18.031Z"
      },
      {
        "duration": 35,
        "start_time": "2022-01-25T23:39:38.617Z"
      },
      {
        "duration": 38,
        "start_time": "2022-01-25T23:40:07.003Z"
      },
      {
        "duration": 5,
        "start_time": "2022-01-25T23:41:02.570Z"
      },
      {
        "duration": 25,
        "start_time": "2022-01-25T23:41:04.380Z"
      },
      {
        "duration": 28,
        "start_time": "2022-01-25T23:41:26.574Z"
      },
      {
        "duration": 30,
        "start_time": "2022-01-25T23:41:43.442Z"
      },
      {
        "duration": 5,
        "start_time": "2022-01-25T23:41:51.260Z"
      },
      {
        "duration": 5,
        "start_time": "2022-01-25T23:41:55.882Z"
      },
      {
        "duration": 24,
        "start_time": "2022-01-25T23:41:59.543Z"
      },
      {
        "duration": 24,
        "start_time": "2022-01-25T23:42:27.438Z"
      },
      {
        "duration": 22,
        "start_time": "2022-01-25T23:42:43.458Z"
      },
      {
        "duration": 22,
        "start_time": "2022-01-25T23:43:05.824Z"
      },
      {
        "duration": 4,
        "start_time": "2022-01-25T23:47:05.025Z"
      },
      {
        "duration": 4,
        "start_time": "2022-01-25T23:50:50.512Z"
      },
      {
        "duration": 12,
        "start_time": "2022-01-25T23:50:56.225Z"
      },
      {
        "duration": 12,
        "start_time": "2022-01-25T23:51:41.719Z"
      },
      {
        "duration": 14,
        "start_time": "2022-01-25T23:52:19.051Z"
      },
      {
        "duration": 30,
        "start_time": "2022-01-25T23:56:39.916Z"
      },
      {
        "duration": 9,
        "start_time": "2022-01-25T23:57:10.151Z"
      },
      {
        "duration": 14,
        "start_time": "2022-01-25T23:57:29.397Z"
      },
      {
        "duration": 24,
        "start_time": "2022-01-25T23:58:39.896Z"
      },
      {
        "duration": 21,
        "start_time": "2022-01-25T23:58:56.777Z"
      },
      {
        "duration": 22,
        "start_time": "2022-01-25T23:59:16.482Z"
      },
      {
        "duration": 12,
        "start_time": "2022-01-25T23:59:23.139Z"
      },
      {
        "duration": 205,
        "start_time": "2022-01-26T00:00:08.218Z"
      },
      {
        "duration": 216,
        "start_time": "2022-01-26T00:00:22.648Z"
      },
      {
        "duration": 224,
        "start_time": "2022-01-26T00:00:49.703Z"
      },
      {
        "duration": 339,
        "start_time": "2022-01-26T00:01:00.524Z"
      },
      {
        "duration": 210,
        "start_time": "2022-01-26T00:01:13.759Z"
      },
      {
        "duration": 249,
        "start_time": "2022-01-26T00:01:30.611Z"
      },
      {
        "duration": 247,
        "start_time": "2022-01-26T00:01:53.473Z"
      },
      {
        "duration": 461,
        "start_time": "2022-01-26T00:03:24.213Z"
      },
      {
        "duration": 377,
        "start_time": "2022-01-26T00:04:00.357Z"
      },
      {
        "duration": 363,
        "start_time": "2022-01-26T00:04:17.064Z"
      },
      {
        "duration": 5881,
        "start_time": "2022-01-26T00:05:51.290Z"
      },
      {
        "duration": 232,
        "start_time": "2022-01-26T00:06:28.836Z"
      },
      {
        "duration": 203,
        "start_time": "2022-01-26T00:06:43.184Z"
      },
      {
        "duration": 207,
        "start_time": "2022-01-26T00:06:49.881Z"
      },
      {
        "duration": 231,
        "start_time": "2022-01-26T00:07:20.176Z"
      },
      {
        "duration": 196,
        "start_time": "2022-01-26T00:07:47.925Z"
      },
      {
        "duration": 198,
        "start_time": "2022-01-26T00:09:32.363Z"
      },
      {
        "duration": 207,
        "start_time": "2022-01-26T00:09:53.684Z"
      },
      {
        "duration": 5974,
        "start_time": "2022-01-26T00:10:49.753Z"
      },
      {
        "duration": 199,
        "start_time": "2022-01-26T00:11:06.663Z"
      },
      {
        "duration": 196,
        "start_time": "2022-01-26T00:11:24.658Z"
      },
      {
        "duration": 197,
        "start_time": "2022-01-26T00:11:27.332Z"
      },
      {
        "duration": 197,
        "start_time": "2022-01-26T00:12:20.266Z"
      },
      {
        "duration": 189,
        "start_time": "2022-01-26T00:12:22.576Z"
      },
      {
        "duration": 187,
        "start_time": "2022-01-26T00:12:24.820Z"
      },
      {
        "duration": 208,
        "start_time": "2022-01-26T00:13:16.420Z"
      },
      {
        "duration": 193,
        "start_time": "2022-01-26T00:13:18.662Z"
      },
      {
        "duration": 195,
        "start_time": "2022-01-26T00:13:20.572Z"
      },
      {
        "duration": 31,
        "start_time": "2022-01-26T00:18:28.018Z"
      },
      {
        "duration": 8,
        "start_time": "2022-01-26T00:19:17.827Z"
      },
      {
        "duration": 362,
        "start_time": "2022-01-26T00:22:40.702Z"
      },
      {
        "duration": 9,
        "start_time": "2022-01-26T00:24:21.516Z"
      },
      {
        "duration": 31,
        "start_time": "2022-01-26T00:25:17.633Z"
      },
      {
        "duration": 20,
        "start_time": "2022-01-26T00:25:41.443Z"
      },
      {
        "duration": 1018,
        "start_time": "2022-01-26T00:26:15.772Z"
      },
      {
        "duration": 13,
        "start_time": "2022-01-26T00:26:24.141Z"
      },
      {
        "duration": 80,
        "start_time": "2022-01-26T00:26:25.586Z"
      },
      {
        "duration": 17,
        "start_time": "2022-01-26T00:26:30.355Z"
      },
      {
        "duration": 14,
        "start_time": "2022-01-26T00:26:32.117Z"
      },
      {
        "duration": 33,
        "start_time": "2022-01-26T00:26:43.645Z"
      },
      {
        "duration": 10,
        "start_time": "2022-01-26T00:28:09.324Z"
      },
      {
        "duration": 473,
        "start_time": "2022-01-26T01:03:42.978Z"
      },
      {
        "duration": 1063,
        "start_time": "2022-02-03T12:13:33.324Z"
      },
      {
        "duration": 13,
        "start_time": "2022-02-03T12:13:34.388Z"
      },
      {
        "duration": 27,
        "start_time": "2022-02-03T12:13:34.403Z"
      },
      {
        "duration": 101,
        "start_time": "2022-02-03T12:13:34.432Z"
      },
      {
        "duration": 11,
        "start_time": "2022-02-03T12:13:34.536Z"
      },
      {
        "duration": 23,
        "start_time": "2022-02-03T12:13:34.548Z"
      },
      {
        "duration": 96,
        "start_time": "2022-02-03T12:13:34.573Z"
      },
      {
        "duration": 9,
        "start_time": "2022-02-03T12:13:34.672Z"
      },
      {
        "duration": 39,
        "start_time": "2022-02-03T12:13:34.684Z"
      },
      {
        "duration": 25,
        "start_time": "2022-02-03T12:13:34.725Z"
      },
      {
        "duration": 5,
        "start_time": "2022-02-03T12:13:34.752Z"
      },
      {
        "duration": 13,
        "start_time": "2022-02-03T12:13:34.759Z"
      },
      {
        "duration": 5,
        "start_time": "2022-02-03T12:13:34.774Z"
      },
      {
        "duration": 36,
        "start_time": "2022-02-03T12:13:34.781Z"
      },
      {
        "duration": 671,
        "start_time": "2022-02-03T12:13:34.819Z"
      },
      {
        "duration": 6,
        "start_time": "2022-02-03T12:13:35.491Z"
      },
      {
        "duration": 28,
        "start_time": "2022-02-03T12:13:35.498Z"
      },
      {
        "duration": 96,
        "start_time": "2022-02-03T12:13:35.528Z"
      },
      {
        "duration": 14,
        "start_time": "2022-02-03T12:13:35.626Z"
      },
      {
        "duration": 12,
        "start_time": "2022-02-03T12:13:35.641Z"
      },
      {
        "duration": 9,
        "start_time": "2022-02-03T12:13:35.654Z"
      },
      {
        "duration": 6,
        "start_time": "2022-02-03T12:13:35.664Z"
      },
      {
        "duration": 43,
        "start_time": "2022-02-03T12:13:35.672Z"
      },
      {
        "duration": 233,
        "start_time": "2022-02-03T12:13:35.717Z"
      },
      {
        "duration": 215,
        "start_time": "2022-02-03T12:13:35.952Z"
      },
      {
        "duration": 211,
        "start_time": "2022-02-03T12:13:36.169Z"
      },
      {
        "duration": 31,
        "start_time": "2022-02-03T12:13:36.382Z"
      },
      {
        "duration": 260,
        "start_time": "2022-02-03T12:13:36.415Z"
      },
      {
        "duration": 223,
        "start_time": "2022-02-03T12:13:36.677Z"
      },
      {
        "duration": 214,
        "start_time": "2022-02-03T12:13:36.902Z"
      },
      {
        "duration": 23,
        "start_time": "2022-02-03T12:13:37.118Z"
      },
      {
        "duration": 215,
        "start_time": "2022-02-03T12:13:37.143Z"
      },
      {
        "duration": 219,
        "start_time": "2022-02-03T12:13:37.360Z"
      },
      {
        "duration": 213,
        "start_time": "2022-02-03T12:13:37.581Z"
      },
      {
        "duration": 24,
        "start_time": "2022-02-03T12:13:37.796Z"
      },
      {
        "duration": 223,
        "start_time": "2022-02-03T12:13:37.822Z"
      },
      {
        "duration": 208,
        "start_time": "2022-02-03T12:13:38.047Z"
      },
      {
        "duration": 208,
        "start_time": "2022-02-03T12:13:38.257Z"
      },
      {
        "duration": 435,
        "start_time": "2022-02-03T12:13:38.467Z"
      },
      {
        "duration": 10,
        "start_time": "2022-02-03T12:13:38.904Z"
      },
      {
        "duration": 112,
        "start_time": "2022-02-03T13:10:19.553Z"
      },
      {
        "duration": 1695,
        "start_time": "2022-02-03T13:35:27.841Z"
      },
      {
        "duration": 14,
        "start_time": "2022-02-03T13:35:29.538Z"
      },
      {
        "duration": 27,
        "start_time": "2022-02-03T13:35:29.554Z"
      },
      {
        "duration": 93,
        "start_time": "2022-02-03T13:35:29.583Z"
      },
      {
        "duration": 12,
        "start_time": "2022-02-03T13:35:29.678Z"
      },
      {
        "duration": 40,
        "start_time": "2022-02-03T13:35:29.692Z"
      },
      {
        "duration": 87,
        "start_time": "2022-02-03T13:35:29.734Z"
      },
      {
        "duration": 10,
        "start_time": "2022-02-03T13:35:29.822Z"
      },
      {
        "duration": 14,
        "start_time": "2022-02-03T13:35:29.835Z"
      },
      {
        "duration": 29,
        "start_time": "2022-02-03T13:35:29.851Z"
      },
      {
        "duration": 33,
        "start_time": "2022-02-03T13:35:29.881Z"
      },
      {
        "duration": 13,
        "start_time": "2022-02-03T13:35:29.916Z"
      },
      {
        "duration": 9,
        "start_time": "2022-02-03T13:35:29.931Z"
      },
      {
        "duration": 11,
        "start_time": "2022-02-03T13:35:29.941Z"
      },
      {
        "duration": 662,
        "start_time": "2022-02-03T13:35:29.954Z"
      },
      {
        "duration": 6,
        "start_time": "2022-02-03T13:35:30.617Z"
      },
      {
        "duration": 25,
        "start_time": "2022-02-03T13:35:30.624Z"
      },
      {
        "duration": 111,
        "start_time": "2022-02-03T13:35:30.650Z"
      },
      {
        "duration": 15,
        "start_time": "2022-02-03T13:35:30.763Z"
      },
      {
        "duration": 13,
        "start_time": "2022-02-03T13:35:30.779Z"
      },
      {
        "duration": 23,
        "start_time": "2022-02-03T13:35:30.794Z"
      },
      {
        "duration": 10,
        "start_time": "2022-02-03T13:35:30.818Z"
      },
      {
        "duration": 27,
        "start_time": "2022-02-03T13:35:30.830Z"
      },
      {
        "duration": 228,
        "start_time": "2022-02-03T13:35:30.859Z"
      },
      {
        "duration": 220,
        "start_time": "2022-02-03T13:35:31.089Z"
      },
      {
        "duration": 218,
        "start_time": "2022-02-03T13:35:31.310Z"
      },
      {
        "duration": 22,
        "start_time": "2022-02-03T13:35:31.531Z"
      },
      {
        "duration": 269,
        "start_time": "2022-02-03T13:35:31.555Z"
      },
      {
        "duration": 219,
        "start_time": "2022-02-03T13:35:31.826Z"
      },
      {
        "duration": 213,
        "start_time": "2022-02-03T13:35:32.047Z"
      },
      {
        "duration": 22,
        "start_time": "2022-02-03T13:35:32.262Z"
      },
      {
        "duration": 221,
        "start_time": "2022-02-03T13:35:32.285Z"
      },
      {
        "duration": 231,
        "start_time": "2022-02-03T13:35:32.508Z"
      },
      {
        "duration": 209,
        "start_time": "2022-02-03T13:35:32.741Z"
      },
      {
        "duration": 14,
        "start_time": "2022-02-03T13:35:32.952Z"
      },
      {
        "duration": 218,
        "start_time": "2022-02-03T13:35:32.967Z"
      },
      {
        "duration": 209,
        "start_time": "2022-02-03T13:35:33.187Z"
      },
      {
        "duration": 217,
        "start_time": "2022-02-03T13:35:33.397Z"
      },
      {
        "duration": 393,
        "start_time": "2022-02-03T13:35:33.616Z"
      },
      {
        "duration": 10,
        "start_time": "2022-02-03T13:35:34.012Z"
      },
      {
        "duration": 1088,
        "start_time": "2022-02-06T16:10:58.947Z"
      },
      {
        "duration": 11,
        "start_time": "2022-02-06T16:11:02.147Z"
      },
      {
        "duration": 24,
        "start_time": "2022-02-06T16:11:05.479Z"
      },
      {
        "duration": 9,
        "start_time": "2022-02-06T16:11:39.111Z"
      },
      {
        "duration": 1320,
        "start_time": "2022-02-06T16:13:57.301Z"
      },
      {
        "duration": 1553,
        "start_time": "2022-02-06T16:15:10.257Z"
      },
      {
        "duration": 1314,
        "start_time": "2022-02-06T16:15:24.090Z"
      },
      {
        "duration": 104,
        "start_time": "2022-02-06T16:15:52.515Z"
      },
      {
        "duration": 14,
        "start_time": "2022-02-06T16:16:00.562Z"
      },
      {
        "duration": 12,
        "start_time": "2022-02-06T16:17:17.330Z"
      },
      {
        "duration": 322,
        "start_time": "2022-02-06T16:19:21.318Z"
      },
      {
        "duration": 309,
        "start_time": "2022-02-06T16:19:33.655Z"
      },
      {
        "duration": 322,
        "start_time": "2022-02-06T16:19:43.290Z"
      },
      {
        "duration": 672,
        "start_time": "2022-02-06T16:20:17.794Z"
      },
      {
        "duration": 316,
        "start_time": "2022-02-06T16:21:10.733Z"
      },
      {
        "duration": 4,
        "start_time": "2022-02-06T16:21:37.916Z"
      },
      {
        "duration": 4,
        "start_time": "2022-02-06T16:22:01.554Z"
      },
      {
        "duration": 82,
        "start_time": "2022-02-06T16:22:09.034Z"
      },
      {
        "duration": 344,
        "start_time": "2022-02-06T16:22:14.029Z"
      },
      {
        "duration": 4,
        "start_time": "2022-02-06T16:22:17.266Z"
      },
      {
        "duration": 344,
        "start_time": "2022-02-06T16:26:07.066Z"
      },
      {
        "duration": 26,
        "start_time": "2022-02-06T16:26:27.537Z"
      },
      {
        "duration": 361,
        "start_time": "2022-02-06T16:26:37.913Z"
      },
      {
        "duration": 7,
        "start_time": "2022-02-06T16:29:14.726Z"
      },
      {
        "duration": 5,
        "start_time": "2022-02-06T16:29:45.797Z"
      },
      {
        "duration": 15,
        "start_time": "2022-02-06T16:29:58.266Z"
      },
      {
        "duration": 9,
        "start_time": "2022-02-06T16:31:17.421Z"
      },
      {
        "duration": 117,
        "start_time": "2022-02-06T16:36:44.951Z"
      },
      {
        "duration": 480,
        "start_time": "2022-02-06T16:37:14.606Z"
      },
      {
        "duration": 9,
        "start_time": "2022-02-06T16:37:17.408Z"
      },
      {
        "duration": 80,
        "start_time": "2022-02-06T16:37:20.261Z"
      },
      {
        "duration": 9,
        "start_time": "2022-02-06T16:37:24.466Z"
      },
      {
        "duration": 11,
        "start_time": "2022-02-06T16:37:26.349Z"
      },
      {
        "duration": 69,
        "start_time": "2022-02-06T16:37:31.965Z"
      },
      {
        "duration": 13,
        "start_time": "2022-02-06T16:37:35.365Z"
      },
      {
        "duration": 24,
        "start_time": "2022-02-06T16:37:39.773Z"
      },
      {
        "duration": 6,
        "start_time": "2022-02-06T16:37:46.061Z"
      },
      {
        "duration": 9,
        "start_time": "2022-02-06T16:37:48.554Z"
      },
      {
        "duration": 575,
        "start_time": "2022-02-06T16:38:09.405Z"
      },
      {
        "duration": 6,
        "start_time": "2022-02-06T16:38:47.018Z"
      },
      {
        "duration": 14,
        "start_time": "2022-02-06T16:38:59.382Z"
      },
      {
        "duration": 96,
        "start_time": "2022-02-06T16:42:24.709Z"
      },
      {
        "duration": 21,
        "start_time": "2022-02-06T16:42:35.145Z"
      },
      {
        "duration": 15,
        "start_time": "2022-02-06T16:45:53.645Z"
      },
      {
        "duration": 5,
        "start_time": "2022-02-06T16:45:58.245Z"
      },
      {
        "duration": 9,
        "start_time": "2022-02-06T16:46:32.889Z"
      },
      {
        "duration": 1523,
        "start_time": "2022-02-06T16:48:03.943Z"
      },
      {
        "duration": 8116,
        "start_time": "2022-02-06T16:49:42.209Z"
      },
      {
        "duration": 4,
        "start_time": "2022-02-06T16:49:56.461Z"
      },
      {
        "duration": 13,
        "start_time": "2022-02-06T16:50:04.547Z"
      },
      {
        "duration": 10,
        "start_time": "2022-02-06T16:50:08.469Z"
      },
      {
        "duration": 73,
        "start_time": "2022-02-06T16:50:11.309Z"
      },
      {
        "duration": 1307,
        "start_time": "2022-02-06T16:54:54.893Z"
      },
      {
        "duration": 1310,
        "start_time": "2022-02-06T16:55:05.681Z"
      },
      {
        "duration": 12,
        "start_time": "2022-02-06T16:55:11.374Z"
      },
      {
        "duration": 10,
        "start_time": "2022-02-06T16:55:15.737Z"
      },
      {
        "duration": 3,
        "start_time": "2022-02-06T16:55:18.233Z"
      },
      {
        "duration": 72,
        "start_time": "2022-02-06T16:55:19.274Z"
      },
      {
        "duration": 12,
        "start_time": "2022-02-06T16:56:42.937Z"
      },
      {
        "duration": 12,
        "start_time": "2022-02-06T16:57:05.485Z"
      },
      {
        "duration": 14,
        "start_time": "2022-02-06T16:57:45.445Z"
      },
      {
        "duration": 11,
        "start_time": "2022-02-06T16:57:55.205Z"
      },
      {
        "duration": 4,
        "start_time": "2022-02-06T16:58:01.332Z"
      },
      {
        "duration": 74,
        "start_time": "2022-02-06T16:58:03.105Z"
      },
      {
        "duration": 14,
        "start_time": "2022-02-06T16:58:14.496Z"
      },
      {
        "duration": 8,
        "start_time": "2022-02-06T16:59:40.749Z"
      },
      {
        "duration": 4,
        "start_time": "2022-02-06T16:59:43.080Z"
      },
      {
        "duration": 20,
        "start_time": "2022-02-06T16:59:44.377Z"
      },
      {
        "duration": 6,
        "start_time": "2022-02-06T17:00:54.608Z"
      },
      {
        "duration": 4,
        "start_time": "2022-02-06T17:00:55.334Z"
      },
      {
        "duration": 20,
        "start_time": "2022-02-06T17:00:56.381Z"
      },
      {
        "duration": 29,
        "start_time": "2022-02-06T17:01:45.836Z"
      },
      {
        "duration": 4,
        "start_time": "2022-02-06T17:02:25.553Z"
      },
      {
        "duration": 32,
        "start_time": "2022-02-06T17:54:21.307Z"
      },
      {
        "duration": 20,
        "start_time": "2022-02-06T17:55:17.835Z"
      },
      {
        "duration": 14,
        "start_time": "2022-02-06T17:58:01.631Z"
      },
      {
        "duration": 113,
        "start_time": "2022-02-06T18:00:33.794Z"
      },
      {
        "duration": 181,
        "start_time": "2022-02-06T18:00:46.441Z"
      },
      {
        "duration": 209,
        "start_time": "2022-02-06T18:04:08.594Z"
      },
      {
        "duration": 500,
        "start_time": "2022-02-06T18:06:37.846Z"
      },
      {
        "duration": 954,
        "start_time": "2022-02-06T18:09:53.873Z"
      },
      {
        "duration": 516,
        "start_time": "2022-02-06T18:10:09.552Z"
      },
      {
        "duration": 893,
        "start_time": "2022-02-06T18:12:55.106Z"
      },
      {
        "duration": 776,
        "start_time": "2022-02-06T18:13:09.298Z"
      },
      {
        "duration": 744,
        "start_time": "2022-02-06T18:14:26.987Z"
      },
      {
        "duration": 445,
        "start_time": "2022-02-06T18:14:36.423Z"
      },
      {
        "duration": 603,
        "start_time": "2022-02-06T18:15:53.906Z"
      },
      {
        "duration": 537,
        "start_time": "2022-02-06T18:16:02.114Z"
      },
      {
        "duration": 544,
        "start_time": "2022-02-06T18:16:19.829Z"
      },
      {
        "duration": 635,
        "start_time": "2022-02-06T18:16:29.765Z"
      },
      {
        "duration": 524,
        "start_time": "2022-02-06T18:18:43.393Z"
      },
      {
        "duration": 538,
        "start_time": "2022-02-06T18:21:24.590Z"
      },
      {
        "duration": 17,
        "start_time": "2022-02-06T19:15:25.959Z"
      },
      {
        "duration": 1266,
        "start_time": "2022-02-06T19:18:34.933Z"
      },
      {
        "duration": 840,
        "start_time": "2022-02-06T19:19:15.570Z"
      },
      {
        "duration": 461,
        "start_time": "2022-02-06T19:19:47.926Z"
      },
      {
        "duration": 339,
        "start_time": "2022-02-06T19:20:16.004Z"
      },
      {
        "duration": 330,
        "start_time": "2022-02-06T19:20:39.237Z"
      },
      {
        "duration": 31,
        "start_time": "2022-02-06T19:24:12.594Z"
      },
      {
        "duration": 4,
        "start_time": "2022-02-06T19:25:02.062Z"
      },
      {
        "duration": 106,
        "start_time": "2022-02-06T19:25:23.862Z"
      },
      {
        "duration": 3,
        "start_time": "2022-02-06T19:25:28.842Z"
      },
      {
        "duration": 325,
        "start_time": "2022-02-06T19:27:07.758Z"
      },
      {
        "duration": 326,
        "start_time": "2022-02-06T19:27:35.722Z"
      },
      {
        "duration": 5,
        "start_time": "2022-02-06T19:28:26.288Z"
      },
      {
        "duration": 8,
        "start_time": "2022-02-06T19:30:52.422Z"
      },
      {
        "duration": 6,
        "start_time": "2022-02-06T19:31:11.486Z"
      },
      {
        "duration": 7,
        "start_time": "2022-02-06T19:32:53.211Z"
      },
      {
        "duration": 283,
        "start_time": "2022-02-06T19:40:04.298Z"
      },
      {
        "duration": 543,
        "start_time": "2022-02-06T19:40:08.534Z"
      },
      {
        "duration": 11,
        "start_time": "2022-02-06T19:40:24.582Z"
      },
      {
        "duration": 11,
        "start_time": "2022-02-06T19:41:14.346Z"
      },
      {
        "duration": 3,
        "start_time": "2022-02-06T19:46:33.674Z"
      },
      {
        "duration": 109,
        "start_time": "2022-02-06T19:56:23.725Z"
      },
      {
        "duration": 103,
        "start_time": "2022-02-06T19:59:54.021Z"
      },
      {
        "duration": 504,
        "start_time": "2022-02-06T20:07:46.344Z"
      },
      {
        "duration": 29,
        "start_time": "2022-02-06T20:11:17.976Z"
      },
      {
        "duration": 6,
        "start_time": "2022-02-06T20:12:10.128Z"
      },
      {
        "duration": 12,
        "start_time": "2022-02-06T20:12:11.428Z"
      },
      {
        "duration": 11,
        "start_time": "2022-02-06T20:12:14.987Z"
      },
      {
        "duration": 4,
        "start_time": "2022-02-06T20:12:26.629Z"
      },
      {
        "duration": 74,
        "start_time": "2022-02-06T20:12:27.520Z"
      },
      {
        "duration": 13,
        "start_time": "2022-02-06T20:12:29.216Z"
      },
      {
        "duration": 11,
        "start_time": "2022-02-06T20:12:32.108Z"
      },
      {
        "duration": 11,
        "start_time": "2022-02-06T20:12:35.628Z"
      },
      {
        "duration": 6,
        "start_time": "2022-02-06T20:12:38.260Z"
      },
      {
        "duration": 5,
        "start_time": "2022-02-06T20:12:38.884Z"
      },
      {
        "duration": 21,
        "start_time": "2022-02-06T20:12:39.388Z"
      },
      {
        "duration": 29,
        "start_time": "2022-02-06T20:12:54.143Z"
      },
      {
        "duration": 8155,
        "start_time": "2022-02-06T20:14:01.070Z"
      },
      {
        "duration": 1344,
        "start_time": "2022-02-06T20:15:27.807Z"
      },
      {
        "duration": 339,
        "start_time": "2022-02-06T20:15:52.602Z"
      },
      {
        "duration": 1256,
        "start_time": "2022-02-06T20:17:09.470Z"
      },
      {
        "duration": 519,
        "start_time": "2022-02-06T20:17:30.084Z"
      },
      {
        "duration": 335,
        "start_time": "2022-02-06T20:18:47.627Z"
      },
      {
        "duration": 347,
        "start_time": "2022-02-06T20:18:51.640Z"
      },
      {
        "duration": 339,
        "start_time": "2022-02-06T20:26:46.240Z"
      },
      {
        "duration": 108,
        "start_time": "2022-02-06T20:41:38.371Z"
      },
      {
        "duration": 144,
        "start_time": "2022-02-06T20:55:52.654Z"
      },
      {
        "duration": 1235,
        "start_time": "2022-02-07T12:52:38.862Z"
      },
      {
        "duration": 14,
        "start_time": "2022-02-07T12:52:40.100Z"
      },
      {
        "duration": 29,
        "start_time": "2022-02-07T12:52:40.117Z"
      },
      {
        "duration": 118,
        "start_time": "2022-02-07T12:52:40.148Z"
      },
      {
        "duration": 7,
        "start_time": "2022-02-07T12:52:40.268Z"
      },
      {
        "duration": 32,
        "start_time": "2022-02-07T12:52:40.277Z"
      },
      {
        "duration": 13,
        "start_time": "2022-02-07T12:52:40.311Z"
      },
      {
        "duration": 27,
        "start_time": "2022-02-07T12:52:40.327Z"
      },
      {
        "duration": 106,
        "start_time": "2022-02-07T12:52:40.357Z"
      },
      {
        "duration": 10,
        "start_time": "2022-02-07T12:52:40.464Z"
      },
      {
        "duration": 37,
        "start_time": "2022-02-07T12:52:40.476Z"
      },
      {
        "duration": 32,
        "start_time": "2022-02-07T12:52:40.515Z"
      },
      {
        "duration": 7,
        "start_time": "2022-02-07T12:52:40.549Z"
      },
      {
        "duration": 18,
        "start_time": "2022-02-07T12:52:40.558Z"
      },
      {
        "duration": 31,
        "start_time": "2022-02-07T12:52:40.578Z"
      },
      {
        "duration": 14,
        "start_time": "2022-02-07T12:52:40.611Z"
      },
      {
        "duration": 689,
        "start_time": "2022-02-07T12:52:40.627Z"
      },
      {
        "duration": 6,
        "start_time": "2022-02-07T12:52:41.317Z"
      },
      {
        "duration": 16,
        "start_time": "2022-02-07T12:52:41.325Z"
      },
      {
        "duration": 21,
        "start_time": "2022-02-07T12:52:41.343Z"
      },
      {
        "duration": 12,
        "start_time": "2022-02-07T12:52:41.366Z"
      },
      {
        "duration": 29,
        "start_time": "2022-02-07T12:52:41.380Z"
      },
      {
        "duration": 121,
        "start_time": "2022-02-07T12:52:41.414Z"
      },
      {
        "duration": 18,
        "start_time": "2022-02-07T12:52:41.537Z"
      },
      {
        "duration": 19,
        "start_time": "2022-02-07T12:52:41.557Z"
      },
      {
        "duration": 33,
        "start_time": "2022-02-07T12:52:41.578Z"
      },
      {
        "duration": 7,
        "start_time": "2022-02-07T12:52:41.613Z"
      },
      {
        "duration": 15,
        "start_time": "2022-02-07T12:52:41.622Z"
      },
      {
        "duration": 24,
        "start_time": "2022-02-07T12:52:41.639Z"
      },
      {
        "duration": 233,
        "start_time": "2022-02-07T12:52:41.665Z"
      },
      {
        "duration": 672,
        "start_time": "2022-02-07T12:52:41.900Z"
      },
      {
        "duration": 229,
        "start_time": "2022-02-07T12:52:42.573Z"
      },
      {
        "duration": 640,
        "start_time": "2022-02-07T12:52:42.808Z"
      },
      {
        "duration": 215,
        "start_time": "2022-02-07T12:52:43.450Z"
      },
      {
        "duration": 634,
        "start_time": "2022-02-07T12:52:43.667Z"
      },
      {
        "duration": 884,
        "start_time": "2022-02-07T12:52:44.308Z"
      },
      {
        "duration": 426,
        "start_time": "2022-02-07T12:52:45.195Z"
      },
      {
        "duration": 442,
        "start_time": "2022-02-07T12:52:45.624Z"
      },
      {
        "duration": 429,
        "start_time": "2022-02-07T12:52:46.069Z"
      },
      {
        "duration": 418,
        "start_time": "2022-02-07T12:52:46.501Z"
      },
      {
        "duration": 6,
        "start_time": "2022-02-07T12:52:46.921Z"
      },
      {
        "duration": 25,
        "start_time": "2022-02-07T12:52:46.929Z"
      },
      {
        "duration": 263,
        "start_time": "2022-02-07T12:52:46.956Z"
      },
      {
        "duration": 304,
        "start_time": "2022-02-07T12:52:47.221Z"
      },
      {
        "duration": 214,
        "start_time": "2022-02-07T12:52:47.527Z"
      },
      {
        "duration": 6,
        "start_time": "2022-02-07T12:52:47.743Z"
      },
      {
        "duration": 29,
        "start_time": "2022-02-07T12:52:47.751Z"
      },
      {
        "duration": 216,
        "start_time": "2022-02-07T12:52:47.781Z"
      },
      {
        "duration": 205,
        "start_time": "2022-02-07T12:52:47.999Z"
      },
      {
        "duration": 208,
        "start_time": "2022-02-07T12:52:48.208Z"
      },
      {
        "duration": 6,
        "start_time": "2022-02-07T12:52:48.418Z"
      },
      {
        "duration": 17,
        "start_time": "2022-02-07T12:52:48.426Z"
      },
      {
        "duration": 228,
        "start_time": "2022-02-07T12:52:48.445Z"
      },
      {
        "duration": 202,
        "start_time": "2022-02-07T12:52:48.675Z"
      },
      {
        "duration": 225,
        "start_time": "2022-02-07T12:52:48.879Z"
      },
      {
        "duration": 353,
        "start_time": "2022-02-07T12:52:49.107Z"
      },
      {
        "duration": 12,
        "start_time": "2022-02-07T12:52:49.462Z"
      },
      {
        "duration": 36,
        "start_time": "2022-02-07T13:02:47.441Z"
      },
      {
        "duration": 35,
        "start_time": "2022-02-07T13:12:28.789Z"
      },
      {
        "duration": 19,
        "start_time": "2022-02-07T13:12:54.209Z"
      },
      {
        "duration": 13,
        "start_time": "2022-02-07T13:13:23.838Z"
      },
      {
        "duration": 1093,
        "start_time": "2022-02-07T19:54:32.009Z"
      },
      {
        "duration": 94,
        "start_time": "2022-02-07T19:54:39.096Z"
      },
      {
        "duration": 13,
        "start_time": "2022-02-07T19:54:49.057Z"
      },
      {
        "duration": 78,
        "start_time": "2022-02-07T19:54:57.524Z"
      },
      {
        "duration": 30,
        "start_time": "2022-02-07T19:55:01.152Z"
      },
      {
        "duration": 10,
        "start_time": "2022-02-07T19:55:06.175Z"
      },
      {
        "duration": 633,
        "start_time": "2022-02-07T19:55:25.942Z"
      },
      {
        "duration": 7,
        "start_time": "2022-02-07T19:55:29.469Z"
      },
      {
        "duration": 11,
        "start_time": "2022-02-07T19:55:43.540Z"
      },
      {
        "duration": 18,
        "start_time": "2022-02-07T19:56:03.221Z"
      },
      {
        "duration": 857,
        "start_time": "2022-02-07T20:01:49.468Z"
      },
      {
        "duration": 309,
        "start_time": "2022-02-07T20:02:41.916Z"
      },
      {
        "duration": 9,
        "start_time": "2022-02-07T20:02:52.600Z"
      },
      {
        "duration": 276,
        "start_time": "2022-02-07T20:03:21.545Z"
      },
      {
        "duration": 10,
        "start_time": "2022-02-07T20:03:22.485Z"
      },
      {
        "duration": 289,
        "start_time": "2022-02-07T20:03:36.190Z"
      },
      {
        "duration": 14,
        "start_time": "2022-02-07T20:03:36.789Z"
      },
      {
        "duration": 4639,
        "start_time": "2022-02-07T20:03:49.815Z"
      },
      {
        "duration": -876,
        "start_time": "2022-02-07T20:03:55.331Z"
      },
      {
        "duration": 258,
        "start_time": "2022-02-07T20:04:00.340Z"
      },
      {
        "duration": 10,
        "start_time": "2022-02-07T20:04:01.384Z"
      },
      {
        "duration": 4,
        "start_time": "2022-02-07T20:06:26.367Z"
      },
      {
        "duration": 252,
        "start_time": "2022-02-07T20:06:27.904Z"
      },
      {
        "duration": 265,
        "start_time": "2022-02-07T20:07:44.252Z"
      },
      {
        "duration": 4,
        "start_time": "2022-02-07T20:07:51.304Z"
      },
      {
        "duration": 810,
        "start_time": "2022-02-07T20:07:54.771Z"
      },
      {
        "duration": 13,
        "start_time": "2022-02-07T20:08:06.413Z"
      },
      {
        "duration": 1404,
        "start_time": "2022-02-07T20:08:14.270Z"
      },
      {
        "duration": 17,
        "start_time": "2022-02-07T20:08:52.715Z"
      },
      {
        "duration": 12,
        "start_time": "2022-02-07T20:08:56.657Z"
      },
      {
        "duration": 72,
        "start_time": "2022-02-07T20:08:59.966Z"
      },
      {
        "duration": 14,
        "start_time": "2022-02-07T20:09:02.388Z"
      },
      {
        "duration": 13,
        "start_time": "2022-02-07T20:11:09.771Z"
      },
      {
        "duration": 32,
        "start_time": "2022-02-07T20:11:22.480Z"
      },
      {
        "duration": 12,
        "start_time": "2022-02-07T20:11:45.079Z"
      },
      {
        "duration": 12,
        "start_time": "2022-02-07T20:11:49.959Z"
      },
      {
        "duration": 11,
        "start_time": "2022-02-07T20:11:56.859Z"
      },
      {
        "duration": 5,
        "start_time": "2022-02-07T20:11:57.595Z"
      },
      {
        "duration": 24,
        "start_time": "2022-02-07T20:11:58.804Z"
      },
      {
        "duration": 696,
        "start_time": "2022-02-07T20:12:05.798Z"
      },
      {
        "duration": 192,
        "start_time": "2022-02-07T20:12:15.038Z"
      },
      {
        "duration": 618,
        "start_time": "2022-02-07T20:12:19.936Z"
      },
      {
        "duration": 12,
        "start_time": "2022-02-07T20:23:33.067Z"
      },
      {
        "duration": 16,
        "start_time": "2022-02-07T20:24:10.619Z"
      },
      {
        "duration": 23,
        "start_time": "2022-02-07T20:24:34.420Z"
      },
      {
        "duration": 389,
        "start_time": "2022-02-07T20:38:55.491Z"
      },
      {
        "duration": 1094,
        "start_time": "2022-02-08T09:55:46.885Z"
      },
      {
        "duration": 13,
        "start_time": "2022-02-08T09:55:47.981Z"
      },
      {
        "duration": 26,
        "start_time": "2022-02-08T09:55:47.997Z"
      },
      {
        "duration": 103,
        "start_time": "2022-02-08T09:55:48.025Z"
      },
      {
        "duration": 5,
        "start_time": "2022-02-08T09:55:48.130Z"
      },
      {
        "duration": 11,
        "start_time": "2022-02-08T09:55:48.136Z"
      },
      {
        "duration": 13,
        "start_time": "2022-02-08T09:55:48.148Z"
      },
      {
        "duration": 21,
        "start_time": "2022-02-08T09:55:48.163Z"
      },
      {
        "duration": 98,
        "start_time": "2022-02-08T09:55:48.186Z"
      },
      {
        "duration": 9,
        "start_time": "2022-02-08T09:55:48.285Z"
      },
      {
        "duration": 23,
        "start_time": "2022-02-08T09:55:48.295Z"
      },
      {
        "duration": 25,
        "start_time": "2022-02-08T09:55:48.320Z"
      },
      {
        "duration": 5,
        "start_time": "2022-02-08T09:55:48.346Z"
      },
      {
        "duration": 12,
        "start_time": "2022-02-08T09:55:48.353Z"
      },
      {
        "duration": 6,
        "start_time": "2022-02-08T09:55:48.366Z"
      },
      {
        "duration": 43,
        "start_time": "2022-02-08T09:55:48.374Z"
      },
      {
        "duration": 651,
        "start_time": "2022-02-08T09:55:48.419Z"
      },
      {
        "duration": 5,
        "start_time": "2022-02-08T09:55:49.072Z"
      },
      {
        "duration": 12,
        "start_time": "2022-02-08T09:55:49.079Z"
      },
      {
        "duration": 29,
        "start_time": "2022-02-08T09:55:49.093Z"
      },
      {
        "duration": 2,
        "start_time": "2022-02-08T09:55:49.124Z"
      },
      {
        "duration": 18,
        "start_time": "2022-02-08T09:55:49.128Z"
      },
      {
        "duration": 3,
        "start_time": "2022-02-08T09:55:49.149Z"
      },
      {
        "duration": 115,
        "start_time": "2022-02-08T09:55:49.154Z"
      },
      {
        "duration": 15,
        "start_time": "2022-02-08T09:55:49.271Z"
      },
      {
        "duration": 28,
        "start_time": "2022-02-08T09:55:49.287Z"
      },
      {
        "duration": 10,
        "start_time": "2022-02-08T09:55:49.317Z"
      },
      {
        "duration": 8,
        "start_time": "2022-02-08T09:55:49.329Z"
      },
      {
        "duration": 6,
        "start_time": "2022-02-08T09:55:49.339Z"
      },
      {
        "duration": 24,
        "start_time": "2022-02-08T09:55:49.347Z"
      },
      {
        "duration": 244,
        "start_time": "2022-02-08T09:55:49.372Z"
      },
      {
        "duration": 678,
        "start_time": "2022-02-08T09:55:49.617Z"
      },
      {
        "duration": 204,
        "start_time": "2022-02-08T09:55:50.296Z"
      },
      {
        "duration": 620,
        "start_time": "2022-02-08T09:55:50.502Z"
      },
      {
        "duration": 199,
        "start_time": "2022-02-08T09:55:51.124Z"
      },
      {
        "duration": 620,
        "start_time": "2022-02-08T09:55:51.325Z"
      },
      {
        "duration": 657,
        "start_time": "2022-02-08T09:55:51.947Z"
      },
      {
        "duration": 30,
        "start_time": "2022-02-08T09:55:52.606Z"
      },
      {
        "duration": 355,
        "start_time": "2022-02-08T09:55:52.637Z"
      },
      {
        "duration": 18,
        "start_time": "2022-02-08T09:55:52.994Z"
      }
    ],
    "kernelspec": {
      "display_name": "Python 3 (ipykernel)",
      "language": "python",
      "name": "python3"
    },
    "language_info": {
      "codemirror_mode": {
        "name": "ipython",
        "version": 3
      },
      "file_extension": ".py",
      "mimetype": "text/x-python",
      "name": "python",
      "nbconvert_exporter": "python",
      "pygments_lexer": "ipython3",
      "version": "3.9.5"
    },
    "toc": {
      "base_numbering": 1,
      "nav_menu": {},
      "number_sections": true,
      "sideBar": true,
      "skip_h1_title": true,
      "title_cell": "Table of Contents",
      "title_sidebar": "Contents",
      "toc_cell": false,
      "toc_position": {},
      "toc_section_display": true,
      "toc_window_display": false
    },
    "colab": {
      "provenance": [],
      "collapsed_sections": []
    }
  },
  "nbformat": 4,
  "nbformat_minor": 0
}