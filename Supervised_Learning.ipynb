{
  "cells": [
    {
      "cell_type": "markdown",
      "source": [
        "**Описание проекта**\n",
        "\n",
        "Из «Бета-Банка» стали уходить клиенты. Каждый месяц. Немного, но заметно. Банковские маркетологи посчитали: сохранять текущих клиентов дешевле, чем привлекать новых.\n",
        "\n",
        "Нужно спрогнозировать, уйдёт клиент из банка в ближайшее время или нет. Вам предоставлены исторические данные о поведении клиентов и расторжении договоров с банком.\n",
        "\n",
        "Постройте модель с предельно большим значением F1-меры. Чтобы сдать проект успешно, нужно довести метрику до 0.59. Проверьте F1-меру на тестовой выборке самостоятельно.\n",
        "\n",
        "Дополнительно измеряйте AUC-ROC, сравнивайте её значение с F1-мерой.\n",
        "Инструкция по выполнению проекта\n",
        "\n",
        "Загрузите и подготовьте данные. Поясните порядок действий.\n",
        "Исследуйте баланс классов, обучите модель без учёта дисбаланса. Кратко опишите выводы.\n",
        "\n",
        "Улучшите качество модели, учитывая дисбаланс классов. Обучите разные модели и найдите лучшую. Кратко опишите выводы.\n",
        "\n",
        "Проведите финальное тестирование.\n",
        "\n",
        "\n",
        "Описание данных\n",
        "\n",
        "  * RowNumber — индекс строки в данных\n",
        "  * CustomerId — уникальный идентификатор клиента\n",
        "  * Surname — фамилия\n",
        "  * CreditScore — кредитный рейтинг\n",
        "  * Geography — страна проживания\n",
        "  * Gender — пол\n",
        "  * Age — возраст\n",
        "  * Tenure — сколько лет человек является клиентом банка\n",
        "  * Balance — баланс на счёте\n",
        "  * NumOfProducts — количество продуктов банка, используемых клиентом\n",
        "  * HasCrCard — наличие кредитной карты\n",
        "  * IsActiveMember — активность клиента\n",
        "  * EstimatedSalary — предполагаемая зарплата\n",
        "\n",
        "Целевой признак: Exited — факт ухода клиента"
      ],
      "metadata": {
        "id": "yCBZkropGaip"
      }
    },
    {
      "cell_type": "markdown",
      "metadata": {
        "toc": true,
        "id": "0llpaFTgGZG5"
      },
      "source": [
        "<h1>Содержание<span class=\"tocSkip\"></span></h1>\n",
        "<div class=\"toc\"><ul class=\"toc-item\"><li><span><a href=\"#Подготовка-данных\" data-toc-modified-id=\"Подготовка-данных-1\"><span class=\"toc-item-num\">1&nbsp;&nbsp;</span>Подготовка данных</a></span></li><li><span><a href=\"#Исследование-задачи\" data-toc-modified-id=\"Исследование-задачи-2\"><span class=\"toc-item-num\">2&nbsp;&nbsp;</span>Исследование задачи</a></span></li><li><span><a href=\"#Борьба-с-дисбалансом\" data-toc-modified-id=\"Борьба-с-дисбалансом-3\"><span class=\"toc-item-num\">3&nbsp;&nbsp;</span>Борьба с дисбалансом</a></span></li><li><span><a href=\"#Тестирование-модели\" data-toc-modified-id=\"Тестирование-модели-4\"><span class=\"toc-item-num\">4&nbsp;&nbsp;</span>Тестирование модели</a></span><ul class=\"toc-item\"><li><ul class=\"toc-item\"><li><span><a href=\"#Итог:\" data-toc-modified-id=\"Итог:-4.0.1\"><span class=\"toc-item-num\">4.0.1&nbsp;&nbsp;</span>Итог:</a></span></li></ul></li></ul></li><li><span><a href=\"#Чек-лист-готовности-проекта\" data-toc-modified-id=\"Чек-лист-готовности-проекта-5\"><span class=\"toc-item-num\">5&nbsp;&nbsp;</span>Чек-лист готовности проекта</a></span></li></ul></div>"
      ]
    },
    {
      "cell_type": "markdown",
      "metadata": {
        "id": "LYHbkRJNGZG6"
      },
      "source": [
        "# Отток клиентов"
      ]
    },
    {
      "cell_type": "markdown",
      "metadata": {
        "id": "aVjrqpfLGZG8"
      },
      "source": [
        "## Подготовка данных"
      ]
    },
    {
      "cell_type": "code",
      "execution_count": null,
      "metadata": {
        "id": "RUAWDEoJGZG8"
      },
      "outputs": [],
      "source": [
        "import pandas as pd\n",
        "import numpy as np\n",
        "from sklearn.preprocessing import StandardScaler\n",
        "from sklearn.model_selection import train_test_split\n",
        "from sklearn.metrics import confusion_matrix\n",
        "from sklearn.metrics import precision_score\n",
        "from sklearn.metrics import recall_score\n",
        "from sklearn.metrics import f1_score\n",
        "from sklearn.metrics import roc_curve\n",
        "import matplotlib.pyplot as plt\n",
        "from sklearn.metrics import roc_auc_score\n",
        "from sklearn.metrics import r2_score\n",
        "from sklearn.metrics import mean_absolute_error\n",
        "from sklearn.utils import shuffle\n",
        "from sklearn.linear_model import LogisticRegression\n",
        "from sklearn.ensemble import RandomForestClassifier"
      ]
    },
    {
      "cell_type": "code",
      "execution_count": null,
      "metadata": {
        "id": "qo3tEE9RGZG-"
      },
      "outputs": [],
      "source": [
        "df = pd.read_csv('/datasets/Churn.csv', decimal = ',')"
      ]
    },
    {
      "cell_type": "code",
      "execution_count": null,
      "metadata": {
        "id": "TrF7u7gyGZG_",
        "outputId": "4c3cebcc-7066-44c9-8b4c-3bd01d2787b1"
      },
      "outputs": [
        {
          "data": {
            "text/html": [
              "<div>\n",
              "<style scoped>\n",
              "    .dataframe tbody tr th:only-of-type {\n",
              "        vertical-align: middle;\n",
              "    }\n",
              "\n",
              "    .dataframe tbody tr th {\n",
              "        vertical-align: top;\n",
              "    }\n",
              "\n",
              "    .dataframe thead th {\n",
              "        text-align: right;\n",
              "    }\n",
              "</style>\n",
              "<table border=\"1\" class=\"dataframe\">\n",
              "  <thead>\n",
              "    <tr style=\"text-align: right;\">\n",
              "      <th></th>\n",
              "      <th>RowNumber</th>\n",
              "      <th>CustomerId</th>\n",
              "      <th>Surname</th>\n",
              "      <th>CreditScore</th>\n",
              "      <th>Geography</th>\n",
              "      <th>Gender</th>\n",
              "      <th>Age</th>\n",
              "      <th>Tenure</th>\n",
              "      <th>Balance</th>\n",
              "      <th>NumOfProducts</th>\n",
              "      <th>HasCrCard</th>\n",
              "      <th>IsActiveMember</th>\n",
              "      <th>EstimatedSalary</th>\n",
              "      <th>Exited</th>\n",
              "    </tr>\n",
              "  </thead>\n",
              "  <tbody>\n",
              "    <tr>\n",
              "      <th>0</th>\n",
              "      <td>1</td>\n",
              "      <td>15634602</td>\n",
              "      <td>Hargrave</td>\n",
              "      <td>619</td>\n",
              "      <td>France</td>\n",
              "      <td>Female</td>\n",
              "      <td>42</td>\n",
              "      <td>2.0</td>\n",
              "      <td>0.0</td>\n",
              "      <td>1</td>\n",
              "      <td>1</td>\n",
              "      <td>1</td>\n",
              "      <td>101348.88</td>\n",
              "      <td>1</td>\n",
              "    </tr>\n",
              "    <tr>\n",
              "      <th>1</th>\n",
              "      <td>2</td>\n",
              "      <td>15647311</td>\n",
              "      <td>Hill</td>\n",
              "      <td>608</td>\n",
              "      <td>Spain</td>\n",
              "      <td>Female</td>\n",
              "      <td>41</td>\n",
              "      <td>1.0</td>\n",
              "      <td>83807.86</td>\n",
              "      <td>1</td>\n",
              "      <td>0</td>\n",
              "      <td>1</td>\n",
              "      <td>112542.58</td>\n",
              "      <td>0</td>\n",
              "    </tr>\n",
              "    <tr>\n",
              "      <th>2</th>\n",
              "      <td>3</td>\n",
              "      <td>15619304</td>\n",
              "      <td>Onio</td>\n",
              "      <td>502</td>\n",
              "      <td>France</td>\n",
              "      <td>Female</td>\n",
              "      <td>42</td>\n",
              "      <td>8.0</td>\n",
              "      <td>159660.8</td>\n",
              "      <td>3</td>\n",
              "      <td>1</td>\n",
              "      <td>0</td>\n",
              "      <td>113931.57</td>\n",
              "      <td>1</td>\n",
              "    </tr>\n",
              "  </tbody>\n",
              "</table>\n",
              "</div>"
            ],
            "text/plain": [
              "   RowNumber  CustomerId   Surname  CreditScore Geography  Gender  Age Tenure  \\\n",
              "0          1    15634602  Hargrave          619    France  Female   42    2.0   \n",
              "1          2    15647311      Hill          608     Spain  Female   41    1.0   \n",
              "2          3    15619304      Onio          502    France  Female   42    8.0   \n",
              "\n",
              "    Balance  NumOfProducts  HasCrCard  IsActiveMember EstimatedSalary  Exited  \n",
              "0       0.0              1          1               1       101348.88       1  \n",
              "1  83807.86              1          0               1       112542.58       0  \n",
              "2  159660.8              3          1               0       113931.57       1  "
            ]
          },
          "execution_count": 7,
          "metadata": {},
          "output_type": "execute_result"
        }
      ],
      "source": [
        "df.head(3)"
      ]
    },
    {
      "cell_type": "code",
      "execution_count": null,
      "metadata": {
        "scrolled": true,
        "id": "ftadZNAzGZHA",
        "outputId": "3e3419aa-ac0b-4014-fb5c-1668adb710e1"
      },
      "outputs": [
        {
          "name": "stdout",
          "output_type": "stream",
          "text": [
            "<class 'pandas.core.frame.DataFrame'>\n",
            "RangeIndex: 10000 entries, 0 to 9999\n",
            "Data columns (total 14 columns):\n",
            " #   Column           Non-Null Count  Dtype \n",
            "---  ------           --------------  ----- \n",
            " 0   RowNumber        10000 non-null  int64 \n",
            " 1   CustomerId       10000 non-null  int64 \n",
            " 2   Surname          10000 non-null  object\n",
            " 3   CreditScore      10000 non-null  int64 \n",
            " 4   Geography        10000 non-null  object\n",
            " 5   Gender           10000 non-null  object\n",
            " 6   Age              10000 non-null  int64 \n",
            " 7   Tenure           9091 non-null   object\n",
            " 8   Balance          10000 non-null  object\n",
            " 9   NumOfProducts    10000 non-null  int64 \n",
            " 10  HasCrCard        10000 non-null  int64 \n",
            " 11  IsActiveMember   10000 non-null  int64 \n",
            " 12  EstimatedSalary  10000 non-null  object\n",
            " 13  Exited           10000 non-null  int64 \n",
            "dtypes: int64(8), object(6)\n",
            "memory usage: 1.1+ MB\n"
          ]
        }
      ],
      "source": [
        "df.info()"
      ]
    },
    {
      "cell_type": "code",
      "execution_count": null,
      "metadata": {
        "id": "dQgfmkWuGZHB"
      },
      "outputs": [],
      "source": [
        "data_ohe = pd.get_dummies(df[['RowNumber', 'Geography', 'Gender']], drop_first=True)\n",
        "data_first = pd.merge(data_ohe, df, how='left', on='RowNumber')\n",
        "data = data_first.drop(['RowNumber', 'CustomerId', 'Surname', 'Geography', 'Gender'] , axis=1)\n",
        "data = data.dropna()"
      ]
    },
    {
      "cell_type": "code",
      "execution_count": null,
      "metadata": {
        "id": "ATeSm3-gGZHC"
      },
      "outputs": [],
      "source": [
        "target = data['Exited']\n",
        "features = data.drop(['Exited'] , axis=1)\n",
        "\n",
        "features_80, features_test, target_80, target_test = train_test_split(\n",
        "    features, target, test_size=0.2, random_state=12345)\n",
        "features_train, features_valid, target_train, target_valid = train_test_split(\n",
        "    features_80, target_80, test_size=0.25, random_state=12345)"
      ]
    },
    {
      "cell_type": "code",
      "execution_count": null,
      "metadata": {
        "scrolled": true,
        "id": "tG-myY1sGZHC",
        "outputId": "e117a0e8-d043-4ce6-f190-d99f4a336e77"
      },
      "outputs": [
        {
          "name": "stdout",
          "output_type": "stream",
          "text": [
            "(5454, 11)\n",
            "(1818, 11)\n",
            "(1819, 11)\n"
          ]
        }
      ],
      "source": [
        "print(features_train.shape)\n",
        "print(features_valid.shape)\n",
        "print(features_test.shape)"
      ]
    },
    {
      "cell_type": "code",
      "execution_count": null,
      "metadata": {
        "collapsed": true,
        "id": "Mo-452WKGZHD",
        "outputId": "d388c37a-b8ea-4bd2-c433-6ef055338051"
      },
      "outputs": [
        {
          "name": "stderr",
          "output_type": "stream",
          "text": [
            "/tmp/ipykernel_24/236808451.py:5: SettingWithCopyWarning: \n",
            "A value is trying to be set on a copy of a slice from a DataFrame.\n",
            "Try using .loc[row_indexer,col_indexer] = value instead\n",
            "\n",
            "See the caveats in the documentation: https://pandas.pydata.org/pandas-docs/stable/user_guide/indexing.html#returning-a-view-versus-a-copy\n",
            "  features_train[numeric] = scaler.transform(features_train[numeric])\n",
            "/opt/conda/lib/python3.9/site-packages/pandas/core/indexing.py:1738: SettingWithCopyWarning: \n",
            "A value is trying to be set on a copy of a slice from a DataFrame.\n",
            "Try using .loc[row_indexer,col_indexer] = value instead\n",
            "\n",
            "See the caveats in the documentation: https://pandas.pydata.org/pandas-docs/stable/user_guide/indexing.html#returning-a-view-versus-a-copy\n",
            "  self._setitem_single_column(loc, value[:, i].tolist(), pi)\n",
            "/tmp/ipykernel_24/236808451.py:6: SettingWithCopyWarning: \n",
            "A value is trying to be set on a copy of a slice from a DataFrame.\n",
            "Try using .loc[row_indexer,col_indexer] = value instead\n",
            "\n",
            "See the caveats in the documentation: https://pandas.pydata.org/pandas-docs/stable/user_guide/indexing.html#returning-a-view-versus-a-copy\n",
            "  features_valid[numeric] = scaler.transform(features_valid[numeric])\n",
            "/opt/conda/lib/python3.9/site-packages/pandas/core/indexing.py:1738: SettingWithCopyWarning: \n",
            "A value is trying to be set on a copy of a slice from a DataFrame.\n",
            "Try using .loc[row_indexer,col_indexer] = value instead\n",
            "\n",
            "See the caveats in the documentation: https://pandas.pydata.org/pandas-docs/stable/user_guide/indexing.html#returning-a-view-versus-a-copy\n",
            "  self._setitem_single_column(loc, value[:, i].tolist(), pi)\n"
          ]
        }
      ],
      "source": [
        "numeric = ['CreditScore', 'Age', 'Tenure', 'Balance', 'NumOfProducts', 'EstimatedSalary']\n",
        "\n",
        "scaler = StandardScaler()\n",
        "scaler.fit(features_train[numeric])\n",
        "features_train[numeric] = scaler.transform(features_train[numeric])\n",
        "features_valid[numeric] = scaler.transform(features_valid[numeric])"
      ]
    },
    {
      "cell_type": "code",
      "execution_count": null,
      "metadata": {
        "id": "7eV2GScxGZHD",
        "outputId": "16a90a67-3ddc-4b84-f0a3-9fe87ce64b22"
      },
      "outputs": [
        {
          "data": {
            "text/html": [
              "<div>\n",
              "<style scoped>\n",
              "    .dataframe tbody tr th:only-of-type {\n",
              "        vertical-align: middle;\n",
              "    }\n",
              "\n",
              "    .dataframe tbody tr th {\n",
              "        vertical-align: top;\n",
              "    }\n",
              "\n",
              "    .dataframe thead th {\n",
              "        text-align: right;\n",
              "    }\n",
              "</style>\n",
              "<table border=\"1\" class=\"dataframe\">\n",
              "  <thead>\n",
              "    <tr style=\"text-align: right;\">\n",
              "      <th></th>\n",
              "      <th>Geography_Germany</th>\n",
              "      <th>Geography_Spain</th>\n",
              "      <th>Gender_Male</th>\n",
              "      <th>CreditScore</th>\n",
              "      <th>Age</th>\n",
              "      <th>Tenure</th>\n",
              "      <th>Balance</th>\n",
              "      <th>NumOfProducts</th>\n",
              "      <th>HasCrCard</th>\n",
              "      <th>IsActiveMember</th>\n",
              "      <th>EstimatedSalary</th>\n",
              "    </tr>\n",
              "  </thead>\n",
              "  <tbody>\n",
              "    <tr>\n",
              "      <th>3706</th>\n",
              "      <td>0</td>\n",
              "      <td>1</td>\n",
              "      <td>0</td>\n",
              "      <td>-0.203819</td>\n",
              "      <td>0.471273</td>\n",
              "      <td>0.352316</td>\n",
              "      <td>0.786022</td>\n",
              "      <td>0.782369</td>\n",
              "      <td>0</td>\n",
              "      <td>0</td>\n",
              "      <td>-0.357205</td>\n",
              "    </tr>\n",
              "    <tr>\n",
              "      <th>6805</th>\n",
              "      <td>0</td>\n",
              "      <td>0</td>\n",
              "      <td>0</td>\n",
              "      <td>-0.357513</td>\n",
              "      <td>-0.384930</td>\n",
              "      <td>-1.373506</td>\n",
              "      <td>-1.230577</td>\n",
              "      <td>0.782369</td>\n",
              "      <td>1</td>\n",
              "      <td>1</td>\n",
              "      <td>-1.671048</td>\n",
              "    </tr>\n",
              "    <tr>\n",
              "      <th>4449</th>\n",
              "      <td>0</td>\n",
              "      <td>0</td>\n",
              "      <td>1</td>\n",
              "      <td>0.175290</td>\n",
              "      <td>-0.289797</td>\n",
              "      <td>-0.683177</td>\n",
              "      <td>-1.230577</td>\n",
              "      <td>0.782369</td>\n",
              "      <td>1</td>\n",
              "      <td>0</td>\n",
              "      <td>-1.119181</td>\n",
              "    </tr>\n",
              "  </tbody>\n",
              "</table>\n",
              "</div>"
            ],
            "text/plain": [
              "      Geography_Germany  Geography_Spain  Gender_Male  CreditScore       Age  \\\n",
              "3706                  0                1            0    -0.203819  0.471273   \n",
              "6805                  0                0            0    -0.357513 -0.384930   \n",
              "4449                  0                0            1     0.175290 -0.289797   \n",
              "\n",
              "        Tenure   Balance  NumOfProducts  HasCrCard  IsActiveMember  \\\n",
              "3706  0.352316  0.786022       0.782369          0               0   \n",
              "6805 -1.373506 -1.230577       0.782369          1               1   \n",
              "4449 -0.683177 -1.230577       0.782369          1               0   \n",
              "\n",
              "      EstimatedSalary  \n",
              "3706        -0.357205  \n",
              "6805        -1.671048  \n",
              "4449        -1.119181  "
            ]
          },
          "execution_count": 244,
          "metadata": {},
          "output_type": "execute_result"
        }
      ],
      "source": [
        "features_train.head(3)"
      ]
    },
    {
      "cell_type": "markdown",
      "metadata": {
        "id": "nhd7kXw6GZHE"
      },
      "source": [
        "Колонки 'RowNumber', 'CustomerId', 'Surname' убрала из выборки, так как, они не содержат важную информацию для моделей. Категориальные 'Geography', 'Gender' перобразовала в численные признаки техникой прямого кодирования One-Hot Encoding.\n",
        "\n",
        "Не знаю как делить выборку сразу на 3 части, поэтому взяла 20% от отбщей части под тестовую выборку, а потом еще 25% от отстатка на валидационную. Так получила соотношение частей 3:1:1 относительно первоначальных данных.\n"
      ]
    },
    {
      "cell_type": "markdown",
      "metadata": {
        "id": "Eg4rh-p9GZHF"
      },
      "source": [
        "## Исследование задачи"
      ]
    },
    {
      "cell_type": "code",
      "execution_count": null,
      "metadata": {
        "id": "3I31eCmeGZHF",
        "outputId": "95d8381b-2245-4183-cd1d-083f7a13f038"
      },
      "outputs": [
        {
          "name": "stdout",
          "output_type": "stream",
          "text": [
            "    Баланс классов выборки\n",
            "ушедших клиентов:          2037\n",
            "всего клиентов:            10000\n",
            "процент ушедших клиентов: 20.37 %\n"
          ]
        }
      ],
      "source": [
        "print('    Баланс классов выборки')\n",
        "print('ушедших клиентов:         ', df['Exited'].sum())\n",
        "print('всего клиентов:           ', df['Exited'].count())\n",
        "print('процент ушедших клиентов:', round(df['Exited'].sum()*100/df['Exited'].count(),2), '%')"
      ]
    },
    {
      "cell_type": "code",
      "execution_count": null,
      "metadata": {
        "id": "lmzh7XXFGZHG",
        "outputId": "88445116-21ea-484a-aced-be0a86327a12"
      },
      "outputs": [
        {
          "data": {
            "text/plain": [
              "(array([7963.,    0.,    0.,    0.,    0.,    0.,    0.,    0.,    0.,\n",
              "        2037.]),\n",
              " array([0. , 0.1, 0.2, 0.3, 0.4, 0.5, 0.6, 0.7, 0.8, 0.9, 1. ]),\n",
              " <BarContainer object of 10 artists>)"
            ]
          },
          "execution_count": 10,
          "metadata": {},
          "output_type": "execute_result"
        },
        {
          "data": {
            "image/png": "[encoded data removed]",
            "text/plain": [
              "<Figure size 432x288 with 1 Axes>"
            ]
          },
          "metadata": {
            "needs_background": "light"
          },
          "output_type": "display_data"
        }
      ],
      "source": [
        "plt.hist(df['Exited'])"
      ]
    },
    {
      "cell_type": "code",
      "execution_count": null,
      "metadata": {
        "id": "5rm6qTifGZHG",
        "outputId": "93f0da50-9521-4fbc-c9c7-b707be756726"
      },
      "outputs": [
        {
          "name": "stdout",
          "output_type": "stream",
          "text": [
            "    Баланс классов обучающей выборки\n",
            "ушедших клиентов:          1119\n",
            "всего клиентов:            5454\n",
            "процент ушедших клиентов: 20.52 %\n"
          ]
        }
      ],
      "source": [
        "print('    Баланс классов обучающей выборки')\n",
        "print('ушедших клиентов:         ', target_train.sum())\n",
        "print('всего клиентов:           ', target_train.count())\n",
        "print('процент ушедших клиентов:', round(target_train.sum()*100/target_train.count(),2), '%')"
      ]
    },
    {
      "cell_type": "markdown",
      "metadata": {
        "id": "HbdKyVdUGZHG"
      },
      "source": [
        "В обучающей и первоночальной выборках примерно одинковый объем ушедших клиентов (20%) - выборка поделилась равномерно"
      ]
    },
    {
      "cell_type": "code",
      "execution_count": null,
      "metadata": {
        "id": "M8YmVSI7GZHH"
      },
      "outputs": [],
      "source": [
        "model = LogisticRegression(random_state=12345)\n",
        "model.fit(features_train, target_train)\n",
        "prediction = model.predict(features_valid)"
      ]
    },
    {
      "cell_type": "code",
      "execution_count": null,
      "metadata": {
        "id": "heMfRyhTGZHH",
        "outputId": "192bd8c7-7d1d-427d-cd07-91194f2e24f5"
      },
      "outputs": [
        {
          "name": "stdout",
          "output_type": "stream",
          "text": [
            "матрица ошибок\n",
            "[[1405   47]\n",
            " [ 293   73]]\n"
          ]
        }
      ],
      "source": [
        "print('матрица ошибок')\n",
        "print(confusion_matrix(target_valid, prediction))"
      ]
    },
    {
      "cell_type": "code",
      "execution_count": null,
      "metadata": {
        "id": "GTdQLGN0GZHH",
        "outputId": "09412a63-33d4-4595-cefb-4fe4d1bf84dd"
      },
      "outputs": [
        {
          "name": "stdout",
          "output_type": "stream",
          "text": [
            "точность 0.6083333333333333\n",
            "полнота  0.1994535519125683\n",
            "f1-мера  0.3004115226337448\n"
          ]
        }
      ],
      "source": [
        "print('точность', precision_score(target_valid, prediction))\n",
        "print('полнота ', recall_score(target_valid, prediction))\n",
        "print('f1-мера ', f1_score(target_valid, prediction))"
      ]
    },
    {
      "cell_type": "markdown",
      "metadata": {
        "id": "OmjyEgesGZHI"
      },
      "source": [
        "показатели довольнонизкие - нужно тщательно подбирать гиперпараметры и тип модели"
      ]
    },
    {
      "cell_type": "code",
      "execution_count": null,
      "metadata": {
        "id": "OmhdU1cJGZHI",
        "outputId": "152eb2e4-959e-4fad-c086-05cf77d9ebd1"
      },
      "outputs": [
        {
          "data": {
            "image/png": "[encoded data removed]",
            "text/plain": [
              "<Figure size 432x288 with 1 Axes>"
            ]
          },
          "metadata": {
            "needs_background": "light"
          },
          "output_type": "display_data"
        },
        {
          "name": "stdout",
          "output_type": "stream",
          "text": [
            "AUC-ROC  0.7725184031070766\n"
          ]
        }
      ],
      "source": [
        "probabilities_valid = model.predict_proba(features_valid)\n",
        "probabilities_one_valid = probabilities_valid[:, 1]\n",
        "\n",
        "fpr, tpr, thresholds = roc_curve(target_valid, probabilities_one_valid)\n",
        "plt.figure()\n",
        "plt.plot(fpr, tpr)\n",
        "plt.plot([0, 1], [0, 1], linestyle='--')\n",
        "plt.xlim([0.0, 1.0])\n",
        "plt.ylim([0.0, 1.0])\n",
        "plt.xlabel('False Positive Rate')\n",
        "plt.ylabel('True Positive Rate')\n",
        "plt.title('ROC-кривая')\n",
        "plt.show()\n",
        "\n",
        "auc_roc = roc_auc_score(target_valid, probabilities_one_valid)\n",
        "print('AUC-ROC ', auc_roc)"
      ]
    },
    {
      "cell_type": "markdown",
      "metadata": {
        "id": "1epQ6kqMGZHI"
      },
      "source": [
        "Баланс классов целевого признака далек от идеального, но есть из чего собрать подходящую обучающую выборку. "
      ]
    },
    {
      "cell_type": "markdown",
      "metadata": {
        "id": "c5WcUJI_GZHI"
      },
      "source": [
        "## Борьба с дисбалансом"
      ]
    },
    {
      "cell_type": "code",
      "execution_count": null,
      "metadata": {
        "id": "08R0AxsXGZHJ"
      },
      "outputs": [],
      "source": [
        "def upsample(features, target):\n",
        "    features_zeros = features[target == 0]\n",
        "    features_ones = features[target == 1]\n",
        "    target_zeros = target[target == 0]\n",
        "    target_ones = target[target == 1]\n",
        "\n",
        "    features_upsampled = pd.concat([features_zeros, features_ones, features_ones, features_ones, features_ones])\n",
        "    target_upsampled = pd.concat([target_zeros, target_ones, target_ones, target_ones, target_ones])\n",
        "    \n",
        "    features_upsampled, target_upsampled = shuffle(\n",
        "        features_upsampled, target_upsampled, random_state=12345)\n",
        "    \n",
        "    return features_upsampled, target_upsampled"
      ]
    },
    {
      "cell_type": "markdown",
      "metadata": {
        "id": "bge2vG8YGZHJ"
      },
      "source": [
        "С дисбалансом выборки решила бороться методом размножения меньшинства, что бы не терять данные."
      ]
    },
    {
      "cell_type": "code",
      "execution_count": null,
      "metadata": {
        "id": "tQG-wo0OGZHJ",
        "outputId": "8877b520-9c22-4519-c8f2-2206742922f5"
      },
      "outputs": [
        {
          "name": "stdout",
          "output_type": "stream",
          "text": [
            "    Баланс классов выборки\n",
            "ушедших клиентов:          4476\n",
            "всего клиентов:            8811\n"
          ]
        }
      ],
      "source": [
        "features_upsampled, target_upsampled = upsample(features_train, target_train)\n",
        "\n",
        "print('    Баланс классов выборки')\n",
        "print('ушедших клиентов:         ', target_upsampled.sum())\n",
        "print('всего клиентов:           ', target_upsampled.count())"
      ]
    },
    {
      "cell_type": "code",
      "execution_count": null,
      "metadata": {
        "id": "OtklAhGoGZHK",
        "outputId": "f5255213-ae85-442d-e605-9fd40b8fb8aa"
      },
      "outputs": [
        {
          "name": "stdout",
          "output_type": "stream",
          "text": [
            "метрика f1 0.3004115226337448\n"
          ]
        }
      ],
      "source": [
        "Logistic_model = LogisticRegression()\n",
        "Logistic_model.fit(features_train, target_train)\n",
        "Logistic_prediction = [int(p>=0.5) for p in Logistic_model.predict(features_valid)] \n",
        "print('метрика f1', f1_score(target_valid, Logistic_prediction))"
      ]
    },
    {
      "cell_type": "code",
      "execution_count": null,
      "metadata": {
        "id": "sZSuFzGQGZHK",
        "outputId": "5bd7fa37-5143-49c9-8de8-9945f29677af"
      },
      "outputs": [
        {
          "name": "stdout",
          "output_type": "stream",
          "text": [
            "max_depth = 13\n",
            "метрика f1 0.5815126050420167\n"
          ]
        }
      ],
      "source": [
        "max_depth = 0\n",
        "max_f1 = 0\n",
        "for depth in range(1, 50, 1):    # 13    \n",
        "    Forest_model = RandomForestClassifier(n_estimators=20, max_depth=depth, random_state=999)\n",
        "    Forest_model.fit(features_train, target_train)\n",
        "    if max_f1 < f1_score(target_valid, Forest_model.predict(features_valid)):\n",
        "        max_f1 = f1_score(target_valid, Forest_model.predict(features_valid))\n",
        "        max_depth = depth\n",
        "    \n",
        "print('max_depth =', max_depth) \n",
        "print('метрика f1', max_f1)"
      ]
    },
    {
      "cell_type": "code",
      "execution_count": null,
      "metadata": {
        "id": "Xphl98OgGZHK",
        "outputId": "a1c4672d-f99d-41e4-ac4b-7bac310f43cb"
      },
      "outputs": [
        {
          "name": "stdout",
          "output_type": "stream",
          "text": [
            "n_estimators = 18\n",
            "метрика f1 0.5923460898502496\n"
          ]
        }
      ],
      "source": [
        "max_trees = 0\n",
        "max_f1 = 0\n",
        "for trees in range(1, 100, 1):    # 18\n",
        "    Forest_model_15 = RandomForestClassifier(n_estimators=trees, max_depth=13, random_state=999)\n",
        "    Forest_model_15.fit(features_train, target_train)\n",
        "    if max_f1 < f1_score(target_valid, Forest_model_15.predict(features_valid)):\n",
        "        max_f1 = f1_score(target_valid, Forest_model_15.predict(features_valid))\n",
        "        max_trees = trees\n",
        "print('n_estimators =', max_trees) \n",
        "print('метрика f1', max_f1)    "
      ]
    },
    {
      "cell_type": "markdown",
      "metadata": {
        "id": "q3o7rj3hGZHL"
      },
      "source": [
        "Логистическая регрессия имеет довольно низкий коэффициент детерминации, в отличии от модели случайного леса. К тому же у второй модели можно подбирать гиперпараметры. Так я нашла наилучший вариент - 18 деревьев с максимальной глубиной 13. f1 метрики получилась чуть выше пороговой в 0,59."
      ]
    },
    {
      "cell_type": "code",
      "execution_count": null,
      "metadata": {
        "id": "lZaA8LNzGZHL"
      },
      "outputs": [],
      "source": [
        "def downsample(features, target, fraction):\n",
        "    features_zeros = features[target == 0]\n",
        "    features_ones = features[target == 1]\n",
        "    target_zeros = target[target == 0]\n",
        "    target_ones = target[target == 1]\n",
        "\n",
        "    features_downsampled = pd.concat(\n",
        "        [features_zeros.sample(frac=fraction, random_state=12345)] + [features_ones])\n",
        "    target_downsampled = pd.concat(\n",
        "        [target_zeros.sample(frac=fraction, random_state=12345)] + [target_ones])\n",
        "    \n",
        "    features_downsampled, target_downsampled = shuffle(\n",
        "        features_downsampled, target_downsampled, random_state=12345)\n",
        "    \n",
        "    return features_downsampled, target_downsampled"
      ]
    },
    {
      "cell_type": "code",
      "execution_count": null,
      "metadata": {
        "collapsed": true,
        "id": "Ga23Lil3GZHL",
        "outputId": "d6c0b2d5-ccdc-4539-e9f9-5ba6d75db419"
      },
      "outputs": [
        {
          "data": {
            "text/plain": [
              "(array([1084.,    0.,    0.,    0.,    0.,    0.,    0.,    0.,    0.,\n",
              "        1119.]),\n",
              " array([0. , 0.1, 0.2, 0.3, 0.4, 0.5, 0.6, 0.7, 0.8, 0.9, 1. ]),\n",
              " <BarContainer object of 10 artists>)"
            ]
          },
          "execution_count": 13,
          "metadata": {},
          "output_type": "execute_result"
        },
        {
          "data": {
            "image/png": "[encoded data removed]",
            "text/plain": [
              "<Figure size 432x288 with 1 Axes>"
            ]
          },
          "metadata": {
            "needs_background": "light"
          },
          "output_type": "display_data"
        }
      ],
      "source": [
        "features_downsampled, target_downsampled = downsample(features_train, target_train, 0.25)\n",
        "plt.hist(target_downsampled)"
      ]
    },
    {
      "cell_type": "code",
      "execution_count": null,
      "metadata": {
        "id": "nN84RxlAGZHL",
        "outputId": "c59364e1-44e3-4bd0-b4a5-9db87fb4cf2e"
      },
      "outputs": [
        {
          "data": {
            "text/plain": [
              "RandomForestClassifier(max_depth=13, n_estimators=18, random_state=999)"
            ]
          },
          "execution_count": 14,
          "metadata": {},
          "output_type": "execute_result"
        }
      ],
      "source": [
        "downsampled_model = RandomForestClassifier(n_estimators=18, max_depth=13, random_state=999)\n",
        "downsampled_model.fit(features_downsampled, target_downsampled)"
      ]
    },
    {
      "cell_type": "code",
      "execution_count": null,
      "metadata": {
        "id": "yLmXx257GZHM",
        "outputId": "c4606bac-ee56-4881-de4c-2d1f2ed8cd26"
      },
      "outputs": [
        {
          "name": "stdout",
          "output_type": "stream",
          "text": [
            "f1-мера  0.5492662473794548\n",
            "f1-мера  0.3412929528246942\n"
          ]
        }
      ],
      "source": [
        "RandomForest_prediction_valid = downsampled_model.predict(features_valid)\n",
        "print('f1-мера ', f1_score(target_valid, RandomForest_prediction_valid))\n",
        "RandomForest_prediction_test = downsampled_model.predict(features_test)\n",
        "print('f1-мера ', f1_score(target_test, RandomForest_prediction_test))"
      ]
    },
    {
      "cell_type": "markdown",
      "metadata": {
        "id": "b4EiteckGZHM"
      },
      "source": [
        "<div class=\"alert alert-info\"> <b>Комментарий студента:</b> \n",
        "    На выбранных ранее гиперпараметрах обучилась не самая выдающаяся модель.\n",
        "</div>"
      ]
    },
    {
      "cell_type": "code",
      "execution_count": null,
      "metadata": {
        "id": "_evMXY51GZHM",
        "outputId": "fbd6d3cb-e3d2-45bf-9a40-a091d73aa8ee"
      },
      "outputs": [
        {
          "name": "stdout",
          "output_type": "stream",
          "text": [
            "max_depth = 21\n",
            "метрика f1 0.7733050847457626\n"
          ]
        }
      ],
      "source": [
        "max_depth_downsampled = 0\n",
        "max_f1_downsampled = 0\n",
        "for depth in range(1, 50, 1):    # 21\n",
        "    Forest_model_downsampled = RandomForestClassifier(n_estimators=20, max_depth=depth, random_state=999, class_weight='balanced')\n",
        "    Forest_model_downsampled.fit(features_downsampled, target_downsampled)\n",
        "    if max_f1_downsampled < f1_score(target_valid, Forest_model_downsampled.predict(features_valid)):\n",
        "        max_f1_downsampled = f1_score(target_valid, Forest_model_downsampled.predict(features_valid))\n",
        "        max_depth_downsampled = depth\n",
        "    \n",
        "print('max_depth =', max_depth_downsampled) \n",
        "print('метрика f1', max_f1_downsampled)"
      ]
    },
    {
      "cell_type": "code",
      "execution_count": null,
      "metadata": {
        "id": "k4UAZJ0nGZHM",
        "outputId": "944c3a39-7c3c-4d20-bbbc-9f83b2a69f8e"
      },
      "outputs": [
        {
          "name": "stdout",
          "output_type": "stream",
          "text": [
            "n_estimators = 20\n",
            "метрика f1 0.7733050847457626\n"
          ]
        }
      ],
      "source": [
        "max_trees_downsampled = 0\n",
        "max_f1_downsampled = 0\n",
        "for trees in range(1, 100, 1):    # 20\n",
        "    Forest_model_15_downsampled = RandomForestClassifier(n_estimators=trees, max_depth=21, random_state=999, class_weight='balanced')\n",
        "    Forest_model_15_downsampled.fit(features_downsampled, target_downsampled)\n",
        "    if max_f1_downsampled < f1_score(target_valid, Forest_model_15_downsampled.predict(features_valid)):\n",
        "        max_f1_downsampled = f1_score(target_valid, Forest_model_15_downsampled.predict(features_valid))\n",
        "        max_trees_downsampled = trees\n",
        "print('n_estimators =', max_trees_downsampled) \n",
        "print('метрика f1', max_f1_downsampled)  "
      ]
    },
    {
      "cell_type": "code",
      "execution_count": null,
      "metadata": {
        "id": "19oNNXYOGZHN",
        "outputId": "04c72663-13a1-40f3-a226-e93adfce998d"
      },
      "outputs": [
        {
          "name": "stdout",
          "output_type": "stream",
          "text": [
            "f1-мера  0.23880597014925373\n"
          ]
        }
      ],
      "source": [
        "RandomForest_model_downsampled = RandomForestClassifier(n_estimators=92, max_depth=9, random_state=999, class_weight='balanced')\n",
        "RandomForest_model_downsampled.fit(features_train, target_train)\n",
        "RandomForest_prediction_test = RandomForest_model_downsampled.predict(features_test)\n",
        "print('f1-мера ', f1_score(target_test, RandomForest_prediction_test))"
      ]
    },
    {
      "cell_type": "markdown",
      "metadata": {
        "id": "SuprazjlGZHN"
      },
      "source": [
        "<div class=\"alert alert-info\"> <b>Комментарий студента:</b> \n",
        "    При подборе гиперпараметров, модель, обученная на уменьшенной выборке отработала чгораздо лучше, однако на тестовых данных результат достаточно низкий\n",
        "</div>"
      ]
    },
    {
      "cell_type": "code",
      "execution_count": null,
      "metadata": {
        "id": "qlkiIcuKGZHN",
        "outputId": "11a52f1a-0fe2-4b79-8757-a82e0fa78165"
      },
      "outputs": [
        {
          "name": "stdout",
          "output_type": "stream",
          "text": [
            "max_depth = 8\n",
            "метрика f1 0.6037267080745341\n"
          ]
        }
      ],
      "source": [
        "max_depth_balanced = 0\n",
        "max_f1_balanced = 0\n",
        "for depth in range(1, 50, 1):    # 8   \n",
        "    Forest_model_balanced = RandomForestClassifier(n_estimators=20, max_depth=depth, random_state=999, class_weight='balanced')\n",
        "    Forest_model_balanced.fit(features_train, target_train)\n",
        "    if max_f1_balanced < f1_score(target_valid, Forest_model_balanced.predict(features_valid)):\n",
        "        max_f1_balanced = f1_score(target_valid, Forest_model_balanced.predict(features_valid))\n",
        "        max_depth_balanced = depth\n",
        "    \n",
        "print('max_depth =', max_depth_balanced) \n",
        "print('метрика f1', max_f1_balanced)"
      ]
    },
    {
      "cell_type": "code",
      "execution_count": null,
      "metadata": {
        "id": "F6bDfzMnGZHN",
        "outputId": "ffa2bbeb-744e-40e8-8f95-224eec12496b"
      },
      "outputs": [
        {
          "name": "stdout",
          "output_type": "stream",
          "text": [
            "n_estimators = 18\n",
            "метрика f1 0.6074074074074074\n"
          ]
        }
      ],
      "source": [
        "max_trees_balanced = 0\n",
        "max_f1_balanced = 0\n",
        "for trees in range(1, 100, 1):    # 18\n",
        "    Forest_model_15 = RandomForestClassifier(n_estimators=trees, max_depth=8, random_state=999, class_weight='balanced')\n",
        "    Forest_model_15.fit(features_train, target_train)\n",
        "    if max_f1_balanced < f1_score(target_valid, Forest_model_15.predict(features_valid)):\n",
        "        max_f1_balanced = f1_score(target_valid, Forest_model_15.predict(features_valid))\n",
        "        max_trees_balanced = trees\n",
        "print('n_estimators =', max_trees_balanced) \n",
        "print('метрика f1', max_f1_balanced)    "
      ]
    },
    {
      "cell_type": "code",
      "execution_count": null,
      "metadata": {
        "collapsed": true,
        "id": "s8dqcO8oGZHO",
        "outputId": "d0e275fe-dcc3-49f7-f23a-735c632c0c3e"
      },
      "outputs": [
        {
          "data": {
            "text/plain": [
              "RandomForestClassifier(class_weight='balanced', max_depth=13, n_estimators=18,\n",
              "                       random_state=999)"
            ]
          },
          "execution_count": 23,
          "metadata": {},
          "output_type": "execute_result"
        }
      ],
      "source": [
        "RandomForest_model_balanced = RandomForestClassifier(n_estimators=18, max_depth=13, random_state=999, class_weight='balanced')\n",
        "RandomForest_model_balanced.fit(features_train, target_train)"
      ]
    },
    {
      "cell_type": "code",
      "execution_count": null,
      "metadata": {
        "id": "KA6PWsNLGZHO",
        "outputId": "c927a906-f14c-4da0-a00c-de2639fbb457"
      },
      "outputs": [
        {
          "name": "stdout",
          "output_type": "stream",
          "text": [
            "f1-мера  0.1641337386018237\n"
          ]
        }
      ],
      "source": [
        "RandomForest_prediction_test = RandomForest_model_balanced.predict(features_test)\n",
        "print('f1-мера ', f1_score(target_test, RandomForest_prediction_test))"
      ]
    },
    {
      "cell_type": "markdown",
      "metadata": {
        "id": "WTEy88ncGZHO"
      },
      "source": [
        "\n",
        "    Результат на валидационной выборке просто шикарный, но вот на тестовой слабоват. Создается ощущение, что модель переобучена. Хотя для меня остается бальшой загадкой, почему на двух независимых выборках (тестовой и валидационной) модели случайного леса с разными гиперпарамтрами паказывают такой схожий результат\n"
      ]
    },
    {
      "cell_type": "markdown",
      "metadata": {
        "id": "nN2qfWOaGZHO"
      },
      "source": [
        "## Тестирование модели"
      ]
    },
    {
      "cell_type": "code",
      "execution_count": null,
      "metadata": {
        "id": "b7M1n9zIGZHP"
      },
      "outputs": [],
      "source": [
        "RandomForest_model = RandomForestClassifier(n_estimators=18, max_depth=13, random_state=999)\n",
        "RandomForest_model.fit(features_train, target_train)"
      ]
    },
    {
      "cell_type": "code",
      "execution_count": null,
      "metadata": {
        "id": "e5yuuAKDGZHP",
        "outputId": "2222e547-cd08-4014-ae66-b78c6029a4f6"
      },
      "outputs": [
        {
          "name": "stdout",
          "output_type": "stream",
          "text": [
            "f1-мера  0.26610978520286394\n"
          ]
        }
      ],
      "source": [
        "RandomForest_prediction = RandomForest_model.predict(features_test)\n",
        "print('f1-мера ', f1_score(target_test, RandomForest_prediction))"
      ]
    },
    {
      "cell_type": "code",
      "execution_count": null,
      "metadata": {
        "id": "rZZDw11uGZHP",
        "outputId": "5e476aef-1647-45a3-fc95-3aef9ff8adf4"
      },
      "outputs": [
        {
          "name": "stdout",
          "output_type": "stream",
          "text": [
            "матрица ошибок\n",
            "[[ 366 1084]\n",
            " [ 146  223]]\n"
          ]
        }
      ],
      "source": [
        "print('матрица ошибок')\n",
        "print(confusion_matrix(target_test, RandomForest_prediction))"
      ]
    },
    {
      "cell_type": "code",
      "execution_count": null,
      "metadata": {
        "id": "C14zWOSAGZHP",
        "outputId": "4c023893-1a58-4e8d-afb3-d0a236cbdc9f"
      },
      "outputs": [
        {
          "name": "stdout",
          "output_type": "stream",
          "text": [
            "точность 0.17061973986228002\n",
            "полнота  0.6043360433604336\n",
            "f1-мера  0.26610978520286394\n"
          ]
        }
      ],
      "source": [
        "print('точность', precision_score(target_test, RandomForest_prediction))\n",
        "print('полнота ', recall_score(target_test, RandomForest_prediction))\n",
        "print('f1-мера ', f1_score(target_test, RandomForest_prediction))"
      ]
    },
    {
      "cell_type": "code",
      "execution_count": null,
      "metadata": {
        "id": "Q1hJPIDQGZHQ",
        "outputId": "d333d1ee-85bc-4a6c-a3ba-d85b612623a1"
      },
      "outputs": [
        {
          "data": {
            "image/png": "[encoded data removed]",
            "text/plain": [
              "<Figure size 432x288 with 1 Axes>"
            ]
          },
          "metadata": {
            "needs_background": "light"
          },
          "output_type": "display_data"
        },
        {
          "name": "stdout",
          "output_type": "stream",
          "text": [
            "AUC-ROC  0.39364638818801984\n"
          ]
        }
      ],
      "source": [
        "probabilities_test = RandomForest_model.predict_proba(features_test)\n",
        "probabilities_one_test = probabilities_test[:, 1]\n",
        "\n",
        "fpr, tpr, thresholds = roc_curve(target_test, probabilities_one_test)\n",
        "plt.figure()\n",
        "plt.plot(fpr, tpr)\n",
        "plt.plot([0, 1], [0, 1], linestyle='--')\n",
        "plt.xlim([0.0, 1.0])\n",
        "plt.ylim([0.0, 1.0])\n",
        "plt.xlabel('False Positive Rate')\n",
        "plt.ylabel('True Positive Rate')\n",
        "plt.title('ROC-кривая')\n",
        "plt.show()\n",
        "\n",
        "auc_roc = roc_auc_score(target_test, probabilities_one_test)\n",
        "print('AUC-ROC ', auc_roc)"
      ]
    },
    {
      "cell_type": "markdown",
      "metadata": {
        "id": "ak_AguCqGZHQ"
      },
      "source": [
        "Не смотря на неплохие результаты на валидационной выборке, на тестовой все пошло не по плану и коэффициент детерминации уменьшился более чем в 2 раза. О проблемах в модели говорят и остальные метрики:\n",
        "\n",
        "    * матрица ошибок перекошена в сторону FP\n",
        "    * точность уменьшилась в 3 раза\n",
        "    * кривая ошибок показала результат хуже, чем модель случайных ответов\n",
        "    * AUC-ROC уменьшился в 2 раза\n",
        "    \n",
        "из положительных изменений:\n",
        "\n",
        "    * полнота увеличилась в 3 раза \n",
        "    \n",
        "#### Итог:\n",
        "Я попробовала применить, для решения задачи, две модели: логистической регрессии и случайного леса. Обе показали себя не достаточно эффективными, однако каждая имеет свои недостатки. Модель логистической регрессии неплохо показала себя в метриках: матрица ошибок, точность, кривая ошибок и AUC-ROC; а модель случайного леса отлиилась в метриках: f1 и полнота."
      ]
    },
    {
      "cell_type": "markdown",
      "metadata": {
        "id": "bvRes3Q_GZHQ"
      },
      "source": [
        "<div class=\"alert alert-success\">\n",
        "<b>Комментарий ревьюера:</b> ✔️Можно произвести тест на полных данных, это должно улчшить метрки, если по итогу унас \"победил\" upsemple условно, то вот можно сделать.\n",
        "    \n",
        "features_full_train = pd.concat([features_train, features_valid])\n",
        "    \n",
        "target_full_train = pd.concat([target_train, target_valid])\n",
        "    \n",
        "\n",
        "features_upsampled, target_upsampled = upsample(features_full_train, target_full_train)\n"
      ]
    },
    {
      "cell_type": "code",
      "execution_count": null,
      "metadata": {
        "id": "VY7BrQCKGZHQ"
      },
      "outputs": [],
      "source": [
        "features_full_train = pd.concat([features_train, features_valid])\n",
        "target_full_train = pd.concat([target_train, target_valid])\n",
        "features_downsampled, target_downsampled = downsample(features_full_train, target_full_train, 0.25)"
      ]
    },
    {
      "cell_type": "code",
      "execution_count": null,
      "metadata": {
        "id": "Md1JcWssGZHR",
        "outputId": "cd826332-5637-4dc9-c2fc-48348547b3d2"
      },
      "outputs": [
        {
          "data": {
            "text/plain": [
              "RandomForestClassifier(class_weight='balanced', max_depth=21, n_estimators=20,\n",
              "                       random_state=999)"
            ]
          },
          "execution_count": 42,
          "metadata": {},
          "output_type": "execute_result"
        }
      ],
      "source": [
        "RandomForest_model = RandomForestClassifier(n_estimators=20, max_depth=21, random_state=999, class_weight='balanced')\n",
        "RandomForest_model.fit(features_train, target_train)"
      ]
    },
    {
      "cell_type": "code",
      "execution_count": null,
      "metadata": {
        "id": "cmmhW-wMGZHR",
        "outputId": "1b51fd39-d9ee-4b61-be41-c4afd1c7ee34"
      },
      "outputs": [
        {
          "name": "stdout",
          "output_type": "stream",
          "text": [
            "f1-мера  0.9027522935779817\n"
          ]
        }
      ],
      "source": [
        "RandomForest_prediction = RandomForest_model.predict(features_downsampled)\n",
        "print('f1-мера ', f1_score(target_downsampled, RandomForest_prediction))"
      ]
    },
    {
      "cell_type": "code",
      "execution_count": null,
      "metadata": {
        "id": "eUMkB0tnGZHR",
        "outputId": "61194b69-bf75-4928-e60f-ead4e306c0b1"
      },
      "outputs": [
        {
          "name": "stdout",
          "output_type": "stream",
          "text": [
            "матрица ошибок\n",
            "[[1437   10]\n",
            " [ 255 1230]]\n"
          ]
        }
      ],
      "source": [
        "print('матрица ошибок')\n",
        "print(confusion_matrix(target_downsampled, RandomForest_prediction))"
      ]
    },
    {
      "cell_type": "code",
      "execution_count": null,
      "metadata": {
        "id": "3jxOl1saGZHR",
        "outputId": "70dfa99d-305f-4cbb-c399-cedb5ca46c1a"
      },
      "outputs": [
        {
          "name": "stdout",
          "output_type": "stream",
          "text": [
            "точность 0.9919354838709677\n",
            "полнота  0.8282828282828283\n",
            "f1-мера  0.9027522935779817\n"
          ]
        }
      ],
      "source": [
        "print('точность', precision_score(target_downsampled, RandomForest_prediction))\n",
        "print('полнота ', recall_score(target_downsampled, RandomForest_prediction))\n",
        "print('f1-мера ', f1_score(target_downsampled, RandomForest_prediction))"
      ]
    },
    {
      "cell_type": "code",
      "execution_count": null,
      "metadata": {
        "id": "1qCW4wNEGZHS",
        "outputId": "6f3173b3-dcfc-4878-ee37-c96ae28925a1"
      },
      "outputs": [
        {
          "data": {
            "image/png": "[encoded data removed]",
            "text/plain": [
              "<Figure size 432x288 with 1 Axes>"
            ]
          },
          "metadata": {
            "needs_background": "light"
          },
          "output_type": "display_data"
        },
        {
          "name": "stdout",
          "output_type": "stream",
          "text": [
            "AUC-ROC  0.9706824057204153\n"
          ]
        }
      ],
      "source": [
        "probabilities_test = RandomForest_model.predict_proba(features_downsampled)\n",
        "probabilities_one_test = probabilities_test[:, 1]\n",
        "\n",
        "fpr, tpr, thresholds = roc_curve(target_downsampled, probabilities_one_test)\n",
        "plt.figure()\n",
        "plt.plot(fpr, tpr)\n",
        "plt.plot([0, 1], [0, 1], linestyle='--')\n",
        "plt.xlim([0.0, 1.0])\n",
        "plt.ylim([0.0, 1.0])\n",
        "plt.xlabel('False Positive Rate')\n",
        "plt.ylabel('True Positive Rate')\n",
        "plt.title('ROC-кривая')\n",
        "plt.show()\n",
        "\n",
        "auc_roc = roc_auc_score(target_downsampled, probabilities_one_test)\n",
        "print('AUC-ROC ', auc_roc)"
      ]
    },
    {
      "cell_type": "code",
      "execution_count": null,
      "metadata": {
        "id": "OGtJ6fiWGZHT"
      },
      "outputs": [],
      "source": []
    }
  ],
  "metadata": {
    "ExecuteTimeLog": [
      {
        "duration": 612,
        "start_time": "2022-05-21T12:45:12.641Z"
      },
      {
        "duration": 57,
        "start_time": "2022-05-21T12:46:20.898Z"
      },
      {
        "duration": 7,
        "start_time": "2022-05-21T12:48:23.253Z"
      },
      {
        "duration": 8,
        "start_time": "2022-05-21T12:48:34.540Z"
      },
      {
        "duration": 210,
        "start_time": "2022-05-21T12:48:47.143Z"
      },
      {
        "duration": 22,
        "start_time": "2022-05-21T12:48:48.885Z"
      },
      {
        "duration": 3,
        "start_time": "2022-05-21T12:48:54.436Z"
      },
      {
        "duration": 67,
        "start_time": "2022-05-21T12:48:55.036Z"
      },
      {
        "duration": 28,
        "start_time": "2022-05-21T12:49:09.935Z"
      },
      {
        "duration": 11,
        "start_time": "2022-05-21T12:49:51.134Z"
      },
      {
        "duration": 13,
        "start_time": "2022-05-21T12:49:58.148Z"
      },
      {
        "duration": 4,
        "start_time": "2022-05-21T13:21:39.298Z"
      },
      {
        "duration": 17,
        "start_time": "2022-05-21T13:21:44.866Z"
      },
      {
        "duration": 1527,
        "start_time": "2022-05-21T13:22:25.436Z"
      },
      {
        "duration": 33,
        "start_time": "2022-05-21T13:25:03.889Z"
      },
      {
        "duration": 15,
        "start_time": "2022-05-21T13:26:58.115Z"
      },
      {
        "duration": 11,
        "start_time": "2022-05-21T13:26:59.190Z"
      },
      {
        "duration": 10,
        "start_time": "2022-05-21T13:29:06.667Z"
      },
      {
        "duration": 11,
        "start_time": "2022-05-21T13:30:23.138Z"
      },
      {
        "duration": 8,
        "start_time": "2022-05-21T13:31:21.340Z"
      },
      {
        "duration": 9,
        "start_time": "2022-05-21T13:31:50.563Z"
      },
      {
        "duration": 11,
        "start_time": "2022-05-21T13:32:11.770Z"
      },
      {
        "duration": 8,
        "start_time": "2022-05-21T13:32:46.206Z"
      },
      {
        "duration": 10,
        "start_time": "2022-05-21T13:36:06.453Z"
      },
      {
        "duration": 13,
        "start_time": "2022-05-21T13:36:54.488Z"
      },
      {
        "duration": 11,
        "start_time": "2022-05-21T13:36:56.167Z"
      },
      {
        "duration": 10,
        "start_time": "2022-05-21T13:37:06.372Z"
      },
      {
        "duration": 13,
        "start_time": "2022-05-21T13:37:51.719Z"
      },
      {
        "duration": 11,
        "start_time": "2022-05-21T13:37:52.723Z"
      },
      {
        "duration": 11,
        "start_time": "2022-05-21T13:38:00.062Z"
      },
      {
        "duration": 15,
        "start_time": "2022-05-21T13:39:47.090Z"
      },
      {
        "duration": 25,
        "start_time": "2022-05-21T13:40:21.023Z"
      },
      {
        "duration": 4,
        "start_time": "2022-05-21T13:40:21.785Z"
      },
      {
        "duration": 17,
        "start_time": "2022-05-21T13:40:25.914Z"
      },
      {
        "duration": 7,
        "start_time": "2022-05-21T13:41:26.061Z"
      },
      {
        "duration": 18,
        "start_time": "2022-05-21T13:41:27.176Z"
      },
      {
        "duration": 8,
        "start_time": "2022-05-21T13:58:58.365Z"
      },
      {
        "duration": 899,
        "start_time": "2022-05-21T13:59:16.665Z"
      },
      {
        "duration": 49,
        "start_time": "2022-05-21T13:59:21.455Z"
      },
      {
        "duration": 14,
        "start_time": "2022-05-21T14:01:59.257Z"
      },
      {
        "duration": 10,
        "start_time": "2022-05-21T14:02:30.375Z"
      },
      {
        "duration": 18,
        "start_time": "2022-05-21T14:02:36.354Z"
      },
      {
        "duration": 15,
        "start_time": "2022-05-21T14:02:40.326Z"
      },
      {
        "duration": 13,
        "start_time": "2022-05-21T14:02:48.659Z"
      },
      {
        "duration": 19,
        "start_time": "2022-05-21T14:07:48.294Z"
      },
      {
        "duration": 18,
        "start_time": "2022-05-21T14:08:22.847Z"
      },
      {
        "duration": 16,
        "start_time": "2022-05-21T14:08:30.476Z"
      },
      {
        "duration": 5,
        "start_time": "2022-05-21T14:08:42.612Z"
      },
      {
        "duration": 5,
        "start_time": "2022-05-21T14:11:23.398Z"
      },
      {
        "duration": 13,
        "start_time": "2022-05-21T14:11:36.489Z"
      },
      {
        "duration": 38,
        "start_time": "2022-05-21T14:11:41.748Z"
      },
      {
        "duration": 19,
        "start_time": "2022-05-21T14:15:46.479Z"
      },
      {
        "duration": 24,
        "start_time": "2022-05-21T14:23:08.376Z"
      },
      {
        "duration": 13,
        "start_time": "2022-05-21T14:23:15.572Z"
      },
      {
        "duration": 5,
        "start_time": "2022-05-21T14:32:08.153Z"
      },
      {
        "duration": 337,
        "start_time": "2022-05-21T14:38:16.481Z"
      },
      {
        "duration": 8,
        "start_time": "2022-05-21T14:38:28.735Z"
      },
      {
        "duration": 6,
        "start_time": "2022-05-21T14:38:51.457Z"
      },
      {
        "duration": 6,
        "start_time": "2022-05-21T14:42:09.420Z"
      },
      {
        "duration": 6,
        "start_time": "2022-05-21T14:42:32.488Z"
      },
      {
        "duration": 5,
        "start_time": "2022-05-21T14:43:12.395Z"
      },
      {
        "duration": 6,
        "start_time": "2022-05-21T14:43:52.377Z"
      },
      {
        "duration": 6,
        "start_time": "2022-05-21T14:43:53.904Z"
      },
      {
        "duration": 43,
        "start_time": "2022-05-21T15:00:03.895Z"
      },
      {
        "duration": 228,
        "start_time": "2022-05-21T15:15:18.207Z"
      },
      {
        "duration": 30,
        "start_time": "2022-05-21T15:15:36.859Z"
      },
      {
        "duration": 10,
        "start_time": "2022-05-21T15:15:38.887Z"
      },
      {
        "duration": 43,
        "start_time": "2022-05-21T15:15:40.019Z"
      },
      {
        "duration": 13,
        "start_time": "2022-05-21T15:15:43.971Z"
      },
      {
        "duration": 5,
        "start_time": "2022-05-21T15:15:47.543Z"
      },
      {
        "duration": 6,
        "start_time": "2022-05-21T15:15:49.067Z"
      },
      {
        "duration": 165,
        "start_time": "2022-05-21T15:16:49.960Z"
      },
      {
        "duration": 4,
        "start_time": "2022-05-21T15:32:29.814Z"
      },
      {
        "duration": 10,
        "start_time": "2022-05-21T15:33:05.084Z"
      },
      {
        "duration": 17,
        "start_time": "2022-05-21T15:33:12.320Z"
      },
      {
        "duration": 6,
        "start_time": "2022-05-21T15:33:46.736Z"
      },
      {
        "duration": 5,
        "start_time": "2022-05-21T15:34:10.439Z"
      },
      {
        "duration": 8,
        "start_time": "2022-05-21T15:37:22.727Z"
      },
      {
        "duration": 9,
        "start_time": "2022-05-21T15:39:11.976Z"
      },
      {
        "duration": 9,
        "start_time": "2022-05-21T15:39:20.536Z"
      },
      {
        "duration": 19,
        "start_time": "2022-05-21T15:48:08.104Z"
      },
      {
        "duration": 4,
        "start_time": "2022-05-21T15:48:24.484Z"
      },
      {
        "duration": 95,
        "start_time": "2022-05-21T15:48:29.143Z"
      },
      {
        "duration": 724,
        "start_time": "2022-05-21T15:48:44.592Z"
      },
      {
        "duration": 336,
        "start_time": "2022-05-21T15:48:50.809Z"
      },
      {
        "duration": 309,
        "start_time": "2022-05-21T15:49:55.136Z"
      },
      {
        "duration": 297,
        "start_time": "2022-05-21T15:50:23.437Z"
      },
      {
        "duration": 4,
        "start_time": "2022-05-21T15:50:30.887Z"
      },
      {
        "duration": 226,
        "start_time": "2022-05-21T15:50:34.487Z"
      },
      {
        "duration": 10,
        "start_time": "2022-05-21T15:54:31.071Z"
      },
      {
        "duration": 4,
        "start_time": "2022-05-21T15:54:47.436Z"
      },
      {
        "duration": 7,
        "start_time": "2022-05-21T15:54:52.860Z"
      },
      {
        "duration": 24,
        "start_time": "2022-05-21T17:52:51.812Z"
      },
      {
        "duration": 4,
        "start_time": "2022-05-21T17:53:41.319Z"
      },
      {
        "duration": 16,
        "start_time": "2022-05-21T18:04:49.783Z"
      },
      {
        "duration": 4,
        "start_time": "2022-05-21T18:09:12.164Z"
      },
      {
        "duration": 418,
        "start_time": "2022-05-21T18:09:13.497Z"
      },
      {
        "duration": 4,
        "start_time": "2022-05-21T18:09:36.064Z"
      },
      {
        "duration": 3,
        "start_time": "2022-05-21T18:09:41.763Z"
      },
      {
        "duration": 3,
        "start_time": "2022-05-21T18:10:04.817Z"
      },
      {
        "duration": 4,
        "start_time": "2022-05-21T18:10:08.094Z"
      },
      {
        "duration": 5,
        "start_time": "2022-05-21T18:10:12.663Z"
      },
      {
        "duration": 435,
        "start_time": "2022-05-21T18:10:14.262Z"
      },
      {
        "duration": 33,
        "start_time": "2022-05-21T18:11:33.796Z"
      },
      {
        "duration": 28,
        "start_time": "2022-05-21T18:11:53.560Z"
      },
      {
        "duration": 19,
        "start_time": "2022-05-21T18:12:32.266Z"
      },
      {
        "duration": 5,
        "start_time": "2022-05-21T18:12:49.180Z"
      },
      {
        "duration": 24,
        "start_time": "2022-05-21T18:12:51.165Z"
      },
      {
        "duration": 21,
        "start_time": "2022-05-21T18:14:38.751Z"
      },
      {
        "duration": 9,
        "start_time": "2022-05-21T18:16:08.138Z"
      },
      {
        "duration": 62,
        "start_time": "2022-05-21T18:16:22.444Z"
      },
      {
        "duration": 4,
        "start_time": "2022-05-21T18:17:29.717Z"
      },
      {
        "duration": 20,
        "start_time": "2022-05-21T18:17:59.031Z"
      },
      {
        "duration": 5,
        "start_time": "2022-05-21T18:18:24.889Z"
      },
      {
        "duration": 12,
        "start_time": "2022-05-21T18:18:29.315Z"
      },
      {
        "duration": 4,
        "start_time": "2022-05-21T18:18:43.300Z"
      },
      {
        "duration": 10,
        "start_time": "2022-05-21T18:19:34.980Z"
      },
      {
        "duration": 5,
        "start_time": "2022-05-21T18:24:58.287Z"
      },
      {
        "duration": 4,
        "start_time": "2022-05-21T18:27:50.290Z"
      },
      {
        "duration": 15,
        "start_time": "2022-05-21T18:27:56.962Z"
      },
      {
        "duration": 4,
        "start_time": "2022-05-21T18:28:09.992Z"
      },
      {
        "duration": 11,
        "start_time": "2022-05-21T18:28:10.833Z"
      },
      {
        "duration": 9,
        "start_time": "2022-05-21T18:28:13.070Z"
      },
      {
        "duration": 5,
        "start_time": "2022-05-21T18:28:18.027Z"
      },
      {
        "duration": 4,
        "start_time": "2022-05-21T18:28:35.666Z"
      },
      {
        "duration": 8,
        "start_time": "2022-05-21T18:29:07.471Z"
      },
      {
        "duration": 4,
        "start_time": "2022-05-21T18:29:22.483Z"
      },
      {
        "duration": 4,
        "start_time": "2022-05-21T18:29:48.216Z"
      },
      {
        "duration": 11,
        "start_time": "2022-05-21T18:29:48.983Z"
      },
      {
        "duration": 4,
        "start_time": "2022-05-21T18:29:49.823Z"
      },
      {
        "duration": 4,
        "start_time": "2022-05-21T18:30:30.079Z"
      },
      {
        "duration": 10,
        "start_time": "2022-05-21T18:30:30.583Z"
      },
      {
        "duration": 6,
        "start_time": "2022-05-21T18:30:31.272Z"
      },
      {
        "duration": 4,
        "start_time": "2022-05-21T18:31:32.997Z"
      },
      {
        "duration": 17,
        "start_time": "2022-05-21T18:31:33.839Z"
      },
      {
        "duration": 4,
        "start_time": "2022-05-21T18:32:11.440Z"
      },
      {
        "duration": 19,
        "start_time": "2022-05-21T18:32:12.318Z"
      },
      {
        "duration": 4,
        "start_time": "2022-05-21T18:36:11.780Z"
      },
      {
        "duration": 18,
        "start_time": "2022-05-21T18:36:12.780Z"
      },
      {
        "duration": 3,
        "start_time": "2022-05-21T18:36:57.760Z"
      },
      {
        "duration": 19,
        "start_time": "2022-05-21T18:36:59.237Z"
      },
      {
        "duration": 3,
        "start_time": "2022-05-21T18:37:12.499Z"
      },
      {
        "duration": 19,
        "start_time": "2022-05-21T18:37:14.071Z"
      },
      {
        "duration": 4,
        "start_time": "2022-05-21T18:40:43.195Z"
      },
      {
        "duration": 12,
        "start_time": "2022-05-21T18:40:43.970Z"
      },
      {
        "duration": 4,
        "start_time": "2022-05-21T18:41:14.035Z"
      },
      {
        "duration": 3,
        "start_time": "2022-05-21T18:41:41.187Z"
      },
      {
        "duration": 10,
        "start_time": "2022-05-21T18:41:41.970Z"
      },
      {
        "duration": 4,
        "start_time": "2022-05-21T18:41:43.019Z"
      },
      {
        "duration": 4,
        "start_time": "2022-05-21T18:41:51.766Z"
      },
      {
        "duration": 10,
        "start_time": "2022-05-21T18:41:52.274Z"
      },
      {
        "duration": 7,
        "start_time": "2022-05-21T18:41:52.722Z"
      },
      {
        "duration": 4,
        "start_time": "2022-05-21T18:41:59.514Z"
      },
      {
        "duration": 9,
        "start_time": "2022-05-21T18:41:59.978Z"
      },
      {
        "duration": 5,
        "start_time": "2022-05-21T18:42:00.502Z"
      },
      {
        "duration": 4,
        "start_time": "2022-05-21T18:42:08.595Z"
      },
      {
        "duration": 11,
        "start_time": "2022-05-21T18:42:10.002Z"
      },
      {
        "duration": 5,
        "start_time": "2022-05-21T18:42:10.601Z"
      },
      {
        "duration": 10,
        "start_time": "2022-05-21T18:46:05.994Z"
      },
      {
        "duration": 4,
        "start_time": "2022-05-21T18:46:18.122Z"
      },
      {
        "duration": 26,
        "start_time": "2022-05-21T18:46:22.803Z"
      },
      {
        "duration": 11,
        "start_time": "2022-05-21T18:48:17.129Z"
      },
      {
        "duration": 28,
        "start_time": "2022-05-21T18:48:49.019Z"
      },
      {
        "duration": 4746,
        "start_time": "2022-05-21T18:48:58.323Z"
      },
      {
        "duration": 13859,
        "start_time": "2022-05-21T18:50:05.711Z"
      },
      {
        "duration": 13886,
        "start_time": "2022-05-21T18:50:48.200Z"
      },
      {
        "duration": 3942,
        "start_time": "2022-05-21T18:51:25.312Z"
      },
      {
        "duration": 12965,
        "start_time": "2022-05-21T18:54:07.682Z"
      },
      {
        "duration": 45831,
        "start_time": "2022-05-21T18:55:07.388Z"
      },
      {
        "duration": 6248,
        "start_time": "2022-05-21T18:56:09.522Z"
      },
      {
        "duration": 52,
        "start_time": "2022-05-21T19:14:44.586Z"
      },
      {
        "duration": 5299,
        "start_time": "2022-05-21T19:18:37.356Z"
      },
      {
        "duration": 4023,
        "start_time": "2022-05-21T19:19:32.663Z"
      },
      {
        "duration": 6561,
        "start_time": "2022-05-21T19:22:32.446Z"
      },
      {
        "duration": 3639,
        "start_time": "2022-05-21T19:23:19.401Z"
      },
      {
        "duration": 5957,
        "start_time": "2022-05-21T19:23:23.042Z"
      },
      {
        "duration": 4265,
        "start_time": "2022-05-21T19:24:00.517Z"
      },
      {
        "duration": 9542,
        "start_time": "2022-05-21T19:29:11.321Z"
      },
      {
        "duration": 9913,
        "start_time": "2022-05-21T19:32:22.590Z"
      },
      {
        "duration": 51,
        "start_time": "2022-05-21T19:33:21.986Z"
      },
      {
        "duration": 916,
        "start_time": "2022-05-21T19:35:13.224Z"
      },
      {
        "duration": 37,
        "start_time": "2022-05-21T19:35:30.438Z"
      },
      {
        "duration": 42,
        "start_time": "2022-05-21T19:35:46.906Z"
      },
      {
        "duration": 1096,
        "start_time": "2022-05-21T19:38:00.041Z"
      },
      {
        "duration": 20,
        "start_time": "2022-05-21T19:38:10.453Z"
      },
      {
        "duration": 19,
        "start_time": "2022-05-21T19:38:17.139Z"
      },
      {
        "duration": 13,
        "start_time": "2022-05-21T19:40:17.049Z"
      },
      {
        "duration": 4,
        "start_time": "2022-05-21T19:40:25.213Z"
      },
      {
        "duration": 4,
        "start_time": "2022-05-21T19:40:33.236Z"
      },
      {
        "duration": 5,
        "start_time": "2022-05-21T19:40:37.571Z"
      },
      {
        "duration": 12,
        "start_time": "2022-05-21T19:41:24.303Z"
      },
      {
        "duration": 5,
        "start_time": "2022-05-21T19:41:36.506Z"
      },
      {
        "duration": 8,
        "start_time": "2022-05-21T19:49:59.693Z"
      },
      {
        "duration": 8,
        "start_time": "2022-05-21T19:50:04.498Z"
      },
      {
        "duration": 12,
        "start_time": "2022-05-21T19:53:58.594Z"
      },
      {
        "duration": 5,
        "start_time": "2022-05-21T19:54:53.205Z"
      },
      {
        "duration": 185,
        "start_time": "2022-05-21T19:55:14.256Z"
      },
      {
        "duration": 79,
        "start_time": "2022-05-21T19:56:06.056Z"
      },
      {
        "duration": 125,
        "start_time": "2022-05-21T19:56:10.420Z"
      },
      {
        "duration": 193,
        "start_time": "2022-05-21T19:58:14.237Z"
      },
      {
        "duration": 206,
        "start_time": "2022-05-21T19:58:22.037Z"
      },
      {
        "duration": 15,
        "start_time": "2022-05-21T19:58:37.851Z"
      },
      {
        "duration": 7,
        "start_time": "2022-05-21T19:58:46.576Z"
      },
      {
        "duration": 11,
        "start_time": "2022-05-21T19:59:37.946Z"
      },
      {
        "duration": 24,
        "start_time": "2022-05-21T20:00:03.405Z"
      },
      {
        "duration": 10,
        "start_time": "2022-05-21T20:00:13.027Z"
      },
      {
        "duration": 11,
        "start_time": "2022-05-21T20:00:17.208Z"
      },
      {
        "duration": 4,
        "start_time": "2022-05-21T20:00:32.288Z"
      },
      {
        "duration": 11,
        "start_time": "2022-05-21T20:00:39.211Z"
      },
      {
        "duration": 44,
        "start_time": "2022-05-21T20:00:49.786Z"
      },
      {
        "duration": 154,
        "start_time": "2022-05-21T20:00:58.983Z"
      },
      {
        "duration": 153,
        "start_time": "2022-05-21T20:01:17.292Z"
      },
      {
        "duration": 10,
        "start_time": "2022-05-21T20:01:40.522Z"
      },
      {
        "duration": 14,
        "start_time": "2022-05-21T20:01:57.683Z"
      },
      {
        "duration": 10,
        "start_time": "2022-05-21T20:02:21.502Z"
      },
      {
        "duration": 10,
        "start_time": "2022-05-21T20:02:26.592Z"
      },
      {
        "duration": 8,
        "start_time": "2022-05-21T20:02:41.542Z"
      },
      {
        "duration": 37,
        "start_time": "2022-05-21T20:03:56.788Z"
      },
      {
        "duration": 91,
        "start_time": "2022-05-21T20:04:24.133Z"
      },
      {
        "duration": 10,
        "start_time": "2022-05-21T20:05:42.819Z"
      },
      {
        "duration": 4,
        "start_time": "2022-05-21T20:05:57.103Z"
      },
      {
        "duration": 1640,
        "start_time": "2022-05-21T20:06:14.184Z"
      },
      {
        "duration": 4681,
        "start_time": "2022-05-21T20:09:57.410Z"
      },
      {
        "duration": 69,
        "start_time": "2022-05-21T20:10:36.080Z"
      },
      {
        "duration": 493,
        "start_time": "2022-05-21T20:10:47.030Z"
      },
      {
        "duration": 1057,
        "start_time": "2022-05-21T20:11:12.997Z"
      },
      {
        "duration": 2113,
        "start_time": "2022-05-21T20:11:37.378Z"
      },
      {
        "duration": 3299,
        "start_time": "2022-05-21T20:15:19.691Z"
      },
      {
        "duration": 3282,
        "start_time": "2022-05-21T20:16:30.328Z"
      },
      {
        "duration": 2731,
        "start_time": "2022-05-21T20:18:28.523Z"
      },
      {
        "duration": 30418,
        "start_time": "2022-05-21T20:18:46.199Z"
      },
      {
        "duration": 433,
        "start_time": "2022-05-21T20:19:43.863Z"
      },
      {
        "duration": 5,
        "start_time": "2022-05-21T20:19:46.509Z"
      },
      {
        "duration": 201,
        "start_time": "2022-05-21T20:20:58.988Z"
      },
      {
        "duration": 6,
        "start_time": "2022-05-21T20:20:59.872Z"
      },
      {
        "duration": 155,
        "start_time": "2022-05-21T20:21:14.112Z"
      },
      {
        "duration": 6,
        "start_time": "2022-05-21T20:21:14.796Z"
      },
      {
        "duration": 41,
        "start_time": "2022-05-21T20:21:22.901Z"
      },
      {
        "duration": 431,
        "start_time": "2022-05-21T20:21:29.389Z"
      },
      {
        "duration": 7,
        "start_time": "2022-05-21T20:21:29.914Z"
      },
      {
        "duration": 18,
        "start_time": "2022-05-21T20:22:45.135Z"
      },
      {
        "duration": 15,
        "start_time": "2022-05-21T20:31:56.214Z"
      },
      {
        "duration": 49,
        "start_time": "2022-05-21T20:32:06.907Z"
      },
      {
        "duration": 21,
        "start_time": "2022-05-21T20:32:12.365Z"
      },
      {
        "duration": 8,
        "start_time": "2022-05-21T20:32:15.014Z"
      },
      {
        "duration": 7,
        "start_time": "2022-05-21T20:32:15.173Z"
      },
      {
        "duration": 392,
        "start_time": "2022-05-21T20:32:15.534Z"
      },
      {
        "duration": 96,
        "start_time": "2022-05-21T20:32:15.929Z"
      },
      {
        "duration": 11,
        "start_time": "2022-05-21T20:32:16.067Z"
      },
      {
        "duration": 328,
        "start_time": "2022-05-21T20:32:16.216Z"
      },
      {
        "duration": 5,
        "start_time": "2022-05-21T20:32:16.595Z"
      },
      {
        "duration": 12,
        "start_time": "2022-05-21T20:32:16.759Z"
      },
      {
        "duration": 9,
        "start_time": "2022-05-21T20:32:16.928Z"
      },
      {
        "duration": 201,
        "start_time": "2022-05-21T20:32:17.123Z"
      },
      {
        "duration": 3502,
        "start_time": "2022-05-21T20:32:17.326Z"
      },
      {
        "duration": 32574,
        "start_time": "2022-05-21T20:32:20.830Z"
      },
      {
        "duration": 496,
        "start_time": "2022-05-21T20:32:53.406Z"
      },
      {
        "duration": 6,
        "start_time": "2022-05-21T20:32:53.904Z"
      },
      {
        "duration": 267,
        "start_time": "2022-05-21T20:33:13.947Z"
      },
      {
        "duration": 8,
        "start_time": "2022-05-21T20:33:14.917Z"
      },
      {
        "duration": 4554,
        "start_time": "2022-05-21T20:42:57.103Z"
      },
      {
        "duration": 14,
        "start_time": "2022-05-21T20:43:13.968Z"
      },
      {
        "duration": 5,
        "start_time": "2022-05-21T20:43:19.496Z"
      },
      {
        "duration": 5,
        "start_time": "2022-05-21T20:43:49.823Z"
      },
      {
        "duration": 7,
        "start_time": "2022-05-21T20:44:07.800Z"
      },
      {
        "duration": 20,
        "start_time": "2022-05-21T20:46:03.645Z"
      },
      {
        "duration": 10,
        "start_time": "2022-05-21T20:48:45.848Z"
      },
      {
        "duration": 61,
        "start_time": "2022-05-21T20:48:53.922Z"
      },
      {
        "duration": 25259,
        "start_time": "2022-05-21T20:49:57.288Z"
      },
      {
        "duration": 0,
        "start_time": "2022-05-21T20:50:22.550Z"
      },
      {
        "duration": 293004,
        "start_time": "2022-05-21T20:50:25.502Z"
      },
      {
        "duration": 49,
        "start_time": "2022-05-21T20:55:18.509Z"
      },
      {
        "duration": 23,
        "start_time": "2022-05-21T20:59:57.931Z"
      },
      {
        "duration": 5,
        "start_time": "2022-05-21T21:00:14.398Z"
      },
      {
        "duration": 441,
        "start_time": "2022-05-21T21:00:41.395Z"
      },
      {
        "duration": 6,
        "start_time": "2022-05-21T21:00:42.597Z"
      },
      {
        "duration": 51,
        "start_time": "2022-05-21T21:02:00.970Z"
      },
      {
        "duration": 42,
        "start_time": "2022-05-21T21:02:15.209Z"
      },
      {
        "duration": 1124790,
        "start_time": "2022-05-21T21:04:59.587Z"
      },
      {
        "duration": 29,
        "start_time": "2022-05-21T21:23:44.380Z"
      },
      {
        "duration": 425,
        "start_time": "2022-05-21T21:23:44.425Z"
      },
      {
        "duration": 323,
        "start_time": "2022-05-21T21:24:23.619Z"
      },
      {
        "duration": 10,
        "start_time": "2022-05-21T21:24:25.447Z"
      },
      {
        "duration": 36,
        "start_time": "2022-05-21T21:24:34.299Z"
      },
      {
        "duration": 1208790,
        "start_time": "2022-05-21T21:25:44.098Z"
      },
      {
        "duration": 46,
        "start_time": "2022-05-21T21:45:52.890Z"
      },
      {
        "duration": 1251,
        "start_time": "2022-05-22T17:23:53.741Z"
      },
      {
        "duration": 5334,
        "start_time": "2022-05-22T18:38:54.287Z"
      },
      {
        "duration": 28515,
        "start_time": "2022-05-22T18:39:12.742Z"
      },
      {
        "duration": 5316,
        "start_time": "2022-05-22T18:39:54.467Z"
      },
      {
        "duration": 5668,
        "start_time": "2022-05-22T18:40:18.327Z"
      },
      {
        "duration": 5494,
        "start_time": "2022-05-22T18:40:35.116Z"
      },
      {
        "duration": 5766,
        "start_time": "2022-05-22T18:40:50.382Z"
      },
      {
        "duration": 5421,
        "start_time": "2022-05-22T18:41:32.701Z"
      },
      {
        "duration": 5626,
        "start_time": "2022-05-22T18:41:43.160Z"
      },
      {
        "duration": 30088,
        "start_time": "2022-05-22T18:42:00.577Z"
      },
      {
        "duration": 5651,
        "start_time": "2022-05-22T18:47:23.013Z"
      },
      {
        "duration": 27917,
        "start_time": "2022-05-22T18:47:41.555Z"
      },
      {
        "duration": 112,
        "start_time": "2022-05-22T18:49:20.039Z"
      },
      {
        "duration": 6,
        "start_time": "2022-05-22T18:49:24.149Z"
      },
      {
        "duration": 7,
        "start_time": "2022-05-22T18:58:18.154Z"
      },
      {
        "duration": 324,
        "start_time": "2022-05-22T18:58:44.782Z"
      },
      {
        "duration": 7,
        "start_time": "2022-05-22T18:58:46.060Z"
      },
      {
        "duration": 8,
        "start_time": "2022-05-22T18:58:49.755Z"
      },
      {
        "duration": 341,
        "start_time": "2022-05-22T18:58:58.713Z"
      },
      {
        "duration": 139,
        "start_time": "2022-05-22T18:59:10.457Z"
      },
      {
        "duration": 9,
        "start_time": "2022-05-22T18:59:54.673Z"
      },
      {
        "duration": 220,
        "start_time": "2022-05-22T19:00:41.154Z"
      },
      {
        "duration": 108,
        "start_time": "2022-05-22T19:01:36.447Z"
      },
      {
        "duration": 37,
        "start_time": "2022-05-23T17:33:19.591Z"
      },
      {
        "duration": 38,
        "start_time": "2022-05-23T17:34:04.970Z"
      },
      {
        "duration": 1283,
        "start_time": "2022-05-23T17:34:11.409Z"
      },
      {
        "duration": 100,
        "start_time": "2022-05-23T17:34:19.579Z"
      },
      {
        "duration": 19,
        "start_time": "2022-05-23T17:34:21.011Z"
      },
      {
        "duration": 45,
        "start_time": "2022-05-23T17:34:26.143Z"
      },
      {
        "duration": 20,
        "start_time": "2022-05-23T17:34:28.219Z"
      },
      {
        "duration": 160,
        "start_time": "2022-05-23T17:42:17.585Z"
      },
      {
        "duration": 14,
        "start_time": "2022-05-23T17:42:18.263Z"
      },
      {
        "duration": 4,
        "start_time": "2022-05-23T17:42:18.446Z"
      },
      {
        "duration": 12,
        "start_time": "2022-05-23T17:49:25.091Z"
      },
      {
        "duration": 5,
        "start_time": "2022-05-24T18:45:03.607Z"
      },
      {
        "duration": 47,
        "start_time": "2022-05-24T18:45:09.046Z"
      },
      {
        "duration": 11,
        "start_time": "2022-05-24T18:52:59.298Z"
      },
      {
        "duration": 31,
        "start_time": "2022-05-24T18:55:49.638Z"
      },
      {
        "duration": 419,
        "start_time": "2022-05-24T19:03:29.388Z"
      },
      {
        "duration": 5,
        "start_time": "2022-05-24T19:03:49.291Z"
      },
      {
        "duration": 135,
        "start_time": "2022-05-24T19:03:56.377Z"
      },
      {
        "duration": 4,
        "start_time": "2022-05-24T19:21:40.625Z"
      },
      {
        "duration": 9,
        "start_time": "2022-05-24T19:24:25.440Z"
      },
      {
        "duration": 112,
        "start_time": "2022-05-24T19:24:55.826Z"
      },
      {
        "duration": 58,
        "start_time": "2022-05-24T19:28:37.070Z"
      },
      {
        "duration": 29,
        "start_time": "2022-05-24T19:30:33.873Z"
      },
      {
        "duration": 4,
        "start_time": "2022-05-24T19:36:17.206Z"
      },
      {
        "duration": 16,
        "start_time": "2022-05-24T19:36:20.979Z"
      },
      {
        "duration": 161,
        "start_time": "2022-05-24T19:37:29.380Z"
      },
      {
        "duration": 5510,
        "start_time": "2022-05-24T19:37:56.227Z"
      },
      {
        "duration": 23124,
        "start_time": "2022-05-24T19:38:34.676Z"
      },
      {
        "duration": 23458,
        "start_time": "2022-05-24T19:39:08.993Z"
      },
      {
        "duration": 61,
        "start_time": "2022-05-24T19:41:21.274Z"
      },
      {
        "duration": 98,
        "start_time": "2022-05-24T19:41:55.132Z"
      },
      {
        "duration": 25,
        "start_time": "2022-05-24T19:41:56.459Z"
      },
      {
        "duration": 13,
        "start_time": "2022-05-24T19:43:06.847Z"
      },
      {
        "duration": 5500,
        "start_time": "2022-05-24T19:50:35.131Z"
      },
      {
        "duration": 22071,
        "start_time": "2022-05-24T19:50:40.633Z"
      },
      {
        "duration": 3222,
        "start_time": "2022-05-24T19:51:32.892Z"
      },
      {
        "duration": 13603,
        "start_time": "2022-05-24T19:51:36.116Z"
      },
      {
        "duration": 14271,
        "start_time": "2022-05-24T19:51:59.412Z"
      },
      {
        "duration": 428,
        "start_time": "2022-05-24T19:52:23.079Z"
      },
      {
        "duration": 448,
        "start_time": "2022-05-24T19:56:21.973Z"
      },
      {
        "duration": 11,
        "start_time": "2022-05-24T20:00:09.203Z"
      },
      {
        "duration": 11,
        "start_time": "2022-05-24T20:00:18.056Z"
      },
      {
        "duration": 11,
        "start_time": "2022-05-24T20:00:33.116Z"
      },
      {
        "duration": 39,
        "start_time": "2022-05-24T20:00:45.946Z"
      },
      {
        "duration": 12,
        "start_time": "2022-05-24T20:00:51.343Z"
      },
      {
        "duration": 12,
        "start_time": "2022-05-24T20:01:03.647Z"
      },
      {
        "duration": 4617,
        "start_time": "2022-05-24T20:03:01.202Z"
      },
      {
        "duration": 19027,
        "start_time": "2022-05-24T20:03:05.820Z"
      },
      {
        "duration": 22843,
        "start_time": "2022-05-24T20:03:25.918Z"
      },
      {
        "duration": 122,
        "start_time": "2022-05-24T20:05:28.724Z"
      },
      {
        "duration": 26,
        "start_time": "2022-05-24T20:05:50.176Z"
      },
      {
        "duration": 6,
        "start_time": "2022-05-24T20:06:34.052Z"
      },
      {
        "duration": 13,
        "start_time": "2022-05-24T20:06:40.391Z"
      },
      {
        "duration": 143,
        "start_time": "2022-05-24T20:06:46.949Z"
      }
    ],
    "kernelspec": {
      "display_name": "Python 3 (ipykernel)",
      "language": "python",
      "name": "python3"
    },
    "language_info": {
      "codemirror_mode": {
        "name": "ipython",
        "version": 3
      },
      "file_extension": ".py",
      "mimetype": "text/x-python",
      "name": "python",
      "nbconvert_exporter": "python",
      "pygments_lexer": "ipython3",
      "version": "3.9.5"
    },
    "toc": {
      "base_numbering": 1,
      "nav_menu": {},
      "number_sections": true,
      "sideBar": true,
      "skip_h1_title": true,
      "title_cell": "Содержание",
      "title_sidebar": "Contents",
      "toc_cell": true,
      "toc_position": {
        "height": "763px",
        "left": "224px",
        "top": "371.125px",
        "width": "366.587px"
      },
      "toc_section_display": true,
      "toc_window_display": true
    },
    "colab": {
      "provenance": [],
      "collapsed_sections": []
    }
  },
  "nbformat": 4,
  "nbformat_minor": 0
}