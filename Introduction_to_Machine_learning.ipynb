{
  "cells": [
    {
      "cell_type": "markdown",
      "source": [
        "**Описание проекта**\n",
        "\n",
        "Оператор мобильной связи «Мегалайн» выяснил: многие клиенты пользуются архивными тарифами. Они хотят построить систему, способную проанализировать поведение клиентов и предложить пользователям новый тариф: «Смарт» или «Ультра».\n",
        "\n",
        "В вашем распоряжении данные о поведении клиентов, которые уже перешли на эти тарифы (из проекта курса «Статистический анализ данных»). Нужно построить модель для задачи классификации, которая выберет подходящий тариф. Предобработка данных не понадобится — вы её уже сделали.\n",
        "\n",
        "Постройте модель с максимально большим значением accuracy. Чтобы сдать проект успешно, нужно довести долю правильных ответов по крайней мере до 0.75. Проверьте accuracy на тестовой выборке самостоятельно."
      ],
      "metadata": {
        "id": "t3jM3ItgFAud"
      }
    },
    {
      "cell_type": "markdown",
      "source": [
        "Описание данных\n",
        "\n",
        "Каждый объект в наборе данных — это информация о поведении одного пользователя за месяц. Известно:\n",
        "\n",
        "  * сalls — количество звонков,\n",
        "  * minutes — суммарная длительность звонков в минутах,\n",
        "  * messages — количество sms-сообщений,\n",
        "  * mb_used — израсходованный интернет-трафик в Мб,\n",
        "  * is_ultra — каким тарифом пользовался в течение месяца («Ультра» — 1, «Смарт» — 0)."
      ],
      "metadata": {
        "id": "42CNAzPhFAzZ"
      }
    },
    {
      "cell_type": "markdown",
      "metadata": {
        "id": "q1zWxNJ9E4Gt"
      },
      "source": [
        "## Откройте и изучите файл"
      ]
    },
    {
      "cell_type": "code",
      "execution_count": null,
      "metadata": {
        "id": "O5svpzT2E4Gu"
      },
      "outputs": [],
      "source": [
        "import pandas as pd\n",
        "import matplotlib.pyplot as plt\n",
        "import numpy as np\n",
        "from sklearn.model_selection import train_test_split\n",
        "from sklearn.tree import DecisionTreeClassifier\n",
        "from sklearn.ensemble import RandomForestClassifier\n",
        "from sklearn.linear_model import LogisticRegression\n",
        "from sklearn.metrics import accuracy_score\n",
        "from joblib import dump\n",
        "from sklearn.metrics import recall_score\n",
        "from sklearn.metrics import precision_score"
      ]
    },
    {
      "cell_type": "code",
      "execution_count": null,
      "metadata": {
        "id": "TYZVkW17E4Gv"
      },
      "outputs": [],
      "source": [
        "df = pd.read_csv('/datasets/users_behavior.csv', decimal = ',')"
      ]
    },
    {
      "cell_type": "code",
      "execution_count": null,
      "metadata": {
        "id": "BZ11pi2mE4Gw",
        "outputId": "af62f08c-3ac9-462c-d262-97099eaaad03"
      },
      "outputs": [
        {
          "name": "stdout",
          "output_type": "stream",
          "text": [
            "<class 'pandas.core.frame.DataFrame'>\n",
            "RangeIndex: 3214 entries, 0 to 3213\n",
            "Data columns (total 5 columns):\n",
            " #   Column    Non-Null Count  Dtype \n",
            "---  ------    --------------  ----- \n",
            " 0   calls     3214 non-null   object\n",
            " 1   minutes   3214 non-null   object\n",
            " 2   messages  3214 non-null   object\n",
            " 3   mb_used   3214 non-null   object\n",
            " 4   is_ultra  3214 non-null   int64 \n",
            "dtypes: int64(1), object(4)\n",
            "memory usage: 125.7+ KB\n"
          ]
        }
      ],
      "source": [
        "df.info()"
      ]
    },
    {
      "cell_type": "code",
      "execution_count": null,
      "metadata": {
        "id": "8Hruwk3BE4Gw",
        "outputId": "44ab6123-3ade-4401-a7e3-0b6494b00bf7"
      },
      "outputs": [
        {
          "data": {
            "text/html": [
              "<div>\n",
              "<style scoped>\n",
              "    .dataframe tbody tr th:only-of-type {\n",
              "        vertical-align: middle;\n",
              "    }\n",
              "\n",
              "    .dataframe tbody tr th {\n",
              "        vertical-align: top;\n",
              "    }\n",
              "\n",
              "    .dataframe thead th {\n",
              "        text-align: right;\n",
              "    }\n",
              "</style>\n",
              "<table border=\"1\" class=\"dataframe\">\n",
              "  <thead>\n",
              "    <tr style=\"text-align: right;\">\n",
              "      <th></th>\n",
              "      <th>calls</th>\n",
              "      <th>minutes</th>\n",
              "      <th>messages</th>\n",
              "      <th>mb_used</th>\n",
              "      <th>is_ultra</th>\n",
              "    </tr>\n",
              "  </thead>\n",
              "  <tbody>\n",
              "    <tr>\n",
              "      <th>0</th>\n",
              "      <td>40.0</td>\n",
              "      <td>311.8999999999999</td>\n",
              "      <td>83.0</td>\n",
              "      <td>19915.42</td>\n",
              "      <td>0</td>\n",
              "    </tr>\n",
              "    <tr>\n",
              "      <th>1</th>\n",
              "      <td>85.0</td>\n",
              "      <td>516.75</td>\n",
              "      <td>56.0</td>\n",
              "      <td>22696.96</td>\n",
              "      <td>0</td>\n",
              "    </tr>\n",
              "    <tr>\n",
              "      <th>2</th>\n",
              "      <td>77.0</td>\n",
              "      <td>467.6600000000001</td>\n",
              "      <td>86.0</td>\n",
              "      <td>21060.449999999997</td>\n",
              "      <td>0</td>\n",
              "    </tr>\n",
              "    <tr>\n",
              "      <th>3</th>\n",
              "      <td>106.0</td>\n",
              "      <td>745.53</td>\n",
              "      <td>81.0</td>\n",
              "      <td>8437.39</td>\n",
              "      <td>1</td>\n",
              "    </tr>\n",
              "    <tr>\n",
              "      <th>4</th>\n",
              "      <td>66.0</td>\n",
              "      <td>418.74</td>\n",
              "      <td>1.0</td>\n",
              "      <td>14502.750000000002</td>\n",
              "      <td>0</td>\n",
              "    </tr>\n",
              "  </tbody>\n",
              "</table>\n",
              "</div>"
            ],
            "text/plain": [
              "   calls            minutes messages             mb_used  is_ultra\n",
              "0   40.0  311.8999999999999     83.0            19915.42         0\n",
              "1   85.0             516.75     56.0            22696.96         0\n",
              "2   77.0  467.6600000000001     86.0  21060.449999999997         0\n",
              "3  106.0             745.53     81.0             8437.39         1\n",
              "4   66.0             418.74      1.0  14502.750000000002         0"
            ]
          },
          "execution_count": 3,
          "metadata": {},
          "output_type": "execute_result"
        }
      ],
      "source": [
        "df.head()"
      ]
    },
    {
      "cell_type": "code",
      "execution_count": null,
      "metadata": {
        "id": "Ap6G4mxhE4Gx",
        "outputId": "0b383e9e-e3cd-4d0a-e09d-9c49f15d696c"
      },
      "outputs": [
        {
          "name": "stdout",
          "output_type": "stream",
          "text": [
            "колличество клиентов с тарифом ультра 985\n",
            "колличество клиентов 3214\n",
            "процент клиентов с тарифом ультра 30.65\n"
          ]
        }
      ],
      "source": [
        "print('колличество клиентов с тарифом ультра', df['is_ultra'].sum())\n",
        "print('колличество клиентов', df['is_ultra'].count())\n",
        "print('процент клиентов с тарифом ультра', round(df['is_ultra'].sum()*100/df['is_ultra'].count(), 2))"
      ]
    },
    {
      "cell_type": "code",
      "execution_count": null,
      "metadata": {
        "id": "hFGiwWStE4Gy"
      },
      "outputs": [],
      "source": [
        "df['calls'] = pd.to_numeric(df['calls'])\n",
        "df['minutes'] = pd.to_numeric(df['minutes'])\n",
        "df['messages'] = pd.to_numeric(df['messages'])\n",
        "df['mb_used'] = pd.to_numeric(df['mb_used'])"
      ]
    },
    {
      "cell_type": "code",
      "execution_count": null,
      "metadata": {
        "id": "Jkgoiy2yE4Gz",
        "outputId": "4afa0d92-9356-4532-ba4c-9af1ae6216fc"
      },
      "outputs": [
        {
          "data": {
            "text/plain": [
              "<matplotlib.legend.Legend at 0x7f42692d1670>"
            ]
          },
          "execution_count": 31,
          "metadata": {},
          "output_type": "execute_result"
        },
        {
          "data": {
            "image/png": "[encoded data removed]",
            "text/plain": [
              "<Figure size 1152x1152 with 4 Axes>"
            ]
          },
          "metadata": {
            "needs_background": "light"
          },
          "output_type": "display_data"
        }
      ],
      "source": [
        "# Настройка размеров подложки\n",
        "plt.figure(figsize=(16, 16))\n",
        "\n",
        "# Вывод графиков\n",
        "plt.subplot(3, 2, 1)\n",
        "df['calls'].hist(bins=100, alpha=0.5, label='total')\n",
        "df[df.is_ultra == 1]['calls'].hist(bins=100, alpha=0.5, label='ultra')\n",
        "plt.title('calls', fontsize=15)\n",
        "plt.legend()\n",
        "\n",
        "plt.subplot(3, 2, 2)\n",
        "df['minutes'].hist(bins=100, alpha=0.5, label='total')\n",
        "df[df.is_ultra == 1]['minutes'].hist(bins=100, alpha=0.5, label='ultra')\n",
        "plt.title('minutes', fontsize=15)\n",
        "plt.legend()\n",
        "\n",
        "plt.subplot(3, 2, 3)\n",
        "df['messages'].hist(bins=100, alpha=0.5, label='total')\n",
        "df[df.is_ultra == 1]['messages'].hist(bins=100, alpha=0.5, label='ultra')\n",
        "plt.title('messages', fontsize=15)\n",
        "plt.legend()\n",
        "\n",
        "plt.subplot(3, 2, 4)\n",
        "df['mb_used'].hist(bins=100, alpha=0.5, label='total')\n",
        "df[df.is_ultra == 1]['mb_used'].hist(bins=100, alpha=0.5,label='ultra')\n",
        "plt.title('mb_used', fontsize=15)\n",
        "plt.legend()"
      ]
    },
    {
      "cell_type": "markdown",
      "metadata": {
        "id": "g4Qh2UjQE4Gz"
      },
      "source": [
        " Клиенты с тарифом ультра сильнее распределены по объему использемых параметров. Остальные клиенты группируются лишь на первой половине этой шкалы.\n"
      ]
    },
    {
      "cell_type": "code",
      "execution_count": null,
      "metadata": {
        "id": "mHfiS6QQE4G0"
      },
      "outputs": [],
      "source": [
        "df_stat=pd.DataFrame({'option':['mean in ultra','total mean','median in ultra','total median'],'calls':[0,0,0,0],'minutes':[0,0,0,0],'messages':[0,0,0,0],'mb_used':[0,0,0,0]})\n",
        "\n",
        "for option in ('calls','minutes','messages','mb_used'):\n",
        "    df_stat.loc[0, option] = df[df.is_ultra == 1][option].mean()\n",
        "    df_stat.loc[1, option] = df[option].mean()\n",
        "    df_stat.loc[2, option] = df[df.is_ultra == 1][option].median()\n",
        "    df_stat.loc[3, option] = df[option].median()"
      ]
    },
    {
      "cell_type": "code",
      "execution_count": null,
      "metadata": {
        "id": "4Mqq6VK4E4G0",
        "outputId": "7e595e2e-e8ef-440f-bdcb-be2367651445"
      },
      "outputs": [
        {
          "data": {
            "text/html": [
              "<div>\n",
              "<style scoped>\n",
              "    .dataframe tbody tr th:only-of-type {\n",
              "        vertical-align: middle;\n",
              "    }\n",
              "\n",
              "    .dataframe tbody tr th {\n",
              "        vertical-align: top;\n",
              "    }\n",
              "\n",
              "    .dataframe thead th {\n",
              "        text-align: right;\n",
              "    }\n",
              "</style>\n",
              "<table border=\"1\" class=\"dataframe\">\n",
              "  <thead>\n",
              "    <tr style=\"text-align: right;\">\n",
              "      <th></th>\n",
              "      <th>option</th>\n",
              "      <th>calls</th>\n",
              "      <th>minutes</th>\n",
              "      <th>messages</th>\n",
              "      <th>mb_used</th>\n",
              "    </tr>\n",
              "  </thead>\n",
              "  <tbody>\n",
              "    <tr>\n",
              "      <th>0</th>\n",
              "      <td>mean in ultra</td>\n",
              "      <td>73.392893</td>\n",
              "      <td>511.224569</td>\n",
              "      <td>49.363452</td>\n",
              "      <td>19468.823228</td>\n",
              "    </tr>\n",
              "    <tr>\n",
              "      <th>1</th>\n",
              "      <td>total mean</td>\n",
              "      <td>63.038892</td>\n",
              "      <td>438.208787</td>\n",
              "      <td>38.281269</td>\n",
              "      <td>17207.673836</td>\n",
              "    </tr>\n",
              "    <tr>\n",
              "      <th>2</th>\n",
              "      <td>median in ultra</td>\n",
              "      <td>74.000000</td>\n",
              "      <td>502.550000</td>\n",
              "      <td>38.000000</td>\n",
              "      <td>19308.010000</td>\n",
              "    </tr>\n",
              "    <tr>\n",
              "      <th>3</th>\n",
              "      <td>total median</td>\n",
              "      <td>62.000000</td>\n",
              "      <td>430.600000</td>\n",
              "      <td>30.000000</td>\n",
              "      <td>16943.235000</td>\n",
              "    </tr>\n",
              "  </tbody>\n",
              "</table>\n",
              "</div>"
            ],
            "text/plain": [
              "            option      calls     minutes   messages       mb_used\n",
              "0    mean in ultra  73.392893  511.224569  49.363452  19468.823228\n",
              "1       total mean  63.038892  438.208787  38.281269  17207.673836\n",
              "2  median in ultra  74.000000  502.550000  38.000000  19308.010000\n",
              "3     total median  62.000000  430.600000  30.000000  16943.235000"
            ]
          },
          "execution_count": 28,
          "metadata": {},
          "output_type": "execute_result"
        }
      ],
      "source": [
        "df_stat"
      ]
    },
    {
      "cell_type": "markdown",
      "metadata": {
        "id": "FIgoq0OlE4G1"
      },
      "source": [
        "## Разбейте данные на выборки"
      ]
    },
    {
      "cell_type": "code",
      "execution_count": null,
      "metadata": {
        "id": "53qu8YxPE4G2"
      },
      "outputs": [],
      "source": [
        "df_80, df_test = train_test_split(df, test_size=0.2, random_state=12345)\n",
        "df_train, df_valid = train_test_split(df_80, test_size=0.25, random_state=12345)\n",
        "\n",
        "features_test = df_test[['calls', 'minutes', 'messages', 'mb_used']]\n",
        "target_test = df_test['is_ultra']\n",
        "features_train = df_train[['calls', 'minutes', 'messages', 'mb_used']]\n",
        "target_train = df_train['is_ultra']\n",
        "features_valid = df_valid[['calls', 'minutes', 'messages', 'mb_used']]\n",
        "target_valid = df_valid['is_ultra']"
      ]
    },
    {
      "cell_type": "markdown",
      "metadata": {
        "id": "foQLIwlcE4G2"
      },
      "source": [
        "Не знаю как делить выборку сразу на 3 части, поэтому взяла 20% от отбщей части под тестовую выборку, а потом еще 25% от отстатка на валидационную. Так получила соотношение частей 3:1:1 относительно первоначальных данных"
      ]
    },
    {
      "cell_type": "markdown",
      "metadata": {
        "id": "ndVqVPQFE4G2"
      },
      "source": [
        "## Исследуйте модели"
      ]
    },
    {
      "cell_type": "code",
      "execution_count": null,
      "metadata": {
        "id": "wGnPTwAzE4G3",
        "outputId": "22724e0a-9c4c-4e8a-a317-0e1abb7238ec"
      },
      "outputs": [
        {
          "name": "stdout",
          "output_type": "stream",
          "text": [
            "Accuracy лучшей модели: 0.7651632970451011\n",
            "Depth лучшей модели: 3\n"
          ]
        }
      ],
      "source": [
        "best_model_tree = None\n",
        "best_result_tree = 0\n",
        "best_depth_tree = 0\n",
        "for depth in range(1, 7):\n",
        "    model_tree = DecisionTreeClassifier(random_state=12345, max_depth=depth) # обучите модель с заданной глубиной дерева\n",
        "    model_tree.fit(features_train, target_train) # обучите модель\n",
        "    predictions_valid_tree = model_tree.predict(features_valid)\n",
        "    result_tree = accuracy_score(target_valid, predictions_valid_tree) # посчитайте качество модели\n",
        "    if result_tree > best_result_tree:\n",
        "        best_model_tree = model_tree\n",
        "        best_result_tree = result_tree\n",
        "        best_depth_tree = depth\n",
        "        \n",
        "print(\"Accuracy лучшей модели:\", best_result_tree)\n",
        "print(\"Depth лучшей модели:\", best_depth_tree)"
      ]
    },
    {
      "cell_type": "code",
      "execution_count": null,
      "metadata": {
        "id": "OIrpxgkIE4G4",
        "outputId": "0f4fcb0a-34f5-4299-f9bc-aee4d3ab0b70"
      },
      "outputs": [
        {
          "name": "stdout",
          "output_type": "stream",
          "text": [
            "Accuracy наилучшей модели на валидационной выборке: 0.7884914463452566\n",
            "Est наилучшей модели на валидационной выборке: 10\n"
          ]
        }
      ],
      "source": [
        "best_model_forest = None\n",
        "best_result_forest = 0\n",
        "for est in range(1, 11):\n",
        "    model_forest = RandomForestClassifier(random_state=12345, n_estimators=est) # обучите модель с заданным количеством деревьев\n",
        "    model_forest.fit(features_train,target_train) # обучите модель на тренировочной выборке\n",
        "    result_forest = model_forest.score(features_valid,target_valid) # посчитайте качество модели на валидационной выборке\n",
        "    if result_forest > best_result_forest:\n",
        "        best_model_forest = model_forest # сохраните наилучшую модель\n",
        "        best_result_forest = result_forest #  сохраните наилучшее значение метрики accuracy на валидационных данных\n",
        "        best_est_forest = est # \n",
        "\n",
        "print(\"Accuracy наилучшей модели на валидационной выборке:\", best_result_forest)\n",
        "print(\"Est наилучшей модели на валидационной выборке:\", best_est_forest)"
      ]
    },
    {
      "cell_type": "code",
      "execution_count": null,
      "metadata": {
        "id": "2AUWkOVkE4G5",
        "outputId": "b24f43ae-ae3d-41e1-dcf7-aefd9f70174d"
      },
      "outputs": [
        {
          "name": "stdout",
          "output_type": "stream",
          "text": [
            "Accuracy модели: 0.7262830482115086\n"
          ]
        }
      ],
      "source": [
        "model_linear = LogisticRegression(random_state=12345, solver='lbfgs', max_iter=1000)\n",
        "model_linear.fit(features_train,target_train) \n",
        "result_linear = model_linear.score(features_valid, target_valid) \n",
        "\n",
        "print(\"Accuracy модели:\", result_linear)"
      ]
    },
    {
      "cell_type": "markdown",
      "metadata": {
        "id": "bNBmhvmsE4G5"
      },
      "source": [
        "Из всех моделей луше всего себя показала модель случайного леса с процентом правельных ответов 78,85. Достаточно близка оказалась модель решающего дерева и совсем не прошла порог в 75% линейная модель.\n",
        "\n",
        "Так как далее у меня возникли сложности с результатами по тестовой выборке при random_state=12345 (Accuracy решающего дерева = Accuracy случайного леса) решила провести тест - запустить эти же модели при random_state=0. Интересно, что Accuracy решающего дерева не изменилось."
      ]
    },
    {
      "cell_type": "code",
      "execution_count": null,
      "metadata": {
        "id": "i_6kOSstE4G5",
        "outputId": "1372c8dc-a658-49a7-877e-0beb8fe0073b"
      },
      "outputs": [
        {
          "name": "stdout",
          "output_type": "stream",
          "text": [
            "Accuracy лучшей модели: 0.7651632970451011\n",
            "Depth лучшей модели: 3\n"
          ]
        }
      ],
      "source": [
        "best_model_tree_0 = None\n",
        "best_result_tree = 0\n",
        "best_depth_tree = 0\n",
        "for depth in range(1, 7):\n",
        "    model_tree = DecisionTreeClassifier(random_state=0, max_depth=depth) # обучите модель с заданной глубиной дерева\n",
        "    model_tree.fit(features_train, target_train) # обучите модель\n",
        "    predictions_valid_tree = model_tree.predict(features_valid)\n",
        "    result_tree = accuracy_score(target_valid, predictions_valid_tree) # посчитайте качество модели\n",
        "    if result_tree > best_result_tree:\n",
        "        best_model_tree_0 = model_tree\n",
        "        best_result_tree = result_tree\n",
        "        best_depth_tree = depth\n",
        "        \n",
        "print(\"Accuracy лучшей модели:\", best_result_tree)\n",
        "print(\"Depth лучшей модели:\", best_depth_tree)"
      ]
    },
    {
      "cell_type": "code",
      "execution_count": null,
      "metadata": {
        "id": "E_hQT2JUE4G6",
        "outputId": "5526cf6f-086d-44c5-c948-483d8b59bb14"
      },
      "outputs": [
        {
          "name": "stdout",
          "output_type": "stream",
          "text": [
            "Accuracy наилучшей модели на валидационной выборке: 0.7993779160186625\n",
            "Est наилучшей модели на валидационной выборке: 10\n"
          ]
        }
      ],
      "source": [
        "best_model_forest_0 = None\n",
        "best_result_forest = 0\n",
        "for est in range(1, 11):\n",
        "    model_forest = RandomForestClassifier(random_state=0, n_estimators=est) # обучите модель с заданным количеством деревьев\n",
        "    model_forest.fit(features_train,target_train) # обучите модель на тренировочной выборке\n",
        "    result_forest = model_forest.score(features_valid,target_valid) # посчитайте качество модели на валидационной выборке\n",
        "    if result_forest > best_result_forest:\n",
        "        best_model_forest_0 = model_forest # сохраните наилучшую модель\n",
        "        best_result_forest = result_forest #  сохраните наилучшее значение метрики accuracy на валидационных данных\n",
        "        best_est_forest = est # \n",
        "\n",
        "print(\"Accuracy наилучшей модели на валидационной выборке:\", best_result_forest)\n",
        "print(\"Est наилучшей модели на валидационной выборке:\", best_est_forest)"
      ]
    },
    {
      "cell_type": "markdown",
      "metadata": {
        "id": "aZHAm-ZKE4G6"
      },
      "source": [
        "## Проверьте модель на тестовой выборке"
      ]
    },
    {
      "cell_type": "markdown",
      "metadata": {
        "id": "S9H6FJ86E4G6"
      },
      "source": [
        "проверка моделей с random_state=12345"
      ]
    },
    {
      "cell_type": "code",
      "execution_count": null,
      "metadata": {
        "id": "Y0RgmfHyE4G6",
        "outputId": "3d894426-cef0-481e-f4d1-e87a55c6f838"
      },
      "outputs": [
        {
          "name": "stdout",
          "output_type": "stream",
          "text": [
            "Accuracy тестовой модели решающего дерева: 0.7869362363919129\n"
          ]
        }
      ],
      "source": [
        "predictions_tree_test = best_model_tree.predict(features_test)\n",
        "result_tree_test = accuracy_score(target_test, predictions_tree_test) # посчитайте качество модели\n",
        "        \n",
        "print(\"Accuracy тестовой модели решающего дерева:\", result_tree_test)"
      ]
    },
    {
      "cell_type": "code",
      "execution_count": null,
      "metadata": {
        "id": "qg-v35ihE4G7",
        "outputId": "c11a963f-c618-4b4a-ed1e-f8030af1bce9"
      },
      "outputs": [
        {
          "name": "stdout",
          "output_type": "stream",
          "text": [
            "Accuracy тестовой модели случайный лес: 0.7869362363919129\n"
          ]
        }
      ],
      "source": [
        "result_forest_test = best_model_forest.score(features_test,target_test) # посчитайте качество модели на валидационной выборке\n",
        "\n",
        "print(\"Accuracy тестовой модели случайный лес:\", result_forest_test)"
      ]
    },
    {
      "cell_type": "code",
      "execution_count": null,
      "metadata": {
        "id": "mUwCJ7xHE4G7",
        "outputId": "b1087838-7741-4daa-b982-874cf1eca5dd"
      },
      "outputs": [
        {
          "name": "stdout",
          "output_type": "stream",
          "text": [
            "Accuracy модели: 0.7589424572317263\n"
          ]
        }
      ],
      "source": [
        "result_linear_test = model_linear.score(features_test, target_test) \n",
        "\n",
        "print(\"Accuracy модели:\", result_linear_test)"
      ]
    },
    {
      "cell_type": "markdown",
      "metadata": {
        "id": "sFiACcMrE4G7"
      },
      "source": [
        "В этот раз все модели преодолели пороговой значение в 75%.\n",
        "\n",
        "Как видно из расчетов Accuracy решающего дерева = Accuracy случайного леса на тестовой выборке, мне показалось это весьма странным. Проверяя на Accuracy на random_state = 0, видим раззнае результаты между моделями. Однако ситуация с результатом по решающему дереву повторяется - результат стабилен к изменениям random_state.\n",
        "\n",
        "Так же интересно, что модель случайного леса показала себя хуже на тестовой выборке, чем решающее дерево (см. random_state=0)"
      ]
    },
    {
      "cell_type": "markdown",
      "metadata": {
        "id": "qZRTtRDyE4G7"
      },
      "source": [
        "проверка моделей с random_state=0"
      ]
    },
    {
      "cell_type": "code",
      "execution_count": null,
      "metadata": {
        "id": "4pQoaKQME4G8",
        "outputId": "435a196c-a1ab-4178-ba53-5aadbf1cea89"
      },
      "outputs": [
        {
          "name": "stdout",
          "output_type": "stream",
          "text": [
            "Accuracy тестовой модели решающего дерева: 0.7869362363919129\n"
          ]
        }
      ],
      "source": [
        "predictions_tree_test_0 = best_model_tree_0.predict(features_test)\n",
        "result_tree_test_0 = accuracy_score(target_test, predictions_tree_test_0) # посчитайте качество модели\n",
        "        \n",
        "print(\"Accuracy тестовой модели решающего дерева:\", result_tree_test_0)"
      ]
    },
    {
      "cell_type": "code",
      "execution_count": null,
      "metadata": {
        "id": "O0qjDYQFE4G8",
        "outputId": "25080f3c-3e46-49d8-e2b3-ae5fadc94061"
      },
      "outputs": [
        {
          "name": "stdout",
          "output_type": "stream",
          "text": [
            "Accuracy тестовой модели случайный лес: 0.7744945567651633\n"
          ]
        }
      ],
      "source": [
        "result_forest_test_0 = best_model_forest_0.score(features_test,target_test) # посчитайте качество модели на валидационной выборке\n",
        "\n",
        "print(\"Accuracy тестовой модели случайный лес:\", result_forest_test_0)"
      ]
    },
    {
      "cell_type": "markdown",
      "metadata": {
        "id": "tvZZdcOpE4G8"
      },
      "source": [
        "## (бонус) Проверьте модели на адекватность"
      ]
    },
    {
      "cell_type": "code",
      "execution_count": null,
      "metadata": {
        "id": "LLD1KGUsE4G8",
        "outputId": "da2f3b20-4f9e-43ac-84d6-2f48d67b59ae"
      },
      "outputs": [
        {
          "name": "stdout",
          "output_type": "stream",
          "text": [
            "доля тарифов ультра, отмеченных моделью решающего дерева правильно 0.7521367521367521\n",
            "доля тарифов ультра, отмеченных моделью случайного леса правильно 0.7092198581560284\n",
            "доля тарифов ультра, отмеченных линейной моделью правильно 0.8867924528301887\n"
          ]
        }
      ],
      "source": [
        "predictions_test_tree = best_model_tree.predict(features_test)\n",
        "predictions_test_forest = best_model_forest.predict(features_test)\n",
        "predictions_test_linear = model_linear.predict(features_test)\n",
        "\n",
        "print('доля тарифов ультра, отмеченных моделью решающего дерева правильно', precision_score(target_test, predictions_test_tree, average='binary'))\n",
        "print('доля тарифов ультра, отмеченных моделью случайного леса правильно', precision_score(target_test, predictions_test_forest, average='binary'))\n",
        "print('доля тарифов ультра, отмеченных линейной моделью правильно', precision_score(target_test, predictions_test_linear, average='binary'))\n"
      ]
    },
    {
      "cell_type": "code",
      "execution_count": null,
      "metadata": {
        "id": "7Mlp3azAE4G8",
        "outputId": "6e0fdd21-f0e3-40d5-945a-abb4343c7b70"
      },
      "outputs": [
        {
          "name": "stdout",
          "output_type": "stream",
          "text": [
            "полнота отмеченных тарифов ультра, моделью решающего дерева 0.4489795918367347\n",
            "полнота отмеченных тарифов ультра, моделью случайного леса 0.5102040816326531\n",
            "полнота отмеченных тарифов ультра, линейной моделью 0.23979591836734693\n"
          ]
        }
      ],
      "source": [
        "print('полнота отмеченных тарифов ультра, моделью решающего дерева', recall_score(target_test, predictions_test_tree, average='binary'))\n",
        "print('полнота отмеченных тарифов ультра, моделью случайного леса', recall_score(target_test, predictions_test_forest, average='binary'))\n",
        "print('полнота отмеченных тарифов ультра, линейной моделью', recall_score(target_test, predictions_test_linear, average='binary'))\n"
      ]
    },
    {
      "cell_type": "markdown",
      "metadata": {
        "id": "U1ZC4WRaE4G9"
      },
      "source": [
        "По доле правильно отмеченного тарифа ультра лидирует линейная модель, роблема лишь в том, что просиходит это довольно редко: полнота заполнения составляет всего 24%. Остальные модели тоже показали невысокий результат заполнения этого тарифа. "
      ]
    },
    {
      "cell_type": "markdown",
      "metadata": {
        "id": "bnwJxMPZE4G9"
      },
      "source": [
        "## Вывод\n",
        "\n",
        "На имеющихся данных лучше всего себя показала модель случайного леса с показателями качества: \n",
        "\n",
        "    Accuracy - 0.788, precision - 0.709 и recall - 0.51 \n",
        "    \n",
        "На втором месте модель решающего дерева с показателями качества: \n",
        "\n",
        "    Accuracy - 0.765, precision - 0.752 и recall - 0.449 \n",
        "    \n",
        "И хуже всех отработала линейная модель с показателями качества: \n",
        "\n",
        "    Accuracy - 0.726, precision - 0.887 и recall - 0.24"
      ]
    }
  ],
  "metadata": {
    "ExecuteTimeLog": [
      {
        "duration": 797,
        "start_time": "2022-03-29T16:05:28.711Z"
      },
      {
        "duration": 15,
        "start_time": "2022-03-29T16:05:42.963Z"
      },
      {
        "duration": 11,
        "start_time": "2022-03-29T16:08:01.070Z"
      },
      {
        "duration": 11,
        "start_time": "2022-03-29T16:08:06.298Z"
      },
      {
        "duration": 67,
        "start_time": "2022-03-29T16:08:55.750Z"
      },
      {
        "duration": 842,
        "start_time": "2022-03-29T16:09:22.622Z"
      },
      {
        "duration": 1178,
        "start_time": "2022-04-11T07:58:09.241Z"
      },
      {
        "duration": 20,
        "start_time": "2022-04-11T07:58:10.423Z"
      },
      {
        "duration": 1032,
        "start_time": "2022-04-11T07:58:12.308Z"
      },
      {
        "duration": 22,
        "start_time": "2022-04-11T07:58:26.831Z"
      },
      {
        "duration": 112,
        "start_time": "2022-04-11T08:07:27.047Z"
      },
      {
        "duration": 151,
        "start_time": "2022-04-11T08:07:31.551Z"
      },
      {
        "duration": 13,
        "start_time": "2022-04-11T08:07:40.106Z"
      },
      {
        "duration": 111,
        "start_time": "2022-04-11T08:10:25.831Z"
      },
      {
        "duration": 111,
        "start_time": "2022-04-11T08:12:21.953Z"
      },
      {
        "duration": 119,
        "start_time": "2022-04-11T08:12:32.229Z"
      },
      {
        "duration": 58,
        "start_time": "2022-04-11T08:12:59.372Z"
      },
      {
        "duration": 5,
        "start_time": "2022-04-11T08:13:06.167Z"
      },
      {
        "duration": 54,
        "start_time": "2022-04-11T08:13:13.403Z"
      },
      {
        "duration": 5,
        "start_time": "2022-04-11T08:13:15.784Z"
      },
      {
        "duration": 52,
        "start_time": "2022-04-11T08:13:38.236Z"
      },
      {
        "duration": 1096,
        "start_time": "2022-05-03T16:48:21.343Z"
      },
      {
        "duration": 13,
        "start_time": "2022-05-03T16:48:23.497Z"
      },
      {
        "duration": 12,
        "start_time": "2022-05-03T16:48:24.800Z"
      },
      {
        "duration": 1030,
        "start_time": "2022-05-03T16:48:26.837Z"
      },
      {
        "duration": 218,
        "start_time": "2022-05-03T16:48:29.036Z"
      },
      {
        "duration": 32,
        "start_time": "2022-05-03T16:49:02.523Z"
      },
      {
        "duration": 4,
        "start_time": "2022-05-03T16:58:13.331Z"
      },
      {
        "duration": 28,
        "start_time": "2022-05-03T16:58:52.476Z"
      },
      {
        "duration": 20,
        "start_time": "2022-05-03T18:05:41.264Z"
      },
      {
        "duration": 11,
        "start_time": "2022-05-03T18:05:41.956Z"
      },
      {
        "duration": 5,
        "start_time": "2022-05-03T18:05:45.558Z"
      },
      {
        "duration": 20,
        "start_time": "2022-05-03T18:05:47.011Z"
      },
      {
        "duration": 8,
        "start_time": "2022-05-03T18:25:41.776Z"
      },
      {
        "duration": 32,
        "start_time": "2022-05-03T18:25:43.871Z"
      },
      {
        "duration": 8,
        "start_time": "2022-05-03T18:29:27.320Z"
      },
      {
        "duration": 20,
        "start_time": "2022-05-03T18:29:29.909Z"
      },
      {
        "duration": 25,
        "start_time": "2022-05-03T18:31:46.175Z"
      },
      {
        "duration": 4,
        "start_time": "2022-05-03T18:32:53.610Z"
      },
      {
        "duration": 9,
        "start_time": "2022-05-03T18:34:24.264Z"
      },
      {
        "duration": 11,
        "start_time": "2022-05-03T18:34:47.564Z"
      },
      {
        "duration": 5,
        "start_time": "2022-05-03T18:40:14.399Z"
      },
      {
        "duration": 4,
        "start_time": "2022-05-03T18:40:22.676Z"
      },
      {
        "duration": 2310,
        "start_time": "2022-05-03T18:40:26.504Z"
      },
      {
        "duration": 7,
        "start_time": "2022-05-03T18:40:44.873Z"
      },
      {
        "duration": 56,
        "start_time": "2022-05-03T18:40:50.484Z"
      },
      {
        "duration": 56,
        "start_time": "2022-05-03T18:41:25.503Z"
      },
      {
        "duration": 321,
        "start_time": "2022-05-03T18:46:17.896Z"
      },
      {
        "duration": 53,
        "start_time": "2022-05-03T18:46:32.244Z"
      },
      {
        "duration": 270,
        "start_time": "2022-05-03T18:58:03.485Z"
      },
      {
        "duration": 186,
        "start_time": "2022-05-03T18:59:41.569Z"
      },
      {
        "duration": 4,
        "start_time": "2022-05-03T19:00:01.102Z"
      },
      {
        "duration": 35,
        "start_time": "2022-05-03T19:01:01.433Z"
      },
      {
        "duration": 11,
        "start_time": "2022-05-03T19:05:39.428Z"
      },
      {
        "duration": 46,
        "start_time": "2022-05-03T19:05:43.113Z"
      },
      {
        "duration": 259,
        "start_time": "2022-05-03T19:05:44.884Z"
      },
      {
        "duration": 33,
        "start_time": "2022-05-03T19:05:49.059Z"
      },
      {
        "duration": 36,
        "start_time": "2022-05-03T19:07:38.799Z"
      },
      {
        "duration": 36,
        "start_time": "2022-05-03T19:07:56.769Z"
      },
      {
        "duration": 56,
        "start_time": "2022-05-03T19:09:19.972Z"
      },
      {
        "duration": 389,
        "start_time": "2022-05-03T19:09:21.287Z"
      },
      {
        "duration": 36,
        "start_time": "2022-05-03T19:09:26.868Z"
      },
      {
        "duration": 269,
        "start_time": "2022-05-03T19:09:27.953Z"
      },
      {
        "duration": 36,
        "start_time": "2022-05-03T19:09:55.813Z"
      },
      {
        "duration": 46,
        "start_time": "2022-05-03T19:12:58.739Z"
      },
      {
        "duration": 32,
        "start_time": "2022-05-03T19:13:52.283Z"
      },
      {
        "duration": 47,
        "start_time": "2022-05-03T19:14:23.310Z"
      },
      {
        "duration": 29,
        "start_time": "2022-05-03T19:14:43.390Z"
      },
      {
        "duration": 30,
        "start_time": "2022-05-03T19:15:09.081Z"
      },
      {
        "duration": 257,
        "start_time": "2022-05-03T19:18:06.613Z"
      },
      {
        "duration": 6,
        "start_time": "2022-05-03T19:21:47.183Z"
      },
      {
        "duration": 10,
        "start_time": "2022-05-03T19:24:01.509Z"
      },
      {
        "duration": 7,
        "start_time": "2022-05-03T19:26:12.551Z"
      },
      {
        "duration": 7,
        "start_time": "2022-05-03T19:31:41.091Z"
      },
      {
        "duration": 7,
        "start_time": "2022-05-03T19:32:01.074Z"
      },
      {
        "duration": 8,
        "start_time": "2022-05-03T19:33:22.603Z"
      },
      {
        "duration": 7,
        "start_time": "2022-05-03T19:33:42.290Z"
      },
      {
        "duration": 3,
        "start_time": "2022-05-03T19:37:57.757Z"
      },
      {
        "duration": 4,
        "start_time": "2022-05-03T19:38:04.460Z"
      },
      {
        "duration": 5,
        "start_time": "2022-05-03T19:40:22.168Z"
      },
      {
        "duration": 4,
        "start_time": "2022-05-03T19:40:33.858Z"
      },
      {
        "duration": 6,
        "start_time": "2022-05-03T19:44:38.610Z"
      },
      {
        "duration": 6,
        "start_time": "2022-05-03T19:45:12.743Z"
      },
      {
        "duration": 9,
        "start_time": "2022-05-03T19:45:50.068Z"
      },
      {
        "duration": 10,
        "start_time": "2022-05-03T19:46:28.169Z"
      },
      {
        "duration": 7,
        "start_time": "2022-05-03T19:47:16.216Z"
      },
      {
        "duration": 45,
        "start_time": "2022-05-03T19:55:31.806Z"
      },
      {
        "duration": 262,
        "start_time": "2022-05-03T19:55:33.150Z"
      },
      {
        "duration": 7,
        "start_time": "2022-05-03T19:55:41.071Z"
      },
      {
        "duration": 9,
        "start_time": "2022-05-03T19:55:42.514Z"
      },
      {
        "duration": 47,
        "start_time": "2022-05-03T19:56:14.891Z"
      },
      {
        "duration": 255,
        "start_time": "2022-05-03T19:56:16.717Z"
      },
      {
        "duration": 7,
        "start_time": "2022-05-03T19:56:22.876Z"
      },
      {
        "duration": 9,
        "start_time": "2022-05-03T19:56:25.420Z"
      },
      {
        "duration": 45,
        "start_time": "2022-05-03T19:56:51.749Z"
      },
      {
        "duration": 272,
        "start_time": "2022-05-03T19:56:53.069Z"
      },
      {
        "duration": 7,
        "start_time": "2022-05-03T19:57:01.250Z"
      },
      {
        "duration": 9,
        "start_time": "2022-05-03T19:57:02.989Z"
      },
      {
        "duration": 44,
        "start_time": "2022-05-03T19:59:09.132Z"
      },
      {
        "duration": 256,
        "start_time": "2022-05-03T19:59:12.293Z"
      },
      {
        "duration": 7,
        "start_time": "2022-05-03T19:59:18.360Z"
      },
      {
        "duration": 9,
        "start_time": "2022-05-03T19:59:19.538Z"
      },
      {
        "duration": 46,
        "start_time": "2022-05-03T20:06:18.737Z"
      },
      {
        "duration": 276,
        "start_time": "2022-05-03T20:06:45.333Z"
      },
      {
        "duration": 46,
        "start_time": "2022-05-03T20:12:33.880Z"
      },
      {
        "duration": 50,
        "start_time": "2022-05-03T20:12:41.149Z"
      },
      {
        "duration": 45,
        "start_time": "2022-05-03T20:19:38.394Z"
      },
      {
        "duration": 279,
        "start_time": "2022-05-03T20:19:41.565Z"
      },
      {
        "duration": 33,
        "start_time": "2022-05-03T20:19:46.565Z"
      },
      {
        "duration": 7,
        "start_time": "2022-05-03T20:19:52.202Z"
      },
      {
        "duration": 8,
        "start_time": "2022-05-03T20:19:53.155Z"
      },
      {
        "duration": 6,
        "start_time": "2022-05-03T20:19:56.691Z"
      },
      {
        "duration": 49,
        "start_time": "2022-05-03T20:20:01.930Z"
      },
      {
        "duration": 267,
        "start_time": "2022-05-03T20:20:03.143Z"
      },
      {
        "duration": 7,
        "start_time": "2022-05-03T20:20:12.462Z"
      },
      {
        "duration": 8,
        "start_time": "2022-05-03T20:20:14.224Z"
      },
      {
        "duration": 7,
        "start_time": "2022-05-03T20:20:34.670Z"
      },
      {
        "duration": 9,
        "start_time": "2022-05-03T20:20:36.498Z"
      },
      {
        "duration": 7,
        "start_time": "2022-05-03T20:28:13.512Z"
      },
      {
        "duration": 10,
        "start_time": "2022-05-03T20:28:37.152Z"
      },
      {
        "duration": 15,
        "start_time": "2022-05-03T20:39:44.737Z"
      },
      {
        "duration": 14,
        "start_time": "2022-05-03T20:42:34.288Z"
      },
      {
        "duration": 13,
        "start_time": "2022-05-03T20:44:31.175Z"
      },
      {
        "duration": 18,
        "start_time": "2022-05-03T20:46:27.184Z"
      },
      {
        "duration": 9,
        "start_time": "2022-05-03T20:52:11.803Z"
      },
      {
        "duration": 51,
        "start_time": "2022-05-04T14:53:59.201Z"
      },
      {
        "duration": 1783,
        "start_time": "2022-05-04T14:54:06.612Z"
      },
      {
        "duration": 133,
        "start_time": "2022-05-04T14:54:13.074Z"
      },
      {
        "duration": 6,
        "start_time": "2022-05-04T14:54:17.494Z"
      },
      {
        "duration": 4,
        "start_time": "2022-05-04T14:54:45.497Z"
      },
      {
        "duration": 6,
        "start_time": "2022-05-04T14:56:29.180Z"
      },
      {
        "duration": 10,
        "start_time": "2022-05-04T14:58:51.518Z"
      },
      {
        "duration": 12,
        "start_time": "2022-05-04T14:59:03.932Z"
      },
      {
        "duration": 1019,
        "start_time": "2022-05-04T15:03:33.555Z"
      },
      {
        "duration": 975,
        "start_time": "2022-05-04T15:03:55.315Z"
      },
      {
        "duration": 5,
        "start_time": "2022-05-04T15:13:48.440Z"
      },
      {
        "duration": 73,
        "start_time": "2022-05-04T15:13:55.995Z"
      },
      {
        "duration": 10,
        "start_time": "2022-05-04T15:14:01.335Z"
      },
      {
        "duration": 5,
        "start_time": "2022-05-04T15:17:16.998Z"
      },
      {
        "duration": 8,
        "start_time": "2022-05-04T15:17:18.057Z"
      },
      {
        "duration": 16,
        "start_time": "2022-05-04T15:23:29.721Z"
      },
      {
        "duration": 2717,
        "start_time": "2022-05-04T15:24:12.571Z"
      },
      {
        "duration": 2704,
        "start_time": "2022-05-04T15:24:55.265Z"
      },
      {
        "duration": 9,
        "start_time": "2022-05-04T15:25:15.147Z"
      },
      {
        "duration": 31,
        "start_time": "2022-05-04T15:25:29.873Z"
      },
      {
        "duration": 22,
        "start_time": "2022-05-04T15:26:56.094Z"
      },
      {
        "duration": 7,
        "start_time": "2022-05-04T15:27:01.175Z"
      },
      {
        "duration": 11,
        "start_time": "2022-05-04T15:29:39.601Z"
      },
      {
        "duration": 9,
        "start_time": "2022-05-04T15:29:44.091Z"
      },
      {
        "duration": 4,
        "start_time": "2022-05-04T15:31:12.399Z"
      },
      {
        "duration": 8,
        "start_time": "2022-05-04T15:31:13.446Z"
      },
      {
        "duration": 19,
        "start_time": "2022-05-04T15:31:52.028Z"
      },
      {
        "duration": 9,
        "start_time": "2022-05-04T15:31:53.484Z"
      },
      {
        "duration": 1166,
        "start_time": "2022-05-04T15:34:55.720Z"
      },
      {
        "duration": 1916,
        "start_time": "2022-05-04T15:36:46.921Z"
      },
      {
        "duration": 1932,
        "start_time": "2022-05-04T15:37:07.980Z"
      },
      {
        "duration": 160,
        "start_time": "2022-05-05T09:10:44.273Z"
      }
    ],
    "kernelspec": {
      "display_name": "Python 3 (ipykernel)",
      "language": "python",
      "name": "python3"
    },
    "language_info": {
      "codemirror_mode": {
        "name": "ipython",
        "version": 3
      },
      "file_extension": ".py",
      "mimetype": "text/x-python",
      "name": "python",
      "nbconvert_exporter": "python",
      "pygments_lexer": "ipython3",
      "version": "3.9.5"
    },
    "toc": {
      "base_numbering": 1,
      "nav_menu": {},
      "number_sections": true,
      "sideBar": true,
      "skip_h1_title": true,
      "title_cell": "Table of Contents",
      "title_sidebar": "Contents",
      "toc_cell": false,
      "toc_position": {},
      "toc_section_display": true,
      "toc_window_display": false
    },
    "colab": {
      "provenance": [],
      "collapsed_sections": []
    }
  },
  "nbformat": 4,
  "nbformat_minor": 0
}