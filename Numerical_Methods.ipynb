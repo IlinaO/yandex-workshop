{
  "cells": [
    {
      "cell_type": "markdown",
      "metadata": {
        "id": "QqTUMb29K_bV"
      },
      "source": [
        "**Описание проекта**\n",
        "\n",
        "Сервис по продаже автомобилей с пробегом «Не бит, не крашен» разрабатывает приложение, чтобы привлечь новых клиентов. В нём можно будет узнать рыночную стоимость своего автомобиля.\n",
        "\n",
        "Постройте модель, которая умеет её определять. В вашем распоряжении данные о технических характеристиках, комплектации и ценах других автомобилей.\n",
        "Критерии, которые важны заказчику:\n",
        "\n",
        "качество предсказания;\n",
        "\n",
        "время обучения модели;\n",
        "\n",
        "время предсказания модели.\n",
        "\n",
        "\n",
        "Описание данных\n",
        "\n",
        "  * DateCrawled — дата скачивания анкеты из базы\n",
        "  * VehicleType — тип автомобильного кузова\n",
        "  * RegistrationYear — год регистрации автомобиля\n",
        "  * Gearbox — тип коробки передач\n",
        "  * Power — мощность (л. с.)\n",
        "  * Model — модель автомобиля\n",
        "  * Kilometer — пробег (км)\n",
        "  * RegistrationMonth — месяц регистрации автомобиля\n",
        "  * FuelType — тип топлива\n",
        "  * Brand — марка автомобиля\n",
        "  * Repaired — была машина в ремонте или нет\n",
        "  * DateCreated — дата создания анкеты\n",
        "  * NumberOfPictures — количество фотографий автомобиля\n",
        "  * PostalCode — почтовый индекс владельца анкеты (пользователя)\n",
        "  * LastSeen — дата последней активности пользователя\n",
        "\n",
        "Целевой признак: Price — цена (евро)"
      ]
    },
    {
      "cell_type": "markdown",
      "metadata": {
        "id": "qMYXYrpPK_bc"
      },
      "source": [
        "## Подготовка данных"
      ]
    },
    {
      "cell_type": "code",
      "execution_count": null,
      "metadata": {
        "id": "3mH4N2-OK_bd"
      },
      "outputs": [],
      "source": [
        "import pandas as pd\n",
        "import numpy as np\n",
        "import matplotlib.pyplot as plt\n",
        "import warnings\n",
        "from sklearn.model_selection import train_test_split\n",
        "from sklearn.preprocessing import StandardScaler\n",
        "import lightgbm as lgb\n",
        "from sklearn.ensemble import RandomForestRegressor\n",
        "from sklearn.metrics import f1_score\n",
        "from sklearn.preprocessing import OrdinalEncoder\n",
        "from sklearn.metrics import mean_squared_error\n",
        "import time"
      ]
    },
    {
      "cell_type": "code",
      "execution_count": null,
      "metadata": {
        "id": "bmtK-Oa6K_bg"
      },
      "outputs": [],
      "source": [
        "df = pd.read_csv('/datasets/autos.csv', decimal = ',')"
      ]
    },
    {
      "cell_type": "code",
      "execution_count": null,
      "metadata": {
        "collapsed": true,
        "id": "GHQkjT8MK_bg",
        "outputId": "6bbbccdd-353c-4d42-c889-fd7df733affc"
      },
      "outputs": [
        {
          "data": {
            "text/html": [
              "<div>\n",
              "<style scoped>\n",
              "    .dataframe tbody tr th:only-of-type {\n",
              "        vertical-align: middle;\n",
              "    }\n",
              "\n",
              "    .dataframe tbody tr th {\n",
              "        vertical-align: top;\n",
              "    }\n",
              "\n",
              "    .dataframe thead th {\n",
              "        text-align: right;\n",
              "    }\n",
              "</style>\n",
              "<table border=\"1\" class=\"dataframe\">\n",
              "  <thead>\n",
              "    <tr style=\"text-align: right;\">\n",
              "      <th></th>\n",
              "      <th>DateCrawled</th>\n",
              "      <th>Price</th>\n",
              "      <th>VehicleType</th>\n",
              "      <th>RegistrationYear</th>\n",
              "      <th>Gearbox</th>\n",
              "      <th>Power</th>\n",
              "      <th>Model</th>\n",
              "      <th>Kilometer</th>\n",
              "      <th>RegistrationMonth</th>\n",
              "      <th>FuelType</th>\n",
              "      <th>Brand</th>\n",
              "      <th>NotRepaired</th>\n",
              "      <th>DateCreated</th>\n",
              "      <th>NumberOfPictures</th>\n",
              "      <th>PostalCode</th>\n",
              "      <th>LastSeen</th>\n",
              "    </tr>\n",
              "  </thead>\n",
              "  <tbody>\n",
              "    <tr>\n",
              "      <th>0</th>\n",
              "      <td>2016-03-24 11:52:17</td>\n",
              "      <td>480</td>\n",
              "      <td>NaN</td>\n",
              "      <td>1993</td>\n",
              "      <td>manual</td>\n",
              "      <td>0</td>\n",
              "      <td>golf</td>\n",
              "      <td>150000</td>\n",
              "      <td>0</td>\n",
              "      <td>petrol</td>\n",
              "      <td>volkswagen</td>\n",
              "      <td>NaN</td>\n",
              "      <td>2016-03-24 00:00:00</td>\n",
              "      <td>0</td>\n",
              "      <td>70435</td>\n",
              "      <td>2016-04-07 03:16:57</td>\n",
              "    </tr>\n",
              "    <tr>\n",
              "      <th>1</th>\n",
              "      <td>2016-03-24 10:58:45</td>\n",
              "      <td>18300</td>\n",
              "      <td>coupe</td>\n",
              "      <td>2011</td>\n",
              "      <td>manual</td>\n",
              "      <td>190</td>\n",
              "      <td>NaN</td>\n",
              "      <td>125000</td>\n",
              "      <td>5</td>\n",
              "      <td>gasoline</td>\n",
              "      <td>audi</td>\n",
              "      <td>yes</td>\n",
              "      <td>2016-03-24 00:00:00</td>\n",
              "      <td>0</td>\n",
              "      <td>66954</td>\n",
              "      <td>2016-04-07 01:46:50</td>\n",
              "    </tr>\n",
              "  </tbody>\n",
              "</table>\n",
              "</div>"
            ],
            "text/plain": [
              "           DateCrawled  Price VehicleType  RegistrationYear Gearbox  Power  \\\n",
              "0  2016-03-24 11:52:17    480         NaN              1993  manual      0   \n",
              "1  2016-03-24 10:58:45  18300       coupe              2011  manual    190   \n",
              "\n",
              "  Model  Kilometer  RegistrationMonth  FuelType       Brand NotRepaired  \\\n",
              "0  golf     150000                  0    petrol  volkswagen         NaN   \n",
              "1   NaN     125000                  5  gasoline        audi         yes   \n",
              "\n",
              "           DateCreated  NumberOfPictures  PostalCode             LastSeen  \n",
              "0  2016-03-24 00:00:00                 0       70435  2016-04-07 03:16:57  \n",
              "1  2016-03-24 00:00:00                 0       66954  2016-04-07 01:46:50  "
            ]
          },
          "execution_count": 3,
          "metadata": {},
          "output_type": "execute_result"
        }
      ],
      "source": [
        "df.head(2)"
      ]
    },
    {
      "cell_type": "code",
      "execution_count": null,
      "metadata": {
        "collapsed": true,
        "id": "EBBzmaRqK_bh",
        "outputId": "9a4c0d23-7b5a-42b2-929d-d67dbd01ac19"
      },
      "outputs": [
        {
          "name": "stdout",
          "output_type": "stream",
          "text": [
            "<class 'pandas.core.frame.DataFrame'>\n",
            "RangeIndex: 354369 entries, 0 to 354368\n",
            "Data columns (total 16 columns):\n",
            " #   Column             Non-Null Count   Dtype \n",
            "---  ------             --------------   ----- \n",
            " 0   DateCrawled        354369 non-null  object\n",
            " 1   Price              354369 non-null  int64 \n",
            " 2   VehicleType        316879 non-null  object\n",
            " 3   RegistrationYear   354369 non-null  int64 \n",
            " 4   Gearbox            334536 non-null  object\n",
            " 5   Power              354369 non-null  int64 \n",
            " 6   Model              334664 non-null  object\n",
            " 7   Kilometer          354369 non-null  int64 \n",
            " 8   RegistrationMonth  354369 non-null  int64 \n",
            " 9   FuelType           321474 non-null  object\n",
            " 10  Brand              354369 non-null  object\n",
            " 11  NotRepaired        283215 non-null  object\n",
            " 12  DateCreated        354369 non-null  object\n",
            " 13  NumberOfPictures   354369 non-null  int64 \n",
            " 14  PostalCode         354369 non-null  int64 \n",
            " 15  LastSeen           354369 non-null  object\n",
            "dtypes: int64(7), object(9)\n",
            "memory usage: 43.3+ MB\n"
          ]
        }
      ],
      "source": [
        "df.info()"
      ]
    },
    {
      "cell_type": "code",
      "execution_count": null,
      "metadata": {
        "id": "315jf-vUK_bi"
      },
      "outputs": [],
      "source": [
        "df = df.drop(['DateCrawled'], axis=1)\n",
        "df = df.drop(['LastSeen'], axis=1)\n",
        "df = df.drop(['DateCreated'], axis=1)"
      ]
    },
    {
      "cell_type": "markdown",
      "metadata": {
        "id": "e1vdwPKoK_bj"
      },
      "source": [
        "мне кажется, что эти данные не особо информативны, поэтому удалила их"
      ]
    },
    {
      "cell_type": "code",
      "execution_count": null,
      "metadata": {
        "id": "weDvqbpyK_bk"
      },
      "outputs": [],
      "source": [
        "table0 = df[df['NotRepaired'] == 'yes']['RegistrationYear'].dropna()\n",
        "table1 = df[df['NotRepaired'] == 'no']['RegistrationYear'].dropna()\n",
        "table0 = table0[table0 > 1950]\n",
        "table0 = table0[table0 < 2020]\n",
        "table1 = table1[table1 > 1950]\n",
        "table1 = table1[table1 < 2020]"
      ]
    },
    {
      "cell_type": "markdown",
      "metadata": {
        "id": "Mh07zgRqK_bk"
      },
      "source": [
        "Делаю предположение, что машины, с датой регистрации до определнного года в своем большинстве были ремонтированы. Дату выбрала по графикам - 2010 и заменила все отсутствующие значения в столбце NotRepaired на yes."
      ]
    },
    {
      "cell_type": "code",
      "execution_count": null,
      "metadata": {
        "collapsed": true,
        "id": "SgFDZiXtK_bk",
        "outputId": "a396be82-b56f-465f-cf12-61beda01c545"
      },
      "outputs": [
        {
          "data": {
            "text/plain": [
              "<AxesSubplot:>"
            ]
          },
          "execution_count": 7,
          "metadata": {},
          "output_type": "execute_result"
        },
        {
          "data": {
            "image/png": "[encoded data removed]",
            "text/plain": [
              "<Figure size 432x288 with 1 Axes>"
            ]
          },
          "metadata": {
            "needs_background": "light"
          },
          "output_type": "display_data"
        }
      ],
      "source": [
        "table0.hist()"
      ]
    },
    {
      "cell_type": "code",
      "execution_count": null,
      "metadata": {
        "collapsed": true,
        "id": "lp6Kg5qDK_bl",
        "outputId": "77f4cb8f-6e83-4b90-8d94-21c39f8d4c79"
      },
      "outputs": [
        {
          "data": {
            "text/plain": [
              "<AxesSubplot:>"
            ]
          },
          "execution_count": 8,
          "metadata": {},
          "output_type": "execute_result"
        },
        {
          "data": {
            "image/png": "[encoded data removed]",
            "text/plain": [
              "<Figure size 432x288 with 1 Axes>"
            ]
          },
          "metadata": {
            "needs_background": "light"
          },
          "output_type": "display_data"
        }
      ],
      "source": [
        "table1.hist()"
      ]
    },
    {
      "cell_type": "code",
      "execution_count": null,
      "metadata": {
        "id": "QVPuvvWfK_bl"
      },
      "outputs": [],
      "source": [
        "df_NotRepaired = df[df['NotRepaired'].isna()]\n",
        "df_NotRepaired_before_2010 = df_NotRepaired[df_NotRepaired.RegistrationYear < 2010]\n",
        "df.iloc[df_NotRepaired_before_2010.index, df.columns.get_loc('NotRepaired')] = 'yes'"
      ]
    },
    {
      "cell_type": "code",
      "execution_count": null,
      "metadata": {
        "collapsed": true,
        "id": "PobaRt1AK_bl",
        "outputId": "bb7ee7b9-cd1a-404d-8e67-cd4299c68de8"
      },
      "outputs": [
        {
          "data": {
            "text/plain": [
              "Price                    0\n",
              "VehicleType          37490\n",
              "RegistrationYear         0\n",
              "Gearbox              19833\n",
              "Power                    0\n",
              "Model                19705\n",
              "Kilometer                0\n",
              "RegistrationMonth        0\n",
              "FuelType             32895\n",
              "Brand                    0\n",
              "NotRepaired          13455\n",
              "NumberOfPictures         0\n",
              "PostalCode               0\n",
              "dtype: int64"
            ]
          },
          "execution_count": 10,
          "metadata": {},
          "output_type": "execute_result"
        }
      ],
      "source": [
        "df.isna().sum()"
      ]
    },
    {
      "cell_type": "markdown",
      "metadata": {
        "id": "WzJfF-KDK_bm"
      },
      "source": [
        "Так как незаполненных значений в столбцах достаточно много, я просто помечу их в отдельном столбце (mistake), что бы при обучении сравнить разницу между грязными и чистыми данными. Так же в этом столбце помечу такие аномалии как мощность = 0."
      ]
    },
    {
      "cell_type": "code",
      "execution_count": null,
      "metadata": {
        "id": "VmakqYC0K_bm"
      },
      "outputs": [],
      "source": [
        "df['VehicleType'] = df['VehicleType'].fillna('unknown')\n",
        "df['Gearbox'] = df['Gearbox'].fillna('unknown')\n",
        "df['Model'] = df['Model'].fillna('unknown')\n",
        "df['FuelType'] = df['FuelType'].fillna('unknown')\n",
        "df['NotRepaired'] = df['NotRepaired'].fillna('unknown')"
      ]
    },
    {
      "cell_type": "code",
      "execution_count": null,
      "metadata": {
        "id": "k7RHXiaoK_bm",
        "outputId": "dfa98716-4441-4a7c-ad49-4df54bdfe039"
      },
      "outputs": [
        {
          "data": {
            "text/plain": [
              "0    255499\n",
              "1     98870\n",
              "Name: mistake, dtype: int64"
            ]
          },
          "execution_count": 7,
          "metadata": {},
          "output_type": "execute_result"
        }
      ],
      "source": [
        "df['mistake'] = 0\n",
        "df.iloc[df['VehicleType'] == 'unknown', df.columns.get_loc('mistake')] = 1\n",
        "df.iloc[df['Gearbox'] == 'unknown', df.columns.get_loc('mistake')] = 1\n",
        "df.iloc[df['Model'] == 'unknown', df.columns.get_loc('mistake')] = 1\n",
        "df.iloc[df['FuelType'] == 'unknown', df.columns.get_loc('mistake')] = 1\n",
        "df.iloc[df['NotRepaired'] == 'unknown', df.columns.get_loc('mistake')] = 1\n",
        "\n",
        "df.iloc[df['Power'] == 0, df.columns.get_loc('mistake')] = 1\n",
        "df.iloc[df['RegistrationMonth'] == 0, df.columns.get_loc('mistake')] = 1\n",
        "df.iloc[df['RegistrationYear'] > 2020, df.columns.get_loc('mistake')] = 1\n",
        "df.iloc[df['RegistrationYear'] < 1950, df.columns.get_loc('mistake')] = 1\n",
        "df['mistake'].value_counts()"
      ]
    },
    {
      "cell_type": "code",
      "execution_count": null,
      "metadata": {
        "id": "hjS-sRCYK_bn",
        "outputId": "3415d6f3-edff-4503-84d3-35d271bca00e"
      },
      "outputs": [
        {
          "data": {
            "text/plain": [
              "0.2790029601912131"
            ]
          },
          "execution_count": 13,
          "metadata": {},
          "output_type": "execute_result"
        }
      ],
      "source": [
        "df['mistake'].value_counts()[1] / df.shape[0]"
      ]
    },
    {
      "cell_type": "markdown",
      "metadata": {
        "id": "F34ovE3MK_bn"
      },
      "source": [
        "всего аномалий нашлось 28%, многовато для случайной замены или удаления"
      ]
    },
    {
      "cell_type": "code",
      "execution_count": null,
      "metadata": {
        "id": "bIgZeC1QK_bn",
        "outputId": "d469ad9d-9549-48ef-e1bd-df736cd542bd"
      },
      "outputs": [
        {
          "data": {
            "text/plain": [
              "<AxesSubplot:>"
            ]
          },
          "execution_count": 8,
          "metadata": {},
          "output_type": "execute_result"
        },
        {
          "data": {
            "image/png": "[encoded data removed]",
            "text/plain": [
              "<Figure size 432x288 with 1 Axes>"
            ]
          },
          "metadata": {
            "needs_background": "light"
          },
          "output_type": "display_data"
        }
      ],
      "source": [
        "df.Power.hist(bins = 200, range=(0, 500))"
      ]
    },
    {
      "cell_type": "code",
      "execution_count": null,
      "metadata": {
        "id": "ZtUjvT91K_bo"
      },
      "outputs": [],
      "source": [
        "df.iloc[df['Power'] < 20, df.columns.get_loc('mistake')] = 1\n",
        "\n",
        "df.iloc[df['Power'] > 500, df.columns.get_loc('mistake')] = 1"
      ]
    },
    {
      "cell_type": "code",
      "execution_count": null,
      "metadata": {
        "id": "fD1m9TgJK_bo"
      },
      "outputs": [],
      "source": [
        "df = df[df.Price > 10]"
      ]
    },
    {
      "cell_type": "markdown",
      "metadata": {
        "id": "ksaCP6owK_bp"
      },
      "source": [
        "## Подготовка выборки"
      ]
    },
    {
      "cell_type": "code",
      "execution_count": null,
      "metadata": {
        "id": "ETThEHq5K_bq"
      },
      "outputs": [],
      "source": [
        "df_ohe = pd.get_dummies(df)\n",
        "\n",
        "oe = OrdinalEncoder()\n",
        "oe.fit(df[['VehicleType', 'Gearbox', 'Model', 'FuelType', 'Brand', 'NotRepaired']])\n",
        "encoded_columns = oe.transform(df[['VehicleType', 'Gearbox', 'Model', 'FuelType', 'Brand', 'NotRepaired']])\n",
        "df_oe = df.copy()\n",
        "df_oe[['VehicleType', 'Gearbox', 'Model', 'FuelType', 'Brand', 'NotRepaired']] = encoded_columns\n",
        "# oe.transform(oe_first['VehicleType', 'Gearbox', 'Model', 'FuelType', 'Brand', 'NotRepaired'])"
      ]
    },
    {
      "cell_type": "markdown",
      "metadata": {
        "id": "XD2GE8o-K_bq"
      },
      "source": [
        "Заменила категориальные значения на номера их индексов из списка уникальных значений. Пробовала dummy кодирование и получила 322 столбца, на мой взгляд показалось многовато."
      ]
    },
    {
      "cell_type": "code",
      "execution_count": null,
      "metadata": {
        "id": "Fk1pQtQQK_bq"
      },
      "outputs": [],
      "source": [
        "target_ohe = df_ohe['Price']\n",
        "features_ohe = df_ohe.drop(['Price'] , axis=1)\n",
        "\n",
        "features_80_ohe, features_test_ohe, target_80_ohe, target_test_ohe = train_test_split(\n",
        "    features_ohe, target_ohe, test_size=0.2, random_state=12345)\n",
        "\n",
        "features_train_ohe, features_valid_ohe, target_train_ohe, target_valid_ohe = train_test_split(\n",
        "    features_80_ohe, target_80_ohe, test_size=0.25, random_state=12345)\n",
        "\n",
        "\n",
        "target_b_ohe = df_ohe[df_ohe.mistake == 0]['Price']\n",
        "features_b_ohe = features_ohe[features_ohe.mistake == 0]\n",
        "\n",
        "features_80_b_ohe, features_test_b_ohe, target_80_b_ohe, target_test_b_ohe = train_test_split(\n",
        "    features_b_ohe, target_b_ohe, test_size=0.2, random_state=12345)\n",
        "\n",
        "features_train_b_ohe, features_valid_b_ohe, target_train_b_ohe, target_valid_b_ohe = train_test_split(\n",
        "    features_80_b_ohe, target_80_b_ohe, test_size=0.25, random_state=12345)\n",
        "\n",
        "\n",
        "target_oe = df_oe['Price']\n",
        "features_oe = df_oe.drop(['Price'] , axis=1)\n",
        "\n",
        "features_80_oe, features_test_oe, target_80_oe, target_test_oe = train_test_split(\n",
        "    features_oe, target_oe, test_size=0.2, random_state=12345)\n",
        "\n",
        "features_train_oe, features_valid_oe, target_train_oe, target_valid_oe = train_test_split(\n",
        "    features_80_oe, target_80_oe, test_size=0.25, random_state=12345)\n",
        "\n",
        "\n",
        "target_b_oe = df_oe[df_ohe.mistake == 0]['Price']\n",
        "features_b_oe = features_oe[features_oe.mistake == 0]\n",
        "\n",
        "features_80_b_oe, features_test_b_oe, target_80_b_oe, target_test_b_oe = train_test_split(\n",
        "    features_b_oe, target_b_ohe, test_size=0.2, random_state=12345)\n",
        "\n",
        "features_train_b_oe, features_valid_b_oe, target_train_b_oe, target_valid_b_oe = train_test_split(\n",
        "    features_80_b_oe, target_80_b_oe, test_size=0.25, random_state=12345)"
      ]
    },
    {
      "cell_type": "markdown",
      "metadata": {
        "id": "ORbvBUrDK_br"
      },
      "source": [
        "Разбила на выборки для обучения модели. Первая по всем данным, вторая по данным без флага в столбце mistake"
      ]
    },
    {
      "cell_type": "code",
      "execution_count": null,
      "metadata": {
        "id": "veOaZk8xK_br",
        "outputId": "f5ddf265-4746-4613-b371-0ab468d15186"
      },
      "outputs": [
        {
          "name": "stderr",
          "output_type": "stream",
          "text": [
            "/tmp/ipykernel_86/3624378564.py:5: SettingWithCopyWarning: \n",
            "A value is trying to be set on a copy of a slice from a DataFrame.\n",
            "Try using .loc[row_indexer,col_indexer] = value instead\n",
            "\n",
            "See the caveats in the documentation: https://pandas.pydata.org/pandas-docs/stable/user_guide/indexing.html#returning-a-view-versus-a-copy\n",
            "  features_train_ohe[numeric] = scaler.transform(features_train_ohe[numeric])\n",
            "/opt/conda/lib/python3.9/site-packages/pandas/core/indexing.py:1738: SettingWithCopyWarning: \n",
            "A value is trying to be set on a copy of a slice from a DataFrame.\n",
            "Try using .loc[row_indexer,col_indexer] = value instead\n",
            "\n",
            "See the caveats in the documentation: https://pandas.pydata.org/pandas-docs/stable/user_guide/indexing.html#returning-a-view-versus-a-copy\n",
            "  self._setitem_single_column(loc, value[:, i].tolist(), pi)\n",
            "/tmp/ipykernel_86/3624378564.py:6: SettingWithCopyWarning: \n",
            "A value is trying to be set on a copy of a slice from a DataFrame.\n",
            "Try using .loc[row_indexer,col_indexer] = value instead\n",
            "\n",
            "See the caveats in the documentation: https://pandas.pydata.org/pandas-docs/stable/user_guide/indexing.html#returning-a-view-versus-a-copy\n",
            "  features_test_ohe[numeric] = scaler.transform(features_test_ohe[numeric])\n",
            "/opt/conda/lib/python3.9/site-packages/pandas/core/indexing.py:1738: SettingWithCopyWarning: \n",
            "A value is trying to be set on a copy of a slice from a DataFrame.\n",
            "Try using .loc[row_indexer,col_indexer] = value instead\n",
            "\n",
            "See the caveats in the documentation: https://pandas.pydata.org/pandas-docs/stable/user_guide/indexing.html#returning-a-view-versus-a-copy\n",
            "  self._setitem_single_column(loc, value[:, i].tolist(), pi)\n",
            "/tmp/ipykernel_86/3624378564.py:7: SettingWithCopyWarning: \n",
            "A value is trying to be set on a copy of a slice from a DataFrame.\n",
            "Try using .loc[row_indexer,col_indexer] = value instead\n",
            "\n",
            "See the caveats in the documentation: https://pandas.pydata.org/pandas-docs/stable/user_guide/indexing.html#returning-a-view-versus-a-copy\n",
            "  features_valid_ohe[numeric] = scaler.transform(features_valid_ohe[numeric])\n",
            "/opt/conda/lib/python3.9/site-packages/pandas/core/indexing.py:1738: SettingWithCopyWarning: \n",
            "A value is trying to be set on a copy of a slice from a DataFrame.\n",
            "Try using .loc[row_indexer,col_indexer] = value instead\n",
            "\n",
            "See the caveats in the documentation: https://pandas.pydata.org/pandas-docs/stable/user_guide/indexing.html#returning-a-view-versus-a-copy\n",
            "  self._setitem_single_column(loc, value[:, i].tolist(), pi)\n",
            "/tmp/ipykernel_86/3624378564.py:11: SettingWithCopyWarning: \n",
            "A value is trying to be set on a copy of a slice from a DataFrame.\n",
            "Try using .loc[row_indexer,col_indexer] = value instead\n",
            "\n",
            "See the caveats in the documentation: https://pandas.pydata.org/pandas-docs/stable/user_guide/indexing.html#returning-a-view-versus-a-copy\n",
            "  features_train_b_ohe[numeric] = scaler.transform(features_train_b_ohe[numeric])\n",
            "/opt/conda/lib/python3.9/site-packages/pandas/core/indexing.py:1738: SettingWithCopyWarning: \n",
            "A value is trying to be set on a copy of a slice from a DataFrame.\n",
            "Try using .loc[row_indexer,col_indexer] = value instead\n",
            "\n",
            "See the caveats in the documentation: https://pandas.pydata.org/pandas-docs/stable/user_guide/indexing.html#returning-a-view-versus-a-copy\n",
            "  self._setitem_single_column(loc, value[:, i].tolist(), pi)\n",
            "/tmp/ipykernel_86/3624378564.py:12: SettingWithCopyWarning: \n",
            "A value is trying to be set on a copy of a slice from a DataFrame.\n",
            "Try using .loc[row_indexer,col_indexer] = value instead\n",
            "\n",
            "See the caveats in the documentation: https://pandas.pydata.org/pandas-docs/stable/user_guide/indexing.html#returning-a-view-versus-a-copy\n",
            "  features_test_b_ohe[numeric] = scaler.transform(features_test_b_ohe[numeric])\n",
            "/opt/conda/lib/python3.9/site-packages/pandas/core/indexing.py:1738: SettingWithCopyWarning: \n",
            "A value is trying to be set on a copy of a slice from a DataFrame.\n",
            "Try using .loc[row_indexer,col_indexer] = value instead\n",
            "\n",
            "See the caveats in the documentation: https://pandas.pydata.org/pandas-docs/stable/user_guide/indexing.html#returning-a-view-versus-a-copy\n",
            "  self._setitem_single_column(loc, value[:, i].tolist(), pi)\n",
            "/tmp/ipykernel_86/3624378564.py:13: SettingWithCopyWarning: \n",
            "A value is trying to be set on a copy of a slice from a DataFrame.\n",
            "Try using .loc[row_indexer,col_indexer] = value instead\n",
            "\n",
            "See the caveats in the documentation: https://pandas.pydata.org/pandas-docs/stable/user_guide/indexing.html#returning-a-view-versus-a-copy\n",
            "  features_valid_b_ohe[numeric] = scaler.transform(features_valid_b_ohe[numeric])\n",
            "/opt/conda/lib/python3.9/site-packages/pandas/core/indexing.py:1738: SettingWithCopyWarning: \n",
            "A value is trying to be set on a copy of a slice from a DataFrame.\n",
            "Try using .loc[row_indexer,col_indexer] = value instead\n",
            "\n",
            "See the caveats in the documentation: https://pandas.pydata.org/pandas-docs/stable/user_guide/indexing.html#returning-a-view-versus-a-copy\n",
            "  self._setitem_single_column(loc, value[:, i].tolist(), pi)\n",
            "/tmp/ipykernel_86/3624378564.py:17: SettingWithCopyWarning: \n",
            "A value is trying to be set on a copy of a slice from a DataFrame.\n",
            "Try using .loc[row_indexer,col_indexer] = value instead\n",
            "\n",
            "See the caveats in the documentation: https://pandas.pydata.org/pandas-docs/stable/user_guide/indexing.html#returning-a-view-versus-a-copy\n",
            "  features_train_oe[numeric] = scaler.transform(features_train_oe[numeric])\n",
            "/opt/conda/lib/python3.9/site-packages/pandas/core/indexing.py:1738: SettingWithCopyWarning: \n",
            "A value is trying to be set on a copy of a slice from a DataFrame.\n",
            "Try using .loc[row_indexer,col_indexer] = value instead\n",
            "\n",
            "See the caveats in the documentation: https://pandas.pydata.org/pandas-docs/stable/user_guide/indexing.html#returning-a-view-versus-a-copy\n",
            "  self._setitem_single_column(loc, value[:, i].tolist(), pi)\n",
            "/tmp/ipykernel_86/3624378564.py:18: SettingWithCopyWarning: \n",
            "A value is trying to be set on a copy of a slice from a DataFrame.\n",
            "Try using .loc[row_indexer,col_indexer] = value instead\n",
            "\n",
            "See the caveats in the documentation: https://pandas.pydata.org/pandas-docs/stable/user_guide/indexing.html#returning-a-view-versus-a-copy\n",
            "  features_test_oe[numeric] = scaler.transform(features_test_oe[numeric])\n",
            "/opt/conda/lib/python3.9/site-packages/pandas/core/indexing.py:1738: SettingWithCopyWarning: \n",
            "A value is trying to be set on a copy of a slice from a DataFrame.\n",
            "Try using .loc[row_indexer,col_indexer] = value instead\n",
            "\n",
            "See the caveats in the documentation: https://pandas.pydata.org/pandas-docs/stable/user_guide/indexing.html#returning-a-view-versus-a-copy\n",
            "  self._setitem_single_column(loc, value[:, i].tolist(), pi)\n",
            "/tmp/ipykernel_86/3624378564.py:19: SettingWithCopyWarning: \n",
            "A value is trying to be set on a copy of a slice from a DataFrame.\n",
            "Try using .loc[row_indexer,col_indexer] = value instead\n",
            "\n",
            "See the caveats in the documentation: https://pandas.pydata.org/pandas-docs/stable/user_guide/indexing.html#returning-a-view-versus-a-copy\n",
            "  features_valid_oe[numeric] = scaler.transform(features_valid_oe[numeric])\n",
            "/opt/conda/lib/python3.9/site-packages/pandas/core/indexing.py:1738: SettingWithCopyWarning: \n",
            "A value is trying to be set on a copy of a slice from a DataFrame.\n",
            "Try using .loc[row_indexer,col_indexer] = value instead\n",
            "\n",
            "See the caveats in the documentation: https://pandas.pydata.org/pandas-docs/stable/user_guide/indexing.html#returning-a-view-versus-a-copy\n",
            "  self._setitem_single_column(loc, value[:, i].tolist(), pi)\n",
            "/tmp/ipykernel_86/3624378564.py:23: SettingWithCopyWarning: \n",
            "A value is trying to be set on a copy of a slice from a DataFrame.\n",
            "Try using .loc[row_indexer,col_indexer] = value instead\n",
            "\n",
            "See the caveats in the documentation: https://pandas.pydata.org/pandas-docs/stable/user_guide/indexing.html#returning-a-view-versus-a-copy\n",
            "  features_train_b_oe[numeric] = scaler.transform(features_train_b_oe[numeric])\n",
            "/opt/conda/lib/python3.9/site-packages/pandas/core/indexing.py:1738: SettingWithCopyWarning: \n",
            "A value is trying to be set on a copy of a slice from a DataFrame.\n",
            "Try using .loc[row_indexer,col_indexer] = value instead\n",
            "\n",
            "See the caveats in the documentation: https://pandas.pydata.org/pandas-docs/stable/user_guide/indexing.html#returning-a-view-versus-a-copy\n",
            "  self._setitem_single_column(loc, value[:, i].tolist(), pi)\n",
            "/tmp/ipykernel_86/3624378564.py:24: SettingWithCopyWarning: \n",
            "A value is trying to be set on a copy of a slice from a DataFrame.\n",
            "Try using .loc[row_indexer,col_indexer] = value instead\n",
            "\n",
            "See the caveats in the documentation: https://pandas.pydata.org/pandas-docs/stable/user_guide/indexing.html#returning-a-view-versus-a-copy\n",
            "  features_test_b_oe[numeric] = scaler.transform(features_test_b_oe[numeric])\n",
            "/opt/conda/lib/python3.9/site-packages/pandas/core/indexing.py:1738: SettingWithCopyWarning: \n",
            "A value is trying to be set on a copy of a slice from a DataFrame.\n",
            "Try using .loc[row_indexer,col_indexer] = value instead\n",
            "\n",
            "See the caveats in the documentation: https://pandas.pydata.org/pandas-docs/stable/user_guide/indexing.html#returning-a-view-versus-a-copy\n",
            "  self._setitem_single_column(loc, value[:, i].tolist(), pi)\n",
            "/tmp/ipykernel_86/3624378564.py:25: SettingWithCopyWarning: \n",
            "A value is trying to be set on a copy of a slice from a DataFrame.\n",
            "Try using .loc[row_indexer,col_indexer] = value instead\n",
            "\n",
            "See the caveats in the documentation: https://pandas.pydata.org/pandas-docs/stable/user_guide/indexing.html#returning-a-view-versus-a-copy\n",
            "  features_valid_b_oe[numeric] = scaler.transform(features_valid_b_oe[numeric])\n",
            "/opt/conda/lib/python3.9/site-packages/pandas/core/indexing.py:1738: SettingWithCopyWarning: \n",
            "A value is trying to be set on a copy of a slice from a DataFrame.\n",
            "Try using .loc[row_indexer,col_indexer] = value instead\n",
            "\n",
            "See the caveats in the documentation: https://pandas.pydata.org/pandas-docs/stable/user_guide/indexing.html#returning-a-view-versus-a-copy\n",
            "  self._setitem_single_column(loc, value[:, i].tolist(), pi)\n"
          ]
        }
      ],
      "source": [
        "numeric = ['RegistrationYear', 'Power', 'Kilometer', 'RegistrationMonth', 'NumberOfPictures', 'PostalCode', 'mistake']\n",
        "\n",
        "scaler = StandardScaler()\n",
        "scaler.fit(features_train_ohe[numeric])\n",
        "features_train_ohe[numeric] = scaler.transform(features_train_ohe[numeric])\n",
        "features_test_ohe[numeric] = scaler.transform(features_test_ohe[numeric])\n",
        "features_valid_ohe[numeric] = scaler.transform(features_valid_ohe[numeric])\n",
        "\n",
        "scaler_b_ohe = StandardScaler()\n",
        "scaler_b_ohe.fit(features_train_b_ohe[numeric])\n",
        "features_train_b_ohe[numeric] = scaler.transform(features_train_b_ohe[numeric])\n",
        "features_test_b_ohe[numeric] = scaler.transform(features_test_b_ohe[numeric])\n",
        "features_valid_b_ohe[numeric] = scaler.transform(features_valid_b_ohe[numeric])\n",
        "\n",
        "scaler = StandardScaler()\n",
        "scaler.fit(features_train_oe[numeric])\n",
        "features_train_oe[numeric] = scaler.transform(features_train_oe[numeric])\n",
        "features_test_oe[numeric] = scaler.transform(features_test_oe[numeric])\n",
        "features_valid_oe[numeric] = scaler.transform(features_valid_oe[numeric])\n",
        "\n",
        "scaler_b_oe = StandardScaler()\n",
        "scaler_b_oe.fit(features_train_b_oe[numeric])\n",
        "features_train_b_oe[numeric] = scaler.transform(features_train_b_oe[numeric])\n",
        "features_test_b_oe[numeric] = scaler.transform(features_test_b_oe[numeric])\n",
        "features_valid_b_oe[numeric] = scaler.transform(features_valid_b_oe[numeric])"
      ]
    },
    {
      "cell_type": "markdown",
      "metadata": {
        "id": "gtdbRLatK_bs"
      },
      "source": [
        "отнормировала данные, что бы модель не выделяла некоторые признаки, как более важные."
      ]
    },
    {
      "cell_type": "markdown",
      "metadata": {
        "id": "1vnkSFa-K_bs"
      },
      "source": [
        "## Обучение моделей"
      ]
    },
    {
      "cell_type": "markdown",
      "metadata": {
        "id": "vrwJJ_p7K_bs"
      },
      "source": [
        "Модель LightGBM"
      ]
    },
    {
      "cell_type": "code",
      "execution_count": null,
      "metadata": {
        "id": "5_bOt98_K_bs",
        "outputId": "f4210baf-cf9e-4d8c-a09f-4d89a773fc65"
      },
      "outputs": [
        {
          "name": "stdout",
          "output_type": "stream",
          "text": [
            "max_leaves = 11\n",
            "RMSE = 4249.048594910759\n"
          ]
        }
      ],
      "source": [
        "max_leaves = 0\n",
        "max_rmse = 0\n",
        "for leaves in range(11, 50, 9):    # 11\n",
        "    Forest_model_ohe = lgb.LGBMRegressor(boosting_type = 'gbdt', num_leaves = leaves, n_estimators = 1, class_weight = None)\n",
        "    Forest_model_ohe.fit(features_train_ohe, target_train_ohe)\n",
        "    if max_rmse < (mean_squared_error(target_test_ohe, Forest_model_ohe.predict(features_test_ohe)))**0.5:\n",
        "        max_rmse = (mean_squared_error(target_test_ohe, Forest_model_ohe.predict(features_test_ohe)))**0.5\n",
        "        max_leaves = leaves\n",
        "    \n",
        "print('max_leaves =', max_leaves) \n",
        "print('RMSE =', max_rmse)"
      ]
    },
    {
      "cell_type": "code",
      "execution_count": null,
      "metadata": {
        "id": "9kWBJYPeK_bt",
        "outputId": "2a1576fd-6013-4402-da56-5b4bfd718774"
      },
      "outputs": [
        {
          "name": "stdout",
          "output_type": "stream",
          "text": [
            "RMSE на полной выборке 4249.048594910759\n",
            "RMSE на выборке без ошибок 4346.225559506319\n"
          ]
        }
      ],
      "source": [
        "model_gbm_ohe = lgb.LGBMRegressor(boosting_type = 'gbdt', num_leaves = 11, n_estimators = 1, class_weight = None)\n",
        "model_gbm_ohe.fit(features_train_ohe, target_train_ohe)\n",
        "print('RMSE на полной выборке', (mean_squared_error(target_test_ohe, model_gbm_ohe.predict(features_test_ohe)))**0.5)\n",
        "\n",
        "model_gbm_b_ohe = lgb.LGBMRegressor(boosting_type = 'gbdt', num_leaves = 11, n_estimators = 1, class_weight = None)\n",
        "model_gbm_b_ohe.fit(features_train_b_ohe, target_train_b_ohe)\n",
        "print('RMSE на выборке без ошибок', (mean_squared_error(target_test_b_ohe, model_gbm_b_ohe.predict(features_test_b_ohe)))**0.5)"
      ]
    },
    {
      "cell_type": "markdown",
      "metadata": {
        "id": "lDMqEaNjK_bt"
      },
      "source": [
        "RandomForestRegressor"
      ]
    },
    {
      "cell_type": "code",
      "execution_count": null,
      "metadata": {
        "id": "FYKryQ_eK_bt",
        "outputId": "67976b3e-de68-4d36-db82-efe774da65e4"
      },
      "outputs": [
        {
          "name": "stdout",
          "output_type": "stream",
          "text": [
            "max_depth = 11\n",
            "RMSE = 1887.514817626876\n"
          ]
        }
      ],
      "source": [
        "max_depth_oe = 0\n",
        "max_rmse_oe = 0\n",
        "for depth in range(11, 50, 9):    # 11\n",
        "    Forest_model_oe = RandomForestRegressor(n_estimators=20, max_depth=depth, random_state=999)\n",
        "    Forest_model_oe.fit(features_train_oe, target_train_oe)\n",
        "    if max_rmse_oe < (mean_squared_error(target_test_oe, Forest_model_oe.predict(features_test_oe)))**0.5:\n",
        "        max_rmse_oe = (mean_squared_error(target_test_oe, Forest_model_oe.predict(features_test_oe)))**0.5\n",
        "        max_depth_oe = depth\n",
        "    \n",
        "print('max_depth =', max_depth_oe) \n",
        "print('RMSE =', max_rmse_oe)"
      ]
    },
    {
      "cell_type": "code",
      "execution_count": null,
      "metadata": {
        "id": "e-BwbBy_K_bt",
        "outputId": "286206d2-750a-45bb-9fab-bd0638de5a17"
      },
      "outputs": [
        {
          "name": "stdout",
          "output_type": "stream",
          "text": [
            "n_estimators = 11\n",
            "RMSE 1895.9515066608844\n"
          ]
        }
      ],
      "source": [
        "max_trees_oe = 0\n",
        "max_rmse_oe = 0\n",
        "for trees in range(11, 50, 9):    # 11\n",
        "    Forest_model_oe = RandomForestRegressor(n_estimators=trees, max_depth=11, random_state=999)\n",
        "    Forest_model_oe.fit(features_train_oe, target_train_oe)\n",
        "    if max_rmse_oe < (mean_squared_error(target_test_oe, Forest_model_oe.predict(features_test_oe)))**0.5:\n",
        "        max_rmse_oe = (mean_squared_error(target_test_oe, Forest_model_oe.predict(features_test_oe)))**0.5\n",
        "        max_trees_oe = trees\n",
        "print('n_estimators =', max_trees_oe) \n",
        "print('RMSE', max_rmse_oe)  "
      ]
    },
    {
      "cell_type": "code",
      "execution_count": null,
      "metadata": {
        "id": "ebyNBBr4K_bu",
        "outputId": "9f2133c7-673c-4508-dead-f69a832021b1"
      },
      "outputs": [
        {
          "name": "stdout",
          "output_type": "stream",
          "text": [
            "RMSE на выборке без ошибок 1895.9076625995763\n",
            "RMSE на выборке без ошибок 1784.1966947737503\n"
          ]
        }
      ],
      "source": [
        "model_Forest_oe = RandomForestRegressor(n_estimators=11, max_depth=11, random_state=999)\n",
        "model_Forest_oe.fit(features_train_oe, target_train_oe)\n",
        "print('RMSE на выборке без ошибок', (mean_squared_error(target_test_oe, model_Forest_oe.predict(features_test_oe)))**0.5)\n",
        "\n",
        "model_Forest_b_oe = RandomForestRegressor(n_estimators=11, max_depth=11, random_state=999)\n",
        "model_Forest_b_oe.fit(features_train_b_oe, target_train_b_oe)\n",
        "print('RMSE на выборке без ошибок', (mean_squared_error(target_test_b_oe, model_Forest_b_oe.predict(features_test_b_oe)))**0.5)"
      ]
    },
    {
      "cell_type": "markdown",
      "metadata": {
        "id": "NAjMHAi1K_bu"
      },
      "source": [
        "## Анализ моделей"
      ]
    },
    {
      "cell_type": "code",
      "execution_count": null,
      "metadata": {
        "id": "Yi4EfBd_K_bv",
        "outputId": "73d73fe3-22bb-45e7-c3a5-8cfcd71177ee"
      },
      "outputs": [
        {
          "name": "stdout",
          "output_type": "stream",
          "text": [
            "Модель LGBMRegressor на полной выборке\n",
            "модель обучается 2.59 секунд\n",
            "модель предсказывает 0.39 секунд\n",
            "RMSE 4256.68525390024\n"
          ]
        }
      ],
      "source": [
        "print('Модель LGBMRegressor на полной выборке')\n",
        "start_time = time.time()\n",
        "model_gbm_ohe = lgb.LGBMRegressor(boosting_type = 'gbdt', num_leaves = 11, n_estimators = 1, class_weight = None)\n",
        "model_gbm_ohe.fit(features_train_ohe, target_train_ohe)\n",
        "print(\"модель обучается %s секунд\" % round((time.time() - start_time),2))\n",
        "\n",
        "start_time = time.time()\n",
        "prediction_gmb = model_gbm_ohe.predict(features_valid_ohe)\n",
        "print(\"модель предсказывает %s секунд\" % round((time.time() - start_time), 2))\n",
        "\n",
        "print('RMSE', (mean_squared_error(target_valid_ohe, prediction_gmb))**0.5)"
      ]
    },
    {
      "cell_type": "code",
      "execution_count": null,
      "metadata": {
        "id": "Sm1CJD74K_bv",
        "outputId": "a9635a2f-203c-4e75-d4f2-3aaf9faf53f8"
      },
      "outputs": [
        {
          "name": "stdout",
          "output_type": "stream",
          "text": [
            "Модель LGBMRegressor на выборке с ошибками\n",
            "модель обучается 1.99 секунд\n",
            "модель предсказывает 0.3 секунд\n",
            "RMSE 4351.062742093651\n"
          ]
        }
      ],
      "source": [
        "print('Модель LGBMRegressor на выборке с ошибками')\n",
        "start_time = time.time()\n",
        "model_gbm_b_ohe = lgb.LGBMRegressor(boosting_type = 'gbdt', num_leaves = 11, n_estimators = 1, class_weight = None)\n",
        "model_gbm_b_ohe.fit(features_train_b_ohe, target_train_b_ohe)\n",
        "print(\"модель обучается %s секунд\" % round((time.time() - start_time), 2))\n",
        "\n",
        "start_time = time.time()\n",
        "prediction_gmb_b = model_gbm_b_ohe.predict(features_valid_b_ohe)\n",
        "print(\"модель предсказывает %s секунд\" % round((time.time() - start_time), 2))\n",
        "\n",
        "print('RMSE', (mean_squared_error(target_valid_b_ohe, prediction_gmb_b))**0.5)"
      ]
    },
    {
      "cell_type": "code",
      "execution_count": null,
      "metadata": {
        "id": "4Hv59T9QK_bv",
        "outputId": "8c7fa2fe-cc17-48e2-9bf6-028b7dd39d0f"
      },
      "outputs": [
        {
          "name": "stdout",
          "output_type": "stream",
          "text": [
            "Модель RandomForestRegressor на полной выборке\n",
            "модель обучается 5.28 секунд\n",
            "модель предсказывает 0.08 секунд\n",
            "RMSE 1892.4801722306709\n"
          ]
        }
      ],
      "source": [
        "print('Модель RandomForestRegressor на полной выборке')\n",
        "start_time = time.time()\n",
        "model_Forest_oe = RandomForestRegressor(n_estimators=11, max_depth=11, random_state=999)\n",
        "model_Forest_oe.fit(features_train_oe, target_train_oe)\n",
        "print(\"модель обучается %s секунд\" % round((time.time() - start_time),2))\n",
        "\n",
        "start_time = time.time()\n",
        "prediction_Forest = model_Forest_oe.predict(features_valid_oe)\n",
        "print(\"модель предсказывает %s секунд\" % round((time.time() - start_time), 2))\n",
        "\n",
        "print('RMSE', (mean_squared_error(target_valid_oe, prediction_Forest))**0.5)"
      ]
    },
    {
      "cell_type": "code",
      "execution_count": null,
      "metadata": {
        "id": "3qbskabWK_bv",
        "outputId": "497261d9-197f-4a31-d57c-96627d77e0bd"
      },
      "outputs": [
        {
          "name": "stdout",
          "output_type": "stream",
          "text": [
            "Модель RandomForestRegressor  на выборке с ошибками\n",
            "модель обучается 3.52 секунд\n",
            "модель предсказывает 0.06 секунд\n",
            "RMSE 1776.922419441675\n"
          ]
        }
      ],
      "source": [
        "print('Модель RandomForestRegressor  на выборке с ошибками')\n",
        "start_time = time.time()\n",
        "model_Forest_b_oe = RandomForestRegressor(n_estimators=11, max_depth=11, random_state=999)\n",
        "model_Forest_b_oe.fit(features_train_b_oe, target_train_b_oe)\n",
        "print(\"модель обучается %s секунд\" % round((time.time() - start_time), 2))\n",
        "\n",
        "start_time = time.time()\n",
        "prediction_Forest_b = model_Forest_b_oe.predict(features_valid_b_oe)\n",
        "print(\"модель предсказывает %s секунд\" % round((time.time() - start_time), 2))\n",
        "\n",
        "print('RMSE', (mean_squared_error(target_valid_b_oe, prediction_Forest_b))**0.5)"
      ]
    },
    {
      "cell_type": "markdown",
      "metadata": {
        "id": "S4xbqlFiK_bw"
      },
      "source": [
        "По скорости обучени лучшей оказалась модель LGBMRegressor, однако у модели RandomForestRegressor значительно лучше качество и скорость предсказания."
      ]
    },
    {
      "cell_type": "code",
      "source": [],
      "metadata": {
        "id": "xgDE_I_HLoDx"
      },
      "execution_count": null,
      "outputs": []
    }
  ],
  "metadata": {
    "ExecuteTimeLog": [
      {
        "duration": 840,
        "start_time": "2022-07-31T11:16:41.867Z"
      },
      {
        "duration": 1305,
        "start_time": "2022-07-31T11:16:45.580Z"
      },
      {
        "duration": 818,
        "start_time": "2022-07-31T11:16:53.263Z"
      },
      {
        "duration": 28,
        "start_time": "2022-07-31T11:16:58.553Z"
      },
      {
        "duration": 20,
        "start_time": "2022-07-31T11:17:04.353Z"
      },
      {
        "duration": 123,
        "start_time": "2022-07-31T11:19:23.082Z"
      },
      {
        "duration": 12,
        "start_time": "2022-07-31T12:17:21.461Z"
      },
      {
        "duration": 146,
        "start_time": "2022-07-31T12:23:54.153Z"
      },
      {
        "duration": 91,
        "start_time": "2022-07-31T12:28:24.069Z"
      },
      {
        "duration": 17,
        "start_time": "2022-07-31T12:31:18.071Z"
      },
      {
        "duration": 11,
        "start_time": "2022-07-31T12:31:24.162Z"
      },
      {
        "duration": 7,
        "start_time": "2022-07-31T12:31:40.084Z"
      },
      {
        "duration": 823,
        "start_time": "2022-07-31T12:31:48.554Z"
      },
      {
        "duration": 15,
        "start_time": "2022-07-31T12:31:50.094Z"
      },
      {
        "duration": 154,
        "start_time": "2022-07-31T12:31:51.034Z"
      },
      {
        "duration": 119,
        "start_time": "2022-07-31T12:31:59.898Z"
      },
      {
        "duration": 9,
        "start_time": "2022-07-31T12:32:03.488Z"
      },
      {
        "duration": 5,
        "start_time": "2022-07-31T12:32:11.993Z"
      },
      {
        "duration": 775,
        "start_time": "2022-07-31T12:32:36.650Z"
      },
      {
        "duration": 134,
        "start_time": "2022-07-31T12:32:40.319Z"
      },
      {
        "duration": 140,
        "start_time": "2022-07-31T12:32:44.789Z"
      },
      {
        "duration": 126,
        "start_time": "2022-07-31T12:33:08.683Z"
      },
      {
        "duration": 38,
        "start_time": "2022-07-31T12:41:29.892Z"
      },
      {
        "duration": 188,
        "start_time": "2022-07-31T12:41:39.376Z"
      },
      {
        "duration": 5,
        "start_time": "2022-07-31T12:42:48.362Z"
      },
      {
        "duration": 4,
        "start_time": "2022-07-31T12:42:53.560Z"
      },
      {
        "duration": 20,
        "start_time": "2022-07-31T12:43:07.259Z"
      },
      {
        "duration": 27,
        "start_time": "2022-07-31T12:43:15.757Z"
      },
      {
        "duration": 8,
        "start_time": "2022-07-31T12:43:46.693Z"
      },
      {
        "duration": 69,
        "start_time": "2022-07-31T12:43:53.726Z"
      },
      {
        "duration": 226,
        "start_time": "2022-07-31T12:44:04.230Z"
      },
      {
        "duration": 173,
        "start_time": "2022-07-31T12:44:38.335Z"
      },
      {
        "duration": 36,
        "start_time": "2022-07-31T12:45:59.325Z"
      },
      {
        "duration": 9,
        "start_time": "2022-07-31T12:48:32.752Z"
      },
      {
        "duration": 59,
        "start_time": "2022-07-31T12:49:43.454Z"
      },
      {
        "duration": 140,
        "start_time": "2022-07-31T12:49:49.263Z"
      },
      {
        "duration": 125,
        "start_time": "2022-07-31T12:49:50.572Z"
      },
      {
        "duration": 35,
        "start_time": "2022-07-31T12:50:33.426Z"
      },
      {
        "duration": 66,
        "start_time": "2022-07-31T12:51:30.632Z"
      },
      {
        "duration": 18,
        "start_time": "2022-07-31T12:51:37.684Z"
      },
      {
        "duration": 5,
        "start_time": "2022-07-31T12:51:52.066Z"
      },
      {
        "duration": 7,
        "start_time": "2022-07-31T12:52:00.549Z"
      },
      {
        "duration": 7,
        "start_time": "2022-07-31T12:52:13.561Z"
      },
      {
        "duration": 132,
        "start_time": "2022-07-31T12:52:23.756Z"
      },
      {
        "duration": 67,
        "start_time": "2022-07-31T12:53:40.393Z"
      },
      {
        "duration": 139,
        "start_time": "2022-07-31T12:53:45.355Z"
      },
      {
        "duration": 138,
        "start_time": "2022-07-31T12:54:26.292Z"
      },
      {
        "duration": 3,
        "start_time": "2022-07-31T12:56:26.259Z"
      },
      {
        "duration": 40,
        "start_time": "2022-07-31T12:56:30.618Z"
      },
      {
        "duration": 78,
        "start_time": "2022-07-31T13:01:17.049Z"
      },
      {
        "duration": 39,
        "start_time": "2022-07-31T13:02:10.467Z"
      },
      {
        "duration": 29,
        "start_time": "2022-07-31T13:02:43.856Z"
      },
      {
        "duration": 3,
        "start_time": "2022-07-31T13:03:20.977Z"
      },
      {
        "duration": 22,
        "start_time": "2022-07-31T13:03:25.696Z"
      },
      {
        "duration": 21,
        "start_time": "2022-07-31T13:03:29.711Z"
      },
      {
        "duration": 35,
        "start_time": "2022-07-31T13:03:44.214Z"
      },
      {
        "duration": 21,
        "start_time": "2022-07-31T13:04:12.347Z"
      },
      {
        "duration": 23,
        "start_time": "2022-07-31T13:04:13.716Z"
      },
      {
        "duration": 11,
        "start_time": "2022-07-31T13:07:17.150Z"
      },
      {
        "duration": 20,
        "start_time": "2022-07-31T13:08:21.150Z"
      },
      {
        "duration": 39,
        "start_time": "2022-07-31T13:08:29.553Z"
      },
      {
        "duration": 29,
        "start_time": "2022-07-31T13:11:03.054Z"
      },
      {
        "duration": 38,
        "start_time": "2022-07-31T13:11:05.510Z"
      },
      {
        "duration": 18,
        "start_time": "2022-07-31T13:18:19.230Z"
      },
      {
        "duration": 25,
        "start_time": "2022-07-31T13:31:41.286Z"
      },
      {
        "duration": 12,
        "start_time": "2022-07-31T13:58:46.758Z"
      },
      {
        "duration": 7,
        "start_time": "2022-07-31T14:00:24.915Z"
      },
      {
        "duration": 12,
        "start_time": "2022-07-31T14:02:20.432Z"
      },
      {
        "duration": 3,
        "start_time": "2022-07-31T14:02:26.521Z"
      },
      {
        "duration": 4,
        "start_time": "2022-07-31T14:02:37.012Z"
      },
      {
        "duration": 34,
        "start_time": "2022-07-31T14:02:46.518Z"
      },
      {
        "duration": 31,
        "start_time": "2022-07-31T14:03:43.320Z"
      },
      {
        "duration": 14,
        "start_time": "2022-07-31T14:04:13.430Z"
      },
      {
        "duration": 16,
        "start_time": "2022-07-31T14:04:17.528Z"
      },
      {
        "duration": 29,
        "start_time": "2022-07-31T14:04:21.828Z"
      },
      {
        "duration": 10,
        "start_time": "2022-07-31T14:24:50.067Z"
      },
      {
        "duration": 42,
        "start_time": "2022-07-31T14:24:55.479Z"
      },
      {
        "duration": 6,
        "start_time": "2022-07-31T14:24:56.294Z"
      },
      {
        "duration": 10,
        "start_time": "2022-07-31T14:24:57.910Z"
      },
      {
        "duration": 34,
        "start_time": "2022-07-31T14:24:59.525Z"
      },
      {
        "duration": 7,
        "start_time": "2022-07-31T14:56:44.653Z"
      },
      {
        "duration": 19,
        "start_time": "2022-07-31T14:56:48.763Z"
      },
      {
        "duration": 17,
        "start_time": "2022-07-31T14:57:57.953Z"
      },
      {
        "duration": 33,
        "start_time": "2022-07-31T14:58:02.127Z"
      },
      {
        "duration": 10,
        "start_time": "2022-07-31T14:58:37.361Z"
      },
      {
        "duration": 7,
        "start_time": "2022-07-31T14:58:49.707Z"
      },
      {
        "duration": 22,
        "start_time": "2022-07-31T14:59:39.663Z"
      },
      {
        "duration": 807,
        "start_time": "2022-08-03T12:04:15.813Z"
      },
      {
        "duration": 1197,
        "start_time": "2022-08-03T12:04:18.190Z"
      },
      {
        "duration": 16,
        "start_time": "2022-08-03T12:04:19.870Z"
      },
      {
        "duration": 142,
        "start_time": "2022-08-03T12:04:21.218Z"
      },
      {
        "duration": 1406,
        "start_time": "2022-08-03T12:04:25.238Z"
      },
      {
        "duration": 18,
        "start_time": "2022-08-03T12:04:45.394Z"
      },
      {
        "duration": 85,
        "start_time": "2022-08-03T12:04:57.238Z"
      },
      {
        "duration": 184,
        "start_time": "2022-08-03T12:05:00.834Z"
      },
      {
        "duration": 162,
        "start_time": "2022-08-03T12:05:04.719Z"
      },
      {
        "duration": 28,
        "start_time": "2022-08-03T12:05:24.168Z"
      },
      {
        "duration": 45,
        "start_time": "2022-08-03T12:06:13.319Z"
      },
      {
        "duration": 24,
        "start_time": "2022-08-03T12:06:20.930Z"
      },
      {
        "duration": 88,
        "start_time": "2022-08-03T12:06:47.119Z"
      },
      {
        "duration": 86,
        "start_time": "2022-08-03T12:07:57.186Z"
      },
      {
        "duration": 84,
        "start_time": "2022-08-03T12:08:05.045Z"
      },
      {
        "duration": 112,
        "start_time": "2022-08-03T12:08:15.021Z"
      },
      {
        "duration": 12,
        "start_time": "2022-08-03T12:12:17.737Z"
      },
      {
        "duration": 84,
        "start_time": "2022-08-03T12:13:53.622Z"
      },
      {
        "duration": 91,
        "start_time": "2022-08-03T12:14:32.672Z"
      },
      {
        "duration": 121,
        "start_time": "2022-08-03T12:14:35.418Z"
      },
      {
        "duration": 8,
        "start_time": "2022-08-03T12:15:03.597Z"
      },
      {
        "duration": 8,
        "start_time": "2022-08-03T12:15:24.720Z"
      },
      {
        "duration": 50,
        "start_time": "2022-08-03T12:31:18.577Z"
      },
      {
        "duration": 671,
        "start_time": "2022-08-03T12:31:38.151Z"
      },
      {
        "duration": 132,
        "start_time": "2022-08-03T12:31:41.755Z"
      },
      {
        "duration": 130,
        "start_time": "2022-08-03T12:33:27.341Z"
      },
      {
        "duration": 33,
        "start_time": "2022-08-03T12:42:25.472Z"
      },
      {
        "duration": 166,
        "start_time": "2022-08-03T12:45:20.425Z"
      },
      {
        "duration": 19,
        "start_time": "2022-08-03T12:46:16.916Z"
      },
      {
        "duration": 9,
        "start_time": "2022-08-03T12:46:24.654Z"
      },
      {
        "duration": 9,
        "start_time": "2022-08-03T12:46:28.579Z"
      },
      {
        "duration": 3,
        "start_time": "2022-08-03T12:46:39.813Z"
      },
      {
        "duration": 4,
        "start_time": "2022-08-03T12:46:48.763Z"
      },
      {
        "duration": 100,
        "start_time": "2022-08-03T13:00:26.421Z"
      },
      {
        "duration": 97,
        "start_time": "2022-08-03T13:02:51.915Z"
      },
      {
        "duration": 4,
        "start_time": "2022-08-03T13:04:43.551Z"
      },
      {
        "duration": 3,
        "start_time": "2022-08-03T13:05:23.854Z"
      },
      {
        "duration": 154,
        "start_time": "2022-08-03T13:07:05.133Z"
      },
      {
        "duration": 11,
        "start_time": "2022-08-03T13:08:24.517Z"
      },
      {
        "duration": 27,
        "start_time": "2022-08-03T14:21:35.892Z"
      },
      {
        "duration": 776,
        "start_time": "2022-08-03T14:25:10.311Z"
      },
      {
        "duration": 47,
        "start_time": "2022-08-03T14:49:10.228Z"
      },
      {
        "duration": 9,
        "start_time": "2022-08-03T14:49:34.627Z"
      },
      {
        "duration": 15,
        "start_time": "2022-08-03T14:49:45.131Z"
      },
      {
        "duration": 113,
        "start_time": "2022-08-03T14:50:33.127Z"
      },
      {
        "duration": 822,
        "start_time": "2022-08-03T15:06:55.720Z"
      },
      {
        "duration": 654,
        "start_time": "2022-08-03T15:11:53.138Z"
      },
      {
        "duration": 86,
        "start_time": "2022-08-03T15:12:43.382Z"
      },
      {
        "duration": 1804,
        "start_time": "2022-08-03T15:13:37.286Z"
      },
      {
        "duration": 649,
        "start_time": "2022-08-03T15:13:43.437Z"
      },
      {
        "duration": 1332,
        "start_time": "2022-08-03T15:25:08.233Z"
      },
      {
        "duration": 1057,
        "start_time": "2022-08-03T15:25:10.433Z"
      },
      {
        "duration": 125,
        "start_time": "2022-08-03T15:25:14.272Z"
      },
      {
        "duration": 63,
        "start_time": "2022-08-03T15:25:15.621Z"
      },
      {
        "duration": 149,
        "start_time": "2022-08-03T15:25:17.573Z"
      },
      {
        "duration": 135,
        "start_time": "2022-08-03T15:25:18.632Z"
      },
      {
        "duration": 32,
        "start_time": "2022-08-03T15:25:21.928Z"
      },
      {
        "duration": 80,
        "start_time": "2022-08-03T15:25:34.888Z"
      },
      {
        "duration": 90,
        "start_time": "2022-08-03T15:25:36.082Z"
      },
      {
        "duration": 129,
        "start_time": "2022-08-03T15:25:36.974Z"
      },
      {
        "duration": 9,
        "start_time": "2022-08-03T15:25:43.124Z"
      },
      {
        "duration": 1792,
        "start_time": "2022-08-03T15:25:45.640Z"
      },
      {
        "duration": 663,
        "start_time": "2022-08-03T15:25:47.434Z"
      },
      {
        "duration": 46,
        "start_time": "2022-08-03T15:26:22.731Z"
      },
      {
        "duration": 1332,
        "start_time": "2022-08-03T15:26:29.155Z"
      },
      {
        "duration": 1083,
        "start_time": "2022-08-03T15:26:34.298Z"
      },
      {
        "duration": 117,
        "start_time": "2022-08-03T15:26:38.521Z"
      },
      {
        "duration": 63,
        "start_time": "2022-08-03T15:26:39.486Z"
      },
      {
        "duration": 31,
        "start_time": "2022-08-03T15:26:43.827Z"
      },
      {
        "duration": 129,
        "start_time": "2022-08-03T15:26:46.650Z"
      },
      {
        "duration": 121,
        "start_time": "2022-08-03T15:26:47.468Z"
      },
      {
        "duration": 1815,
        "start_time": "2022-08-03T15:26:51.929Z"
      },
      {
        "duration": 659,
        "start_time": "2022-08-03T15:26:53.745Z"
      },
      {
        "duration": 1333,
        "start_time": "2022-08-03T15:27:49.739Z"
      },
      {
        "duration": 1072,
        "start_time": "2022-08-03T15:27:56.952Z"
      },
      {
        "duration": 121,
        "start_time": "2022-08-03T15:28:00.029Z"
      },
      {
        "duration": 64,
        "start_time": "2022-08-03T15:28:00.333Z"
      },
      {
        "duration": 32,
        "start_time": "2022-08-03T15:28:04.403Z"
      },
      {
        "duration": 85,
        "start_time": "2022-08-03T15:28:06.941Z"
      },
      {
        "duration": 117,
        "start_time": "2022-08-03T15:28:07.213Z"
      },
      {
        "duration": 1746,
        "start_time": "2022-08-03T15:28:11.692Z"
      },
      {
        "duration": 647,
        "start_time": "2022-08-03T15:28:13.440Z"
      },
      {
        "duration": 108,
        "start_time": "2022-08-03T15:35:12.671Z"
      },
      {
        "duration": 41,
        "start_time": "2022-08-03T15:35:31.557Z"
      },
      {
        "duration": 16,
        "start_time": "2022-08-03T15:35:38.433Z"
      },
      {
        "duration": 3,
        "start_time": "2022-08-03T15:38:07.233Z"
      },
      {
        "duration": 1726,
        "start_time": "2022-08-03T15:38:13.283Z"
      },
      {
        "duration": 4,
        "start_time": "2022-08-03T15:38:43.172Z"
      },
      {
        "duration": 1436,
        "start_time": "2022-08-03T15:41:07.918Z"
      },
      {
        "duration": 1065,
        "start_time": "2022-08-03T15:41:12.887Z"
      },
      {
        "duration": 133,
        "start_time": "2022-08-03T15:41:16.831Z"
      },
      {
        "duration": 63,
        "start_time": "2022-08-03T15:41:17.087Z"
      },
      {
        "duration": 32,
        "start_time": "2022-08-03T15:41:22.860Z"
      },
      {
        "duration": 85,
        "start_time": "2022-08-03T15:41:26.250Z"
      },
      {
        "duration": 121,
        "start_time": "2022-08-03T15:41:26.643Z"
      },
      {
        "duration": 1819,
        "start_time": "2022-08-03T15:41:31.258Z"
      },
      {
        "duration": 671,
        "start_time": "2022-08-03T15:41:33.079Z"
      },
      {
        "duration": 49,
        "start_time": "2022-08-03T15:42:02.953Z"
      },
      {
        "duration": 1364,
        "start_time": "2022-08-03T15:42:13.184Z"
      },
      {
        "duration": 1054,
        "start_time": "2022-08-03T15:42:14.550Z"
      },
      {
        "duration": 20,
        "start_time": "2022-08-03T15:42:15.606Z"
      },
      {
        "duration": 147,
        "start_time": "2022-08-03T15:42:15.628Z"
      },
      {
        "duration": 112,
        "start_time": "2022-08-03T15:42:15.776Z"
      },
      {
        "duration": 86,
        "start_time": "2022-08-03T15:42:15.890Z"
      },
      {
        "duration": 174,
        "start_time": "2022-08-03T15:42:15.978Z"
      },
      {
        "duration": 158,
        "start_time": "2022-08-03T15:42:16.153Z"
      },
      {
        "duration": 37,
        "start_time": "2022-08-03T15:42:16.313Z"
      },
      {
        "duration": 87,
        "start_time": "2022-08-03T15:42:16.353Z"
      },
      {
        "duration": 96,
        "start_time": "2022-08-03T15:42:16.442Z"
      },
      {
        "duration": 130,
        "start_time": "2022-08-03T15:42:16.540Z"
      },
      {
        "duration": 7,
        "start_time": "2022-08-03T15:42:16.671Z"
      },
      {
        "duration": 1912,
        "start_time": "2022-08-03T15:42:16.886Z"
      },
      {
        "duration": 730,
        "start_time": "2022-08-03T15:42:18.800Z"
      },
      {
        "duration": 2,
        "start_time": "2022-08-03T15:42:27.433Z"
      },
      {
        "duration": 1239,
        "start_time": "2022-08-03T15:48:53.688Z"
      },
      {
        "duration": 1064,
        "start_time": "2022-08-03T15:48:56.049Z"
      },
      {
        "duration": 16,
        "start_time": "2022-08-03T15:48:58.065Z"
      },
      {
        "duration": 132,
        "start_time": "2022-08-03T15:48:59.256Z"
      },
      {
        "duration": 97,
        "start_time": "2022-08-03T15:48:59.564Z"
      },
      {
        "duration": 74,
        "start_time": "2022-08-03T15:48:59.797Z"
      },
      {
        "duration": 146,
        "start_time": "2022-08-03T15:49:00.050Z"
      },
      {
        "duration": 141,
        "start_time": "2022-08-03T15:49:00.239Z"
      },
      {
        "duration": 32,
        "start_time": "2022-08-03T15:49:00.457Z"
      },
      {
        "duration": 80,
        "start_time": "2022-08-03T15:49:00.645Z"
      },
      {
        "duration": 95,
        "start_time": "2022-08-03T15:49:00.944Z"
      },
      {
        "duration": 118,
        "start_time": "2022-08-03T15:49:01.232Z"
      },
      {
        "duration": 7,
        "start_time": "2022-08-03T15:49:02.277Z"
      },
      {
        "duration": 1787,
        "start_time": "2022-08-03T15:49:03.536Z"
      },
      {
        "duration": 640,
        "start_time": "2022-08-03T15:49:05.325Z"
      },
      {
        "duration": 3,
        "start_time": "2022-08-03T15:49:09.443Z"
      },
      {
        "duration": 162,
        "start_time": "2022-08-03T15:49:10.598Z"
      },
      {
        "duration": 2,
        "start_time": "2022-08-03T15:49:36.896Z"
      },
      {
        "duration": 1268,
        "start_time": "2022-08-03T15:49:59.160Z"
      },
      {
        "duration": 1081,
        "start_time": "2022-08-03T15:50:00.430Z"
      },
      {
        "duration": 15,
        "start_time": "2022-08-03T15:50:01.513Z"
      },
      {
        "duration": 156,
        "start_time": "2022-08-03T15:50:01.530Z"
      },
      {
        "duration": 101,
        "start_time": "2022-08-03T15:50:01.689Z"
      },
      {
        "duration": 84,
        "start_time": "2022-08-03T15:50:01.792Z"
      },
      {
        "duration": 155,
        "start_time": "2022-08-03T15:50:01.877Z"
      },
      {
        "duration": 147,
        "start_time": "2022-08-03T15:50:02.034Z"
      },
      {
        "duration": 31,
        "start_time": "2022-08-03T15:50:02.182Z"
      },
      {
        "duration": 89,
        "start_time": "2022-08-03T15:50:02.215Z"
      },
      {
        "duration": 93,
        "start_time": "2022-08-03T15:50:02.305Z"
      },
      {
        "duration": 120,
        "start_time": "2022-08-03T15:50:02.400Z"
      },
      {
        "duration": 7,
        "start_time": "2022-08-03T15:50:02.538Z"
      },
      {
        "duration": 1783,
        "start_time": "2022-08-03T15:50:03.682Z"
      },
      {
        "duration": 639,
        "start_time": "2022-08-03T15:50:05.466Z"
      },
      {
        "duration": 2,
        "start_time": "2022-08-03T15:50:06.153Z"
      },
      {
        "duration": 46,
        "start_time": "2022-08-03T15:50:22.235Z"
      },
      {
        "duration": 1268,
        "start_time": "2022-08-03T15:50:31.740Z"
      },
      {
        "duration": 1064,
        "start_time": "2022-08-03T15:50:33.536Z"
      },
      {
        "duration": 120,
        "start_time": "2022-08-03T15:50:36.728Z"
      },
      {
        "duration": 63,
        "start_time": "2022-08-03T15:50:39.436Z"
      },
      {
        "duration": 31,
        "start_time": "2022-08-03T15:50:42.636Z"
      },
      {
        "duration": 85,
        "start_time": "2022-08-03T15:50:45.259Z"
      },
      {
        "duration": 126,
        "start_time": "2022-08-03T15:50:45.724Z"
      },
      {
        "duration": 1735,
        "start_time": "2022-08-03T15:50:49.136Z"
      },
      {
        "duration": 617,
        "start_time": "2022-08-03T15:50:50.872Z"
      },
      {
        "duration": 3,
        "start_time": "2022-08-03T15:50:54.032Z"
      },
      {
        "duration": 46,
        "start_time": "2022-08-03T16:04:57.631Z"
      },
      {
        "duration": 1379,
        "start_time": "2022-08-03T16:05:05.711Z"
      },
      {
        "duration": 1045,
        "start_time": "2022-08-03T16:05:07.092Z"
      },
      {
        "duration": 113,
        "start_time": "2022-08-03T16:05:09.407Z"
      },
      {
        "duration": 63,
        "start_time": "2022-08-03T16:05:10.457Z"
      },
      {
        "duration": 32,
        "start_time": "2022-08-03T16:05:12.714Z"
      },
      {
        "duration": 87,
        "start_time": "2022-08-03T16:05:14.441Z"
      },
      {
        "duration": 116,
        "start_time": "2022-08-03T16:05:15.206Z"
      },
      {
        "duration": 236,
        "start_time": "2022-08-03T16:05:18.228Z"
      },
      {
        "duration": 620,
        "start_time": "2022-08-03T16:05:21.011Z"
      },
      {
        "duration": 3,
        "start_time": "2022-08-03T16:05:25.899Z"
      },
      {
        "duration": 160,
        "start_time": "2022-08-03T16:05:26.926Z"
      },
      {
        "duration": 153,
        "start_time": "2022-08-03T16:07:45.511Z"
      },
      {
        "duration": 1704,
        "start_time": "2022-08-03T16:08:03.909Z"
      },
      {
        "duration": 646,
        "start_time": "2022-08-03T16:08:05.614Z"
      },
      {
        "duration": 1588,
        "start_time": "2022-08-03T17:54:26.051Z"
      },
      {
        "duration": 1123,
        "start_time": "2022-08-03T17:54:27.642Z"
      },
      {
        "duration": 133,
        "start_time": "2022-08-03T17:54:29.990Z"
      },
      {
        "duration": 66,
        "start_time": "2022-08-03T17:54:30.726Z"
      },
      {
        "duration": 32,
        "start_time": "2022-08-03T17:54:33.948Z"
      },
      {
        "duration": 85,
        "start_time": "2022-08-03T17:54:37.185Z"
      },
      {
        "duration": 138,
        "start_time": "2022-08-03T17:54:37.526Z"
      },
      {
        "duration": 5,
        "start_time": "2022-08-03T17:55:10.348Z"
      },
      {
        "duration": 38,
        "start_time": "2022-08-03T17:57:20.264Z"
      },
      {
        "duration": 20,
        "start_time": "2022-08-03T17:59:04.249Z"
      },
      {
        "duration": 27,
        "start_time": "2022-08-03T18:00:00.865Z"
      },
      {
        "duration": 3447,
        "start_time": "2022-08-03T18:10:42.162Z"
      },
      {
        "duration": 16,
        "start_time": "2022-08-03T18:10:57.047Z"
      },
      {
        "duration": 203,
        "start_time": "2022-08-03T18:11:58.857Z"
      },
      {
        "duration": 730,
        "start_time": "2022-08-03T18:12:01.169Z"
      },
      {
        "duration": 4,
        "start_time": "2022-08-03T18:12:07.151Z"
      },
      {
        "duration": 2635,
        "start_time": "2022-08-03T18:12:38.262Z"
      },
      {
        "duration": 4,
        "start_time": "2022-08-03T18:12:49.742Z"
      },
      {
        "duration": 1223,
        "start_time": "2022-08-03T18:12:50.541Z"
      },
      {
        "duration": 131,
        "start_time": "2022-08-03T18:12:52.663Z"
      },
      {
        "duration": 64,
        "start_time": "2022-08-03T18:12:53.293Z"
      },
      {
        "duration": 35,
        "start_time": "2022-08-03T18:12:55.359Z"
      },
      {
        "duration": 85,
        "start_time": "2022-08-03T18:12:57.376Z"
      },
      {
        "duration": 124,
        "start_time": "2022-08-03T18:12:57.923Z"
      },
      {
        "duration": 3368,
        "start_time": "2022-08-03T18:13:00.026Z"
      },
      {
        "duration": 209,
        "start_time": "2022-08-03T18:13:03.396Z"
      },
      {
        "duration": 742,
        "start_time": "2022-08-03T18:13:03.607Z"
      },
      {
        "duration": 1715,
        "start_time": "2022-08-03T18:30:09.024Z"
      },
      {
        "duration": 1284,
        "start_time": "2022-08-03T18:30:10.742Z"
      },
      {
        "duration": 19,
        "start_time": "2022-08-03T18:30:12.027Z"
      },
      {
        "duration": 167,
        "start_time": "2022-08-03T18:30:12.048Z"
      },
      {
        "duration": 111,
        "start_time": "2022-08-03T18:30:12.217Z"
      },
      {
        "duration": 116,
        "start_time": "2022-08-03T18:30:12.330Z"
      },
      {
        "duration": 162,
        "start_time": "2022-08-03T18:30:12.448Z"
      },
      {
        "duration": 156,
        "start_time": "2022-08-03T18:30:12.612Z"
      },
      {
        "duration": 41,
        "start_time": "2022-08-03T18:30:12.769Z"
      },
      {
        "duration": 103,
        "start_time": "2022-08-03T18:30:12.812Z"
      },
      {
        "duration": 114,
        "start_time": "2022-08-03T18:30:12.917Z"
      },
      {
        "duration": 135,
        "start_time": "2022-08-03T18:30:13.033Z"
      },
      {
        "duration": 6,
        "start_time": "2022-08-03T18:30:13.170Z"
      },
      {
        "duration": 3845,
        "start_time": "2022-08-03T18:30:13.189Z"
      },
      {
        "duration": 236,
        "start_time": "2022-08-03T18:30:17.036Z"
      },
      {
        "duration": 831,
        "start_time": "2022-08-03T18:30:17.274Z"
      },
      {
        "duration": 4,
        "start_time": "2022-08-03T18:30:18.262Z"
      },
      {
        "duration": 52,
        "start_time": "2022-08-03T18:30:32.360Z"
      },
      {
        "duration": 1570,
        "start_time": "2022-08-05T15:30:38.503Z"
      },
      {
        "duration": 1104,
        "start_time": "2022-08-05T15:30:40.510Z"
      },
      {
        "duration": 119,
        "start_time": "2022-08-05T15:30:43.813Z"
      },
      {
        "duration": 64,
        "start_time": "2022-08-05T15:30:46.276Z"
      },
      {
        "duration": 35,
        "start_time": "2022-08-05T15:30:48.996Z"
      },
      {
        "duration": 85,
        "start_time": "2022-08-05T15:30:51.235Z"
      },
      {
        "duration": 119,
        "start_time": "2022-08-05T15:30:53.207Z"
      },
      {
        "duration": 165,
        "start_time": "2022-08-05T15:31:25.550Z"
      },
      {
        "duration": 415,
        "start_time": "2022-08-05T15:36:29.798Z"
      },
      {
        "duration": 149,
        "start_time": "2022-08-05T15:37:57.767Z"
      },
      {
        "duration": 135,
        "start_time": "2022-08-05T15:38:02.602Z"
      },
      {
        "duration": 135,
        "start_time": "2022-08-05T15:38:14.529Z"
      },
      {
        "duration": 216,
        "start_time": "2022-08-05T15:38:22.370Z"
      },
      {
        "duration": 357,
        "start_time": "2022-08-05T15:41:55.164Z"
      },
      {
        "duration": 10,
        "start_time": "2022-08-05T15:46:37.955Z"
      },
      {
        "duration": 49,
        "start_time": "2022-08-05T16:09:35.090Z"
      },
      {
        "duration": 1566,
        "start_time": "2022-08-09T12:16:21.048Z"
      },
      {
        "duration": 1072,
        "start_time": "2022-08-09T12:16:23.397Z"
      },
      {
        "duration": 18,
        "start_time": "2022-08-09T12:16:24.471Z"
      },
      {
        "duration": 109,
        "start_time": "2022-08-09T12:16:25.241Z"
      },
      {
        "duration": 110,
        "start_time": "2022-08-09T12:16:26.290Z"
      },
      {
        "duration": 83,
        "start_time": "2022-08-09T12:16:28.822Z"
      },
      {
        "duration": 38,
        "start_time": "2022-08-09T12:16:33.354Z"
      },
      {
        "duration": 66,
        "start_time": "2022-08-09T12:16:35.611Z"
      },
      {
        "duration": 70,
        "start_time": "2022-08-09T12:16:44.145Z"
      },
      {
        "duration": 107,
        "start_time": "2022-08-09T12:16:46.814Z"
      },
      {
        "duration": 10,
        "start_time": "2022-08-09T12:16:55.082Z"
      },
      {
        "duration": 48,
        "start_time": "2022-08-09T12:16:59.084Z"
      },
      {
        "duration": 10,
        "start_time": "2022-08-09T12:29:50.523Z"
      },
      {
        "duration": 2612,
        "start_time": "2022-08-09T12:30:02.232Z"
      },
      {
        "duration": 820,
        "start_time": "2022-08-09T12:31:57.967Z"
      },
      {
        "duration": 3,
        "start_time": "2022-08-09T12:35:09.701Z"
      },
      {
        "duration": 5,
        "start_time": "2022-08-09T12:36:13.349Z"
      },
      {
        "duration": 919,
        "start_time": "2022-08-09T12:37:15.336Z"
      },
      {
        "duration": 96,
        "start_time": "2022-08-09T12:39:47.980Z"
      },
      {
        "duration": 4,
        "start_time": "2022-08-09T12:40:37.072Z"
      },
      {
        "duration": 12,
        "start_time": "2022-08-09T12:40:43.642Z"
      },
      {
        "duration": 695,
        "start_time": "2022-08-09T12:40:50.816Z"
      },
      {
        "duration": 836,
        "start_time": "2022-08-09T12:41:26.873Z"
      },
      {
        "duration": 862,
        "start_time": "2022-08-09T12:41:31.018Z"
      },
      {
        "duration": 829,
        "start_time": "2022-08-09T12:41:56.749Z"
      },
      {
        "duration": 1532,
        "start_time": "2022-08-09T12:42:17.599Z"
      },
      {
        "duration": 1065,
        "start_time": "2022-08-09T12:43:59.700Z"
      },
      {
        "duration": 1066,
        "start_time": "2022-08-09T12:45:31.078Z"
      },
      {
        "duration": 998,
        "start_time": "2022-08-09T12:47:21.078Z"
      },
      {
        "duration": 960,
        "start_time": "2022-08-09T12:49:37.762Z"
      },
      {
        "duration": 945,
        "start_time": "2022-08-09T12:53:23.398Z"
      },
      {
        "duration": 1424,
        "start_time": "2022-08-09T12:56:47.347Z"
      },
      {
        "duration": 1207,
        "start_time": "2022-08-09T12:58:21.142Z"
      },
      {
        "duration": 9,
        "start_time": "2022-08-09T12:59:38.257Z"
      },
      {
        "duration": 2,
        "start_time": "2022-08-09T13:00:38.873Z"
      },
      {
        "duration": 2296,
        "start_time": "2022-08-09T13:00:47.013Z"
      },
      {
        "duration": 1520,
        "start_time": "2022-08-09T13:01:37.991Z"
      },
      {
        "duration": 1531,
        "start_time": "2022-08-09T13:02:55.161Z"
      },
      {
        "duration": 581,
        "start_time": "2022-08-09T13:04:09.228Z"
      },
      {
        "duration": 11,
        "start_time": "2022-08-09T13:05:48.061Z"
      },
      {
        "duration": 3,
        "start_time": "2022-08-09T13:05:56.656Z"
      },
      {
        "duration": 15,
        "start_time": "2022-08-09T13:06:04.845Z"
      },
      {
        "duration": 4896,
        "start_time": "2022-08-09T13:06:14.963Z"
      },
      {
        "duration": 5013,
        "start_time": "2022-08-09T13:06:38.391Z"
      },
      {
        "duration": 1574,
        "start_time": "2022-08-09T15:36:04.664Z"
      },
      {
        "duration": 1064,
        "start_time": "2022-08-09T15:36:32.483Z"
      },
      {
        "duration": 1616,
        "start_time": "2022-08-09T15:37:17.927Z"
      },
      {
        "duration": 912,
        "start_time": "2022-08-09T15:37:32.801Z"
      },
      {
        "duration": 20,
        "start_time": "2022-08-09T15:37:49.529Z"
      },
      {
        "duration": 15,
        "start_time": "2022-08-09T15:37:59.946Z"
      },
      {
        "duration": 25,
        "start_time": "2022-08-09T15:38:08.579Z"
      },
      {
        "duration": 1351,
        "start_time": "2022-08-09T15:38:48.889Z"
      },
      {
        "duration": 1186,
        "start_time": "2022-08-09T15:39:06.704Z"
      },
      {
        "duration": 45,
        "start_time": "2022-08-09T15:39:20.764Z"
      },
      {
        "duration": 4,
        "start_time": "2022-08-09T15:39:26.857Z"
      },
      {
        "duration": 1360,
        "start_time": "2022-08-09T15:42:43.263Z"
      },
      {
        "duration": 22,
        "start_time": "2022-08-09T15:42:48.879Z"
      },
      {
        "duration": 51,
        "start_time": "2022-08-09T15:43:18.570Z"
      },
      {
        "duration": 21,
        "start_time": "2022-08-09T15:43:23.270Z"
      },
      {
        "duration": 4,
        "start_time": "2022-08-09T15:44:34.822Z"
      },
      {
        "duration": 52,
        "start_time": "2022-08-09T15:46:37.297Z"
      },
      {
        "duration": 20,
        "start_time": "2022-08-09T15:47:05.653Z"
      },
      {
        "duration": 796,
        "start_time": "2022-08-09T15:47:21.242Z"
      },
      {
        "duration": 104,
        "start_time": "2022-08-09T15:47:23.799Z"
      },
      {
        "duration": 64,
        "start_time": "2022-08-09T15:47:25.149Z"
      },
      {
        "duration": 139,
        "start_time": "2022-08-09T15:47:25.450Z"
      },
      {
        "duration": 131,
        "start_time": "2022-08-09T15:47:25.601Z"
      },
      {
        "duration": 32,
        "start_time": "2022-08-09T15:47:30.280Z"
      },
      {
        "duration": 63,
        "start_time": "2022-08-09T15:47:30.437Z"
      },
      {
        "duration": 70,
        "start_time": "2022-08-09T15:47:31.182Z"
      },
      {
        "duration": 134,
        "start_time": "2022-08-09T15:47:31.461Z"
      },
      {
        "duration": 9,
        "start_time": "2022-08-09T15:47:31.604Z"
      },
      {
        "duration": 416,
        "start_time": "2022-08-09T15:47:33.340Z"
      },
      {
        "duration": 11,
        "start_time": "2022-08-09T15:47:33.800Z"
      },
      {
        "duration": 43,
        "start_time": "2022-08-09T15:47:35.707Z"
      },
      {
        "duration": 2632,
        "start_time": "2022-08-09T15:47:39.121Z"
      },
      {
        "duration": 23,
        "start_time": "2022-08-09T15:47:47.624Z"
      },
      {
        "duration": 1441,
        "start_time": "2022-08-09T15:47:51.432Z"
      },
      {
        "duration": 22,
        "start_time": "2022-08-09T15:48:00.284Z"
      },
      {
        "duration": 23,
        "start_time": "2022-08-09T15:48:11.344Z"
      },
      {
        "duration": 3,
        "start_time": "2022-08-09T15:48:37.890Z"
      },
      {
        "duration": 664,
        "start_time": "2022-08-09T15:48:38.168Z"
      },
      {
        "duration": 12,
        "start_time": "2022-08-09T15:48:38.834Z"
      },
      {
        "duration": 117,
        "start_time": "2022-08-09T15:48:38.847Z"
      },
      {
        "duration": 107,
        "start_time": "2022-08-09T15:48:38.966Z"
      },
      {
        "duration": 68,
        "start_time": "2022-08-09T15:48:39.075Z"
      },
      {
        "duration": 141,
        "start_time": "2022-08-09T15:48:39.183Z"
      },
      {
        "duration": 134,
        "start_time": "2022-08-09T15:48:39.327Z"
      },
      {
        "duration": 41,
        "start_time": "2022-08-09T15:48:39.464Z"
      },
      {
        "duration": 61,
        "start_time": "2022-08-09T15:48:39.578Z"
      },
      {
        "duration": 70,
        "start_time": "2022-08-09T15:48:39.810Z"
      },
      {
        "duration": 104,
        "start_time": "2022-08-09T15:48:40.091Z"
      },
      {
        "duration": 8,
        "start_time": "2022-08-09T15:48:40.217Z"
      },
      {
        "duration": 320,
        "start_time": "2022-08-09T15:48:40.604Z"
      },
      {
        "duration": 10,
        "start_time": "2022-08-09T15:48:40.926Z"
      },
      {
        "duration": 39,
        "start_time": "2022-08-09T15:48:43.417Z"
      },
      {
        "duration": 2564,
        "start_time": "2022-08-09T15:48:44.239Z"
      },
      {
        "duration": 17,
        "start_time": "2022-08-09T15:48:48.947Z"
      },
      {
        "duration": 1974,
        "start_time": "2022-08-09T15:49:41.988Z"
      },
      {
        "duration": 19,
        "start_time": "2022-08-09T15:50:48.087Z"
      },
      {
        "duration": 1861,
        "start_time": "2022-08-09T15:50:51.397Z"
      },
      {
        "duration": 19,
        "start_time": "2022-08-09T15:50:53.260Z"
      },
      {
        "duration": 1544,
        "start_time": "2022-08-09T15:51:03.849Z"
      },
      {
        "duration": 217,
        "start_time": "2022-08-09T15:52:40.280Z"
      },
      {
        "duration": 1500,
        "start_time": "2022-08-09T15:53:07.077Z"
      },
      {
        "duration": 228,
        "start_time": "2022-08-09T15:53:08.579Z"
      },
      {
        "duration": 1105,
        "start_time": "2022-08-09T15:54:37.338Z"
      },
      {
        "duration": 2662,
        "start_time": "2022-08-09T15:55:01.142Z"
      },
      {
        "duration": 5113,
        "start_time": "2022-08-09T15:55:22.790Z"
      },
      {
        "duration": 2340,
        "start_time": "2022-08-09T21:39:30.574Z"
      },
      {
        "duration": 3,
        "start_time": "2022-08-09T21:40:01.765Z"
      },
      {
        "duration": 16315,
        "start_time": "2022-08-09T21:40:07.996Z"
      },
      {
        "duration": 3,
        "start_time": "2022-08-09T21:43:54.561Z"
      },
      {
        "duration": 93,
        "start_time": "2022-08-09T21:46:42.820Z"
      },
      {
        "duration": 43,
        "start_time": "2022-08-09T21:47:38.959Z"
      },
      {
        "duration": 50,
        "start_time": "2022-08-09T21:47:44.178Z"
      },
      {
        "duration": 51,
        "start_time": "2022-08-09T21:47:47.900Z"
      },
      {
        "duration": 50,
        "start_time": "2022-08-09T21:48:48.421Z"
      },
      {
        "duration": 49,
        "start_time": "2022-08-09T21:48:57.793Z"
      },
      {
        "duration": 3423,
        "start_time": "2022-08-09T21:49:21.794Z"
      },
      {
        "duration": 5,
        "start_time": "2022-08-09T21:49:35.691Z"
      },
      {
        "duration": 2848,
        "start_time": "2022-08-09T21:50:20.263Z"
      },
      {
        "duration": 4,
        "start_time": "2022-08-09T21:50:27.032Z"
      },
      {
        "duration": 46,
        "start_time": "2022-08-09T21:50:44.467Z"
      },
      {
        "duration": 4499,
        "start_time": "2022-08-09T21:50:54.214Z"
      },
      {
        "duration": 8174,
        "start_time": "2022-08-09T21:51:18.636Z"
      },
      {
        "duration": 12484,
        "start_time": "2022-08-09T21:51:43.234Z"
      },
      {
        "duration": 5756,
        "start_time": "2022-08-09T21:52:35.344Z"
      },
      {
        "duration": 5725,
        "start_time": "2022-08-09T21:53:33.289Z"
      },
      {
        "duration": 5527,
        "start_time": "2022-08-09T21:54:03.287Z"
      },
      {
        "duration": 6103,
        "start_time": "2022-08-09T21:54:10.309Z"
      },
      {
        "duration": 765525,
        "start_time": "2022-08-09T21:55:53.132Z"
      },
      {
        "duration": 12451,
        "start_time": "2022-08-09T22:08:49.229Z"
      },
      {
        "duration": 1335,
        "start_time": "2022-08-09T22:09:15.755Z"
      },
      {
        "duration": 1053,
        "start_time": "2022-08-09T22:09:17.452Z"
      },
      {
        "duration": 15,
        "start_time": "2022-08-09T22:09:18.507Z"
      },
      {
        "duration": 126,
        "start_time": "2022-08-09T22:09:18.524Z"
      },
      {
        "duration": 117,
        "start_time": "2022-08-09T22:09:18.651Z"
      },
      {
        "duration": 88,
        "start_time": "2022-08-09T22:09:18.770Z"
      },
      {
        "duration": 153,
        "start_time": "2022-08-09T22:09:18.860Z"
      },
      {
        "duration": 142,
        "start_time": "2022-08-09T22:09:19.014Z"
      },
      {
        "duration": 31,
        "start_time": "2022-08-09T22:09:19.157Z"
      },
      {
        "duration": 61,
        "start_time": "2022-08-09T22:09:19.199Z"
      },
      {
        "duration": 81,
        "start_time": "2022-08-09T22:09:19.261Z"
      },
      {
        "duration": 112,
        "start_time": "2022-08-09T22:09:19.344Z"
      },
      {
        "duration": 6,
        "start_time": "2022-08-09T22:09:19.457Z"
      },
      {
        "duration": 395,
        "start_time": "2022-08-09T22:09:19.465Z"
      },
      {
        "duration": 11,
        "start_time": "2022-08-09T22:09:19.862Z"
      },
      {
        "duration": 66,
        "start_time": "2022-08-09T22:09:19.874Z"
      },
      {
        "duration": 2733,
        "start_time": "2022-08-09T22:09:19.941Z"
      },
      {
        "duration": 97,
        "start_time": "2022-08-09T22:09:22.675Z"
      },
      {
        "duration": 1855,
        "start_time": "2022-08-09T22:09:22.774Z"
      },
      {
        "duration": 18,
        "start_time": "2022-08-09T22:09:24.631Z"
      },
      {
        "duration": 1826,
        "start_time": "2022-08-09T22:09:24.651Z"
      },
      {
        "duration": 1146,
        "start_time": "2022-08-09T22:09:26.479Z"
      },
      {
        "duration": 0,
        "start_time": "2022-08-09T22:09:27.628Z"
      },
      {
        "duration": 0,
        "start_time": "2022-08-09T22:09:27.629Z"
      },
      {
        "duration": 0,
        "start_time": "2022-08-09T22:09:27.631Z"
      },
      {
        "duration": 5585,
        "start_time": "2022-08-09T22:09:36.931Z"
      },
      {
        "duration": 1371424,
        "start_time": "2022-08-09T22:09:51.544Z"
      },
      {
        "duration": 1656,
        "start_time": "2022-08-10T08:19:57.931Z"
      },
      {
        "duration": 2876,
        "start_time": "2022-08-10T08:20:04.874Z"
      },
      {
        "duration": 117,
        "start_time": "2022-08-10T08:20:08.789Z"
      },
      {
        "duration": 64,
        "start_time": "2022-08-10T08:20:11.343Z"
      },
      {
        "duration": 33,
        "start_time": "2022-08-10T08:20:14.861Z"
      },
      {
        "duration": 80,
        "start_time": "2022-08-10T08:20:17.130Z"
      },
      {
        "duration": 129,
        "start_time": "2022-08-10T08:20:19.642Z"
      },
      {
        "duration": 11,
        "start_time": "2022-08-10T08:20:23.988Z"
      },
      {
        "duration": 47,
        "start_time": "2022-08-10T08:20:27.020Z"
      },
      {
        "duration": 1949,
        "start_time": "2022-08-10T08:20:54.238Z"
      },
      {
        "duration": 1952,
        "start_time": "2022-08-10T08:21:06.461Z"
      },
      {
        "duration": 1272,
        "start_time": "2022-08-10T08:21:13.538Z"
      },
      {
        "duration": 29428,
        "start_time": "2022-08-10T08:21:38.137Z"
      },
      {
        "duration": 30636,
        "start_time": "2022-08-10T08:24:01.862Z"
      },
      {
        "duration": 31511,
        "start_time": "2022-08-10T08:25:43.548Z"
      },
      {
        "duration": 97813,
        "start_time": "2022-08-10T08:26:25.793Z"
      },
      {
        "duration": 89602,
        "start_time": "2022-08-10T08:28:16.835Z"
      },
      {
        "duration": 70359,
        "start_time": "2022-08-10T08:31:01.135Z"
      },
      {
        "duration": 14804,
        "start_time": "2022-08-10T08:32:59.582Z"
      },
      {
        "duration": 17183,
        "start_time": "2022-08-10T08:34:18.200Z"
      },
      {
        "duration": 18,
        "start_time": "2022-08-10T08:34:46.556Z"
      },
      {
        "duration": 13,
        "start_time": "2022-08-10T08:35:00.418Z"
      },
      {
        "duration": 10,
        "start_time": "2022-08-10T08:35:12.316Z"
      },
      {
        "duration": 9,
        "start_time": "2022-08-10T08:35:53.459Z"
      },
      {
        "duration": 617,
        "start_time": "2022-08-10T08:35:58.361Z"
      },
      {
        "duration": 12,
        "start_time": "2022-08-10T08:36:06.687Z"
      },
      {
        "duration": 24,
        "start_time": "2022-08-10T08:36:46.390Z"
      },
      {
        "duration": 42,
        "start_time": "2022-08-10T08:37:40.830Z"
      },
      {
        "duration": 22,
        "start_time": "2022-08-10T08:37:48.415Z"
      },
      {
        "duration": 633,
        "start_time": "2022-08-10T08:38:03.046Z"
      },
      {
        "duration": 22,
        "start_time": "2022-08-10T08:38:06.824Z"
      },
      {
        "duration": 1679,
        "start_time": "2022-08-10T08:38:28.877Z"
      },
      {
        "duration": 23,
        "start_time": "2022-08-10T08:38:32.445Z"
      },
      {
        "duration": 28,
        "start_time": "2022-08-10T08:38:43.961Z"
      },
      {
        "duration": 3,
        "start_time": "2022-08-10T08:39:30.138Z"
      },
      {
        "duration": 728,
        "start_time": "2022-08-10T08:39:34.219Z"
      },
      {
        "duration": 78,
        "start_time": "2022-08-10T08:39:39.058Z"
      },
      {
        "duration": 63,
        "start_time": "2022-08-10T08:39:41.419Z"
      },
      {
        "duration": 32,
        "start_time": "2022-08-10T08:39:46.128Z"
      },
      {
        "duration": 78,
        "start_time": "2022-08-10T08:39:50.608Z"
      },
      {
        "duration": 119,
        "start_time": "2022-08-10T08:39:53.404Z"
      },
      {
        "duration": 11,
        "start_time": "2022-08-10T08:39:59.429Z"
      },
      {
        "duration": 35,
        "start_time": "2022-08-10T08:40:02.261Z"
      },
      {
        "duration": 1935,
        "start_time": "2022-08-10T08:40:10.182Z"
      },
      {
        "duration": 1736,
        "start_time": "2022-08-10T08:40:22.615Z"
      },
      {
        "duration": 27,
        "start_time": "2022-08-10T08:40:38.993Z"
      },
      {
        "duration": 20,
        "start_time": "2022-08-10T08:40:54.721Z"
      },
      {
        "duration": 21,
        "start_time": "2022-08-10T08:41:18.190Z"
      },
      {
        "duration": 21,
        "start_time": "2022-08-10T09:04:04.039Z"
      },
      {
        "duration": 82634,
        "start_time": "2022-08-10T09:04:27.251Z"
      },
      {
        "duration": 64531,
        "start_time": "2022-08-10T09:05:49.887Z"
      },
      {
        "duration": 4,
        "start_time": "2022-08-10T09:09:28.764Z"
      },
      {
        "duration": 4,
        "start_time": "2022-08-10T09:09:46.903Z"
      },
      {
        "duration": 4,
        "start_time": "2022-08-10T09:10:59.710Z"
      },
      {
        "duration": 4,
        "start_time": "2022-08-10T09:11:34.854Z"
      },
      {
        "duration": 24,
        "start_time": "2022-08-10T09:11:53.143Z"
      },
      {
        "duration": 1631,
        "start_time": "2022-08-10T09:13:31.696Z"
      },
      {
        "duration": 1648,
        "start_time": "2022-08-10T09:13:40.100Z"
      },
      {
        "duration": 20,
        "start_time": "2022-08-10T09:13:43.015Z"
      },
      {
        "duration": 1235,
        "start_time": "2022-08-10T09:13:55.992Z"
      },
      {
        "duration": 5019,
        "start_time": "2022-08-10T09:14:12.453Z"
      },
      {
        "duration": 72819,
        "start_time": "2022-08-10T09:14:23.540Z"
      },
      {
        "duration": 7958,
        "start_time": "2022-08-10T09:15:36.361Z"
      },
      {
        "duration": 8996,
        "start_time": "2022-08-10T09:16:08.603Z"
      },
      {
        "duration": 3,
        "start_time": "2022-08-10T09:18:11.701Z"
      },
      {
        "duration": 95,
        "start_time": "2022-08-10T09:22:19.929Z"
      },
      {
        "duration": 151,
        "start_time": "2022-08-10T09:22:26.318Z"
      },
      {
        "duration": 342,
        "start_time": "2022-08-10T09:22:48.505Z"
      },
      {
        "duration": 563,
        "start_time": "2022-08-10T09:23:12.706Z"
      },
      {
        "duration": 564,
        "start_time": "2022-08-10T09:23:33.766Z"
      },
      {
        "duration": 1493,
        "start_time": "2022-08-10T09:24:43.991Z"
      },
      {
        "duration": 2741,
        "start_time": "2022-08-10T09:24:47.269Z"
      },
      {
        "duration": 116,
        "start_time": "2022-08-10T09:24:50.012Z"
      },
      {
        "duration": 65,
        "start_time": "2022-08-10T09:24:52.714Z"
      },
      {
        "duration": 30,
        "start_time": "2022-08-10T09:24:57.320Z"
      },
      {
        "duration": 81,
        "start_time": "2022-08-10T09:24:59.731Z"
      },
      {
        "duration": 119,
        "start_time": "2022-08-10T09:25:02.720Z"
      },
      {
        "duration": 407,
        "start_time": "2022-08-10T09:25:05.662Z"
      },
      {
        "duration": 46,
        "start_time": "2022-08-10T09:25:09.695Z"
      },
      {
        "duration": 1775,
        "start_time": "2022-08-10T09:25:11.594Z"
      },
      {
        "duration": 1826,
        "start_time": "2022-08-10T09:25:13.371Z"
      },
      {
        "duration": 1209,
        "start_time": "2022-08-10T09:25:15.199Z"
      },
      {
        "duration": 14744,
        "start_time": "2022-08-10T09:25:19.833Z"
      },
      {
        "duration": 6319,
        "start_time": "2022-08-10T09:27:46.050Z"
      },
      {
        "duration": 2823,
        "start_time": "2022-08-10T09:29:10.833Z"
      },
      {
        "duration": 3478,
        "start_time": "2022-08-10T09:29:41.602Z"
      },
      {
        "duration": 2541,
        "start_time": "2022-08-10T09:30:31.241Z"
      },
      {
        "duration": 2634,
        "start_time": "2022-08-10T09:30:35.937Z"
      },
      {
        "duration": 2558,
        "start_time": "2022-08-10T09:33:16.817Z"
      },
      {
        "duration": 4133,
        "start_time": "2022-08-10T09:33:32.361Z"
      },
      {
        "duration": 5543,
        "start_time": "2022-08-10T09:33:58.925Z"
      },
      {
        "duration": 4508,
        "start_time": "2022-08-10T09:34:04.470Z"
      },
      {
        "duration": 2788,
        "start_time": "2022-08-10T09:36:38.299Z"
      },
      {
        "duration": 2978,
        "start_time": "2022-08-10T09:36:51.105Z"
      },
      {
        "duration": 3104,
        "start_time": "2022-08-10T09:38:57.076Z"
      },
      {
        "duration": 1684,
        "start_time": "2022-08-10T09:39:52.711Z"
      },
      {
        "duration": 5655,
        "start_time": "2022-08-10T09:39:58.529Z"
      },
      {
        "duration": 2989,
        "start_time": "2022-08-10T09:41:17.091Z"
      },
      {
        "duration": 2044,
        "start_time": "2022-08-10T09:42:08.732Z"
      },
      {
        "duration": 2982,
        "start_time": "2022-08-10T09:42:24.493Z"
      },
      {
        "duration": 2301,
        "start_time": "2022-08-10T09:42:27.477Z"
      },
      {
        "duration": 9138,
        "start_time": "2022-08-10T09:44:16.476Z"
      },
      {
        "duration": 5377,
        "start_time": "2022-08-10T09:45:28.329Z"
      },
      {
        "duration": 3604,
        "start_time": "2022-08-10T09:46:48.917Z"
      },
      {
        "duration": 5463,
        "start_time": "2022-08-10T09:46:55.963Z"
      },
      {
        "duration": 3629,
        "start_time": "2022-08-10T09:47:01.428Z"
      },
      {
        "duration": 5369,
        "start_time": "2022-08-10T09:52:06.416Z"
      },
      {
        "duration": 3586,
        "start_time": "2022-08-10T09:52:11.788Z"
      }
    ],
    "kernelspec": {
      "display_name": "Python 3 (ipykernel)",
      "language": "python",
      "name": "python3"
    },
    "language_info": {
      "codemirror_mode": {
        "name": "ipython",
        "version": 3
      },
      "file_extension": ".py",
      "mimetype": "text/x-python",
      "name": "python",
      "nbconvert_exporter": "python",
      "pygments_lexer": "ipython3",
      "version": "3.9.5"
    },
    "toc": {
      "base_numbering": 1,
      "nav_menu": {},
      "number_sections": true,
      "sideBar": true,
      "skip_h1_title": true,
      "title_cell": "Table of Contents",
      "title_sidebar": "Contents",
      "toc_cell": false,
      "toc_position": {},
      "toc_section_display": true,
      "toc_window_display": false
    },
    "colab": {
      "provenance": [],
      "collapsed_sections": []
    }
  },
  "nbformat": 4,
  "nbformat_minor": 0
}