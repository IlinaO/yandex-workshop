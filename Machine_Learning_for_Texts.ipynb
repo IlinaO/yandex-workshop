{
  "cells": [
    {
      "cell_type": "markdown",
      "metadata": {
        "id": "2iEJug13Osy6"
      },
      "source": [
        "# Проект для «Викишоп»"
      ]
    },
    {
      "cell_type": "markdown",
      "metadata": {
        "id": "u2cU8B-7Osy6"
      },
      "source": [
        "Интернет-магазин «Викишоп» запускает новый сервис. Теперь пользователи могут редактировать и дополнять описания товаров, как в вики-сообществах. То есть клиенты предлагают свои правки и комментируют изменения других. Магазину нужен инструмент, который будет искать токсичные комментарии и отправлять их на модерацию. \n",
        "\n",
        "Обучите модель классифицировать комментарии на позитивные и негативные. В вашем распоряжении набор данных с разметкой о токсичности правок.\n",
        "\n",
        "Постройте модель со значением метрики качества *F1* не меньше 0.75. \n",
        "\n",
        "\n",
        "**Описание данных**\n",
        " Столбец *text* в нём содержит текст комментария, а *toxic* — целевой признак."
      ]
    },
    {
      "cell_type": "markdown",
      "metadata": {
        "id": "FCOGDk47Osy7"
      },
      "source": [
        "## Подготовка"
      ]
    },
    {
      "cell_type": "code",
      "execution_count": null,
      "metadata": {
        "id": "FlSLptSpOsy8"
      },
      "outputs": [],
      "source": [
        "import pandas as pd\n",
        "from sklearn.utils import shuffle\n",
        "import matplotlib.pyplot as plt\n",
        "from sklearn.model_selection import train_test_split\n",
        "from sklearn.preprocessing import StandardScaler\n",
        "import lightgbm as lgb\n",
        "from sklearn.ensemble import RandomForestClassifier\n",
        "from sklearn.tree import DecisionTreeClassifier\n",
        "from pymystem3 import Mystem\n",
        "from sklearn.feature_extraction.text import TfidfVectorizer \n",
        "from sklearn.metrics import f1_score\n",
        "from nltk.stem import WordNetLemmatizer\n",
        "from sklearn.ensemble import GradientBoostingClassifier\n",
        "import numpy as np\n",
        "\n",
        "import re"
      ]
    },
    {
      "cell_type": "code",
      "execution_count": null,
      "metadata": {
        "id": "PWac-_DxOsy-",
        "outputId": "2500fd18-45d9-4bd8-8b3d-b8cc7d1f67cd"
      },
      "outputs": [
        {
          "name": "stdout",
          "output_type": "stream",
          "text": [
            "1.2.4\n"
          ]
        }
      ],
      "source": [
        "print(pd.__version__)"
      ]
    },
    {
      "cell_type": "code",
      "execution_count": null,
      "metadata": {
        "id": "8sQcfk8IOszA",
        "outputId": "39db8376-911b-462d-8fcd-f2182e771753"
      },
      "outputs": [
        {
          "data": {
            "text/html": [
              "<div>\n",
              "<style scoped>\n",
              "    .dataframe tbody tr th:only-of-type {\n",
              "        vertical-align: middle;\n",
              "    }\n",
              "\n",
              "    .dataframe tbody tr th {\n",
              "        vertical-align: top;\n",
              "    }\n",
              "\n",
              "    .dataframe thead th {\n",
              "        text-align: right;\n",
              "    }\n",
              "</style>\n",
              "<table border=\"1\" class=\"dataframe\">\n",
              "  <thead>\n",
              "    <tr style=\"text-align: right;\">\n",
              "      <th></th>\n",
              "      <th>text</th>\n",
              "      <th>toxic</th>\n",
              "    </tr>\n",
              "  </thead>\n",
              "  <tbody>\n",
              "    <tr>\n",
              "      <th>0</th>\n",
              "      <td>Explanation\\nWhy the edits made under my usern...</td>\n",
              "      <td>0</td>\n",
              "    </tr>\n",
              "    <tr>\n",
              "      <th>1</th>\n",
              "      <td>D'aww! He matches this background colour I'm s...</td>\n",
              "      <td>0</td>\n",
              "    </tr>\n",
              "    <tr>\n",
              "      <th>2</th>\n",
              "      <td>Hey man, I'm really not trying to edit war. It...</td>\n",
              "      <td>0</td>\n",
              "    </tr>\n",
              "    <tr>\n",
              "      <th>3</th>\n",
              "      <td>\"\\nMore\\nI can't make any real suggestions on ...</td>\n",
              "      <td>0</td>\n",
              "    </tr>\n",
              "    <tr>\n",
              "      <th>4</th>\n",
              "      <td>You, sir, are my hero. Any chance you remember...</td>\n",
              "      <td>0</td>\n",
              "    </tr>\n",
              "  </tbody>\n",
              "</table>\n",
              "</div>"
            ],
            "text/plain": [
              "                                                text  toxic\n",
              "0  Explanation\\nWhy the edits made under my usern...      0\n",
              "1  D'aww! He matches this background colour I'm s...      0\n",
              "2  Hey man, I'm really not trying to edit war. It...      0\n",
              "3  \"\\nMore\\nI can't make any real suggestions on ...      0\n",
              "4  You, sir, are my hero. Any chance you remember...      0"
            ]
          },
          "execution_count": 3,
          "metadata": {},
          "output_type": "execute_result"
        }
      ],
      "source": [
        "df = pd.read_csv('/datasets/toxic_comments.csv', decimal = ',')\n",
        "df.head()"
      ]
    },
    {
      "cell_type": "code",
      "execution_count": null,
      "metadata": {
        "id": "k-yo6SvxOszA",
        "outputId": "96df971d-a902-4647-f15b-7d742e5b588c"
      },
      "outputs": [
        {
          "name": "stdout",
          "output_type": "stream",
          "text": [
            "<class 'pandas.core.frame.DataFrame'>\n",
            "RangeIndex: 159571 entries, 0 to 159570\n",
            "Data columns (total 2 columns):\n",
            " #   Column  Non-Null Count   Dtype \n",
            "---  ------  --------------   ----- \n",
            " 0   text    159571 non-null  object\n",
            " 1   toxic   159571 non-null  int64 \n",
            "dtypes: int64(1), object(1)\n",
            "memory usage: 2.4+ MB\n"
          ]
        }
      ],
      "source": [
        "df.info()"
      ]
    },
    {
      "cell_type": "code",
      "execution_count": null,
      "metadata": {
        "id": "EMiJKteIOszA",
        "outputId": "e99f16b6-935c-455a-bd59-73f42b6a861b"
      },
      "outputs": [
        {
          "name": "stdout",
          "output_type": "stream",
          "text": [
            "колличество негативных отзывов в выборке 16225 , что составляет 10.17 %\n"
          ]
        }
      ],
      "source": [
        "print('колличество негативных отзывов в выборке', df.toxic.sum(), \n",
        "      ', что составляет', round(100*df.toxic.sum()/df.shape[0], 2), '%')"
      ]
    },
    {
      "cell_type": "markdown",
      "metadata": {
        "id": "Zer0hXWbOszB"
      },
      "source": [
        "Слишком мало негативных отзывов, это плохо для модели, поэтому увеличу выборку за счет замножения негативных комментариев "
      ]
    },
    {
      "cell_type": "code",
      "execution_count": null,
      "metadata": {
        "id": "ecks15xKOszB"
      },
      "outputs": [],
      "source": [
        "# фенкция увеличения объема негативных отзывов для баланса классов\n",
        "def upsample(features, target, repeat):\n",
        "    features_zeros = features[target == 0]\n",
        "    features_ones = features[target == 1]\n",
        "    target_zeros = target[target == 0]\n",
        "    target_ones = target[target == 1]\n",
        "\n",
        "    features_upsampled = pd.concat([features_zeros] + [features_ones] * repeat)\n",
        "    target_upsampled = pd.concat([target_zeros] + [target_ones] * repeat)\n",
        "    \n",
        "    features_upsampled, target_upsampled = shuffle(\n",
        "        features_upsampled, target_upsampled, random_state=12345)\n",
        "    \n",
        "    return features_upsampled, target_upsampled"
      ]
    },
    {
      "cell_type": "code",
      "execution_count": null,
      "metadata": {
        "id": "iLcXlF-_OszB"
      },
      "outputs": [],
      "source": [
        "chat_words_str = \"\"\"\n",
        "AFAIK=As Far As I Know\n",
        "AFK=Away From Keyboard\n",
        "ASAP=As Soon As Possible\n",
        "ATK=At The Keyboard\n",
        "ATM=At The Moment\n",
        "A3=Anytime, Anywhere, Anyplace\n",
        "BAK=Back At Keyboard\n",
        "BBL=Be Back Later\n",
        "BBS=Be Back Soon\n",
        "BFN=Bye For Now\n",
        "B4N=Bye For Now\n",
        "BRB=Be Right Back\n",
        "BRT=Be Right There\n",
        "BTW=By The Way\n",
        "B4=Before\n",
        "B4N=Bye For Now\n",
        "CU=See You\n",
        "CUL8R=See You Later\n",
        "CYA=See You\n",
        "FAQ=Frequently Asked Questions\n",
        "FC=Fingers Crossed\n",
        "FWIW=For What It's Worth\n",
        "FYI=For Your Information\n",
        "GAL=Get A Life\n",
        "GG=Good Game\n",
        "GN=Good Night\n",
        "GMTA=Great Minds Think Alike\n",
        "GR8=Great!\n",
        "G9=Genius\n",
        "IC=I See\n",
        "ICQ=I Seek you (also a chat program)\n",
        "ILU=ILU: I Love You\n",
        "IMHO=In My Honest/Humble Opinion\n",
        "IMO=In My Opinion\n",
        "IOW=In Other Words\n",
        "IRL=In Real Life\n",
        "KISS=Keep It Simple, Stupid\n",
        "LDR=Long Distance Relationship\n",
        "LMAO=Laugh My A.. Off\n",
        "LOL=Laughing Out Loud\n",
        "LTNS=Long Time No See\n",
        "L8R=Later\n",
        "MTE=My Thoughts Exactly\n",
        "M8=Mate\n",
        "NRN=No Reply Necessary\n",
        "OIC=Oh I See\n",
        "PITA=Pain In The A..\n",
        "PRT=Party\n",
        "PRW=Parents Are Watching\n",
        "ROFL=Rolling On The Floor Laughing\n",
        "ROFLOL=Rolling On The Floor Laughing Out Loud\n",
        "ROTFLMAO=Rolling On The Floor Laughing My A.. Off\n",
        "SK8=Skate\n",
        "STATS=Your sex and age\n",
        "ASL=Age, Sex, Location\n",
        "THX=Thank You\n",
        "TTFN=Ta-Ta For Now!\n",
        "TTYL=Talk To You Later\n",
        "U=You\n",
        "U2=You Too\n",
        "U4E=Yours For Ever\n",
        "WB=Welcome Back\n",
        "WTF=What The F...\n",
        "WTG=Way To Go!\n",
        "WUF=Where Are You From?\n",
        "W8=Wait...\n",
        "7K=Sick:-D Laugher\n",
        "\"\"\""
      ]
    },
    {
      "cell_type": "code",
      "execution_count": null,
      "metadata": {
        "id": "KpOl-owKOszC"
      },
      "outputs": [],
      "source": [
        "features, target = df['text'], df['toxic']\n",
        "\n",
        "chat_words_map_dict = {}\n",
        "chat_words_list = []\n",
        "for line in chat_words_str.split(\"\\n\"):\n",
        "    if line != \"\":\n",
        "        cw = line.split(\"=\")[0]\n",
        "        cw_expanded = line.split(\"=\")[1]\n",
        "        chat_words_list.append(cw)\n",
        "        chat_words_map_dict[cw] = cw_expanded\n",
        "chat_words_list = set(chat_words_list)\n",
        "\n",
        "def chat_words_conversion(text):\n",
        "    new_text = []\n",
        "    for w in text.split():\n",
        "        if w.upper() in chat_words_list:\n",
        "            new_text.append(chat_words_map_dict[w.upper()])\n",
        "        else:\n",
        "            new_text.append(w)\n",
        "    return \" \".join(new_text)\n",
        "df['no_cw'] = df['text'].apply(lambda x:chat_words_conversion(x))\n",
        "    \n",
        "import string\n",
        "#defining the function to remove punctuation\n",
        "def remove_punctuation_and_numbers(text):\n",
        "    cleaned_text = re.sub('[^A-Za-z]+', ' ', text.lower().strip())\n",
        "#     cleaned_text =\"\".join([i.lower() for i in text if i not in string.punctuation and not i.isdigit()])\n",
        "    return cleaned_text\n",
        "#storing the puntuation free text\n",
        "df['no_punct']= df['no_cw'].apply(lambda x:remove_punctuation_and_numbers(x))\n",
        "\n",
        "\n",
        "# леммитизация отзывов\n",
        "lemmatizer = WordNetLemmatizer()\n",
        "df['lemm'] =df['no_punct'].apply(lambda x: \" \".join([lemmatizer.lemmatize(word) for word in x.split(\" \")]))\n",
        "\n",
        "#delete stopwords\n",
        "import nltk\n",
        "from nltk.corpus import stopwords\n",
        "def remove_stopwords(text):\n",
        "    sw_nltk = stopwords.words('english')\n",
        "    return \" \".join([word for word in text.split() if word.lower() not in sw_nltk])\n",
        "df['no_sw']= df['lemm'].apply(lambda x:remove_stopwords(x))"
      ]
    },
    {
      "cell_type": "code",
      "execution_count": null,
      "metadata": {
        "id": "x2bIXQ9aOszC",
        "outputId": "74be9e2e-4b61-46f5-d51a-570d65bbddd0"
      },
      "outputs": [
        {
          "data": {
            "text/plain": [
              "'aww match background colour seemingly stuck thanks talk january utc'"
            ]
          },
          "execution_count": 10,
          "metadata": {},
          "output_type": "execute_result"
        }
      ],
      "source": [
        "df['no_sw'][1]"
      ]
    },
    {
      "cell_type": "code",
      "execution_count": null,
      "metadata": {
        "id": "_iuHdhRxOszC"
      },
      "outputs": [],
      "source": [
        "# разбиение выборки 3:1:1\n",
        "features_80, features_valid, target_80, target_valid = train_test_split(\n",
        "    df['no_sw'], target, test_size=0.2, random_state=12345)\n",
        "\n",
        "features_train, features_test, target_train, target_test = train_test_split(\n",
        "    features_80, target_80, test_size=0.25, random_state=12345)"
      ]
    },
    {
      "cell_type": "code",
      "execution_count": null,
      "metadata": {
        "id": "8JmKndw0OszD"
      },
      "outputs": [],
      "source": [
        "# балансировка классов\n",
        "features_train, target_train = upsample(df['no_sw'][target_train.index], target_train, 10) "
      ]
    },
    {
      "cell_type": "code",
      "execution_count": null,
      "metadata": {
        "id": "qw7SdAP7OszD"
      },
      "outputs": [],
      "source": [
        "# преобразование стоковых данных в вектора\n",
        "vectorizer = TfidfVectorizer()\n",
        "features_train = vectorizer.fit_transform(features_train)\n",
        "features_test = vectorizer.transform(features_test)\n",
        "features_valid = vectorizer.transform(features_valid)"
      ]
    },
    {
      "cell_type": "code",
      "execution_count": null,
      "metadata": {
        "id": "KF68KNiYOszD",
        "outputId": "cfdb0735-0396-49c7-d114-eaa0000ddc31"
      },
      "outputs": [
        {
          "data": {
            "text/plain": [
              "((182745, 116617), (31914, 116617), (31915, 116617))"
            ]
          },
          "execution_count": 15,
          "metadata": {},
          "output_type": "execute_result"
        }
      ],
      "source": [
        "del features_80, target_80, df\n",
        "features_train.shape, features_test.shape, features_valid.shape"
      ]
    },
    {
      "cell_type": "code",
      "execution_count": null,
      "metadata": {
        "id": "GqOiNaksOszE",
        "outputId": "badc47ae-0e4a-499b-9137-4be61a14f883"
      },
      "outputs": [
        {
          "name": "stdout",
          "output_type": "stream",
          "text": [
            "количество негативных отзывов в выборке 96670 , что составляет 52.9 %\n"
          ]
        }
      ],
      "source": [
        "print('количество негативных отзывов в выборке', target_train.sum(), \n",
        "      ', что составляет', round(100*target_train.sum()/target_train.shape[0], 2), '%')"
      ]
    },
    {
      "cell_type": "markdown",
      "metadata": {
        "id": "pkESBjyGOszE"
      },
      "source": [
        "теперь баланс классов идеальный"
      ]
    },
    {
      "cell_type": "markdown",
      "metadata": {
        "id": "XsO5SbdrOszF"
      },
      "source": [
        "## Обучение"
      ]
    },
    {
      "cell_type": "markdown",
      "metadata": {
        "id": "KLMyym1qOszF"
      },
      "source": [
        "### подбор гиперпараметров для решающего дерева"
      ]
    },
    {
      "cell_type": "code",
      "execution_count": null,
      "metadata": {
        "id": "Ahji28gtOszF",
        "outputId": "9c394f21-0f07-4830-f9cb-da2ad345f657"
      },
      "outputs": [
        {
          "name": "stdout",
          "output_type": "stream",
          "text": [
            "F1 мера лучшей модели: 0.5982698961937716\n",
            "Depth лучшей модели: 19\n"
          ]
        }
      ],
      "source": [
        "best_result_tree = 0\n",
        "best_depth_tree = 0\n",
        "for depth in range(10, 20):    # 14\n",
        "    model_tree = DecisionTreeClassifier(random_state=12345, max_depth=depth) # обучите модель с заданной глубиной дерева\n",
        "    model_tree.fit(features_train, target_train) # обучите модель\n",
        "    predictions_valid_tree = model_tree.predict(features_valid)\n",
        "    result_tree = f1_score(target_test, model_tree.predict(features_test)) # посчитайте качество модели\n",
        "    if result_tree > best_result_tree:\n",
        "        best_result_tree = result_tree\n",
        "        best_depth_tree = depth\n",
        "        0\n",
        "print(\"F1 мера лучшей модели:\", best_result_tree)\n",
        "print(\"Depth лучшей модели:\", best_depth_tree)"
      ]
    },
    {
      "cell_type": "markdown",
      "metadata": {
        "id": "9LSgTHNcOszG"
      },
      "source": [
        "### подбор гиперпараметров для случайного леса"
      ]
    },
    {
      "cell_type": "code",
      "execution_count": null,
      "metadata": {
        "scrolled": true,
        "id": "3OSw9x0IOszG",
        "outputId": "bd912ae9-3f1c-48af-c245-e3884f2bee21"
      },
      "outputs": [
        {
          "name": "stdout",
          "output_type": "stream",
          "text": [
            "n_estimators = 21\n",
            "max_f1 0.6727886056971515\n"
          ]
        }
      ],
      "source": [
        "max_trees = 0\n",
        "max_f1 = 0\n",
        "for trees in range(11, 30, 5):    # 20\n",
        "    Forest_model = RandomForestClassifier(n_estimators=trees, random_state=999)\n",
        "    Forest_model.fit(features_train, target_train)\n",
        "    result = f1_score(target_test, Forest_model.predict(features_test))\n",
        "    if max_f1 < result:\n",
        "        max_f1 = result\n",
        "        max_trees = trees\n",
        "print('n_estimators =', max_trees) \n",
        "print('max_f1', max_f1)  "
      ]
    },
    {
      "cell_type": "markdown",
      "metadata": {
        "id": "RxEGLQf7OszG"
      },
      "source": [
        "### подбор гиперпараметров для GBM модели"
      ]
    },
    {
      "cell_type": "code",
      "execution_count": null,
      "metadata": {
        "id": "Kf3uewlfOszH",
        "outputId": "bb1023c1-4767-40e8-fcdb-c1cf548a7e3b"
      },
      "outputs": [
        {
          "name": "stdout",
          "output_type": "stream",
          "text": [
            "max_leaves = 26\n",
            "max_rmax_f1mse = 0.23815134354452516\n"
          ]
        }
      ],
      "source": [
        "max_leaves = 0\n",
        "max_f1 = 0\n",
        "for leaves in range(11, 30, 5):    # 20\n",
        "    GBM_model = lgb.LGBMClassifier(boosting_type = 'gbdt', num_leaves = leaves, n_estimators = 1, class_weight = None)\n",
        "    GBM_model.fit(features_train, target_train)\n",
        "    result = f1_score(target_test, GBM_model.predict(features_test))\n",
        "    if max_f1 < result:\n",
        "        max_f1 = result\n",
        "        max_leaves = leaves\n",
        "    \n",
        "print('max_leaves =', max_leaves) \n",
        "print('max_rmax_f1mse =', max_f1)"
      ]
    },
    {
      "cell_type": "code",
      "execution_count": null,
      "metadata": {
        "id": "wkPUrNyWOszH"
      },
      "outputs": [],
      "source": [
        " del model_tree, Forest_model, GBM_model"
      ]
    },
    {
      "cell_type": "markdown",
      "metadata": {
        "id": "Vs99UP49OszH"
      },
      "source": [
        "# CatBoost"
      ]
    },
    {
      "cell_type": "code",
      "execution_count": null,
      "metadata": {
        "id": "NENz4vvwOszH",
        "outputId": "54be848a-7dec-4ab7-bf64-dabc8df84f50"
      },
      "outputs": [
        {
          "name": "stdout",
          "output_type": "stream",
          "text": [
            "Learning rate set to 0.164752\n",
            "0:\tlearn: 0.6233008\ttotal: 3.23s\tremaining: 29m 35s\n",
            "1:\tlearn: 0.5863373\ttotal: 5.82s\tremaining: 26m 34s\n",
            "2:\tlearn: 0.5629210\ttotal: 8.42s\tremaining: 25m 34s\n",
            "3:\tlearn: 0.5437186\ttotal: 11.1s\tremaining: 25m 14s\n",
            "4:\tlearn: 0.5321561\ttotal: 13.7s\tremaining: 24m 57s\n",
            "5:\tlearn: 0.5217580\ttotal: 16.2s\tremaining: 24m 32s\n",
            "6:\tlearn: 0.5114217\ttotal: 18.9s\tremaining: 24m 22s\n",
            "7:\tlearn: 0.4997315\ttotal: 21.4s\tremaining: 24m 6s\n",
            "8:\tlearn: 0.4937245\ttotal: 23.9s\tremaining: 23m 57s\n",
            "9:\tlearn: 0.4873235\ttotal: 26.5s\tremaining: 23m 50s\n",
            "10:\tlearn: 0.4788657\ttotal: 29.1s\tremaining: 23m 44s\n",
            "11:\tlearn: 0.4729093\ttotal: 31.6s\tremaining: 23m 35s\n",
            "12:\tlearn: 0.4677870\ttotal: 34.1s\tremaining: 23m 29s\n",
            "13:\tlearn: 0.4622688\ttotal: 36.7s\tremaining: 23m 26s\n",
            "14:\tlearn: 0.4576585\ttotal: 39.3s\tremaining: 23m 20s\n",
            "15:\tlearn: 0.4519713\ttotal: 41.8s\tremaining: 23m 14s\n",
            "16:\tlearn: 0.4474559\ttotal: 44.3s\tremaining: 23m 8s\n",
            "17:\tlearn: 0.4434344\ttotal: 46.9s\tremaining: 23m 5s\n",
            "18:\tlearn: 0.4379305\ttotal: 49.5s\tremaining: 23m 2s\n",
            "19:\tlearn: 0.4343728\ttotal: 52s\tremaining: 22m 58s\n",
            "20:\tlearn: 0.4306462\ttotal: 54.5s\tremaining: 22m 53s\n",
            "21:\tlearn: 0.4281187\ttotal: 57s\tremaining: 22m 48s\n",
            "22:\tlearn: 0.4251270\ttotal: 59.6s\tremaining: 22m 45s\n",
            "23:\tlearn: 0.4223989\ttotal: 1m 2s\tremaining: 22m 41s\n",
            "24:\tlearn: 0.4200938\ttotal: 1m 4s\tremaining: 22m 35s\n",
            "25:\tlearn: 0.4173788\ttotal: 1m 7s\tremaining: 22m 33s\n",
            "26:\tlearn: 0.4130295\ttotal: 1m 9s\tremaining: 22m 28s\n",
            "27:\tlearn: 0.4109225\ttotal: 1m 12s\tremaining: 22m 23s\n",
            "28:\tlearn: 0.4085439\ttotal: 1m 14s\tremaining: 22m 19s\n",
            "29:\tlearn: 0.4064608\ttotal: 1m 17s\tremaining: 22m 14s\n",
            "30:\tlearn: 0.4043359\ttotal: 1m 19s\tremaining: 22m 11s\n",
            "31:\tlearn: 0.4023367\ttotal: 1m 22s\tremaining: 22m 7s\n",
            "32:\tlearn: 0.4004230\ttotal: 1m 24s\tremaining: 22m 4s\n",
            "33:\tlearn: 0.3982034\ttotal: 1m 27s\tremaining: 22m 1s\n",
            "34:\tlearn: 0.3963232\ttotal: 1m 29s\tremaining: 21m 58s\n",
            "35:\tlearn: 0.3925301\ttotal: 1m 32s\tremaining: 21m 55s\n",
            "36:\tlearn: 0.3900171\ttotal: 1m 34s\tremaining: 21m 52s\n",
            "37:\tlearn: 0.3881164\ttotal: 1m 37s\tremaining: 21m 50s\n",
            "38:\tlearn: 0.3858088\ttotal: 1m 39s\tremaining: 21m 48s\n",
            "39:\tlearn: 0.3841888\ttotal: 1m 42s\tremaining: 21m 45s\n",
            "40:\tlearn: 0.3825654\ttotal: 1m 44s\tremaining: 21m 42s\n",
            "41:\tlearn: 0.3802370\ttotal: 1m 47s\tremaining: 21m 40s\n",
            "42:\tlearn: 0.3784235\ttotal: 1m 49s\tremaining: 21m 36s\n",
            "43:\tlearn: 0.3768737\ttotal: 1m 52s\tremaining: 21m 32s\n",
            "44:\tlearn: 0.3754887\ttotal: 1m 54s\tremaining: 21m 29s\n",
            "45:\tlearn: 0.3741089\ttotal: 1m 57s\tremaining: 21m 26s\n",
            "46:\tlearn: 0.3723845\ttotal: 1m 59s\tremaining: 21m 24s\n",
            "47:\tlearn: 0.3709665\ttotal: 2m 2s\tremaining: 21m 20s\n",
            "48:\tlearn: 0.3698740\ttotal: 2m 4s\tremaining: 21m 16s\n",
            "49:\tlearn: 0.3686408\ttotal: 2m 7s\tremaining: 21m 14s\n",
            "50:\tlearn: 0.3674131\ttotal: 2m 9s\tremaining: 21m 11s\n",
            "51:\tlearn: 0.3654357\ttotal: 2m 12s\tremaining: 21m 8s\n",
            "52:\tlearn: 0.3633941\ttotal: 2m 14s\tremaining: 21m 5s\n",
            "53:\tlearn: 0.3619763\ttotal: 2m 17s\tremaining: 21m 2s\n",
            "54:\tlearn: 0.3608552\ttotal: 2m 19s\tremaining: 20m 59s\n",
            "55:\tlearn: 0.3596111\ttotal: 2m 22s\tremaining: 20m 55s\n",
            "56:\tlearn: 0.3584295\ttotal: 2m 24s\tremaining: 20m 52s\n",
            "57:\tlearn: 0.3568927\ttotal: 2m 27s\tremaining: 20m 49s\n",
            "58:\tlearn: 0.3554468\ttotal: 2m 29s\tremaining: 20m 46s\n",
            "59:\tlearn: 0.3542113\ttotal: 2m 32s\tremaining: 20m 43s\n",
            "60:\tlearn: 0.3530768\ttotal: 2m 34s\tremaining: 20m 40s\n",
            "61:\tlearn: 0.3520708\ttotal: 2m 37s\tremaining: 20m 37s\n",
            "62:\tlearn: 0.3510858\ttotal: 2m 39s\tremaining: 20m 34s\n",
            "63:\tlearn: 0.3490065\ttotal: 2m 42s\tremaining: 20m 31s\n",
            "64:\tlearn: 0.3479797\ttotal: 2m 44s\tremaining: 20m 28s\n",
            "65:\tlearn: 0.3466815\ttotal: 2m 47s\tremaining: 20m 25s\n",
            "66:\tlearn: 0.3456760\ttotal: 2m 49s\tremaining: 20m 21s\n",
            "67:\tlearn: 0.3444652\ttotal: 2m 51s\tremaining: 20m 18s\n",
            "68:\tlearn: 0.3418556\ttotal: 2m 54s\tremaining: 20m 15s\n",
            "69:\tlearn: 0.3410008\ttotal: 2m 56s\tremaining: 20m 12s\n",
            "70:\tlearn: 0.3400076\ttotal: 2m 59s\tremaining: 20m 8s\n",
            "71:\tlearn: 0.3391947\ttotal: 3m 1s\tremaining: 20m 5s\n",
            "72:\tlearn: 0.3380047\ttotal: 3m 4s\tremaining: 20m 3s\n",
            "73:\tlearn: 0.3360952\ttotal: 3m 6s\tremaining: 19m 59s\n",
            "74:\tlearn: 0.3349043\ttotal: 3m 8s\tremaining: 19m 56s\n",
            "75:\tlearn: 0.3340009\ttotal: 3m 11s\tremaining: 19m 53s\n",
            "76:\tlearn: 0.3327748\ttotal: 3m 13s\tremaining: 19m 50s\n",
            "77:\tlearn: 0.3316977\ttotal: 3m 16s\tremaining: 19m 47s\n",
            "78:\tlearn: 0.3309007\ttotal: 3m 18s\tremaining: 19m 44s\n",
            "79:\tlearn: 0.3295871\ttotal: 3m 21s\tremaining: 19m 41s\n",
            "80:\tlearn: 0.3288457\ttotal: 3m 23s\tremaining: 19m 38s\n",
            "81:\tlearn: 0.3278389\ttotal: 3m 26s\tremaining: 19m 35s\n",
            "82:\tlearn: 0.3269216\ttotal: 3m 28s\tremaining: 19m 33s\n",
            "83:\tlearn: 0.3260502\ttotal: 3m 30s\tremaining: 19m 30s\n",
            "84:\tlearn: 0.3252739\ttotal: 3m 33s\tremaining: 19m 26s\n",
            "85:\tlearn: 0.3245060\ttotal: 3m 35s\tremaining: 19m 24s\n",
            "86:\tlearn: 0.3233285\ttotal: 3m 38s\tremaining: 19m 21s\n",
            "87:\tlearn: 0.3224825\ttotal: 3m 40s\tremaining: 19m 18s\n",
            "88:\tlearn: 0.3216118\ttotal: 3m 43s\tremaining: 19m 16s\n",
            "89:\tlearn: 0.3208298\ttotal: 3m 45s\tremaining: 19m 13s\n",
            "90:\tlearn: 0.3198754\ttotal: 3m 48s\tremaining: 19m 10s\n",
            "91:\tlearn: 0.3191294\ttotal: 3m 50s\tremaining: 19m 7s\n",
            "92:\tlearn: 0.3182100\ttotal: 3m 53s\tremaining: 19m 5s\n",
            "93:\tlearn: 0.3174582\ttotal: 3m 55s\tremaining: 19m 3s\n",
            "94:\tlearn: 0.3166604\ttotal: 3m 58s\tremaining: 19m\n",
            "95:\tlearn: 0.3159084\ttotal: 4m\tremaining: 18m 57s\n",
            "96:\tlearn: 0.3145436\ttotal: 4m 3s\tremaining: 18m 55s\n",
            "97:\tlearn: 0.3131877\ttotal: 4m 5s\tremaining: 18m 51s\n",
            "98:\tlearn: 0.3124198\ttotal: 4m 7s\tremaining: 18m 49s\n",
            "99:\tlearn: 0.3116628\ttotal: 4m 10s\tremaining: 18m 45s\n",
            "100:\tlearn: 0.3109740\ttotal: 4m 12s\tremaining: 18m 43s\n",
            "101:\tlearn: 0.3093897\ttotal: 4m 15s\tremaining: 18m 40s\n",
            "102:\tlearn: 0.3084744\ttotal: 4m 17s\tremaining: 18m 37s\n",
            "103:\tlearn: 0.3078136\ttotal: 4m 20s\tremaining: 18m 35s\n",
            "104:\tlearn: 0.3070379\ttotal: 4m 22s\tremaining: 18m 32s\n",
            "105:\tlearn: 0.3063761\ttotal: 4m 25s\tremaining: 18m 30s\n",
            "106:\tlearn: 0.3056711\ttotal: 4m 27s\tremaining: 18m 27s\n",
            "107:\tlearn: 0.3049066\ttotal: 4m 29s\tremaining: 18m 24s\n",
            "108:\tlearn: 0.3041065\ttotal: 4m 32s\tremaining: 18m 21s\n",
            "109:\tlearn: 0.3034872\ttotal: 4m 34s\tremaining: 18m 19s\n",
            "110:\tlearn: 0.3028152\ttotal: 4m 37s\tremaining: 18m 15s\n",
            "111:\tlearn: 0.3019190\ttotal: 4m 39s\tremaining: 18m 13s\n",
            "112:\tlearn: 0.3012818\ttotal: 4m 41s\tremaining: 18m 9s\n",
            "113:\tlearn: 0.3005949\ttotal: 4m 44s\tremaining: 18m 6s\n",
            "114:\tlearn: 0.2999628\ttotal: 4m 46s\tremaining: 18m 3s\n",
            "115:\tlearn: 0.2991654\ttotal: 4m 48s\tremaining: 18m 1s\n",
            "116:\tlearn: 0.2985049\ttotal: 4m 51s\tremaining: 17m 58s\n",
            "117:\tlearn: 0.2977090\ttotal: 4m 54s\tremaining: 17m 56s\n",
            "118:\tlearn: 0.2971651\ttotal: 4m 56s\tremaining: 17m 53s\n",
            "119:\tlearn: 0.2966095\ttotal: 4m 58s\tremaining: 17m 50s\n",
            "120:\tlearn: 0.2959942\ttotal: 5m 1s\tremaining: 17m 47s\n",
            "121:\tlearn: 0.2954143\ttotal: 5m 3s\tremaining: 17m 45s\n",
            "122:\tlearn: 0.2946545\ttotal: 5m 6s\tremaining: 17m 42s\n",
            "123:\tlearn: 0.2941075\ttotal: 5m 8s\tremaining: 17m 40s\n",
            "124:\tlearn: 0.2935704\ttotal: 5m 10s\tremaining: 17m 37s\n",
            "125:\tlearn: 0.2929740\ttotal: 5m 13s\tremaining: 17m 33s\n",
            "126:\tlearn: 0.2923589\ttotal: 5m 15s\tremaining: 17m 31s\n",
            "127:\tlearn: 0.2917166\ttotal: 5m 18s\tremaining: 17m 28s\n",
            "128:\tlearn: 0.2910176\ttotal: 5m 20s\tremaining: 17m 25s\n",
            "129:\tlearn: 0.2905007\ttotal: 5m 22s\tremaining: 17m 23s\n",
            "130:\tlearn: 0.2899343\ttotal: 5m 25s\tremaining: 17m 20s\n",
            "131:\tlearn: 0.2894801\ttotal: 5m 27s\tremaining: 17m 16s\n",
            "132:\tlearn: 0.2889123\ttotal: 5m 29s\tremaining: 17m 14s\n",
            "133:\tlearn: 0.2885354\ttotal: 5m 32s\tremaining: 17m 11s\n",
            "134:\tlearn: 0.2880626\ttotal: 5m 34s\tremaining: 17m 7s\n",
            "135:\tlearn: 0.2874865\ttotal: 5m 36s\tremaining: 17m 5s\n",
            "136:\tlearn: 0.2869258\ttotal: 5m 39s\tremaining: 17m 3s\n",
            "137:\tlearn: 0.2863971\ttotal: 5m 41s\tremaining: 16m 59s\n",
            "138:\tlearn: 0.2859028\ttotal: 5m 44s\tremaining: 16m 57s\n",
            "139:\tlearn: 0.2853787\ttotal: 5m 46s\tremaining: 16m 54s\n",
            "140:\tlearn: 0.2847318\ttotal: 5m 49s\tremaining: 16m 52s\n",
            "141:\tlearn: 0.2841607\ttotal: 5m 51s\tremaining: 16m 50s\n",
            "142:\tlearn: 0.2835927\ttotal: 5m 54s\tremaining: 16m 48s\n",
            "143:\tlearn: 0.2830870\ttotal: 5m 56s\tremaining: 16m 45s\n",
            "144:\tlearn: 0.2826314\ttotal: 5m 59s\tremaining: 16m 42s\n",
            "145:\tlearn: 0.2820641\ttotal: 6m 1s\tremaining: 16m 40s\n",
            "146:\tlearn: 0.2816068\ttotal: 6m 3s\tremaining: 16m 37s\n",
            "147:\tlearn: 0.2811197\ttotal: 6m 6s\tremaining: 16m 35s\n",
            "148:\tlearn: 0.2807242\ttotal: 6m 8s\tremaining: 16m 32s\n",
            "149:\tlearn: 0.2796308\ttotal: 6m 11s\tremaining: 16m 30s\n",
            "150:\tlearn: 0.2792218\ttotal: 6m 13s\tremaining: 16m 26s\n",
            "151:\tlearn: 0.2787162\ttotal: 6m 15s\tremaining: 16m 24s\n",
            "152:\tlearn: 0.2781666\ttotal: 6m 18s\tremaining: 16m 21s\n",
            "153:\tlearn: 0.2774864\ttotal: 6m 20s\tremaining: 16m 19s\n",
            "154:\tlearn: 0.2766095\ttotal: 6m 23s\tremaining: 16m 16s\n",
            "155:\tlearn: 0.2761878\ttotal: 6m 25s\tremaining: 16m 14s\n",
            "156:\tlearn: 0.2757125\ttotal: 6m 28s\tremaining: 16m 11s\n",
            "157:\tlearn: 0.2752556\ttotal: 6m 30s\tremaining: 16m 9s\n",
            "158:\tlearn: 0.2748628\ttotal: 6m 33s\tremaining: 16m 6s\n",
            "159:\tlearn: 0.2743815\ttotal: 6m 35s\tremaining: 16m 3s\n",
            "160:\tlearn: 0.2736103\ttotal: 6m 37s\tremaining: 16m 1s\n",
            "161:\tlearn: 0.2729296\ttotal: 6m 40s\tremaining: 15m 58s\n",
            "162:\tlearn: 0.2724712\ttotal: 6m 42s\tremaining: 15m 56s\n",
            "163:\tlearn: 0.2721226\ttotal: 6m 44s\tremaining: 15m 52s\n",
            "164:\tlearn: 0.2716201\ttotal: 6m 47s\tremaining: 15m 49s\n",
            "165:\tlearn: 0.2712020\ttotal: 6m 49s\tremaining: 15m 47s\n",
            "166:\tlearn: 0.2707208\ttotal: 6m 51s\tremaining: 15m 44s\n",
            "167:\tlearn: 0.2703780\ttotal: 6m 54s\tremaining: 15m 41s\n",
            "168:\tlearn: 0.2698935\ttotal: 6m 56s\tremaining: 15m 38s\n",
            "169:\tlearn: 0.2689321\ttotal: 6m 58s\tremaining: 15m 36s\n",
            "170:\tlearn: 0.2685371\ttotal: 7m\tremaining: 15m 33s\n",
            "171:\tlearn: 0.2680970\ttotal: 7m 3s\tremaining: 15m 30s\n",
            "172:\tlearn: 0.2677095\ttotal: 7m 5s\tremaining: 15m 27s\n",
            "173:\tlearn: 0.2672599\ttotal: 7m 8s\tremaining: 15m 25s\n",
            "174:\tlearn: 0.2667917\ttotal: 7m 10s\tremaining: 15m 22s\n",
            "175:\tlearn: 0.2663521\ttotal: 7m 12s\tremaining: 15m 20s\n",
            "176:\tlearn: 0.2659678\ttotal: 7m 15s\tremaining: 15m 17s\n",
            "177:\tlearn: 0.2652570\ttotal: 7m 18s\tremaining: 15m 15s\n",
            "178:\tlearn: 0.2648305\ttotal: 7m 20s\tremaining: 15m 12s\n",
            "179:\tlearn: 0.2642140\ttotal: 7m 22s\tremaining: 15m 10s\n",
            "180:\tlearn: 0.2638574\ttotal: 7m 24s\tremaining: 15m 7s\n",
            "181:\tlearn: 0.2634588\ttotal: 7m 27s\tremaining: 15m 4s\n",
            "182:\tlearn: 0.2629472\ttotal: 7m 29s\tremaining: 15m 2s\n",
            "183:\tlearn: 0.2623706\ttotal: 7m 32s\tremaining: 14m 59s\n",
            "184:\tlearn: 0.2619552\ttotal: 7m 34s\tremaining: 14m 57s\n",
            "185:\tlearn: 0.2615546\ttotal: 7m 37s\tremaining: 14m 54s\n",
            "186:\tlearn: 0.2611861\ttotal: 7m 39s\tremaining: 14m 52s\n",
            "187:\tlearn: 0.2608368\ttotal: 7m 41s\tremaining: 14m 49s\n",
            "188:\tlearn: 0.2604711\ttotal: 7m 44s\tremaining: 14m 46s\n",
            "189:\tlearn: 0.2601299\ttotal: 7m 46s\tremaining: 14m 43s\n",
            "190:\tlearn: 0.2596809\ttotal: 7m 48s\tremaining: 14m 41s\n",
            "191:\tlearn: 0.2592950\ttotal: 7m 51s\tremaining: 14m 38s\n",
            "192:\tlearn: 0.2588778\ttotal: 7m 53s\tremaining: 14m 35s\n",
            "193:\tlearn: 0.2586175\ttotal: 7m 55s\tremaining: 14m 32s\n",
            "194:\tlearn: 0.2582281\ttotal: 7m 58s\tremaining: 14m 30s\n",
            "195:\tlearn: 0.2571688\ttotal: 8m\tremaining: 14m 27s\n",
            "196:\tlearn: 0.2568073\ttotal: 8m 2s\tremaining: 14m 25s\n",
            "197:\tlearn: 0.2563859\ttotal: 8m 5s\tremaining: 14m 22s\n",
            "198:\tlearn: 0.2559875\ttotal: 8m 7s\tremaining: 14m 20s\n",
            "199:\tlearn: 0.2554448\ttotal: 8m 10s\tremaining: 14m 17s\n",
            "200:\tlearn: 0.2550968\ttotal: 8m 12s\tremaining: 14m 15s\n",
            "201:\tlearn: 0.2546911\ttotal: 8m 14s\tremaining: 14m 12s\n",
            "202:\tlearn: 0.2542729\ttotal: 8m 17s\tremaining: 14m 10s\n",
            "203:\tlearn: 0.2538379\ttotal: 8m 19s\tremaining: 14m 7s\n",
            "204:\tlearn: 0.2535029\ttotal: 8m 22s\tremaining: 14m 5s\n",
            "205:\tlearn: 0.2531963\ttotal: 8m 24s\tremaining: 14m 2s\n",
            "206:\tlearn: 0.2528566\ttotal: 8m 26s\tremaining: 13m 59s\n",
            "207:\tlearn: 0.2526301\ttotal: 8m 28s\tremaining: 13m 56s\n",
            "208:\tlearn: 0.2522049\ttotal: 8m 31s\tremaining: 13m 54s\n",
            "209:\tlearn: 0.2518866\ttotal: 8m 33s\tremaining: 13m 51s\n",
            "210:\tlearn: 0.2514605\ttotal: 8m 36s\tremaining: 13m 49s\n",
            "211:\tlearn: 0.2510737\ttotal: 8m 38s\tremaining: 13m 47s\n",
            "212:\tlearn: 0.2505654\ttotal: 8m 41s\tremaining: 13m 44s\n",
            "213:\tlearn: 0.2500963\ttotal: 8m 43s\tremaining: 13m 41s\n",
            "214:\tlearn: 0.2495852\ttotal: 8m 46s\tremaining: 13m 39s\n",
            "215:\tlearn: 0.2492954\ttotal: 8m 48s\tremaining: 13m 36s\n",
            "216:\tlearn: 0.2490999\ttotal: 8m 50s\tremaining: 13m 34s\n",
            "217:\tlearn: 0.2488121\ttotal: 8m 52s\tremaining: 13m 31s\n",
            "218:\tlearn: 0.2483471\ttotal: 8m 55s\tremaining: 13m 29s\n",
            "219:\tlearn: 0.2480247\ttotal: 8m 57s\tremaining: 13m 26s\n",
            "220:\tlearn: 0.2477180\ttotal: 8m 59s\tremaining: 13m 23s\n",
            "221:\tlearn: 0.2471274\ttotal: 9m 2s\tremaining: 13m 21s\n",
            "222:\tlearn: 0.2468536\ttotal: 9m 4s\tremaining: 13m 18s\n",
            "223:\tlearn: 0.2466172\ttotal: 9m 6s\tremaining: 13m 15s\n",
            "224:\tlearn: 0.2461721\ttotal: 9m 8s\tremaining: 13m 12s\n",
            "225:\tlearn: 0.2458777\ttotal: 9m 11s\tremaining: 13m 10s\n",
            "226:\tlearn: 0.2455648\ttotal: 9m 13s\tremaining: 13m 7s\n",
            "227:\tlearn: 0.2445041\ttotal: 9m 15s\tremaining: 13m 5s\n",
            "228:\tlearn: 0.2441642\ttotal: 9m 18s\tremaining: 13m 2s\n",
            "229:\tlearn: 0.2437876\ttotal: 9m 20s\tremaining: 13m\n",
            "230:\tlearn: 0.2434507\ttotal: 9m 23s\tremaining: 12m 57s\n",
            "231:\tlearn: 0.2430049\ttotal: 9m 25s\tremaining: 12m 55s\n",
            "232:\tlearn: 0.2426770\ttotal: 9m 27s\tremaining: 12m 52s\n",
            "233:\tlearn: 0.2423318\ttotal: 9m 30s\tremaining: 12m 50s\n",
            "234:\tlearn: 0.2420882\ttotal: 9m 32s\tremaining: 12m 47s\n",
            "235:\tlearn: 0.2417245\ttotal: 9m 34s\tremaining: 12m 44s\n",
            "236:\tlearn: 0.2414164\ttotal: 9m 36s\tremaining: 12m 41s\n",
            "237:\tlearn: 0.2410590\ttotal: 9m 39s\tremaining: 12m 39s\n",
            "238:\tlearn: 0.2408758\ttotal: 9m 41s\tremaining: 12m 36s\n",
            "239:\tlearn: 0.2405818\ttotal: 9m 43s\tremaining: 12m 34s\n",
            "240:\tlearn: 0.2401253\ttotal: 9m 46s\tremaining: 12m 31s\n",
            "241:\tlearn: 0.2396672\ttotal: 9m 48s\tremaining: 12m 29s\n",
            "242:\tlearn: 0.2394009\ttotal: 9m 51s\tremaining: 12m 26s\n",
            "243:\tlearn: 0.2392083\ttotal: 9m 53s\tremaining: 12m 24s\n",
            "244:\tlearn: 0.2388622\ttotal: 9m 55s\tremaining: 12m 21s\n",
            "245:\tlearn: 0.2386875\ttotal: 9m 57s\tremaining: 12m 18s\n",
            "246:\tlearn: 0.2384345\ttotal: 10m\tremaining: 12m 16s\n",
            "247:\tlearn: 0.2381340\ttotal: 10m 2s\tremaining: 12m 13s\n",
            "248:\tlearn: 0.2378528\ttotal: 10m 4s\tremaining: 12m 11s\n",
            "249:\tlearn: 0.2375376\ttotal: 10m 7s\tremaining: 12m 8s\n",
            "250:\tlearn: 0.2373285\ttotal: 10m 9s\tremaining: 12m 5s\n",
            "251:\tlearn: 0.2369028\ttotal: 10m 11s\tremaining: 12m 3s\n",
            "252:\tlearn: 0.2365160\ttotal: 10m 14s\tremaining: 12m 1s\n",
            "253:\tlearn: 0.2363425\ttotal: 10m 16s\tremaining: 11m 58s\n",
            "254:\tlearn: 0.2360139\ttotal: 10m 18s\tremaining: 11m 55s\n",
            "255:\tlearn: 0.2357950\ttotal: 10m 20s\tremaining: 11m 53s\n",
            "256:\tlearn: 0.2354417\ttotal: 10m 23s\tremaining: 11m 50s\n",
            "257:\tlearn: 0.2351743\ttotal: 10m 25s\tremaining: 11m 48s\n",
            "258:\tlearn: 0.2348118\ttotal: 10m 28s\tremaining: 11m 45s\n",
            "259:\tlearn: 0.2346366\ttotal: 10m 30s\tremaining: 11m 43s\n",
            "260:\tlearn: 0.2343369\ttotal: 10m 32s\tremaining: 11m 40s\n",
            "261:\tlearn: 0.2339838\ttotal: 10m 35s\tremaining: 11m 38s\n",
            "262:\tlearn: 0.2336843\ttotal: 10m 37s\tremaining: 11m 35s\n",
            "263:\tlearn: 0.2334136\ttotal: 10m 39s\tremaining: 11m 33s\n",
            "264:\tlearn: 0.2330183\ttotal: 10m 42s\tremaining: 11m 30s\n",
            "265:\tlearn: 0.2327307\ttotal: 10m 44s\tremaining: 11m 28s\n",
            "266:\tlearn: 0.2323874\ttotal: 10m 46s\tremaining: 11m 25s\n",
            "267:\tlearn: 0.2321736\ttotal: 10m 49s\tremaining: 11m 22s\n",
            "268:\tlearn: 0.2318847\ttotal: 10m 51s\tremaining: 11m 20s\n",
            "269:\tlearn: 0.2316042\ttotal: 10m 53s\tremaining: 11m 18s\n",
            "270:\tlearn: 0.2312955\ttotal: 10m 56s\tremaining: 11m 15s\n",
            "271:\tlearn: 0.2309216\ttotal: 10m 58s\tremaining: 11m 13s\n",
            "272:\tlearn: 0.2307603\ttotal: 11m\tremaining: 11m 10s\n",
            "273:\tlearn: 0.2305713\ttotal: 11m 2s\tremaining: 11m 7s\n",
            "274:\tlearn: 0.2302411\ttotal: 11m 5s\tremaining: 11m 5s\n",
            "275:\tlearn: 0.2300283\ttotal: 11m 7s\tremaining: 11m 2s\n",
            "276:\tlearn: 0.2293135\ttotal: 11m 9s\tremaining: 11m\n",
            "277:\tlearn: 0.2290935\ttotal: 11m 12s\tremaining: 10m 57s\n",
            "278:\tlearn: 0.2289341\ttotal: 11m 14s\tremaining: 10m 54s\n",
            "279:\tlearn: 0.2287189\ttotal: 11m 16s\tremaining: 10m 52s\n",
            "280:\tlearn: 0.2284190\ttotal: 11m 18s\tremaining: 10m 49s\n",
            "281:\tlearn: 0.2282224\ttotal: 11m 21s\tremaining: 10m 47s\n",
            "282:\tlearn: 0.2280703\ttotal: 11m 23s\tremaining: 10m 44s\n",
            "283:\tlearn: 0.2277800\ttotal: 11m 25s\tremaining: 10m 42s\n",
            "284:\tlearn: 0.2276357\ttotal: 11m 27s\tremaining: 10m 39s\n",
            "285:\tlearn: 0.2272761\ttotal: 11m 30s\tremaining: 10m 36s\n",
            "286:\tlearn: 0.2270309\ttotal: 11m 32s\tremaining: 10m 34s\n",
            "287:\tlearn: 0.2268072\ttotal: 11m 34s\tremaining: 10m 31s\n",
            "288:\tlearn: 0.2266081\ttotal: 11m 36s\tremaining: 10m 29s\n",
            "289:\tlearn: 0.2260103\ttotal: 11m 39s\tremaining: 10m 26s\n",
            "290:\tlearn: 0.2255439\ttotal: 11m 41s\tremaining: 10m 24s\n",
            "291:\tlearn: 0.2251311\ttotal: 11m 43s\tremaining: 10m 21s\n",
            "292:\tlearn: 0.2249219\ttotal: 11m 46s\tremaining: 10m 19s\n",
            "293:\tlearn: 0.2246428\ttotal: 11m 48s\tremaining: 10m 17s\n",
            "294:\tlearn: 0.2243563\ttotal: 11m 51s\tremaining: 10m 14s\n",
            "295:\tlearn: 0.2240926\ttotal: 11m 53s\tremaining: 10m 12s\n",
            "296:\tlearn: 0.2237676\ttotal: 11m 55s\tremaining: 10m 9s\n",
            "297:\tlearn: 0.2236212\ttotal: 11m 58s\tremaining: 10m 7s\n",
            "298:\tlearn: 0.2233564\ttotal: 12m\tremaining: 10m 4s\n",
            "299:\tlearn: 0.2230697\ttotal: 12m 2s\tremaining: 10m 2s\n",
            "300:\tlearn: 0.2227951\ttotal: 12m 5s\tremaining: 9m 59s\n",
            "301:\tlearn: 0.2224224\ttotal: 12m 7s\tremaining: 9m 57s\n",
            "302:\tlearn: 0.2221265\ttotal: 12m 10s\tremaining: 9m 55s\n",
            "303:\tlearn: 0.2219167\ttotal: 12m 12s\tremaining: 9m 52s\n",
            "304:\tlearn: 0.2216058\ttotal: 12m 14s\tremaining: 9m 50s\n",
            "305:\tlearn: 0.2213177\ttotal: 12m 17s\tremaining: 9m 47s\n",
            "306:\tlearn: 0.2211696\ttotal: 12m 19s\tremaining: 9m 45s\n",
            "307:\tlearn: 0.2210390\ttotal: 12m 21s\tremaining: 9m 42s\n",
            "308:\tlearn: 0.2207405\ttotal: 12m 23s\tremaining: 9m 40s\n",
            "309:\tlearn: 0.2204997\ttotal: 12m 26s\tremaining: 9m 37s\n",
            "310:\tlearn: 0.2202393\ttotal: 12m 28s\tremaining: 9m 35s\n",
            "311:\tlearn: 0.2200126\ttotal: 12m 30s\tremaining: 9m 32s\n",
            "312:\tlearn: 0.2196986\ttotal: 12m 33s\tremaining: 9m 30s\n",
            "313:\tlearn: 0.2194422\ttotal: 12m 35s\tremaining: 9m 28s\n",
            "314:\tlearn: 0.2192382\ttotal: 12m 37s\tremaining: 9m 25s\n",
            "315:\tlearn: 0.2189649\ttotal: 12m 40s\tremaining: 9m 22s\n",
            "316:\tlearn: 0.2185351\ttotal: 12m 42s\tremaining: 9m 20s\n",
            "317:\tlearn: 0.2183720\ttotal: 12m 44s\tremaining: 9m 17s\n",
            "318:\tlearn: 0.2181199\ttotal: 12m 47s\tremaining: 9m 15s\n",
            "319:\tlearn: 0.2178658\ttotal: 12m 49s\tremaining: 9m 13s\n",
            "320:\tlearn: 0.2177187\ttotal: 12m 51s\tremaining: 9m 10s\n",
            "321:\tlearn: 0.2174198\ttotal: 12m 54s\tremaining: 9m 8s\n",
            "322:\tlearn: 0.2172836\ttotal: 12m 56s\tremaining: 9m 5s\n",
            "323:\tlearn: 0.2170069\ttotal: 12m 58s\tremaining: 9m 3s\n",
            "324:\tlearn: 0.2167196\ttotal: 13m 1s\tremaining: 9m\n",
            "325:\tlearn: 0.2165725\ttotal: 13m 3s\tremaining: 8m 58s\n",
            "326:\tlearn: 0.2162696\ttotal: 13m 5s\tremaining: 8m 55s\n",
            "327:\tlearn: 0.2159791\ttotal: 13m 8s\tremaining: 8m 53s\n",
            "328:\tlearn: 0.2156856\ttotal: 13m 10s\tremaining: 8m 50s\n",
            "329:\tlearn: 0.2154567\ttotal: 13m 12s\tremaining: 8m 48s\n",
            "330:\tlearn: 0.2151010\ttotal: 13m 15s\tremaining: 8m 46s\n",
            "331:\tlearn: 0.2149711\ttotal: 13m 17s\tremaining: 8m 43s\n",
            "332:\tlearn: 0.2148160\ttotal: 13m 19s\tremaining: 8m 41s\n",
            "333:\tlearn: 0.2146429\ttotal: 13m 21s\tremaining: 8m 38s\n",
            "334:\tlearn: 0.2145098\ttotal: 13m 23s\tremaining: 8m 35s\n",
            "335:\tlearn: 0.2140291\ttotal: 13m 26s\tremaining: 8m 33s\n",
            "336:\tlearn: 0.2137967\ttotal: 13m 28s\tremaining: 8m 30s\n",
            "337:\tlearn: 0.2136655\ttotal: 13m 30s\tremaining: 8m 28s\n",
            "338:\tlearn: 0.2134432\ttotal: 13m 32s\tremaining: 8m 25s\n",
            "339:\tlearn: 0.2131465\ttotal: 13m 35s\tremaining: 8m 23s\n",
            "340:\tlearn: 0.2130256\ttotal: 13m 37s\tremaining: 8m 21s\n",
            "341:\tlearn: 0.2127552\ttotal: 13m 39s\tremaining: 8m 18s\n",
            "342:\tlearn: 0.2125606\ttotal: 13m 41s\tremaining: 8m 16s\n",
            "343:\tlearn: 0.2122866\ttotal: 13m 44s\tremaining: 8m 13s\n",
            "344:\tlearn: 0.2120578\ttotal: 13m 46s\tremaining: 8m 11s\n",
            "345:\tlearn: 0.2117959\ttotal: 13m 49s\tremaining: 8m 8s\n",
            "346:\tlearn: 0.2115251\ttotal: 13m 51s\tremaining: 8m 6s\n",
            "347:\tlearn: 0.2113352\ttotal: 13m 54s\tremaining: 8m 4s\n",
            "348:\tlearn: 0.2112091\ttotal: 13m 56s\tremaining: 8m 1s\n",
            "349:\tlearn: 0.2108218\ttotal: 13m 58s\tremaining: 7m 59s\n",
            "350:\tlearn: 0.2105788\ttotal: 14m\tremaining: 7m 56s\n",
            "351:\tlearn: 0.2104522\ttotal: 14m 3s\tremaining: 7m 54s\n",
            "352:\tlearn: 0.2102632\ttotal: 14m 5s\tremaining: 7m 51s\n",
            "353:\tlearn: 0.2099835\ttotal: 14m 8s\tremaining: 7m 49s\n",
            "354:\tlearn: 0.2096960\ttotal: 14m 10s\tremaining: 7m 47s\n",
            "355:\tlearn: 0.2095509\ttotal: 14m 12s\tremaining: 7m 44s\n",
            "356:\tlearn: 0.2093925\ttotal: 14m 14s\tremaining: 7m 42s\n",
            "357:\tlearn: 0.2092711\ttotal: 14m 17s\tremaining: 7m 39s\n",
            "358:\tlearn: 0.2090256\ttotal: 14m 19s\tremaining: 7m 37s\n",
            "359:\tlearn: 0.2088041\ttotal: 14m 21s\tremaining: 7m 34s\n",
            "360:\tlearn: 0.2084939\ttotal: 14m 24s\tremaining: 7m 32s\n",
            "361:\tlearn: 0.2080556\ttotal: 14m 26s\tremaining: 7m 30s\n",
            "362:\tlearn: 0.2078964\ttotal: 14m 29s\tremaining: 7m 27s\n",
            "363:\tlearn: 0.2077726\ttotal: 14m 31s\tremaining: 7m 25s\n",
            "364:\tlearn: 0.2075373\ttotal: 14m 33s\tremaining: 7m 22s\n",
            "365:\tlearn: 0.2074011\ttotal: 14m 35s\tremaining: 7m 20s\n",
            "366:\tlearn: 0.2072427\ttotal: 14m 37s\tremaining: 7m 17s\n",
            "367:\tlearn: 0.2069328\ttotal: 14m 40s\tremaining: 7m 15s\n",
            "368:\tlearn: 0.2067621\ttotal: 14m 42s\tremaining: 7m 12s\n",
            "369:\tlearn: 0.2065130\ttotal: 14m 44s\tremaining: 7m 10s\n",
            "370:\tlearn: 0.2062710\ttotal: 14m 47s\tremaining: 7m 8s\n",
            "371:\tlearn: 0.2060379\ttotal: 14m 49s\tremaining: 7m 5s\n",
            "372:\tlearn: 0.2059218\ttotal: 14m 51s\tremaining: 7m 3s\n",
            "373:\tlearn: 0.2057496\ttotal: 14m 53s\tremaining: 7m\n",
            "374:\tlearn: 0.2055804\ttotal: 14m 56s\tremaining: 6m 58s\n",
            "375:\tlearn: 0.2053957\ttotal: 14m 58s\tremaining: 6m 55s\n",
            "376:\tlearn: 0.2051549\ttotal: 15m\tremaining: 6m 53s\n",
            "377:\tlearn: 0.2049247\ttotal: 15m 3s\tremaining: 6m 50s\n",
            "378:\tlearn: 0.2048041\ttotal: 15m 5s\tremaining: 6m 48s\n",
            "379:\tlearn: 0.2045012\ttotal: 15m 7s\tremaining: 6m 46s\n",
            "380:\tlearn: 0.2042822\ttotal: 15m 10s\tremaining: 6m 43s\n",
            "381:\tlearn: 0.2041623\ttotal: 15m 12s\tremaining: 6m 41s\n",
            "382:\tlearn: 0.2040475\ttotal: 15m 14s\tremaining: 6m 38s\n",
            "383:\tlearn: 0.2039287\ttotal: 15m 16s\tremaining: 6m 36s\n",
            "384:\tlearn: 0.2036966\ttotal: 15m 18s\tremaining: 6m 33s\n",
            "385:\tlearn: 0.2035743\ttotal: 15m 20s\tremaining: 6m 31s\n",
            "386:\tlearn: 0.2034569\ttotal: 15m 23s\tremaining: 6m 28s\n",
            "387:\tlearn: 0.2033367\ttotal: 15m 25s\tremaining: 6m 26s\n",
            "388:\tlearn: 0.2030796\ttotal: 15m 27s\tremaining: 6m 23s\n",
            "389:\tlearn: 0.2027421\ttotal: 15m 30s\tremaining: 6m 21s\n",
            "390:\tlearn: 0.2026204\ttotal: 15m 32s\tremaining: 6m 19s\n",
            "391:\tlearn: 0.2025012\ttotal: 15m 34s\tremaining: 6m 16s\n",
            "392:\tlearn: 0.2023329\ttotal: 15m 36s\tremaining: 6m 14s\n",
            "393:\tlearn: 0.2022137\ttotal: 15m 38s\tremaining: 6m 11s\n",
            "394:\tlearn: 0.2020933\ttotal: 15m 40s\tremaining: 6m 9s\n",
            "395:\tlearn: 0.2018483\ttotal: 15m 43s\tremaining: 6m 6s\n",
            "396:\tlearn: 0.2017337\ttotal: 15m 45s\tremaining: 6m 4s\n",
            "397:\tlearn: 0.2016134\ttotal: 15m 47s\tremaining: 6m 1s\n",
            "398:\tlearn: 0.2013646\ttotal: 15m 49s\tremaining: 5m 59s\n",
            "399:\tlearn: 0.2012511\ttotal: 15m 51s\tremaining: 5m 56s\n",
            "400:\tlearn: 0.2010513\ttotal: 15m 54s\tremaining: 5m 54s\n",
            "401:\tlearn: 0.2008176\ttotal: 15m 56s\tremaining: 5m 52s\n",
            "402:\tlearn: 0.2007011\ttotal: 15m 59s\tremaining: 5m 49s\n",
            "403:\tlearn: 0.2005110\ttotal: 16m 1s\tremaining: 5m 47s\n",
            "404:\tlearn: 0.2002936\ttotal: 16m 3s\tremaining: 5m 44s\n",
            "405:\tlearn: 0.2000353\ttotal: 16m 5s\tremaining: 5m 42s\n",
            "406:\tlearn: 0.1998218\ttotal: 16m 8s\tremaining: 5m 40s\n",
            "407:\tlearn: 0.1995941\ttotal: 16m 10s\tremaining: 5m 37s\n",
            "408:\tlearn: 0.1994015\ttotal: 16m 13s\tremaining: 5m 35s\n",
            "409:\tlearn: 0.1992861\ttotal: 16m 15s\tremaining: 5m 32s\n",
            "410:\tlearn: 0.1991588\ttotal: 16m 17s\tremaining: 5m 30s\n",
            "411:\tlearn: 0.1990425\ttotal: 16m 19s\tremaining: 5m 28s\n",
            "412:\tlearn: 0.1988410\ttotal: 16m 21s\tremaining: 5m 25s\n",
            "413:\tlearn: 0.1985937\ttotal: 16m 24s\tremaining: 5m 23s\n",
            "414:\tlearn: 0.1984837\ttotal: 16m 26s\tremaining: 5m 20s\n",
            "415:\tlearn: 0.1982240\ttotal: 16m 29s\tremaining: 5m 18s\n",
            "416:\tlearn: 0.1980230\ttotal: 16m 31s\tremaining: 5m 16s\n",
            "417:\tlearn: 0.1979185\ttotal: 16m 33s\tremaining: 5m 13s\n",
            "418:\tlearn: 0.1978103\ttotal: 16m 35s\tremaining: 5m 11s\n",
            "419:\tlearn: 0.1975514\ttotal: 16m 38s\tremaining: 5m 8s\n",
            "420:\tlearn: 0.1973437\ttotal: 16m 40s\tremaining: 5m 6s\n",
            "421:\tlearn: 0.1972335\ttotal: 16m 42s\tremaining: 5m 4s\n",
            "422:\tlearn: 0.1970660\ttotal: 16m 44s\tremaining: 5m 1s\n",
            "423:\tlearn: 0.1968596\ttotal: 16m 47s\tremaining: 4m 59s\n",
            "424:\tlearn: 0.1966380\ttotal: 16m 49s\tremaining: 4m 56s\n",
            "425:\tlearn: 0.1963362\ttotal: 16m 52s\tremaining: 4m 54s\n",
            "426:\tlearn: 0.1962251\ttotal: 16m 54s\tremaining: 4m 52s\n",
            "427:\tlearn: 0.1960233\ttotal: 16m 56s\tremaining: 4m 49s\n",
            "428:\tlearn: 0.1957841\ttotal: 16m 59s\tremaining: 4m 47s\n",
            "429:\tlearn: 0.1955233\ttotal: 17m 1s\tremaining: 4m 45s\n",
            "430:\tlearn: 0.1954184\ttotal: 17m 3s\tremaining: 4m 42s\n",
            "431:\tlearn: 0.1952905\ttotal: 17m 5s\tremaining: 4m 40s\n",
            "432:\tlearn: 0.1950500\ttotal: 17m 8s\tremaining: 4m 37s\n",
            "433:\tlearn: 0.1944665\ttotal: 17m 10s\tremaining: 4m 35s\n",
            "434:\tlearn: 0.1942384\ttotal: 17m 13s\tremaining: 4m 33s\n",
            "435:\tlearn: 0.1939943\ttotal: 17m 15s\tremaining: 4m 30s\n",
            "436:\tlearn: 0.1937104\ttotal: 17m 17s\tremaining: 4m 28s\n",
            "437:\tlearn: 0.1935597\ttotal: 17m 19s\tremaining: 4m 25s\n",
            "438:\tlearn: 0.1934546\ttotal: 17m 21s\tremaining: 4m 23s\n",
            "439:\tlearn: 0.1932713\ttotal: 17m 24s\tremaining: 4m 21s\n",
            "440:\tlearn: 0.1930804\ttotal: 17m 26s\tremaining: 4m 18s\n",
            "441:\tlearn: 0.1929165\ttotal: 17m 28s\tremaining: 4m 16s\n",
            "442:\tlearn: 0.1927055\ttotal: 17m 30s\tremaining: 4m 13s\n",
            "443:\tlearn: 0.1925232\ttotal: 17m 33s\tremaining: 4m 11s\n",
            "444:\tlearn: 0.1922515\ttotal: 17m 35s\tremaining: 4m 9s\n",
            "445:\tlearn: 0.1921280\ttotal: 17m 37s\tremaining: 4m 6s\n",
            "446:\tlearn: 0.1919226\ttotal: 17m 40s\tremaining: 4m 4s\n",
            "447:\tlearn: 0.1916986\ttotal: 17m 42s\tremaining: 4m 1s\n",
            "448:\tlearn: 0.1914499\ttotal: 17m 44s\tremaining: 3m 59s\n",
            "449:\tlearn: 0.1912401\ttotal: 17m 47s\tremaining: 3m 57s\n",
            "450:\tlearn: 0.1909645\ttotal: 17m 49s\tremaining: 3m 54s\n",
            "451:\tlearn: 0.1907781\ttotal: 17m 52s\tremaining: 3m 52s\n",
            "452:\tlearn: 0.1906742\ttotal: 17m 54s\tremaining: 3m 50s\n",
            "453:\tlearn: 0.1903266\ttotal: 17m 56s\tremaining: 3m 47s\n",
            "454:\tlearn: 0.1901627\ttotal: 17m 58s\tremaining: 3m 45s\n",
            "455:\tlearn: 0.1899134\ttotal: 18m 1s\tremaining: 3m 42s\n",
            "456:\tlearn: 0.1896996\ttotal: 18m 3s\tremaining: 3m 40s\n",
            "457:\tlearn: 0.1896037\ttotal: 18m 5s\tremaining: 3m 38s\n",
            "458:\tlearn: 0.1894194\ttotal: 18m 8s\tremaining: 3m 35s\n",
            "459:\tlearn: 0.1893209\ttotal: 18m 10s\tremaining: 3m 33s\n",
            "460:\tlearn: 0.1891158\ttotal: 18m 12s\tremaining: 3m 30s\n",
            "461:\tlearn: 0.1889222\ttotal: 18m 15s\tremaining: 3m 28s\n",
            "462:\tlearn: 0.1886869\ttotal: 18m 17s\tremaining: 3m 26s\n",
            "463:\tlearn: 0.1884420\ttotal: 18m 19s\tremaining: 3m 23s\n",
            "464:\tlearn: 0.1883392\ttotal: 18m 22s\tremaining: 3m 21s\n",
            "465:\tlearn: 0.1882393\ttotal: 18m 24s\tremaining: 3m 19s\n",
            "466:\tlearn: 0.1880308\ttotal: 18m 26s\tremaining: 3m 16s\n",
            "467:\tlearn: 0.1879296\ttotal: 18m 28s\tremaining: 3m 14s\n",
            "468:\tlearn: 0.1877339\ttotal: 18m 31s\tremaining: 3m 11s\n",
            "469:\tlearn: 0.1875505\ttotal: 18m 33s\tremaining: 3m 9s\n",
            "470:\tlearn: 0.1874283\ttotal: 18m 35s\tremaining: 3m 7s\n",
            "471:\tlearn: 0.1872152\ttotal: 18m 38s\tremaining: 3m 4s\n",
            "472:\tlearn: 0.1870036\ttotal: 18m 40s\tremaining: 3m 2s\n",
            "473:\tlearn: 0.1868249\ttotal: 18m 42s\tremaining: 3m\n",
            "474:\tlearn: 0.1867289\ttotal: 18m 45s\tremaining: 2m 57s\n",
            "475:\tlearn: 0.1861020\ttotal: 18m 47s\tremaining: 2m 55s\n",
            "476:\tlearn: 0.1859076\ttotal: 18m 49s\tremaining: 2m 52s\n",
            "477:\tlearn: 0.1857813\ttotal: 18m 52s\tremaining: 2m 50s\n",
            "478:\tlearn: 0.1856848\ttotal: 18m 54s\tremaining: 2m 48s\n",
            "479:\tlearn: 0.1855210\ttotal: 18m 56s\tremaining: 2m 45s\n",
            "480:\tlearn: 0.1852458\ttotal: 18m 58s\tremaining: 2m 43s\n",
            "481:\tlearn: 0.1850932\ttotal: 19m 1s\tremaining: 2m 40s\n",
            "482:\tlearn: 0.1849528\ttotal: 19m 3s\tremaining: 2m 38s\n",
            "483:\tlearn: 0.1847975\ttotal: 19m 5s\tremaining: 2m 36s\n",
            "484:\tlearn: 0.1846305\ttotal: 19m 7s\tremaining: 2m 33s\n",
            "485:\tlearn: 0.1845373\ttotal: 19m 9s\tremaining: 2m 31s\n",
            "486:\tlearn: 0.1844165\ttotal: 19m 12s\tremaining: 2m 29s\n",
            "487:\tlearn: 0.1841280\ttotal: 19m 14s\tremaining: 2m 26s\n",
            "488:\tlearn: 0.1839333\ttotal: 19m 16s\tremaining: 2m 24s\n",
            "489:\tlearn: 0.1833964\ttotal: 19m 19s\tremaining: 2m 21s\n",
            "490:\tlearn: 0.1832430\ttotal: 19m 21s\tremaining: 2m 19s\n",
            "491:\tlearn: 0.1829608\ttotal: 19m 23s\tremaining: 2m 17s\n",
            "492:\tlearn: 0.1827853\ttotal: 19m 25s\tremaining: 2m 14s\n",
            "493:\tlearn: 0.1825877\ttotal: 19m 28s\tremaining: 2m 12s\n",
            "494:\tlearn: 0.1824905\ttotal: 19m 30s\tremaining: 2m 10s\n",
            "495:\tlearn: 0.1823351\ttotal: 19m 32s\tremaining: 2m 7s\n",
            "496:\tlearn: 0.1821648\ttotal: 19m 34s\tremaining: 2m 5s\n",
            "497:\tlearn: 0.1820677\ttotal: 19m 37s\tremaining: 2m 2s\n",
            "498:\tlearn: 0.1818737\ttotal: 19m 39s\tremaining: 2m\n",
            "499:\tlearn: 0.1817321\ttotal: 19m 41s\tremaining: 1m 58s\n",
            "500:\tlearn: 0.1816337\ttotal: 19m 43s\tremaining: 1m 55s\n",
            "501:\tlearn: 0.1815385\ttotal: 19m 45s\tremaining: 1m 53s\n",
            "502:\tlearn: 0.1812942\ttotal: 19m 48s\tremaining: 1m 51s\n",
            "503:\tlearn: 0.1811982\ttotal: 19m 50s\tremaining: 1m 48s\n",
            "504:\tlearn: 0.1810567\ttotal: 19m 52s\tremaining: 1m 46s\n",
            "505:\tlearn: 0.1809638\ttotal: 19m 54s\tremaining: 1m 43s\n",
            "506:\tlearn: 0.1808217\ttotal: 19m 57s\tremaining: 1m 41s\n",
            "507:\tlearn: 0.1806578\ttotal: 19m 59s\tremaining: 1m 39s\n",
            "508:\tlearn: 0.1804784\ttotal: 20m 1s\tremaining: 1m 36s\n",
            "509:\tlearn: 0.1803853\ttotal: 20m 4s\tremaining: 1m 34s\n",
            "510:\tlearn: 0.1801920\ttotal: 20m 6s\tremaining: 1m 32s\n",
            "511:\tlearn: 0.1800069\ttotal: 20m 8s\tremaining: 1m 29s\n",
            "512:\tlearn: 0.1798904\ttotal: 20m 10s\tremaining: 1m 27s\n",
            "513:\tlearn: 0.1797099\ttotal: 20m 13s\tremaining: 1m 24s\n",
            "514:\tlearn: 0.1796148\ttotal: 20m 15s\tremaining: 1m 22s\n",
            "515:\tlearn: 0.1794010\ttotal: 20m 17s\tremaining: 1m 20s\n",
            "516:\tlearn: 0.1792719\ttotal: 20m 19s\tremaining: 1m 17s\n",
            "517:\tlearn: 0.1790910\ttotal: 20m 22s\tremaining: 1m 15s\n",
            "518:\tlearn: 0.1790007\ttotal: 20m 24s\tremaining: 1m 13s\n",
            "519:\tlearn: 0.1788042\ttotal: 20m 26s\tremaining: 1m 10s\n",
            "520:\tlearn: 0.1786230\ttotal: 20m 29s\tremaining: 1m 8s\n",
            "521:\tlearn: 0.1785359\ttotal: 20m 31s\tremaining: 1m 6s\n",
            "522:\tlearn: 0.1783222\ttotal: 20m 33s\tremaining: 1m 3s\n",
            "523:\tlearn: 0.1781341\ttotal: 20m 35s\tremaining: 1m 1s\n",
            "524:\tlearn: 0.1780174\ttotal: 20m 38s\tremaining: 59s\n",
            "525:\tlearn: 0.1779287\ttotal: 20m 40s\tremaining: 56.6s\n",
            "526:\tlearn: 0.1776994\ttotal: 20m 42s\tremaining: 54.2s\n",
            "527:\tlearn: 0.1775195\ttotal: 20m 45s\tremaining: 51.9s\n",
            "528:\tlearn: 0.1773970\ttotal: 20m 47s\tremaining: 49.5s\n",
            "529:\tlearn: 0.1772584\ttotal: 20m 49s\tremaining: 47.2s\n",
            "530:\tlearn: 0.1771656\ttotal: 20m 51s\tremaining: 44.8s\n",
            "531:\tlearn: 0.1770379\ttotal: 20m 53s\tremaining: 42.4s\n",
            "532:\tlearn: 0.1769420\ttotal: 20m 56s\tremaining: 40.1s\n",
            "533:\tlearn: 0.1767564\ttotal: 20m 58s\tremaining: 37.7s\n",
            "534:\tlearn: 0.1765659\ttotal: 21m 1s\tremaining: 35.4s\n",
            "535:\tlearn: 0.1764802\ttotal: 21m 3s\tremaining: 33s\n",
            "536:\tlearn: 0.1763878\ttotal: 21m 5s\tremaining: 30.6s\n",
            "537:\tlearn: 0.1762927\ttotal: 21m 7s\tremaining: 28.3s\n",
            "538:\tlearn: 0.1760739\ttotal: 21m 9s\tremaining: 25.9s\n",
            "539:\tlearn: 0.1759898\ttotal: 21m 11s\tremaining: 23.6s\n",
            "540:\tlearn: 0.1757859\ttotal: 21m 14s\tremaining: 21.2s\n",
            "541:\tlearn: 0.1756261\ttotal: 21m 16s\tremaining: 18.8s\n",
            "542:\tlearn: 0.1755328\ttotal: 21m 18s\tremaining: 16.5s\n",
            "543:\tlearn: 0.1753426\ttotal: 21m 21s\tremaining: 14.1s\n",
            "544:\tlearn: 0.1751657\ttotal: 21m 23s\tremaining: 11.8s\n",
            "545:\tlearn: 0.1749794\ttotal: 21m 25s\tremaining: 9.42s\n",
            "546:\tlearn: 0.1748631\ttotal: 21m 28s\tremaining: 7.06s\n",
            "547:\tlearn: 0.1747769\ttotal: 21m 30s\tremaining: 4.71s\n",
            "548:\tlearn: 0.1745165\ttotal: 21m 32s\tremaining: 2.35s\n",
            "549:\tlearn: 0.1744348\ttotal: 21m 34s\tremaining: 0us\n",
            "F1 мера решающего дерева:  0.7470108695652175\n"
          ]
        }
      ],
      "source": [
        "from catboost import CatBoostClassifier\n",
        "\n",
        "CatBoost_model = CatBoostClassifier(random_state=11111, iterations = 550).fit(features_train, target_train)\n",
        "print(\"F1 мера решающего дерева: \", f1_score(target_test, CatBoost_model.predict(features_test)))"
      ]
    },
    {
      "cell_type": "code",
      "execution_count": null,
      "metadata": {
        "id": "zga71xOHOszH",
        "outputId": "c2e5bf34-55ea-4f1a-f47b-1ec56142093f"
      },
      "outputs": [
        {
          "name": "stdout",
          "output_type": "stream",
          "text": [
            "Learning rate set to 0.164752\n",
            "0:\tlearn: 0.6242676\ttotal: 3.4s\tremaining: 31m 4s\n",
            "1:\tlearn: 0.5879425\ttotal: 5.95s\tremaining: 27m 10s\n",
            "2:\tlearn: 0.5643847\ttotal: 8.53s\tremaining: 25m 55s\n",
            "3:\tlearn: 0.5471847\ttotal: 11.1s\tremaining: 25m 15s\n",
            "4:\tlearn: 0.5344312\ttotal: 13.7s\tremaining: 24m 50s\n",
            "5:\tlearn: 0.5251229\ttotal: 16.3s\tremaining: 24m 37s\n",
            "6:\tlearn: 0.5128329\ttotal: 18.9s\tremaining: 24m 23s\n",
            "7:\tlearn: 0.5013665\ttotal: 21.5s\tremaining: 24m 18s\n",
            "8:\tlearn: 0.4920651\ttotal: 24.1s\tremaining: 24m 9s\n",
            "9:\tlearn: 0.4860315\ttotal: 26.7s\tremaining: 24m 2s\n",
            "10:\tlearn: 0.4795967\ttotal: 29.3s\tremaining: 23m 56s\n",
            "11:\tlearn: 0.4750772\ttotal: 32s\tremaining: 23m 52s\n",
            "12:\tlearn: 0.4694948\ttotal: 34.6s\tremaining: 23m 47s\n",
            "13:\tlearn: 0.4652705\ttotal: 37.3s\tremaining: 23m 49s\n",
            "14:\tlearn: 0.4580304\ttotal: 39.9s\tremaining: 23m 43s\n",
            "15:\tlearn: 0.4516015\ttotal: 42.6s\tremaining: 23m 40s\n",
            "16:\tlearn: 0.4460995\ttotal: 45.2s\tremaining: 23m 35s\n",
            "17:\tlearn: 0.4417787\ttotal: 47.8s\tremaining: 23m 31s\n",
            "18:\tlearn: 0.4381228\ttotal: 50.4s\tremaining: 23m 27s\n",
            "19:\tlearn: 0.4346890\ttotal: 53s\tremaining: 23m 23s\n",
            "20:\tlearn: 0.4310233\ttotal: 55.6s\tremaining: 23m 19s\n",
            "21:\tlearn: 0.4261442\ttotal: 58.1s\tremaining: 23m 15s\n",
            "22:\tlearn: 0.4235546\ttotal: 1m\tremaining: 23m 11s\n",
            "23:\tlearn: 0.4211313\ttotal: 1m 3s\tremaining: 23m 9s\n",
            "24:\tlearn: 0.4183780\ttotal: 1m 5s\tremaining: 23m 5s\n",
            "25:\tlearn: 0.4162385\ttotal: 1m 8s\tremaining: 23m 2s\n",
            "26:\tlearn: 0.4130603\ttotal: 1m 11s\tremaining: 23m\n",
            "27:\tlearn: 0.4103781\ttotal: 1m 14s\tremaining: 23m\n",
            "28:\tlearn: 0.4079423\ttotal: 1m 16s\tremaining: 22m 58s\n",
            "29:\tlearn: 0.4060472\ttotal: 1m 19s\tremaining: 22m 54s\n",
            "30:\tlearn: 0.4037332\ttotal: 1m 21s\tremaining: 22m 51s\n",
            "31:\tlearn: 0.4013305\ttotal: 1m 24s\tremaining: 22m 46s\n",
            "32:\tlearn: 0.3985911\ttotal: 1m 26s\tremaining: 22m 42s\n",
            "33:\tlearn: 0.3965050\ttotal: 1m 29s\tremaining: 22m 39s\n",
            "34:\tlearn: 0.3941563\ttotal: 1m 32s\tremaining: 22m 36s\n",
            "35:\tlearn: 0.3920896\ttotal: 1m 34s\tremaining: 22m 33s\n",
            "36:\tlearn: 0.3902578\ttotal: 1m 37s\tremaining: 22m 30s\n",
            "37:\tlearn: 0.3880118\ttotal: 1m 39s\tremaining: 22m 25s\n",
            "38:\tlearn: 0.3860442\ttotal: 1m 42s\tremaining: 22m 21s\n",
            "39:\tlearn: 0.3844286\ttotal: 1m 45s\tremaining: 22m 18s\n",
            "40:\tlearn: 0.3829901\ttotal: 1m 47s\tremaining: 22m 15s\n",
            "41:\tlearn: 0.3815692\ttotal: 1m 50s\tremaining: 22m 11s\n",
            "42:\tlearn: 0.3799333\ttotal: 1m 52s\tremaining: 22m 7s\n",
            "43:\tlearn: 0.3781838\ttotal: 1m 55s\tremaining: 22m 4s\n",
            "44:\tlearn: 0.3763653\ttotal: 1m 57s\tremaining: 22m 1s\n",
            "45:\tlearn: 0.3750748\ttotal: 2m\tremaining: 21m 58s\n",
            "46:\tlearn: 0.3737539\ttotal: 2m 2s\tremaining: 21m 55s\n",
            "47:\tlearn: 0.3716420\ttotal: 2m 5s\tremaining: 21m 53s\n",
            "48:\tlearn: 0.3687522\ttotal: 2m 8s\tremaining: 21m 48s\n",
            "49:\tlearn: 0.3674874\ttotal: 2m 10s\tremaining: 21m 46s\n",
            "50:\tlearn: 0.3656971\ttotal: 2m 13s\tremaining: 21m 42s\n",
            "51:\tlearn: 0.3637410\ttotal: 2m 15s\tremaining: 21m 40s\n",
            "52:\tlearn: 0.3627047\ttotal: 2m 18s\tremaining: 21m 37s\n",
            "53:\tlearn: 0.3613649\ttotal: 2m 20s\tremaining: 21m 33s\n",
            "54:\tlearn: 0.3600998\ttotal: 2m 23s\tremaining: 21m 29s\n",
            "55:\tlearn: 0.3587434\ttotal: 2m 25s\tremaining: 21m 26s\n",
            "56:\tlearn: 0.3574928\ttotal: 2m 28s\tremaining: 21m 23s\n",
            "57:\tlearn: 0.3563780\ttotal: 2m 30s\tremaining: 21m 19s\n",
            "58:\tlearn: 0.3553339\ttotal: 2m 33s\tremaining: 21m 16s\n",
            "59:\tlearn: 0.3541210\ttotal: 2m 36s\tremaining: 21m 14s\n",
            "60:\tlearn: 0.3532667\ttotal: 2m 38s\tremaining: 21m 11s\n",
            "61:\tlearn: 0.3515262\ttotal: 2m 41s\tremaining: 21m 8s\n",
            "62:\tlearn: 0.3504197\ttotal: 2m 43s\tremaining: 21m 6s\n",
            "63:\tlearn: 0.3489000\ttotal: 2m 46s\tremaining: 21m 3s\n",
            "64:\tlearn: 0.3475510\ttotal: 2m 48s\tremaining: 21m\n",
            "65:\tlearn: 0.3460708\ttotal: 2m 51s\tremaining: 20m 57s\n",
            "66:\tlearn: 0.3450954\ttotal: 2m 54s\tremaining: 20m 54s\n",
            "67:\tlearn: 0.3436572\ttotal: 2m 56s\tremaining: 20m 52s\n",
            "68:\tlearn: 0.3426140\ttotal: 2m 59s\tremaining: 20m 48s\n",
            "69:\tlearn: 0.3416213\ttotal: 3m 1s\tremaining: 20m 46s\n",
            "70:\tlearn: 0.3402369\ttotal: 3m 4s\tremaining: 20m 43s\n",
            "71:\tlearn: 0.3384434\ttotal: 3m 6s\tremaining: 20m 40s\n",
            "72:\tlearn: 0.3370731\ttotal: 3m 9s\tremaining: 20m 37s\n",
            "73:\tlearn: 0.3361509\ttotal: 3m 11s\tremaining: 20m 34s\n",
            "74:\tlearn: 0.3352428\ttotal: 3m 14s\tremaining: 20m 30s\n",
            "75:\tlearn: 0.3343985\ttotal: 3m 16s\tremaining: 20m 27s\n",
            "76:\tlearn: 0.3333159\ttotal: 3m 19s\tremaining: 20m 23s\n",
            "77:\tlearn: 0.3324642\ttotal: 3m 21s\tremaining: 20m 21s\n",
            "78:\tlearn: 0.3313551\ttotal: 3m 24s\tremaining: 20m 18s\n",
            "79:\tlearn: 0.3305333\ttotal: 3m 26s\tremaining: 20m 14s\n",
            "80:\tlearn: 0.3294875\ttotal: 3m 29s\tremaining: 20m 11s\n",
            "81:\tlearn: 0.3285635\ttotal: 3m 31s\tremaining: 20m 9s\n",
            "82:\tlearn: 0.3278425\ttotal: 3m 34s\tremaining: 20m 6s\n",
            "83:\tlearn: 0.3267769\ttotal: 3m 36s\tremaining: 20m 3s\n",
            "84:\tlearn: 0.3259924\ttotal: 3m 39s\tremaining: 19m 59s\n",
            "85:\tlearn: 0.3244042\ttotal: 3m 41s\tremaining: 19m 56s\n",
            "86:\tlearn: 0.3236229\ttotal: 3m 44s\tremaining: 19m 53s\n",
            "87:\tlearn: 0.3227457\ttotal: 3m 46s\tremaining: 19m 50s\n",
            "88:\tlearn: 0.3218825\ttotal: 3m 49s\tremaining: 19m 47s\n",
            "89:\tlearn: 0.3207384\ttotal: 3m 51s\tremaining: 19m 45s\n",
            "90:\tlearn: 0.3200623\ttotal: 3m 54s\tremaining: 19m 42s\n",
            "91:\tlearn: 0.3192398\ttotal: 3m 56s\tremaining: 19m 39s\n",
            "92:\tlearn: 0.3183226\ttotal: 3m 59s\tremaining: 19m 36s\n",
            "93:\tlearn: 0.3175802\ttotal: 4m 1s\tremaining: 19m 33s\n",
            "94:\tlearn: 0.3167656\ttotal: 4m 4s\tremaining: 19m 30s\n",
            "95:\tlearn: 0.3153255\ttotal: 4m 6s\tremaining: 19m 27s\n",
            "96:\tlearn: 0.3141469\ttotal: 4m 9s\tremaining: 19m 24s\n",
            "97:\tlearn: 0.3134872\ttotal: 4m 11s\tremaining: 19m 20s\n",
            "98:\tlearn: 0.3128757\ttotal: 4m 14s\tremaining: 19m 18s\n",
            "99:\tlearn: 0.3117409\ttotal: 4m 16s\tremaining: 19m 15s\n",
            "100:\tlearn: 0.3109455\ttotal: 4m 19s\tremaining: 19m 12s\n",
            "101:\tlearn: 0.3102207\ttotal: 4m 21s\tremaining: 19m 9s\n",
            "102:\tlearn: 0.3095189\ttotal: 4m 24s\tremaining: 19m 6s\n",
            "103:\tlearn: 0.3087454\ttotal: 4m 26s\tremaining: 19m 4s\n",
            "104:\tlearn: 0.3080938\ttotal: 4m 29s\tremaining: 19m 1s\n",
            "105:\tlearn: 0.3073559\ttotal: 4m 32s\tremaining: 18m 59s\n",
            "106:\tlearn: 0.3066162\ttotal: 4m 34s\tremaining: 18m 56s\n",
            "107:\tlearn: 0.3060558\ttotal: 4m 37s\tremaining: 18m 54s\n",
            "108:\tlearn: 0.3047279\ttotal: 4m 39s\tremaining: 18m 51s\n",
            "109:\tlearn: 0.3041438\ttotal: 4m 41s\tremaining: 18m 47s\n",
            "110:\tlearn: 0.3032186\ttotal: 4m 44s\tremaining: 18m 45s\n",
            "111:\tlearn: 0.3025011\ttotal: 4m 47s\tremaining: 18m 42s\n",
            "112:\tlearn: 0.3018849\ttotal: 4m 49s\tremaining: 18m 40s\n",
            "113:\tlearn: 0.3012088\ttotal: 4m 52s\tremaining: 18m 38s\n",
            "114:\tlearn: 0.3005898\ttotal: 4m 54s\tremaining: 18m 35s\n",
            "115:\tlearn: 0.2998157\ttotal: 4m 57s\tremaining: 18m 33s\n",
            "116:\tlearn: 0.2991962\ttotal: 5m\tremaining: 18m 30s\n",
            "117:\tlearn: 0.2975328\ttotal: 5m 2s\tremaining: 18m 27s\n",
            "118:\tlearn: 0.2969836\ttotal: 5m 5s\tremaining: 18m 25s\n",
            "119:\tlearn: 0.2963495\ttotal: 5m 7s\tremaining: 18m 22s\n",
            "120:\tlearn: 0.2955738\ttotal: 5m 9s\tremaining: 18m 18s\n",
            "121:\tlearn: 0.2950101\ttotal: 5m 12s\tremaining: 18m 16s\n",
            "122:\tlearn: 0.2945217\ttotal: 5m 15s\tremaining: 18m 13s\n",
            "123:\tlearn: 0.2939698\ttotal: 5m 17s\tremaining: 18m 11s\n",
            "124:\tlearn: 0.2932089\ttotal: 5m 20s\tremaining: 18m 8s\n",
            "125:\tlearn: 0.2925548\ttotal: 5m 22s\tremaining: 18m 6s\n",
            "126:\tlearn: 0.2918886\ttotal: 5m 25s\tremaining: 18m 3s\n",
            "127:\tlearn: 0.2913344\ttotal: 5m 27s\tremaining: 18m\n",
            "128:\tlearn: 0.2907601\ttotal: 5m 30s\tremaining: 17m 57s\n",
            "129:\tlearn: 0.2901135\ttotal: 5m 32s\tremaining: 17m 55s\n",
            "130:\tlearn: 0.2895377\ttotal: 5m 35s\tremaining: 17m 52s\n",
            "131:\tlearn: 0.2889984\ttotal: 5m 37s\tremaining: 17m 49s\n",
            "132:\tlearn: 0.2884171\ttotal: 5m 40s\tremaining: 17m 46s\n",
            "133:\tlearn: 0.2878077\ttotal: 5m 42s\tremaining: 17m 43s\n",
            "134:\tlearn: 0.2872427\ttotal: 5m 44s\tremaining: 17m 40s\n",
            "135:\tlearn: 0.2866609\ttotal: 5m 47s\tremaining: 17m 37s\n",
            "136:\tlearn: 0.2861382\ttotal: 5m 50s\tremaining: 17m 35s\n",
            "137:\tlearn: 0.2856864\ttotal: 5m 52s\tremaining: 17m 32s\n",
            "138:\tlearn: 0.2852136\ttotal: 5m 54s\tremaining: 17m 29s\n",
            "139:\tlearn: 0.2846003\ttotal: 5m 57s\tremaining: 17m 26s\n",
            "140:\tlearn: 0.2840139\ttotal: 5m 59s\tremaining: 17m 23s\n",
            "141:\tlearn: 0.2834964\ttotal: 6m 2s\tremaining: 17m 20s\n",
            "142:\tlearn: 0.2828907\ttotal: 6m 4s\tremaining: 17m 18s\n",
            "143:\tlearn: 0.2823493\ttotal: 6m 7s\tremaining: 17m 15s\n",
            "144:\tlearn: 0.2818118\ttotal: 6m 9s\tremaining: 17m 12s\n",
            "145:\tlearn: 0.2813445\ttotal: 6m 12s\tremaining: 17m 9s\n",
            "146:\tlearn: 0.2808746\ttotal: 6m 14s\tremaining: 17m 6s\n",
            "147:\tlearn: 0.2803868\ttotal: 6m 16s\tremaining: 17m 3s\n",
            "148:\tlearn: 0.2798132\ttotal: 6m 19s\tremaining: 17m\n",
            "149:\tlearn: 0.2792473\ttotal: 6m 21s\tremaining: 16m 58s\n",
            "150:\tlearn: 0.2786149\ttotal: 6m 24s\tremaining: 16m 55s\n",
            "151:\tlearn: 0.2778165\ttotal: 6m 26s\tremaining: 16m 52s\n",
            "152:\tlearn: 0.2774800\ttotal: 6m 28s\tremaining: 16m 49s\n",
            "153:\tlearn: 0.2769658\ttotal: 6m 31s\tremaining: 16m 46s\n",
            "154:\tlearn: 0.2765843\ttotal: 6m 33s\tremaining: 16m 43s\n",
            "155:\tlearn: 0.2761636\ttotal: 6m 36s\tremaining: 16m 40s\n",
            "156:\tlearn: 0.2756467\ttotal: 6m 38s\tremaining: 16m 37s\n",
            "157:\tlearn: 0.2751910\ttotal: 6m 40s\tremaining: 16m 34s\n",
            "158:\tlearn: 0.2748004\ttotal: 6m 43s\tremaining: 16m 31s\n",
            "159:\tlearn: 0.2744181\ttotal: 6m 45s\tremaining: 16m 28s\n",
            "160:\tlearn: 0.2739242\ttotal: 6m 48s\tremaining: 16m 26s\n",
            "161:\tlearn: 0.2732955\ttotal: 6m 50s\tremaining: 16m 23s\n",
            "162:\tlearn: 0.2726999\ttotal: 6m 52s\tremaining: 16m 20s\n",
            "163:\tlearn: 0.2722429\ttotal: 6m 55s\tremaining: 16m 17s\n",
            "164:\tlearn: 0.2717294\ttotal: 6m 57s\tremaining: 16m 14s\n",
            "165:\tlearn: 0.2712840\ttotal: 7m\tremaining: 16m 11s\n",
            "166:\tlearn: 0.2708533\ttotal: 7m 2s\tremaining: 16m 9s\n",
            "167:\tlearn: 0.2700308\ttotal: 7m 4s\tremaining: 16m 6s\n",
            "168:\tlearn: 0.2697528\ttotal: 7m 7s\tremaining: 16m 3s\n",
            "169:\tlearn: 0.2693184\ttotal: 7m 9s\tremaining: 16m\n",
            "170:\tlearn: 0.2690478\ttotal: 7m 11s\tremaining: 15m 57s\n",
            "171:\tlearn: 0.2686024\ttotal: 7m 14s\tremaining: 15m 54s\n",
            "172:\tlearn: 0.2673321\ttotal: 7m 17s\tremaining: 15m 52s\n",
            "173:\tlearn: 0.2666434\ttotal: 7m 19s\tremaining: 15m 49s\n",
            "174:\tlearn: 0.2660435\ttotal: 7m 21s\tremaining: 15m 47s\n",
            "175:\tlearn: 0.2655983\ttotal: 7m 24s\tremaining: 15m 44s\n",
            "176:\tlearn: 0.2651393\ttotal: 7m 27s\tremaining: 15m 42s\n",
            "177:\tlearn: 0.2647396\ttotal: 7m 29s\tremaining: 15m 39s\n",
            "178:\tlearn: 0.2642452\ttotal: 7m 32s\tremaining: 15m 36s\n",
            "179:\tlearn: 0.2638062\ttotal: 7m 34s\tremaining: 15m 34s\n",
            "180:\tlearn: 0.2633732\ttotal: 7m 37s\tremaining: 15m 32s\n",
            "181:\tlearn: 0.2628581\ttotal: 7m 39s\tremaining: 15m 29s\n",
            "182:\tlearn: 0.2624802\ttotal: 7m 42s\tremaining: 15m 26s\n",
            "183:\tlearn: 0.2621083\ttotal: 7m 44s\tremaining: 15m 24s\n",
            "184:\tlearn: 0.2615649\ttotal: 7m 47s\tremaining: 15m 21s\n",
            "185:\tlearn: 0.2612547\ttotal: 7m 49s\tremaining: 15m 18s\n",
            "186:\tlearn: 0.2607951\ttotal: 7m 51s\tremaining: 15m 16s\n",
            "187:\tlearn: 0.2604916\ttotal: 7m 54s\tremaining: 15m 12s\n",
            "188:\tlearn: 0.2598401\ttotal: 7m 56s\tremaining: 15m 10s\n",
            "189:\tlearn: 0.2594921\ttotal: 7m 58s\tremaining: 15m 7s\n",
            "190:\tlearn: 0.2591020\ttotal: 8m 1s\tremaining: 15m 4s\n",
            "191:\tlearn: 0.2587837\ttotal: 8m 3s\tremaining: 15m 1s\n",
            "192:\tlearn: 0.2582986\ttotal: 8m 6s\tremaining: 14m 59s\n",
            "193:\tlearn: 0.2579996\ttotal: 8m 8s\tremaining: 14m 56s\n",
            "194:\tlearn: 0.2575655\ttotal: 8m 10s\tremaining: 14m 53s\n",
            "195:\tlearn: 0.2572090\ttotal: 8m 13s\tremaining: 14m 50s\n",
            "196:\tlearn: 0.2568668\ttotal: 8m 15s\tremaining: 14m 47s\n",
            "197:\tlearn: 0.2563202\ttotal: 8m 17s\tremaining: 14m 45s\n",
            "198:\tlearn: 0.2560685\ttotal: 8m 20s\tremaining: 14m 42s\n",
            "199:\tlearn: 0.2557870\ttotal: 8m 22s\tremaining: 14m 39s\n",
            "200:\tlearn: 0.2554365\ttotal: 8m 24s\tremaining: 14m 36s\n",
            "201:\tlearn: 0.2550479\ttotal: 8m 27s\tremaining: 14m 33s\n",
            "202:\tlearn: 0.2546428\ttotal: 8m 29s\tremaining: 14m 30s\n",
            "203:\tlearn: 0.2542331\ttotal: 8m 31s\tremaining: 14m 28s\n",
            "204:\tlearn: 0.2538327\ttotal: 8m 34s\tremaining: 14m 25s\n",
            "205:\tlearn: 0.2533921\ttotal: 8m 36s\tremaining: 14m 22s\n",
            "206:\tlearn: 0.2529569\ttotal: 8m 39s\tremaining: 14m 20s\n",
            "207:\tlearn: 0.2527330\ttotal: 8m 41s\tremaining: 14m 17s\n",
            "208:\tlearn: 0.2523661\ttotal: 8m 43s\tremaining: 14m 14s\n",
            "209:\tlearn: 0.2512563\ttotal: 8m 46s\tremaining: 14m 12s\n",
            "210:\tlearn: 0.2508673\ttotal: 8m 48s\tremaining: 14m 9s\n",
            "211:\tlearn: 0.2504523\ttotal: 8m 51s\tremaining: 14m 7s\n",
            "212:\tlearn: 0.2500252\ttotal: 8m 53s\tremaining: 14m 4s\n",
            "213:\tlearn: 0.2495423\ttotal: 8m 56s\tremaining: 14m 1s\n",
            "214:\tlearn: 0.2490342\ttotal: 8m 58s\tremaining: 13m 59s\n",
            "215:\tlearn: 0.2485884\ttotal: 9m 1s\tremaining: 13m 56s\n",
            "216:\tlearn: 0.2483182\ttotal: 9m 3s\tremaining: 13m 53s\n",
            "217:\tlearn: 0.2479645\ttotal: 9m 5s\tremaining: 13m 51s\n",
            "218:\tlearn: 0.2476071\ttotal: 9m 8s\tremaining: 13m 48s\n",
            "219:\tlearn: 0.2473085\ttotal: 9m 10s\tremaining: 13m 45s\n",
            "220:\tlearn: 0.2470751\ttotal: 9m 12s\tremaining: 13m 42s\n",
            "221:\tlearn: 0.2468068\ttotal: 9m 15s\tremaining: 13m 40s\n",
            "222:\tlearn: 0.2464012\ttotal: 9m 17s\tremaining: 13m 37s\n",
            "223:\tlearn: 0.2461571\ttotal: 9m 19s\tremaining: 13m 34s\n",
            "224:\tlearn: 0.2459385\ttotal: 9m 21s\tremaining: 13m 31s\n",
            "225:\tlearn: 0.2456188\ttotal: 9m 24s\tremaining: 13m 28s\n",
            "226:\tlearn: 0.2452803\ttotal: 9m 26s\tremaining: 13m 26s\n",
            "227:\tlearn: 0.2449882\ttotal: 9m 28s\tremaining: 13m 23s\n",
            "228:\tlearn: 0.2444744\ttotal: 9m 31s\tremaining: 13m 20s\n",
            "229:\tlearn: 0.2440879\ttotal: 9m 33s\tremaining: 13m 18s\n",
            "230:\tlearn: 0.2436785\ttotal: 9m 36s\tremaining: 13m 15s\n",
            "231:\tlearn: 0.2432914\ttotal: 9m 38s\tremaining: 13m 13s\n",
            "232:\tlearn: 0.2430516\ttotal: 9m 40s\tremaining: 13m 10s\n",
            "233:\tlearn: 0.2428737\ttotal: 9m 43s\tremaining: 13m 7s\n",
            "234:\tlearn: 0.2424489\ttotal: 9m 45s\tremaining: 13m 5s\n",
            "235:\tlearn: 0.2421998\ttotal: 9m 47s\tremaining: 13m 2s\n",
            "236:\tlearn: 0.2418414\ttotal: 9m 50s\tremaining: 12m 59s\n",
            "237:\tlearn: 0.2412182\ttotal: 9m 52s\tremaining: 12m 57s\n",
            "238:\tlearn: 0.2409116\ttotal: 9m 55s\tremaining: 12m 54s\n",
            "239:\tlearn: 0.2404779\ttotal: 9m 57s\tremaining: 12m 51s\n",
            "240:\tlearn: 0.2399664\ttotal: 9m 59s\tremaining: 12m 48s\n",
            "241:\tlearn: 0.2396457\ttotal: 10m 2s\tremaining: 12m 46s\n",
            "242:\tlearn: 0.2394698\ttotal: 10m 4s\tremaining: 12m 43s\n",
            "243:\tlearn: 0.2391969\ttotal: 10m 6s\tremaining: 12m 40s\n",
            "244:\tlearn: 0.2388096\ttotal: 10m 9s\tremaining: 12m 38s\n",
            "245:\tlearn: 0.2384763\ttotal: 10m 11s\tremaining: 12m 35s\n",
            "246:\tlearn: 0.2382223\ttotal: 10m 13s\tremaining: 12m 33s\n",
            "247:\tlearn: 0.2378496\ttotal: 10m 16s\tremaining: 12m 30s\n",
            "248:\tlearn: 0.2375006\ttotal: 10m 18s\tremaining: 12m 28s\n",
            "249:\tlearn: 0.2372817\ttotal: 10m 21s\tremaining: 12m 25s\n",
            "250:\tlearn: 0.2368410\ttotal: 10m 23s\tremaining: 12m 22s\n",
            "251:\tlearn: 0.2365039\ttotal: 10m 26s\tremaining: 12m 20s\n",
            "252:\tlearn: 0.2361809\ttotal: 10m 28s\tremaining: 12m 17s\n",
            "253:\tlearn: 0.2359173\ttotal: 10m 30s\tremaining: 12m 15s\n",
            "254:\tlearn: 0.2357482\ttotal: 10m 33s\tremaining: 12m 12s\n",
            "255:\tlearn: 0.2354364\ttotal: 10m 35s\tremaining: 12m 9s\n",
            "256:\tlearn: 0.2351536\ttotal: 10m 37s\tremaining: 12m 7s\n",
            "257:\tlearn: 0.2349526\ttotal: 10m 40s\tremaining: 12m 4s\n",
            "258:\tlearn: 0.2346424\ttotal: 10m 42s\tremaining: 12m 1s\n",
            "259:\tlearn: 0.2344912\ttotal: 10m 44s\tremaining: 11m 59s\n",
            "260:\tlearn: 0.2340566\ttotal: 10m 47s\tremaining: 11m 56s\n",
            "261:\tlearn: 0.2337973\ttotal: 10m 49s\tremaining: 11m 53s\n",
            "262:\tlearn: 0.2336084\ttotal: 10m 51s\tremaining: 11m 51s\n",
            "263:\tlearn: 0.2333012\ttotal: 10m 54s\tremaining: 11m 48s\n",
            "264:\tlearn: 0.2331210\ttotal: 10m 56s\tremaining: 11m 45s\n",
            "265:\tlearn: 0.2327379\ttotal: 10m 58s\tremaining: 11m 43s\n",
            "266:\tlearn: 0.2324730\ttotal: 11m 1s\tremaining: 11m 40s\n",
            "267:\tlearn: 0.2322164\ttotal: 11m 3s\tremaining: 11m 38s\n",
            "268:\tlearn: 0.2318913\ttotal: 11m 6s\tremaining: 11m 36s\n",
            "269:\tlearn: 0.2317157\ttotal: 11m 8s\tremaining: 11m 33s\n",
            "270:\tlearn: 0.2314400\ttotal: 11m 10s\tremaining: 11m 30s\n",
            "271:\tlearn: 0.2311249\ttotal: 11m 13s\tremaining: 11m 28s\n",
            "272:\tlearn: 0.2309261\ttotal: 11m 15s\tremaining: 11m 25s\n",
            "273:\tlearn: 0.2305365\ttotal: 11m 18s\tremaining: 11m 23s\n",
            "274:\tlearn: 0.2301934\ttotal: 11m 20s\tremaining: 11m 20s\n",
            "275:\tlearn: 0.2300370\ttotal: 11m 22s\tremaining: 11m 17s\n",
            "276:\tlearn: 0.2298413\ttotal: 11m 24s\tremaining: 11m 15s\n",
            "277:\tlearn: 0.2295672\ttotal: 11m 27s\tremaining: 11m 12s\n",
            "278:\tlearn: 0.2292487\ttotal: 11m 29s\tremaining: 11m 10s\n",
            "279:\tlearn: 0.2289411\ttotal: 11m 32s\tremaining: 11m 7s\n",
            "280:\tlearn: 0.2285956\ttotal: 11m 34s\tremaining: 11m 5s\n",
            "281:\tlearn: 0.2282988\ttotal: 11m 37s\tremaining: 11m 2s\n",
            "282:\tlearn: 0.2278488\ttotal: 11m 39s\tremaining: 11m\n",
            "283:\tlearn: 0.2277000\ttotal: 11m 41s\tremaining: 10m 57s\n",
            "284:\tlearn: 0.2273488\ttotal: 11m 44s\tremaining: 10m 55s\n",
            "285:\tlearn: 0.2271286\ttotal: 11m 46s\tremaining: 10m 52s\n",
            "286:\tlearn: 0.2268538\ttotal: 11m 49s\tremaining: 10m 49s\n",
            "287:\tlearn: 0.2264832\ttotal: 11m 51s\tremaining: 10m 47s\n",
            "288:\tlearn: 0.2263335\ttotal: 11m 53s\tremaining: 10m 44s\n",
            "289:\tlearn: 0.2260162\ttotal: 11m 56s\tremaining: 10m 42s\n",
            "290:\tlearn: 0.2257487\ttotal: 11m 58s\tremaining: 10m 39s\n",
            "291:\tlearn: 0.2254690\ttotal: 12m\tremaining: 10m 36s\n",
            "292:\tlearn: 0.2252535\ttotal: 12m 3s\tremaining: 10m 34s\n",
            "293:\tlearn: 0.2249744\ttotal: 12m 5s\tremaining: 10m 31s\n",
            "294:\tlearn: 0.2247184\ttotal: 12m 8s\tremaining: 10m 29s\n",
            "295:\tlearn: 0.2244102\ttotal: 12m 10s\tremaining: 10m 26s\n",
            "296:\tlearn: 0.2238212\ttotal: 12m 12s\tremaining: 10m 24s\n",
            "297:\tlearn: 0.2236858\ttotal: 12m 15s\tremaining: 10m 21s\n",
            "298:\tlearn: 0.2234550\ttotal: 12m 17s\tremaining: 10m 19s\n",
            "299:\tlearn: 0.2231941\ttotal: 12m 19s\tremaining: 10m 16s\n",
            "300:\tlearn: 0.2229507\ttotal: 12m 22s\tremaining: 10m 13s\n",
            "301:\tlearn: 0.2224359\ttotal: 12m 24s\tremaining: 10m 11s\n",
            "302:\tlearn: 0.2221634\ttotal: 12m 27s\tremaining: 10m 8s\n",
            "303:\tlearn: 0.2220151\ttotal: 12m 29s\tremaining: 10m 6s\n",
            "304:\tlearn: 0.2215958\ttotal: 12m 31s\tremaining: 10m 3s\n",
            "305:\tlearn: 0.2213024\ttotal: 12m 34s\tremaining: 10m 1s\n",
            "306:\tlearn: 0.2211599\ttotal: 12m 36s\tremaining: 9m 58s\n",
            "307:\tlearn: 0.2208052\ttotal: 12m 38s\tremaining: 9m 56s\n",
            "308:\tlearn: 0.2205848\ttotal: 12m 41s\tremaining: 9m 53s\n",
            "309:\tlearn: 0.2203446\ttotal: 12m 43s\tremaining: 9m 51s\n",
            "310:\tlearn: 0.2201123\ttotal: 12m 46s\tremaining: 9m 48s\n",
            "311:\tlearn: 0.2198088\ttotal: 12m 48s\tremaining: 9m 46s\n",
            "312:\tlearn: 0.2195733\ttotal: 12m 50s\tremaining: 9m 43s\n",
            "313:\tlearn: 0.2194236\ttotal: 12m 52s\tremaining: 9m 40s\n",
            "314:\tlearn: 0.2192229\ttotal: 12m 55s\tremaining: 9m 38s\n",
            "315:\tlearn: 0.2190046\ttotal: 12m 57s\tremaining: 9m 35s\n",
            "316:\tlearn: 0.2185946\ttotal: 13m\tremaining: 9m 33s\n",
            "317:\tlearn: 0.2183282\ttotal: 13m 2s\tremaining: 9m 30s\n",
            "318:\tlearn: 0.2181192\ttotal: 13m 4s\tremaining: 9m 28s\n",
            "319:\tlearn: 0.2178618\ttotal: 13m 7s\tremaining: 9m 25s\n",
            "320:\tlearn: 0.2176421\ttotal: 13m 9s\tremaining: 9m 23s\n",
            "321:\tlearn: 0.2173565\ttotal: 13m 11s\tremaining: 9m 20s\n",
            "322:\tlearn: 0.2172266\ttotal: 13m 13s\tremaining: 9m 18s\n",
            "323:\tlearn: 0.2170727\ttotal: 13m 16s\tremaining: 9m 15s\n",
            "324:\tlearn: 0.2167758\ttotal: 13m 18s\tremaining: 9m 12s\n",
            "325:\tlearn: 0.2166400\ttotal: 13m 20s\tremaining: 9m 10s\n",
            "326:\tlearn: 0.2162228\ttotal: 13m 23s\tremaining: 9m 7s\n",
            "327:\tlearn: 0.2160580\ttotal: 13m 25s\tremaining: 9m 5s\n",
            "328:\tlearn: 0.2157681\ttotal: 13m 27s\tremaining: 9m 2s\n",
            "329:\tlearn: 0.2154985\ttotal: 13m 30s\tremaining: 9m\n",
            "330:\tlearn: 0.2151769\ttotal: 13m 32s\tremaining: 8m 57s\n",
            "331:\tlearn: 0.2149250\ttotal: 13m 35s\tremaining: 8m 55s\n",
            "332:\tlearn: 0.2145923\ttotal: 13m 37s\tremaining: 8m 52s\n",
            "333:\tlearn: 0.2143920\ttotal: 13m 39s\tremaining: 8m 50s\n",
            "334:\tlearn: 0.2142598\ttotal: 13m 41s\tremaining: 8m 47s\n",
            "335:\tlearn: 0.2140016\ttotal: 13m 44s\tremaining: 8m 45s\n",
            "336:\tlearn: 0.2137620\ttotal: 13m 46s\tremaining: 8m 42s\n",
            "337:\tlearn: 0.2136073\ttotal: 13m 48s\tremaining: 8m 39s\n",
            "338:\tlearn: 0.2132941\ttotal: 13m 51s\tremaining: 8m 37s\n",
            "339:\tlearn: 0.2131637\ttotal: 13m 53s\tremaining: 8m 34s\n",
            "340:\tlearn: 0.2130336\ttotal: 13m 55s\tremaining: 8m 32s\n",
            "341:\tlearn: 0.2127906\ttotal: 13m 57s\tremaining: 8m 29s\n",
            "342:\tlearn: 0.2124805\ttotal: 14m\tremaining: 8m 27s\n",
            "343:\tlearn: 0.2122204\ttotal: 14m 2s\tremaining: 8m 24s\n",
            "344:\tlearn: 0.2120930\ttotal: 14m 4s\tremaining: 8m 21s\n",
            "345:\tlearn: 0.2118696\ttotal: 14m 6s\tremaining: 8m 19s\n",
            "346:\tlearn: 0.2116190\ttotal: 14m 9s\tremaining: 8m 16s\n",
            "347:\tlearn: 0.2114968\ttotal: 14m 11s\tremaining: 8m 14s\n",
            "348:\tlearn: 0.2112249\ttotal: 14m 14s\tremaining: 8m 11s\n",
            "349:\tlearn: 0.2110085\ttotal: 14m 16s\tremaining: 8m 9s\n",
            "350:\tlearn: 0.2107613\ttotal: 14m 18s\tremaining: 8m 7s\n",
            "351:\tlearn: 0.2105860\ttotal: 14m 21s\tremaining: 8m 4s\n",
            "352:\tlearn: 0.2104517\ttotal: 14m 23s\tremaining: 8m 1s\n",
            "353:\tlearn: 0.2103134\ttotal: 14m 25s\tremaining: 7m 59s\n",
            "354:\tlearn: 0.2101740\ttotal: 14m 27s\tremaining: 7m 56s\n",
            "355:\tlearn: 0.2099728\ttotal: 14m 30s\tremaining: 7m 54s\n",
            "356:\tlearn: 0.2097022\ttotal: 14m 32s\tremaining: 7m 51s\n",
            "357:\tlearn: 0.2094817\ttotal: 14m 34s\tremaining: 7m 49s\n",
            "358:\tlearn: 0.2093608\ttotal: 14m 37s\tremaining: 7m 46s\n",
            "359:\tlearn: 0.2091753\ttotal: 14m 39s\tremaining: 7m 44s\n",
            "360:\tlearn: 0.2089953\ttotal: 14m 41s\tremaining: 7m 41s\n",
            "361:\tlearn: 0.2087528\ttotal: 14m 43s\tremaining: 7m 39s\n",
            "362:\tlearn: 0.2086370\ttotal: 14m 46s\tremaining: 7m 36s\n",
            "363:\tlearn: 0.2085186\ttotal: 14m 48s\tremaining: 7m 33s\n",
            "364:\tlearn: 0.2083960\ttotal: 14m 50s\tremaining: 7m 31s\n",
            "365:\tlearn: 0.2080923\ttotal: 14m 52s\tremaining: 7m 28s\n",
            "366:\tlearn: 0.2077622\ttotal: 14m 55s\tremaining: 7m 26s\n",
            "367:\tlearn: 0.2074152\ttotal: 14m 57s\tremaining: 7m 23s\n",
            "368:\tlearn: 0.2071497\ttotal: 14m 59s\tremaining: 7m 21s\n",
            "369:\tlearn: 0.2070077\ttotal: 15m 2s\tremaining: 7m 18s\n",
            "370:\tlearn: 0.2067859\ttotal: 15m 4s\tremaining: 7m 16s\n",
            "371:\tlearn: 0.2066628\ttotal: 15m 6s\tremaining: 7m 13s\n",
            "372:\tlearn: 0.2065437\ttotal: 15m 8s\tremaining: 7m 11s\n",
            "373:\tlearn: 0.2064252\ttotal: 15m 10s\tremaining: 7m 8s\n",
            "374:\tlearn: 0.2060383\ttotal: 15m 13s\tremaining: 7m 6s\n",
            "375:\tlearn: 0.2059118\ttotal: 15m 15s\tremaining: 7m 3s\n",
            "376:\tlearn: 0.2057927\ttotal: 15m 17s\tremaining: 7m 1s\n",
            "377:\tlearn: 0.2056700\ttotal: 15m 19s\tremaining: 6m 58s\n",
            "378:\tlearn: 0.2053421\ttotal: 15m 22s\tremaining: 6m 56s\n",
            "379:\tlearn: 0.2052232\ttotal: 15m 24s\tremaining: 6m 53s\n",
            "380:\tlearn: 0.2049924\ttotal: 15m 26s\tremaining: 6m 51s\n",
            "381:\tlearn: 0.2046625\ttotal: 15m 29s\tremaining: 6m 48s\n",
            "382:\tlearn: 0.2045393\ttotal: 15m 31s\tremaining: 6m 46s\n",
            "383:\tlearn: 0.2044194\ttotal: 15m 33s\tremaining: 6m 43s\n",
            "384:\tlearn: 0.2043009\ttotal: 15m 35s\tremaining: 6m 41s\n",
            "385:\tlearn: 0.2041774\ttotal: 15m 38s\tremaining: 6m 38s\n",
            "386:\tlearn: 0.2040563\ttotal: 15m 40s\tremaining: 6m 35s\n",
            "387:\tlearn: 0.2039335\ttotal: 15m 42s\tremaining: 6m 33s\n",
            "388:\tlearn: 0.2038153\ttotal: 15m 44s\tremaining: 6m 30s\n",
            "389:\tlearn: 0.2035004\ttotal: 15m 46s\tremaining: 6m 28s\n",
            "390:\tlearn: 0.2033201\ttotal: 15m 49s\tremaining: 6m 25s\n",
            "391:\tlearn: 0.2032090\ttotal: 15m 51s\tremaining: 6m 23s\n",
            "392:\tlearn: 0.2029626\ttotal: 15m 53s\tremaining: 6m 20s\n",
            "393:\tlearn: 0.2025437\ttotal: 15m 56s\tremaining: 6m 18s\n",
            "394:\tlearn: 0.2023569\ttotal: 15m 58s\tremaining: 6m 16s\n",
            "395:\tlearn: 0.2021011\ttotal: 16m\tremaining: 6m 13s\n",
            "396:\tlearn: 0.2019843\ttotal: 16m 2s\tremaining: 6m 11s\n",
            "397:\tlearn: 0.2017639\ttotal: 16m 5s\tremaining: 6m 8s\n",
            "398:\tlearn: 0.2015349\ttotal: 16m 7s\tremaining: 6m 6s\n",
            "399:\tlearn: 0.2012222\ttotal: 16m 9s\tremaining: 6m 3s\n",
            "400:\tlearn: 0.2009768\ttotal: 16m 12s\tremaining: 6m 1s\n",
            "401:\tlearn: 0.2005251\ttotal: 16m 14s\tremaining: 5m 58s\n",
            "402:\tlearn: 0.2003795\ttotal: 16m 16s\tremaining: 5m 56s\n",
            "403:\tlearn: 0.2002594\ttotal: 16m 19s\tremaining: 5m 53s\n",
            "404:\tlearn: 0.2000693\ttotal: 16m 21s\tremaining: 5m 51s\n",
            "405:\tlearn: 0.1999573\ttotal: 16m 23s\tremaining: 5m 48s\n",
            "406:\tlearn: 0.1997571\ttotal: 16m 26s\tremaining: 5m 46s\n",
            "407:\tlearn: 0.1995511\ttotal: 16m 28s\tremaining: 5m 44s\n",
            "408:\tlearn: 0.1993728\ttotal: 16m 31s\tremaining: 5m 41s\n",
            "409:\tlearn: 0.1991837\ttotal: 16m 33s\tremaining: 5m 39s\n",
            "410:\tlearn: 0.1990684\ttotal: 16m 35s\tremaining: 5m 36s\n",
            "411:\tlearn: 0.1988525\ttotal: 16m 38s\tremaining: 5m 34s\n",
            "412:\tlearn: 0.1984852\ttotal: 16m 40s\tremaining: 5m 31s\n",
            "413:\tlearn: 0.1983738\ttotal: 16m 42s\tremaining: 5m 29s\n",
            "414:\tlearn: 0.1979303\ttotal: 16m 45s\tremaining: 5m 27s\n",
            "415:\tlearn: 0.1977214\ttotal: 16m 47s\tremaining: 5m 24s\n",
            "416:\tlearn: 0.1976105\ttotal: 16m 49s\tremaining: 5m 22s\n",
            "417:\tlearn: 0.1973747\ttotal: 16m 52s\tremaining: 5m 19s\n",
            "418:\tlearn: 0.1971472\ttotal: 16m 54s\tremaining: 5m 17s\n",
            "419:\tlearn: 0.1968949\ttotal: 16m 57s\tremaining: 5m 14s\n",
            "420:\tlearn: 0.1967544\ttotal: 16m 59s\tremaining: 5m 12s\n",
            "421:\tlearn: 0.1965295\ttotal: 17m 1s\tremaining: 5m 9s\n",
            "422:\tlearn: 0.1962543\ttotal: 17m 4s\tremaining: 5m 7s\n",
            "423:\tlearn: 0.1960698\ttotal: 17m 6s\tremaining: 5m 5s\n",
            "424:\tlearn: 0.1959630\ttotal: 17m 9s\tremaining: 5m 2s\n",
            "425:\tlearn: 0.1958538\ttotal: 17m 11s\tremaining: 5m\n",
            "426:\tlearn: 0.1956779\ttotal: 17m 13s\tremaining: 4m 57s\n",
            "427:\tlearn: 0.1954983\ttotal: 17m 16s\tremaining: 4m 55s\n",
            "428:\tlearn: 0.1953903\ttotal: 17m 18s\tremaining: 4m 52s\n",
            "429:\tlearn: 0.1952184\ttotal: 17m 20s\tremaining: 4m 50s\n",
            "430:\tlearn: 0.1950896\ttotal: 17m 22s\tremaining: 4m 47s\n",
            "431:\tlearn: 0.1949826\ttotal: 17m 24s\tremaining: 4m 45s\n",
            "432:\tlearn: 0.1947288\ttotal: 17m 27s\tremaining: 4m 42s\n",
            "433:\tlearn: 0.1944919\ttotal: 17m 29s\tremaining: 4m 40s\n",
            "434:\tlearn: 0.1943338\ttotal: 17m 32s\tremaining: 4m 38s\n",
            "435:\tlearn: 0.1937874\ttotal: 17m 34s\tremaining: 4m 35s\n",
            "436:\tlearn: 0.1936507\ttotal: 17m 37s\tremaining: 4m 33s\n",
            "437:\tlearn: 0.1930991\ttotal: 17m 39s\tremaining: 4m 30s\n",
            "438:\tlearn: 0.1928554\ttotal: 17m 42s\tremaining: 4m 28s\n",
            "439:\tlearn: 0.1925720\ttotal: 17m 44s\tremaining: 4m 26s\n",
            "440:\tlearn: 0.1923984\ttotal: 17m 47s\tremaining: 4m 23s\n",
            "441:\tlearn: 0.1918968\ttotal: 17m 49s\tremaining: 4m 21s\n",
            "442:\tlearn: 0.1916645\ttotal: 17m 51s\tremaining: 4m 18s\n",
            "443:\tlearn: 0.1915560\ttotal: 17m 54s\tremaining: 4m 16s\n",
            "444:\tlearn: 0.1914403\ttotal: 17m 56s\tremaining: 4m 13s\n",
            "445:\tlearn: 0.1912584\ttotal: 17m 58s\tremaining: 4m 11s\n",
            "446:\tlearn: 0.1911595\ttotal: 18m\tremaining: 4m 9s\n",
            "447:\tlearn: 0.1909542\ttotal: 18m 3s\tremaining: 4m 6s\n",
            "448:\tlearn: 0.1907502\ttotal: 18m 5s\tremaining: 4m 4s\n",
            "449:\tlearn: 0.1904695\ttotal: 18m 8s\tremaining: 4m 1s\n",
            "450:\tlearn: 0.1902530\ttotal: 18m 10s\tremaining: 3m 59s\n",
            "451:\tlearn: 0.1900341\ttotal: 18m 12s\tremaining: 3m 56s\n",
            "452:\tlearn: 0.1899357\ttotal: 18m 15s\tremaining: 3m 54s\n",
            "453:\tlearn: 0.1896839\ttotal: 18m 17s\tremaining: 3m 52s\n",
            "454:\tlearn: 0.1895617\ttotal: 18m 19s\tremaining: 3m 49s\n",
            "455:\tlearn: 0.1894170\ttotal: 18m 22s\tremaining: 3m 47s\n",
            "456:\tlearn: 0.1891865\ttotal: 18m 24s\tremaining: 3m 44s\n",
            "457:\tlearn: 0.1890818\ttotal: 18m 26s\tremaining: 3m 42s\n",
            "458:\tlearn: 0.1889788\ttotal: 18m 28s\tremaining: 3m 39s\n",
            "459:\tlearn: 0.1888034\ttotal: 18m 31s\tremaining: 3m 37s\n",
            "460:\tlearn: 0.1885958\ttotal: 18m 33s\tremaining: 3m 35s\n",
            "461:\tlearn: 0.1884269\ttotal: 18m 36s\tremaining: 3m 32s\n",
            "462:\tlearn: 0.1882028\ttotal: 18m 38s\tremaining: 3m 30s\n",
            "463:\tlearn: 0.1878999\ttotal: 18m 41s\tremaining: 3m 27s\n",
            "464:\tlearn: 0.1875086\ttotal: 18m 43s\tremaining: 3m 25s\n",
            "465:\tlearn: 0.1873558\ttotal: 18m 45s\tremaining: 3m 22s\n",
            "466:\tlearn: 0.1870794\ttotal: 18m 48s\tremaining: 3m 20s\n",
            "467:\tlearn: 0.1869798\ttotal: 18m 50s\tremaining: 3m 18s\n",
            "468:\tlearn: 0.1865475\ttotal: 18m 52s\tremaining: 3m 15s\n",
            "469:\tlearn: 0.1863979\ttotal: 18m 55s\tremaining: 3m 13s\n",
            "470:\tlearn: 0.1862990\ttotal: 18m 57s\tremaining: 3m 10s\n",
            "471:\tlearn: 0.1860379\ttotal: 18m 59s\tremaining: 3m 8s\n",
            "472:\tlearn: 0.1858729\ttotal: 19m 1s\tremaining: 3m 5s\n",
            "473:\tlearn: 0.1857742\ttotal: 19m 4s\tremaining: 3m 3s\n",
            "474:\tlearn: 0.1856764\ttotal: 19m 6s\tremaining: 3m 1s\n",
            "475:\tlearn: 0.1854797\ttotal: 19m 8s\tremaining: 2m 58s\n",
            "476:\tlearn: 0.1853446\ttotal: 19m 11s\tremaining: 2m 56s\n",
            "477:\tlearn: 0.1852465\ttotal: 19m 13s\tremaining: 2m 53s\n",
            "478:\tlearn: 0.1851003\ttotal: 19m 15s\tremaining: 2m 51s\n",
            "479:\tlearn: 0.1849889\ttotal: 19m 17s\tremaining: 2m 48s\n",
            "480:\tlearn: 0.1848167\ttotal: 19m 19s\tremaining: 2m 46s\n",
            "481:\tlearn: 0.1846083\ttotal: 19m 22s\tremaining: 2m 43s\n",
            "482:\tlearn: 0.1845120\ttotal: 19m 24s\tremaining: 2m 41s\n",
            "483:\tlearn: 0.1843200\ttotal: 19m 27s\tremaining: 2m 39s\n",
            "484:\tlearn: 0.1841649\ttotal: 19m 29s\tremaining: 2m 36s\n",
            "485:\tlearn: 0.1840258\ttotal: 19m 31s\tremaining: 2m 34s\n",
            "486:\tlearn: 0.1839286\ttotal: 19m 33s\tremaining: 2m 31s\n",
            "487:\tlearn: 0.1836655\ttotal: 19m 36s\tremaining: 2m 29s\n",
            "488:\tlearn: 0.1834781\ttotal: 19m 38s\tremaining: 2m 27s\n",
            "489:\tlearn: 0.1832609\ttotal: 19m 41s\tremaining: 2m 24s\n",
            "490:\tlearn: 0.1830834\ttotal: 19m 43s\tremaining: 2m 22s\n",
            "491:\tlearn: 0.1829863\ttotal: 19m 45s\tremaining: 2m 19s\n",
            "492:\tlearn: 0.1828967\ttotal: 19m 48s\tremaining: 2m 17s\n",
            "493:\tlearn: 0.1827136\ttotal: 19m 50s\tremaining: 2m 14s\n",
            "494:\tlearn: 0.1825920\ttotal: 19m 52s\tremaining: 2m 12s\n",
            "495:\tlearn: 0.1823687\ttotal: 19m 55s\tremaining: 2m 10s\n",
            "496:\tlearn: 0.1821957\ttotal: 19m 57s\tremaining: 2m 7s\n",
            "497:\tlearn: 0.1819803\ttotal: 19m 59s\tremaining: 2m 5s\n",
            "498:\tlearn: 0.1818799\ttotal: 20m 2s\tremaining: 2m 2s\n",
            "499:\tlearn: 0.1816042\ttotal: 20m 4s\tremaining: 2m\n",
            "500:\tlearn: 0.1814175\ttotal: 20m 7s\tremaining: 1m 58s\n",
            "501:\tlearn: 0.1813011\ttotal: 20m 9s\tremaining: 1m 55s\n",
            "502:\tlearn: 0.1811050\ttotal: 20m 11s\tremaining: 1m 53s\n",
            "503:\tlearn: 0.1809189\ttotal: 20m 14s\tremaining: 1m 50s\n",
            "504:\tlearn: 0.1808308\ttotal: 20m 16s\tremaining: 1m 48s\n",
            "505:\tlearn: 0.1806195\ttotal: 20m 19s\tremaining: 1m 46s\n",
            "506:\tlearn: 0.1804586\ttotal: 20m 21s\tremaining: 1m 43s\n",
            "507:\tlearn: 0.1802379\ttotal: 20m 24s\tremaining: 1m 41s\n",
            "508:\tlearn: 0.1801438\ttotal: 20m 26s\tremaining: 1m 38s\n",
            "509:\tlearn: 0.1800494\ttotal: 20m 28s\tremaining: 1m 36s\n",
            "510:\tlearn: 0.1798655\ttotal: 20m 30s\tremaining: 1m 33s\n",
            "511:\tlearn: 0.1797737\ttotal: 20m 33s\tremaining: 1m 31s\n",
            "512:\tlearn: 0.1796801\ttotal: 20m 35s\tremaining: 1m 29s\n",
            "513:\tlearn: 0.1794925\ttotal: 20m 37s\tremaining: 1m 26s\n",
            "514:\tlearn: 0.1792033\ttotal: 20m 40s\tremaining: 1m 24s\n",
            "515:\tlearn: 0.1791146\ttotal: 20m 42s\tremaining: 1m 21s\n",
            "516:\tlearn: 0.1788675\ttotal: 20m 44s\tremaining: 1m 19s\n",
            "517:\tlearn: 0.1786998\ttotal: 20m 47s\tremaining: 1m 17s\n",
            "518:\tlearn: 0.1785367\ttotal: 20m 49s\tremaining: 1m 14s\n",
            "519:\tlearn: 0.1784444\ttotal: 20m 51s\tremaining: 1m 12s\n",
            "520:\tlearn: 0.1782275\ttotal: 20m 54s\tremaining: 1m 9s\n",
            "521:\tlearn: 0.1781371\ttotal: 20m 56s\tremaining: 1m 7s\n",
            "522:\tlearn: 0.1779662\ttotal: 20m 59s\tremaining: 1m 4s\n",
            "523:\tlearn: 0.1778020\ttotal: 21m 1s\tremaining: 1m 2s\n",
            "524:\tlearn: 0.1777168\ttotal: 21m 3s\tremaining: 1m\n",
            "525:\tlearn: 0.1775290\ttotal: 21m 5s\tremaining: 57.8s\n",
            "526:\tlearn: 0.1773569\ttotal: 21m 8s\tremaining: 55.4s\n",
            "527:\tlearn: 0.1772677\ttotal: 21m 10s\tremaining: 52.9s\n",
            "528:\tlearn: 0.1770535\ttotal: 21m 13s\tremaining: 50.5s\n",
            "529:\tlearn: 0.1768701\ttotal: 21m 15s\tremaining: 48.1s\n",
            "530:\tlearn: 0.1767377\ttotal: 21m 18s\tremaining: 45.7s\n",
            "531:\tlearn: 0.1766112\ttotal: 21m 20s\tremaining: 43.3s\n",
            "532:\tlearn: 0.1764405\ttotal: 21m 22s\tremaining: 40.9s\n",
            "533:\tlearn: 0.1763511\ttotal: 21m 24s\tremaining: 38.5s\n",
            "534:\tlearn: 0.1761783\ttotal: 21m 27s\tremaining: 36.1s\n",
            "535:\tlearn: 0.1760156\ttotal: 21m 29s\tremaining: 33.7s\n",
            "536:\tlearn: 0.1759275\ttotal: 21m 31s\tremaining: 31.3s\n",
            "537:\tlearn: 0.1757847\ttotal: 21m 34s\tremaining: 28.9s\n",
            "538:\tlearn: 0.1756462\ttotal: 21m 36s\tremaining: 26.5s\n",
            "539:\tlearn: 0.1754283\ttotal: 21m 39s\tremaining: 24.1s\n",
            "540:\tlearn: 0.1753430\ttotal: 21m 41s\tremaining: 21.6s\n",
            "541:\tlearn: 0.1751711\ttotal: 21m 43s\tremaining: 19.2s\n",
            "542:\tlearn: 0.1749695\ttotal: 21m 46s\tremaining: 16.8s\n",
            "543:\tlearn: 0.1748302\ttotal: 21m 48s\tremaining: 14.4s\n",
            "544:\tlearn: 0.1747434\ttotal: 21m 50s\tremaining: 12s\n",
            "545:\tlearn: 0.1746003\ttotal: 21m 53s\tremaining: 9.62s\n",
            "546:\tlearn: 0.1745197\ttotal: 21m 55s\tremaining: 7.21s\n",
            "547:\tlearn: 0.1743478\ttotal: 21m 57s\tremaining: 4.81s\n",
            "548:\tlearn: 0.1741789\ttotal: 22m\tremaining: 2.4s\n",
            "549:\tlearn: 0.1740430\ttotal: 22m 2s\tremaining: 0us\n",
            "F1 мера решающего дерева:  0.7441544317563893\n"
          ]
        }
      ],
      "source": [
        "from catboost import CatBoostClassifier\n",
        "\n",
        "CatBoost_model_2 = CatBoostClassifier(random_state=98765, iterations = 550).fit(features_train, target_train)\n",
        "print(\"F1 мера решающего дерева: \", f1_score(target_test, CatBoost_model_2.predict(features_test)))"
      ]
    },
    {
      "cell_type": "code",
      "execution_count": null,
      "metadata": {
        "id": "cSyfMVXoOszI",
        "outputId": "8e530e75-b6df-4252-fa78-b2ab180ee4d6"
      },
      "outputs": [
        {
          "name": "stdout",
          "output_type": "stream",
          "text": [
            "F1 мера cat модели:  0.7470108695652175\n",
            "F1 мера cat модели:  0.740976351818559\n"
          ]
        }
      ],
      "source": [
        "print(\"F1 мера cat модели: \", f1_score(target_test, CatBoost_model.predict(features_test)))\n",
        "\n",
        "print(\"F1 мера cat модели: \", f1_score(target_valid, CatBoost_model.predict(features_valid)))\n"
      ]
    },
    {
      "cell_type": "markdown",
      "metadata": {
        "id": "4LVO9dA4OszI"
      },
      "source": [
        "результат на валидационной выборке чуть хуже"
      ]
    },
    {
      "cell_type": "code",
      "execution_count": null,
      "metadata": {
        "id": "ZOsdcuXpOszJ",
        "outputId": "160c5ff5-a924-458c-a15c-3b4633600124"
      },
      "outputs": [
        {
          "name": "stdout",
          "output_type": "stream",
          "text": [
            "F1 мера решающего дерева:  0.5982698961937716\n",
            "F1 мера случайного леса:  0.6732232325106697\n",
            "F1 мера lGBM модели:  0.6449520586576425\n"
          ]
        }
      ],
      "source": [
        "model_tree = DecisionTreeClassifier(random_state=12345, max_depth=19).fit(features_train, target_train)\n",
        "print(\"F1 мера решающего дерева: \", f1_score(target_test, model_tree.predict(features_test)))\n",
        "\n",
        "Forest_model = RandomForestClassifier(n_estimators=21, random_state=12345).fit(features_train, target_train)\n",
        "print(\"F1 мера случайного леса: \", f1_score(target_test, Forest_model.predict(features_test)))\n",
        "\n",
        "model_gbm = lgb.LGBMClassifier(boosting_type = 'gbdt', num_leaves = 26, n_estimators = 15).fit(features_train, target_train)\n",
        "print(\"F1 мера lGBM модели: \", f1_score(target_test, model_gbm.predict(features_test)))"
      ]
    },
    {
      "cell_type": "markdown",
      "metadata": {
        "id": "Ll2lkxZbOszJ"
      },
      "source": [
        "## Тестирование"
      ]
    },
    {
      "cell_type": "code",
      "execution_count": null,
      "metadata": {
        "id": "oEzltk0lOszJ",
        "outputId": "ad205c7c-d9ea-43e6-b45f-b6192897123f"
      },
      "outputs": [
        {
          "name": "stdout",
          "output_type": "stream",
          "text": [
            "F1 мера решающего дерева:  0.5830218900160171\n",
            "F1 мера случайного леса:  0.6712224753227033\n",
            "F1 мера lGBM модели:  0.6310191174356764\n"
          ]
        }
      ],
      "source": [
        "print(\"F1 мера решающего дерева: \", f1_score(target_valid, model_tree.predict(features_valid)))\n",
        "\n",
        "print(\"F1 мера случайного леса: \", f1_score(target_valid, Forest_model.predict(features_valid)))\n",
        "\n",
        "print(\"F1 мера lGBM модели: \", f1_score(target_valid, model_gbm.predict(features_valid)))"
      ]
    },
    {
      "cell_type": "markdown",
      "metadata": {
        "id": "vQsD-eK3OszK"
      },
      "source": [
        "## Выводы"
      ]
    },
    {
      "cell_type": "markdown",
      "metadata": {
        "id": "r6FVbcYVOszK"
      },
      "source": [
        "Все модели обучились с достаточно высоким качеством. Самой быстрой в обучении было решающее дерево. Самое выссокое качество по F1 мере показала модель случайного леса. Качество предсказания на тестовой и валидационной выборке меняется менее, чем на 1%. "
      ]
    }
  ],
  "metadata": {
    "ExecuteTimeLog": [
      {
        "duration": 1492,
        "start_time": "2022-08-11T17:25:28.717Z"
      },
      {
        "duration": 122,
        "start_time": "2022-08-11T17:25:36.908Z"
      },
      {
        "duration": 2327,
        "start_time": "2022-08-11T17:25:49.392Z"
      },
      {
        "duration": 727,
        "start_time": "2022-08-11T17:25:57.736Z"
      },
      {
        "duration": 58,
        "start_time": "2022-08-11T17:47:20.483Z"
      },
      {
        "duration": 25,
        "start_time": "2022-08-11T17:47:33.251Z"
      },
      {
        "duration": 30,
        "start_time": "2022-08-11T17:47:45.261Z"
      },
      {
        "duration": 4,
        "start_time": "2022-08-11T17:48:41.337Z"
      },
      {
        "duration": 4,
        "start_time": "2022-08-11T17:50:24.709Z"
      },
      {
        "duration": 4,
        "start_time": "2022-08-11T17:50:46.506Z"
      },
      {
        "duration": 4,
        "start_time": "2022-08-11T17:51:02.958Z"
      },
      {
        "duration": 5,
        "start_time": "2022-08-11T17:51:13.360Z"
      },
      {
        "duration": 4,
        "start_time": "2022-08-11T18:09:38.367Z"
      },
      {
        "duration": 50,
        "start_time": "2022-08-11T18:12:10.979Z"
      },
      {
        "duration": 135,
        "start_time": "2022-08-11T18:14:19.021Z"
      },
      {
        "duration": 3,
        "start_time": "2022-08-11T18:14:50.948Z"
      },
      {
        "duration": 4,
        "start_time": "2022-08-11T18:14:56.367Z"
      },
      {
        "duration": 83,
        "start_time": "2022-08-11T18:14:59.551Z"
      },
      {
        "duration": 4,
        "start_time": "2022-08-11T18:15:02.261Z"
      },
      {
        "duration": 146,
        "start_time": "2022-08-11T18:15:23.013Z"
      },
      {
        "duration": 4,
        "start_time": "2022-08-11T18:15:23.161Z"
      },
      {
        "duration": 81,
        "start_time": "2022-08-11T18:30:19.533Z"
      },
      {
        "duration": 6,
        "start_time": "2022-08-11T18:30:25.388Z"
      },
      {
        "duration": 77,
        "start_time": "2022-08-11T18:30:27.433Z"
      },
      {
        "duration": 52,
        "start_time": "2022-08-11T18:31:54.297Z"
      },
      {
        "duration": 721,
        "start_time": "2022-08-11T18:31:58.748Z"
      },
      {
        "duration": 782,
        "start_time": "2022-08-11T18:32:33.910Z"
      },
      {
        "duration": 64,
        "start_time": "2022-08-11T18:33:02.209Z"
      },
      {
        "duration": 752,
        "start_time": "2022-08-11T18:33:07.120Z"
      },
      {
        "duration": 5,
        "start_time": "2022-08-11T18:33:41.060Z"
      },
      {
        "duration": 745,
        "start_time": "2022-08-11T18:34:02.441Z"
      },
      {
        "duration": 46,
        "start_time": "2022-08-11T18:34:39.811Z"
      },
      {
        "duration": 127,
        "start_time": "2022-08-11T18:34:44.109Z"
      },
      {
        "duration": 696,
        "start_time": "2022-08-11T18:35:24.774Z"
      },
      {
        "duration": 134652,
        "start_time": "2022-08-11T18:38:07.458Z"
      },
      {
        "duration": 25,
        "start_time": "2022-08-11T18:40:58.997Z"
      },
      {
        "duration": 10,
        "start_time": "2022-08-11T18:41:43.098Z"
      },
      {
        "duration": 154,
        "start_time": "2022-08-11T18:42:38.135Z"
      },
      {
        "duration": 5,
        "start_time": "2022-08-11T18:42:45.116Z"
      },
      {
        "duration": 53,
        "start_time": "2022-08-12T13:24:26.488Z"
      },
      {
        "duration": 259,
        "start_time": "2022-08-12T13:24:31.345Z"
      },
      {
        "duration": 1756,
        "start_time": "2022-08-12T13:24:45.183Z"
      },
      {
        "duration": 3407,
        "start_time": "2022-08-12T13:24:48.226Z"
      },
      {
        "duration": 5,
        "start_time": "2022-08-12T13:24:51.635Z"
      },
      {
        "duration": 7,
        "start_time": "2022-08-12T13:24:51.642Z"
      },
      {
        "duration": 97466,
        "start_time": "2022-08-12T13:24:54.516Z"
      },
      {
        "duration": 0,
        "start_time": "2022-08-12T13:26:31.983Z"
      },
      {
        "duration": 169498,
        "start_time": "2022-08-12T13:27:28.012Z"
      },
      {
        "duration": 0,
        "start_time": "2022-08-12T13:30:17.512Z"
      },
      {
        "duration": 15,
        "start_time": "2022-08-12T13:44:29.263Z"
      },
      {
        "duration": 11,
        "start_time": "2022-08-12T13:44:53.429Z"
      },
      {
        "duration": 13755,
        "start_time": "2022-08-12T13:44:57.628Z"
      },
      {
        "duration": 182233,
        "start_time": "2022-08-12T13:45:42.066Z"
      },
      {
        "duration": 6,
        "start_time": "2022-08-12T13:48:44.301Z"
      },
      {
        "duration": 18,
        "start_time": "2022-08-12T13:52:31.518Z"
      },
      {
        "duration": 3,
        "start_time": "2022-08-12T13:52:43.465Z"
      },
      {
        "duration": 14577,
        "start_time": "2022-08-12T13:52:47.598Z"
      },
      {
        "duration": 4,
        "start_time": "2022-08-12T13:53:34.945Z"
      },
      {
        "duration": 101602,
        "start_time": "2022-08-12T13:53:40.008Z"
      },
      {
        "duration": 336974,
        "start_time": "2022-08-12T13:55:57.778Z"
      },
      {
        "duration": 763502,
        "start_time": "2022-08-12T14:01:34.754Z"
      },
      {
        "duration": 0,
        "start_time": "2022-08-12T14:14:18.259Z"
      },
      {
        "duration": 655457,
        "start_time": "2022-08-12T14:14:26.991Z"
      },
      {
        "duration": 0,
        "start_time": "2022-08-12T14:25:22.449Z"
      },
      {
        "duration": 0,
        "start_time": "2022-08-12T14:25:22.453Z"
      },
      {
        "duration": 1015140,
        "start_time": "2022-08-12T14:25:29.257Z"
      },
      {
        "duration": 435065,
        "start_time": "2022-08-12T14:42:30.823Z"
      },
      {
        "duration": 1567,
        "start_time": "2022-08-12T15:30:28.958Z"
      },
      {
        "duration": 909,
        "start_time": "2022-08-12T15:30:30.527Z"
      },
      {
        "duration": 5,
        "start_time": "2022-08-12T15:30:33.419Z"
      },
      {
        "duration": 180976,
        "start_time": "2022-08-12T15:30:34.467Z"
      },
      {
        "duration": 41199,
        "start_time": "2022-08-12T15:33:35.446Z"
      },
      {
        "duration": 0,
        "start_time": "2022-08-12T15:34:16.647Z"
      },
      {
        "duration": 685809,
        "start_time": "2022-08-12T15:34:57.779Z"
      },
      {
        "duration": 4982,
        "start_time": "2022-08-12T15:48:48.106Z"
      },
      {
        "duration": 1602,
        "start_time": "2022-08-15T15:12:27.679Z"
      },
      {
        "duration": 2402,
        "start_time": "2022-08-15T15:12:29.283Z"
      },
      {
        "duration": 39,
        "start_time": "2022-08-15T15:12:31.687Z"
      },
      {
        "duration": 5,
        "start_time": "2022-08-15T15:12:35.474Z"
      },
      {
        "duration": 5,
        "start_time": "2022-08-15T15:13:11.023Z"
      },
      {
        "duration": 4,
        "start_time": "2022-08-15T15:14:11.516Z"
      },
      {
        "duration": 250,
        "start_time": "2022-08-15T15:16:53.860Z"
      },
      {
        "duration": 4,
        "start_time": "2022-08-15T15:20:51.377Z"
      },
      {
        "duration": 1134,
        "start_time": "2022-08-15T15:21:41.625Z"
      },
      {
        "duration": 1267,
        "start_time": "2022-08-15T15:21:53.607Z"
      },
      {
        "duration": 1268,
        "start_time": "2022-08-15T15:22:11.408Z"
      },
      {
        "duration": 1283,
        "start_time": "2022-08-15T15:22:30.679Z"
      },
      {
        "duration": 1259,
        "start_time": "2022-08-15T15:23:07.914Z"
      },
      {
        "duration": 13,
        "start_time": "2022-08-15T15:23:24.744Z"
      },
      {
        "duration": 21,
        "start_time": "2022-08-15T15:24:11.836Z"
      },
      {
        "duration": 4,
        "start_time": "2022-08-15T15:24:19.954Z"
      },
      {
        "duration": 4,
        "start_time": "2022-08-15T15:24:28.843Z"
      },
      {
        "duration": 20,
        "start_time": "2022-08-15T15:24:42.836Z"
      },
      {
        "duration": 16,
        "start_time": "2022-08-15T15:24:53.545Z"
      },
      {
        "duration": 1212,
        "start_time": "2022-08-15T15:24:57.921Z"
      },
      {
        "duration": 15,
        "start_time": "2022-08-15T15:29:40.563Z"
      },
      {
        "duration": 10,
        "start_time": "2022-08-15T15:29:52.297Z"
      },
      {
        "duration": 13,
        "start_time": "2022-08-15T15:30:41.765Z"
      },
      {
        "duration": 13,
        "start_time": "2022-08-15T15:30:57.661Z"
      },
      {
        "duration": 11,
        "start_time": "2022-08-15T15:31:06.383Z"
      },
      {
        "duration": 12,
        "start_time": "2022-08-15T15:31:10.863Z"
      },
      {
        "duration": 4,
        "start_time": "2022-08-15T15:31:15.231Z"
      },
      {
        "duration": 28,
        "start_time": "2022-08-15T15:31:35.552Z"
      },
      {
        "duration": 406,
        "start_time": "2022-08-15T15:31:47.251Z"
      },
      {
        "duration": 9,
        "start_time": "2022-08-15T15:35:52.473Z"
      },
      {
        "duration": 18,
        "start_time": "2022-08-15T15:37:18.207Z"
      },
      {
        "duration": 48,
        "start_time": "2022-08-15T15:37:30.361Z"
      },
      {
        "duration": 43,
        "start_time": "2022-08-15T15:37:40.031Z"
      },
      {
        "duration": 25,
        "start_time": "2022-08-15T15:37:59.804Z"
      },
      {
        "duration": 4,
        "start_time": "2022-08-15T15:38:47.534Z"
      },
      {
        "duration": 15,
        "start_time": "2022-08-15T15:41:40.993Z"
      },
      {
        "duration": 11,
        "start_time": "2022-08-15T16:01:55.465Z"
      },
      {
        "duration": 19,
        "start_time": "2022-08-15T16:03:35.437Z"
      },
      {
        "duration": 16,
        "start_time": "2022-08-15T16:03:47.836Z"
      },
      {
        "duration": 77,
        "start_time": "2022-08-15T16:03:59.307Z"
      },
      {
        "duration": 7671,
        "start_time": "2022-08-15T16:04:26.821Z"
      },
      {
        "duration": 5,
        "start_time": "2022-08-15T16:20:56.460Z"
      },
      {
        "duration": 1041,
        "start_time": "2022-08-15T16:21:05.682Z"
      },
      {
        "duration": 39229,
        "start_time": "2022-08-15T16:22:12.753Z"
      },
      {
        "duration": 9993,
        "start_time": "2022-08-15T16:22:51.984Z"
      },
      {
        "duration": 0,
        "start_time": "2022-08-15T16:23:01.978Z"
      },
      {
        "duration": 0,
        "start_time": "2022-08-15T16:23:01.980Z"
      },
      {
        "duration": 4,
        "start_time": "2022-08-15T16:24:32.510Z"
      },
      {
        "duration": 4,
        "start_time": "2022-08-15T16:25:30.827Z"
      },
      {
        "duration": 12,
        "start_time": "2022-08-15T16:26:13.340Z"
      },
      {
        "duration": 20,
        "start_time": "2022-08-15T16:26:21.852Z"
      },
      {
        "duration": 4,
        "start_time": "2022-08-15T16:26:39.823Z"
      },
      {
        "duration": 1275,
        "start_time": "2022-08-15T16:38:03.183Z"
      },
      {
        "duration": 10235,
        "start_time": "2022-08-15T16:38:05.915Z"
      },
      {
        "duration": 4,
        "start_time": "2022-08-15T16:38:16.151Z"
      },
      {
        "duration": 5,
        "start_time": "2022-08-15T16:38:29.077Z"
      },
      {
        "duration": 121783,
        "start_time": "2022-08-15T16:38:31.172Z"
      },
      {
        "duration": 398322,
        "start_time": "2022-08-15T16:40:32.957Z"
      },
      {
        "duration": 393931,
        "start_time": "2022-08-15T16:47:11.280Z"
      },
      {
        "duration": 38550,
        "start_time": "2022-08-15T16:53:45.214Z"
      },
      {
        "duration": 200088,
        "start_time": "2022-08-15T16:54:58.498Z"
      },
      {
        "duration": 484736,
        "start_time": "2022-08-15T16:58:18.589Z"
      },
      {
        "duration": 517889,
        "start_time": "2022-08-15T17:06:23.327Z"
      },
      {
        "duration": 412781,
        "start_time": "2022-08-15T18:04:39.030Z"
      },
      {
        "duration": 5,
        "start_time": "2022-08-15T18:11:31.813Z"
      },
      {
        "duration": 316056,
        "start_time": "2022-08-15T18:11:31.820Z"
      },
      {
        "duration": 1231879,
        "start_time": "2022-08-15T18:16:55.646Z"
      },
      {
        "duration": 1820807,
        "start_time": "2022-08-15T18:44:55.577Z"
      },
      {
        "duration": 2457522,
        "start_time": "2022-08-15T19:27:39.441Z"
      },
      {
        "duration": 680951,
        "start_time": "2022-08-15T20:32:26.631Z"
      },
      {
        "duration": 419424,
        "start_time": "2022-08-15T20:43:55.106Z"
      },
      {
        "duration": 1405,
        "start_time": "2022-08-15T20:51:16.916Z"
      },
      {
        "duration": 15,
        "start_time": "2022-08-15T20:53:11.406Z"
      },
      {
        "duration": 14619,
        "start_time": "2022-08-15T20:56:14.213Z"
      },
      {
        "duration": 9727,
        "start_time": "2022-08-15T20:56:59.769Z"
      },
      {
        "duration": 4,
        "start_time": "2022-08-15T20:57:14.382Z"
      },
      {
        "duration": 16,
        "start_time": "2022-08-15T20:58:28.918Z"
      },
      {
        "duration": 5,
        "start_time": "2022-08-15T20:59:16.113Z"
      },
      {
        "duration": 410,
        "start_time": "2022-08-15T21:07:30.280Z"
      },
      {
        "duration": 447,
        "start_time": "2022-08-15T21:07:38.858Z"
      },
      {
        "duration": 6336,
        "start_time": "2022-08-15T21:07:51.671Z"
      },
      {
        "duration": 33213,
        "start_time": "2022-08-15T21:08:07.530Z"
      },
      {
        "duration": 0,
        "start_time": "2022-08-15T21:08:40.745Z"
      },
      {
        "duration": 6,
        "start_time": "2022-08-15T21:09:03.441Z"
      },
      {
        "duration": 32492,
        "start_time": "2022-08-15T21:24:06.934Z"
      },
      {
        "duration": 0,
        "start_time": "2022-08-15T21:24:39.427Z"
      },
      {
        "duration": 5,
        "start_time": "2022-08-15T21:24:56.871Z"
      },
      {
        "duration": 3,
        "start_time": "2022-08-15T21:25:30.335Z"
      },
      {
        "duration": 4,
        "start_time": "2022-08-15T21:25:37.457Z"
      },
      {
        "duration": 6972,
        "start_time": "2022-08-15T21:26:13.837Z"
      },
      {
        "duration": 4,
        "start_time": "2022-08-15T21:27:38.740Z"
      },
      {
        "duration": 4,
        "start_time": "2022-08-15T21:27:52.303Z"
      },
      {
        "duration": 4,
        "start_time": "2022-08-15T21:28:10.118Z"
      },
      {
        "duration": 29904,
        "start_time": "2022-08-15T21:28:16.389Z"
      },
      {
        "duration": 0,
        "start_time": "2022-08-15T21:28:46.295Z"
      },
      {
        "duration": 4,
        "start_time": "2022-08-15T21:28:54.849Z"
      },
      {
        "duration": 30716,
        "start_time": "2022-08-15T21:30:37.323Z"
      },
      {
        "duration": 6,
        "start_time": "2022-08-15T21:31:26.101Z"
      },
      {
        "duration": 33430,
        "start_time": "2022-08-15T21:31:58.948Z"
      },
      {
        "duration": 6,
        "start_time": "2022-08-15T21:32:32.380Z"
      },
      {
        "duration": 6669,
        "start_time": "2022-08-15T21:33:09.221Z"
      },
      {
        "duration": 5,
        "start_time": "2022-08-15T21:33:19.878Z"
      },
      {
        "duration": 5,
        "start_time": "2022-08-15T21:33:25.380Z"
      },
      {
        "duration": 250307,
        "start_time": "2022-08-15T21:33:38.672Z"
      },
      {
        "duration": 6,
        "start_time": "2022-08-15T21:47:35.816Z"
      },
      {
        "duration": 4,
        "start_time": "2022-08-15T21:47:44.158Z"
      },
      {
        "duration": 5,
        "start_time": "2022-08-15T21:47:52.823Z"
      },
      {
        "duration": 4,
        "start_time": "2022-08-15T21:48:02.704Z"
      },
      {
        "duration": 4,
        "start_time": "2022-08-15T21:48:13.273Z"
      },
      {
        "duration": 3,
        "start_time": "2022-08-15T21:48:20.624Z"
      },
      {
        "duration": 4,
        "start_time": "2022-08-15T21:48:25.867Z"
      },
      {
        "duration": 4,
        "start_time": "2022-08-15T21:48:35.139Z"
      },
      {
        "duration": 3,
        "start_time": "2022-08-15T21:48:41.247Z"
      },
      {
        "duration": 4,
        "start_time": "2022-08-15T21:48:56.033Z"
      },
      {
        "duration": 33561,
        "start_time": "2022-08-15T21:49:40.250Z"
      },
      {
        "duration": 4,
        "start_time": "2022-08-15T21:50:18.271Z"
      },
      {
        "duration": 33689,
        "start_time": "2022-08-15T21:51:37.086Z"
      },
      {
        "duration": 4,
        "start_time": "2022-08-15T21:52:10.777Z"
      },
      {
        "duration": 33615,
        "start_time": "2022-08-15T21:52:37.657Z"
      },
      {
        "duration": 5,
        "start_time": "2022-08-15T21:55:00.247Z"
      },
      {
        "duration": 3,
        "start_time": "2022-08-15T21:56:20.868Z"
      },
      {
        "duration": 38528,
        "start_time": "2022-08-15T21:56:21.358Z"
      },
      {
        "duration": 4,
        "start_time": "2022-08-15T21:57:31.681Z"
      },
      {
        "duration": 36430,
        "start_time": "2022-08-15T21:59:11.754Z"
      },
      {
        "duration": 0,
        "start_time": "2022-08-15T21:59:48.186Z"
      },
      {
        "duration": 38865,
        "start_time": "2022-08-15T22:00:16.764Z"
      },
      {
        "duration": 37599,
        "start_time": "2022-08-15T22:06:15.228Z"
      },
      {
        "duration": 6884,
        "start_time": "2022-08-15T22:06:52.829Z"
      },
      {
        "duration": 1359,
        "start_time": "2022-08-15T22:48:31.948Z"
      },
      {
        "duration": 2238,
        "start_time": "2022-08-15T22:48:33.309Z"
      },
      {
        "duration": 34,
        "start_time": "2022-08-15T22:48:35.549Z"
      },
      {
        "duration": 4,
        "start_time": "2022-08-15T22:48:35.585Z"
      },
      {
        "duration": 9,
        "start_time": "2022-08-15T22:48:35.591Z"
      },
      {
        "duration": 11,
        "start_time": "2022-08-15T22:48:35.602Z"
      },
      {
        "duration": 36463,
        "start_time": "2022-08-15T22:48:35.614Z"
      },
      {
        "duration": 4,
        "start_time": "2022-08-15T22:49:12.079Z"
      },
      {
        "duration": 16,
        "start_time": "2022-08-15T22:49:12.084Z"
      },
      {
        "duration": 6,
        "start_time": "2022-08-15T22:49:12.102Z"
      },
      {
        "duration": 6394,
        "start_time": "2022-08-15T22:49:12.111Z"
      },
      {
        "duration": 5,
        "start_time": "2022-08-15T22:49:18.507Z"
      },
      {
        "duration": 5,
        "start_time": "2022-08-15T22:49:18.514Z"
      },
      {
        "duration": 5,
        "start_time": "2022-08-15T22:49:18.520Z"
      },
      {
        "duration": 6,
        "start_time": "2022-08-15T22:49:18.527Z"
      },
      {
        "duration": 2414,
        "start_time": "2022-08-16T08:33:55.168Z"
      },
      {
        "duration": 3084,
        "start_time": "2022-08-16T08:33:58.557Z"
      },
      {
        "duration": 26,
        "start_time": "2022-08-16T08:34:01.643Z"
      },
      {
        "duration": 26,
        "start_time": "2022-08-16T08:34:01.670Z"
      },
      {
        "duration": 35,
        "start_time": "2022-08-16T08:34:01.698Z"
      },
      {
        "duration": 20,
        "start_time": "2022-08-16T08:34:01.735Z"
      },
      {
        "duration": 43490,
        "start_time": "2022-08-16T08:34:01.756Z"
      },
      {
        "duration": 5,
        "start_time": "2022-08-16T08:34:45.247Z"
      },
      {
        "duration": 7096,
        "start_time": "2022-08-16T08:34:45.254Z"
      },
      {
        "duration": 4,
        "start_time": "2022-08-16T08:34:52.352Z"
      },
      {
        "duration": 10,
        "start_time": "2022-08-16T08:34:52.358Z"
      },
      {
        "duration": 151,
        "start_time": "2022-08-16T08:34:52.370Z"
      },
      {
        "duration": 9,
        "start_time": "2022-08-16T08:35:11.635Z"
      },
      {
        "duration": 598,
        "start_time": "2022-08-16T08:35:18.335Z"
      },
      {
        "duration": 3,
        "start_time": "2022-08-16T08:35:29.847Z"
      },
      {
        "duration": 27,
        "start_time": "2022-08-16T08:35:40.898Z"
      },
      {
        "duration": 584250,
        "start_time": "2022-08-16T08:36:01.443Z"
      },
      {
        "duration": 87273,
        "start_time": "2022-08-16T08:47:10.188Z"
      },
      {
        "duration": 1682,
        "start_time": "2022-08-16T08:49:16.402Z"
      },
      {
        "duration": 922,
        "start_time": "2022-08-16T08:49:18.086Z"
      },
      {
        "duration": 44,
        "start_time": "2022-08-16T08:49:19.010Z"
      },
      {
        "duration": 5,
        "start_time": "2022-08-16T08:49:19.056Z"
      },
      {
        "duration": 8,
        "start_time": "2022-08-16T08:49:19.063Z"
      },
      {
        "duration": 9,
        "start_time": "2022-08-16T08:49:19.072Z"
      },
      {
        "duration": 43590,
        "start_time": "2022-08-16T08:49:19.083Z"
      },
      {
        "duration": 172,
        "start_time": "2022-08-16T08:50:02.675Z"
      },
      {
        "duration": 0,
        "start_time": "2022-08-16T08:50:02.849Z"
      },
      {
        "duration": 0,
        "start_time": "2022-08-16T08:50:02.851Z"
      },
      {
        "duration": 0,
        "start_time": "2022-08-16T08:50:02.852Z"
      },
      {
        "duration": 0,
        "start_time": "2022-08-16T08:50:02.854Z"
      },
      {
        "duration": 10,
        "start_time": "2022-08-16T08:50:45.768Z"
      },
      {
        "duration": 821,
        "start_time": "2022-08-16T08:51:01.637Z"
      },
      {
        "duration": 28,
        "start_time": "2022-08-16T08:51:02.460Z"
      },
      {
        "duration": 10,
        "start_time": "2022-08-16T08:51:02.490Z"
      },
      {
        "duration": 4,
        "start_time": "2022-08-16T08:51:03.044Z"
      },
      {
        "duration": 3,
        "start_time": "2022-08-16T08:51:03.276Z"
      },
      {
        "duration": 41854,
        "start_time": "2022-08-16T08:51:03.487Z"
      },
      {
        "duration": 6820,
        "start_time": "2022-08-16T08:51:45.343Z"
      },
      {
        "duration": 15,
        "start_time": "2022-08-16T08:51:52.165Z"
      },
      {
        "duration": 4,
        "start_time": "2022-08-16T08:53:46.265Z"
      },
      {
        "duration": 1351576,
        "start_time": "2022-08-16T08:53:53.080Z"
      },
      {
        "duration": 1421866,
        "start_time": "2022-08-16T09:17:56.724Z"
      },
      {
        "duration": 1536,
        "start_time": "2022-08-16T10:13:22.566Z"
      },
      {
        "duration": 900,
        "start_time": "2022-08-16T10:13:24.330Z"
      },
      {
        "duration": 27,
        "start_time": "2022-08-16T10:13:25.232Z"
      },
      {
        "duration": 6,
        "start_time": "2022-08-16T10:13:25.618Z"
      },
      {
        "duration": 4,
        "start_time": "2022-08-16T10:13:27.970Z"
      },
      {
        "duration": 3,
        "start_time": "2022-08-16T10:13:28.543Z"
      },
      {
        "duration": 42343,
        "start_time": "2022-08-16T10:13:30.696Z"
      },
      {
        "duration": 101092,
        "start_time": "2022-08-16T10:14:13.043Z"
      },
      {
        "duration": 41,
        "start_time": "2022-08-16T10:19:55.272Z"
      },
      {
        "duration": 57,
        "start_time": "2022-08-16T10:19:58.980Z"
      },
      {
        "duration": 104017,
        "start_time": "2022-08-16T10:20:02.024Z"
      },
      {
        "duration": 0,
        "start_time": "2022-08-16T10:21:46.043Z"
      },
      {
        "duration": 88,
        "start_time": "2022-08-16T10:26:58.975Z"
      },
      {
        "duration": 112397,
        "start_time": "2022-08-16T10:31:07.576Z"
      },
      {
        "duration": 491028,
        "start_time": "2022-08-16T10:34:15.427Z"
      },
      {
        "duration": 0,
        "start_time": "2022-08-16T10:42:26.456Z"
      },
      {
        "duration": 0,
        "start_time": "2022-08-16T10:42:26.458Z"
      },
      {
        "duration": 1703,
        "start_time": "2022-08-16T13:44:20.434Z"
      },
      {
        "duration": 2041,
        "start_time": "2022-08-16T13:44:22.139Z"
      },
      {
        "duration": 25,
        "start_time": "2022-08-16T13:44:24.182Z"
      },
      {
        "duration": 5,
        "start_time": "2022-08-16T13:44:24.209Z"
      },
      {
        "duration": 5,
        "start_time": "2022-08-16T13:44:24.215Z"
      },
      {
        "duration": 5,
        "start_time": "2022-08-16T13:44:24.222Z"
      },
      {
        "duration": 41239,
        "start_time": "2022-08-16T13:44:25.824Z"
      },
      {
        "duration": 43,
        "start_time": "2022-08-16T13:45:07.065Z"
      },
      {
        "duration": 55,
        "start_time": "2022-08-16T13:45:07.110Z"
      },
      {
        "duration": 1004,
        "start_time": "2022-08-16T13:45:07.168Z"
      },
      {
        "duration": 8,
        "start_time": "2022-08-16T13:45:14.431Z"
      },
      {
        "duration": 3,
        "start_time": "2022-08-16T13:45:19.214Z"
      },
      {
        "duration": 4,
        "start_time": "2022-08-16T13:45:30.958Z"
      },
      {
        "duration": 689,
        "start_time": "2022-08-16T13:45:56.112Z"
      },
      {
        "duration": 653180,
        "start_time": "2022-08-16T13:46:06.035Z"
      },
      {
        "duration": 2,
        "start_time": "2022-08-16T13:56:59.217Z"
      },
      {
        "duration": 74,
        "start_time": "2022-08-16T13:56:59.220Z"
      },
      {
        "duration": 1007,
        "start_time": "2022-08-16T13:57:15.715Z"
      },
      {
        "duration": 10,
        "start_time": "2022-08-16T13:57:22.738Z"
      },
      {
        "duration": 4,
        "start_time": "2022-08-16T13:58:32.290Z"
      },
      {
        "duration": 9,
        "start_time": "2022-08-16T13:58:35.336Z"
      },
      {
        "duration": 35536,
        "start_time": "2022-08-16T13:58:47.243Z"
      },
      {
        "duration": 18,
        "start_time": "2022-08-16T14:00:57.448Z"
      },
      {
        "duration": 9,
        "start_time": "2022-08-16T14:01:23.315Z"
      },
      {
        "duration": 13,
        "start_time": "2022-08-16T14:01:42.297Z"
      },
      {
        "duration": 110,
        "start_time": "2022-08-16T14:02:38.662Z"
      },
      {
        "duration": 138,
        "start_time": "2022-08-16T14:03:13.878Z"
      },
      {
        "duration": 30146,
        "start_time": "2022-08-16T14:03:16.061Z"
      },
      {
        "duration": 62438,
        "start_time": "2022-08-16T14:04:05.394Z"
      },
      {
        "duration": 475220,
        "start_time": "2022-08-16T14:05:15.174Z"
      },
      {
        "duration": 4,
        "start_time": "2022-08-16T14:13:25.344Z"
      },
      {
        "duration": 1703,
        "start_time": "2022-08-16T14:14:45.752Z"
      },
      {
        "duration": 841,
        "start_time": "2022-08-16T14:14:47.457Z"
      },
      {
        "duration": 25,
        "start_time": "2022-08-16T14:14:48.300Z"
      },
      {
        "duration": 6,
        "start_time": "2022-08-16T14:14:48.327Z"
      },
      {
        "duration": 8,
        "start_time": "2022-08-16T14:14:48.335Z"
      },
      {
        "duration": 3,
        "start_time": "2022-08-16T14:14:48.723Z"
      },
      {
        "duration": 40915,
        "start_time": "2022-08-16T14:14:49.474Z"
      },
      {
        "duration": 44,
        "start_time": "2022-08-16T14:15:30.391Z"
      },
      {
        "duration": 62,
        "start_time": "2022-08-16T14:15:30.437Z"
      },
      {
        "duration": 754350,
        "start_time": "2022-08-16T14:15:30.501Z"
      },
      {
        "duration": 3,
        "start_time": "2022-08-16T14:28:04.854Z"
      },
      {
        "duration": 76,
        "start_time": "2022-08-16T14:28:04.858Z"
      },
      {
        "duration": 12,
        "start_time": "2022-08-16T14:28:04.936Z"
      },
      {
        "duration": 1751401,
        "start_time": "2022-08-16T14:28:04.949Z"
      },
      {
        "duration": 135007,
        "start_time": "2022-08-16T14:57:16.352Z"
      },
      {
        "duration": 44,
        "start_time": "2022-08-18T10:33:53.912Z"
      },
      {
        "duration": 1810,
        "start_time": "2022-08-18T10:33:55.976Z"
      },
      {
        "duration": 3,
        "start_time": "2022-08-18T10:33:59.576Z"
      },
      {
        "duration": 1646,
        "start_time": "2022-08-21T19:37:52.341Z"
      },
      {
        "duration": 3,
        "start_time": "2022-08-21T19:37:53.989Z"
      },
      {
        "duration": 2215,
        "start_time": "2022-08-21T19:37:55.189Z"
      },
      {
        "duration": 27,
        "start_time": "2022-08-21T19:38:00.247Z"
      },
      {
        "duration": 4,
        "start_time": "2022-08-21T19:38:04.115Z"
      },
      {
        "duration": 4,
        "start_time": "2022-08-21T19:38:06.069Z"
      },
      {
        "duration": 36499,
        "start_time": "2022-08-21T19:39:18.049Z"
      },
      {
        "duration": 0,
        "start_time": "2022-08-21T19:39:54.550Z"
      },
      {
        "duration": 0,
        "start_time": "2022-08-21T19:39:54.551Z"
      },
      {
        "duration": 0,
        "start_time": "2022-08-21T19:39:54.553Z"
      },
      {
        "duration": 0,
        "start_time": "2022-08-21T19:39:54.554Z"
      },
      {
        "duration": 4,
        "start_time": "2022-08-21T19:40:02.044Z"
      },
      {
        "duration": 36303,
        "start_time": "2022-08-21T19:40:02.527Z"
      },
      {
        "duration": 34,
        "start_time": "2022-08-21T19:40:38.832Z"
      },
      {
        "duration": 61,
        "start_time": "2022-08-21T19:40:38.868Z"
      },
      {
        "duration": 3,
        "start_time": "2022-08-21T19:40:38.932Z"
      },
      {
        "duration": 6022,
        "start_time": "2022-08-21T19:40:38.936Z"
      },
      {
        "duration": 23,
        "start_time": "2022-08-21T19:40:44.960Z"
      },
      {
        "duration": 0,
        "start_time": "2022-08-21T19:40:44.985Z"
      },
      {
        "duration": 1432,
        "start_time": "2022-08-21T19:41:56.571Z"
      },
      {
        "duration": 4,
        "start_time": "2022-08-21T19:41:58.005Z"
      },
      {
        "duration": 838,
        "start_time": "2022-08-21T19:41:58.011Z"
      },
      {
        "duration": 20,
        "start_time": "2022-08-21T19:41:58.851Z"
      },
      {
        "duration": 5,
        "start_time": "2022-08-21T19:41:59.602Z"
      },
      {
        "duration": 4,
        "start_time": "2022-08-21T19:42:01.131Z"
      },
      {
        "duration": 3,
        "start_time": "2022-08-21T19:42:01.423Z"
      },
      {
        "duration": 36881,
        "start_time": "2022-08-21T19:42:01.962Z"
      },
      {
        "duration": 31,
        "start_time": "2022-08-21T19:42:38.845Z"
      },
      {
        "duration": 51,
        "start_time": "2022-08-21T19:42:38.878Z"
      },
      {
        "duration": 3,
        "start_time": "2022-08-21T19:42:38.931Z"
      },
      {
        "duration": 6072,
        "start_time": "2022-08-21T19:42:38.936Z"
      },
      {
        "duration": 17,
        "start_time": "2022-08-21T19:42:45.010Z"
      },
      {
        "duration": 12,
        "start_time": "2022-08-21T19:42:45.029Z"
      },
      {
        "duration": 1329435,
        "start_time": "2022-08-21T19:42:45.043Z"
      },
      {
        "duration": 1314570,
        "start_time": "2022-08-21T20:08:35.221Z"
      },
      {
        "duration": 106030,
        "start_time": "2022-08-21T20:30:29.793Z"
      },
      {
        "duration": 131083,
        "start_time": "2022-08-21T20:32:24.008Z"
      },
      {
        "duration": 94326,
        "start_time": "2022-08-21T20:34:49.748Z"
      },
      {
        "duration": 1655062,
        "start_time": "2022-08-21T20:36:39.238Z"
      },
      {
        "duration": 917,
        "start_time": "2022-08-21T21:11:14.518Z"
      },
      {
        "duration": 1332710,
        "start_time": "2022-08-21T21:12:37.283Z"
      },
      {
        "duration": 867,
        "start_time": "2022-08-21T21:34:49.995Z"
      },
      {
        "duration": 865,
        "start_time": "2022-08-21T21:37:12.054Z"
      },
      {
        "duration": 1787,
        "start_time": "2022-08-23T09:16:15.855Z"
      },
      {
        "duration": 4,
        "start_time": "2022-08-23T09:16:19.785Z"
      },
      {
        "duration": 2396,
        "start_time": "2022-08-23T09:16:22.516Z"
      },
      {
        "duration": 29,
        "start_time": "2022-08-23T09:16:24.914Z"
      },
      {
        "duration": 5,
        "start_time": "2022-08-23T09:16:25.235Z"
      },
      {
        "duration": 4,
        "start_time": "2022-08-23T09:16:28.751Z"
      },
      {
        "duration": 4,
        "start_time": "2022-08-23T09:16:30.523Z"
      },
      {
        "duration": 40015,
        "start_time": "2022-08-23T09:16:32.557Z"
      },
      {
        "duration": 7,
        "start_time": "2022-08-23T09:36:08.322Z"
      },
      {
        "duration": 142,
        "start_time": "2022-08-23T09:42:43.283Z"
      },
      {
        "duration": 16,
        "start_time": "2022-08-23T09:43:01.276Z"
      },
      {
        "duration": 63,
        "start_time": "2022-08-23T09:48:18.114Z"
      },
      {
        "duration": 105,
        "start_time": "2022-08-23T09:48:22.725Z"
      },
      {
        "duration": 12,
        "start_time": "2022-08-23T09:48:26.026Z"
      },
      {
        "duration": 4,
        "start_time": "2022-08-23T09:48:31.441Z"
      },
      {
        "duration": 4,
        "start_time": "2022-08-23T09:49:08.516Z"
      },
      {
        "duration": 0,
        "start_time": "2022-08-23T09:50:24.730Z"
      },
      {
        "duration": 46526,
        "start_time": "2022-08-23T09:50:37.530Z"
      },
      {
        "duration": 204283,
        "start_time": "2022-08-23T09:51:24.058Z"
      },
      {
        "duration": 3,
        "start_time": "2022-08-23T09:56:33.413Z"
      },
      {
        "duration": 25,
        "start_time": "2022-08-23T09:57:53.199Z"
      },
      {
        "duration": 18,
        "start_time": "2022-08-23T10:02:28.032Z"
      },
      {
        "duration": 10,
        "start_time": "2022-08-23T10:08:47.914Z"
      },
      {
        "duration": 14,
        "start_time": "2022-08-23T10:09:13.116Z"
      },
      {
        "duration": 3507,
        "start_time": "2022-08-23T10:11:12.914Z"
      },
      {
        "duration": 28,
        "start_time": "2022-08-23T10:11:18.245Z"
      },
      {
        "duration": 32,
        "start_time": "2022-08-23T10:11:20.677Z"
      },
      {
        "duration": 138344,
        "start_time": "2022-08-23T10:14:38.722Z"
      },
      {
        "duration": 0,
        "start_time": "2022-08-23T10:16:57.068Z"
      },
      {
        "duration": 11,
        "start_time": "2022-08-23T10:17:29.699Z"
      },
      {
        "duration": 381,
        "start_time": "2022-08-23T10:22:46.100Z"
      },
      {
        "duration": 4,
        "start_time": "2022-08-23T10:23:00.418Z"
      },
      {
        "duration": 74464,
        "start_time": "2022-08-23T10:23:06.368Z"
      },
      {
        "duration": 5,
        "start_time": "2022-08-23T10:24:54.417Z"
      },
      {
        "duration": 5,
        "start_time": "2022-08-23T10:25:05.043Z"
      },
      {
        "duration": 4,
        "start_time": "2022-08-23T10:25:37.253Z"
      },
      {
        "duration": 5,
        "start_time": "2022-08-23T10:26:11.939Z"
      },
      {
        "duration": 77012,
        "start_time": "2022-08-23T10:27:44.939Z"
      },
      {
        "duration": 4,
        "start_time": "2022-08-23T10:29:01.954Z"
      },
      {
        "duration": 50,
        "start_time": "2022-08-23T10:29:30.424Z"
      },
      {
        "duration": 60,
        "start_time": "2022-08-23T10:29:31.955Z"
      },
      {
        "duration": 7445,
        "start_time": "2022-08-23T10:29:36.271Z"
      },
      {
        "duration": 9,
        "start_time": "2022-08-23T10:29:43.721Z"
      },
      {
        "duration": 8,
        "start_time": "2022-08-23T10:29:53.488Z"
      },
      {
        "duration": 109489,
        "start_time": "2022-08-23T10:29:57.716Z"
      },
      {
        "duration": 536106,
        "start_time": "2022-08-23T10:31:47.210Z"
      },
      {
        "duration": 808498,
        "start_time": "2022-08-23T10:40:43.318Z"
      },
      {
        "duration": 776153,
        "start_time": "2022-08-23T10:54:11.820Z"
      },
      {
        "duration": 35,
        "start_time": "2022-08-23T11:07:07.975Z"
      },
      {
        "duration": 1302338,
        "start_time": "2022-08-23T11:07:08.016Z"
      },
      {
        "duration": 59815,
        "start_time": "2022-08-23T11:33:54.377Z"
      },
      {
        "duration": 1299914,
        "start_time": "2022-08-23T11:35:05.914Z"
      },
      {
        "duration": 64245,
        "start_time": "2022-08-23T11:58:04.633Z"
      },
      {
        "duration": 56475,
        "start_time": "2022-08-23T11:59:12.183Z"
      },
      {
        "duration": 1318666,
        "start_time": "2022-08-23T12:00:09.610Z"
      },
      {
        "duration": 50272,
        "start_time": "2022-08-23T12:28:19.132Z"
      },
      {
        "duration": 1301719,
        "start_time": "2022-08-23T12:29:20.402Z"
      },
      {
        "duration": 858,
        "start_time": "2022-08-23T14:47:42.567Z"
      },
      {
        "duration": 338608,
        "start_time": "2022-08-23T14:47:45.802Z"
      },
      {
        "duration": 1103,
        "start_time": "2022-08-23T14:53:24.412Z"
      },
      {
        "duration": 973,
        "start_time": "2022-08-23T14:53:25.517Z"
      },
      {
        "duration": 603,
        "start_time": "2022-08-23T20:01:23.298Z"
      },
      {
        "duration": 1449,
        "start_time": "2022-08-23T20:01:30.716Z"
      },
      {
        "duration": 4,
        "start_time": "2022-08-23T20:01:32.167Z"
      },
      {
        "duration": 3364,
        "start_time": "2022-08-23T20:01:32.173Z"
      },
      {
        "duration": 31,
        "start_time": "2022-08-23T20:01:35.540Z"
      },
      {
        "duration": 5,
        "start_time": "2022-08-23T20:01:35.573Z"
      },
      {
        "duration": 12,
        "start_time": "2022-08-23T20:01:35.579Z"
      },
      {
        "duration": 4,
        "start_time": "2022-08-23T20:01:35.593Z"
      },
      {
        "duration": 399,
        "start_time": "2022-08-23T20:01:35.599Z"
      },
      {
        "duration": 0,
        "start_time": "2022-08-23T20:01:36.000Z"
      },
      {
        "duration": 0,
        "start_time": "2022-08-23T20:01:36.001Z"
      },
      {
        "duration": 0,
        "start_time": "2022-08-23T20:01:36.003Z"
      },
      {
        "duration": 0,
        "start_time": "2022-08-23T20:01:36.005Z"
      },
      {
        "duration": 0,
        "start_time": "2022-08-23T20:01:36.006Z"
      },
      {
        "duration": 0,
        "start_time": "2022-08-23T20:01:36.008Z"
      },
      {
        "duration": 3,
        "start_time": "2022-08-23T20:01:52.152Z"
      },
      {
        "duration": 311,
        "start_time": "2022-08-23T20:01:53.163Z"
      },
      {
        "duration": 1765,
        "start_time": "2022-08-23T20:04:30.790Z"
      },
      {
        "duration": 4,
        "start_time": "2022-08-23T20:04:32.557Z"
      },
      {
        "duration": 928,
        "start_time": "2022-08-23T20:04:32.562Z"
      },
      {
        "duration": 34,
        "start_time": "2022-08-23T20:04:33.492Z"
      },
      {
        "duration": 5,
        "start_time": "2022-08-23T20:04:33.530Z"
      },
      {
        "duration": 4,
        "start_time": "2022-08-23T20:04:33.537Z"
      },
      {
        "duration": 7,
        "start_time": "2022-08-23T20:04:33.543Z"
      },
      {
        "duration": 507,
        "start_time": "2022-08-23T20:04:33.551Z"
      },
      {
        "duration": 0,
        "start_time": "2022-08-23T20:04:34.061Z"
      },
      {
        "duration": 0,
        "start_time": "2022-08-23T20:04:34.063Z"
      },
      {
        "duration": 0,
        "start_time": "2022-08-23T20:04:34.066Z"
      },
      {
        "duration": 0,
        "start_time": "2022-08-23T20:04:34.067Z"
      },
      {
        "duration": 0,
        "start_time": "2022-08-23T20:04:34.068Z"
      },
      {
        "duration": 0,
        "start_time": "2022-08-23T20:04:34.070Z"
      },
      {
        "duration": 0,
        "start_time": "2022-08-23T20:04:34.071Z"
      },
      {
        "duration": 0,
        "start_time": "2022-08-23T20:04:34.072Z"
      },
      {
        "duration": 0,
        "start_time": "2022-08-23T20:04:34.073Z"
      },
      {
        "duration": 0,
        "start_time": "2022-08-23T20:04:34.074Z"
      },
      {
        "duration": 0,
        "start_time": "2022-08-23T20:04:34.075Z"
      },
      {
        "duration": 0,
        "start_time": "2022-08-23T20:04:34.076Z"
      },
      {
        "duration": 0,
        "start_time": "2022-08-23T20:04:34.077Z"
      },
      {
        "duration": 0,
        "start_time": "2022-08-23T20:04:34.079Z"
      },
      {
        "duration": 0,
        "start_time": "2022-08-23T20:04:34.079Z"
      },
      {
        "duration": 0,
        "start_time": "2022-08-23T20:04:34.081Z"
      },
      {
        "duration": 80473,
        "start_time": "2022-08-23T20:07:53.899Z"
      },
      {
        "duration": 5,
        "start_time": "2022-08-23T20:09:14.374Z"
      },
      {
        "duration": 69,
        "start_time": "2022-08-23T20:09:14.380Z"
      },
      {
        "duration": 86,
        "start_time": "2022-08-23T20:09:14.451Z"
      },
      {
        "duration": 2,
        "start_time": "2022-08-23T20:09:14.539Z"
      },
      {
        "duration": 7290,
        "start_time": "2022-08-23T20:09:14.543Z"
      },
      {
        "duration": 75,
        "start_time": "2022-08-23T20:09:21.835Z"
      },
      {
        "duration": 16,
        "start_time": "2022-08-23T20:09:21.913Z"
      },
      {
        "duration": 133022,
        "start_time": "2022-08-23T20:09:21.931Z"
      },
      {
        "duration": 653500,
        "start_time": "2022-08-23T20:11:34.956Z"
      },
      {
        "duration": 529238,
        "start_time": "2022-08-23T20:22:28.458Z"
      },
      {
        "duration": 14,
        "start_time": "2022-08-23T20:31:17.698Z"
      },
      {
        "duration": 1342812,
        "start_time": "2022-08-23T20:31:17.714Z"
      },
      {
        "duration": 1400025,
        "start_time": "2022-08-23T20:53:40.528Z"
      },
      {
        "duration": 976,
        "start_time": "2022-08-23T21:17:00.555Z"
      },
      {
        "duration": 360270,
        "start_time": "2022-08-23T21:17:01.533Z"
      },
      {
        "duration": 1290,
        "start_time": "2022-08-23T21:23:01.806Z"
      },
      {
        "duration": 1359093,
        "start_time": "2022-08-23T21:32:35.516Z"
      },
      {
        "duration": 1370668,
        "start_time": "2022-08-23T21:57:39.241Z"
      },
      {
        "duration": 917,
        "start_time": "2022-08-23T22:24:32.260Z"
      },
      {
        "duration": 388490,
        "start_time": "2022-08-23T22:24:34.136Z"
      },
      {
        "duration": 1277,
        "start_time": "2022-08-23T22:31:02.628Z"
      }
    ],
    "kernelspec": {
      "display_name": "Python 3 (ipykernel)",
      "language": "python",
      "name": "python3"
    },
    "language_info": {
      "codemirror_mode": {
        "name": "ipython",
        "version": 3
      },
      "file_extension": ".py",
      "mimetype": "text/x-python",
      "name": "python",
      "nbconvert_exporter": "python",
      "pygments_lexer": "ipython3",
      "version": "3.9.5"
    },
    "toc": {
      "base_numbering": 1,
      "nav_menu": {},
      "number_sections": true,
      "sideBar": true,
      "skip_h1_title": true,
      "title_cell": "Содержание",
      "title_sidebar": "Contents",
      "toc_cell": true,
      "toc_position": {
        "height": "calc(100% - 180px)",
        "left": "10px",
        "top": "150px",
        "width": "302.391px"
      },
      "toc_section_display": true,
      "toc_window_display": false
    },
    "colab": {
      "provenance": [],
      "collapsed_sections": []
    }
  },
  "nbformat": 4,
  "nbformat_minor": 0
}