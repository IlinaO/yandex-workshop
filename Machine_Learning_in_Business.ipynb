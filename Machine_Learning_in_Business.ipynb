{
  "cells": [
    {
      "cell_type": "markdown",
      "source": [
        "**Описание проекта**\n",
        "\n",
        "Допустим, вы работаете в добывающей компании «ГлавРосГосНефть». Нужно решить, где бурить новую скважину.\n",
        "\n",
        "Шаги для выбора локации обычно такие:\n",
        "В избранном регионе собирают характеристики для скважин: качество нефти и объём её запасов;\n",
        "Строят модель для предсказания объёма запасов в новых скважинах;\n",
        "Выбирают скважины с самыми высокими оценками значений;\n",
        "Определяют регион с максимальной суммарной прибылью отобранных скважин.\n",
        "Вам предоставлены пробы нефти в трёх регионах. Характеристики для каждой скважины в регионе уже известны. Постройте модель для определения региона, где добыча принесёт наибольшую прибыль. Проанализируйте возможную прибыль и риски техникой Bootstrap.\n",
        "\n",
        "\n",
        "**Описание данных**\n",
        "\n",
        "Данные геологоразведки трёх регионов находятся в файлах\n",
        "\n",
        "  * id — уникальный идентификатор скважины;\n",
        "  * f0, f1, f2 — три признака точек (неважно, что они означают, но сами признаки значимы);\n",
        "  * product — объём запасов в скважине (тыс. баррелей).\n",
        "\n",
        "**Условия задачи:**\n",
        "\n",
        "Для обучения модели подходит только линейная регрессия (остальные — недостаточно предсказуемые).\n",
        "При разведке региона исследуют 500 точек, из которых с помощью машинного обучения выбирают 200 лучших для разработки.\n",
        "Бюджет на разработку скважин в регионе — 10 млрд рублей.\n",
        "При нынешних ценах один баррель сырья приносит 450 рублей дохода. Доход с каждой единицы продукта составляет 450 тыс. рублей, поскольку объём указан в тысячах баррелей.\n",
        "После оценки рисков нужно оставить лишь те регионы, в которых вероятность убытков меньше 2.5%. Среди них выбирают регион с наибольшей средней прибылью."
      ],
      "metadata": {
        "id": "HIkGw7GKH6Wp"
      }
    },
    {
      "cell_type": "markdown",
      "metadata": {
        "id": "5gHpVbdgH3LQ"
      },
      "source": [
        "## Загрузка и подготовка данных"
      ]
    },
    {
      "cell_type": "code",
      "execution_count": null,
      "metadata": {
        "id": "YGhud92CH3LR"
      },
      "outputs": [],
      "source": [
        "import pandas as pd\n",
        "import numpy as np\n",
        "import matplotlib.pyplot as plt\n",
        "from sklearn.model_selection import train_test_split\n",
        "from sklearn.linear_model import LinearRegression\n",
        "from sklearn.metrics import mean_squared_error"
      ]
    },
    {
      "cell_type": "code",
      "execution_count": null,
      "metadata": {
        "id": "r4y0C8zfH3LS"
      },
      "outputs": [],
      "source": [
        "df_0 = pd.read_csv('/datasets/geo_data_0.csv', decimal = ',')\n",
        "df_1 = pd.read_csv('/datasets/geo_data_1.csv', decimal = ',')\n",
        "df_2 = pd.read_csv('/datasets/geo_data_2.csv', decimal = ',')"
      ]
    },
    {
      "cell_type": "code",
      "execution_count": null,
      "metadata": {
        "id": "9E0HjiUEH3LT",
        "outputId": "cb0dd4d3-f1e2-46fa-b30c-3abb15695989"
      },
      "outputs": [
        {
          "data": {
            "text/html": [
              "<div>\n",
              "<style scoped>\n",
              "    .dataframe tbody tr th:only-of-type {\n",
              "        vertical-align: middle;\n",
              "    }\n",
              "\n",
              "    .dataframe tbody tr th {\n",
              "        vertical-align: top;\n",
              "    }\n",
              "\n",
              "    .dataframe thead th {\n",
              "        text-align: right;\n",
              "    }\n",
              "</style>\n",
              "<table border=\"1\" class=\"dataframe\">\n",
              "  <thead>\n",
              "    <tr style=\"text-align: right;\">\n",
              "      <th></th>\n",
              "      <th>id</th>\n",
              "      <th>f0</th>\n",
              "      <th>f1</th>\n",
              "      <th>f2</th>\n",
              "      <th>product</th>\n",
              "    </tr>\n",
              "  </thead>\n",
              "  <tbody>\n",
              "    <tr>\n",
              "      <th>0</th>\n",
              "      <td>txEyH</td>\n",
              "      <td>0.7057449842080644</td>\n",
              "      <td>-0.4978225001976334</td>\n",
              "      <td>1.22116994843607</td>\n",
              "      <td>105.28006184349583</td>\n",
              "    </tr>\n",
              "    <tr>\n",
              "      <th>1</th>\n",
              "      <td>2acmU</td>\n",
              "      <td>1.3347112926051892</td>\n",
              "      <td>-0.3401642528583136</td>\n",
              "      <td>4.3650803324282</td>\n",
              "      <td>73.03775026515737</td>\n",
              "    </tr>\n",
              "    <tr>\n",
              "      <th>2</th>\n",
              "      <td>409Wp</td>\n",
              "      <td>1.0227322634721168</td>\n",
              "      <td>0.15199044457022945</td>\n",
              "      <td>1.4199262386740652</td>\n",
              "      <td>85.26564713099945</td>\n",
              "    </tr>\n",
              "    <tr>\n",
              "      <th>3</th>\n",
              "      <td>iJLyR</td>\n",
              "      <td>-0.03217162450743976</td>\n",
              "      <td>0.13903270818447744</td>\n",
              "      <td>2.9785659663204838</td>\n",
              "      <td>168.62077555509563</td>\n",
              "    </tr>\n",
              "    <tr>\n",
              "      <th>4</th>\n",
              "      <td>Xdl7t</td>\n",
              "      <td>1.988431059439699</td>\n",
              "      <td>0.15541267777667178</td>\n",
              "      <td>4.751769119262962</td>\n",
              "      <td>154.03664673738086</td>\n",
              "    </tr>\n",
              "  </tbody>\n",
              "</table>\n",
              "</div>"
            ],
            "text/plain": [
              "      id                    f0                   f1                  f2  \\\n",
              "0  txEyH    0.7057449842080644  -0.4978225001976334    1.22116994843607   \n",
              "1  2acmU    1.3347112926051892  -0.3401642528583136     4.3650803324282   \n",
              "2  409Wp    1.0227322634721168  0.15199044457022945  1.4199262386740652   \n",
              "3  iJLyR  -0.03217162450743976  0.13903270818447744  2.9785659663204838   \n",
              "4  Xdl7t     1.988431059439699  0.15541267777667178   4.751769119262962   \n",
              "\n",
              "              product  \n",
              "0  105.28006184349583  \n",
              "1   73.03775026515737  \n",
              "2   85.26564713099945  \n",
              "3  168.62077555509563  \n",
              "4  154.03664673738086  "
            ]
          },
          "execution_count": 3,
          "metadata": {},
          "output_type": "execute_result"
        }
      ],
      "source": [
        "df_0.head()"
      ]
    },
    {
      "cell_type": "code",
      "execution_count": null,
      "metadata": {
        "id": "QZ5X1YanH3LU",
        "outputId": "16b67e14-024d-48c7-e747-edb7241a2d42"
      },
      "outputs": [
        {
          "name": "stdout",
          "output_type": "stream",
          "text": [
            "<class 'pandas.core.frame.DataFrame'>\n",
            "RangeIndex: 100000 entries, 0 to 99999\n",
            "Data columns (total 5 columns):\n",
            " #   Column   Non-Null Count   Dtype \n",
            "---  ------   --------------   ----- \n",
            " 0   id       100000 non-null  object\n",
            " 1   f0       100000 non-null  object\n",
            " 2   f1       100000 non-null  object\n",
            " 3   f2       100000 non-null  object\n",
            " 4   product  100000 non-null  object\n",
            "dtypes: object(5)\n",
            "memory usage: 3.8+ MB\n"
          ]
        }
      ],
      "source": [
        "df_0.info()"
      ]
    },
    {
      "cell_type": "code",
      "execution_count": null,
      "metadata": {
        "id": "vEcv_5goH3LU"
      },
      "outputs": [],
      "source": [
        "df_0['f0'] = pd.to_numeric(df_0['f0'])\n",
        "df_0['f1'] = pd.to_numeric(df_0['f1'])\n",
        "df_0['f2'] = pd.to_numeric(df_0['f2'])\n",
        "df_0['product'] = pd.to_numeric(df_0['product'])\n",
        "\n",
        "df_1['f0'] = pd.to_numeric(df_1['f0'])\n",
        "df_1['f1'] = pd.to_numeric(df_1['f1'])\n",
        "df_1['f2'] = pd.to_numeric(df_1['f2'])\n",
        "df_1['product'] = pd.to_numeric(df_1['product'])\n",
        "\n",
        "df_2['f0'] = pd.to_numeric(df_2['f0'])\n",
        "df_2['f1'] = pd.to_numeric(df_2['f1'])\n",
        "df_2['f2'] = pd.to_numeric(df_2['f2'])\n",
        "df_2['product'] = pd.to_numeric(df_2['product'])"
      ]
    },
    {
      "cell_type": "code",
      "execution_count": null,
      "metadata": {
        "id": "RbiEy3PNH3LV",
        "outputId": "45873af9-6d9a-4601-89cf-aa1718dfc561"
      },
      "outputs": [
        {
          "data": {
            "text/plain": [
              "Text(0.5, 1.0, 'f_2')"
            ]
          },
          "execution_count": 16,
          "metadata": {},
          "output_type": "execute_result"
        },
        {
          "data": {
            "image/png": "[encoded data removed]",
            "text/plain": [
              "<Figure size 1152x1152 with 3 Axes>"
            ]
          },
          "metadata": {
            "needs_background": "light"
          },
          "output_type": "display_data"
        }
      ],
      "source": [
        "# Настройка размеров подложки\n",
        "plt.figure(figsize=(16, 16))\n",
        "\n",
        "# Вывод графиков\n",
        "plt.subplot(3, 2, 1)\n",
        "df_0['product'].hist(bins=100)\n",
        "plt.title('f_0', fontsize=15)\n",
        "\n",
        "plt.subplot(3, 2, 2)\n",
        "df_1['product'].hist(bins=100)\n",
        "plt.title('f_1', fontsize=15)\n",
        "\n",
        "plt.subplot(3, 2, 3)\n",
        "df_2['product'].hist(bins=100)\n",
        "plt.title('f_2', fontsize=15)"
      ]
    },
    {
      "cell_type": "code",
      "execution_count": null,
      "metadata": {
        "id": "Y3x73Qp2H3LV",
        "outputId": "de1d6d92-2546-4cf9-9325-333867e74de6"
      },
      "outputs": [
        {
          "data": {
            "text/plain": [
              "array([  3.17910258,  26.95326103, 134.76630516, 137.94540774,\n",
              "        84.03888568, 110.99214671,  53.90652206,   0.        ,\n",
              "       107.81304413,  57.08562465,  30.13236361,  80.85978309])"
            ]
          },
          "execution_count": 21,
          "metadata": {},
          "output_type": "execute_result"
        }
      ],
      "source": [
        "df_1['product'].unique()"
      ]
    },
    {
      "cell_type": "markdown",
      "metadata": {
        "id": "AQMQarghH3LV"
      },
      "source": [
        "в первом регионе довольно странные значения объемов ресурсов. Не думаю, что стоит исправлять эти данные (лучше всего обратиться к заказчику)"
      ]
    },
    {
      "cell_type": "markdown",
      "metadata": {
        "id": "8xjcCoGDH3LW"
      },
      "source": [
        "## Обучение и проверка модели"
      ]
    },
    {
      "cell_type": "code",
      "execution_count": null,
      "metadata": {
        "id": "9pWVOSntH3LX"
      },
      "outputs": [],
      "source": [
        "def division(df):\n",
        "    df_train, df_valid = train_test_split(df, test_size=0.25, random_state=12345)\n",
        "    features_train = df_train[['f0', 'f1', 'f2']]\n",
        "    target_train = df_train['product']\n",
        "    features_valid = df_valid[['f0', 'f1', 'f2']]\n",
        "    target_valid = df_valid['product']\n",
        "    return features_train, target_train, features_valid, target_valid"
      ]
    },
    {
      "cell_type": "markdown",
      "metadata": {
        "id": "RXMkysdCH3LX"
      },
      "source": [
        "столбец с идентификаторами не подходит для обучения модели, поэтому его не включила в features"
      ]
    },
    {
      "cell_type": "code",
      "execution_count": null,
      "metadata": {
        "id": "OHLJyzMfH3LX"
      },
      "outputs": [],
      "source": [
        "features_train_0, target_train_0, features_valid_0, target_valid_0 = division(df_0)\n",
        "features_train_1, target_train_1, features_valid_1, target_valid_1 = division(df_1)\n",
        "features_train_2, target_train_2, features_valid_2, target_valid_2 = division(df_2)"
      ]
    },
    {
      "cell_type": "code",
      "execution_count": null,
      "metadata": {
        "scrolled": true,
        "id": "VmhxDgpYH3LX",
        "outputId": "b3b0e96e-7804-4226-e05c-bfb746766eae"
      },
      "outputs": [
        {
          "name": "stdout",
          "output_type": "stream",
          "text": [
            "mean prediction 0: 92.59256778438035\n",
            "rmse 0: 37.5794217150813\n",
            "mean prediction 1: 68.728546895446\n",
            "rmse 1: 0.893099286775617\n",
            "mean prediction 2: 94.96504596800489\n",
            "rmse 2: 40.02970873393434\n"
          ]
        }
      ],
      "source": [
        "model_0 = LinearRegression()\n",
        "model_0.fit(features_train_0, target_train_0) \n",
        "predictions_valid_0 = model_0.predict(features_valid_0)\n",
        "print('mean prediction 0:', predictions_valid_0.mean())\n",
        "print('rmse 0:', mean_squared_error(target_valid_0, predictions_valid_0)**0.5)\n",
        "\n",
        "model_1 = LinearRegression()\n",
        "model_1.fit(features_train_1, target_train_1) \n",
        "predictions_valid_1 = model_1.predict(features_valid_1)\n",
        "print('mean prediction 1:', predictions_valid_1.mean())\n",
        "print('rmse 1:', mean_squared_error(target_valid_1, predictions_valid_1)**0.5)\n",
        "\n",
        "model_2 = LinearRegression()\n",
        "model_2.fit(features_train_2, target_train_2) \n",
        "predictions_valid_2 = model_2.predict(features_valid_2)\n",
        "print('mean prediction 2:', predictions_valid_2.mean())\n",
        "print('rmse 2:', mean_squared_error(target_valid_2, predictions_valid_2)**0.5)"
      ]
    },
    {
      "cell_type": "markdown",
      "metadata": {
        "id": "LUZ1eJ5XH3LY"
      },
      "source": [
        "метрика rmse лучше всего себя показала на модели, построенной по данным из первого региона. Однако средний объем ресурсов в этом регионе значительно ниже, чем в остальных"
      ]
    },
    {
      "cell_type": "markdown",
      "metadata": {
        "id": "TjSA0SGnH3LY"
      },
      "source": [
        "## Подготовка к расчёту прибыли"
      ]
    },
    {
      "cell_type": "code",
      "execution_count": null,
      "metadata": {
        "id": "krkBF9YRH3LY",
        "outputId": "20acf4ca-75df-4e64-fe6d-00f4372fcb5f"
      },
      "outputs": [
        {
          "data": {
            "text/plain": [
              "111.11111111111111"
            ]
          },
          "execution_count": 9,
          "metadata": {},
          "output_type": "execute_result"
        }
      ],
      "source": [
        "# Рассчет объёма сырья для разработки новой скважины (затраты = доходам)\n",
        "BUDGET = 10000000000\n",
        "NUMBER_OF_WELLS = 200\n",
        "SELLING_PRICE = 450000\n",
        "V = BUDGET / (NUMBER_OF_WELLS * SELLING_PRICE)\n",
        "V"
      ]
    },
    {
      "cell_type": "code",
      "execution_count": null,
      "metadata": {
        "id": "SQka4CjHH3LZ",
        "outputId": "1abb7635-dfd3-40a0-966b-36757295d3cb"
      },
      "outputs": [
        {
          "name": "stdout",
          "output_type": "stream",
          "text": [
            "объем подходящих скважин в процентах в регионе 0: 36.583\n",
            "объем подходящих скважин в процентах в регионе 1: 16.537\n",
            "объем подходящих скважин в процентах в регионе 2: 38.178\n"
          ]
        }
      ],
      "source": [
        "print('объем подходящих скважин в процентах в регионе 0:',\\\n",
        "      df_0[df_0['product']>V]['product'].count() * 100 / df_0['product'].count())\n",
        "print('объем подходящих скважин в процентах в регионе 1:',\\\n",
        "      df_1[df_1['product']>V]['product'].count() * 100 / df_1['product'].count())\n",
        "print('объем подходящих скважин в процентах в регионе 2:',\\\n",
        "      df_2[df_2['product']>V]['product'].count() * 100 / df_2['product'].count())"
      ]
    },
    {
      "cell_type": "markdown",
      "metadata": {
        "id": "QOcqpCMlH3LZ"
      },
      "source": [
        "Затраты на зразработку одной скважины покрывает продажа 111 тыс баррелей нефти. В среднем в каждом регионе в скважинах меньше ресурсов. Ближе всего к этому значению 2й регион. В первом же не только ниже средний объем нефти на скважену, но и значительно меньше подходящих точек бурения."
      ]
    },
    {
      "cell_type": "markdown",
      "metadata": {
        "id": "9iyopdS2H3La"
      },
      "source": [
        "## Расчёт прибыли по предсказаниям"
      ]
    },
    {
      "cell_type": "code",
      "execution_count": null,
      "metadata": {
        "id": "pBsZ-qVdH3La"
      },
      "outputs": [],
      "source": [
        "def revenue(target, probabilities, count):\n",
        "    probs_sorted = probabilities.sort_values(ascending=False)\n",
        "    selected = target[probs_sorted.index][:count]\n",
        "    return 0.45 * selected.sum() - 10000 # все денежные одиницы перевожу млн. для удобства восприятия"
      ]
    },
    {
      "cell_type": "code",
      "execution_count": null,
      "metadata": {
        "id": "Qem0xiVbH3Lb",
        "outputId": "f0a15319-f31e-4d29-ced8-201e550d84a1"
      },
      "outputs": [
        {
          "name": "stdout",
          "output_type": "stream",
          "text": [
            "максимальная выручка в регионе 0 3320.8260431398503\n",
            "максимальная выручка в регионе 1 2415.086696681512\n",
            "максимальная выручка в регионе 2 2710.3499635998323\n"
          ]
        }
      ],
      "source": [
        "profit_0 = revenue(pd.Series(target_valid_0.to_numpy()), pd.Series(predictions_valid_0), 200)\n",
        "print('максимальная выручка в регионе 0', profit_0)\n",
        "\n",
        "profit_1 = revenue(pd.Series(target_valid_1.to_numpy()), pd.Series(predictions_valid_1), 200)\n",
        "print('максимальная выручка в регионе 1', profit_1)\n",
        "\n",
        "profit_2 = revenue(pd.Series(target_valid_2.to_numpy()), pd.Series(predictions_valid_2), 200)\n",
        "print('максимальная выручка в регионе 2', profit_2)"
      ]
    },
    {
      "cell_type": "markdown",
      "metadata": {
        "id": "M99w6aAAH3Lb"
      },
      "source": [
        "Если брать наибольшие показатели, предсказанные моделью линейной регрессии, то в нулевом регионе можно получить наибольшую прибыль"
      ]
    },
    {
      "cell_type": "markdown",
      "metadata": {
        "id": "CAgTOhK7H3Lb"
      },
      "source": [
        "## Расчёт прибыли и рисков "
      ]
    },
    {
      "cell_type": "code",
      "execution_count": null,
      "metadata": {
        "id": "jzQkBzprH3Lc"
      },
      "outputs": [],
      "source": [
        "state = np.random.RandomState(12345)\n",
        "def cost(target_, predictions_):\n",
        "    values = []\n",
        "    target = pd.Series(target_.to_numpy())\n",
        "    predictions = pd.Series(predictions_)\n",
        "    for i in range(1000):\n",
        "        target_subsample = target.sample(n=500, replace=True, random_state=state)    \n",
        "        probs_subsample = predictions[target_subsample.index]\n",
        "        values.append(revenue(target_subsample, probs_subsample, 200))\n",
        "    values = pd.Series(values)\n",
        "    return values"
      ]
    },
    {
      "cell_type": "code",
      "execution_count": null,
      "metadata": {
        "scrolled": true,
        "id": "7OCE1Ae_H3Lc"
      },
      "outputs": [],
      "source": [
        "values_0 = cost(target_valid_0, predictions_valid_0)\n",
        "values_1 = cost(target_valid_1, predictions_valid_1)\n",
        "values_2 = cost(target_valid_2, predictions_valid_2)"
      ]
    },
    {
      "cell_type": "code",
      "execution_count": null,
      "metadata": {
        "id": "jsKiCrbeH3Lc",
        "outputId": "01084f59-86a0-4579-c649-2b8c603dd9df"
      },
      "outputs": [
        {
          "name": "stdout",
          "output_type": "stream",
          "text": [
            "Средняя выручка 0го региона: 425.9385269105927\n",
            "2.5%-квантиль 0го региона: -102.09009483793592\n",
            "97.5%-квантиль 0го региона: 947.976353358369\n",
            "\n",
            "Средняя выручка 1го региона: 518.2594936973252\n",
            "2.5%-квантиль 1го региона: 128.12323143308453\n",
            "97.5%-квантиль 0го региона: 953.6129820669079\n",
            "\n",
            "Средняя выручка 2го региона: 420.19400534405037\n",
            "2.5%-квантиль 2го региона: -115.85260916001138\n",
            "97.5%-квантиль 0го региона: 989.6299398445756\n"
          ]
        }
      ],
      "source": [
        "print('Средняя выручка 0го региона:', values_0.mean())\n",
        "print(\"2.5%-квантиль 0го региона:\", values_0.quantile(0.025))\n",
        "print(\"97.5%-квантиль 0го региона:\", values_0.quantile(0.975))\n",
        "print()\n",
        "print('Средняя выручка 1го региона:', values_1.mean())\n",
        "print(\"2.5%-квантиль 1го региона:\", values_1.quantile(0.025))\n",
        "print(\"97.5%-квантиль 0го региона:\", values_1.quantile(0.975))\n",
        "print()\n",
        "print('Средняя выручка 2го региона:', values_2.mean())\n",
        "print(\"2.5%-квантиль 2го региона:\", values_2.quantile(0.025))\n",
        "print(\"97.5%-квантиль 0го региона:\", values_2.quantile(0.975))"
      ]
    },
    {
      "cell_type": "code",
      "execution_count": null,
      "metadata": {
        "id": "ecC3w7_5H3Ld",
        "outputId": "b7ddc061-e715-4070-e7a7-5d628576d445"
      },
      "outputs": [
        {
          "name": "stdout",
          "output_type": "stream",
          "text": [
            "риск убытков 0го региона: 6.0 %\n",
            "риск убытков 1го региона: 0.3 %\n",
            "риск убытков 2го региона: 6.2 %\n"
          ]
        }
      ],
      "source": [
        "print('риск убытков 0го региона:', values_0[values_0 < 0].count() * 100 / values_0.count(), '%')\n",
        "print('риск убытков 1го региона:', values_1[values_1 < 0].count() * 100 / values_1.count(), '%')\n",
        "print('риск убытков 2го региона:', values_2[values_2 < 0].count() * 100 / values_2.count(), '%')"
      ]
    },
    {
      "cell_type": "code",
      "execution_count": null,
      "metadata": {
        "id": "ib_xIQq2H3Ld",
        "outputId": "b964bdff-e3e0-4fe4-9aa5-11292c51837d"
      },
      "outputs": [
        {
          "name": "stdout",
          "output_type": "stream",
          "text": [
            "риск убытков 0го региона: 6.0 %\n",
            "риск убытков 1го региона: 0.3 %\n",
            "риск убытков 2го региона: 6.2 %\n"
          ]
        }
      ],
      "source": [
        "print('риск убытков 0го региона:', (values_0 < 0).mean() * 100, '%')\n",
        "print('риск убытков 1го региона:', (values_1 < 0).mean() * 100, '%')\n",
        "print('риск убытков 2го региона:', (values_2 < 0).mean() * 100, '%')"
      ]
    },
    {
      "cell_type": "markdown",
      "metadata": {
        "id": "lWxY0JEdH3Le"
      },
      "source": [
        "Средняя выручка во всех регионах выше затрат, однако только 1й находится в 95% доверительном интервале (более 10 000 млн). Наиболее удивительный факт для меня - в 1ом регионе риск получения убытка всего 0.8%. Именно там я советую разрабатывать скважины, ведь кроме низкого риска, там наибольшая средняя выручка.\n",
        "\n",
        "Скорее всего такие результаты получились, потому, что данные в первом регионе были созданны исскуственно и модель на них лучше училась.\n",
        "\n",
        "Спасибо за вашу работу!"
      ]
    }
  ],
  "metadata": {
    "ExecuteTimeLog": [
      {
        "duration": 420,
        "start_time": "2022-06-16T11:38:00.343Z"
      },
      {
        "duration": 1856,
        "start_time": "2022-06-16T11:38:18.959Z"
      },
      {
        "duration": 15,
        "start_time": "2022-06-16T12:21:52.632Z"
      },
      {
        "duration": 23,
        "start_time": "2022-06-16T12:22:19.732Z"
      },
      {
        "duration": 343,
        "start_time": "2022-06-16T12:23:29.790Z"
      },
      {
        "duration": 11,
        "start_time": "2022-06-16T12:23:36.744Z"
      },
      {
        "duration": 75,
        "start_time": "2022-06-16T12:24:21.983Z"
      },
      {
        "duration": 158744,
        "start_time": "2022-06-16T12:24:25.217Z"
      },
      {
        "duration": 438,
        "start_time": "2022-06-16T12:28:25.537Z"
      },
      {
        "duration": 143,
        "start_time": "2022-06-16T12:28:30.945Z"
      },
      {
        "duration": 655,
        "start_time": "2022-06-16T12:31:26.218Z"
      },
      {
        "duration": 663,
        "start_time": "2022-06-16T12:32:12.458Z"
      },
      {
        "duration": 14,
        "start_time": "2022-06-16T12:32:47.369Z"
      },
      {
        "duration": 7332,
        "start_time": "2022-06-16T12:33:03.257Z"
      },
      {
        "duration": 1368,
        "start_time": "2022-06-16T12:35:21.460Z"
      },
      {
        "duration": 681,
        "start_time": "2022-06-16T12:35:53.822Z"
      },
      {
        "duration": 16,
        "start_time": "2022-06-16T12:36:24.678Z"
      },
      {
        "duration": 7,
        "start_time": "2022-06-16T12:36:40.468Z"
      },
      {
        "duration": 8,
        "start_time": "2022-06-16T12:38:07.956Z"
      },
      {
        "duration": 10,
        "start_time": "2022-06-16T12:38:26.264Z"
      },
      {
        "duration": 6,
        "start_time": "2022-06-16T12:38:59.980Z"
      },
      {
        "duration": 31,
        "start_time": "2022-06-16T12:59:15.496Z"
      },
      {
        "duration": 3,
        "start_time": "2022-06-16T13:00:40.349Z"
      },
      {
        "duration": 11,
        "start_time": "2022-06-16T13:02:00.840Z"
      },
      {
        "duration": 544,
        "start_time": "2022-06-16T13:02:30.843Z"
      },
      {
        "duration": 4,
        "start_time": "2022-06-16T13:02:36.432Z"
      },
      {
        "duration": 68,
        "start_time": "2022-06-16T13:02:37.167Z"
      },
      {
        "duration": 2,
        "start_time": "2022-06-16T13:11:01.412Z"
      },
      {
        "duration": 23,
        "start_time": "2022-06-16T13:11:04.866Z"
      },
      {
        "duration": 62,
        "start_time": "2022-06-16T13:12:24.585Z"
      },
      {
        "duration": 27,
        "start_time": "2022-06-16T13:13:04.432Z"
      },
      {
        "duration": 31,
        "start_time": "2022-06-16T13:13:28.190Z"
      },
      {
        "duration": 9,
        "start_time": "2022-06-16T13:14:01.042Z"
      },
      {
        "duration": 3,
        "start_time": "2022-06-16T13:14:22.496Z"
      },
      {
        "duration": 58,
        "start_time": "2022-06-16T13:14:23.284Z"
      },
      {
        "duration": 11,
        "start_time": "2022-06-16T13:14:24.234Z"
      },
      {
        "duration": 15,
        "start_time": "2022-06-16T13:14:31.351Z"
      },
      {
        "duration": 4,
        "start_time": "2022-06-16T13:14:36.271Z"
      },
      {
        "duration": 179,
        "start_time": "2022-06-16T13:18:50.499Z"
      },
      {
        "duration": 3,
        "start_time": "2022-06-16T13:20:24.424Z"
      },
      {
        "duration": 35,
        "start_time": "2022-06-16T13:21:34.395Z"
      },
      {
        "duration": 21,
        "start_time": "2022-06-16T13:21:41.984Z"
      },
      {
        "duration": 56,
        "start_time": "2022-06-16T13:21:59.431Z"
      },
      {
        "duration": 45,
        "start_time": "2022-06-16T13:22:38.440Z"
      },
      {
        "duration": 4,
        "start_time": "2022-06-16T15:12:17.818Z"
      },
      {
        "duration": 10,
        "start_time": "2022-06-16T15:15:31.517Z"
      },
      {
        "duration": 45,
        "start_time": "2022-06-16T15:15:35.913Z"
      },
      {
        "duration": 8,
        "start_time": "2022-06-16T15:15:49.543Z"
      },
      {
        "duration": 9,
        "start_time": "2022-06-16T15:16:05.346Z"
      },
      {
        "duration": 8,
        "start_time": "2022-06-16T15:16:15.210Z"
      },
      {
        "duration": 7,
        "start_time": "2022-06-16T15:17:45.579Z"
      },
      {
        "duration": 15,
        "start_time": "2022-06-16T15:18:21.269Z"
      },
      {
        "duration": 3,
        "start_time": "2022-06-16T16:37:29.720Z"
      },
      {
        "duration": 13,
        "start_time": "2022-06-16T16:40:07.523Z"
      },
      {
        "duration": 16,
        "start_time": "2022-06-16T16:40:21.064Z"
      },
      {
        "duration": 10,
        "start_time": "2022-06-16T16:41:13.211Z"
      },
      {
        "duration": 6,
        "start_time": "2022-06-16T16:41:22.709Z"
      },
      {
        "duration": 10,
        "start_time": "2022-06-16T16:48:14.699Z"
      },
      {
        "duration": 6,
        "start_time": "2022-06-16T16:48:38.120Z"
      },
      {
        "duration": 4,
        "start_time": "2022-06-16T16:48:46.164Z"
      },
      {
        "duration": 17,
        "start_time": "2022-06-16T16:49:00.313Z"
      },
      {
        "duration": 15,
        "start_time": "2022-06-16T16:49:11.906Z"
      },
      {
        "duration": 16,
        "start_time": "2022-06-16T16:49:18.600Z"
      },
      {
        "duration": 51,
        "start_time": "2022-06-16T16:52:47.936Z"
      },
      {
        "duration": 3,
        "start_time": "2022-06-16T16:54:59.761Z"
      },
      {
        "duration": 17,
        "start_time": "2022-06-16T16:55:04.201Z"
      },
      {
        "duration": 174,
        "start_time": "2022-06-16T16:55:50.506Z"
      },
      {
        "duration": 11,
        "start_time": "2022-06-16T16:55:59.649Z"
      },
      {
        "duration": 5,
        "start_time": "2022-06-16T17:03:02.512Z"
      },
      {
        "duration": 5,
        "start_time": "2022-06-16T17:03:11.668Z"
      },
      {
        "duration": 12,
        "start_time": "2022-06-16T17:04:34.807Z"
      },
      {
        "duration": 13,
        "start_time": "2022-06-16T17:04:41.498Z"
      },
      {
        "duration": 14,
        "start_time": "2022-06-16T17:04:50.498Z"
      },
      {
        "duration": 4,
        "start_time": "2022-06-16T17:05:21.167Z"
      },
      {
        "duration": 10,
        "start_time": "2022-06-16T17:05:25.976Z"
      },
      {
        "duration": 10,
        "start_time": "2022-06-16T17:06:08.968Z"
      },
      {
        "duration": 15,
        "start_time": "2022-06-16T17:06:57.701Z"
      },
      {
        "duration": 14,
        "start_time": "2022-06-16T17:08:29.053Z"
      },
      {
        "duration": 12,
        "start_time": "2022-06-16T17:08:42.674Z"
      },
      {
        "duration": 8,
        "start_time": "2022-06-16T17:09:43.998Z"
      },
      {
        "duration": 1522,
        "start_time": "2022-06-16T17:10:23.128Z"
      },
      {
        "duration": 1368,
        "start_time": "2022-06-16T17:17:56.417Z"
      },
      {
        "duration": 1296,
        "start_time": "2022-06-16T17:18:45.749Z"
      },
      {
        "duration": 1239,
        "start_time": "2022-06-16T17:19:08.997Z"
      },
      {
        "duration": 1289,
        "start_time": "2022-06-16T17:25:44.472Z"
      },
      {
        "duration": 1336,
        "start_time": "2022-06-16T17:26:57.392Z"
      },
      {
        "duration": 1316,
        "start_time": "2022-06-16T17:27:11.300Z"
      },
      {
        "duration": 1315,
        "start_time": "2022-06-16T17:27:29.401Z"
      },
      {
        "duration": 1345,
        "start_time": "2022-06-16T17:27:55.105Z"
      },
      {
        "duration": 1339,
        "start_time": "2022-06-16T17:28:04.769Z"
      },
      {
        "duration": 3,
        "start_time": "2022-06-16T18:34:12.908Z"
      },
      {
        "duration": 4,
        "start_time": "2022-06-16T18:34:30.655Z"
      },
      {
        "duration": 4,
        "start_time": "2022-06-16T18:34:39.707Z"
      },
      {
        "duration": 1287,
        "start_time": "2022-06-16T18:43:51.154Z"
      },
      {
        "duration": 1402,
        "start_time": "2022-06-16T18:44:35.167Z"
      },
      {
        "duration": 6,
        "start_time": "2022-06-16T18:45:19.145Z"
      },
      {
        "duration": 6,
        "start_time": "2022-06-16T18:46:25.054Z"
      },
      {
        "duration": 11,
        "start_time": "2022-06-16T18:52:39.535Z"
      },
      {
        "duration": 3,
        "start_time": "2022-06-16T18:53:10.535Z"
      },
      {
        "duration": 27,
        "start_time": "2022-06-16T18:53:11.161Z"
      },
      {
        "duration": 4,
        "start_time": "2022-06-16T18:54:37.620Z"
      },
      {
        "duration": 14,
        "start_time": "2022-06-16T18:54:38.338Z"
      },
      {
        "duration": 4,
        "start_time": "2022-06-16T18:54:43.654Z"
      },
      {
        "duration": 17,
        "start_time": "2022-06-16T18:54:44.789Z"
      },
      {
        "duration": 18,
        "start_time": "2022-06-16T18:56:20.512Z"
      },
      {
        "duration": 172,
        "start_time": "2022-06-16T18:59:35.911Z"
      },
      {
        "duration": 28,
        "start_time": "2022-06-16T19:00:56.249Z"
      },
      {
        "duration": 21,
        "start_time": "2022-06-16T19:01:21.731Z"
      },
      {
        "duration": 5,
        "start_time": "2022-06-16T19:01:42.699Z"
      },
      {
        "duration": 27,
        "start_time": "2022-06-16T19:01:44.067Z"
      },
      {
        "duration": 5,
        "start_time": "2022-06-16T19:10:10.237Z"
      },
      {
        "duration": 47,
        "start_time": "2022-06-16T19:10:11.155Z"
      },
      {
        "duration": 5,
        "start_time": "2022-06-16T19:16:02.737Z"
      },
      {
        "duration": 95,
        "start_time": "2022-06-16T19:16:03.168Z"
      },
      {
        "duration": 224,
        "start_time": "2022-06-16T19:16:03.775Z"
      },
      {
        "duration": 4,
        "start_time": "2022-06-16T19:16:16.232Z"
      },
      {
        "duration": 42,
        "start_time": "2022-06-16T19:16:17.164Z"
      },
      {
        "duration": 4,
        "start_time": "2022-06-16T19:19:29.228Z"
      },
      {
        "duration": 30,
        "start_time": "2022-06-16T19:20:26.008Z"
      },
      {
        "duration": 6,
        "start_time": "2022-06-16T19:20:29.929Z"
      },
      {
        "duration": 1588,
        "start_time": "2022-06-16T19:20:30.857Z"
      },
      {
        "duration": 4965,
        "start_time": "2022-06-16T19:20:40.606Z"
      },
      {
        "duration": 16,
        "start_time": "2022-06-16T19:23:43.708Z"
      },
      {
        "duration": 6,
        "start_time": "2022-06-16T19:25:56.528Z"
      },
      {
        "duration": 8,
        "start_time": "2022-06-16T19:26:08.147Z"
      },
      {
        "duration": 9,
        "start_time": "2022-06-16T19:26:23.012Z"
      },
      {
        "duration": 5,
        "start_time": "2022-06-16T19:26:28.666Z"
      },
      {
        "duration": 9,
        "start_time": "2022-06-16T19:26:50.513Z"
      },
      {
        "duration": 5,
        "start_time": "2022-06-16T19:27:59.530Z"
      },
      {
        "duration": 6,
        "start_time": "2022-06-16T19:28:13.012Z"
      },
      {
        "duration": 5,
        "start_time": "2022-06-16T19:28:33.457Z"
      },
      {
        "duration": 8,
        "start_time": "2022-06-16T19:30:04.167Z"
      },
      {
        "duration": 45,
        "start_time": "2022-06-17T09:23:23.086Z"
      },
      {
        "duration": 1388,
        "start_time": "2022-06-17T09:32:17.392Z"
      },
      {
        "duration": 1180,
        "start_time": "2022-06-17T09:32:21.148Z"
      },
      {
        "duration": 453,
        "start_time": "2022-06-17T09:32:28.506Z"
      },
      {
        "duration": 5,
        "start_time": "2022-06-17T09:32:40.298Z"
      },
      {
        "duration": 60,
        "start_time": "2022-06-17T09:32:43.667Z"
      },
      {
        "duration": 290,
        "start_time": "2022-06-17T09:32:45.505Z"
      },
      {
        "duration": 3,
        "start_time": "2022-06-17T09:32:50.677Z"
      },
      {
        "duration": 7,
        "start_time": "2022-06-17T09:33:03.665Z"
      },
      {
        "duration": 18,
        "start_time": "2022-06-17T09:33:06.660Z"
      },
      {
        "duration": 3,
        "start_time": "2022-06-17T09:33:14.195Z"
      },
      {
        "duration": 18,
        "start_time": "2022-06-17T09:33:17.465Z"
      },
      {
        "duration": 5,
        "start_time": "2022-06-17T09:33:24.085Z"
      },
      {
        "duration": 4133,
        "start_time": "2022-06-17T09:33:27.423Z"
      },
      {
        "duration": 12,
        "start_time": "2022-06-17T09:33:31.558Z"
      },
      {
        "duration": 7,
        "start_time": "2022-06-17T09:33:51.558Z"
      },
      {
        "duration": 7,
        "start_time": "2022-06-17T09:33:53.431Z"
      },
      {
        "duration": 6,
        "start_time": "2022-06-17T09:34:21.868Z"
      },
      {
        "duration": 7,
        "start_time": "2022-06-17T09:34:25.006Z"
      },
      {
        "duration": 5,
        "start_time": "2022-06-17T09:34:59.312Z"
      },
      {
        "duration": 5,
        "start_time": "2022-06-17T09:35:17.464Z"
      },
      {
        "duration": 6,
        "start_time": "2022-06-17T09:35:47.708Z"
      }
    ],
    "kernelspec": {
      "display_name": "Python 3 (ipykernel)",
      "language": "python",
      "name": "python3"
    },
    "language_info": {
      "codemirror_mode": {
        "name": "ipython",
        "version": 3
      },
      "file_extension": ".py",
      "mimetype": "text/x-python",
      "name": "python",
      "nbconvert_exporter": "python",
      "pygments_lexer": "ipython3",
      "version": "3.9.5"
    },
    "toc": {
      "base_numbering": 1,
      "nav_menu": {},
      "number_sections": true,
      "sideBar": true,
      "skip_h1_title": true,
      "title_cell": "Table of Contents",
      "title_sidebar": "Contents",
      "toc_cell": false,
      "toc_position": {},
      "toc_section_display": true,
      "toc_window_display": false
    },
    "colab": {
      "provenance": [],
      "collapsed_sections": []
    }
  },
  "nbformat": 4,
  "nbformat_minor": 0
}